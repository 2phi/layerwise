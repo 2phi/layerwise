{
 "cells": [
  {
   "cell_type": "markdown",
   "id": "b89b0130",
   "metadata": {},
   "source": [
    "# Eval WEAC\n",
    "\n",
    "Initialize models, run over a resolution of 5cm with a standardized weak layer.\n"
   ]
  },
  {
   "cell_type": "code",
   "execution_count": 1,
   "id": "702d9bf5",
   "metadata": {},
   "outputs": [],
   "source": [
    "# Auto reload modules\n",
    "%load_ext autoreload\n",
    "%autoreload all"
   ]
  },
  {
   "cell_type": "code",
   "execution_count": 2,
   "id": "1e07d9a5",
   "metadata": {},
   "outputs": [],
   "source": [
    "import os\n",
    "from typing import List\n",
    "import numpy as np\n",
    "from numpy.linalg import LinAlgError\n",
    "import pandas as pd\n",
    "from pprint import pprint\n",
    "import copy\n",
    "from tqdm.notebook import tqdm\n",
    "\n",
    "from weac_2.analysis import Analyzer, CriteriaEvaluator, CoupledCriterionResult, SSERRResult\n",
    "from weac_2.core.system_model import SystemModel\n",
    "from weac_2.components import ModelInput, Segment, ScenarioConfig, WeakLayer, Layer, CriteriaConfig\n",
    "from weac_2.utils.snowpilot_parser import SnowPilotParser, convert_to_mm, convert_to_deg"
   ]
  },
  {
   "cell_type": "code",
   "execution_count": 3,
   "id": "ca4092ad",
   "metadata": {},
   "outputs": [
    {
     "name": "stdout",
     "output_type": "stream",
     "text": [
      "\n",
      "Found 100 files\n"
     ]
    }
   ],
   "source": [
    "number_of_files = 100\n",
    "\n",
    "# Process multiple files\n",
    "file_paths = []\n",
    "for directory in os.listdir(\"data/snowpits\"):\n",
    "    for file in os.listdir(f\"data/snowpits/{directory}\"):\n",
    "        if file.endswith(\".xml\"):\n",
    "            file_paths.append(f\"data/snowpits/{directory}/{file}\")\n",
    "\n",
    "paths: List[str] = []\n",
    "parsers: List[SnowPilotParser] = []\n",
    "\n",
    "for file_path in file_paths[:number_of_files]:\n",
    "    snowpilot_parser = SnowPilotParser(file_path)\n",
    "    paths.append(file_path)\n",
    "    parsers.append(snowpilot_parser)\n",
    "\n",
    "print(f\"\\nFound {len(paths)} files\")"
   ]
  },
  {
   "cell_type": "code",
   "execution_count": 4,
   "id": "1c50535a",
   "metadata": {},
   "outputs": [],
   "source": [
    "# Setup standard values\n",
    "wl_spacing = 50 # mm\n",
    "phi = 0.0\n",
    "standard_scenario_config = ScenarioConfig(system_type=\"skier\", phi=phi)\n",
    "standard_weak_layer = WeakLayer(rho=125, h=20, E=1.0, sigma_c=6.16, tau_c=5.09)\n",
    "standard_segments = [\n",
    "    Segment(length=10000, has_foundation=True, m=0.0),\n",
    "    Segment(\n",
    "        length=10000,\n",
    "        has_foundation=True,\n",
    "        m=0.0,\n",
    "    ),\n",
    "]\n",
    "standard_criteria_config = CriteriaConfig()\n",
    "standard_criteria_evaluator = CriteriaEvaluator(standard_criteria_config)"
   ]
  },
  {
   "cell_type": "code",
   "execution_count": null,
   "id": "29a5c086",
   "metadata": {},
   "outputs": [
    {
     "data": {
      "application/vnd.jupyter.widget-view+json": {
       "model_id": "d468ca2f9a554559b19969f1886582c3",
       "version_major": 2,
       "version_minor": 0
      },
      "text/plain": [
       "Processing files:   0%|          | 0/1 [00:00<?, ?it/s]"
      ]
     },
     "metadata": {},
     "output_type": "display_data"
    },
    {
     "name": "stdout",
     "output_type": "stream",
     "text": [
      "layers:  [Layer(rho=101.0, h=100.0, nu=0.25, E=0.3963944665536936, G=0.15855778662147743, tensile_strength=1.103877672602255, tensile_strength_method='sigrist', E_method='bergfeld', grain_type='DF', grain_size=None, hand_hardness='F'), Layer(rho=173.0, h=170.0, nu=0.25, E=4.231714820461142, G=1.6926859281844568, tensile_strength=4.1040183019389715, tensile_strength_method='sigrist', E_method='bergfeld', grain_type='DF', grain_size=None, hand_hardness='1F'), Layer(rho=137.0, h=30.0, nu=0.25, E=1.515947056821604, G=0.6063788227286416, tensile_strength=2.3226029915382136, tensile_strength_method='sigrist', E_method='bergfeld', grain_type='DF', grain_size=None, hand_hardness='4F'), Layer(rho=209.0, h=300.0, nu=0.25, E=9.722035388607377, G=3.888814155442951, tensile_strength=6.509291720550219, tensile_strength_method='sigrist', E_method='bergfeld', grain_type='DF', grain_size=None, hand_hardness='P'), Layer(rho=163.7, h=20.0, nu=0.25, E=3.318392308727041, G=1.3273569234908165, tensile_strength=3.586373980194787, tensile_strength_method='sigrist', E_method='bergfeld', grain_type=None, grain_size=None, hand_hardness='4F+'), Layer(rho=292.25, h=2380.0, nu=0.25, E=42.50435458798165, G=17.00174183519266, tensile_strength=14.750876454728399, tensile_strength_method='sigrist', E_method='bergfeld', grain_type='MFcr', grain_size=None, hand_hardness='P+')]\n"
     ]
    },
    {
     "data": {
      "application/vnd.jupyter.widget-view+json": {
       "model_id": "a8e131ae964742d1b2b1fd872c699ad4",
       "version_major": 2,
       "version_minor": 0
      },
      "text/plain": [
       "Processing weak layers:   0%|          | 0/60 [00:00<?, ?it/s]"
      ]
     },
     "metadata": {},
     "output_type": "display_data"
    },
    {
     "name": "stdout",
     "output_type": "stream",
     "text": [
      "--- find_minimum_force Call Statistics ---\n",
      "- rasterize_solution: called 16 times, total time 1.0481s, avg time 0.0655s\n",
      "---------------------------------\n",
      "--- evaluate_coupled_criterion Call Statistics ---\n",
      "- rasterize_solution: called 15 times, total time 0.9749s, avg time 0.0650s\n",
      "- incremental_ERR: called 16 times, total time 0.1109s, avg time 0.0069s\n",
      "---------------------------------\n",
      "sserr_result:  SSERRResult(converged=True, message='SSERR evaluation successful.', touchdown_distance=340.9303286056396, SSERR=0.2801979593274234)\n",
      "--- find_minimum_force Call Statistics ---\n",
      "- rasterize_solution: called 15 times, total time 0.9225s, avg time 0.0615s\n",
      "---------------------------------\n",
      "--- evaluate_coupled_criterion Call Statistics ---\n",
      "- rasterize_solution: called 15 times, total time 0.9267s, avg time 0.0618s\n",
      "- incremental_ERR: called 16 times, total time 0.1047s, avg time 0.0065s\n",
      "---------------------------------\n",
      "sserr_result:  SSERRResult(converged=True, message='SSERR evaluation successful.', touchdown_distance=456.3921355891057, SSERR=0.5348932605163854)\n",
      "--- find_minimum_force Call Statistics ---\n",
      "- rasterize_solution: called 13 times, total time 0.9100s, avg time 0.0700s\n",
      "---------------------------------\n",
      "--- evaluate_coupled_criterion Call Statistics ---\n",
      "- rasterize_solution: called 14 times, total time 1.0192s, avg time 0.0728s\n",
      "- incremental_ERR: called 15 times, total time 0.1057s, avg time 0.0070s\n",
      "---------------------------------\n",
      "sserr_result:  SSERRResult(converged=True, message='SSERR evaluation successful.', touchdown_distance=685.7572374207093, SSERR=0.8502275046110237)\n",
      "--- find_minimum_force Call Statistics ---\n",
      "- rasterize_solution: called 13 times, total time 0.9133s, avg time 0.0703s\n",
      "---------------------------------\n",
      "--- evaluate_coupled_criterion Call Statistics ---\n",
      "- rasterize_solution: called 15 times, total time 1.0584s, avg time 0.0706s\n",
      "- incremental_ERR: called 16 times, total time 0.1137s, avg time 0.0071s\n",
      "---------------------------------\n",
      "sserr_result:  SSERRResult(converged=True, message='SSERR evaluation successful.', touchdown_distance=794.9664493571424, SSERR=1.2313439573192637)\n",
      "--- find_minimum_force Call Statistics ---\n",
      "- rasterize_solution: called 12 times, total time 0.8378s, avg time 0.0698s\n",
      "---------------------------------\n",
      "--- evaluate_coupled_criterion Call Statistics ---\n",
      "- rasterize_solution: called 15 times, total time 1.0400s, avg time 0.0693s\n",
      "- incremental_ERR: called 16 times, total time 0.1115s, avg time 0.0070s\n",
      "---------------------------------\n",
      "sserr_result:  SSERRResult(converged=True, message='SSERR evaluation successful.', touchdown_distance=905.856950452892, SSERR=1.6163200282825412)\n",
      "--- find_minimum_force Call Statistics ---\n",
      "- rasterize_solution: called 12 times, total time 0.8203s, avg time 0.0684s\n",
      "---------------------------------\n",
      "--- evaluate_coupled_criterion Call Statistics ---\n",
      "- rasterize_solution: called 15 times, total time 1.0287s, avg time 0.0686s\n",
      "- incremental_ERR: called 16 times, total time 0.1091s, avg time 0.0068s\n",
      "---------------------------------\n",
      "sserr_result:  SSERRResult(converged=True, message='SSERR evaluation successful.', touchdown_distance=955.4715447227535, SSERR=1.9698974869466237)\n",
      "--- find_minimum_force Call Statistics ---\n",
      "- rasterize_solution: called 12 times, total time 0.8979s, avg time 0.0748s\n",
      "---------------------------------\n",
      "--- evaluate_coupled_criterion Call Statistics ---\n",
      "- rasterize_solution: called 10 times, total time 0.6803s, avg time 0.0680s\n",
      "- incremental_ERR: called 11 times, total time 0.0748s, avg time 0.0068s\n",
      "---------------------------------\n",
      "sserr_result:  SSERRResult(converged=True, message='SSERR evaluation successful.', touchdown_distance=1184.087316410105, SSERR=2.3917003708574227)\n",
      "--- find_minimum_force Call Statistics ---\n",
      "- rasterize_solution: called 11 times, total time 0.7061s, avg time 0.0642s\n",
      "---------------------------------\n",
      "--- evaluate_coupled_criterion Call Statistics ---\n",
      "- rasterize_solution: called 14 times, total time 0.9291s, avg time 0.0664s\n",
      "- incremental_ERR: called 15 times, total time 0.0984s, avg time 0.0066s\n",
      "---------------------------------\n",
      "sserr_result:  SSERRResult(converged=True, message='SSERR evaluation successful.', touchdown_distance=1293.5237515073652, SSERR=2.8384429121821686)\n",
      "--- find_minimum_force Call Statistics ---\n",
      "- rasterize_solution: called 11 times, total time 0.7319s, avg time 0.0665s\n",
      "---------------------------------\n",
      "--- evaluate_coupled_criterion Call Statistics ---\n",
      "- rasterize_solution: called 14 times, total time 0.9240s, avg time 0.0660s\n",
      "- incremental_ERR: called 15 times, total time 0.0985s, avg time 0.0066s\n",
      "---------------------------------\n",
      "sserr_result:  SSERRResult(converged=True, message='SSERR evaluation successful.', touchdown_distance=1377.500708897982, SSERR=3.2920045127556627)\n",
      "--- find_minimum_force Call Statistics ---\n",
      "- rasterize_solution: called 11 times, total time 0.7726s, avg time 0.0702s\n",
      "---------------------------------\n",
      "--- evaluate_coupled_criterion Call Statistics ---\n",
      "- rasterize_solution: called 14 times, total time 1.2391s, avg time 0.0885s\n",
      "- incremental_ERR: called 15 times, total time 0.1343s, avg time 0.0090s\n",
      "---------------------------------\n",
      "sserr_result:  SSERRResult(converged=True, message='SSERR evaluation successful.', touchdown_distance=1451.9476817521809, SSERR=3.748376303056169)\n",
      "--- find_minimum_force Call Statistics ---\n",
      "- rasterize_solution: called 11 times, total time 1.1093s, avg time 0.1008s\n",
      "---------------------------------\n",
      "--- evaluate_coupled_criterion Call Statistics ---\n",
      "- rasterize_solution: called 15 times, total time 1.5399s, avg time 0.1027s\n",
      "- incremental_ERR: called 16 times, total time 0.1712s, avg time 0.0107s\n",
      "---------------------------------\n",
      "sserr_result:  SSERRResult(converged=True, message='SSERR evaluation successful.', touchdown_distance=1521.2583942394156, SSERR=4.206031982637832)\n",
      "--- find_minimum_force Call Statistics ---\n",
      "- rasterize_solution: called 10 times, total time 0.6873s, avg time 0.0687s\n",
      "---------------------------------\n",
      "--- evaluate_coupled_criterion Call Statistics ---\n",
      "- rasterize_solution: called 14 times, total time 1.2378s, avg time 0.0884s\n",
      "- incremental_ERR: called 15 times, total time 0.1365s, avg time 0.0091s\n",
      "---------------------------------\n",
      "sserr_result:  SSERRResult(converged=True, message='SSERR evaluation successful.', touchdown_distance=1586.8275809911938, SSERR=4.664211604332358)\n",
      "--- find_minimum_force Call Statistics ---\n",
      "- rasterize_solution: called 10 times, total time 0.8739s, avg time 0.0874s\n",
      "---------------------------------\n",
      "--- evaluate_coupled_criterion Call Statistics ---\n",
      "- rasterize_solution: called 13 times, total time 1.1074s, avg time 0.0852s\n",
      "- incremental_ERR: called 14 times, total time 0.1134s, avg time 0.0081s\n",
      "---------------------------------\n",
      "sserr_result:  SSERRResult(converged=True, message='SSERR evaluation successful.', touchdown_distance=1791.9995605314436, SSERR=5.139421385592846)\n",
      "--- find_minimum_force Call Statistics ---\n",
      "- rasterize_solution: called 10 times, total time 0.8292s, avg time 0.0829s\n",
      "---------------------------------\n",
      "--- evaluate_coupled_criterion Call Statistics ---\n",
      "- rasterize_solution: called 14 times, total time 1.1138s, avg time 0.0796s\n",
      "- incremental_ERR: called 15 times, total time 0.1176s, avg time 0.0078s\n",
      "---------------------------------\n",
      "sserr_result:  SSERRResult(converged=True, message='SSERR evaluation successful.', touchdown_distance=1965.075447234066, SSERR=5.730822389942306)\n",
      "--- find_minimum_force Call Statistics ---\n",
      "- rasterize_solution: called 9 times, total time 0.7976s, avg time 0.0886s\n",
      "---------------------------------\n",
      "--- evaluate_coupled_criterion Call Statistics ---\n",
      "- rasterize_solution: called 15 times, total time 1.2604s, avg time 0.0840s\n",
      "- incremental_ERR: called 16 times, total time 0.1366s, avg time 0.0085s\n",
      "---------------------------------\n",
      "sserr_result:  SSERRResult(converged=True, message='SSERR evaluation successful.', touchdown_distance=2072.514794576522, SSERR=6.342002793522919)\n",
      "--- find_minimum_force Call Statistics ---\n",
      "- rasterize_solution: called 9 times, total time 0.6025s, avg time 0.0669s\n",
      "---------------------------------\n",
      "--- evaluate_coupled_criterion Call Statistics ---\n",
      "- rasterize_solution: called 12 times, total time 0.8000s, avg time 0.0667s\n",
      "- incremental_ERR: called 13 times, total time 0.0869s, avg time 0.0067s\n",
      "---------------------------------\n",
      "sserr_result:  SSERRResult(converged=True, message='SSERR evaluation successful.', touchdown_distance=2156.5253076297317, SSERR=6.959859725591557)\n",
      "--- find_minimum_force Call Statistics ---\n",
      "- rasterize_solution: called 9 times, total time 0.5873s, avg time 0.0653s\n",
      "---------------------------------\n",
      "--- evaluate_coupled_criterion Call Statistics ---\n",
      "- rasterize_solution: called 15 times, total time 1.0639s, avg time 0.0709s\n",
      "- incremental_ERR: called 16 times, total time 0.1242s, avg time 0.0078s\n",
      "---------------------------------\n",
      "sserr_result:  SSERRResult(converged=True, message='SSERR evaluation successful.', touchdown_distance=2231.0080991626305, SSERR=7.580567032402083)\n",
      "--- find_minimum_force Call Statistics ---\n",
      "- rasterize_solution: called 9 times, total time 0.6883s, avg time 0.0765s\n",
      "---------------------------------\n",
      "--- evaluate_coupled_criterion Call Statistics ---\n",
      "- rasterize_solution: called 9 times, total time 0.6436s, avg time 0.0715s\n",
      "- incremental_ERR: called 10 times, total time 0.0761s, avg time 0.0076s\n",
      "---------------------------------\n",
      "sserr_result:  SSERRResult(converged=True, message='SSERR evaluation successful.', touchdown_distance=2301.605808134264, SSERR=8.20256689269236)\n",
      "--- find_minimum_force Call Statistics ---\n",
      "- rasterize_solution: called 9 times, total time 0.6534s, avg time 0.0726s\n",
      "---------------------------------\n",
      "--- evaluate_coupled_criterion Call Statistics ---\n",
      "- rasterize_solution: called 12 times, total time 0.9002s, avg time 0.0750s\n",
      "- incremental_ERR: called 13 times, total time 0.0922s, avg time 0.0071s\n",
      "---------------------------------\n",
      "sserr_result:  SSERRResult(converged=True, message='SSERR evaluation successful.', touchdown_distance=2370.7359795420443, SSERR=8.825079900095483)\n",
      "--- find_minimum_force Call Statistics ---\n",
      "- rasterize_solution: called 8 times, total time 0.5592s, avg time 0.0699s\n",
      "---------------------------------\n",
      "--- evaluate_coupled_criterion Call Statistics ---\n",
      "- rasterize_solution: called 15 times, total time 1.0953s, avg time 0.0730s\n",
      "- incremental_ERR: called 16 times, total time 0.1194s, avg time 0.0075s\n",
      "---------------------------------\n",
      "sserr_result:  SSERRResult(converged=True, message='SSERR evaluation successful.', touchdown_distance=2439.4004525660976, SSERR=9.447658244013775)\n",
      "--- find_minimum_force Call Statistics ---\n",
      "- rasterize_solution: called 8 times, total time 0.5684s, avg time 0.0711s\n",
      "---------------------------------\n",
      "--- evaluate_coupled_criterion Call Statistics ---\n",
      "- rasterize_solution: called 10 times, total time 0.7194s, avg time 0.0719s\n",
      "- incremental_ERR: called 11 times, total time 0.0793s, avg time 0.0072s\n",
      "---------------------------------\n",
      "sserr_result:  SSERRResult(converged=True, message='SSERR evaluation successful.', touchdown_distance=2507.963887908616, SSERR=10.070020130358609)\n",
      "--- find_minimum_force Call Statistics ---\n",
      "- rasterize_solution: called 8 times, total time 0.5579s, avg time 0.0697s\n",
      "---------------------------------\n",
      "--- evaluate_coupled_criterion Call Statistics ---\n",
      "- rasterize_solution: called 15 times, total time 0.9836s, avg time 0.0656s\n",
      "- incremental_ERR: called 16 times, total time 0.1058s, avg time 0.0066s\n",
      "---------------------------------\n",
      "sserr_result:  SSERRResult(converged=True, message='SSERR evaluation successful.', touchdown_distance=2576.5193547205145, SSERR=10.691978059721649)\n",
      "--- find_minimum_force Call Statistics ---\n",
      "- rasterize_solution: called 8 times, total time 0.5240s, avg time 0.0655s\n",
      "---------------------------------\n",
      "--- evaluate_coupled_criterion Call Statistics ---\n",
      "- rasterize_solution: called 13 times, total time 0.8599s, avg time 0.0661s\n",
      "- incremental_ERR: called 14 times, total time 0.0943s, avg time 0.0067s\n",
      "---------------------------------\n",
      "sserr_result:  SSERRResult(converged=True, message='SSERR evaluation successful.', touchdown_distance=2645.064874182861, SSERR=11.313405201924766)\n",
      "--- find_minimum_force Call Statistics ---\n",
      "- rasterize_solution: called 8 times, total time 0.5206s, avg time 0.0651s\n",
      "---------------------------------\n",
      "--- evaluate_coupled_criterion Call Statistics ---\n",
      "- rasterize_solution: called 13 times, total time 0.8846s, avg time 0.0680s\n",
      "- incremental_ERR: called 14 times, total time 0.0958s, avg time 0.0068s\n",
      "---------------------------------\n",
      "sserr_result:  SSERRResult(converged=True, message='SSERR evaluation successful.', touchdown_distance=2713.5869054860173, SSERR=11.934221523447787)\n",
      "--- find_minimum_force Call Statistics ---\n",
      "- rasterize_solution: called 8 times, total time 0.5186s, avg time 0.0648s\n",
      "---------------------------------\n",
      "--- evaluate_coupled_criterion Call Statistics ---\n",
      "- rasterize_solution: called 15 times, total time 0.9771s, avg time 0.0651s\n",
      "- incremental_ERR: called 16 times, total time 0.1045s, avg time 0.0065s\n",
      "---------------------------------\n",
      "sserr_result:  SSERRResult(converged=True, message='SSERR evaluation successful.', touchdown_distance=2782.096581025633, SSERR=12.554392962804656)\n",
      "--- find_minimum_force Call Statistics ---\n",
      "- rasterize_solution: called 8 times, total time 0.5311s, avg time 0.0664s\n",
      "---------------------------------\n",
      "--- evaluate_coupled_criterion Call Statistics ---\n",
      "- rasterize_solution: called 11 times, total time 0.7193s, avg time 0.0654s\n",
      "- incremental_ERR: called 12 times, total time 0.0782s, avg time 0.0065s\n",
      "---------------------------------\n",
      "sserr_result:  SSERRResult(converged=True, message='SSERR evaluation successful.', touchdown_distance=2850.6420119705667, SSERR=13.173940435615343)\n",
      "--- find_minimum_force Call Statistics ---\n",
      "- rasterize_solution: called 8 times, total time 0.5194s, avg time 0.0649s\n",
      "---------------------------------\n",
      "--- evaluate_coupled_criterion Call Statistics ---\n",
      "- rasterize_solution: called 14 times, total time 0.9091s, avg time 0.0649s\n",
      "- incremental_ERR: called 15 times, total time 0.0970s, avg time 0.0065s\n",
      "---------------------------------\n",
      "sserr_result:  SSERRResult(converged=True, message='SSERR evaluation successful.', touchdown_distance=2919.3089897701307, SSERR=13.792956357266434)\n",
      "--- find_minimum_force Call Statistics ---\n",
      "- rasterize_solution: called 8 times, total time 0.5249s, avg time 0.0656s\n",
      "---------------------------------\n",
      "--- evaluate_coupled_criterion Call Statistics ---\n",
      "- rasterize_solution: called 14 times, total time 0.9216s, avg time 0.0658s\n",
      "- incremental_ERR: called 15 times, total time 0.1100s, avg time 0.0073s\n",
      "---------------------------------\n",
      "sserr_result:  SSERRResult(converged=True, message='SSERR evaluation successful.', touchdown_distance=2985.292108201615, SSERR=14.411030700336406)\n",
      "--- find_minimum_force Call Statistics ---\n",
      "- rasterize_solution: called 8 times, total time 0.5177s, avg time 0.0647s\n",
      "---------------------------------\n",
      "--- evaluate_coupled_criterion Call Statistics ---\n",
      "- rasterize_solution: called 14 times, total time 0.9926s, avg time 0.0709s\n",
      "- incremental_ERR: called 15 times, total time 0.1022s, avg time 0.0068s\n",
      "---------------------------------\n",
      "sserr_result:  SSERRResult(converged=True, message='SSERR evaluation successful.', touchdown_distance=3036.698791924795, SSERR=15.025263420827875)\n",
      "--- find_minimum_force Call Statistics ---\n",
      "- rasterize_solution: called 8 times, total time 0.5423s, avg time 0.0678s\n",
      "---------------------------------\n",
      "--- evaluate_coupled_criterion Call Statistics ---\n",
      "- rasterize_solution: called 5 times, total time 0.3437s, avg time 0.0687s\n",
      "- incremental_ERR: called 6 times, total time 0.0420s, avg time 0.0070s\n",
      "---------------------------------\n",
      "sserr_result:  SSERRResult(converged=True, message='SSERR evaluation successful.', touchdown_distance=3085.9455925240027, SSERR=15.637577998519358)\n",
      "--- find_minimum_force Call Statistics ---\n",
      "- rasterize_solution: called 8 times, total time 0.6116s, avg time 0.0764s\n",
      "---------------------------------\n",
      "--- evaluate_coupled_criterion Call Statistics ---\n",
      "- rasterize_solution: called 12 times, total time 0.8178s, avg time 0.0681s\n",
      "- incremental_ERR: called 13 times, total time 0.0897s, avg time 0.0069s\n",
      "---------------------------------\n",
      "sserr_result:  SSERRResult(converged=True, message='SSERR evaluation successful.', touchdown_distance=3132.989733073824, SSERR=16.24773177119566)\n",
      "--- find_minimum_force Call Statistics ---\n",
      "- rasterize_solution: called 8 times, total time 0.5500s, avg time 0.0687s\n",
      "---------------------------------\n",
      "--- evaluate_coupled_criterion Call Statistics ---\n",
      "- rasterize_solution: called 11 times, total time 0.7430s, avg time 0.0675s\n",
      "- incremental_ERR: called 12 times, total time 0.0808s, avg time 0.0067s\n",
      "---------------------------------\n",
      "sserr_result:  SSERRResult(converged=True, message='SSERR evaluation successful.', touchdown_distance=3177.784253333449, SSERR=16.855497003880995)\n",
      "--- find_minimum_force Call Statistics ---\n",
      "- rasterize_solution: called 8 times, total time 0.5269s, avg time 0.0659s\n",
      "---------------------------------\n",
      "--- evaluate_coupled_criterion Call Statistics ---\n",
      "- rasterize_solution: called 12 times, total time 0.8262s, avg time 0.0689s\n",
      "- incremental_ERR: called 13 times, total time 0.0887s, avg time 0.0068s\n",
      "---------------------------------\n",
      "sserr_result:  SSERRResult(converged=True, message='SSERR evaluation successful.', touchdown_distance=3220.2753467145135, SSERR=17.460670056224302)\n",
      "--- find_minimum_force Call Statistics ---\n",
      "- rasterize_solution: called 8 times, total time 0.5309s, avg time 0.0664s\n",
      "---------------------------------\n",
      "--- evaluate_coupled_criterion Call Statistics ---\n",
      "- rasterize_solution: called 14 times, total time 0.9838s, avg time 0.0703s\n",
      "- incremental_ERR: called 15 times, total time 0.1003s, avg time 0.0067s\n",
      "---------------------------------\n",
      "sserr_result:  SSERRResult(converged=True, message='SSERR evaluation successful.', touchdown_distance=3260.4010169344674, SSERR=18.06308084857112)\n",
      "--- find_minimum_force Call Statistics ---\n",
      "- rasterize_solution: called 8 times, total time 0.5491s, avg time 0.0686s\n",
      "---------------------------------\n",
      "--- evaluate_coupled_criterion Call Statistics ---\n",
      "- rasterize_solution: called 13 times, total time 0.8865s, avg time 0.0682s\n",
      "- incremental_ERR: called 14 times, total time 0.0953s, avg time 0.0068s\n",
      "---------------------------------\n",
      "sserr_result:  SSERRResult(converged=True, message='SSERR evaluation successful.', touchdown_distance=3298.090796173215, SSERR=18.662602834188416)\n",
      "--- find_minimum_force Call Statistics ---\n",
      "- rasterize_solution: called 8 times, total time 0.5397s, avg time 0.0675s\n",
      "---------------------------------\n",
      "--- evaluate_coupled_criterion Call Statistics ---\n",
      "- rasterize_solution: called 12 times, total time 0.8273s, avg time 0.0689s\n",
      "- incremental_ERR: called 13 times, total time 0.0889s, avg time 0.0068s\n",
      "---------------------------------\n",
      "sserr_result:  SSERRResult(converged=True, message='SSERR evaluation successful.', touchdown_distance=3333.266287151105, SSERR=19.259163722356966)\n",
      "--- find_minimum_force Call Statistics ---\n",
      "- rasterize_solution: called 8 times, total time 0.5369s, avg time 0.0671s\n",
      "---------------------------------\n",
      "--- evaluate_coupled_criterion Call Statistics ---\n",
      "- rasterize_solution: called 14 times, total time 1.0208s, avg time 0.0729s\n",
      "- incremental_ERR: called 15 times, total time 0.1064s, avg time 0.0071s\n",
      "---------------------------------\n",
      "sserr_result:  SSERRResult(converged=True, message='SSERR evaluation successful.', touchdown_distance=3365.842328720123, SSERR=19.85275715232993)\n",
      "--- find_minimum_force Call Statistics ---\n",
      "- rasterize_solution: called 9 times, total time 0.6519s, avg time 0.0724s\n",
      "---------------------------------\n",
      "--- evaluate_coupled_criterion Call Statistics ---\n",
      "- rasterize_solution: called 14 times, total time 1.0326s, avg time 0.0738s\n",
      "- incremental_ERR: called 15 times, total time 0.1091s, avg time 0.0073s\n",
      "---------------------------------\n",
      "sserr_result:  SSERRResult(converged=True, message='SSERR evaluation successful.', touchdown_distance=3395.7286227276845, SSERR=20.443455406553912)\n",
      "--- find_minimum_force Call Statistics ---\n",
      "- rasterize_solution: called 9 times, total time 0.6248s, avg time 0.0694s\n",
      "---------------------------------\n",
      "--- evaluate_coupled_criterion Call Statistics ---\n",
      "- rasterize_solution: called 12 times, total time 0.8604s, avg time 0.0717s\n",
      "- incremental_ERR: called 13 times, total time 0.0925s, avg time 0.0071s\n",
      "---------------------------------\n",
      "sserr_result:  SSERRResult(converged=True, message='SSERR evaluation successful.', touchdown_distance=3422.83169172769, SSERR=21.031423092874036)\n",
      "--- find_minimum_force Call Statistics ---\n",
      "- rasterize_solution: called 9 times, total time 0.6766s, avg time 0.0752s\n",
      "---------------------------------\n",
      "--- evaluate_coupled_criterion Call Statistics ---\n",
      "- rasterize_solution: called 14 times, total time 1.0926s, avg time 0.0780s\n",
      "- incremental_ERR: called 15 times, total time 0.1279s, avg time 0.0085s\n",
      "---------------------------------\n",
      "sserr_result:  SSERRResult(converged=True, message='SSERR evaluation successful.', touchdown_distance=3447.0570601822715, SSERR=21.61693154249099)\n",
      "--- find_minimum_force Call Statistics ---\n",
      "- rasterize_solution: called 9 times, total time 0.7625s, avg time 0.0847s\n",
      "---------------------------------\n",
      "--- evaluate_coupled_criterion Call Statistics ---\n",
      "- rasterize_solution: called 9 times, total time 0.7477s, avg time 0.0831s\n",
      "- incremental_ERR: called 10 times, total time 0.0804s, avg time 0.0080s\n",
      "---------------------------------\n",
      "sserr_result:  SSERRResult(converged=True, message='SSERR evaluation successful.', touchdown_distance=3468.3115665554724, SSERR=22.200373487692133)\n",
      "--- find_minimum_force Call Statistics ---\n",
      "- rasterize_solution: called 8 times, total time 0.5459s, avg time 0.0682s\n",
      "---------------------------------\n",
      "--- evaluate_coupled_criterion Call Statistics ---\n",
      "- rasterize_solution: called 14 times, total time 1.0442s, avg time 0.0746s\n",
      "- incremental_ERR: called 15 times, total time 0.1096s, avg time 0.0073s\n",
      "---------------------------------\n",
      "sserr_result:  SSERRResult(converged=True, message='SSERR evaluation successful.', touchdown_distance=3486.5057220884396, SSERR=22.782277426041738)\n",
      "--- find_minimum_force Call Statistics ---\n",
      "- rasterize_solution: called 8 times, total time 0.5747s, avg time 0.0718s\n",
      "---------------------------------\n",
      "--- evaluate_coupled_criterion Call Statistics ---\n",
      "- rasterize_solution: called 11 times, total time 0.8360s, avg time 0.0760s\n",
      "- incremental_ERR: called 12 times, total time 0.0879s, avg time 0.0073s\n",
      "---------------------------------\n",
      "sserr_result:  SSERRResult(converged=True, message='SSERR evaluation successful.', touchdown_distance=3501.556036667109, SSERR=23.363320969557936)\n",
      "--- find_minimum_force Call Statistics ---\n",
      "- rasterize_solution: called 8 times, total time 0.6679s, avg time 0.0835s\n",
      "---------------------------------\n",
      "--- evaluate_coupled_criterion Call Statistics ---\n",
      "- rasterize_solution: called 13 times, total time 1.1252s, avg time 0.0866s\n",
      "- incremental_ERR: called 14 times, total time 0.1246s, avg time 0.0089s\n",
      "---------------------------------\n",
      "sserr_result:  SSERRResult(converged=True, message='SSERR evaluation successful.', touchdown_distance=3513.3872357583436, SSERR=23.944342437833416)\n",
      "--- find_minimum_force Call Statistics ---\n",
      "- rasterize_solution: called 8 times, total time 0.6628s, avg time 0.0828s\n",
      "---------------------------------\n",
      "--- evaluate_coupled_criterion Call Statistics ---\n",
      "- rasterize_solution: called 13 times, total time 1.0297s, avg time 0.0792s\n",
      "- incremental_ERR: called 14 times, total time 0.1159s, avg time 0.0083s\n",
      "---------------------------------\n",
      "sserr_result:  SSERRResult(converged=True, message='SSERR evaluation successful.', touchdown_distance=3521.934297292718, SSERR=24.526349994574332)\n",
      "--- find_minimum_force Call Statistics ---\n",
      "- rasterize_solution: called 8 times, total time 0.5836s, avg time 0.0729s\n",
      "---------------------------------\n",
      "--- evaluate_coupled_criterion Call Statistics ---\n",
      "- rasterize_solution: called 12 times, total time 0.8544s, avg time 0.0712s\n",
      "- incremental_ERR: called 14 times, total time 0.1018s, avg time 0.0073s\n",
      "---------------------------------\n",
      "sserr_result:  SSERRResult(converged=True, message='SSERR evaluation successful.', touchdown_distance=3527.144245358849, SSERR=25.110527748106744)\n",
      "--- find_minimum_force Call Statistics ---\n",
      "- rasterize_solution: called 8 times, total time 0.5583s, avg time 0.0698s\n",
      "---------------------------------\n",
      "--- evaluate_coupled_criterion Call Statistics ---\n",
      "- rasterize_solution: called 10 times, total time 0.6766s, avg time 0.0677s\n",
      "- incremental_ERR: called 13 times, total time 0.0921s, avg time 0.0071s\n",
      "---------------------------------\n",
      "sserr_result:  SSERRResult(converged=True, message='SSERR evaluation successful.', touchdown_distance=3528.977649524736, SSERR=25.69823842582865)\n",
      "--- min_dist_stress >= 1 in find_minimum_force Call Statistics ---\n",
      "- rasterize_solution: called 1 times, total time 0.0687s, avg time 0.0687s\n",
      "---------------------------------\n",
      "--- evaluate_coupled_criterion Call Statistics ---\n",
      "- incremental_ERR: called 1 times, total time 0.0075s, avg time 0.0075s\n",
      "---------------------------------\n",
      "sserr_result:  SSERRResult(converged=True, message='SSERR evaluation successful.', touchdown_distance=3527.4097943840266, SSERR=26.291022466455946)\n",
      "--- min_dist_stress >= 1 in find_minimum_force Call Statistics ---\n",
      "- rasterize_solution: called 1 times, total time 0.0682s, avg time 0.0682s\n",
      "---------------------------------\n",
      "--- evaluate_coupled_criterion Call Statistics ---\n",
      "- incremental_ERR: called 1 times, total time 0.0074s, avg time 0.0074s\n",
      "---------------------------------\n",
      "sserr_result:  SSERRResult(converged=True, message='SSERR evaluation successful.', touchdown_distance=3522.4315025064543, SSERR=26.890593620001066)\n",
      "--- min_dist_stress >= 1 in find_minimum_force Call Statistics ---\n",
      "- rasterize_solution: called 1 times, total time 0.0671s, avg time 0.0671s\n",
      "---------------------------------\n",
      "--- evaluate_coupled_criterion Call Statistics ---\n",
      "- incremental_ERR: called 1 times, total time 0.0074s, avg time 0.0074s\n",
      "---------------------------------\n",
      "sserr_result:  SSERRResult(converged=True, message='SSERR evaluation successful.', touchdown_distance=3514.0496135795156, SSERR=27.498831369129412)\n",
      "--- min_dist_stress >= 1 in find_minimum_force Call Statistics ---\n",
      "- rasterize_solution: called 1 times, total time 0.0692s, avg time 0.0692s\n",
      "---------------------------------\n",
      "--- evaluate_coupled_criterion Call Statistics ---\n",
      "- incremental_ERR: called 1 times, total time 0.0079s, avg time 0.0079s\n",
      "---------------------------------\n",
      "sserr_result:  SSERRResult(converged=True, message='SSERR evaluation successful.', touchdown_distance=3502.287141066103, SSERR=28.11777065618553)\n",
      "--- min_dist_stress >= 1 in find_minimum_force Call Statistics ---\n",
      "- rasterize_solution: called 1 times, total time 0.0671s, avg time 0.0671s\n",
      "---------------------------------\n",
      "--- evaluate_coupled_criterion Call Statistics ---\n",
      "- incremental_ERR: called 1 times, total time 0.0072s, avg time 0.0072s\n",
      "---------------------------------\n",
      "sserr_result:  SSERRResult(converged=True, message='SSERR evaluation successful.', touchdown_distance=3487.1831431232144, SSERR=28.749589496923935)\n",
      "--- min_dist_stress >= 1 in find_minimum_force Call Statistics ---\n",
      "- rasterize_solution: called 1 times, total time 0.0675s, avg time 0.0675s\n",
      "---------------------------------\n",
      "--- evaluate_coupled_criterion Call Statistics ---\n",
      "- incremental_ERR: called 1 times, total time 0.0106s, avg time 0.0106s\n",
      "---------------------------------\n",
      "sserr_result:  SSERRResult(converged=True, message='SSERR evaluation successful.', touchdown_distance=3468.792355225961, SSERR=29.396595077093053)\n",
      "--- min_dist_stress >= 1 in find_minimum_force Call Statistics ---\n",
      "- rasterize_solution: called 1 times, total time 0.0981s, avg time 0.0981s\n",
      "---------------------------------\n",
      "--- evaluate_coupled_criterion Call Statistics ---\n",
      "- incremental_ERR: called 1 times, total time 0.0088s, avg time 0.0088s\n",
      "---------------------------------\n",
      "sserr_result:  SSERRResult(converged=True, message='SSERR evaluation successful.', touchdown_distance=3447.184637036106, SSERR=30.061208867300714)\n",
      "--- min_dist_stress >= 1 in find_minimum_force Call Statistics ---\n",
      "- rasterize_solution: called 1 times, total time 0.0931s, avg time 0.0931s\n",
      "---------------------------------\n",
      "--- evaluate_coupled_criterion Call Statistics ---\n",
      "- incremental_ERR: called 1 times, total time 0.0089s, avg time 0.0089s\n",
      "---------------------------------\n",
      "sserr_result:  SSERRResult(converged=True, message='SSERR evaluation successful.', touchdown_distance=3422.444285447562, SSERR=30.745951172164716)\n",
      "--- min_dist_stress >= 1 in find_minimum_force Call Statistics ---\n",
      "- rasterize_solution: called 1 times, total time 0.0823s, avg time 0.0823s\n",
      "---------------------------------\n",
      "--- evaluate_coupled_criterion Call Statistics ---\n",
      "- incremental_ERR: called 1 times, total time 0.0101s, avg time 0.0101s\n",
      "---------------------------------\n",
      "sserr_result:  SSERRResult(converged=True, message='SSERR evaluation successful.', touchdown_distance=3394.6692600931756, SSERR=31.453425375626182)\n",
      "--- min_dist_stress >= 1 in find_minimum_force Call Statistics ---\n",
      "- rasterize_solution: called 1 times, total time 0.0856s, avg time 0.0856s\n",
      "---------------------------------\n",
      "--- evaluate_coupled_criterion Call Statistics ---\n",
      "- incremental_ERR: called 1 times, total time 0.0096s, avg time 0.0096s\n",
      "---------------------------------\n",
      "sserr_result:  SSERRResult(converged=True, message='SSERR evaluation successful.', touchdown_distance=3363.970358133671, SSERR=32.186301981563204)\n",
      "--- min_dist_stress >= 1 in find_minimum_force Call Statistics ---\n",
      "- rasterize_solution: called 1 times, total time 0.0822s, avg time 0.0822s\n",
      "---------------------------------\n",
      "--- evaluate_coupled_criterion Call Statistics ---\n",
      "- incremental_ERR: called 1 times, total time 0.0088s, avg time 0.0088s\n",
      "---------------------------------\n",
      "sserr_result:  SSERRResult(converged=True, message='SSERR evaluation successful.', touchdown_distance=3330.4703633994686, SSERR=32.947302401461556)\n",
      "new_layer heights:  [100.0, 170.0, 30.0, 300.0, 20.0, 2330.0]\n",
      "wl_depth:  2950.0\n",
      "new_layers:  [Layer(rho=101.0, h=100.0, nu=0.25, E=0.3963944665536936, G=0.15855778662147743, tensile_strength=1.103877672602255, tensile_strength_method='sigrist', E_method='bergfeld', grain_type='DF', grain_size=None, hand_hardness='F'), Layer(rho=173.0, h=170.0, nu=0.25, E=4.231714820461142, G=1.6926859281844568, tensile_strength=4.1040183019389715, tensile_strength_method='sigrist', E_method='bergfeld', grain_type='DF', grain_size=None, hand_hardness='1F'), Layer(rho=137.0, h=30.0, nu=0.25, E=1.515947056821604, G=0.6063788227286416, tensile_strength=2.3226029915382136, tensile_strength_method='sigrist', E_method='bergfeld', grain_type='DF', grain_size=None, hand_hardness='4F'), Layer(rho=209.0, h=300.0, nu=0.25, E=9.722035388607377, G=3.888814155442951, tensile_strength=6.509291720550219, tensile_strength_method='sigrist', E_method='bergfeld', grain_type='DF', grain_size=None, hand_hardness='P'), Layer(rho=163.7, h=20.0, nu=0.25, E=3.318392308727041, G=1.3273569234908165, tensile_strength=3.586373980194787, tensile_strength_method='sigrist', E_method='bergfeld', grain_type=None, grain_size=None, hand_hardness='4F+'), Layer(rho=292.25, h=2330.0, nu=0.25, E=42.50435458798165, G=17.00174183519266, tensile_strength=14.750876454728399, tensile_strength_method='sigrist', E_method='bergfeld', grain_type='MFcr', grain_size=None, hand_hardness='P+')]\n",
      "--- min_dist_stress >= 1 in find_minimum_force Call Statistics ---\n",
      "- rasterize_solution: called 1 times, total time 0.0805s, avg time 0.0805s\n",
      "---------------------------------\n",
      "--- evaluate_coupled_criterion Call Statistics ---\n",
      "- incremental_ERR: called 1 times, total time 0.0074s, avg time 0.0074s\n",
      "---------------------------------\n",
      "sserr_result:  SSERRResult(converged=True, message='SSERR evaluation successful.', touchdown_distance=3294.303182515331, SSERR=33.73918232779348)\n",
      "new_layer heights:  [100.0, 170.0, 30.0, 300.0, 20.0, 2380.0]\n",
      "wl_depth:  3000.0\n",
      "new_layers:  [Layer(rho=101.0, h=100.0, nu=0.25, E=0.3963944665536936, G=0.15855778662147743, tensile_strength=1.103877672602255, tensile_strength_method='sigrist', E_method='bergfeld', grain_type='DF', grain_size=None, hand_hardness='F'), Layer(rho=173.0, h=170.0, nu=0.25, E=4.231714820461142, G=1.6926859281844568, tensile_strength=4.1040183019389715, tensile_strength_method='sigrist', E_method='bergfeld', grain_type='DF', grain_size=None, hand_hardness='1F'), Layer(rho=137.0, h=30.0, nu=0.25, E=1.515947056821604, G=0.6063788227286416, tensile_strength=2.3226029915382136, tensile_strength_method='sigrist', E_method='bergfeld', grain_type='DF', grain_size=None, hand_hardness='4F'), Layer(rho=209.0, h=300.0, nu=0.25, E=9.722035388607377, G=3.888814155442951, tensile_strength=6.509291720550219, tensile_strength_method='sigrist', E_method='bergfeld', grain_type='DF', grain_size=None, hand_hardness='P'), Layer(rho=163.7, h=20.0, nu=0.25, E=3.318392308727041, G=1.3273569234908165, tensile_strength=3.586373980194787, tensile_strength_method='sigrist', E_method='bergfeld', grain_type=None, grain_size=None, hand_hardness='4F+'), Layer(rho=292.25, h=2380.0, nu=0.25, E=42.50435458798165, G=17.00174183519266, tensile_strength=14.750876454728399, tensile_strength_method='sigrist', E_method='bergfeld', grain_type='MFcr', grain_size=None, hand_hardness='P+')]\n",
      "--- min_dist_stress >= 1 in find_minimum_force Call Statistics ---\n",
      "- rasterize_solution: called 1 times, total time 0.0666s, avg time 0.0666s\n",
      "---------------------------------\n",
      "--- evaluate_coupled_criterion Call Statistics ---\n",
      "- incremental_ERR: called 1 times, total time 0.0072s, avg time 0.0072s\n",
      "---------------------------------\n",
      "sserr_result:  SSERRResult(converged=True, message='SSERR evaluation successful.', touchdown_distance=3255.6129690079083, SSERR=34.56471446464064)\n"
     ]
    }
   ],
   "source": [
    "import time\n",
    "import weac\n",
    "from weac.tools import touchdown_distance\n",
    "\n",
    "paths1 = paths[:1]\n",
    "parsers1 = parsers[:1]\n",
    "\n",
    "data_rows = []\n",
    "for i, (file_path, parser) in tqdm(\n",
    "    enumerate(zip(paths1, parsers1)), total=len(paths1), desc=\"Processing files\"\n",
    "):\n",
    "    # Extract layers\n",
    "    layers, density_method = parser.extract_layers()\n",
    "    print(\"layers: \", layers)\n",
    "    # # TRIAL: make whole layering 6m deep\n",
    "    # heights = np.cumsum([layer.h for layer in layers])\n",
    "    # layers[-1].h = 2500 - heights[-2]\n",
    "    heights = np.cumsum([layer.h for layer in layers])\n",
    "    # space evenly and append the last height\n",
    "    wl_depths = np.arange(wl_spacing, heights[-1], wl_spacing).tolist()\n",
    "    wl_depths.append(heights[-1])\n",
    "    \n",
    "    # # Only look at depths where weak layer is 2500mm deep\n",
    "    # wl_depths = [depth for depth in wl_depths if depth > 2000]\n",
    "    \n",
    "    layers_copy = copy.deepcopy(layers)\n",
    "    for i, wl_depth in tqdm(enumerate(wl_depths), total=len(wl_depths), desc=\"Processing weak layers\", leave=False):\n",
    "        # only keep layers above the spacing\n",
    "        mask = heights <= wl_depth\n",
    "        new_layers = [layer for layer, keep in zip(layers_copy, mask) if keep]\n",
    "        # Add truncated layer if needed\n",
    "        depth = np.sum([layer.h for layer in new_layers]) if new_layers else 0.0\n",
    "        if depth < wl_depth:\n",
    "            additional_layer = copy.deepcopy(layers_copy[len(new_layers) if new_layers else 0])\n",
    "            additional_layer.h = wl_depth - depth\n",
    "            new_layers.append(additional_layer)\n",
    "        \n",
    "        if i >= len(wl_depths) - 2:\n",
    "            print(\"new_layer heights: \", [layer.h for layer in new_layers])\n",
    "            print(\"wl_depth: \", wl_depth)\n",
    "            print(\"new_layers: \", new_layers)\n",
    "        \n",
    "        model_input = ModelInput(\n",
    "            weak_layer=standard_weak_layer,\n",
    "            layers=new_layers,\n",
    "            scenario_config=standard_scenario_config,\n",
    "            segments=standard_segments,\n",
    "        )\n",
    "        system = SystemModel(model_input=model_input)\n",
    "        \n",
    "        cc_result: CoupledCriterionResult = standard_criteria_evaluator.evaluate_coupled_criterion(system, print_call_stats=True)\n",
    "\n",
    "        # Setup the scenario with the touchdown distance\n",
    "        # TODO: Bug in Vertical SSERR\n",
    "        time1 = time.time()\n",
    "        sserr_result: SSERRResult = standard_criteria_evaluator.evaluate_SSERR(system, vertical=False)\n",
    "        print(\"sserr_result: \", sserr_result)\n",
    "        # sserr_result: SSERRResult = standard_criteria_evaluator.evaluate_SSERR(system, vertical=True)\n",
    "        # time2 = time.time()\n",
    "        # print(\"sserr_result: \", sserr_result)\n",
    "\n",
    "        # breakpoint()\n",
    "        \n",
    "        # # Generate old weac layers from layers\n",
    "        # layers = [\n",
    "        #     [layer.rho, layer.h] for layer in new_layers\n",
    "        # ]\n",
    "        # time3 = time.time()\n",
    "        # touchdown_distances = touchdown_distance(layers=layers, phi=phi, Ewl=1.0, t=20, vertical=False)\n",
    "        # print(\"Touchdown distance old weac: \", touchdown_distances)\n",
    "        # touchdown_distances = touchdown_distance(layers=layers, phi=phi, Ewl=1.0, t=20, vertical=True)\n",
    "        # time4 = time.time()\n",
    "        # print(\"Touchdown distance old weac: \", touchdown_distances)\n",
    "        \n",
    "        # print(\"weac_2 time: \", time2 - time1)\n",
    "        # print(\"old_weac time: \", time4 - time3)\n",
    "        \n",
    "        # breakpoint()\n",
    "\n",
    "        # print(\"\\nwl_depth: \", wl_depth)\n",
    "        # print(\"ImpactCriterion: \", cc_result.initial_critical_skier_weight)\n",
    "        # print(\"CoupledCriterion: \", cc_result.critical_skier_weight)\n",
    "        # print(\"Touchdown distance: \", sserr_result.touchdown_distance)\n",
    "        # print(\"SSERR: \", sserr_result.SSERR)\n",
    "        data_rows.append({\n",
    "            \"wl_depth\": wl_depth,\n",
    "            \"impact_criterion\": cc_result.initial_critical_skier_weight,\n",
    "            \"coupled_criterion\": cc_result.critical_skier_weight,\n",
    "            \"sserr_result\": sserr_result.SSERR,\n",
    "            \"touchdown_distance\": sserr_result.touchdown_distance,\n",
    "        })\n",
    "    criteria_data_path = \"data/criteria_data\"\n",
    "    os.makedirs(criteria_data_path, exist_ok=True)\n",
    "    dataframe = pd.DataFrame(data_rows)\n",
    "    dataframe.to_csv(os.path.join(criteria_data_path, os.path.basename(file_path)), index=False)\n",
    "\n",
    "plot_layers = layers\n",
    "plot_weaklayer = standard_weak_layer\n"
   ]
  },
  {
   "cell_type": "code",
   "execution_count": 6,
   "id": "56461958",
   "metadata": {},
   "outputs": [
    {
     "data": {
      "application/vnd.plotly.v1+json": {
       "config": {
        "plotlyServerURL": "https://plot.ly"
       },
       "data": [
        {
         "line": {
          "color": "lightgrey",
          "width": 1
         },
         "mode": "lines",
         "showlegend": false,
         "type": "scatter",
         "x": [
          0,
          -322.205625
         ],
         "y": [
          0,
          0
         ]
        },
        {
         "line": {
          "color": "lightgrey",
          "width": 1
         },
         "mode": "lines",
         "showlegend": false,
         "type": "scatter",
         "x": [
          0,
          -322.205625
         ],
         "y": [
          100,
          100
         ]
        },
        {
         "line": {
          "color": "lightgrey",
          "width": 1
         },
         "mode": "lines",
         "showlegend": false,
         "type": "scatter",
         "x": [
          0,
          -322.205625
         ],
         "y": [
          200,
          200
         ]
        },
        {
         "line": {
          "color": "lightgrey",
          "width": 1
         },
         "mode": "lines",
         "showlegend": false,
         "type": "scatter",
         "x": [
          0,
          -322.205625
         ],
         "y": [
          300,
          300
         ]
        },
        {
         "line": {
          "color": "lightgrey",
          "width": 1
         },
         "mode": "lines",
         "showlegend": false,
         "type": "scatter",
         "x": [
          0,
          -322.205625
         ],
         "y": [
          400,
          400
         ]
        },
        {
         "line": {
          "color": "lightgrey",
          "width": 1
         },
         "mode": "lines",
         "showlegend": false,
         "type": "scatter",
         "x": [
          0,
          -322.205625
         ],
         "y": [
          500,
          500
         ]
        },
        {
         "line": {
          "color": "lightgrey",
          "width": 1
         },
         "mode": "lines",
         "showlegend": false,
         "type": "scatter",
         "x": [
          0,
          -322.205625
         ],
         "y": [
          600,
          600
         ]
        },
        {
         "line": {
          "color": "lightgrey",
          "width": 1
         },
         "mode": "lines",
         "showlegend": false,
         "type": "scatter",
         "x": [
          0,
          -322.205625
         ],
         "y": [
          700,
          700
         ]
        },
        {
         "line": {
          "color": "lightgrey",
          "width": 1
         },
         "mode": "lines",
         "showlegend": false,
         "type": "scatter",
         "x": [
          0,
          -322.205625
         ],
         "y": [
          800,
          800
         ]
        },
        {
         "line": {
          "color": "lightgrey",
          "width": 1
         },
         "mode": "lines",
         "showlegend": false,
         "type": "scatter",
         "x": [
          0,
          -322.205625
         ],
         "y": [
          900,
          900
         ]
        },
        {
         "line": {
          "color": "lightgrey",
          "width": 1
         },
         "mode": "lines",
         "showlegend": false,
         "type": "scatter",
         "x": [
          0,
          -322.205625
         ],
         "y": [
          1000,
          1000
         ]
        },
        {
         "line": {
          "color": "lightgrey",
          "width": 1
         },
         "mode": "lines",
         "showlegend": false,
         "type": "scatter",
         "x": [
          0,
          -322.205625
         ],
         "y": [
          1100,
          1100
         ]
        },
        {
         "line": {
          "color": "lightgrey",
          "width": 1
         },
         "mode": "lines",
         "showlegend": false,
         "type": "scatter",
         "x": [
          0,
          -322.205625
         ],
         "y": [
          1200,
          1200
         ]
        },
        {
         "line": {
          "color": "lightgrey",
          "width": 1
         },
         "mode": "lines",
         "showlegend": false,
         "type": "scatter",
         "x": [
          0,
          -322.205625
         ],
         "y": [
          1300,
          1300
         ]
        },
        {
         "line": {
          "color": "lightgrey",
          "width": 1
         },
         "mode": "lines",
         "showlegend": false,
         "type": "scatter",
         "x": [
          0,
          -322.205625
         ],
         "y": [
          1400,
          1400
         ]
        },
        {
         "line": {
          "color": "lightgrey",
          "width": 1
         },
         "mode": "lines",
         "showlegend": false,
         "type": "scatter",
         "x": [
          0,
          -322.205625
         ],
         "y": [
          1500,
          1500
         ]
        },
        {
         "line": {
          "color": "lightgrey",
          "width": 1
         },
         "mode": "lines",
         "showlegend": false,
         "type": "scatter",
         "x": [
          0,
          -322.205625
         ],
         "y": [
          1600,
          1600
         ]
        },
        {
         "line": {
          "color": "lightgrey",
          "width": 1
         },
         "mode": "lines",
         "showlegend": false,
         "type": "scatter",
         "x": [
          0,
          -322.205625
         ],
         "y": [
          1700,
          1700
         ]
        },
        {
         "line": {
          "color": "lightgrey",
          "width": 1
         },
         "mode": "lines",
         "showlegend": false,
         "type": "scatter",
         "x": [
          0,
          -322.205625
         ],
         "y": [
          1800,
          1800
         ]
        },
        {
         "line": {
          "color": "lightgrey",
          "width": 1
         },
         "mode": "lines",
         "showlegend": false,
         "type": "scatter",
         "x": [
          0,
          -322.205625
         ],
         "y": [
          1900,
          1900
         ]
        },
        {
         "line": {
          "color": "lightgrey",
          "width": 1
         },
         "mode": "lines",
         "showlegend": false,
         "type": "scatter",
         "x": [
          0,
          -322.205625
         ],
         "y": [
          2000,
          2000
         ]
        },
        {
         "line": {
          "color": "lightgrey",
          "width": 1
         },
         "mode": "lines",
         "showlegend": false,
         "type": "scatter",
         "x": [
          0,
          -322.205625
         ],
         "y": [
          2100,
          2100
         ]
        },
        {
         "line": {
          "color": "lightgrey",
          "width": 1
         },
         "mode": "lines",
         "showlegend": false,
         "type": "scatter",
         "x": [
          0,
          -322.205625
         ],
         "y": [
          2200,
          2200
         ]
        },
        {
         "line": {
          "color": "lightgrey",
          "width": 1
         },
         "mode": "lines",
         "showlegend": false,
         "type": "scatter",
         "x": [
          0,
          -322.205625
         ],
         "y": [
          2300,
          2300
         ]
        },
        {
         "line": {
          "color": "lightgrey",
          "width": 1
         },
         "mode": "lines",
         "showlegend": false,
         "type": "scatter",
         "x": [
          0,
          -322.205625
         ],
         "y": [
          2400,
          2400
         ]
        },
        {
         "line": {
          "color": "lightgrey",
          "width": 1
         },
         "mode": "lines",
         "showlegend": false,
         "type": "scatter",
         "x": [
          0,
          -322.205625
         ],
         "y": [
          2500,
          2500
         ]
        },
        {
         "line": {
          "color": "lightgrey",
          "width": 1
         },
         "mode": "lines",
         "showlegend": false,
         "type": "scatter",
         "x": [
          0,
          -322.205625
         ],
         "y": [
          2600,
          2600
         ]
        },
        {
         "line": {
          "color": "lightgrey",
          "width": 1
         },
         "mode": "lines",
         "showlegend": false,
         "type": "scatter",
         "x": [
          0,
          -322.205625
         ],
         "y": [
          2700,
          2700
         ]
        },
        {
         "line": {
          "color": "lightgrey",
          "width": 1
         },
         "mode": "lines",
         "showlegend": false,
         "type": "scatter",
         "x": [
          0,
          -322.205625
         ],
         "y": [
          2800,
          2800
         ]
        },
        {
         "line": {
          "color": "lightgrey",
          "width": 1
         },
         "mode": "lines",
         "showlegend": false,
         "type": "scatter",
         "x": [
          0,
          -322.205625
         ],
         "y": [
          2900,
          2900
         ]
        }
       ],
       "layout": {
        "annotations": [
         {
          "font": {
           "size": 10
          },
          "showarrow": false,
          "text": "0",
          "x": 15,
          "xanchor": "center",
          "y": 0,
          "yanchor": "middle"
         },
         {
          "font": {
           "size": 10
          },
          "showarrow": false,
          "text": "101",
          "x": 45,
          "xanchor": "center",
          "y": 1350,
          "yanchor": "middle"
         },
         {
          "font": {
           "size": 10
          },
          "showarrow": false,
          "text": "DF",
          "x": 75,
          "xanchor": "center",
          "y": 1350,
          "yanchor": "middle"
         },
         {
          "font": {
           "size": 10
          },
          "showarrow": false,
          "text": "F",
          "x": 105,
          "xanchor": "center",
          "y": 1350,
          "yanchor": "middle"
         },
         {
          "font": {
           "size": 10
          },
          "showarrow": false,
          "text": "100",
          "x": 15,
          "xanchor": "center",
          "y": 100,
          "yanchor": "middle"
         },
         {
          "font": {
           "size": 10
          },
          "showarrow": false,
          "text": "173",
          "x": 45,
          "xanchor": "center",
          "y": 1650,
          "yanchor": "middle"
         },
         {
          "font": {
           "size": 10
          },
          "showarrow": false,
          "text": "DF",
          "x": 75,
          "xanchor": "center",
          "y": 1650,
          "yanchor": "middle"
         },
         {
          "font": {
           "size": 10
          },
          "showarrow": false,
          "text": "1F",
          "x": 105,
          "xanchor": "center",
          "y": 1650,
          "yanchor": "middle"
         },
         {
          "font": {
           "size": 10
          },
          "showarrow": false,
          "text": "270",
          "x": 15,
          "xanchor": "center",
          "y": 270,
          "yanchor": "middle"
         },
         {
          "font": {
           "size": 10
          },
          "showarrow": false,
          "text": "137",
          "x": 45,
          "xanchor": "center",
          "y": 1950,
          "yanchor": "middle"
         },
         {
          "font": {
           "size": 10
          },
          "showarrow": false,
          "text": "DF",
          "x": 75,
          "xanchor": "center",
          "y": 1950,
          "yanchor": "middle"
         },
         {
          "font": {
           "size": 10
          },
          "showarrow": false,
          "text": "4F",
          "x": 105,
          "xanchor": "center",
          "y": 1950,
          "yanchor": "middle"
         },
         {
          "font": {
           "size": 10
          },
          "showarrow": false,
          "text": "300",
          "x": 15,
          "xanchor": "center",
          "y": 300,
          "yanchor": "middle"
         },
         {
          "font": {
           "size": 10
          },
          "showarrow": false,
          "text": "209",
          "x": 45,
          "xanchor": "center",
          "y": 2250,
          "yanchor": "middle"
         },
         {
          "font": {
           "size": 10
          },
          "showarrow": false,
          "text": "DF",
          "x": 75,
          "xanchor": "center",
          "y": 2250,
          "yanchor": "middle"
         },
         {
          "font": {
           "size": 10
          },
          "showarrow": false,
          "text": "P",
          "x": 105,
          "xanchor": "center",
          "y": 2250,
          "yanchor": "middle"
         },
         {
          "font": {
           "size": 10
          },
          "showarrow": false,
          "text": "600",
          "x": 15,
          "xanchor": "center",
          "y": 600,
          "yanchor": "middle"
         },
         {
          "font": {
           "size": 10
          },
          "showarrow": false,
          "text": "164",
          "x": 45,
          "xanchor": "center",
          "y": 2550,
          "yanchor": "middle"
         },
         {
          "font": {
           "size": 10
          },
          "showarrow": false,
          "text": "-",
          "x": 75,
          "xanchor": "center",
          "y": 2550,
          "yanchor": "middle"
         },
         {
          "font": {
           "size": 10
          },
          "showarrow": false,
          "text": "4F+",
          "x": 105,
          "xanchor": "center",
          "y": 2550,
          "yanchor": "middle"
         },
         {
          "font": {
           "size": 10
          },
          "showarrow": false,
          "text": "620",
          "x": 15,
          "xanchor": "center",
          "y": 620,
          "yanchor": "middle"
         },
         {
          "font": {
           "size": 10
          },
          "showarrow": false,
          "text": "292",
          "x": 45,
          "xanchor": "center",
          "y": 2850,
          "yanchor": "middle"
         },
         {
          "font": {
           "size": 10
          },
          "showarrow": false,
          "text": "MFcr",
          "x": 75,
          "xanchor": "center",
          "y": 2850,
          "yanchor": "middle"
         },
         {
          "font": {
           "size": 10
          },
          "showarrow": false,
          "text": "P+",
          "x": 105,
          "xanchor": "center",
          "y": 2850,
          "yanchor": "middle"
         },
         {
          "font": {
           "size": 10
          },
          "showarrow": false,
          "text": "3000.0",
          "x": 0,
          "xanchor": "left",
          "y": 3000,
          "yanchor": "middle"
         },
         {
          "font": {
           "size": 10
          },
          "showarrow": false,
          "text": "H",
          "x": 15,
          "xanchor": "center",
          "y": -100,
          "yanchor": "middle"
         },
         {
          "font": {
           "size": 10
          },
          "showarrow": false,
          "text": "D",
          "x": 45,
          "xanchor": "center",
          "y": -100,
          "yanchor": "middle"
         },
         {
          "font": {
           "size": 10
          },
          "showarrow": false,
          "text": "F",
          "x": 75,
          "xanchor": "center",
          "y": -100,
          "yanchor": "middle"
         },
         {
          "font": {
           "size": 10
          },
          "showarrow": false,
          "text": "R",
          "x": 105,
          "xanchor": "center",
          "y": -100,
          "yanchor": "middle"
         },
         {
          "align": "left",
          "font": {
           "size": 10
          },
          "showarrow": false,
          "text": "H: Height (cm)  D: Density (kg/m³)  F: Grain Form  R: Hand Hardness",
          "x": 0,
          "xref": "paper",
          "y": -0.06,
          "yref": "paper"
         }
        ],
        "height": 600,
        "margin": {
         "b": 40,
         "l": 0,
         "r": 0,
         "t": 40
        },
        "paper_bgcolor": "white",
        "plot_bgcolor": "white",
        "shapes": [
         {
          "fillcolor": "#9ec1df",
          "layer": "above",
          "line": {
           "color": "#9ec1df",
           "width": 0.4
          },
          "type": "rect",
          "x0": -101,
          "x1": 0,
          "y0": 0,
          "y1": 100
         },
         {
          "line": {
           "color": "rgba(4, 110, 124, 0.812)",
           "width": 1.2
          },
          "type": "line",
          "x0": 0,
          "x1": -101,
          "y0": 0,
          "y1": 0
         },
         {
          "line": {
           "color": "rgba(4, 110, 124, 0.812)",
           "width": 1.2
          },
          "type": "line",
          "x0": -101,
          "x1": -101,
          "y0": 0,
          "y1": 100
         },
         {
          "line": {
           "color": "lightgrey",
           "width": 0.5
          },
          "type": "line",
          "x0": 30,
          "x1": 120,
          "y0": 1200,
          "y1": 1200
         },
         {
          "line": {
           "color": "lightgrey",
           "width": 0.5
          },
          "type": "line",
          "x0": 0,
          "x1": 30,
          "y0": 100,
          "y1": 1500
         },
         {
          "fillcolor": "#9ec1df",
          "layer": "above",
          "line": {
           "color": "#9ec1df",
           "width": 0.4
          },
          "type": "rect",
          "x0": -173,
          "x1": 0,
          "y0": 100,
          "y1": 270
         },
         {
          "line": {
           "color": "rgba(4, 110, 124, 0.812)",
           "width": 1.2
          },
          "type": "line",
          "x0": -101,
          "x1": -173,
          "y0": 100,
          "y1": 100
         },
         {
          "line": {
           "color": "rgba(4, 110, 124, 0.812)",
           "width": 1.2
          },
          "type": "line",
          "x0": -173,
          "x1": -173,
          "y0": 100,
          "y1": 270
         },
         {
          "line": {
           "color": "lightgrey",
           "width": 0.5
          },
          "type": "line",
          "x0": 30,
          "x1": 120,
          "y0": 1500,
          "y1": 1500
         },
         {
          "line": {
           "color": "lightgrey",
           "width": 0.5
          },
          "type": "line",
          "x0": 0,
          "x1": 30,
          "y0": 270,
          "y1": 1800
         },
         {
          "fillcolor": "#9ec1df",
          "layer": "above",
          "line": {
           "color": "#9ec1df",
           "width": 0.4
          },
          "type": "rect",
          "x0": -137,
          "x1": 0,
          "y0": 270,
          "y1": 300
         },
         {
          "line": {
           "color": "rgba(4, 110, 124, 0.812)",
           "width": 1.2
          },
          "type": "line",
          "x0": -173,
          "x1": -137,
          "y0": 270,
          "y1": 270
         },
         {
          "line": {
           "color": "rgba(4, 110, 124, 0.812)",
           "width": 1.2
          },
          "type": "line",
          "x0": -137,
          "x1": -137,
          "y0": 270,
          "y1": 300
         },
         {
          "line": {
           "color": "lightgrey",
           "width": 0.5
          },
          "type": "line",
          "x0": 30,
          "x1": 120,
          "y0": 1800,
          "y1": 1800
         },
         {
          "line": {
           "color": "lightgrey",
           "width": 0.5
          },
          "type": "line",
          "x0": 0,
          "x1": 30,
          "y0": 300,
          "y1": 2100
         },
         {
          "fillcolor": "#9ec1df",
          "layer": "above",
          "line": {
           "color": "#9ec1df",
           "width": 0.4
          },
          "type": "rect",
          "x0": -209,
          "x1": 0,
          "y0": 300,
          "y1": 600
         },
         {
          "line": {
           "color": "rgba(4, 110, 124, 0.812)",
           "width": 1.2
          },
          "type": "line",
          "x0": -137,
          "x1": -209,
          "y0": 300,
          "y1": 300
         },
         {
          "line": {
           "color": "rgba(4, 110, 124, 0.812)",
           "width": 1.2
          },
          "type": "line",
          "x0": -209,
          "x1": -209,
          "y0": 300,
          "y1": 600
         },
         {
          "line": {
           "color": "lightgrey",
           "width": 0.5
          },
          "type": "line",
          "x0": 30,
          "x1": 120,
          "y0": 2100,
          "y1": 2100
         },
         {
          "line": {
           "color": "lightgrey",
           "width": 0.5
          },
          "type": "line",
          "x0": 0,
          "x1": 30,
          "y0": 600,
          "y1": 2400
         },
         {
          "fillcolor": "#9ec1df",
          "layer": "above",
          "line": {
           "color": "#9ec1df",
           "width": 0.4
          },
          "type": "rect",
          "x0": -163.7,
          "x1": 0,
          "y0": 600,
          "y1": 620
         },
         {
          "line": {
           "color": "rgba(4, 110, 124, 0.812)",
           "width": 1.2
          },
          "type": "line",
          "x0": -209,
          "x1": -163.7,
          "y0": 600,
          "y1": 600
         },
         {
          "line": {
           "color": "rgba(4, 110, 124, 0.812)",
           "width": 1.2
          },
          "type": "line",
          "x0": -163.7,
          "x1": -163.7,
          "y0": 600,
          "y1": 620
         },
         {
          "line": {
           "color": "lightgrey",
           "width": 0.5
          },
          "type": "line",
          "x0": 30,
          "x1": 120,
          "y0": 2400,
          "y1": 2400
         },
         {
          "line": {
           "color": "lightgrey",
           "width": 0.5
          },
          "type": "line",
          "x0": 0,
          "x1": 30,
          "y0": 620,
          "y1": 2700
         },
         {
          "fillcolor": "#9ec1df",
          "layer": "above",
          "line": {
           "color": "#9ec1df",
           "width": 0.4
          },
          "type": "rect",
          "x0": -292.25,
          "x1": 0,
          "y0": 620,
          "y1": 3000
         },
         {
          "line": {
           "color": "rgba(4, 110, 124, 0.812)",
           "width": 1.2
          },
          "type": "line",
          "x0": -163.7,
          "x1": -292.25,
          "y0": 620,
          "y1": 620
         },
         {
          "line": {
           "color": "rgba(4, 110, 124, 0.812)",
           "width": 1.2
          },
          "type": "line",
          "x0": -292.25,
          "x1": -292.25,
          "y0": 620,
          "y1": 3000
         },
         {
          "line": {
           "color": "lightgrey",
           "width": 0.5
          },
          "type": "line",
          "x0": 30,
          "x1": 120,
          "y0": 2700,
          "y1": 2700
         },
         {
          "line": {
           "color": "lightgrey",
           "width": 0.5
          },
          "type": "line",
          "x0": 0,
          "x1": 30,
          "y0": 3000,
          "y1": 3000
         },
         {
          "line": {
           "color": "rgba(4, 110, 124, 0.812)",
           "width": 1.2
          },
          "type": "line",
          "x0": -292.25,
          "x1": 0,
          "y0": 3000,
          "y1": 3000
         },
         {
          "line": {
           "color": "lightgrey",
           "width": 0.5
          },
          "type": "line",
          "x0": 30,
          "x1": 120,
          "y0": 3000,
          "y1": 3000
         },
         {
          "line": {
           "color": "lightgrey",
           "width": 0.5
          },
          "type": "line",
          "x0": 0,
          "x1": 30,
          "y0": 0,
          "y1": 1200
         },
         {
          "line": {
           "color": "lightgrey",
           "width": 0.5
          },
          "type": "line",
          "x0": 30,
          "x1": 30,
          "y0": 0,
          "y1": 3000
         },
         {
          "line": {
           "color": "lightgrey",
           "width": 0.5
          },
          "type": "line",
          "x0": 60,
          "x1": 60,
          "y0": 0,
          "y1": 3000
         },
         {
          "line": {
           "color": "lightgrey",
           "width": 0.5
          },
          "type": "line",
          "x0": 90,
          "x1": 90,
          "y0": 0,
          "y1": 3000
         },
         {
          "line": {
           "color": "lightgrey",
           "width": 0.5
          },
          "type": "line",
          "x0": 0,
          "x1": 120,
          "y0": -200,
          "y1": -200
         }
        ],
        "template": {
         "data": {
          "bar": [
           {
            "error_x": {
             "color": "#2a3f5f"
            },
            "error_y": {
             "color": "#2a3f5f"
            },
            "marker": {
             "line": {
              "color": "#E5ECF6",
              "width": 0.5
             },
             "pattern": {
              "fillmode": "overlay",
              "size": 10,
              "solidity": 0.2
             }
            },
            "type": "bar"
           }
          ],
          "barpolar": [
           {
            "marker": {
             "line": {
              "color": "#E5ECF6",
              "width": 0.5
             },
             "pattern": {
              "fillmode": "overlay",
              "size": 10,
              "solidity": 0.2
             }
            },
            "type": "barpolar"
           }
          ],
          "carpet": [
           {
            "aaxis": {
             "endlinecolor": "#2a3f5f",
             "gridcolor": "white",
             "linecolor": "white",
             "minorgridcolor": "white",
             "startlinecolor": "#2a3f5f"
            },
            "baxis": {
             "endlinecolor": "#2a3f5f",
             "gridcolor": "white",
             "linecolor": "white",
             "minorgridcolor": "white",
             "startlinecolor": "#2a3f5f"
            },
            "type": "carpet"
           }
          ],
          "choropleth": [
           {
            "colorbar": {
             "outlinewidth": 0,
             "ticks": ""
            },
            "type": "choropleth"
           }
          ],
          "contour": [
           {
            "colorbar": {
             "outlinewidth": 0,
             "ticks": ""
            },
            "colorscale": [
             [
              0,
              "#0d0887"
             ],
             [
              0.1111111111111111,
              "#46039f"
             ],
             [
              0.2222222222222222,
              "#7201a8"
             ],
             [
              0.3333333333333333,
              "#9c179e"
             ],
             [
              0.4444444444444444,
              "#bd3786"
             ],
             [
              0.5555555555555556,
              "#d8576b"
             ],
             [
              0.6666666666666666,
              "#ed7953"
             ],
             [
              0.7777777777777778,
              "#fb9f3a"
             ],
             [
              0.8888888888888888,
              "#fdca26"
             ],
             [
              1,
              "#f0f921"
             ]
            ],
            "type": "contour"
           }
          ],
          "contourcarpet": [
           {
            "colorbar": {
             "outlinewidth": 0,
             "ticks": ""
            },
            "type": "contourcarpet"
           }
          ],
          "heatmap": [
           {
            "colorbar": {
             "outlinewidth": 0,
             "ticks": ""
            },
            "colorscale": [
             [
              0,
              "#0d0887"
             ],
             [
              0.1111111111111111,
              "#46039f"
             ],
             [
              0.2222222222222222,
              "#7201a8"
             ],
             [
              0.3333333333333333,
              "#9c179e"
             ],
             [
              0.4444444444444444,
              "#bd3786"
             ],
             [
              0.5555555555555556,
              "#d8576b"
             ],
             [
              0.6666666666666666,
              "#ed7953"
             ],
             [
              0.7777777777777778,
              "#fb9f3a"
             ],
             [
              0.8888888888888888,
              "#fdca26"
             ],
             [
              1,
              "#f0f921"
             ]
            ],
            "type": "heatmap"
           }
          ],
          "histogram": [
           {
            "marker": {
             "pattern": {
              "fillmode": "overlay",
              "size": 10,
              "solidity": 0.2
             }
            },
            "type": "histogram"
           }
          ],
          "histogram2d": [
           {
            "colorbar": {
             "outlinewidth": 0,
             "ticks": ""
            },
            "colorscale": [
             [
              0,
              "#0d0887"
             ],
             [
              0.1111111111111111,
              "#46039f"
             ],
             [
              0.2222222222222222,
              "#7201a8"
             ],
             [
              0.3333333333333333,
              "#9c179e"
             ],
             [
              0.4444444444444444,
              "#bd3786"
             ],
             [
              0.5555555555555556,
              "#d8576b"
             ],
             [
              0.6666666666666666,
              "#ed7953"
             ],
             [
              0.7777777777777778,
              "#fb9f3a"
             ],
             [
              0.8888888888888888,
              "#fdca26"
             ],
             [
              1,
              "#f0f921"
             ]
            ],
            "type": "histogram2d"
           }
          ],
          "histogram2dcontour": [
           {
            "colorbar": {
             "outlinewidth": 0,
             "ticks": ""
            },
            "colorscale": [
             [
              0,
              "#0d0887"
             ],
             [
              0.1111111111111111,
              "#46039f"
             ],
             [
              0.2222222222222222,
              "#7201a8"
             ],
             [
              0.3333333333333333,
              "#9c179e"
             ],
             [
              0.4444444444444444,
              "#bd3786"
             ],
             [
              0.5555555555555556,
              "#d8576b"
             ],
             [
              0.6666666666666666,
              "#ed7953"
             ],
             [
              0.7777777777777778,
              "#fb9f3a"
             ],
             [
              0.8888888888888888,
              "#fdca26"
             ],
             [
              1,
              "#f0f921"
             ]
            ],
            "type": "histogram2dcontour"
           }
          ],
          "mesh3d": [
           {
            "colorbar": {
             "outlinewidth": 0,
             "ticks": ""
            },
            "type": "mesh3d"
           }
          ],
          "parcoords": [
           {
            "line": {
             "colorbar": {
              "outlinewidth": 0,
              "ticks": ""
             }
            },
            "type": "parcoords"
           }
          ],
          "pie": [
           {
            "automargin": true,
            "type": "pie"
           }
          ],
          "scatter": [
           {
            "fillpattern": {
             "fillmode": "overlay",
             "size": 10,
             "solidity": 0.2
            },
            "type": "scatter"
           }
          ],
          "scatter3d": [
           {
            "line": {
             "colorbar": {
              "outlinewidth": 0,
              "ticks": ""
             }
            },
            "marker": {
             "colorbar": {
              "outlinewidth": 0,
              "ticks": ""
             }
            },
            "type": "scatter3d"
           }
          ],
          "scattercarpet": [
           {
            "marker": {
             "colorbar": {
              "outlinewidth": 0,
              "ticks": ""
             }
            },
            "type": "scattercarpet"
           }
          ],
          "scattergeo": [
           {
            "marker": {
             "colorbar": {
              "outlinewidth": 0,
              "ticks": ""
             }
            },
            "type": "scattergeo"
           }
          ],
          "scattergl": [
           {
            "marker": {
             "colorbar": {
              "outlinewidth": 0,
              "ticks": ""
             }
            },
            "type": "scattergl"
           }
          ],
          "scattermap": [
           {
            "marker": {
             "colorbar": {
              "outlinewidth": 0,
              "ticks": ""
             }
            },
            "type": "scattermap"
           }
          ],
          "scattermapbox": [
           {
            "marker": {
             "colorbar": {
              "outlinewidth": 0,
              "ticks": ""
             }
            },
            "type": "scattermapbox"
           }
          ],
          "scatterpolar": [
           {
            "marker": {
             "colorbar": {
              "outlinewidth": 0,
              "ticks": ""
             }
            },
            "type": "scatterpolar"
           }
          ],
          "scatterpolargl": [
           {
            "marker": {
             "colorbar": {
              "outlinewidth": 0,
              "ticks": ""
             }
            },
            "type": "scatterpolargl"
           }
          ],
          "scatterternary": [
           {
            "marker": {
             "colorbar": {
              "outlinewidth": 0,
              "ticks": ""
             }
            },
            "type": "scatterternary"
           }
          ],
          "surface": [
           {
            "colorbar": {
             "outlinewidth": 0,
             "ticks": ""
            },
            "colorscale": [
             [
              0,
              "#0d0887"
             ],
             [
              0.1111111111111111,
              "#46039f"
             ],
             [
              0.2222222222222222,
              "#7201a8"
             ],
             [
              0.3333333333333333,
              "#9c179e"
             ],
             [
              0.4444444444444444,
              "#bd3786"
             ],
             [
              0.5555555555555556,
              "#d8576b"
             ],
             [
              0.6666666666666666,
              "#ed7953"
             ],
             [
              0.7777777777777778,
              "#fb9f3a"
             ],
             [
              0.8888888888888888,
              "#fdca26"
             ],
             [
              1,
              "#f0f921"
             ]
            ],
            "type": "surface"
           }
          ],
          "table": [
           {
            "cells": {
             "fill": {
              "color": "#EBF0F8"
             },
             "line": {
              "color": "white"
             }
            },
            "header": {
             "fill": {
              "color": "#C8D4E3"
             },
             "line": {
              "color": "white"
             }
            },
            "type": "table"
           }
          ]
         },
         "layout": {
          "annotationdefaults": {
           "arrowcolor": "#2a3f5f",
           "arrowhead": 0,
           "arrowwidth": 1
          },
          "autotypenumbers": "strict",
          "coloraxis": {
           "colorbar": {
            "outlinewidth": 0,
            "ticks": ""
           }
          },
          "colorscale": {
           "diverging": [
            [
             0,
             "#8e0152"
            ],
            [
             0.1,
             "#c51b7d"
            ],
            [
             0.2,
             "#de77ae"
            ],
            [
             0.3,
             "#f1b6da"
            ],
            [
             0.4,
             "#fde0ef"
            ],
            [
             0.5,
             "#f7f7f7"
            ],
            [
             0.6,
             "#e6f5d0"
            ],
            [
             0.7,
             "#b8e186"
            ],
            [
             0.8,
             "#7fbc41"
            ],
            [
             0.9,
             "#4d9221"
            ],
            [
             1,
             "#276419"
            ]
           ],
           "sequential": [
            [
             0,
             "#0d0887"
            ],
            [
             0.1111111111111111,
             "#46039f"
            ],
            [
             0.2222222222222222,
             "#7201a8"
            ],
            [
             0.3333333333333333,
             "#9c179e"
            ],
            [
             0.4444444444444444,
             "#bd3786"
            ],
            [
             0.5555555555555556,
             "#d8576b"
            ],
            [
             0.6666666666666666,
             "#ed7953"
            ],
            [
             0.7777777777777778,
             "#fb9f3a"
            ],
            [
             0.8888888888888888,
             "#fdca26"
            ],
            [
             1,
             "#f0f921"
            ]
           ],
           "sequentialminus": [
            [
             0,
             "#0d0887"
            ],
            [
             0.1111111111111111,
             "#46039f"
            ],
            [
             0.2222222222222222,
             "#7201a8"
            ],
            [
             0.3333333333333333,
             "#9c179e"
            ],
            [
             0.4444444444444444,
             "#bd3786"
            ],
            [
             0.5555555555555556,
             "#d8576b"
            ],
            [
             0.6666666666666666,
             "#ed7953"
            ],
            [
             0.7777777777777778,
             "#fb9f3a"
            ],
            [
             0.8888888888888888,
             "#fdca26"
            ],
            [
             1,
             "#f0f921"
            ]
           ]
          },
          "colorway": [
           "#636efa",
           "#EF553B",
           "#00cc96",
           "#ab63fa",
           "#FFA15A",
           "#19d3f3",
           "#FF6692",
           "#B6E880",
           "#FF97FF",
           "#FECB52"
          ],
          "font": {
           "color": "#2a3f5f"
          },
          "geo": {
           "bgcolor": "white",
           "lakecolor": "white",
           "landcolor": "#E5ECF6",
           "showlakes": true,
           "showland": true,
           "subunitcolor": "white"
          },
          "hoverlabel": {
           "align": "left"
          },
          "hovermode": "closest",
          "mapbox": {
           "style": "light"
          },
          "paper_bgcolor": "white",
          "plot_bgcolor": "#E5ECF6",
          "polar": {
           "angularaxis": {
            "gridcolor": "white",
            "linecolor": "white",
            "ticks": ""
           },
           "bgcolor": "#E5ECF6",
           "radialaxis": {
            "gridcolor": "white",
            "linecolor": "white",
            "ticks": ""
           }
          },
          "scene": {
           "xaxis": {
            "backgroundcolor": "#E5ECF6",
            "gridcolor": "white",
            "gridwidth": 2,
            "linecolor": "white",
            "showbackground": true,
            "ticks": "",
            "zerolinecolor": "white"
           },
           "yaxis": {
            "backgroundcolor": "#E5ECF6",
            "gridcolor": "white",
            "gridwidth": 2,
            "linecolor": "white",
            "showbackground": true,
            "ticks": "",
            "zerolinecolor": "white"
           },
           "zaxis": {
            "backgroundcolor": "#E5ECF6",
            "gridcolor": "white",
            "gridwidth": 2,
            "linecolor": "white",
            "showbackground": true,
            "ticks": "",
            "zerolinecolor": "white"
           }
          },
          "shapedefaults": {
           "line": {
            "color": "#2a3f5f"
           }
          },
          "ternary": {
           "aaxis": {
            "gridcolor": "white",
            "linecolor": "white",
            "ticks": ""
           },
           "baxis": {
            "gridcolor": "white",
            "linecolor": "white",
            "ticks": ""
           },
           "bgcolor": "#E5ECF6",
           "caxis": {
            "gridcolor": "white",
            "linecolor": "white",
            "ticks": ""
           }
          },
          "title": {
           "x": 0.05
          },
          "xaxis": {
           "automargin": true,
           "gridcolor": "white",
           "linecolor": "white",
           "ticks": "",
           "title": {
            "standoff": 15
           },
           "zerolinecolor": "white",
           "zerolinewidth": 2
          },
          "yaxis": {
           "automargin": true,
           "gridcolor": "white",
           "linecolor": "white",
           "ticks": "",
           "title": {
            "standoff": 15
           },
           "zerolinecolor": "white",
           "zerolinewidth": 2
          }
         }
        },
        "width": 600,
        "xaxis": {
         "autorange": false,
         "range": [
          -322.205625,
          120
         ],
         "ticktext": [
          "400",
          "300",
          "200",
          "100",
          "0"
         ],
         "tickvals": [
          -400,
          -300,
          -200,
          -100,
          0
         ]
        },
        "yaxis": {
         "domain": [
          0,
          1
         ],
         "range": [
          3000,
          -300
         ],
         "showticklabels": false,
         "zeroline": false,
         "zerolinecolor": "gray",
         "zerolinewidth": 1
        }
       }
      }
     },
     "metadata": {},
     "output_type": "display_data"
    }
   ],
   "source": [
    "from plotly_snow_profile import snow_profile\n",
    "import pandas as pd\n",
    "\n",
    "dataframe = pd.DataFrame(data_rows)\n",
    "snow_profile_fig = snow_profile(weaklayer=plot_weaklayer, layers=plot_layers)\n",
    "snow_profile_fig.show()"
   ]
  },
  {
   "cell_type": "code",
   "execution_count": 17,
   "id": "9d4978f5",
   "metadata": {},
   "outputs": [
    {
     "data": {
      "application/vnd.plotly.v1+json": {
       "config": {
        "plotlyServerURL": "https://plot.ly"
       },
       "data": [
        {
         "line": {
          "color": "blue",
          "width": 3
         },
         "marker": {
          "color": "blue",
          "size": 6
         },
         "mode": "lines",
         "name": "Energy Release Rate",
         "type": "scatter",
         "x": {
          "bdata": "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",
          "dtype": "f8"
         },
         "xaxis": "x",
         "y": {
          "bdata": "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",
          "dtype": "f8"
         }
        },
        {
         "line": {
          "color": "orange",
          "width": 3
         },
         "marker": {
          "color": "orange",
          "size": 6
         },
         "mode": "lines",
         "name": "Critical Coupling",
         "type": "scatter",
         "x": {
          "bdata": "AAAAAKPhoUEdPocEshtWQB0+hwSyG0ZA0lK0sEJ6PUAdPocEshs2QH7+OJ3BrzFA0lK0sEJ6LUBqIr8pOUQpQB0+hwSyGyZANzd4INemI0B+/jidwa8hQMLwFqaI2SBAzmbS4Tc4IEAQBtgeEUUfQOnWvsOHLh5AeGBVs7kqHUBAtUjw0jccQKjvvHc6VBtAZkF4P4l+GkD05hrOgrUZQE4hxBoP+BhAUqVEu6e6FkAaMqa2jFkUQJlBuEXiaxJAvB/9Q67TEEDNRSjmB/kOQMrFgJv7rwxAnklgoVa3CkBAHDSflv8IQEr4t6z4fAdADQ7qBGgmBkAc8ucCGTgFQHPhimzkkARABhBxSKzzA0DPkV81kl8DQAlU6uLQ0wJATqojorhPAkA/gwiDrNIBQAx9EOUfXAFALKJ4ZpTrAEBLDOghmIAAQLqpljrRIQBAwxBvOLii/z+Kuv9o9Af/P4rBW3X+cv4/0HpXUYTj/T9BF0TfOVn9P+EtJmnY0/w/Y5IHKB5T/D8MFbPXzdb7PyM5Y1WuXvs/IS5crvf2+j9966nbvbb6PzIK0Sqzd/o/RN9XTc85+j9EYMJBCv35P9kiHlBcwfk/+IO9Br6G+T9SDh83KE35Pzhr/vKTFPk/XlmMifrc+D8KIf8vpJz4Py2fBN1gCfg/QxmMj9d89z80uk3tlPb2P9TZ6q8vdvY/E6U1kUf79T97hRdahIX1Pw2YHg+VFPU/t9yGNi+o9D8a6js0DkD0P07b2rjy2/M/yL6zI+mR8z+pKDCkJEvzPxPy+dJYBvM/bFyD43DD8j/YxtwpWYLyP2ZdaQf/QvI/1cka2VAF8j/XQRDnPcnxP9H4eFW2jvE/XTqdFqtV8T8NFiAMiyXxP8EWmGtJ+PA/aHZ3QPTL8D//2ENghKDwPxRI5enydfA/3hwEQjlM8D9doZ0PUSPwP9Vgl3Fo9u8/Dsx3v7mn7z8haKa/ilrvP1CyJQ46Fe8/AvWkFn/U7j8Am3mMz5TuPz6voQMlVu4/3ZtTRHkY7j9bju9IxtvtP36OCTwGoO0/2vCKdjNl7T+o4ul9SCvtP5TgdQJA8uw/3cPXgHm97D+MafRCy4zsP/9HLNnAXOw/aKvhDVct7D/aNcnAiv7rP/PzOeZY0Os/NTSEhr6i6z/L0069uHXrP623+rhESes/jSwMul8d6z/qmmAvr/PqP34Bat6Izeo/gkVV9c2n6j+PagixfILqPwDeOViTXeo/Y4IsOxA56j+g7G2z8RTqP5e9liM28ek/PAQN99vN6T/RlMih4arpP8Ek1q7ofek/2EZqSPoo6T+yaDSLOtboP+QN+zSUheg/GvIuFPM26D8NmQ33Q+rnP9FnAJx0n+c/RYgdo3NW5z86ZLKAMA/nP2jOwXCbyeY/yagK5xuF5j/0RQGPPzjmP2Niy/Zo7eU/dGrZ8oOk5T8IzWFgfV3lP7hfnxRDGOU/HHRRzcPU5D/c0WEi75LkP1t/l3i1UuQ//K0/9QcU5D9dR7hy2NbjP7hJf3iMqeM/tPyikKJ+4z9ZWq9lclTjPywv5Ev3KuM/4wVEvywC4z8akfBhDtriP+Wqm/qXsuI/Ir8Lc8WL4j+liLLWkmXiPw4bVVH8P+I/xth3wi0h4j8Nkqtr0ATiP+SLQUzL6OE/wH8ryxzN4T9QAi1Zw7HhP4mHkHC9luE/uhHflAl84T9ub5pSpmHhP1Dt+T6SR+E/a2Kp98st4T9CyKnrUBfhP0FQGf4KA+E/L4Mp8PTu4D/QjQ4ZDtvgP5mGEtNVx+A/A3aDe8uz4D/f26FybqDgP7Wtjxs+jeA/VMo/3Dl64D8I32UdYWfgP9KBnkVPVuA/FxJys1RH4D+8Rqt/dTjgP6Cii1+xKeA/2txjCQgb4D8FF480eQzgP9ha3DIJ/N8/3UDG4lPf3z8OLZnt0cLfP7bsAsqCpt8/OiQ4zPSL3z9czTtpMHXfP/QzP8uMXt8/Z0C1qwlI3z9R0NrEpjHfP+bls9FjG98/U+MIjkAF3z/s0WO2PO/eP+e0DQhY2d4/aOcLQZLD3j+f/SEoi67ePykALjonnd4/yXfB99aL3j+9xo8/mnreP6JOl/Bwad4/xJ0g6lpY3j89n70LWEfeP8DNSDVoNt4/HGnkRosl3j9frvkgwRTeP5oSOKQJBN4/3uPx0xr33T8rQu4jN+rdP0LZ14Ve3d0/GOlx65DQ3T9IEZhGzsPdP/gcPokWt90/Wc9vpWmq3T+OsFCNx53dPzDbGzMwkd0/Q8ojiaOE3T9i7towQXvdP942BqVxct0/3WnKW6dp3T/eBXNQ4mDdP0EkUX4iWN0/73C74GdP3T8VIg5zskbdP+bvqjACPt0/dwz5FFc13T+fG2UbsSzdP0waSUUyJt0/W0XaBaAg3T/ssDXnDxvdP8ZzI+iBFd0/oJJsB/YP3T84/9pDbArdP3iXOZzkBN0/kyRUD1//3D8lWveb2/ncP1LV8EBa9Nw/tgIkEonw3D/a5/WPGO7cP1pgCHeo69w/vdJAxzjp3D+FroSAyebcPyFsuaJa5Nw/9YzELezh3D9Jm4shft/cP1Aq9H0Q3dw/HNbjQqPa3D+aY9nZYdncP9FNnbHh2dw/5FjOjWHa3D+yv2xu4drcPxW9eFNh29w/9IvyPOHb3D8xZ9oqYdzcP7iJMB3h3Nw/ei71E2Hd3D9lkCgP4d3cP4RCdBkM39w/W8MDtTji3D/YClYDZuXcPxscpgSU6Nw/PxQvucLr3D9sKiwh8u7cP+Cv2Dwi8tw/ARBwDFP13D9v0C2QhPjcPweRTci2+9w/spAHJTr/3D9d8/lJkwXdP6WiGzfvC90/fytB7k0S3T9EtkBxrxjdP2wI8sETH90/V4Yu4nol3T8cNdHT5CvdP0O8tphRMt0/qWe9MsE43T86KcWjMz/dP4rRoM8kSN0/2KUkBD1R3T/4sqLgWlrdP05sY2p+Y90/mtu1pqds3T88q++a1nXdP5EwbUwLf90/Y3aRwEWI3T9mR8b8hZHdP9I4fAbMmt0/GpQVLHqm3T+vmRanyrLdPwI87WAlv90/uBFoZorL3T+8EmvE+dfdP/fE74dz5N0/b2kFvvfw3T/bKdFzhv3dP6BGjrYfCt4/VkWOk8MW3j+e8/J8LyXeP9qrvQ+aNN4/FjcsbxRE3j/YxJSznlPeP/SZf/U4Y94/rZGnTeNy3j9XoPrUnYLeP5NXmqRokt4/NWzc1UOi3j+vPUuCL7LeP1V9fYGOw94/zMTTpWXW3j9JXObrU+neP6tSaX5Z/N4/ZBR6iHYP3z9BsaA1qyLfP+Qm0bH3Nd8/GLBsKVxJ3z/3GEPJ2FzfPyMYlL5tcN8/rVVU3zyF3z+nuwmQRJzfP7FCogBus98/sIWEe7nK3z/xcPJLJ+LfP51sDL63+d8/pkpqj7UI4D9xARneoBTgPxQPevKdIOA/pwJr9Kws4D8aO/nPJDngP3aTP0ANR+A/B6asnQ1V4D8QtzMmJmPgP4iinhhXceA/cICRtKB/4D81XI46A47gP5H/+Ot+nOA/aNEaCxSr4D8ZySbbwrngP7eyvjKgyOA/OZeWzSHZ4D+wKwAAxOngP7IB4yqH+uA/tlKosGsL4T8hhkL1cRzhP3vkNF6aLeE/P3mbUuU+4T9qJDM7U1DhPy3dYYLkYeE/HSc/lJlz4T8kPdBkNIfhP+c5M9wtm+E/aHn2DVWv4T+YDNaXqsPhP7i+Zhov2OE/zZgmOePs4T+J2I2axwHiP2ZeIOjcFuI/u5Z/ziMs4j/e4Xz9nEHiPw4XePm5WOI/+rFE/Y1w4j8ZeQU3oIjiP2Vym5vxoOI/SnrzJIO54j+AtifSVdLiP1MUoqdq6+I/H9w/r8IE4z9NZHb4Xh7jP07ueJhAOOM/lzD/X7NT4z8WFIELVHDjPyxsNwRKjeM/qOWfyZaq4z+OdkDkO8jjP/fY6+U65uM/oXgIapUE5D+M7dkVTSPkPzsfzZhjQuQ/XC3HrNph5D+Mex82z4LkP6IvWZyNpeQ/9jDpf8LI5D8DnQRDcOzkP2DZWliZEOU//O2kQ0A15T8qwjqaZ1rlPz2FrgMSgOU/N49uOkKm5T/GCm4M+8zlPw5ARTcb9eU/58lo4tgf5j8HMo44PkvmPzc68RtPd+Y/s5S/jQ+k5j9RhE+vg9HmP9g3ZcOv/+Y/ArOHL5gu5z+9JGZ9QV7nPz+ZTlywjuc/UT9A1HXA5z+kJ+uNN/bnP3HEO8juLOg/t7IdJKJk6D9+eCGAWJ3oPwGuT/sY1+g/T0kk+OoR6T+1q7Qf1k3pPz1DA2Xiiuk/KcmDCBjJ6T8zYtObfwjqP2NXDvwUTeo/OAuzeheT6j/EgBKaktrqP6mkolmSI+s/IIK1PCNu6z9kYaBRUrrrP81mWzktCOw/rg2jL8JX7D8/sKUTIKnsPzI7SHFW/Ow/DazA0VBW7T/PNE2rYbPtP0lN0WPIEu4/Sy+/xZt07j/ApOXH89juP66mBKHpP+8/hUrv3Jep7z+YHLA5DQvwPxn7VHDHQvA/M2M4IAp88D++98spS7nwPwC/Vg5p+fA/ZZqbDXo78T9Ng1hFlX/xPxbHd0bTxfE/gYygMk4O8j+/eKbcIVnyP5MgLexrpvI/bUffBEz28j95/qbx40jzP962ekwnofM/NiTTMwT/8z8smG/Yc2D0PztEo3mrxfQ/4JSrjeQu9T8Ye5YuXZz1P6XtnpRYDvY/HBr7nx+F9j8l+m50AQH3P0B6XilUgvc/yhSZh4sM+D8K98IzHaL4PwBIEKQhP/k/Ui7n6Srk+T+FsCBm2pH6P8m9YdjiSPs/lKbzxQoK/D9sSIdJL9b8P4J0YmFHrv0/psKm1meT/j/MuxV0TYr/P9y0WZ9ITgBA31DdTQ/hAEBExEqviH4BQIGp7YLrJwJAFNw6ZJ/eAkCJm8nJRqQDQGkNVZPLegRAmskb825kBUBRzjHL3WMGQIBHbKnvfQdAJozlMpzFCEBAa0OFDDMKQB7wgSkuzQtAzb4At7ycDUDzT3rI4qwPQLR4qqERBhFANOUu9tlmEkCo+KySxwUUQJD4nFTc9BVAmveug81NGEBIU6OmKfUaQCUMf5XEPh5A1ObLfxM5IUCz2i6tNwAkQCWiBuzf2CdAYdXvkWqGLUDjY8XvNWAzQOKQ8BbaLjxAV9uxP53VSUCIZMXvNWBzQAAAAACj4aFBAAAAAKPhoUEAAAAAo+GhQQAAAACj4aFBAAAAAKPhoUEAAAAAo+GhQQAAAACj4aFBAAAAAKPhoUEAAAAAo+GhQQAAAACj4aFBAAAAAKPhoUEAAAAAo+GhQQAAAACj4aFBAAAAAKPhoUEAAAAAo+GhQQAAAACj4aFBAAAAAKPhoUEAAAAAo+GhQQAAAACj4aFBAAAAAKPhoUEAAAAAo+GhQQAAAACj4aFBAAAAAKPhoUEAAAAAo+GhQQAAAACj4aFBAAAAAKPhoUEAAAAAo+GhQQAAAACj4aFBAAAAAKPhoUEAAAAAo+GhQQAAAACj4aFBAAAAAKPhoUEAAAAAo+GhQQAAAACj4aFBAAAAAKPhoUEAAAAAo+GhQQAAAACj4aFBAAAAAKPhoUEAAAAAo+GhQQAAAACj4aFBAAAAAKPhoUEAAAAAo+GhQQAAAACj4aFBAAAAAKPhoUEAAAAAo+GhQQAAAACj4aFBAAAAAKPhoUEAAAAAo+GhQQAAAACj4aFBAAAAAKPhoUEAAAAAo+GhQQAAAACj4aFBAAAAAKPhoUEAAAAAo+GhQQAAAACj4aFBAAAAAKPhoUEAAAAAo+GhQQAAAACj4aFBAAAAAKPhoUEAAAAAo+GhQQAAAACj4aFBAAAAAKPhoUEAAAAAo+GhQQAAAACj4aFBAAAAAKPhoUEAAAAAo+GhQQAAAACj4aFBAAAAAKPhoUEAAAAAo+GhQQAAAACj4aFBAAAAAKPhoUEAAAAAo+GhQQAAAACj4aFBAAAAAKPhoUEAAAAAo+GhQQAAAACj4aFBAAAAAKPhoUEAAAAAo+GhQQAAAACj4aFBAAAAAKPhoUEAAAAAo+GhQQAAAACj4aFBAAAAAKPhoUEAAAAAo+GhQQAAAACj4aFBAAAAAKPhoUEAAAAAo+GhQQAAAACj4aFBAAAAAKPhoUEAAAAAo+GhQQAAAACj4aFBAAAAAKPhoUEAAAAAo+GhQQAAAACj4aFBAAAAAKPhoUEAAAAAo+GhQQAAAACj4aFBAAAAAKPhoUEAAAAAo+GhQQAAAACj4aFBAAAAAKPhoUEAAAAAo+GhQQAAAACj4aFBAAAAAKPhoUEAAAAAo+GhQQAAAACj4aFBAAAAAKPhoUEAAAAAo+GhQQAAAACj4aFBAAAAAKPhoUEAAAAAo+GhQQAAAACj4aFBAAAAAKPhoUEAAAAAo+GhQQAAAACj4aFBAAAAAKPhoUEAAAAAo+GhQQAAAACj4aFBAAAAAKPhoUEAAAAAo+GhQQAAAACj4aFBAAAAAKPhoUE=",
          "dtype": "f8"
         },
         "xaxis": "x",
         "y": {
          "bdata": "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",
          "dtype": "f8"
         }
        },
        {
         "line": {
          "color": "black",
          "width": 2
         },
         "mode": "lines",
         "name": "Critical Point",
         "showlegend": false,
         "type": "scatter",
         "x": [
          1,
          1
         ],
         "y": [
          0,
          3000
         ]
        },
        {
         "marker": {
          "color": "black",
          "size": 10
         },
         "mode": "markers",
         "name": "Critical Point",
         "showlegend": false,
         "type": "scatter",
         "x": [
          1
         ],
         "y": [
          0
         ]
        },
        {
         "fill": "toself",
         "fillcolor": "rgba(0, 0, 255, 0.2)",
         "hoverinfo": "skip",
         "line": {
          "width": 0
         },
         "name": "Shaded Criticality",
         "showlegend": false,
         "type": "scatter",
         "x": {
          "bdata": "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",
          "dtype": "f8"
         },
         "y": {
          "bdata": "m++GH9VlhUDd0wjLPY2FQB+4inamtIVAYJwMIg/chUCigI7NdwOGQONkEHngKoZAJUmSJElShkBmLRTQsXmGQKgRlnsaoYZA6vUXJ4PIhkAr2pnS6++GQG2+G35UF4dArqKdKb0+h0Dwhh/VJWaHQDFroYCOjYdAc08jLPe0h0C1M6XXX9yHQPYXJ4PIA4hAOPyoLjEriEB54CramVKIQLvErIUCeohA/KguMWuhiEA+jbDc08iIQIBxMog88IhAwVW0M6UXiUADOjbfDT+JQEQeuIp2ZolAhgI6Nt+NiUDI5rvhR7WJQAnLPY2w3IlAS6+/OBkEikCMk0HkgSuKQM53w4/qUopAD1xFO1N6ikBRQMfmu6GKQJMkSZIkyYpA1AjLPY3wikAW7Uzp9ReLQFfRzpReP4tAmbVQQMdmi0DamdLrL46LQBx+VJeYtYtAXmLWQgHdi0CfRljuaQSMQOEq2pnSK4xAIg9cRTtTjEBk893wo3qMQKbXX5wMooxA57vhR3XJjEApoGPz3fCMQGqE5Z5GGI1ArGhnSq8/jUDtTOn1F2eNQC8xa6GAjo1AcRXtTOm1jUCy+W74Ud2NQPTd8KO6BI5ANcJyTyMsjkB3pvT6i1OOQLiKdqb0eo5A+m74UV2ijkA8U3r9xcmOQH03/Kgu8Y5Avxt+VJcYj0AAAAAAAECPQELkgatoZ49AhMgDV9GOj0DFrIUCOraPQAeRB66i3Y9ApLrErIUCkEDFrIUCOhaQQOaeRljuKZBABpEHrqI9kEAng8gDV1GQQEh1iVkLZZBAaWdKr794kECKWQsFdIyQQKpLzFoooJBAyz2NsNyzkEDsL04GkceQQA0iD1xF25BALhTQsfnukEBOBpEHrgKRQG/4UV1iFpFAkOoSsxYqkUCx3NMIyz2RQNLOlF5/UZFA8sBVtDNlkUATsxYK6HiRQDSl11+cjJFAVZeYtVCgkUB1iVkLBbSRQJZ7GmG5x5FAt23btm3bkUDYX5wMIu+RQPlRXWLWApJAGUQeuIoWkkA6Nt8NPyqSQFsooGPzPZJAfBphuadRkkCdDCIPXGWSQL3+4mQQeZJA3vCjusSMkkD/4mQQeaCSQCDVJWYttJJAQcfmu+HHkkBhuacRltuSQIKraGdK75JAo50pvf4Ck0DEj+oSsxaTQOSBq2hnKpNABXRsvhs+k0AmZi0U0FGTQEdY7mmEZZNAaEqvvzh5k0CIPHAV7YyTQKkuMWuhoJNAyiDywFW0k0DrErMWCsiTQAwFdGy+25NALPc0wnLvk0BN6fUXJwOUQG7btm3bFpRAj813w48qlECwvzgZRD6UQNCx+W74UZRA8aO6xKxllEASlnsaYXmUQDOIPHAVjZRAU3r9xcmglEB0bL4bfrSUQJVef3EyyJRAtlBAx+bblEDXQgEdm++UQPc0wnJPA5VAGCeDyAMXlUA5GUQeuCqVQFoLBXRsPpVAe/3FySBSlUCb74Yf1WWVQLzhR3WJeZVA3dMIyz2NlUD+xckg8qCVQB+4inamtJVAP6pLzFrIlUBgnAwiD9yVQIGOzXfD75VAooCOzXcDlkDCck8jLBeWQONkEHngKpZABFfRzpQ+lkAlSZIkSVKWQEY7U3r9ZZZAZi0U0LF5lkCHH9UlZo2WQKgRlnsaoZZAyQNX0c60lkDq9Rcng8iWQAro2Hw33JZAK9qZ0uvvlkBMzFoooAOXQG2+G35UF5dAjrDc0wgrl0Cuop0pvT6XQM+UXn9xUpdA8IYf1SVml0AReeAq2nmXQDFroYCOjZdAUl1i1kKhl0BzTyMs97SXQJRB5IGryJdAtTOl11/cl0DVJWYtFPCXQPYXJ4PIA5hAFwro2HwXmEA4/KguMSuYQFnuaYTlPphAeeAq2plSmECa0usvTmaYQLvErIUCephA3LZt27aNmED8qC4xa6GYQB2b74YftZhAPo2w3NPImEBff3EyiNyYQIBxMog88JhAoGPz3fADmUDBVbQzpReZQOJHdYlZK5lAAzo23w0/mUAkLPc0wlKZQEQeuIp2ZplAZRB54Cp6mUCGAjo2342ZQKf0+ouToZlAyOa74Ue1mUDo2Hw3/MiZQAnLPY2w3JlAKr3+4mTwmUBLr784GQSaQGuhgI7NF5pAjJNB5IErmkCthQI6Nj+aQM53w4/qUppA72mE5Z5mmkAPXEU7U3qaQDBOBpEHjppAUUDH5ruhmkByMog8cLWaQJMkSZIkyZpAsxYK6NjcmkDUCMs9jfCaQPX6i5NBBJtAFu1M6fUXm0A33w0/qiubQFfRzpReP5tAeMOP6hJTm0CZtVBAx2abQLqnEZZ7eptA2pnS6y+Om0D7i5NB5KGbQBx+VJeYtZtAPXAV7UzJm0BeYtZCAd2bQH5Ul5i18JtAn0ZY7mkEnEDAOBlEHhicQOEq2pnSK5xAAh2b74Y/nEAiD1xFO1OcQEMBHZvvZpxAZPPd8KN6nECF5Z5GWI6cQKbXX5wMopxAxskg8sC1nEDnu+FHdcmcQAiuop0p3ZxAKaBj893wnEBJkiRJkgSdQGqE5Z5GGJ1Ai3am9PornUCsaGdKrz+dQM1aKKBjU51A7Uzp9RdnnUAOP6pLzHqdQC8xa6GAjp1AUCMs9zSinUBxFe1M6bWdQJEHrqKdyZ1Asvlu+FHdnUDT6y9OBvGdQPTd8KO6BJ5AFdCx+W4YnkA1wnJPIyyeQFa0M6XXP55Ad6b0+otTnkCYmLVQQGeeQLiKdqb0ep5A2Xw3/KiOnkD6bvhRXaKeQBthuacRtp5APFN6/cXJnkBcRTtTet2eQH03/Kgu8Z5Anim9/uIEn0C/G35UlxifQOANP6pLLJ9AAAAAAABAn0Ah8sBVtFOfQELkgatoZ59AY9ZCAR17n0CEyANX0Y6fQKS6xKyFop9AxayFAjq2n0DmnkZY7smfQAeRB66i3Z9AJ4PIA1fxn0CkusSshQKgQLUzpddfDKBAxayFAjoWoEDVJWYtFCCgQOaeRljuKaBA9hcng8gzoEAGkQeuoj2gQBcK6Nh8R6BAJ4PIA1dRoEA4/KguMVugQEh1iVkLZaBAWO5phOVuoEBpZ0qvv3igQHngKtqZgqBAilkLBXSMoECa0usvTpagQKpLzFoooKBAu8SshQKqoEDLPY2w3LOgQNy2bdu2vaBA7C9OBpHHoED8qC4xa9GgQA0iD1xF26BAHZvvhh/loEAuFNCx+e6gQD6NsNzT+KBATgaRB64CoUBff3EyiAyhQG/4UV1iFqFAgHEyiDwgoUCQ6hKzFiqhQKBj893wM6FAsdzTCMs9oUDBVbQzpUehQNLOlF5/UaFA4kd1iVlboUDywFW0M2WhQAM6Nt8Nb6FAE7MWCuh4oUAkLPc0woKhQDSl11+cjKFARB64inaWoUBVl5i1UKChQGUQeeAqqqFAdYlZCwW0oUCGAjo2372hQJZ7GmG5x6FAp/T6i5PRoUC3bdu2bduhQMfmu+FH5aFA2F+cDCLvoUDo2Hw3/PihQPlRXWLWAqJACcs9jbAMokAZRB64ihaiQCq9/uJkIKJAOjbfDT8qokBLr784GTSiQFsooGPzPaJAa6GAjs1HokB8GmG5p1GiQIyTQeSBW6JAnQwiD1xlokCthQI6Nm+iQL3+4mQQeaJAznfDj+qCokDe8KO6xIyiQO9phOWelqJA/+JkEHmgokAPXEU7U6qiQCDVJWYttKJAME4GkQe+okBBx+a74ceiQFFAx+a70aJAYbmnEZbbokByMog8cOWiQIKraGdK76JAkyRJkiT5okCjnSm9/gKjQLMWCujYDKNAxI/qErMWo0DUCMs9jSCjQOSBq2hnKqNA9fqLk0E0o0AFdGy+Gz6jQBbtTOn1R6NAJmYtFNBRo0A23w0/qlujQEdY7mmEZaNAV9HOlF5vo0BoSq+/OHmjQHjDj+oSg6NAiDxwFe2Mo0CZtVBAx5ajQKkuMWuhoKNAuqcRlnuqo0DKIPLAVbSjQNqZ0usvvqNA6xKzFgrIo0D7i5NB5NGjQAwFdGy+26NAHH5Ul5jlo0As9zTCcu+jQD1wFe1M+aNATen1FycDpEBeYtZCAQ2kQG7btm3bFqRAflSXmLUgpECPzXfDjyqkQJ9GWO5pNKRAsL84GUQ+pEDAOBlEHkikQNCx+W74UaRA4SramdJbpEDxo7rErGWkQAEdm++Gb6RAEpZ7GmF5pEAiD1xFO4OkQDOIPHAVjaRAQwEdm++WpEBTev3FyaCkQGTz3fCjqqRAdGy+G360pECF5Z5GWL6kQJVef3EyyKRApddfnAzSpEC2UEDH5tukQMbJIPLA5aRA10IBHZvvpEDnu+FHdfmkQPc0wnJPA6VACK6inSkNpUAYJ4PIAxelQCmgY/PdIKVAORlEHrgqpUBJkiRJkjSlQFoLBXRsPqVAaoTlnkZIpUB7/cXJIFKlQIt2pvT6W6VAm++GH9VlpUCsaGdKr2+lQLzhR3WJeaVAzVoooGODpUDd0wjLPY2lQO1M6fUXl6VA/sXJIPKgpUAOP6pLzKqlQB+4inamtKVALzFroYC+pUA/qkvMWsilQFAjLPc00qVAYJwMIg/cpUBwFe1M6eWlQIGOzXfD76VAkQeuop35pUCigI7NdwOmQLL5bvhRDaZAwnJPIywXpkDT6y9OBiGmQONkEHngKqZA9N3wo7o0pkAEV9HOlD6mQBTQsfluSKZAJUmSJElSpkA1wnJPI1ymQEY7U3r9ZaZAVrQzpddvpkBmLRTQsXmmQHem9PqLg6ZAhx/VJWaNpkCYmLVQQJemQKgRlnsaoaZAuIp2pvSqpkDJA1fRzrSmQNl8N/yovqZA6vUXJ4PIpkD6bvhRXdKmQAro2Hw33KZAG2G5pxHmpkAr2pnS6++mQDxTev3F+aZATMxaKKADp0BcRTtTeg2nQG2+G35UF6dAfTf8qC4hp0COsNzTCCunQJ4pvf7iNKdArqKdKb0+p0C/G35Ul0inQM+UXn9xUqdA3w0/qktcp0Dwhh/VJWanQAAAAAAAcKdAAAAAAABwp0Dwhh/VJWanQN8NP6pLXKdAz5Ref3FSp0C/G35Ul0inQK6inSm9PqdAnim9/uI0p0COsNzTCCunQH03/KguIadAbb4bflQXp0BcRTtTeg2nQEzMWiigA6dAPFN6/cX5pkAr2pnS6++mQBthuacR5qZACujYfDfcpkD6bvhRXdKmQOr1FyeDyKZA2Xw3/Ki+pkDJA1fRzrSmQLiKdqb0qqZAqBGWexqhpkCYmLVQQJemQIcf1SVmjaZAd6b0+ouDpkBmLRTQsXmmQFa0M6XXb6ZARjtTev1lpkA1wnJPI1ymQCVJkiRJUqZAFNCx+W5IpkAEV9HOlD6mQPTd8KO6NKZA42QQeeAqpkDT6y9OBiGmQMJyTyMsF6ZAsvlu+FENpkCigI7NdwOmQJEHrqKd+aVAgY7Nd8PvpUBwFe1M6eWlQGCcDCIP3KVAUCMs9zTSpUA/qkvMWsilQC8xa6GAvqVAH7iKdqa0pUAOP6pLzKqlQP7FySDyoKVA7Uzp9ReXpUDd0wjLPY2lQM1aKKBjg6VAvOFHdYl5pUCsaGdKr2+lQJvvhh/VZaVAi3am9PpbpUB7/cXJIFKlQGqE5Z5GSKVAWgsFdGw+pUBJkiRJkjSlQDkZRB64KqVAKaBj890gpUAYJ4PIAxelQAiuop0pDaVA9zTCck8DpUDnu+FHdfmkQNdCAR2b76RAxskg8sDlpEC2UEDH5tukQKXXX5wM0qRAlV5/cTLIpECF5Z5GWL6kQHRsvht+tKRAZPPd8KOqpEBTev3FyaCkQEMBHZvvlqRAM4g8cBWNpEAiD1xFO4OkQBKWexpheaRAAR2b74ZvpEDxo7rErGWkQOEq2pnSW6RA0LH5bvhRpEDAOBlEHkikQLC/OBlEPqRAn0ZY7mk0pECPzXfDjyqkQH5Ul5i1IKRAbtu2bdsWpEBeYtZCAQ2kQE3p9RcnA6RAPXAV7Uz5o0As9zTCcu+jQBx+VJeY5aNADAV0bL7bo0D7i5NB5NGjQOsSsxYKyKNA2pnS6y++o0DKIPLAVbSjQLqnEZZ7qqNAqS4xa6Ggo0CZtVBAx5ajQIg8cBXtjKNAeMOP6hKDo0BoSq+/OHmjQFfRzpReb6NAR1juaYRlo0A23w0/qlujQCZmLRTQUaNAFu1M6fVHo0AFdGy+Gz6jQPX6i5NBNKNA5IGraGcqo0DUCMs9jSCjQMSP6hKzFqNAsxYK6NgMo0CjnSm9/gKjQJMkSZIk+aJAgqtoZ0rvokByMog8cOWiQGG5pxGW26JAUUDH5rvRokBBx+a74ceiQDBOBpEHvqJAINUlZi20okAPXEU7U6qiQP/iZBB5oKJA72mE5Z6WokDe8KO6xIyiQM53w4/qgqJAvf7iZBB5okCthQI6Nm+iQJ0MIg9cZaJAjJNB5IFbokB8GmG5p1GiQGuhgI7NR6JAWyigY/M9okBLr784GTSiQDo23w0/KqJAKr3+4mQgokAZRB64ihaiQAnLPY2wDKJA+VFdYtYCokDo2Hw3/PihQNhfnAwi76FAx+a74UfloUC3bdu2bduhQKf0+ouT0aFAlnsaYbnHoUCGAjo2372hQHWJWQsFtKFAZRB54CqqoUBVl5i1UKChQEQeuIp2lqFANKXXX5yMoUAkLPc0woKhQBOzFgroeKFAAzo23w1voUDywFW0M2WhQOJHdYlZW6FA0s6UXn9RoUDBVbQzpUehQLHc0wjLPaFAoGPz3fAzoUCQ6hKzFiqhQIBxMog8IKFAb/hRXWIWoUBff3EyiAyhQE4GkQeuAqFAPo2w3NP4oEAuFNCx+e6gQB2b74Yf5aBADSIPXEXboED8qC4xa9GgQOwvTgaRx6BA3LZt27a9oEDLPY2w3LOgQLvErIUCqqBAqkvMWiigoECa0usvTpagQIpZCwV0jKBAeeAq2pmCoEBpZ0qvv3igQFjuaYTlbqBASHWJWQtloEA4/KguMVugQCeDyANXUaBAFwro2HxHoEAGkQeuoj2gQPYXJ4PIM6BA5p5GWO4poEDVJWYtFCCgQMWshQI6FqBAtTOl118MoECkusSshQKgQCeDyANX8Z9AB5EHrqLdn0DmnkZY7smfQMWshQI6tp9ApLrErIWin0CEyANX0Y6fQGPWQgEde59AQuSBq2hnn0Ah8sBVtFOfQAAAAAAAQJ9A4A0/qkssn0C/G35UlxifQJ4pvf7iBJ9AfTf8qC7xnkBcRTtTet2eQDxTev3FyZ5AG2G5pxG2nkD6bvhRXaKeQNl8N/yojp5AuIp2pvR6nkCYmLVQQGeeQHem9PqLU55AVrQzpdc/nkA1wnJPIyyeQBXQsfluGJ5A9N3wo7oEnkDT6y9OBvGdQLL5bvhR3Z1AkQeuop3JnUBxFe1M6bWdQFAjLPc0op1ALzFroYCOnUAOP6pLzHqdQO1M6fUXZ51AzVoooGNTnUCsaGdKrz+dQIt2pvT6K51AaoTlnkYYnUBJkiRJkgSdQCmgY/Pd8JxACK6inSndnEDnu+FHdcmcQMbJIPLAtZxAptdfnAyinECF5Z5GWI6cQGTz3fCjepxAQwEdm+9mnEAiD1xFO1OcQAIdm++GP5xA4SramdIrnEDAOBlEHhicQJ9GWO5pBJxAflSXmLXwm0BeYtZCAd2bQD1wFe1MyZtAHH5Ul5i1m0D7i5NB5KGbQNqZ0usvjptAuqcRlnt6m0CZtVBAx2abQHjDj+oSU5tAV9HOlF4/m0A33w0/qiubQBbtTOn1F5tA9fqLk0EEm0DUCMs9jfCaQLMWCujY3JpAkyRJkiTJmkByMog8cLWaQFFAx+a7oZpAME4GkQeOmkAPXEU7U3qaQO9phOWeZppAznfDj+pSmkCthQI6Nj+aQIyTQeSBK5pAa6GAjs0XmkBLr784GQSaQCq9/uJk8JlACcs9jbDcmUDo2Hw3/MiZQMjmu+FHtZlAp/T6i5OhmUCGAjo2342ZQGUQeeAqeplARB64inZmmUAkLPc0wlKZQAM6Nt8NP5lA4kd1iVkrmUDBVbQzpReZQKBj893wA5lAgHEyiDzwmEBff3EyiNyYQD6NsNzTyJhAHZvvhh+1mED8qC4xa6GYQNy2bdu2jZhAu8SshQJ6mECa0usvTmaYQHngKtqZUphAWe5phOU+mEA4/KguMSuYQBcK6Nh8F5hA9hcng8gDmEDVJWYtFPCXQLUzpddf3JdAlEHkgavIl0BzTyMs97SXQFJdYtZCoZdAMWuhgI6Nl0AReeAq2nmXQPCGH9UlZpdAz5Ref3FSl0Cuop0pvT6XQI6w3NMIK5dAbb4bflQXl0BMzFoooAOXQCvamdLr75ZACujYfDfclkDq9Rcng8iWQMkDV9HOtJZAqBGWexqhlkCHH9UlZo2WQGYtFNCxeZZARjtTev1llkAlSZIkSVKWQARX0c6UPpZA42QQeeAqlkDCck8jLBeWQKKAjs13A5ZAgY7Nd8PvlUBgnAwiD9yVQD+qS8xayJVAH7iKdqa0lUD+xckg8qCVQN3TCMs9jZVAvOFHdYl5lUCb74Yf1WWVQHv9xckgUpVAWgsFdGw+lUA5GUQeuCqVQBgng8gDF5VA9zTCck8DlUDXQgEdm++UQLZQQMfm25RAlV5/cTLIlEB0bL4bfrSUQFN6/cXJoJRAM4g8cBWNlEASlnsaYXmUQPGjusSsZZRA0LH5bvhRlECwvzgZRD6UQI/Nd8OPKpRAbtu2bdsWlEBN6fUXJwOUQCz3NMJy75NADAV0bL7bk0DrErMWCsiTQMog8sBVtJNAqS4xa6Ggk0CIPHAV7YyTQGhKr784eZNAR1juaYRlk0AmZi0U0FGTQAV0bL4bPpNA5IGraGcqk0DEj+oSsxaTQKOdKb3+ApNAgqtoZ0rvkkBhuacRltuSQEHH5rvhx5JAINUlZi20kkD/4mQQeaCSQN7wo7rEjJJAvf7iZBB5kkCdDCIPXGWSQHwaYbmnUZJAWyigY/M9kkA6Nt8NPyqSQBlEHriKFpJA+VFdYtYCkkDYX5wMIu+RQLdt27Zt25FAlnsaYbnHkUB1iVkLBbSRQFWXmLVQoJFANKXXX5yMkUATsxYK6HiRQPLAVbQzZZFA0s6UXn9RkUCx3NMIyz2RQJDqErMWKpFAb/hRXWIWkUBOBpEHrgKRQC4U0LH57pBADSIPXEXbkEDsL04GkceQQMs9jbDcs5BAqkvMWiigkECKWQsFdIyQQGlnSq+/eJBASHWJWQtlkEAng8gDV1GQQAaRB66iPZBA5p5GWO4pkEDFrIUCOhaQQKS6xKyFApBAB5EHrqLdj0DFrIUCOraPQITIA1fRjo9AQuSBq2hnj0AAAAAAAECPQL8bflSXGI9AfTf8qC7xjkA8U3r9xcmOQPpu+FFdoo5AuIp2pvR6jkB3pvT6i1OOQDXCck8jLI5A9N3wo7oEjkCy+W74Ud2NQHEV7UzptY1ALzFroYCOjUDtTOn1F2eNQKxoZ0qvP41AaoTlnkYYjUApoGPz3fCMQOe74Ud1yYxAptdfnAyijEBk893wo3qMQCIPXEU7U4xA4SramdIrjECfRljuaQSMQF5i1kIB3YtAHH5Ul5i1i0DamdLrL46LQJm1UEDHZotAV9HOlF4/i0AW7Uzp9ReLQNQIyz2N8IpAkyRJkiTJikBRQMfmu6GKQA9cRTtTeopAznfDj+pSikCMk0HkgSuKQEuvvzgZBIpACcs9jbDciUDI5rvhR7WJQIYCOjbfjYlARB64inZmiUADOjbfDT+JQMFVtDOlF4lAgHEyiDzwiEA+jbDc08iIQPyoLjFroYhAu8SshQJ6iEB54CramVKIQDj8qC4xK4hA9hcng8gDiEC1M6XXX9yHQHNPIyz3tIdAMWuhgI6Nh0Dwhh/VJWaHQK6inSm9PodAbb4bflQXh0Ar2pnS6++GQOr1FyeDyIZAqBGWexqhhkBmLRTQsXmGQCVJkiRJUoZA42QQeeAqhkCigI7NdwOGQGCcDCIP3IVAH7iKdqa0hUDd0wjLPY2FQJvvhh/VZYVAWgsFdGw+hUAYJ4PIAxeFQNdCAR2b74RAlV5/cTLIhEBTev3FyaCEQBKWexpheYRA0LH5bvhRhECPzXfDjyqEQE3p9RcnA4RADAV0bL7bg0DKIPLAVbSDQIg8cBXtjINAR1juaYRlg0AFdGy+Gz6DQMSP6hKzFoNAgqtoZ0rvgkBBx+a74ceCQP/iZBB5oIJAvf7iZBB5gkB8GmG5p1GCQDo23w0/KoJA+VFdYtYCgkC3bdu2bduBQHWJWQsFtIFANKXXX5yMgUDywFW0M2WBQLHc0wjLPYFAb/hRXWIWgUAuFNCx+e6AQOwvTgaRx4BAqkvMWiiggEBpZ0qvv3iAQCeDyANXUYBA5p5GWO4pgECkusSshQKAQMWshQI6tn9AQuSBq2hnf0C/G35Ulxh/QDxTev3FyX5AuIp2pvR6fkA1wnJPIyx+QLL5bvhR3X1ALzFroYCOfUCsaGdKrz99QCmgY/Pd8HxAptdfnAyifEAiD1xFO1N8QJ9GWO5pBHxAHH5Ul5i1e0CZtVBAx2Z7QBbtTOn1F3tAkyRJkiTJekAPXEU7U3p6QIyTQeSBK3pACcs9jbDceUCGAjo23415QAM6Nt8NP3lAgHEyiDzweED8qC4xa6F4QHngKtqZUnhA9hcng8gDeEBzTyMs97R3QPCGH9UlZndAbb4bflQXd0Dq9Rcng8h2QGYtFNCxeXZA42QQeeAqdkBgnAwiD9x1QN3TCMs9jXVAWgsFdGw+dUDXQgEdm+90QFN6/cXJoHRA0LH5bvhRdEBN6fUXJwN0QMog8sBVtHNAR1juaYRlc0DEj+oSsxZzQEHH5rvhx3JAvf7iZBB5ckA6Nt8NPypyQLdt27Zt23FANKXXX5yMcUCx3NMIyz1xQC4U0LH57nBAqkvMWiigcEAng8gDV1FwQKS6xKyFAnBAQuSBq2hnb0A8U3r9xcluQDXCck8jLG5ALzFroYCObUApoGPz3fBsQCIPXEU7U2xAHH5Ul5i1a0AW7Uzp9RdrQA9cRTtTempACcs9jbDcaUADOjbfDT9pQPyoLjFroWhA9hcng8gDaEDwhh/VJWZnQOr1FyeDyGZA42QQeeAqZkDd0wjLPY1lQNdCAR2b72RA0LH5bvhRZEDKIPLAVbRjQMSP6hKzFmNAvf7iZBB5YkC3bdu2bdthQLHc0wjLPWFAqkvMWiigYECkusSshQJgQDxTev3FyV5ALzFroYCOXUAiD1xFO1NcQBbtTOn1F1tACcs9jbDcWUD8qC4xa6FYQPCGH9UlZldA42QQeeAqVkDXQgEdm+9UQMog8sBVtFNAvf7iZBB5UkCx3NMIyz1RQKS6xKyFAlBALzFroYCOTUAW7Uzp9RdLQPyoLjFroUhA42QQeeAqRkDKIPLAVbRDQLHc0wjLPUFALzFroYCOPUD8qC4xa6E4QMog8sBVtDNALzFroYCOLUDKIPLAVbQjQMog8sBVtBNAAAAAAAAAAAA=",
          "dtype": "f8"
         }
        },
        {
         "fill": "toself",
         "fillcolor": "rgba(255, 165, 0, 0.2)",
         "hoverinfo": "skip",
         "line": {
          "width": 0
         },
         "name": "Shaded Criticality",
         "showlegend": false,
         "type": "scatter",
         "x": {
          "bdata": "HT6HBLIbVkAdPocEshtGQNJStLBCej1AHT6HBLIbNkB+/jidwa8xQNJStLBCei1AaiK/KTlEKUAdPocEshsmQDc3eCDXpiNAfv44ncGvIUDC8BamiNkgQM5m0uE3OCBAEAbYHhFFH0Dp1r7Dhy4eQHhgVbO5Kh1AQLVI8NI3HECo77x3OlQbQGZBeD+JfhpA9OYazoK1GUBOIcQaD/gYQFKlRLunuhZAGjKmtoxZFECZQbhF4msSQLwf/UOu0xBAzUUo5gf5DkDKxYCb+68MQJ5JYKFWtwpAQBw0n5b/CEBK+Les+HwHQA0O6gRoJgZAHPLnAhk4BUBz4Yps5JAEQAYQcUis8wNAz5FfNZJfA0AJVOri0NMCQE6qI6K4TwJAP4MIg6zSAUAMfRDlH1wBQCyieGaU6wBASwzoIZiAAEC6qZY60SEAQMMQbzi4ov8/irr/aPQH/z+KwVt1/nL+P9B6V1GE4/0/QRdE3zlZ/T/hLSZp2NP8P2OSBygeU/w/DBWz183W+z8jOWNVrl77PyEuXK739vo/feup2722+j8yCtEqs3f6P0TfV03POfo/RGDCQQr9+T/ZIh5QXMH5P/iDvQa+hvk/Ug4fNyhN+T84a/7ykxT5P15ZjIn63Pg/CiH/L6Sc+D8tnwTdYAn4P0MZjI/XfPc/NLpN7ZT29j/U2eqvL3b2PxOlNZFH+/U/e4UXWoSF9T8NmB4PlRT1P7fchjYvqPQ/Guo7NA5A9D9O29q48tvzP8i+syPpkfM/qSgwpCRL8z8T8vnSWAbzP2xcg+Nww/I/2MbcKVmC8j9mXWkH/0LyP9XJGtlQBfI/10EQ5z3J8T/R+HhVto7xP106nRarVfE/DRYgDIsl8T/BFphrSfjwP2h2d0D0y/A//9hDYISg8D8USOXp8nXwP94cBEI5TPA/XaGdD1Ej8D8AAAAAAADwPwAAAAAAAPA/AAAAAAAA8D8AAAAAAADwPwAAAAAAAPA/AAAAAAAA8D8AAAAAAADwPwAAAAAAAPA/AAAAAAAA8D8AAAAAAADwPwAAAAAAAPA/AAAAAAAA8D8AAAAAAADwPwAAAAAAAPA/AAAAAAAA8D8AAAAAAADwPwAAAAAAAPA/AAAAAAAA8D8AAAAAAADwPwAAAAAAAPA/AAAAAAAA8D8AAAAAAADwPwAAAAAAAPA/AAAAAAAA8D8AAAAAAADwPwAAAAAAAPA/AAAAAAAA8D8AAAAAAADwPwAAAAAAAPA/AAAAAAAA8D8AAAAAAADwPwAAAAAAAPA/AAAAAAAA8D8AAAAAAADwPwAAAAAAAPA/AAAAAAAA8D8AAAAAAADwPwAAAAAAAPA/AAAAAAAA8D8AAAAAAADwPwAAAAAAAPA/AAAAAAAA8D8AAAAAAADwPwAAAAAAAPA/AAAAAAAA8D8AAAAAAADwPwAAAAAAAPA/AAAAAAAA8D8AAAAAAADwPwAAAAAAAPA/AAAAAAAA8D8AAAAAAADwPwAAAAAAAPA/AAAAAAAA8D8AAAAAAADwPwAAAAAAAPA/AAAAAAAA8D8AAAAAAADwPwAAAAAAAPA/AAAAAAAA8D8AAAAAAADwPwAAAAAAAPA/AAAAAAAA8D8AAAAAAADwPwAAAAAAAPA/AAAAAAAA8D8AAAAAAADwPwAAAAAAAPA/AAAAAAAA8D8AAAAAAADwPwAAAAAAAPA/AAAAAAAA8D8AAAAAAADwPwAAAAAAAPA/AAAAAAAA8D8AAAAAAADwPwAAAAAAAPA/AAAAAAAA8D8AAAAAAADwPwAAAAAAAPA/AAAAAAAA8D8AAAAAAADwPwAAAAAAAPA/AAAAAAAA8D8AAAAAAADwPwAAAAAAAPA/AAAAAAAA8D8AAAAAAADwPw==",
          "dtype": "f8"
         },
         "y": {
          "bdata": "yiDywFW0E0DKIPLAVbQjQC8xa6GAji1AyiDywFW0M0D8qC4xa6E4QC8xa6GAjj1AsdzTCMs9QUDKIPLAVbRDQONkEHngKkZA/KguMWuhSEAW7Uzp9RdLQC8xa6GAjk1ApLrErIUCUECx3NMIyz1RQL3+4mQQeVJAyiDywFW0U0DXQgEdm+9UQONkEHngKlZA8IYf1SVmV0D8qC4xa6FYQAnLPY2w3FlAFu1M6fUXW0AiD1xFO1NcQC8xa6GAjl1APFN6/cXJXkCkusSshQJgQKpLzFoooGBAsdzTCMs9YUC3bdu2bdthQL3+4mQQeWJAxI/qErMWY0DKIPLAVbRjQNCx+W74UWRA10IBHZvvZEDd0wjLPY1lQONkEHngKmZA6vUXJ4PIZkDwhh/VJWZnQPYXJ4PIA2hA/KguMWuhaEADOjbfDT9pQAnLPY2w3GlAD1xFO1N6akAW7Uzp9RdrQBx+VJeYtWtAIg9cRTtTbEApoGPz3fBsQC8xa6GAjm1ANcJyTyMsbkA8U3r9xcluQELkgatoZ29ApLrErIUCcEAng8gDV1FwQKpLzFoooHBALhTQsfnucECx3NMIyz1xQDSl11+cjHFAt23btm3bcUA6Nt8NPypyQL3+4mQQeXJAQcfmu+HHckDEj+oSsxZzQEdY7mmEZXNAyiDywFW0c0BN6fUXJwN0QNCx+W74UXRAU3r9xcmgdEDXQgEdm+90QFoLBXRsPnVA3dMIyz2NdUBgnAwiD9x1QONkEHngKnZAZi0U0LF5dkDq9Rcng8h2QG2+G35UF3dA8IYf1SVmd0BzTyMs97R3QPYXJ4PIA3hAeeAq2plSeED8qC4xa6F4QIBxMog88HhAAzo23w0/eUCGAjo23415QAnLPY2w3HlAjJNB5IErekAPXEU7U3p6QJMkSZIkyXpAFu1M6fUXe0AW7Uzp9Rd7QJMkSZIkyXpAD1xFO1N6ekCMk0HkgSt6QAnLPY2w3HlAhgI6Nt+NeUADOjbfDT95QIBxMog88HhA/KguMWuheEB54CramVJ4QPYXJ4PIA3hAc08jLPe0d0Dwhh/VJWZ3QG2+G35UF3dA6vUXJ4PIdkBmLRTQsXl2QONkEHngKnZAYJwMIg/cdUDd0wjLPY11QFoLBXRsPnVA10IBHZvvdEBTev3FyaB0QNCx+W74UXRATen1FycDdEDKIPLAVbRzQEdY7mmEZXNAxI/qErMWc0BBx+a74cdyQL3+4mQQeXJAOjbfDT8qckC3bdu2bdtxQDSl11+cjHFAsdzTCMs9cUAuFNCx+e5wQKpLzFoooHBAJ4PIA1dRcECkusSshQJwQELkgatoZ29APFN6/cXJbkA1wnJPIyxuQC8xa6GAjm1AKaBj893wbEAiD1xFO1NsQBx+VJeYtWtAFu1M6fUXa0APXEU7U3pqQAnLPY2w3GlAAzo23w0/aUD8qC4xa6FoQPYXJ4PIA2hA8IYf1SVmZ0Dq9Rcng8hmQONkEHngKmZA3dMIyz2NZUDXQgEdm+9kQNCx+W74UWRAyiDywFW0Y0DEj+oSsxZjQL3+4mQQeWJAt23btm3bYUCx3NMIyz1hQKpLzFoooGBApLrErIUCYEA8U3r9xcleQC8xa6GAjl1AIg9cRTtTXEAW7Uzp9RdbQAnLPY2w3FlA/KguMWuhWEDwhh/VJWZXQONkEHngKlZA10IBHZvvVEDKIPLAVbRTQL3+4mQQeVJAsdzTCMs9UUCkusSshQJQQC8xa6GAjk1AFu1M6fUXS0D8qC4xa6FIQONkEHngKkZAyiDywFW0Q0Cx3NMIyz1BQC8xa6GAjj1A/KguMWuhOEDKIPLAVbQzQC8xa6GAji1AyiDywFW0I0DKIPLAVbQTQA==",
          "dtype": "f8"
         }
        },
        {
         "fill": "toself",
         "fillcolor": "rgba(255, 165, 0, 0.2)",
         "hoverinfo": "skip",
         "line": {
          "width": 0
         },
         "name": "Shaded Criticality",
         "showlegend": false,
         "type": "scatter",
         "x": {
          "bdata": "mBywOQ0L8D8Z+1Rwx0LwPzNjOCAKfPA/vvfLKUu58D8Av1YOafnwP2Wamw16O/E/TYNYRZV/8T8Wx3dG08XxP4GMoDJODvI/v3im3CFZ8j+TIC3sa6byP21H3wRM9vI/ef6m8eNI8z/etnpMJ6HzPzYk0zME//M/LJhv2HNg9D87RKN5q8X0P+CUq43kLvU/GHuWLl2c9T+l7Z6UWA72Pxwa+58fhfY/JfpudAEB9z9Ael4pVIL3P8oUmYeLDPg/CvfCMx2i+D8ASBCkIT/5P1Iu5+kq5Pk/hbAgZtqR+j/JvWHY4kj7P5Sm88UKCvw/bEiHSS/W/D+CdGJhR679P6bCptZnk/4/zLsVdE2K/z/ctFmfSE4AQN9Q3U0P4QBARMRKr4h+AUCBqe2C6ycCQBTcOmSf3gJAiZvJyUakA0BpDVWTy3oEQJrJG/NuZAVAUc4xy91jBkCAR2yp730HQCaM5TKcxQhAQGtDhQwzCkAe8IEpLs0LQM2+ALe8nA1A8096yOKsD0C0eKqhEQYRQDTlLvbZZhJAqPiskscFFECQ+JxU3PQVQJr3roPNTRhASFOjpin1GkAlDH+VxD4eQNTmy38TOSFAs9ourTcAJEAlogbs39gnQGHV75Fqhi1A42PF7zVgM0DikPAW2i48QFfbsT+d1UlAiGTF7zVgc0AAAAAAAADwPwAAAAAAAPA/AAAAAAAA8D8AAAAAAADwPwAAAAAAAPA/AAAAAAAA8D8AAAAAAADwPwAAAAAAAPA/AAAAAAAA8D8AAAAAAADwPwAAAAAAAPA/AAAAAAAA8D8AAAAAAADwPwAAAAAAAPA/AAAAAAAA8D8AAAAAAADwPwAAAAAAAPA/AAAAAAAA8D8AAAAAAADwPwAAAAAAAPA/AAAAAAAA8D8AAAAAAADwPwAAAAAAAPA/AAAAAAAA8D8AAAAAAADwPwAAAAAAAPA/AAAAAAAA8D8AAAAAAADwPwAAAAAAAPA/AAAAAAAA8D8AAAAAAADwPwAAAAAAAPA/AAAAAAAA8D8AAAAAAADwPwAAAAAAAPA/AAAAAAAA8D8AAAAAAADwPwAAAAAAAPA/AAAAAAAA8D8AAAAAAADwPwAAAAAAAPA/AAAAAAAA8D8AAAAAAADwPwAAAAAAAPA/AAAAAAAA8D8AAAAAAADwPwAAAAAAAPA/AAAAAAAA8D8AAAAAAADwPwAAAAAAAPA/AAAAAAAA8D8AAAAAAADwPwAAAAAAAPA/AAAAAAAA8D8AAAAAAADwPwAAAAAAAPA/AAAAAAAA8D8AAAAAAADwPwAAAAAAAPA/AAAAAAAA8D8AAAAAAADwPwAAAAAAAPA/AAAAAAAA8D8AAAAAAADwPw==",
          "dtype": "f8"
         },
         "y": {
          "bdata": "J4PIA1dRoEA4/KguMVugQEh1iVkLZaBAWO5phOVuoEBpZ0qvv3igQHngKtqZgqBAilkLBXSMoECa0usvTpagQKpLzFoooKBAu8SshQKqoEDLPY2w3LOgQNy2bdu2vaBA7C9OBpHHoED8qC4xa9GgQA0iD1xF26BAHZvvhh/loEAuFNCx+e6gQD6NsNzT+KBATgaRB64CoUBff3EyiAyhQG/4UV1iFqFAgHEyiDwgoUCQ6hKzFiqhQKBj893wM6FAsdzTCMs9oUDBVbQzpUehQNLOlF5/UaFA4kd1iVlboUDywFW0M2WhQAM6Nt8Nb6FAE7MWCuh4oUAkLPc0woKhQDSl11+cjKFARB64inaWoUBVl5i1UKChQGUQeeAqqqFAdYlZCwW0oUCGAjo2372hQJZ7GmG5x6FAp/T6i5PRoUC3bdu2bduhQMfmu+FH5aFA2F+cDCLvoUDo2Hw3/PihQPlRXWLWAqJACcs9jbAMokAZRB64ihaiQCq9/uJkIKJAOjbfDT8qokBLr784GTSiQFsooGPzPaJAa6GAjs1HokB8GmG5p1GiQIyTQeSBW6JAnQwiD1xlokCthQI6Nm+iQL3+4mQQeaJAznfDj+qCokDe8KO6xIyiQO9phOWelqJA/+JkEHmgokAPXEU7U6qiQCDVJWYttKJAME4GkQe+okAwTgaRB76iQCDVJWYttKJAD1xFO1OqokD/4mQQeaCiQO9phOWelqJA3vCjusSMokDOd8OP6oKiQL3+4mQQeaJArYUCOjZvokCdDCIPXGWiQIyTQeSBW6JAfBphuadRokBroYCOzUeiQFsooGPzPaJAS6+/OBk0okA6Nt8NPyqiQCq9/uJkIKJAGUQeuIoWokAJyz2NsAyiQPlRXWLWAqJA6Nh8N/z4oUDYX5wMIu+hQMfmu+FH5aFAt23btm3boUCn9PqLk9GhQJZ7GmG5x6FAhgI6Nt+9oUB1iVkLBbShQGUQeeAqqqFAVZeYtVCgoUBEHriKdpahQDSl11+cjKFAJCz3NMKCoUATsxYK6HihQAM6Nt8Nb6FA8sBVtDNloUDiR3WJWVuhQNLOlF5/UaFAwVW0M6VHoUCx3NMIyz2hQKBj893wM6FAkOoSsxYqoUCAcTKIPCChQG/4UV1iFqFAX39xMogMoUBOBpEHrgKhQD6NsNzT+KBALhTQsfnuoEAdm++GH+WgQA0iD1xF26BA/KguMWvRoEDsL04GkcegQNy2bdu2vaBAyz2NsNyzoEC7xKyFAqqgQKpLzFoooKBAmtLrL06WoECKWQsFdIygQHngKtqZgqBAaWdKr794oEBY7mmE5W6gQEh1iVkLZaBAOPyoLjFboEAng8gDV1GgQA==",
          "dtype": "f8"
         }
        },
        {
         "fill": "toself",
         "fillcolor": "rgba(0, 0, 0, 0.1)",
         "hoverinfo": "skip",
         "line": {
          "width": 0
         },
         "name": "Self-Collapsed",
         "showlegend": false,
         "type": "scatter",
         "x": {
          "bdata": "AAAAAKPhoUEAAAAAAADwPw==",
          "dtype": "f8"
         },
         "y": {
          "bdata": "AAAAAAAAAAAAAAAAAAAAAA==",
          "dtype": "f8"
         }
        },
        {
         "fill": "toself",
         "fillcolor": "rgba(0, 0, 0, 0.1)",
         "hoverinfo": "skip",
         "line": {
          "width": 0
         },
         "name": "Self-Collapsed",
         "showlegend": false,
         "type": "scatter",
         "x": {
          "bdata": "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",
          "dtype": "f8"
         },
         "y": {
          "bdata": "Qcfmu+HHokBRQMfmu9GiQGG5pxGW26JAcjKIPHDlokCCq2hnSu+iQJMkSZIk+aJAo50pvf4Co0CzFgro2AyjQMSP6hKzFqNA1AjLPY0go0DkgatoZyqjQPX6i5NBNKNABXRsvhs+o0AW7Uzp9UejQCZmLRTQUaNANt8NP6pbo0BHWO5phGWjQFfRzpReb6NAaEqvvzh5o0B4w4/qEoOjQIg8cBXtjKNAmbVQQMeWo0CpLjFroaCjQLqnEZZ7qqNAyiDywFW0o0DamdLrL76jQOsSsxYKyKNA+4uTQeTRo0AMBXRsvtujQBx+VJeY5aNALPc0wnLvo0A9cBXtTPmjQE3p9RcnA6RAXmLWQgENpEBu27Zt2xakQH5Ul5i1IKRAj813w48qpECfRljuaTSkQLC/OBlEPqRAwDgZRB5IpEDQsflu+FGkQOEq2pnSW6RA8aO6xKxlpEABHZvvhm+kQBKWexpheaRAIg9cRTuDpEAziDxwFY2kQEMBHZvvlqRAU3r9xcmgpEBk893wo6qkQHRsvht+tKRAheWeRli+pECVXn9xMsikQKXXX5wM0qRAtlBAx+bbpEDGySDywOWkQNdCAR2b76RA57vhR3X5pED3NMJyTwOlQAiuop0pDaVAGCeDyAMXpUApoGPz3SClQDkZRB64KqVASZIkSZI0pUBaCwV0bD6lQGqE5Z5GSKVAe/3FySBSpUCLdqb0+lulQJvvhh/VZaVArGhnSq9vpUC84Ud1iXmlQM1aKKBjg6VA3dMIyz2NpUDtTOn1F5elQP7FySDyoKVADj+qS8yqpUAfuIp2prSlQC8xa6GAvqVAP6pLzFrIpUBQIyz3NNKlQGCcDCIP3KVAcBXtTOnlpUCBjs13w++lQJEHrqKd+aVAooCOzXcDpkCy+W74UQ2mQMJyTyMsF6ZA0+svTgYhpkDjZBB54CqmQPTd8KO6NKZABFfRzpQ+pkAU0LH5bkimQCVJkiRJUqZANcJyTyNcpkBGO1N6/WWmQFa0M6XXb6ZAZi0U0LF5pkB3pvT6i4OmQIcf1SVmjaZAmJi1UECXpkCoEZZ7GqGmQLiKdqb0qqZAyQNX0c60pkDZfDf8qL6mQOr1FyeDyKZA+m74UV3SpkAK6Nh8N9ymQBthuacR5qZAK9qZ0uvvpkA8U3r9xfmmQEzMWiigA6dAXEU7U3oNp0Btvht+VBenQH03/KguIadAjrDc0wgrp0CeKb3+4jSnQK6inSm9PqdAvxt+VJdIp0DPlF5/cVKnQN8NP6pLXKdA8IYf1SVmp0AAAAAAAHCnQAAAAAAAcKdA8IYf1SVmp0DfDT+qS1ynQM+UXn9xUqdAvxt+VJdIp0Cuop0pvT6nQJ4pvf7iNKdAjrDc0wgrp0B9N/yoLiGnQG2+G35UF6dAXEU7U3oNp0BMzFoooAOnQDxTev3F+aZAK9qZ0uvvpkAbYbmnEeamQAro2Hw33KZA+m74UV3SpkDq9Rcng8imQNl8N/yovqZAyQNX0c60pkC4inam9KqmQKgRlnsaoaZAmJi1UECXpkCHH9UlZo2mQHem9PqLg6ZAZi0U0LF5pkBWtDOl12+mQEY7U3r9ZaZANcJyTyNcpkAlSZIkSVKmQBTQsfluSKZABFfRzpQ+pkD03fCjujSmQONkEHngKqZA0+svTgYhpkDCck8jLBemQLL5bvhRDaZAooCOzXcDpkCRB66infmlQIGOzXfD76VAcBXtTOnlpUBgnAwiD9ylQFAjLPc00qVAP6pLzFrIpUAvMWuhgL6lQB+4inamtKVADj+qS8yqpUD+xckg8qClQO1M6fUXl6VA3dMIyz2NpUDNWiigY4OlQLzhR3WJeaVArGhnSq9vpUCb74Yf1WWlQIt2pvT6W6VAe/3FySBSpUBqhOWeRkilQFoLBXRsPqVASZIkSZI0pUA5GUQeuCqlQCmgY/PdIKVAGCeDyAMXpUAIrqKdKQ2lQPc0wnJPA6VA57vhR3X5pEDXQgEdm++kQMbJIPLA5aRAtlBAx+bbpECl11+cDNKkQJVef3EyyKRAheWeRli+pEB0bL4bfrSkQGTz3fCjqqRAU3r9xcmgpEBDAR2b75akQDOIPHAVjaRAIg9cRTuDpEASlnsaYXmkQAEdm++Gb6RA8aO6xKxlpEDhKtqZ0lukQNCx+W74UaRAwDgZRB5IpECwvzgZRD6kQJ9GWO5pNKRAj813w48qpEB+VJeYtSCkQG7btm3bFqRAXmLWQgENpEBN6fUXJwOkQD1wFe1M+aNALPc0wnLvo0AcflSXmOWjQAwFdGy+26NA+4uTQeTRo0DrErMWCsijQNqZ0usvvqNAyiDywFW0o0C6pxGWe6qjQKkuMWuhoKNAmbVQQMeWo0CIPHAV7YyjQHjDj+oSg6NAaEqvvzh5o0BX0c6UXm+jQEdY7mmEZaNANt8NP6pbo0AmZi0U0FGjQBbtTOn1R6NABXRsvhs+o0D1+ouTQTSjQOSBq2hnKqNA1AjLPY0go0DEj+oSsxajQLMWCujYDKNAo50pvf4Co0CTJEmSJPmiQIKraGdK76JAcjKIPHDlokBhuacRltuiQFFAx+a70aJAQcfmu+HHokA=",
          "dtype": "f8"
         }
        }
       ],
       "layout": {
        "annotations": [
         {
          "ax": 0,
          "ay": 20,
          "font": {
           "size": 12
          },
          "text": "Criticality",
          "x": 0.5,
          "xref": "paper",
          "y": 0,
          "yref": "paper"
         },
         {
          "ax": 0,
          "ay": -10,
          "font": {
           "color": "black"
          },
          "text": "Critical Point",
          "x": 0.5,
          "xref": "paper",
          "y": 1,
          "yref": "paper"
         }
        ],
        "height": 600,
        "margin": {
         "b": 40,
         "l": 0,
         "r": 0,
         "t": 40
        },
        "paper_bgcolor": "white",
        "plot_bgcolor": "white",
        "showlegend": false,
        "template": {
         "data": {
          "bar": [
           {
            "error_x": {
             "color": "#2a3f5f"
            },
            "error_y": {
             "color": "#2a3f5f"
            },
            "marker": {
             "line": {
              "color": "#E5ECF6",
              "width": 0.5
             },
             "pattern": {
              "fillmode": "overlay",
              "size": 10,
              "solidity": 0.2
             }
            },
            "type": "bar"
           }
          ],
          "barpolar": [
           {
            "marker": {
             "line": {
              "color": "#E5ECF6",
              "width": 0.5
             },
             "pattern": {
              "fillmode": "overlay",
              "size": 10,
              "solidity": 0.2
             }
            },
            "type": "barpolar"
           }
          ],
          "carpet": [
           {
            "aaxis": {
             "endlinecolor": "#2a3f5f",
             "gridcolor": "white",
             "linecolor": "white",
             "minorgridcolor": "white",
             "startlinecolor": "#2a3f5f"
            },
            "baxis": {
             "endlinecolor": "#2a3f5f",
             "gridcolor": "white",
             "linecolor": "white",
             "minorgridcolor": "white",
             "startlinecolor": "#2a3f5f"
            },
            "type": "carpet"
           }
          ],
          "choropleth": [
           {
            "colorbar": {
             "outlinewidth": 0,
             "ticks": ""
            },
            "type": "choropleth"
           }
          ],
          "contour": [
           {
            "colorbar": {
             "outlinewidth": 0,
             "ticks": ""
            },
            "colorscale": [
             [
              0,
              "#0d0887"
             ],
             [
              0.1111111111111111,
              "#46039f"
             ],
             [
              0.2222222222222222,
              "#7201a8"
             ],
             [
              0.3333333333333333,
              "#9c179e"
             ],
             [
              0.4444444444444444,
              "#bd3786"
             ],
             [
              0.5555555555555556,
              "#d8576b"
             ],
             [
              0.6666666666666666,
              "#ed7953"
             ],
             [
              0.7777777777777778,
              "#fb9f3a"
             ],
             [
              0.8888888888888888,
              "#fdca26"
             ],
             [
              1,
              "#f0f921"
             ]
            ],
            "type": "contour"
           }
          ],
          "contourcarpet": [
           {
            "colorbar": {
             "outlinewidth": 0,
             "ticks": ""
            },
            "type": "contourcarpet"
           }
          ],
          "heatmap": [
           {
            "colorbar": {
             "outlinewidth": 0,
             "ticks": ""
            },
            "colorscale": [
             [
              0,
              "#0d0887"
             ],
             [
              0.1111111111111111,
              "#46039f"
             ],
             [
              0.2222222222222222,
              "#7201a8"
             ],
             [
              0.3333333333333333,
              "#9c179e"
             ],
             [
              0.4444444444444444,
              "#bd3786"
             ],
             [
              0.5555555555555556,
              "#d8576b"
             ],
             [
              0.6666666666666666,
              "#ed7953"
             ],
             [
              0.7777777777777778,
              "#fb9f3a"
             ],
             [
              0.8888888888888888,
              "#fdca26"
             ],
             [
              1,
              "#f0f921"
             ]
            ],
            "type": "heatmap"
           }
          ],
          "histogram": [
           {
            "marker": {
             "pattern": {
              "fillmode": "overlay",
              "size": 10,
              "solidity": 0.2
             }
            },
            "type": "histogram"
           }
          ],
          "histogram2d": [
           {
            "colorbar": {
             "outlinewidth": 0,
             "ticks": ""
            },
            "colorscale": [
             [
              0,
              "#0d0887"
             ],
             [
              0.1111111111111111,
              "#46039f"
             ],
             [
              0.2222222222222222,
              "#7201a8"
             ],
             [
              0.3333333333333333,
              "#9c179e"
             ],
             [
              0.4444444444444444,
              "#bd3786"
             ],
             [
              0.5555555555555556,
              "#d8576b"
             ],
             [
              0.6666666666666666,
              "#ed7953"
             ],
             [
              0.7777777777777778,
              "#fb9f3a"
             ],
             [
              0.8888888888888888,
              "#fdca26"
             ],
             [
              1,
              "#f0f921"
             ]
            ],
            "type": "histogram2d"
           }
          ],
          "histogram2dcontour": [
           {
            "colorbar": {
             "outlinewidth": 0,
             "ticks": ""
            },
            "colorscale": [
             [
              0,
              "#0d0887"
             ],
             [
              0.1111111111111111,
              "#46039f"
             ],
             [
              0.2222222222222222,
              "#7201a8"
             ],
             [
              0.3333333333333333,
              "#9c179e"
             ],
             [
              0.4444444444444444,
              "#bd3786"
             ],
             [
              0.5555555555555556,
              "#d8576b"
             ],
             [
              0.6666666666666666,
              "#ed7953"
             ],
             [
              0.7777777777777778,
              "#fb9f3a"
             ],
             [
              0.8888888888888888,
              "#fdca26"
             ],
             [
              1,
              "#f0f921"
             ]
            ],
            "type": "histogram2dcontour"
           }
          ],
          "mesh3d": [
           {
            "colorbar": {
             "outlinewidth": 0,
             "ticks": ""
            },
            "type": "mesh3d"
           }
          ],
          "parcoords": [
           {
            "line": {
             "colorbar": {
              "outlinewidth": 0,
              "ticks": ""
             }
            },
            "type": "parcoords"
           }
          ],
          "pie": [
           {
            "automargin": true,
            "type": "pie"
           }
          ],
          "scatter": [
           {
            "fillpattern": {
             "fillmode": "overlay",
             "size": 10,
             "solidity": 0.2
            },
            "type": "scatter"
           }
          ],
          "scatter3d": [
           {
            "line": {
             "colorbar": {
              "outlinewidth": 0,
              "ticks": ""
             }
            },
            "marker": {
             "colorbar": {
              "outlinewidth": 0,
              "ticks": ""
             }
            },
            "type": "scatter3d"
           }
          ],
          "scattercarpet": [
           {
            "marker": {
             "colorbar": {
              "outlinewidth": 0,
              "ticks": ""
             }
            },
            "type": "scattercarpet"
           }
          ],
          "scattergeo": [
           {
            "marker": {
             "colorbar": {
              "outlinewidth": 0,
              "ticks": ""
             }
            },
            "type": "scattergeo"
           }
          ],
          "scattergl": [
           {
            "marker": {
             "colorbar": {
              "outlinewidth": 0,
              "ticks": ""
             }
            },
            "type": "scattergl"
           }
          ],
          "scattermap": [
           {
            "marker": {
             "colorbar": {
              "outlinewidth": 0,
              "ticks": ""
             }
            },
            "type": "scattermap"
           }
          ],
          "scattermapbox": [
           {
            "marker": {
             "colorbar": {
              "outlinewidth": 0,
              "ticks": ""
             }
            },
            "type": "scattermapbox"
           }
          ],
          "scatterpolar": [
           {
            "marker": {
             "colorbar": {
              "outlinewidth": 0,
              "ticks": ""
             }
            },
            "type": "scatterpolar"
           }
          ],
          "scatterpolargl": [
           {
            "marker": {
             "colorbar": {
              "outlinewidth": 0,
              "ticks": ""
             }
            },
            "type": "scatterpolargl"
           }
          ],
          "scatterternary": [
           {
            "marker": {
             "colorbar": {
              "outlinewidth": 0,
              "ticks": ""
             }
            },
            "type": "scatterternary"
           }
          ],
          "surface": [
           {
            "colorbar": {
             "outlinewidth": 0,
             "ticks": ""
            },
            "colorscale": [
             [
              0,
              "#0d0887"
             ],
             [
              0.1111111111111111,
              "#46039f"
             ],
             [
              0.2222222222222222,
              "#7201a8"
             ],
             [
              0.3333333333333333,
              "#9c179e"
             ],
             [
              0.4444444444444444,
              "#bd3786"
             ],
             [
              0.5555555555555556,
              "#d8576b"
             ],
             [
              0.6666666666666666,
              "#ed7953"
             ],
             [
              0.7777777777777778,
              "#fb9f3a"
             ],
             [
              0.8888888888888888,
              "#fdca26"
             ],
             [
              1,
              "#f0f921"
             ]
            ],
            "type": "surface"
           }
          ],
          "table": [
           {
            "cells": {
             "fill": {
              "color": "#EBF0F8"
             },
             "line": {
              "color": "white"
             }
            },
            "header": {
             "fill": {
              "color": "#C8D4E3"
             },
             "line": {
              "color": "white"
             }
            },
            "type": "table"
           }
          ]
         },
         "layout": {
          "annotationdefaults": {
           "arrowcolor": "#2a3f5f",
           "arrowhead": 0,
           "arrowwidth": 1
          },
          "autotypenumbers": "strict",
          "coloraxis": {
           "colorbar": {
            "outlinewidth": 0,
            "ticks": ""
           }
          },
          "colorscale": {
           "diverging": [
            [
             0,
             "#8e0152"
            ],
            [
             0.1,
             "#c51b7d"
            ],
            [
             0.2,
             "#de77ae"
            ],
            [
             0.3,
             "#f1b6da"
            ],
            [
             0.4,
             "#fde0ef"
            ],
            [
             0.5,
             "#f7f7f7"
            ],
            [
             0.6,
             "#e6f5d0"
            ],
            [
             0.7,
             "#b8e186"
            ],
            [
             0.8,
             "#7fbc41"
            ],
            [
             0.9,
             "#4d9221"
            ],
            [
             1,
             "#276419"
            ]
           ],
           "sequential": [
            [
             0,
             "#0d0887"
            ],
            [
             0.1111111111111111,
             "#46039f"
            ],
            [
             0.2222222222222222,
             "#7201a8"
            ],
            [
             0.3333333333333333,
             "#9c179e"
            ],
            [
             0.4444444444444444,
             "#bd3786"
            ],
            [
             0.5555555555555556,
             "#d8576b"
            ],
            [
             0.6666666666666666,
             "#ed7953"
            ],
            [
             0.7777777777777778,
             "#fb9f3a"
            ],
            [
             0.8888888888888888,
             "#fdca26"
            ],
            [
             1,
             "#f0f921"
            ]
           ],
           "sequentialminus": [
            [
             0,
             "#0d0887"
            ],
            [
             0.1111111111111111,
             "#46039f"
            ],
            [
             0.2222222222222222,
             "#7201a8"
            ],
            [
             0.3333333333333333,
             "#9c179e"
            ],
            [
             0.4444444444444444,
             "#bd3786"
            ],
            [
             0.5555555555555556,
             "#d8576b"
            ],
            [
             0.6666666666666666,
             "#ed7953"
            ],
            [
             0.7777777777777778,
             "#fb9f3a"
            ],
            [
             0.8888888888888888,
             "#fdca26"
            ],
            [
             1,
             "#f0f921"
            ]
           ]
          },
          "colorway": [
           "#636efa",
           "#EF553B",
           "#00cc96",
           "#ab63fa",
           "#FFA15A",
           "#19d3f3",
           "#FF6692",
           "#B6E880",
           "#FF97FF",
           "#FECB52"
          ],
          "font": {
           "color": "#2a3f5f"
          },
          "geo": {
           "bgcolor": "white",
           "lakecolor": "white",
           "landcolor": "#E5ECF6",
           "showlakes": true,
           "showland": true,
           "subunitcolor": "white"
          },
          "hoverlabel": {
           "align": "left"
          },
          "hovermode": "closest",
          "mapbox": {
           "style": "light"
          },
          "paper_bgcolor": "white",
          "plot_bgcolor": "#E5ECF6",
          "polar": {
           "angularaxis": {
            "gridcolor": "white",
            "linecolor": "white",
            "ticks": ""
           },
           "bgcolor": "#E5ECF6",
           "radialaxis": {
            "gridcolor": "white",
            "linecolor": "white",
            "ticks": ""
           }
          },
          "scene": {
           "xaxis": {
            "backgroundcolor": "#E5ECF6",
            "gridcolor": "white",
            "gridwidth": 2,
            "linecolor": "white",
            "showbackground": true,
            "ticks": "",
            "zerolinecolor": "white"
           },
           "yaxis": {
            "backgroundcolor": "#E5ECF6",
            "gridcolor": "white",
            "gridwidth": 2,
            "linecolor": "white",
            "showbackground": true,
            "ticks": "",
            "zerolinecolor": "white"
           },
           "zaxis": {
            "backgroundcolor": "#E5ECF6",
            "gridcolor": "white",
            "gridwidth": 2,
            "linecolor": "white",
            "showbackground": true,
            "ticks": "",
            "zerolinecolor": "white"
           }
          },
          "shapedefaults": {
           "line": {
            "color": "#2a3f5f"
           }
          },
          "ternary": {
           "aaxis": {
            "gridcolor": "white",
            "linecolor": "white",
            "ticks": ""
           },
           "baxis": {
            "gridcolor": "white",
            "linecolor": "white",
            "ticks": ""
           },
           "bgcolor": "#E5ECF6",
           "caxis": {
            "gridcolor": "white",
            "linecolor": "white",
            "ticks": ""
           }
          },
          "title": {
           "x": 0.05
          },
          "xaxis": {
           "automargin": true,
           "gridcolor": "white",
           "linecolor": "white",
           "ticks": "",
           "title": {
            "standoff": 15
           },
           "zerolinecolor": "white",
           "zerolinewidth": 2
          },
          "yaxis": {
           "automargin": true,
           "gridcolor": "white",
           "linecolor": "white",
           "ticks": "",
           "title": {
            "standoff": 15
           },
           "zerolinecolor": "white",
           "zerolinewidth": 2
          }
         }
        },
        "width": 400,
        "xaxis": {
         "dtick": 0.2,
         "gridcolor": "lightblue",
         "gridwidth": 1,
         "linecolor": "black",
         "linewidth": 2,
         "range": [
          0,
          2
         ],
         "showgrid": true,
         "side": "bottom",
         "tick0": 0,
         "tickcolor": "black",
         "tickfont": {
          "color": "black",
          "size": 10
         },
         "ticklen": 8,
         "tickmode": "linear",
         "tickwidth": 2,
         "title": {
          "text": ""
         }
        },
        "yaxis": {
         "domain": [
          0,
          1
         ],
         "dtick": 100,
         "gridcolor": "lightgray",
         "gridwidth": 1,
         "range": [
          3000,
          -300
         ],
         "showgrid": true,
         "tick0": 0,
         "tickcolor": "black",
         "ticklen": 5,
         "tickmode": "linear",
         "tickwidth": 2,
         "title": {
          "text": "Depth [mm]"
         },
         "zeroline": true,
         "zerolinecolor": "gray",
         "zerolinewidth": 2
        }
       }
      }
     },
     "metadata": {},
     "output_type": "display_data"
    }
   ],
   "source": [
    "from plotly_snow_profile import criticality_plots\n",
    "\n",
    "crit_plots_fig = criticality_plots(plot_weaklayer, plot_layers, dataframe)\n",
    "crit_plots_fig.show()"
   ]
  },
  {
   "cell_type": "code",
   "execution_count": 25,
   "id": "a31980f1",
   "metadata": {},
   "outputs": [
    {
     "data": {
      "application/vnd.plotly.v1+json": {
       "config": {
        "plotlyServerURL": "https://plot.ly"
       },
       "data": [
        {
         "colorscale": [
          [
           0,
           "rgb(255,245,240)"
          ],
          [
           0.125,
           "rgb(254,224,210)"
          ],
          [
           0.25,
           "rgb(252,187,161)"
          ],
          [
           0.375,
           "rgb(252,146,114)"
          ],
          [
           0.5,
           "rgb(251,106,74)"
          ],
          [
           0.625,
           "rgb(239,59,44)"
          ],
          [
           0.75,
           "rgb(203,24,29)"
          ],
          [
           0.875,
           "rgb(165,15,21)"
          ],
          [
           1,
           "rgb(103,0,13)"
          ]
         ],
         "hoverinfo": "skip",
         "reversescale": false,
         "showscale": false,
         "type": "heatmap",
         "x": [
          0,
          0.5,
          1
         ],
         "y": {
          "bdata": "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",
          "dtype": "f8"
         },
         "z": {
          "bdata": "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",
          "dtype": "f8",
          "shape": "610, 2"
         },
         "zmax": 1,
         "zmin": 0
        },
        {
         "colorscale": [
          [
           0,
           "rgb(255,245,240)"
          ],
          [
           0.125,
           "rgb(254,224,210)"
          ],
          [
           0.25,
           "rgb(252,187,161)"
          ],
          [
           0.375,
           "rgb(252,146,114)"
          ],
          [
           0.5,
           "rgb(251,106,74)"
          ],
          [
           0.625,
           "rgb(239,59,44)"
          ],
          [
           0.75,
           "rgb(203,24,29)"
          ],
          [
           0.875,
           "rgb(165,15,21)"
          ],
          [
           1,
           "rgb(103,0,13)"
          ]
         ],
         "hoverinfo": "skip",
         "reversescale": false,
         "showscale": false,
         "type": "heatmap",
         "x": [
          1,
          1.5,
          2
         ],
         "y": {
          "bdata": "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",
          "dtype": "f8"
         },
         "z": {
          "bdata": "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",
          "dtype": "f8",
          "shape": "610, 2"
         },
         "zmax": 1,
         "zmin": 0
        },
        {
         "colorbar": {
          "title": {
           "text": "Cum."
          }
         },
         "colorscale": [
          [
           0,
           "rgb(0,180,0)"
          ],
          [
           0.1,
           "rgb(80,200,0)"
          ],
          [
           0.2,
           "rgb(170,220,0)"
          ],
          [
           0.33,
           "yellow"
          ],
          [
           0.45,
           "rgb(255,180,0)"
          ],
          [
           0.55,
           "orange"
          ],
          [
           0.7,
           "orangered"
          ],
          [
           0.85,
           "red"
          ],
          [
           1,
           "darkred"
          ]
         ],
         "showscale": true,
         "type": "heatmap",
         "x": [
          2,
          2.5,
          3
         ],
         "y": {
          "bdata": "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",
          "dtype": "f8"
         },
         "z": {
          "bdata": "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",
          "dtype": "f8",
          "shape": "610, 2"
         },
         "zmax": 1,
         "zmin": 0
        },
        {
         "line": {
          "color": "lightgrey",
          "width": 0.5
         },
         "mode": "lines",
         "showlegend": false,
         "type": "scatter",
         "x": [
          2,
          2
         ],
         "y": [
          0,
          3000
         ]
        },
        {
         "line": {
          "color": "lightgrey",
          "width": 0.5
         },
         "mode": "lines",
         "showlegend": false,
         "type": "scatter",
         "x": [
          2.3,
          2.3
         ],
         "y": [
          0,
          3000
         ]
        },
        {
         "line": {
          "color": "lightgrey",
          "width": 0.5
         },
         "mode": "lines",
         "showlegend": false,
         "type": "scatter",
         "x": [
          2.6,
          2.6
         ],
         "y": [
          0,
          3000
         ]
        },
        {
         "line": {
          "color": "lightgrey",
          "width": 0.5
         },
         "mode": "lines",
         "showlegend": false,
         "type": "scatter",
         "x": [
          2.9,
          2.9
         ],
         "y": [
          0,
          3000
         ]
        },
        {
         "hoverinfo": "skip",
         "line": {
          "color": "white",
          "width": 0.5
         },
         "mode": "lines",
         "showlegend": false,
         "type": "scatter",
         "x": [
          0,
          3
         ],
         "y": [
          0,
          0
         ]
        },
        {
         "hoverinfo": "skip",
         "line": {
          "color": "white",
          "width": 0.5
         },
         "mode": "lines",
         "showlegend": false,
         "type": "scatter",
         "x": [
          0,
          3
         ],
         "y": [
          100,
          100
         ]
        },
        {
         "hoverinfo": "skip",
         "line": {
          "color": "white",
          "width": 0.5
         },
         "mode": "lines",
         "showlegend": false,
         "type": "scatter",
         "x": [
          0,
          3
         ],
         "y": [
          200,
          200
         ]
        },
        {
         "hoverinfo": "skip",
         "line": {
          "color": "white",
          "width": 0.5
         },
         "mode": "lines",
         "showlegend": false,
         "type": "scatter",
         "x": [
          0,
          3
         ],
         "y": [
          300,
          300
         ]
        },
        {
         "hoverinfo": "skip",
         "line": {
          "color": "white",
          "width": 0.5
         },
         "mode": "lines",
         "showlegend": false,
         "type": "scatter",
         "x": [
          0,
          3
         ],
         "y": [
          400,
          400
         ]
        },
        {
         "hoverinfo": "skip",
         "line": {
          "color": "white",
          "width": 0.5
         },
         "mode": "lines",
         "showlegend": false,
         "type": "scatter",
         "x": [
          0,
          3
         ],
         "y": [
          500,
          500
         ]
        },
        {
         "hoverinfo": "skip",
         "line": {
          "color": "white",
          "width": 0.5
         },
         "mode": "lines",
         "showlegend": false,
         "type": "scatter",
         "x": [
          0,
          3
         ],
         "y": [
          600,
          600
         ]
        },
        {
         "hoverinfo": "skip",
         "line": {
          "color": "white",
          "width": 0.5
         },
         "mode": "lines",
         "showlegend": false,
         "type": "scatter",
         "x": [
          0,
          3
         ],
         "y": [
          700,
          700
         ]
        },
        {
         "hoverinfo": "skip",
         "line": {
          "color": "white",
          "width": 0.5
         },
         "mode": "lines",
         "showlegend": false,
         "type": "scatter",
         "x": [
          0,
          3
         ],
         "y": [
          800,
          800
         ]
        },
        {
         "hoverinfo": "skip",
         "line": {
          "color": "white",
          "width": 0.5
         },
         "mode": "lines",
         "showlegend": false,
         "type": "scatter",
         "x": [
          0,
          3
         ],
         "y": [
          900,
          900
         ]
        },
        {
         "hoverinfo": "skip",
         "line": {
          "color": "white",
          "width": 0.5
         },
         "mode": "lines",
         "showlegend": false,
         "type": "scatter",
         "x": [
          0,
          3
         ],
         "y": [
          1000,
          1000
         ]
        },
        {
         "hoverinfo": "skip",
         "line": {
          "color": "white",
          "width": 0.5
         },
         "mode": "lines",
         "showlegend": false,
         "type": "scatter",
         "x": [
          0,
          3
         ],
         "y": [
          1100,
          1100
         ]
        },
        {
         "hoverinfo": "skip",
         "line": {
          "color": "white",
          "width": 0.5
         },
         "mode": "lines",
         "showlegend": false,
         "type": "scatter",
         "x": [
          0,
          3
         ],
         "y": [
          1200,
          1200
         ]
        },
        {
         "hoverinfo": "skip",
         "line": {
          "color": "white",
          "width": 0.5
         },
         "mode": "lines",
         "showlegend": false,
         "type": "scatter",
         "x": [
          0,
          3
         ],
         "y": [
          1300,
          1300
         ]
        },
        {
         "hoverinfo": "skip",
         "line": {
          "color": "white",
          "width": 0.5
         },
         "mode": "lines",
         "showlegend": false,
         "type": "scatter",
         "x": [
          0,
          3
         ],
         "y": [
          1400,
          1400
         ]
        },
        {
         "hoverinfo": "skip",
         "line": {
          "color": "white",
          "width": 0.5
         },
         "mode": "lines",
         "showlegend": false,
         "type": "scatter",
         "x": [
          0,
          3
         ],
         "y": [
          1500,
          1500
         ]
        },
        {
         "hoverinfo": "skip",
         "line": {
          "color": "white",
          "width": 0.5
         },
         "mode": "lines",
         "showlegend": false,
         "type": "scatter",
         "x": [
          0,
          3
         ],
         "y": [
          1600,
          1600
         ]
        },
        {
         "hoverinfo": "skip",
         "line": {
          "color": "white",
          "width": 0.5
         },
         "mode": "lines",
         "showlegend": false,
         "type": "scatter",
         "x": [
          0,
          3
         ],
         "y": [
          1700,
          1700
         ]
        },
        {
         "hoverinfo": "skip",
         "line": {
          "color": "white",
          "width": 0.5
         },
         "mode": "lines",
         "showlegend": false,
         "type": "scatter",
         "x": [
          0,
          3
         ],
         "y": [
          1800,
          1800
         ]
        },
        {
         "hoverinfo": "skip",
         "line": {
          "color": "white",
          "width": 0.5
         },
         "mode": "lines",
         "showlegend": false,
         "type": "scatter",
         "x": [
          0,
          3
         ],
         "y": [
          1900,
          1900
         ]
        },
        {
         "hoverinfo": "skip",
         "line": {
          "color": "white",
          "width": 0.5
         },
         "mode": "lines",
         "showlegend": false,
         "type": "scatter",
         "x": [
          0,
          3
         ],
         "y": [
          2000,
          2000
         ]
        },
        {
         "hoverinfo": "skip",
         "line": {
          "color": "white",
          "width": 0.5
         },
         "mode": "lines",
         "showlegend": false,
         "type": "scatter",
         "x": [
          0,
          3
         ],
         "y": [
          2100,
          2100
         ]
        },
        {
         "hoverinfo": "skip",
         "line": {
          "color": "white",
          "width": 0.5
         },
         "mode": "lines",
         "showlegend": false,
         "type": "scatter",
         "x": [
          0,
          3
         ],
         "y": [
          2200,
          2200
         ]
        },
        {
         "hoverinfo": "skip",
         "line": {
          "color": "white",
          "width": 0.5
         },
         "mode": "lines",
         "showlegend": false,
         "type": "scatter",
         "x": [
          0,
          3
         ],
         "y": [
          2300,
          2300
         ]
        },
        {
         "hoverinfo": "skip",
         "line": {
          "color": "white",
          "width": 0.5
         },
         "mode": "lines",
         "showlegend": false,
         "type": "scatter",
         "x": [
          0,
          3
         ],
         "y": [
          2400,
          2400
         ]
        },
        {
         "hoverinfo": "skip",
         "line": {
          "color": "white",
          "width": 0.5
         },
         "mode": "lines",
         "showlegend": false,
         "type": "scatter",
         "x": [
          0,
          3
         ],
         "y": [
          2500,
          2500
         ]
        },
        {
         "hoverinfo": "skip",
         "line": {
          "color": "white",
          "width": 0.5
         },
         "mode": "lines",
         "showlegend": false,
         "type": "scatter",
         "x": [
          0,
          3
         ],
         "y": [
          2600,
          2600
         ]
        },
        {
         "hoverinfo": "skip",
         "line": {
          "color": "white",
          "width": 0.5
         },
         "mode": "lines",
         "showlegend": false,
         "type": "scatter",
         "x": [
          0,
          3
         ],
         "y": [
          2700,
          2700
         ]
        },
        {
         "hoverinfo": "skip",
         "line": {
          "color": "white",
          "width": 0.5
         },
         "mode": "lines",
         "showlegend": false,
         "type": "scatter",
         "x": [
          0,
          3
         ],
         "y": [
          2800,
          2800
         ]
        },
        {
         "hoverinfo": "skip",
         "line": {
          "color": "white",
          "width": 0.5
         },
         "mode": "lines",
         "showlegend": false,
         "type": "scatter",
         "x": [
          0,
          3
         ],
         "y": [
          2900,
          2900
         ]
        },
        {
         "hoverinfo": "skip",
         "line": {
          "color": "white",
          "width": 0.5
         },
         "mode": "lines",
         "showlegend": false,
         "type": "scatter",
         "x": [
          0,
          3
         ],
         "y": [
          3000,
          3000
         ]
        },
        {
         "line": {
          "color": "black",
          "width": 2
         },
         "mode": "lines",
         "showlegend": false,
         "type": "scatter",
         "x": {
          "bdata": "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",
          "dtype": "f8"
         },
         "y": {
          "bdata": "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",
          "dtype": "f8"
         }
        }
       ],
       "layout": {
        "height": 600,
        "margin": {
         "b": 40,
         "l": 0,
         "r": 0,
         "t": 40
        },
        "paper_bgcolor": "white",
        "plot_bgcolor": "white",
        "template": {
         "data": {
          "bar": [
           {
            "error_x": {
             "color": "#2a3f5f"
            },
            "error_y": {
             "color": "#2a3f5f"
            },
            "marker": {
             "line": {
              "color": "#E5ECF6",
              "width": 0.5
             },
             "pattern": {
              "fillmode": "overlay",
              "size": 10,
              "solidity": 0.2
             }
            },
            "type": "bar"
           }
          ],
          "barpolar": [
           {
            "marker": {
             "line": {
              "color": "#E5ECF6",
              "width": 0.5
             },
             "pattern": {
              "fillmode": "overlay",
              "size": 10,
              "solidity": 0.2
             }
            },
            "type": "barpolar"
           }
          ],
          "carpet": [
           {
            "aaxis": {
             "endlinecolor": "#2a3f5f",
             "gridcolor": "white",
             "linecolor": "white",
             "minorgridcolor": "white",
             "startlinecolor": "#2a3f5f"
            },
            "baxis": {
             "endlinecolor": "#2a3f5f",
             "gridcolor": "white",
             "linecolor": "white",
             "minorgridcolor": "white",
             "startlinecolor": "#2a3f5f"
            },
            "type": "carpet"
           }
          ],
          "choropleth": [
           {
            "colorbar": {
             "outlinewidth": 0,
             "ticks": ""
            },
            "type": "choropleth"
           }
          ],
          "contour": [
           {
            "colorbar": {
             "outlinewidth": 0,
             "ticks": ""
            },
            "colorscale": [
             [
              0,
              "#0d0887"
             ],
             [
              0.1111111111111111,
              "#46039f"
             ],
             [
              0.2222222222222222,
              "#7201a8"
             ],
             [
              0.3333333333333333,
              "#9c179e"
             ],
             [
              0.4444444444444444,
              "#bd3786"
             ],
             [
              0.5555555555555556,
              "#d8576b"
             ],
             [
              0.6666666666666666,
              "#ed7953"
             ],
             [
              0.7777777777777778,
              "#fb9f3a"
             ],
             [
              0.8888888888888888,
              "#fdca26"
             ],
             [
              1,
              "#f0f921"
             ]
            ],
            "type": "contour"
           }
          ],
          "contourcarpet": [
           {
            "colorbar": {
             "outlinewidth": 0,
             "ticks": ""
            },
            "type": "contourcarpet"
           }
          ],
          "heatmap": [
           {
            "colorbar": {
             "outlinewidth": 0,
             "ticks": ""
            },
            "colorscale": [
             [
              0,
              "#0d0887"
             ],
             [
              0.1111111111111111,
              "#46039f"
             ],
             [
              0.2222222222222222,
              "#7201a8"
             ],
             [
              0.3333333333333333,
              "#9c179e"
             ],
             [
              0.4444444444444444,
              "#bd3786"
             ],
             [
              0.5555555555555556,
              "#d8576b"
             ],
             [
              0.6666666666666666,
              "#ed7953"
             ],
             [
              0.7777777777777778,
              "#fb9f3a"
             ],
             [
              0.8888888888888888,
              "#fdca26"
             ],
             [
              1,
              "#f0f921"
             ]
            ],
            "type": "heatmap"
           }
          ],
          "histogram": [
           {
            "marker": {
             "pattern": {
              "fillmode": "overlay",
              "size": 10,
              "solidity": 0.2
             }
            },
            "type": "histogram"
           }
          ],
          "histogram2d": [
           {
            "colorbar": {
             "outlinewidth": 0,
             "ticks": ""
            },
            "colorscale": [
             [
              0,
              "#0d0887"
             ],
             [
              0.1111111111111111,
              "#46039f"
             ],
             [
              0.2222222222222222,
              "#7201a8"
             ],
             [
              0.3333333333333333,
              "#9c179e"
             ],
             [
              0.4444444444444444,
              "#bd3786"
             ],
             [
              0.5555555555555556,
              "#d8576b"
             ],
             [
              0.6666666666666666,
              "#ed7953"
             ],
             [
              0.7777777777777778,
              "#fb9f3a"
             ],
             [
              0.8888888888888888,
              "#fdca26"
             ],
             [
              1,
              "#f0f921"
             ]
            ],
            "type": "histogram2d"
           }
          ],
          "histogram2dcontour": [
           {
            "colorbar": {
             "outlinewidth": 0,
             "ticks": ""
            },
            "colorscale": [
             [
              0,
              "#0d0887"
             ],
             [
              0.1111111111111111,
              "#46039f"
             ],
             [
              0.2222222222222222,
              "#7201a8"
             ],
             [
              0.3333333333333333,
              "#9c179e"
             ],
             [
              0.4444444444444444,
              "#bd3786"
             ],
             [
              0.5555555555555556,
              "#d8576b"
             ],
             [
              0.6666666666666666,
              "#ed7953"
             ],
             [
              0.7777777777777778,
              "#fb9f3a"
             ],
             [
              0.8888888888888888,
              "#fdca26"
             ],
             [
              1,
              "#f0f921"
             ]
            ],
            "type": "histogram2dcontour"
           }
          ],
          "mesh3d": [
           {
            "colorbar": {
             "outlinewidth": 0,
             "ticks": ""
            },
            "type": "mesh3d"
           }
          ],
          "parcoords": [
           {
            "line": {
             "colorbar": {
              "outlinewidth": 0,
              "ticks": ""
             }
            },
            "type": "parcoords"
           }
          ],
          "pie": [
           {
            "automargin": true,
            "type": "pie"
           }
          ],
          "scatter": [
           {
            "fillpattern": {
             "fillmode": "overlay",
             "size": 10,
             "solidity": 0.2
            },
            "type": "scatter"
           }
          ],
          "scatter3d": [
           {
            "line": {
             "colorbar": {
              "outlinewidth": 0,
              "ticks": ""
             }
            },
            "marker": {
             "colorbar": {
              "outlinewidth": 0,
              "ticks": ""
             }
            },
            "type": "scatter3d"
           }
          ],
          "scattercarpet": [
           {
            "marker": {
             "colorbar": {
              "outlinewidth": 0,
              "ticks": ""
             }
            },
            "type": "scattercarpet"
           }
          ],
          "scattergeo": [
           {
            "marker": {
             "colorbar": {
              "outlinewidth": 0,
              "ticks": ""
             }
            },
            "type": "scattergeo"
           }
          ],
          "scattergl": [
           {
            "marker": {
             "colorbar": {
              "outlinewidth": 0,
              "ticks": ""
             }
            },
            "type": "scattergl"
           }
          ],
          "scattermap": [
           {
            "marker": {
             "colorbar": {
              "outlinewidth": 0,
              "ticks": ""
             }
            },
            "type": "scattermap"
           }
          ],
          "scattermapbox": [
           {
            "marker": {
             "colorbar": {
              "outlinewidth": 0,
              "ticks": ""
             }
            },
            "type": "scattermapbox"
           }
          ],
          "scatterpolar": [
           {
            "marker": {
             "colorbar": {
              "outlinewidth": 0,
              "ticks": ""
             }
            },
            "type": "scatterpolar"
           }
          ],
          "scatterpolargl": [
           {
            "marker": {
             "colorbar": {
              "outlinewidth": 0,
              "ticks": ""
             }
            },
            "type": "scatterpolargl"
           }
          ],
          "scatterternary": [
           {
            "marker": {
             "colorbar": {
              "outlinewidth": 0,
              "ticks": ""
             }
            },
            "type": "scatterternary"
           }
          ],
          "surface": [
           {
            "colorbar": {
             "outlinewidth": 0,
             "ticks": ""
            },
            "colorscale": [
             [
              0,
              "#0d0887"
             ],
             [
              0.1111111111111111,
              "#46039f"
             ],
             [
              0.2222222222222222,
              "#7201a8"
             ],
             [
              0.3333333333333333,
              "#9c179e"
             ],
             [
              0.4444444444444444,
              "#bd3786"
             ],
             [
              0.5555555555555556,
              "#d8576b"
             ],
             [
              0.6666666666666666,
              "#ed7953"
             ],
             [
              0.7777777777777778,
              "#fb9f3a"
             ],
             [
              0.8888888888888888,
              "#fdca26"
             ],
             [
              1,
              "#f0f921"
             ]
            ],
            "type": "surface"
           }
          ],
          "table": [
           {
            "cells": {
             "fill": {
              "color": "#EBF0F8"
             },
             "line": {
              "color": "white"
             }
            },
            "header": {
             "fill": {
              "color": "#C8D4E3"
             },
             "line": {
              "color": "white"
             }
            },
            "type": "table"
           }
          ]
         },
         "layout": {
          "annotationdefaults": {
           "arrowcolor": "#2a3f5f",
           "arrowhead": 0,
           "arrowwidth": 1
          },
          "autotypenumbers": "strict",
          "coloraxis": {
           "colorbar": {
            "outlinewidth": 0,
            "ticks": ""
           }
          },
          "colorscale": {
           "diverging": [
            [
             0,
             "#8e0152"
            ],
            [
             0.1,
             "#c51b7d"
            ],
            [
             0.2,
             "#de77ae"
            ],
            [
             0.3,
             "#f1b6da"
            ],
            [
             0.4,
             "#fde0ef"
            ],
            [
             0.5,
             "#f7f7f7"
            ],
            [
             0.6,
             "#e6f5d0"
            ],
            [
             0.7,
             "#b8e186"
            ],
            [
             0.8,
             "#7fbc41"
            ],
            [
             0.9,
             "#4d9221"
            ],
            [
             1,
             "#276419"
            ]
           ],
           "sequential": [
            [
             0,
             "#0d0887"
            ],
            [
             0.1111111111111111,
             "#46039f"
            ],
            [
             0.2222222222222222,
             "#7201a8"
            ],
            [
             0.3333333333333333,
             "#9c179e"
            ],
            [
             0.4444444444444444,
             "#bd3786"
            ],
            [
             0.5555555555555556,
             "#d8576b"
            ],
            [
             0.6666666666666666,
             "#ed7953"
            ],
            [
             0.7777777777777778,
             "#fb9f3a"
            ],
            [
             0.8888888888888888,
             "#fdca26"
            ],
            [
             1,
             "#f0f921"
            ]
           ],
           "sequentialminus": [
            [
             0,
             "#0d0887"
            ],
            [
             0.1111111111111111,
             "#46039f"
            ],
            [
             0.2222222222222222,
             "#7201a8"
            ],
            [
             0.3333333333333333,
             "#9c179e"
            ],
            [
             0.4444444444444444,
             "#bd3786"
            ],
            [
             0.5555555555555556,
             "#d8576b"
            ],
            [
             0.6666666666666666,
             "#ed7953"
            ],
            [
             0.7777777777777778,
             "#fb9f3a"
            ],
            [
             0.8888888888888888,
             "#fdca26"
            ],
            [
             1,
             "#f0f921"
            ]
           ]
          },
          "colorway": [
           "#636efa",
           "#EF553B",
           "#00cc96",
           "#ab63fa",
           "#FFA15A",
           "#19d3f3",
           "#FF6692",
           "#B6E880",
           "#FF97FF",
           "#FECB52"
          ],
          "font": {
           "color": "#2a3f5f"
          },
          "geo": {
           "bgcolor": "white",
           "lakecolor": "white",
           "landcolor": "#E5ECF6",
           "showlakes": true,
           "showland": true,
           "subunitcolor": "white"
          },
          "hoverlabel": {
           "align": "left"
          },
          "hovermode": "closest",
          "mapbox": {
           "style": "light"
          },
          "paper_bgcolor": "white",
          "plot_bgcolor": "#E5ECF6",
          "polar": {
           "angularaxis": {
            "gridcolor": "white",
            "linecolor": "white",
            "ticks": ""
           },
           "bgcolor": "#E5ECF6",
           "radialaxis": {
            "gridcolor": "white",
            "linecolor": "white",
            "ticks": ""
           }
          },
          "scene": {
           "xaxis": {
            "backgroundcolor": "#E5ECF6",
            "gridcolor": "white",
            "gridwidth": 2,
            "linecolor": "white",
            "showbackground": true,
            "ticks": "",
            "zerolinecolor": "white"
           },
           "yaxis": {
            "backgroundcolor": "#E5ECF6",
            "gridcolor": "white",
            "gridwidth": 2,
            "linecolor": "white",
            "showbackground": true,
            "ticks": "",
            "zerolinecolor": "white"
           },
           "zaxis": {
            "backgroundcolor": "#E5ECF6",
            "gridcolor": "white",
            "gridwidth": 2,
            "linecolor": "white",
            "showbackground": true,
            "ticks": "",
            "zerolinecolor": "white"
           }
          },
          "shapedefaults": {
           "line": {
            "color": "#2a3f5f"
           }
          },
          "ternary": {
           "aaxis": {
            "gridcolor": "white",
            "linecolor": "white",
            "ticks": ""
           },
           "baxis": {
            "gridcolor": "white",
            "linecolor": "white",
            "ticks": ""
           },
           "bgcolor": "#E5ECF6",
           "caxis": {
            "gridcolor": "white",
            "linecolor": "white",
            "ticks": ""
           }
          },
          "title": {
           "x": 0.05
          },
          "xaxis": {
           "automargin": true,
           "gridcolor": "white",
           "linecolor": "white",
           "ticks": "",
           "title": {
            "standoff": 15
           },
           "zerolinecolor": "white",
           "zerolinewidth": 2
          },
          "yaxis": {
           "automargin": true,
           "gridcolor": "white",
           "linecolor": "white",
           "ticks": "",
           "title": {
            "standoff": 15
           },
           "zerolinecolor": "white",
           "zerolinewidth": 2
          }
         }
        },
        "width": 300,
        "xaxis": {
         "range": [
          0,
          3
         ],
         "ticktext": [
          "Fracture",
          "Propagation",
          "0.0",
          "0.3",
          "0.6",
          "0.9"
         ],
         "tickvals": [
          0.5,
          1.5,
          2,
          2.3,
          2.6,
          2.9
         ]
        },
        "yaxis": {
         "autorange": false,
         "domain": [
          0,
          1
         ],
         "range": [
          3000,
          -300
         ],
         "showticklabels": false
        }
       }
      }
     },
     "metadata": {},
     "output_type": "display_data"
    }
   ],
   "source": [
    "from plotly_snow_profile import criticality_heatmap\n",
    "\n",
    "crit_hm_fig = criticality_heatmap(plot_weaklayer, plot_layers, dataframe)\n",
    "crit_hm_fig.show()"
   ]
  },
  {
   "cell_type": "code",
   "execution_count": 9,
   "id": "aad32184",
   "metadata": {},
   "outputs": [
    {
     "data": {
      "image/png": "[encoded data removed]",
      "text/plain": [
       "<Figure size 1000x1000 with 1 Axes>"
      ]
     },
     "metadata": {},
     "output_type": "display_data"
    },
    {
     "data": {
      "image/png": "[encoded data removed]",
      "text/plain": [
       "<Figure size 1000x1000 with 1 Axes>"
      ]
     },
     "metadata": {},
     "output_type": "display_data"
    },
    {
     "data": {
      "image/png": "[encoded data removed]",
      "text/plain": [
       "<Figure size 1000x1000 with 1 Axes>"
      ]
     },
     "metadata": {},
     "output_type": "display_data"
    }
   ],
   "source": [
    "import matplotlib.pyplot as plt\n",
    "plt.figure(figsize=(10, 10))\n",
    "plt.plot(dataframe[\"wl_depth\"], dataframe[\"impact_criterion\"], label=\"Impact Criterion\")\n",
    "plt.plot(dataframe[\"wl_depth\"], dataframe[\"coupled_criterion\"], label=\"Coupled Criterion\")\n",
    "# plot vertical lines at the end of each layer\n",
    "for i, height in enumerate(heights):\n",
    "    plt.axvline(x=height, color=\"black\", linestyle=\"--\")\n",
    "plt.legend()\n",
    "plt.show()\n",
    "\n",
    "plt.figure(figsize=(10, 10))\n",
    "plt.plot(dataframe[\"wl_depth\"], dataframe[\"sserr_result\"], label=\"SSERR\")\n",
    "# plt.ylim(0, 4000)\n",
    "plt.legend()\n",
    "plt.show()\n",
    "\n",
    "plt.figure(figsize=(10, 10))\n",
    "plt.plot(dataframe[\"wl_depth\"], dataframe[\"touchdown_distance\"], label=\"Touchdown Distance\")\n",
    "plt.legend()\n",
    "plt.show()"
   ]
  },
  {
   "cell_type": "code",
   "execution_count": 15,
   "id": "c413e74f",
   "metadata": {},
   "outputs": [],
   "source": [
    "from PIL import Image\n",
    "from io import BytesIO\n",
    "\n",
    "figures = [crit_plots_fig, snow_profile_fig, crit_hm_fig]\n",
    "\n",
    "images = []\n",
    "for fig in figures:\n",
    "    width = fig.layout.width*2\n",
    "    height = fig.layout.height*2\n",
    "    img_bytes = fig.to_image(format=\"png\", width=width, height=height, scale=2)\n",
    "    image = Image.open(BytesIO(img_bytes))\n",
    "    images.append(image)\n",
    "\n",
    "total_width = sum(im.width for im in images)\n",
    "max_height = max(im.height for im in images)\n",
    "combined = Image.new(\"RGB\", (total_width, max_height), color=(255, 255, 255))\n",
    "x_offset = 0\n",
    "for im in images:\n",
    "    combined.paste(im, (x_offset, 0))\n",
    "    x_offset += im.width\n",
    "\n",
    "combined.save(\"plots/combined.png\")"
   ]
  },
  {
   "cell_type": "code",
   "execution_count": null,
   "id": "51fbfead",
   "metadata": {},
   "outputs": [],
   "source": [
    "def eval_weac_over_layers(parser: SnowPilotParser, scenario_config: ScenarioConfig, segments: list[Segment], weaklayer: WeakLayer, wl_spacing=100):\n",
    "    data_rows = []\n",
    "    # Extract layers\n",
    "    layers, density_method = parser.extract_layers()\n",
    "    heights = np.cumsum([layer.h for layer in layers])\n",
    "    # space evenly and append the last height\n",
    "    wl_depths = np.arange(wl_spacing, heights[-1], wl_spacing).tolist()\n",
    "    wl_depths.append(heights[-1])\n",
    "    \n",
    "    layers_copy = copy.deepcopy(layers)\n",
    "    for i, wl_depth in tqdm(enumerate(wl_depths), total=len(wl_depths), desc=\"Processing weak layers\", leave=False):\n",
    "        # only keep layers above the spacing\n",
    "        mask = heights <= wl_depth\n",
    "        new_layers = [layer for layer, keep in zip(layers_copy, mask) if keep]\n",
    "        # Add truncated layer if needed\n",
    "        depth = np.sum([layer.h for layer in new_layers]) if new_layers else 0.0\n",
    "        if depth < wl_depth:\n",
    "            additional_layer = copy.deepcopy(layers_copy[len(new_layers) if new_layers else 0])\n",
    "            additional_layer.h = wl_depth - depth\n",
    "            new_layers.append(additional_layer)\n",
    "        \n",
    "        model_input = ModelInput(\n",
    "            weak_layer=weaklayer,\n",
    "            layers=new_layers,\n",
    "            scenario_config=scenario_config,\n",
    "            segments=segments,\n",
    "        )\n",
    "        system = SystemModel(model_input=model_input)\n",
    "        \n",
    "        cc_result: CoupledCriterionResult = standard_criteria_evaluator.evaluate_coupled_criterion(system, print_call_stats=False)\n",
    "        sserr_result: SSERRResult = standard_criteria_evaluator.evaluate_SSERR(system, vertical=False, print_call_stats=False)\n",
    "\n",
    "        data_rows.append({\n",
    "            \"wl_depth\": wl_depth,\n",
    "            \"impact_criterion\": cc_result.initial_critical_skier_weight,\n",
    "            \"coupled_criterion\": cc_result.critical_skier_weight,\n",
    "            \"sserr_result\": sserr_result.SSERR,\n",
    "            \"touchdown_distance\": sserr_result.touchdown_distance,\n",
    "        })\n",
    "    return data_rows, layers, weaklayer"
   ]
  },
  {
   "cell_type": "code",
   "execution_count": 18,
   "id": "607d5905",
   "metadata": {},
   "outputs": [],
   "source": [
    "from PIL import Image\n",
    "from io import BytesIO\n",
    "import plotly.graph_objects as go\n",
    "\n",
    "def combine_plots(file_path: str, name: str, figures: list[go.Figure]):\n",
    "\n",
    "    images = []\n",
    "    for fig in figures:\n",
    "        width = fig.layout.width*2\n",
    "        height = fig.layout.height*2\n",
    "        img_bytes = fig.to_image(format=\"png\", width=width, height=height, scale=2)\n",
    "        image = Image.open(BytesIO(img_bytes))\n",
    "        images.append(image)\n",
    "\n",
    "    total_width = sum(im.width for im in images)\n",
    "    max_height = max(im.height for im in images)\n",
    "    combined = Image.new(\"RGB\", (total_width, max_height), color=(255, 255, 255))\n",
    "    x_offset = 0\n",
    "    for im in images:\n",
    "        combined.paste(im, (x_offset, 0))\n",
    "        x_offset += im.width\n",
    "\n",
    "    combined.save(f\"{file_path}/{name}.png\")"
   ]
  },
  {
   "cell_type": "code",
   "execution_count": null,
   "id": "b6303e33",
   "metadata": {},
   "outputs": [
    {
     "data": {
      "application/vnd.jupyter.widget-view+json": {
       "model_id": "17111781581b439d8c7bd3b3175bdaba",
       "version_major": 2,
       "version_minor": 0
      },
      "text/plain": [
       "Processing files:   0%|          | 0/100 [00:00<?, ?it/s]"
      ]
     },
     "metadata": {},
     "output_type": "display_data"
    },
    {
     "data": {
      "application/vnd.jupyter.widget-view+json": {
       "model_id": "5a2d2751d6ac41b181e7d00120d6c49e",
       "version_major": 2,
       "version_minor": 0
      },
      "text/plain": [
       "Processing weak layers:   0%|          | 0/60 [00:00<?, ?it/s]"
      ]
     },
     "metadata": {},
     "output_type": "display_data"
    },
    {
     "name": "stdout",
     "output_type": "stream",
     "text": [
      "--- The entire solution is cracked ---\n",
      "--- The entire solution is cracked ---\n",
      "--- The entire solution is cracked ---\n",
      "--- The entire solution is cracked ---\n",
      "--- The entire solution is cracked ---\n",
      "--- The entire solution is cracked ---\n",
      "--- The entire solution is cracked ---\n",
      "--- The entire solution is cracked ---\n",
      "--- The entire solution is cracked ---\n",
      "--- The entire solution is cracked ---\n",
      "--- The entire solution is cracked ---\n",
      "--- The entire solution is cracked ---\n",
      "--- The entire solution is cracked ---\n",
      "--- The entire solution is cracked ---\n",
      "--- The entire solution is cracked ---\n",
      "--- The entire solution is cracked ---\n",
      "--- The entire solution is cracked ---\n",
      "--- The entire solution is cracked ---\n",
      "--- The entire solution is cracked ---\n",
      "--- The entire solution is cracked ---\n",
      "292.25\n"
     ]
    },
    {
     "data": {
      "application/vnd.jupyter.widget-view+json": {
       "model_id": "e3844405680a495e9d3747ccb7664df8",
       "version_major": 2,
       "version_minor": 0
      },
      "text/plain": [
       "Processing weak layers:   0%|          | 0/22 [00:00<?, ?it/s]"
      ]
     },
     "metadata": {},
     "output_type": "display_data"
    },
    {
     "name": "stdout",
     "output_type": "stream",
     "text": [
      "163.7\n"
     ]
    },
    {
     "data": {
      "application/vnd.jupyter.widget-view+json": {
       "model_id": "07d8ef5d48ce42cc8810627e103256bd",
       "version_major": 2,
       "version_minor": 0
      },
      "text/plain": [
       "Processing weak layers:   0%|          | 0/18 [00:00<?, ?it/s]"
      ]
     },
     "metadata": {},
     "output_type": "display_data"
    },
    {
     "name": "stdout",
     "output_type": "stream",
     "text": [
      "235.0\n"
     ]
    },
    {
     "data": {
      "application/vnd.jupyter.widget-view+json": {
       "model_id": "fe1af22162cb45e0a51b9a5affe8dd43",
       "version_major": 2,
       "version_minor": 0
      },
      "text/plain": [
       "Processing weak layers:   0%|          | 0/20 [00:00<?, ?it/s]"
      ]
     },
     "metadata": {},
     "output_type": "display_data"
    },
    {
     "name": "stdout",
     "output_type": "stream",
     "text": [
      "275.9\n"
     ]
    },
    {
     "data": {
      "application/vnd.jupyter.widget-view+json": {
       "model_id": "1d785edc75a7491b8e3d700ae18403d3",
       "version_major": 2,
       "version_minor": 0
      },
      "text/plain": [
       "Processing weak layers:   0%|          | 0/10 [00:00<?, ?it/s]"
      ]
     },
     "metadata": {},
     "output_type": "display_data"
    },
    {
     "name": "stdout",
     "output_type": "stream",
     "text": [
      "202.0738495144293\n"
     ]
    },
    {
     "data": {
      "application/vnd.jupyter.widget-view+json": {
       "model_id": "7bc7ab62b38d4a8f94aef2561b98686c",
       "version_major": 2,
       "version_minor": 0
      },
      "text/plain": [
       "Processing weak layers:   0%|          | 0/11 [00:00<?, ?it/s]"
      ]
     },
     "metadata": {},
     "output_type": "display_data"
    },
    {
     "name": "stdout",
     "output_type": "stream",
     "text": [
      "275.9\n"
     ]
    },
    {
     "data": {
      "application/vnd.jupyter.widget-view+json": {
       "model_id": "2f06be75b60941baba0e899890f1b18f",
       "version_major": 2,
       "version_minor": 0
      },
      "text/plain": [
       "Processing weak layers:   0%|          | 0/14 [00:00<?, ?it/s]"
      ]
     },
     "metadata": {},
     "output_type": "display_data"
    },
    {
     "name": "stdout",
     "output_type": "stream",
     "text": [
      "319.0\n"
     ]
    },
    {
     "data": {
      "application/vnd.jupyter.widget-view+json": {
       "model_id": "28599606290842f49647d644f0eb71d3",
       "version_major": 2,
       "version_minor": 0
      },
      "text/plain": [
       "Processing weak layers:   0%|          | 0/15 [00:00<?, ?it/s]"
      ]
     },
     "metadata": {},
     "output_type": "display_data"
    },
    {
     "name": "stdout",
     "output_type": "stream",
     "text": [
      "204.0\n"
     ]
    },
    {
     "data": {
      "application/vnd.jupyter.widget-view+json": {
       "model_id": "f502eb8a28a44604a7f56abe4d9683de",
       "version_major": 2,
       "version_minor": 0
      },
      "text/plain": [
       "Processing weak layers:   0%|          | 0/26 [00:00<?, ?it/s]"
      ]
     },
     "metadata": {},
     "output_type": "display_data"
    },
    {
     "name": "stdout",
     "output_type": "stream",
     "text": [
      "259.0\n"
     ]
    },
    {
     "data": {
      "application/vnd.jupyter.widget-view+json": {
       "model_id": "3aed9baa998641abbc2640a3fd88ad50",
       "version_major": 2,
       "version_minor": 0
      },
      "text/plain": [
       "Processing weak layers:   0%|          | 0/20 [00:00<?, ?it/s]"
      ]
     },
     "metadata": {},
     "output_type": "display_data"
    },
    {
     "name": "stdout",
     "output_type": "stream",
     "text": [
      "292.25\n"
     ]
    },
    {
     "data": {
      "application/vnd.jupyter.widget-view+json": {
       "model_id": "c4e9425a4ef04686a36671991ff79bc1",
       "version_major": 2,
       "version_minor": 0
      },
      "text/plain": [
       "Processing weak layers:   0%|          | 0/32 [00:00<?, ?it/s]"
      ]
     },
     "metadata": {},
     "output_type": "display_data"
    },
    {
     "name": "stdout",
     "output_type": "stream",
     "text": [
      "250.0\n"
     ]
    },
    {
     "data": {
      "application/vnd.jupyter.widget-view+json": {
       "model_id": "2285d38f16864d6c9577196487dd1918",
       "version_major": 2,
       "version_minor": 0
      },
      "text/plain": [
       "Processing weak layers:   0%|          | 0/48 [00:00<?, ?it/s]"
      ]
     },
     "metadata": {},
     "output_type": "display_data"
    },
    {
     "name": "stdout",
     "output_type": "stream",
     "text": [
      "--- The entire solution is cracked ---\n",
      "--- The entire solution is cracked ---\n",
      "--- The entire solution is cracked ---\n",
      "--- The entire solution is cracked ---\n",
      "--- The entire solution is cracked ---\n",
      "--- The entire solution is cracked ---\n",
      "--- The entire solution is cracked ---\n",
      "--- The entire solution is cracked ---\n",
      "--- The entire solution is cracked ---\n",
      "--- The entire solution is cracked ---\n",
      "--- The entire solution is cracked ---\n",
      "--- The entire solution is cracked ---\n",
      "--- The entire solution is cracked ---\n",
      "--- The entire solution is cracked ---\n",
      "--- The entire solution is cracked ---\n",
      "--- The entire solution is cracked ---\n",
      "367.5\n"
     ]
    },
    {
     "data": {
      "application/vnd.jupyter.widget-view+json": {
       "model_id": "82fd2c3fe9bd4cd8b9f23c5e15d7e758",
       "version_major": 2,
       "version_minor": 0
      },
      "text/plain": [
       "Processing weak layers:   0%|          | 0/28 [00:00<?, ?it/s]"
      ]
     },
     "metadata": {},
     "output_type": "display_data"
    },
    {
     "name": "stdout",
     "output_type": "stream",
     "text": [
      "158.0\n"
     ]
    },
    {
     "data": {
      "application/vnd.jupyter.widget-view+json": {
       "model_id": "bc7dfe385f6840b1995a36d2f6e01e7e",
       "version_major": 2,
       "version_minor": 0
      },
      "text/plain": [
       "Processing weak layers:   0%|          | 0/24 [00:00<?, ?it/s]"
      ]
     },
     "metadata": {},
     "output_type": "display_data"
    },
    {
     "name": "stdout",
     "output_type": "stream",
     "text": [
      "204.0\n"
     ]
    },
    {
     "data": {
      "application/vnd.jupyter.widget-view+json": {
       "model_id": "2d04ac3715d244cdbcc3456ec8a8647c",
       "version_major": 2,
       "version_minor": 0
      },
      "text/plain": [
       "Processing weak layers:   0%|          | 0/12 [00:00<?, ?it/s]"
      ]
     },
     "metadata": {},
     "output_type": "display_data"
    },
    {
     "name": "stdout",
     "output_type": "stream",
     "text": [
      "292.25\n"
     ]
    },
    {
     "ename": "AttributeError",
     "evalue": "Layer is missing density information; density profile, hand hardness and grain type are all missing. Excluding SnowPit from calculations.",
     "output_type": "error",
     "traceback": [
      "\u001b[0;31m---------------------------------------------------------------------------\u001b[0m",
      "\u001b[0;31mValueError\u001b[0m                                Traceback (most recent call last)",
      "File \u001b[0;32m~/Documents/weac/weac_2/utils/snowpilot_parser.py:205\u001b[0m, in \u001b[0;36mSnowPilotParser.extract_layers\u001b[0;34m(self)\u001b[0m\n\u001b[1;32m    204\u001b[0m     density_method \u001b[38;5;241m=\u001b[39m \u001b[38;5;124m\"\u001b[39m\u001b[38;5;124mgeldsetzer\u001b[39m\u001b[38;5;124m\"\u001b[39m\n\u001b[0;32m--> 205\u001b[0m     density \u001b[38;5;241m=\u001b[39m \u001b[43mcompute_density\u001b[49m\u001b[43m(\u001b[49m\u001b[43mgrain_type\u001b[49m\u001b[43m,\u001b[49m\u001b[43m \u001b[49m\u001b[43mhand_hardness\u001b[49m\u001b[43m)\u001b[49m\n\u001b[1;32m    206\u001b[0m \u001b[38;5;28;01mexcept\u001b[39;00m \u001b[38;5;167;01mException\u001b[39;00m:\n",
      "File \u001b[0;32m~/Documents/weac/weac_2/utils/geldsetzer.py:144\u001b[0m, in \u001b[0;36mcompute_density\u001b[0;34m(grainform, hardness)\u001b[0m\n\u001b[1;32m    143\u001b[0m \u001b[38;5;28;01mif\u001b[39;00m hardness \u001b[38;5;129;01mis\u001b[39;00m \u001b[38;5;28;01mNone\u001b[39;00m \u001b[38;5;129;01mand\u001b[39;00m grainform \u001b[38;5;129;01mis\u001b[39;00m \u001b[38;5;28;01mNone\u001b[39;00m:\n\u001b[0;32m--> 144\u001b[0m     \u001b[38;5;28;01mraise\u001b[39;00m \u001b[38;5;167;01mValueError\u001b[39;00m(\u001b[38;5;124m\"\u001b[39m\u001b[38;5;124mProvide at least one of grainform or hardness\u001b[39m\u001b[38;5;124m\"\u001b[39m)\n\u001b[1;32m    145\u001b[0m \u001b[38;5;28;01mif\u001b[39;00m hardness \u001b[38;5;129;01mis\u001b[39;00m \u001b[38;5;28;01mNone\u001b[39;00m:\n",
      "\u001b[0;31mValueError\u001b[0m: Provide at least one of grainform or hardness",
      "\nDuring handling of the above exception, another exception occurred:\n",
      "\u001b[0;31mAttributeError\u001b[0m                            Traceback (most recent call last)",
      "Cell \u001b[0;32mIn[19], line 29\u001b[0m\n\u001b[1;32m     25\u001b[0m data_rows \u001b[38;5;241m=\u001b[39m []\n\u001b[1;32m     26\u001b[0m \u001b[38;5;28;01mfor\u001b[39;00m i, (file_path, parser) \u001b[38;5;129;01min\u001b[39;00m tqdm(\n\u001b[1;32m     27\u001b[0m     \u001b[38;5;28menumerate\u001b[39m(\u001b[38;5;28mzip\u001b[39m(paths, parsers)), total\u001b[38;5;241m=\u001b[39m\u001b[38;5;28mlen\u001b[39m(paths), desc\u001b[38;5;241m=\u001b[39m\u001b[38;5;124m\"\u001b[39m\u001b[38;5;124mProcessing files\u001b[39m\u001b[38;5;124m\"\u001b[39m\n\u001b[1;32m     28\u001b[0m ):\n\u001b[0;32m---> 29\u001b[0m     data_rows, layers, weaklayer \u001b[38;5;241m=\u001b[39m \u001b[43meval_weac_over_layers\u001b[49m\u001b[43m(\u001b[49m\u001b[43mparser\u001b[49m\u001b[43m,\u001b[49m\u001b[43m \u001b[49m\u001b[43mscenario_config\u001b[49m\u001b[43m,\u001b[49m\u001b[43m \u001b[49m\u001b[43msegments\u001b[49m\u001b[43m,\u001b[49m\u001b[43m \u001b[49m\u001b[43mweaklayer\u001b[49m\u001b[43m,\u001b[49m\u001b[43m \u001b[49m\u001b[43mwl_spacing\u001b[49m\u001b[38;5;241;43m=\u001b[39;49m\u001b[43mwl_spacing\u001b[49m\u001b[43m)\u001b[49m\n\u001b[1;32m     30\u001b[0m     dataframe \u001b[38;5;241m=\u001b[39m pd\u001b[38;5;241m.\u001b[39mDataFrame(data_rows)\n\u001b[1;32m     31\u001b[0m     snow_profile_fig \u001b[38;5;241m=\u001b[39m snow_profile(weaklayer\u001b[38;5;241m=\u001b[39mweaklayer, layers\u001b[38;5;241m=\u001b[39mlayers)\n",
      "Cell \u001b[0;32mIn[17], line 4\u001b[0m, in \u001b[0;36meval_weac_over_layers\u001b[0;34m(parser, scenario_config, segments, weaklayer, wl_spacing)\u001b[0m\n\u001b[1;32m      2\u001b[0m data_rows \u001b[38;5;241m=\u001b[39m []\n\u001b[1;32m      3\u001b[0m \u001b[38;5;66;03m# Extract layers\u001b[39;00m\n\u001b[0;32m----> 4\u001b[0m layers, density_method \u001b[38;5;241m=\u001b[39m \u001b[43mparser\u001b[49m\u001b[38;5;241;43m.\u001b[39;49m\u001b[43mextract_layers\u001b[49m\u001b[43m(\u001b[49m\u001b[43m)\u001b[49m\n\u001b[1;32m      5\u001b[0m heights \u001b[38;5;241m=\u001b[39m np\u001b[38;5;241m.\u001b[39mcumsum([layer\u001b[38;5;241m.\u001b[39mh \u001b[38;5;28;01mfor\u001b[39;00m layer \u001b[38;5;129;01min\u001b[39;00m layers])\n\u001b[1;32m      6\u001b[0m \u001b[38;5;66;03m# space evenly and append the last height\u001b[39;00m\n",
      "File \u001b[0;32m~/Documents/weac/weac_2/utils/snowpilot_parser.py:207\u001b[0m, in \u001b[0;36mSnowPilotParser.extract_layers\u001b[0;34m(self)\u001b[0m\n\u001b[1;32m    205\u001b[0m                 density \u001b[38;5;241m=\u001b[39m compute_density(grain_type, hand_hardness)\n\u001b[1;32m    206\u001b[0m             \u001b[38;5;28;01mexcept\u001b[39;00m \u001b[38;5;167;01mException\u001b[39;00m:\n\u001b[0;32m--> 207\u001b[0m                 \u001b[38;5;28;01mraise\u001b[39;00m \u001b[38;5;167;01mAttributeError\u001b[39;00m(\n\u001b[1;32m    208\u001b[0m                     \u001b[38;5;124m\"\u001b[39m\u001b[38;5;124mLayer is missing density information; density profile, hand hardness and grain type are all missing. Excluding SnowPit from calculations.\u001b[39m\u001b[38;5;124m\"\u001b[39m\n\u001b[1;32m    209\u001b[0m                 )\n\u001b[1;32m    211\u001b[0m         layers\u001b[38;5;241m.\u001b[39mappend(\n\u001b[1;32m    212\u001b[0m             Layer(\n\u001b[1;32m    213\u001b[0m                 rho\u001b[38;5;241m=\u001b[39mdensity,\n\u001b[0;32m   (...)\u001b[0m\n\u001b[1;32m    218\u001b[0m             )\n\u001b[1;32m    219\u001b[0m         )\n\u001b[1;32m    221\u001b[0m \u001b[38;5;28;01mif\u001b[39;00m \u001b[38;5;28mlen\u001b[39m(layers) \u001b[38;5;241m==\u001b[39m \u001b[38;5;241m0\u001b[39m:\n",
      "\u001b[0;31mAttributeError\u001b[0m: Layer is missing density information; density profile, hand hardness and grain type are all missing. Excluding SnowPit from calculations."
     ]
    }
   ],
   "source": [
    "import os\n",
    "\n",
    "# Setup standard values\n",
    "wl_spacing = 50 # mm\n",
    "phi = 0.0\n",
    "standard_scenario_config = ScenarioConfig(system_type=\"skier\", phi=phi)\n",
    "standard_weak_layer = WeakLayer(rho=125, h=20, E=1.0, sigma_c=5.16, tau_c=4.09)\n",
    "standard_segments = [\n",
    "    Segment(length=10000, has_foundation=True, m=0.0),\n",
    "    Segment(\n",
    "        length=10000,\n",
    "        has_foundation=True,\n",
    "        m=0.0,\n",
    "    ),\n",
    "]\n",
    "standard_criteria_config = CriteriaConfig()\n",
    "standard_criteria_evaluator = CriteriaEvaluator(standard_criteria_config)\n",
    "\n",
    "scenario_config = standard_scenario_config\n",
    "segments = standard_segments\n",
    "weaklayer = standard_weak_layer\n",
    "\n",
    "plots_path = \"data/plots\"\n",
    "criteria_data_path = \"data/criteria_data\"\n",
    "os.makedirs(criteria_data_path, exist_ok=True)\n",
    "\n",
    "error_paths = []\n",
    "for i, (file_path, parser) in tqdm(\n",
    "    enumerate(zip(paths, parsers)), total=len(paths), desc=\"Processing files\"\n",
    "):  \n",
    "    try:\n",
    "        data_rows, layers, weaklayer = eval_weac_over_layers(parser, scenario_config, segments, weaklayer, wl_spacing=wl_spacing)\n",
    "        dataframe = pd.DataFrame(data_rows)\n",
    "        snow_profile_fig = snow_profile(weaklayer=weaklayer, layers=layers)\n",
    "        crit_plots_fig = criticality_plots(weaklayer, layers, dataframe)\n",
    "        crit_hm_fig = criticality_heatmap(weaklayer, layers, dataframe)\n",
    "        combine_plots(plots_path, os.path.basename(file_path), [crit_plots_fig, snow_profile_fig, crit_hm_fig])\n",
    "        dataframe.to_csv(os.path.join(criteria_data_path, os.path.basename(file_path)), index=False)\n",
    "    except Exception as e:\n",
    "        error_paths.append(file_path)\n",
    "        print(f\"Error processing file {file_path}: {e}\")\n",
    "        continue\n",
    "\n",
    "print(f\"Amount of errors: {len(error_paths)}\")\n",
    "print(\"Processed files: \", len(paths) - len(error_paths))"
   ]
  }
 ],
 "metadata": {
  "kernelspec": {
   "display_name": "weac",
   "language": "python",
   "name": "python3"
  },
  "language_info": {
   "codemirror_mode": {
    "name": "ipython",
    "version": 3
   },
   "file_extension": ".py",
   "mimetype": "text/x-python",
   "name": "python",
   "nbconvert_exporter": "python",
   "pygments_lexer": "ipython3",
   "version": "3.10.18"
  }
 },
 "nbformat": 4,
 "nbformat_minor": 5
}
