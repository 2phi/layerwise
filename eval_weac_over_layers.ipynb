{
 "cells": [
  {
   "cell_type": "markdown",
   "id": "b89b0130",
   "metadata": {},
   "source": [
    "# Eval WEAC\n",
    "\n",
    "Initialize models, run over a resolution of 5cm with a standardized weak layer.\n"
   ]
  },
  {
   "cell_type": "code",
   "execution_count": 2,
   "id": "702d9bf5",
   "metadata": {},
   "outputs": [],
   "source": [
    "# Auto reload modules\n",
    "%load_ext autoreload\n",
    "%autoreload all"
   ]
  },
  {
   "cell_type": "code",
   "execution_count": null,
   "id": "1e07d9a5",
   "metadata": {},
   "outputs": [],
   "source": [
    "import os\n",
    "from typing import List\n",
    "import numpy as np\n",
    "import pandas as pd\n",
    "import copy\n",
    "from tqdm.notebook import tqdm\n",
    "\n",
    "from weac.analysis import CriteriaEvaluator, CoupledCriterionResult, SSERRResult\n",
    "from weac.core.system_model import SystemModel\n",
    "from weac.components import ModelInput, Segment, ScenarioConfig, WeakLayer, CriteriaConfig\n",
    "from weac.utils.snowpilot_parser import SnowPilotParser"
   ]
  },
  {
   "cell_type": "code",
   "execution_count": 4,
   "id": "ca4092ad",
   "metadata": {},
   "outputs": [
    {
     "name": "stdout",
     "output_type": "stream",
     "text": [
      "\n",
      "Found 100 files\n"
     ]
    }
   ],
   "source": [
    "number_of_files = 100\n",
    "\n",
    "# Process multiple files\n",
    "file_paths = []\n",
    "for directory in os.listdir(\"data/snowpits\"):\n",
    "    for file in os.listdir(f\"data/snowpits/{directory}\"):\n",
    "        if file.endswith(\".xml\"):\n",
    "            file_paths.append(f\"data/snowpits/{directory}/{file}\")\n",
    "\n",
    "paths: List[str] = []\n",
    "parsers: List[SnowPilotParser] = []\n",
    "\n",
    "for file_path in file_paths[:number_of_files]:\n",
    "    snowpilot_parser = SnowPilotParser(file_path)\n",
    "    paths.append(file_path)\n",
    "    parsers.append(snowpilot_parser)\n",
    "\n",
    "print(f\"\\nFound {len(paths)} files\")"
   ]
  },
  {
   "cell_type": "code",
   "execution_count": 5,
   "id": "1c50535a",
   "metadata": {},
   "outputs": [],
   "source": [
    "# Setup standard values\n",
    "wl_spacing = 50 # mm\n",
    "phi = 0.0\n",
    "standard_scenario_config = ScenarioConfig(system_type=\"skier\", phi=phi)\n",
    "standard_weak_layer = WeakLayer(rho=125, h=20, E=1.0, sigma_c=6.16, tau_c=5.09)\n",
    "standard_segments = [\n",
    "    Segment(length=10000, has_foundation=True, m=0.0),\n",
    "    Segment(\n",
    "        length=10000,\n",
    "        has_foundation=True,\n",
    "        m=0.0,\n",
    "    ),\n",
    "]\n",
    "standard_criteria_config = CriteriaConfig()\n",
    "standard_criteria_evaluator = CriteriaEvaluator(standard_criteria_config)"
   ]
  },
  {
   "cell_type": "code",
   "execution_count": 6,
   "id": "29a5c086",
   "metadata": {},
   "outputs": [
    {
     "name": "stdout",
     "output_type": "stream",
     "text": [
      "layers:  [Layer(rho=101.0, h=100.0, nu=0.25, E=0.3963944665536936, G=0.15855778662147743, tensile_strength=1.103877672602255, tensile_strength_method='sigrist', E_method='bergfeld', grain_type='DF', grain_size=None, hand_hardness='F'), Layer(rho=173.0, h=170.0, nu=0.25, E=4.231714820461142, G=1.6926859281844568, tensile_strength=4.1040183019389715, tensile_strength_method='sigrist', E_method='bergfeld', grain_type='DF', grain_size=None, hand_hardness='1F'), Layer(rho=137.0, h=30.0, nu=0.25, E=1.515947056821604, G=0.6063788227286416, tensile_strength=2.3226029915382136, tensile_strength_method='sigrist', E_method='bergfeld', grain_type='DF', grain_size=None, hand_hardness='4F'), Layer(rho=209.0, h=300.0, nu=0.25, E=9.722035388607377, G=3.888814155442951, tensile_strength=6.509291720550219, tensile_strength_method='sigrist', E_method='bergfeld', grain_type='DF', grain_size=None, hand_hardness='P'), Layer(rho=163.7, h=20.0, nu=0.25, E=3.318392308727041, G=1.3273569234908165, tensile_strength=3.586373980194787, tensile_strength_method='sigrist', E_method='bergfeld', grain_type=None, grain_size=None, hand_hardness='4F+'), Layer(rho=292.25, h=2380.0, nu=0.25, E=42.50435458798165, G=17.00174183519266, tensile_strength=14.750876454728399, tensile_strength_method='sigrist', E_method='bergfeld', grain_type='MFcr', grain_size=None, hand_hardness='P+')]\n"
     ]
    }
   ],
   "source": [
    "import time\n",
    "import weac\n",
    "\n",
    "criteria_data_path = \"data/criteria_data\"\n",
    "os.makedirs(criteria_data_path, exist_ok=True)\n",
    "\n",
    "rerun = False\n",
    "path = paths[0]\n",
    "parser = parsers[0]\n",
    "\n",
    "data_rows = []\n",
    "# Extract layers\n",
    "layers, density_method = parser.extract_layers()\n",
    "print(\"layers: \", layers)\n",
    "heights = np.cumsum([layer.h for layer in layers])\n",
    "# space evenly and append the last height\n",
    "wl_depths = np.arange(wl_spacing, heights[-1], wl_spacing).tolist()\n",
    "wl_depths.append(heights[-1])\n",
    "\n",
    "# Extract layers for plotting\n",
    "plot_layers = layers\n",
    "plot_weaklayer = standard_weak_layer\n",
    "\n",
    "if rerun:\n",
    "    layers_copy = copy.deepcopy(layers)\n",
    "    for i, wl_depth in tqdm(enumerate(wl_depths), total=len(wl_depths), desc=\"Processing weak layers\", leave=False):\n",
    "        # only keep layers above the spacing\n",
    "        mask = heights <= wl_depth\n",
    "        new_layers = [layer for layer, keep in zip(layers_copy, mask) if keep]\n",
    "        # Add truncated layer if needed\n",
    "        depth = np.sum([layer.h for layer in new_layers]) if new_layers else 0.0\n",
    "        if depth < wl_depth:\n",
    "            additional_layer = copy.deepcopy(layers_copy[len(new_layers) if new_layers else 0])\n",
    "            additional_layer.h = wl_depth - depth\n",
    "            new_layers.append(additional_layer)\n",
    "        \n",
    "        if i >= len(wl_depths) - 2:\n",
    "            print(\"new_layer heights: \", [layer.h for layer in new_layers])\n",
    "            print(\"wl_depth: \", wl_depth)\n",
    "            print(\"new_layers: \", new_layers)\n",
    "        \n",
    "        model_input = ModelInput(\n",
    "            weak_layer=standard_weak_layer,\n",
    "            layers=new_layers,\n",
    "            scenario_config=standard_scenario_config,\n",
    "            segments=standard_segments,\n",
    "        )\n",
    "        system = SystemModel(model_input=model_input)\n",
    "        \n",
    "        cc_result: CoupledCriterionResult = standard_criteria_evaluator.evaluate_coupled_criterion(system, print_call_stats=True)\n",
    "\n",
    "        # Setup the scenario with the touchdown distance\n",
    "        # TODO: Bug in Vertical SSERR\n",
    "        time1 = time.time()\n",
    "        sserr_result: SSERRResult = standard_criteria_evaluator.evaluate_SSERR(system, vertical=False)\n",
    "        print(\"sserr_result: \", sserr_result)\n",
    "        # sserr_result: SSERRResult = standard_criteria_evaluator.evaluate_SSERR(system, vertical=True)\n",
    "        # time2 = time.time()\n",
    "        # print(\"sserr_result: \", sserr_result)\n",
    "\n",
    "        # print(\"\\nwl_depth: \", wl_depth)\n",
    "        # print(\"ImpactCriterion: \", cc_result.initial_critical_skier_weight)\n",
    "        # print(\"CoupledCriterion: \", cc_result.critical_skier_weight)\n",
    "        # print(\"Touchdown distance: \", sserr_result.touchdown_distance)\n",
    "        # print(\"SSERR: \", sserr_result.SSERR)\n",
    "        data_rows.append({\n",
    "            \"wl_depth\": wl_depth,\n",
    "            \"impact_criterion\": cc_result.initial_critical_skier_weight,\n",
    "            \"coupled_criterion\": cc_result.critical_skier_weight,\n",
    "            \"sserr_result\": sserr_result.SSERR,\n",
    "            \"touchdown_distance\": sserr_result.touchdown_distance,\n",
    "        })\n",
    "\n",
    "    df = pd.DataFrame(data_rows)\n",
    "    df.to_csv(os.path.join(criteria_data_path, os.path.basename(file_path)), index=False)"
   ]
  },
  {
   "cell_type": "code",
   "execution_count": 7,
   "id": "56461958",
   "metadata": {},
   "outputs": [
    {
     "data": {
      "application/vnd.plotly.v1+json": {
       "config": {
        "plotlyServerURL": "https://plot.ly"
       },
       "data": [
        {
         "line": {
          "color": "lightgrey",
          "width": 1
         },
         "mode": "lines",
         "showlegend": false,
         "type": "scatter",
         "x": [
          0,
          -322.205625
         ],
         "y": [
          0,
          0
         ]
        },
        {
         "line": {
          "color": "lightgrey",
          "width": 1
         },
         "mode": "lines",
         "showlegend": false,
         "type": "scatter",
         "x": [
          0,
          -322.205625
         ],
         "y": [
          100,
          100
         ]
        },
        {
         "line": {
          "color": "lightgrey",
          "width": 1
         },
         "mode": "lines",
         "showlegend": false,
         "type": "scatter",
         "x": [
          0,
          -322.205625
         ],
         "y": [
          200,
          200
         ]
        },
        {
         "line": {
          "color": "lightgrey",
          "width": 1
         },
         "mode": "lines",
         "showlegend": false,
         "type": "scatter",
         "x": [
          0,
          -322.205625
         ],
         "y": [
          300,
          300
         ]
        },
        {
         "line": {
          "color": "lightgrey",
          "width": 1
         },
         "mode": "lines",
         "showlegend": false,
         "type": "scatter",
         "x": [
          0,
          -322.205625
         ],
         "y": [
          400,
          400
         ]
        },
        {
         "line": {
          "color": "lightgrey",
          "width": 1
         },
         "mode": "lines",
         "showlegend": false,
         "type": "scatter",
         "x": [
          0,
          -322.205625
         ],
         "y": [
          500,
          500
         ]
        },
        {
         "line": {
          "color": "lightgrey",
          "width": 1
         },
         "mode": "lines",
         "showlegend": false,
         "type": "scatter",
         "x": [
          0,
          -322.205625
         ],
         "y": [
          600,
          600
         ]
        },
        {
         "line": {
          "color": "lightgrey",
          "width": 1
         },
         "mode": "lines",
         "showlegend": false,
         "type": "scatter",
         "x": [
          0,
          -322.205625
         ],
         "y": [
          700,
          700
         ]
        },
        {
         "line": {
          "color": "lightgrey",
          "width": 1
         },
         "mode": "lines",
         "showlegend": false,
         "type": "scatter",
         "x": [
          0,
          -322.205625
         ],
         "y": [
          800,
          800
         ]
        },
        {
         "line": {
          "color": "lightgrey",
          "width": 1
         },
         "mode": "lines",
         "showlegend": false,
         "type": "scatter",
         "x": [
          0,
          -322.205625
         ],
         "y": [
          900,
          900
         ]
        },
        {
         "line": {
          "color": "lightgrey",
          "width": 1
         },
         "mode": "lines",
         "showlegend": false,
         "type": "scatter",
         "x": [
          0,
          -322.205625
         ],
         "y": [
          1000,
          1000
         ]
        },
        {
         "line": {
          "color": "lightgrey",
          "width": 1
         },
         "mode": "lines",
         "showlegend": false,
         "type": "scatter",
         "x": [
          0,
          -322.205625
         ],
         "y": [
          1100,
          1100
         ]
        },
        {
         "line": {
          "color": "lightgrey",
          "width": 1
         },
         "mode": "lines",
         "showlegend": false,
         "type": "scatter",
         "x": [
          0,
          -322.205625
         ],
         "y": [
          1200,
          1200
         ]
        },
        {
         "line": {
          "color": "lightgrey",
          "width": 1
         },
         "mode": "lines",
         "showlegend": false,
         "type": "scatter",
         "x": [
          0,
          -322.205625
         ],
         "y": [
          1300,
          1300
         ]
        },
        {
         "line": {
          "color": "lightgrey",
          "width": 1
         },
         "mode": "lines",
         "showlegend": false,
         "type": "scatter",
         "x": [
          0,
          -322.205625
         ],
         "y": [
          1400,
          1400
         ]
        },
        {
         "line": {
          "color": "lightgrey",
          "width": 1
         },
         "mode": "lines",
         "showlegend": false,
         "type": "scatter",
         "x": [
          0,
          -322.205625
         ],
         "y": [
          1500,
          1500
         ]
        },
        {
         "line": {
          "color": "lightgrey",
          "width": 1
         },
         "mode": "lines",
         "showlegend": false,
         "type": "scatter",
         "x": [
          0,
          -322.205625
         ],
         "y": [
          1600,
          1600
         ]
        },
        {
         "line": {
          "color": "lightgrey",
          "width": 1
         },
         "mode": "lines",
         "showlegend": false,
         "type": "scatter",
         "x": [
          0,
          -322.205625
         ],
         "y": [
          1700,
          1700
         ]
        },
        {
         "line": {
          "color": "lightgrey",
          "width": 1
         },
         "mode": "lines",
         "showlegend": false,
         "type": "scatter",
         "x": [
          0,
          -322.205625
         ],
         "y": [
          1800,
          1800
         ]
        },
        {
         "line": {
          "color": "lightgrey",
          "width": 1
         },
         "mode": "lines",
         "showlegend": false,
         "type": "scatter",
         "x": [
          0,
          -322.205625
         ],
         "y": [
          1900,
          1900
         ]
        },
        {
         "line": {
          "color": "lightgrey",
          "width": 1
         },
         "mode": "lines",
         "showlegend": false,
         "type": "scatter",
         "x": [
          0,
          -322.205625
         ],
         "y": [
          2000,
          2000
         ]
        },
        {
         "line": {
          "color": "lightgrey",
          "width": 1
         },
         "mode": "lines",
         "showlegend": false,
         "type": "scatter",
         "x": [
          0,
          -322.205625
         ],
         "y": [
          2100,
          2100
         ]
        },
        {
         "line": {
          "color": "lightgrey",
          "width": 1
         },
         "mode": "lines",
         "showlegend": false,
         "type": "scatter",
         "x": [
          0,
          -322.205625
         ],
         "y": [
          2200,
          2200
         ]
        },
        {
         "line": {
          "color": "lightgrey",
          "width": 1
         },
         "mode": "lines",
         "showlegend": false,
         "type": "scatter",
         "x": [
          0,
          -322.205625
         ],
         "y": [
          2300,
          2300
         ]
        },
        {
         "line": {
          "color": "lightgrey",
          "width": 1
         },
         "mode": "lines",
         "showlegend": false,
         "type": "scatter",
         "x": [
          0,
          -322.205625
         ],
         "y": [
          2400,
          2400
         ]
        },
        {
         "line": {
          "color": "lightgrey",
          "width": 1
         },
         "mode": "lines",
         "showlegend": false,
         "type": "scatter",
         "x": [
          0,
          -322.205625
         ],
         "y": [
          2500,
          2500
         ]
        },
        {
         "line": {
          "color": "lightgrey",
          "width": 1
         },
         "mode": "lines",
         "showlegend": false,
         "type": "scatter",
         "x": [
          0,
          -322.205625
         ],
         "y": [
          2600,
          2600
         ]
        },
        {
         "line": {
          "color": "lightgrey",
          "width": 1
         },
         "mode": "lines",
         "showlegend": false,
         "type": "scatter",
         "x": [
          0,
          -322.205625
         ],
         "y": [
          2700,
          2700
         ]
        },
        {
         "line": {
          "color": "lightgrey",
          "width": 1
         },
         "mode": "lines",
         "showlegend": false,
         "type": "scatter",
         "x": [
          0,
          -322.205625
         ],
         "y": [
          2800,
          2800
         ]
        },
        {
         "line": {
          "color": "lightgrey",
          "width": 1
         },
         "mode": "lines",
         "showlegend": false,
         "type": "scatter",
         "x": [
          0,
          -322.205625
         ],
         "y": [
          2900,
          2900
         ]
        }
       ],
       "layout": {
        "annotations": [
         {
          "font": {
           "size": 10
          },
          "showarrow": false,
          "text": "0",
          "x": 15,
          "xanchor": "center",
          "y": 0,
          "yanchor": "middle"
         },
         {
          "font": {
           "size": 10
          },
          "showarrow": false,
          "text": "101",
          "x": 45,
          "xanchor": "center",
          "y": 1350,
          "yanchor": "middle"
         },
         {
          "font": {
           "size": 10
          },
          "showarrow": false,
          "text": "DF",
          "x": 75,
          "xanchor": "center",
          "y": 1350,
          "yanchor": "middle"
         },
         {
          "font": {
           "size": 10
          },
          "showarrow": false,
          "text": "F",
          "x": 105,
          "xanchor": "center",
          "y": 1350,
          "yanchor": "middle"
         },
         {
          "font": {
           "size": 10
          },
          "showarrow": false,
          "text": "100",
          "x": 15,
          "xanchor": "center",
          "y": 100,
          "yanchor": "middle"
         },
         {
          "font": {
           "size": 10
          },
          "showarrow": false,
          "text": "173",
          "x": 45,
          "xanchor": "center",
          "y": 1650,
          "yanchor": "middle"
         },
         {
          "font": {
           "size": 10
          },
          "showarrow": false,
          "text": "DF",
          "x": 75,
          "xanchor": "center",
          "y": 1650,
          "yanchor": "middle"
         },
         {
          "font": {
           "size": 10
          },
          "showarrow": false,
          "text": "1F",
          "x": 105,
          "xanchor": "center",
          "y": 1650,
          "yanchor": "middle"
         },
         {
          "font": {
           "size": 10
          },
          "showarrow": false,
          "text": "270",
          "x": 15,
          "xanchor": "center",
          "y": 270,
          "yanchor": "middle"
         },
         {
          "font": {
           "size": 10
          },
          "showarrow": false,
          "text": "137",
          "x": 45,
          "xanchor": "center",
          "y": 1950,
          "yanchor": "middle"
         },
         {
          "font": {
           "size": 10
          },
          "showarrow": false,
          "text": "DF",
          "x": 75,
          "xanchor": "center",
          "y": 1950,
          "yanchor": "middle"
         },
         {
          "font": {
           "size": 10
          },
          "showarrow": false,
          "text": "4F",
          "x": 105,
          "xanchor": "center",
          "y": 1950,
          "yanchor": "middle"
         },
         {
          "font": {
           "size": 10
          },
          "showarrow": false,
          "text": "300",
          "x": 15,
          "xanchor": "center",
          "y": 300,
          "yanchor": "middle"
         },
         {
          "font": {
           "size": 10
          },
          "showarrow": false,
          "text": "209",
          "x": 45,
          "xanchor": "center",
          "y": 2250,
          "yanchor": "middle"
         },
         {
          "font": {
           "size": 10
          },
          "showarrow": false,
          "text": "DF",
          "x": 75,
          "xanchor": "center",
          "y": 2250,
          "yanchor": "middle"
         },
         {
          "font": {
           "size": 10
          },
          "showarrow": false,
          "text": "P",
          "x": 105,
          "xanchor": "center",
          "y": 2250,
          "yanchor": "middle"
         },
         {
          "font": {
           "size": 10
          },
          "showarrow": false,
          "text": "600",
          "x": 15,
          "xanchor": "center",
          "y": 600,
          "yanchor": "middle"
         },
         {
          "font": {
           "size": 10
          },
          "showarrow": false,
          "text": "164",
          "x": 45,
          "xanchor": "center",
          "y": 2550,
          "yanchor": "middle"
         },
         {
          "font": {
           "size": 10
          },
          "showarrow": false,
          "text": "-",
          "x": 75,
          "xanchor": "center",
          "y": 2550,
          "yanchor": "middle"
         },
         {
          "font": {
           "size": 10
          },
          "showarrow": false,
          "text": "4F+",
          "x": 105,
          "xanchor": "center",
          "y": 2550,
          "yanchor": "middle"
         },
         {
          "font": {
           "size": 10
          },
          "showarrow": false,
          "text": "620",
          "x": 15,
          "xanchor": "center",
          "y": 620,
          "yanchor": "middle"
         },
         {
          "font": {
           "size": 10
          },
          "showarrow": false,
          "text": "292",
          "x": 45,
          "xanchor": "center",
          "y": 2850,
          "yanchor": "middle"
         },
         {
          "font": {
           "size": 10
          },
          "showarrow": false,
          "text": "MFcr",
          "x": 75,
          "xanchor": "center",
          "y": 2850,
          "yanchor": "middle"
         },
         {
          "font": {
           "size": 10
          },
          "showarrow": false,
          "text": "P+",
          "x": 105,
          "xanchor": "center",
          "y": 2850,
          "yanchor": "middle"
         },
         {
          "font": {
           "size": 10
          },
          "showarrow": false,
          "text": "3000.0",
          "x": 0,
          "xanchor": "left",
          "y": 3000,
          "yanchor": "middle"
         },
         {
          "font": {
           "size": 10
          },
          "showarrow": false,
          "text": "H",
          "x": 15,
          "xanchor": "center",
          "y": -100,
          "yanchor": "middle"
         },
         {
          "font": {
           "size": 10
          },
          "showarrow": false,
          "text": "D",
          "x": 45,
          "xanchor": "center",
          "y": -100,
          "yanchor": "middle"
         },
         {
          "font": {
           "size": 10
          },
          "showarrow": false,
          "text": "F",
          "x": 75,
          "xanchor": "center",
          "y": -100,
          "yanchor": "middle"
         },
         {
          "font": {
           "size": 10
          },
          "showarrow": false,
          "text": "R",
          "x": 105,
          "xanchor": "center",
          "y": -100,
          "yanchor": "middle"
         },
         {
          "align": "left",
          "font": {
           "size": 10
          },
          "showarrow": false,
          "text": "H: Height (cm)  D: Density (kg/m³)  F: Grain Form  R: Hand Hardness",
          "x": 0,
          "xref": "paper",
          "y": -0.06,
          "yref": "paper"
         }
        ],
        "height": 600,
        "margin": {
         "b": 40,
         "l": 0,
         "r": 0,
         "t": 40
        },
        "paper_bgcolor": "white",
        "plot_bgcolor": "white",
        "shapes": [
         {
          "fillcolor": "#9ec1df",
          "layer": "above",
          "line": {
           "color": "#9ec1df",
           "width": 0.4
          },
          "type": "rect",
          "x0": -101,
          "x1": 0,
          "y0": 0,
          "y1": 100
         },
         {
          "line": {
           "color": "rgba(4, 110, 124, 0.812)",
           "width": 1.2
          },
          "type": "line",
          "x0": 0,
          "x1": -101,
          "y0": 0,
          "y1": 0
         },
         {
          "line": {
           "color": "rgba(4, 110, 124, 0.812)",
           "width": 1.2
          },
          "type": "line",
          "x0": -101,
          "x1": -101,
          "y0": 0,
          "y1": 100
         },
         {
          "line": {
           "color": "lightgrey",
           "width": 0.5
          },
          "type": "line",
          "x0": 30,
          "x1": 120,
          "y0": 1200,
          "y1": 1200
         },
         {
          "line": {
           "color": "lightgrey",
           "width": 0.5
          },
          "type": "line",
          "x0": 0,
          "x1": 30,
          "y0": 100,
          "y1": 1500
         },
         {
          "fillcolor": "#9ec1df",
          "layer": "above",
          "line": {
           "color": "#9ec1df",
           "width": 0.4
          },
          "type": "rect",
          "x0": -173,
          "x1": 0,
          "y0": 100,
          "y1": 270
         },
         {
          "line": {
           "color": "rgba(4, 110, 124, 0.812)",
           "width": 1.2
          },
          "type": "line",
          "x0": -101,
          "x1": -173,
          "y0": 100,
          "y1": 100
         },
         {
          "line": {
           "color": "rgba(4, 110, 124, 0.812)",
           "width": 1.2
          },
          "type": "line",
          "x0": -173,
          "x1": -173,
          "y0": 100,
          "y1": 270
         },
         {
          "line": {
           "color": "lightgrey",
           "width": 0.5
          },
          "type": "line",
          "x0": 30,
          "x1": 120,
          "y0": 1500,
          "y1": 1500
         },
         {
          "line": {
           "color": "lightgrey",
           "width": 0.5
          },
          "type": "line",
          "x0": 0,
          "x1": 30,
          "y0": 270,
          "y1": 1800
         },
         {
          "fillcolor": "#9ec1df",
          "layer": "above",
          "line": {
           "color": "#9ec1df",
           "width": 0.4
          },
          "type": "rect",
          "x0": -137,
          "x1": 0,
          "y0": 270,
          "y1": 300
         },
         {
          "line": {
           "color": "rgba(4, 110, 124, 0.812)",
           "width": 1.2
          },
          "type": "line",
          "x0": -173,
          "x1": -137,
          "y0": 270,
          "y1": 270
         },
         {
          "line": {
           "color": "rgba(4, 110, 124, 0.812)",
           "width": 1.2
          },
          "type": "line",
          "x0": -137,
          "x1": -137,
          "y0": 270,
          "y1": 300
         },
         {
          "line": {
           "color": "lightgrey",
           "width": 0.5
          },
          "type": "line",
          "x0": 30,
          "x1": 120,
          "y0": 1800,
          "y1": 1800
         },
         {
          "line": {
           "color": "lightgrey",
           "width": 0.5
          },
          "type": "line",
          "x0": 0,
          "x1": 30,
          "y0": 300,
          "y1": 2100
         },
         {
          "fillcolor": "#9ec1df",
          "layer": "above",
          "line": {
           "color": "#9ec1df",
           "width": 0.4
          },
          "type": "rect",
          "x0": -209,
          "x1": 0,
          "y0": 300,
          "y1": 600
         },
         {
          "line": {
           "color": "rgba(4, 110, 124, 0.812)",
           "width": 1.2
          },
          "type": "line",
          "x0": -137,
          "x1": -209,
          "y0": 300,
          "y1": 300
         },
         {
          "line": {
           "color": "rgba(4, 110, 124, 0.812)",
           "width": 1.2
          },
          "type": "line",
          "x0": -209,
          "x1": -209,
          "y0": 300,
          "y1": 600
         },
         {
          "line": {
           "color": "lightgrey",
           "width": 0.5
          },
          "type": "line",
          "x0": 30,
          "x1": 120,
          "y0": 2100,
          "y1": 2100
         },
         {
          "line": {
           "color": "lightgrey",
           "width": 0.5
          },
          "type": "line",
          "x0": 0,
          "x1": 30,
          "y0": 600,
          "y1": 2400
         },
         {
          "fillcolor": "#9ec1df",
          "layer": "above",
          "line": {
           "color": "#9ec1df",
           "width": 0.4
          },
          "type": "rect",
          "x0": -163.7,
          "x1": 0,
          "y0": 600,
          "y1": 620
         },
         {
          "line": {
           "color": "rgba(4, 110, 124, 0.812)",
           "width": 1.2
          },
          "type": "line",
          "x0": -209,
          "x1": -163.7,
          "y0": 600,
          "y1": 600
         },
         {
          "line": {
           "color": "rgba(4, 110, 124, 0.812)",
           "width": 1.2
          },
          "type": "line",
          "x0": -163.7,
          "x1": -163.7,
          "y0": 600,
          "y1": 620
         },
         {
          "line": {
           "color": "lightgrey",
           "width": 0.5
          },
          "type": "line",
          "x0": 30,
          "x1": 120,
          "y0": 2400,
          "y1": 2400
         },
         {
          "line": {
           "color": "lightgrey",
           "width": 0.5
          },
          "type": "line",
          "x0": 0,
          "x1": 30,
          "y0": 620,
          "y1": 2700
         },
         {
          "fillcolor": "#9ec1df",
          "layer": "above",
          "line": {
           "color": "#9ec1df",
           "width": 0.4
          },
          "type": "rect",
          "x0": -292.25,
          "x1": 0,
          "y0": 620,
          "y1": 3000
         },
         {
          "line": {
           "color": "rgba(4, 110, 124, 0.812)",
           "width": 1.2
          },
          "type": "line",
          "x0": -163.7,
          "x1": -292.25,
          "y0": 620,
          "y1": 620
         },
         {
          "line": {
           "color": "rgba(4, 110, 124, 0.812)",
           "width": 1.2
          },
          "type": "line",
          "x0": -292.25,
          "x1": -292.25,
          "y0": 620,
          "y1": 3000
         },
         {
          "line": {
           "color": "lightgrey",
           "width": 0.5
          },
          "type": "line",
          "x0": 30,
          "x1": 120,
          "y0": 2700,
          "y1": 2700
         },
         {
          "line": {
           "color": "lightgrey",
           "width": 0.5
          },
          "type": "line",
          "x0": 0,
          "x1": 30,
          "y0": 3000,
          "y1": 3000
         },
         {
          "line": {
           "color": "rgba(4, 110, 124, 0.812)",
           "width": 1.2
          },
          "type": "line",
          "x0": -292.25,
          "x1": 0,
          "y0": 3000,
          "y1": 3000
         },
         {
          "line": {
           "color": "lightgrey",
           "width": 0.5
          },
          "type": "line",
          "x0": 30,
          "x1": 120,
          "y0": 3000,
          "y1": 3000
         },
         {
          "line": {
           "color": "lightgrey",
           "width": 0.5
          },
          "type": "line",
          "x0": 0,
          "x1": 30,
          "y0": 0,
          "y1": 1200
         },
         {
          "line": {
           "color": "lightgrey",
           "width": 0.5
          },
          "type": "line",
          "x0": 30,
          "x1": 30,
          "y0": 0,
          "y1": 3000
         },
         {
          "line": {
           "color": "lightgrey",
           "width": 0.5
          },
          "type": "line",
          "x0": 60,
          "x1": 60,
          "y0": 0,
          "y1": 3000
         },
         {
          "line": {
           "color": "lightgrey",
           "width": 0.5
          },
          "type": "line",
          "x0": 90,
          "x1": 90,
          "y0": 0,
          "y1": 3000
         },
         {
          "line": {
           "color": "lightgrey",
           "width": 0.5
          },
          "type": "line",
          "x0": 0,
          "x1": 120,
          "y0": -200,
          "y1": -200
         }
        ],
        "template": {
         "data": {
          "bar": [
           {
            "error_x": {
             "color": "#2a3f5f"
            },
            "error_y": {
             "color": "#2a3f5f"
            },
            "marker": {
             "line": {
              "color": "#E5ECF6",
              "width": 0.5
             },
             "pattern": {
              "fillmode": "overlay",
              "size": 10,
              "solidity": 0.2
             }
            },
            "type": "bar"
           }
          ],
          "barpolar": [
           {
            "marker": {
             "line": {
              "color": "#E5ECF6",
              "width": 0.5
             },
             "pattern": {
              "fillmode": "overlay",
              "size": 10,
              "solidity": 0.2
             }
            },
            "type": "barpolar"
           }
          ],
          "carpet": [
           {
            "aaxis": {
             "endlinecolor": "#2a3f5f",
             "gridcolor": "white",
             "linecolor": "white",
             "minorgridcolor": "white",
             "startlinecolor": "#2a3f5f"
            },
            "baxis": {
             "endlinecolor": "#2a3f5f",
             "gridcolor": "white",
             "linecolor": "white",
             "minorgridcolor": "white",
             "startlinecolor": "#2a3f5f"
            },
            "type": "carpet"
           }
          ],
          "choropleth": [
           {
            "colorbar": {
             "outlinewidth": 0,
             "ticks": ""
            },
            "type": "choropleth"
           }
          ],
          "contour": [
           {
            "colorbar": {
             "outlinewidth": 0,
             "ticks": ""
            },
            "colorscale": [
             [
              0,
              "#0d0887"
             ],
             [
              0.1111111111111111,
              "#46039f"
             ],
             [
              0.2222222222222222,
              "#7201a8"
             ],
             [
              0.3333333333333333,
              "#9c179e"
             ],
             [
              0.4444444444444444,
              "#bd3786"
             ],
             [
              0.5555555555555556,
              "#d8576b"
             ],
             [
              0.6666666666666666,
              "#ed7953"
             ],
             [
              0.7777777777777778,
              "#fb9f3a"
             ],
             [
              0.8888888888888888,
              "#fdca26"
             ],
             [
              1,
              "#f0f921"
             ]
            ],
            "type": "contour"
           }
          ],
          "contourcarpet": [
           {
            "colorbar": {
             "outlinewidth": 0,
             "ticks": ""
            },
            "type": "contourcarpet"
           }
          ],
          "heatmap": [
           {
            "colorbar": {
             "outlinewidth": 0,
             "ticks": ""
            },
            "colorscale": [
             [
              0,
              "#0d0887"
             ],
             [
              0.1111111111111111,
              "#46039f"
             ],
             [
              0.2222222222222222,
              "#7201a8"
             ],
             [
              0.3333333333333333,
              "#9c179e"
             ],
             [
              0.4444444444444444,
              "#bd3786"
             ],
             [
              0.5555555555555556,
              "#d8576b"
             ],
             [
              0.6666666666666666,
              "#ed7953"
             ],
             [
              0.7777777777777778,
              "#fb9f3a"
             ],
             [
              0.8888888888888888,
              "#fdca26"
             ],
             [
              1,
              "#f0f921"
             ]
            ],
            "type": "heatmap"
           }
          ],
          "histogram": [
           {
            "marker": {
             "pattern": {
              "fillmode": "overlay",
              "size": 10,
              "solidity": 0.2
             }
            },
            "type": "histogram"
           }
          ],
          "histogram2d": [
           {
            "colorbar": {
             "outlinewidth": 0,
             "ticks": ""
            },
            "colorscale": [
             [
              0,
              "#0d0887"
             ],
             [
              0.1111111111111111,
              "#46039f"
             ],
             [
              0.2222222222222222,
              "#7201a8"
             ],
             [
              0.3333333333333333,
              "#9c179e"
             ],
             [
              0.4444444444444444,
              "#bd3786"
             ],
             [
              0.5555555555555556,
              "#d8576b"
             ],
             [
              0.6666666666666666,
              "#ed7953"
             ],
             [
              0.7777777777777778,
              "#fb9f3a"
             ],
             [
              0.8888888888888888,
              "#fdca26"
             ],
             [
              1,
              "#f0f921"
             ]
            ],
            "type": "histogram2d"
           }
          ],
          "histogram2dcontour": [
           {
            "colorbar": {
             "outlinewidth": 0,
             "ticks": ""
            },
            "colorscale": [
             [
              0,
              "#0d0887"
             ],
             [
              0.1111111111111111,
              "#46039f"
             ],
             [
              0.2222222222222222,
              "#7201a8"
             ],
             [
              0.3333333333333333,
              "#9c179e"
             ],
             [
              0.4444444444444444,
              "#bd3786"
             ],
             [
              0.5555555555555556,
              "#d8576b"
             ],
             [
              0.6666666666666666,
              "#ed7953"
             ],
             [
              0.7777777777777778,
              "#fb9f3a"
             ],
             [
              0.8888888888888888,
              "#fdca26"
             ],
             [
              1,
              "#f0f921"
             ]
            ],
            "type": "histogram2dcontour"
           }
          ],
          "mesh3d": [
           {
            "colorbar": {
             "outlinewidth": 0,
             "ticks": ""
            },
            "type": "mesh3d"
           }
          ],
          "parcoords": [
           {
            "line": {
             "colorbar": {
              "outlinewidth": 0,
              "ticks": ""
             }
            },
            "type": "parcoords"
           }
          ],
          "pie": [
           {
            "automargin": true,
            "type": "pie"
           }
          ],
          "scatter": [
           {
            "fillpattern": {
             "fillmode": "overlay",
             "size": 10,
             "solidity": 0.2
            },
            "type": "scatter"
           }
          ],
          "scatter3d": [
           {
            "line": {
             "colorbar": {
              "outlinewidth": 0,
              "ticks": ""
             }
            },
            "marker": {
             "colorbar": {
              "outlinewidth": 0,
              "ticks": ""
             }
            },
            "type": "scatter3d"
           }
          ],
          "scattercarpet": [
           {
            "marker": {
             "colorbar": {
              "outlinewidth": 0,
              "ticks": ""
             }
            },
            "type": "scattercarpet"
           }
          ],
          "scattergeo": [
           {
            "marker": {
             "colorbar": {
              "outlinewidth": 0,
              "ticks": ""
             }
            },
            "type": "scattergeo"
           }
          ],
          "scattergl": [
           {
            "marker": {
             "colorbar": {
              "outlinewidth": 0,
              "ticks": ""
             }
            },
            "type": "scattergl"
           }
          ],
          "scattermap": [
           {
            "marker": {
             "colorbar": {
              "outlinewidth": 0,
              "ticks": ""
             }
            },
            "type": "scattermap"
           }
          ],
          "scattermapbox": [
           {
            "marker": {
             "colorbar": {
              "outlinewidth": 0,
              "ticks": ""
             }
            },
            "type": "scattermapbox"
           }
          ],
          "scatterpolar": [
           {
            "marker": {
             "colorbar": {
              "outlinewidth": 0,
              "ticks": ""
             }
            },
            "type": "scatterpolar"
           }
          ],
          "scatterpolargl": [
           {
            "marker": {
             "colorbar": {
              "outlinewidth": 0,
              "ticks": ""
             }
            },
            "type": "scatterpolargl"
           }
          ],
          "scatterternary": [
           {
            "marker": {
             "colorbar": {
              "outlinewidth": 0,
              "ticks": ""
             }
            },
            "type": "scatterternary"
           }
          ],
          "surface": [
           {
            "colorbar": {
             "outlinewidth": 0,
             "ticks": ""
            },
            "colorscale": [
             [
              0,
              "#0d0887"
             ],
             [
              0.1111111111111111,
              "#46039f"
             ],
             [
              0.2222222222222222,
              "#7201a8"
             ],
             [
              0.3333333333333333,
              "#9c179e"
             ],
             [
              0.4444444444444444,
              "#bd3786"
             ],
             [
              0.5555555555555556,
              "#d8576b"
             ],
             [
              0.6666666666666666,
              "#ed7953"
             ],
             [
              0.7777777777777778,
              "#fb9f3a"
             ],
             [
              0.8888888888888888,
              "#fdca26"
             ],
             [
              1,
              "#f0f921"
             ]
            ],
            "type": "surface"
           }
          ],
          "table": [
           {
            "cells": {
             "fill": {
              "color": "#EBF0F8"
             },
             "line": {
              "color": "white"
             }
            },
            "header": {
             "fill": {
              "color": "#C8D4E3"
             },
             "line": {
              "color": "white"
             }
            },
            "type": "table"
           }
          ]
         },
         "layout": {
          "annotationdefaults": {
           "arrowcolor": "#2a3f5f",
           "arrowhead": 0,
           "arrowwidth": 1
          },
          "autotypenumbers": "strict",
          "coloraxis": {
           "colorbar": {
            "outlinewidth": 0,
            "ticks": ""
           }
          },
          "colorscale": {
           "diverging": [
            [
             0,
             "#8e0152"
            ],
            [
             0.1,
             "#c51b7d"
            ],
            [
             0.2,
             "#de77ae"
            ],
            [
             0.3,
             "#f1b6da"
            ],
            [
             0.4,
             "#fde0ef"
            ],
            [
             0.5,
             "#f7f7f7"
            ],
            [
             0.6,
             "#e6f5d0"
            ],
            [
             0.7,
             "#b8e186"
            ],
            [
             0.8,
             "#7fbc41"
            ],
            [
             0.9,
             "#4d9221"
            ],
            [
             1,
             "#276419"
            ]
           ],
           "sequential": [
            [
             0,
             "#0d0887"
            ],
            [
             0.1111111111111111,
             "#46039f"
            ],
            [
             0.2222222222222222,
             "#7201a8"
            ],
            [
             0.3333333333333333,
             "#9c179e"
            ],
            [
             0.4444444444444444,
             "#bd3786"
            ],
            [
             0.5555555555555556,
             "#d8576b"
            ],
            [
             0.6666666666666666,
             "#ed7953"
            ],
            [
             0.7777777777777778,
             "#fb9f3a"
            ],
            [
             0.8888888888888888,
             "#fdca26"
            ],
            [
             1,
             "#f0f921"
            ]
           ],
           "sequentialminus": [
            [
             0,
             "#0d0887"
            ],
            [
             0.1111111111111111,
             "#46039f"
            ],
            [
             0.2222222222222222,
             "#7201a8"
            ],
            [
             0.3333333333333333,
             "#9c179e"
            ],
            [
             0.4444444444444444,
             "#bd3786"
            ],
            [
             0.5555555555555556,
             "#d8576b"
            ],
            [
             0.6666666666666666,
             "#ed7953"
            ],
            [
             0.7777777777777778,
             "#fb9f3a"
            ],
            [
             0.8888888888888888,
             "#fdca26"
            ],
            [
             1,
             "#f0f921"
            ]
           ]
          },
          "colorway": [
           "#636efa",
           "#EF553B",
           "#00cc96",
           "#ab63fa",
           "#FFA15A",
           "#19d3f3",
           "#FF6692",
           "#B6E880",
           "#FF97FF",
           "#FECB52"
          ],
          "font": {
           "color": "#2a3f5f"
          },
          "geo": {
           "bgcolor": "white",
           "lakecolor": "white",
           "landcolor": "#E5ECF6",
           "showlakes": true,
           "showland": true,
           "subunitcolor": "white"
          },
          "hoverlabel": {
           "align": "left"
          },
          "hovermode": "closest",
          "mapbox": {
           "style": "light"
          },
          "paper_bgcolor": "white",
          "plot_bgcolor": "#E5ECF6",
          "polar": {
           "angularaxis": {
            "gridcolor": "white",
            "linecolor": "white",
            "ticks": ""
           },
           "bgcolor": "#E5ECF6",
           "radialaxis": {
            "gridcolor": "white",
            "linecolor": "white",
            "ticks": ""
           }
          },
          "scene": {
           "xaxis": {
            "backgroundcolor": "#E5ECF6",
            "gridcolor": "white",
            "gridwidth": 2,
            "linecolor": "white",
            "showbackground": true,
            "ticks": "",
            "zerolinecolor": "white"
           },
           "yaxis": {
            "backgroundcolor": "#E5ECF6",
            "gridcolor": "white",
            "gridwidth": 2,
            "linecolor": "white",
            "showbackground": true,
            "ticks": "",
            "zerolinecolor": "white"
           },
           "zaxis": {
            "backgroundcolor": "#E5ECF6",
            "gridcolor": "white",
            "gridwidth": 2,
            "linecolor": "white",
            "showbackground": true,
            "ticks": "",
            "zerolinecolor": "white"
           }
          },
          "shapedefaults": {
           "line": {
            "color": "#2a3f5f"
           }
          },
          "ternary": {
           "aaxis": {
            "gridcolor": "white",
            "linecolor": "white",
            "ticks": ""
           },
           "baxis": {
            "gridcolor": "white",
            "linecolor": "white",
            "ticks": ""
           },
           "bgcolor": "#E5ECF6",
           "caxis": {
            "gridcolor": "white",
            "linecolor": "white",
            "ticks": ""
           }
          },
          "title": {
           "x": 0.05
          },
          "xaxis": {
           "automargin": true,
           "gridcolor": "white",
           "linecolor": "white",
           "ticks": "",
           "title": {
            "standoff": 15
           },
           "zerolinecolor": "white",
           "zerolinewidth": 2
          },
          "yaxis": {
           "automargin": true,
           "gridcolor": "white",
           "linecolor": "white",
           "ticks": "",
           "title": {
            "standoff": 15
           },
           "zerolinecolor": "white",
           "zerolinewidth": 2
          }
         }
        },
        "width": 600,
        "xaxis": {
         "autorange": false,
         "range": [
          -322.205625,
          120
         ],
         "ticktext": [
          "400",
          "300",
          "200",
          "100",
          "0"
         ],
         "tickvals": [
          -400,
          -300,
          -200,
          -100,
          0
         ]
        },
        "yaxis": {
         "domain": [
          0,
          1
         ],
         "range": [
          3000,
          -300
         ],
         "showticklabels": false,
         "zeroline": false,
         "zerolinecolor": "gray",
         "zerolinewidth": 1
        }
       }
      }
     },
     "metadata": {},
     "output_type": "display_data"
    }
   ],
   "source": [
    "from plotly_snow_profile import snow_profile\n",
    "import pandas as pd\n",
    "\n",
    "if not rerun:\n",
    "    dataframe = pd.read_csv(\"data/criteria_data/snowpits-24461-caaml.csv\")\n",
    "else:\n",
    "    dataframe = df\n",
    "\n",
    "snow_profile_fig = snow_profile(weaklayer=plot_weaklayer, layers=plot_layers)\n",
    "snow_profile_fig.show()\n"
   ]
  },
  {
   "cell_type": "code",
   "execution_count": 8,
   "id": "9d4978f5",
   "metadata": {},
   "outputs": [
    {
     "data": {
      "application/vnd.plotly.v1+json": {
       "config": {
        "plotlyServerURL": "https://plot.ly"
       },
       "data": [
        {
         "line": {
          "color": "blue",
          "width": 3
         },
         "marker": {
          "color": "blue",
          "size": 6
         },
         "mode": "lines",
         "name": "Energy Release Rate",
         "type": "scatter",
         "x": {
          "bdata": "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",
          "dtype": "f8"
         },
         "xaxis": "x",
         "y": {
          "bdata": "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",
          "dtype": "f8"
         }
        },
        {
         "line": {
          "color": "orange",
          "width": 3
         },
         "marker": {
          "color": "orange",
          "size": 6
         },
         "mode": "lines",
         "name": "Critical Coupling",
         "type": "scatter",
         "x": {
          "bdata": "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",
          "dtype": "f8"
         },
         "xaxis": "x",
         "y": {
          "bdata": "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",
          "dtype": "f8"
         }
        },
        {
         "line": {
          "color": "black",
          "width": 2
         },
         "mode": "lines",
         "name": "Critical Point",
         "showlegend": false,
         "type": "scatter",
         "x": [
          1,
          1
         ],
         "y": [
          0,
          3000
         ]
        },
        {
         "marker": {
          "color": "black",
          "size": 10
         },
         "mode": "markers",
         "name": "Critical Point",
         "showlegend": false,
         "type": "scatter",
         "x": [
          1
         ],
         "y": [
          0
         ]
        },
        {
         "fill": "toself",
         "fillcolor": "rgba(0, 0, 255, 0.2)",
         "hoverinfo": "skip",
         "line": {
          "width": 0
         },
         "name": "Shaded Criticality",
         "showlegend": false,
         "type": "scatter",
         "x": {
          "bdata": "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",
          "dtype": "f8"
         },
         "y": {
          "bdata": "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",
          "dtype": "f8"
         }
        },
        {
         "fill": "toself",
         "fillcolor": "rgba(255, 165, 0, 0.2)",
         "hoverinfo": "skip",
         "line": {
          "width": 0
         },
         "name": "Shaded Criticality",
         "showlegend": false,
         "type": "scatter",
         "x": {
          "bdata": "OyMa45QzVkA7IxrjlDNGQPkueNkbmj1AOyMa45QzNkBjT3uC3cIxQPkueNkbmi1AjLrUlYVfKUA7IxrjlDMmQPzJ+pASvCNAY097gt3CIUAIHkupaOsgQCCDkcYTSSBA28qokvJkH0DxFD5TvkweQAoZKGJrRx1AB2L7KiFTHEDt6mjDQm4bQEPff8pllxpA8VMw6ErNGUBXqQuZ1w4ZQCBnQNpx2hZAYyDs3MOBFEAZWw5n8pgSQPBwjJtnAxFAKMruiQ5bD0DTdRhl1RINQJ+ZLuPhGQtA1nbOCBhhCUDLsHAe+NwHQLR6hC6ahAZA9DjJSbmUBUBTh/hAPOwEQKK09zq4TQRA3SMpEVG4A0A//8E3QysDQCXCvGXgpQJAWKi2xIwnAkCP8zCQvK8BQDxpnRDyPQFASk914rvRAEAP9MDfnHEAQCRqEkqmHwBAfNIfXaKh/z999Ff74An/P51DW/G0d/4/CVcMytDq/T/erqCP7GL9P3Xd81DF3/w/QnB3sxxh/D822EKQuOb7P1099IDVfPs/LOrQPY86+z/guteUhfn6P17WU76vufo/RTHqRAV7+j/R1NwBfj36P6rHgRkSAfo/zV/q97nF+T/p/rdNbov5P5lwGw0oUvk/00HVOTkQ+T8kqZGAu3v4P96S2Xz17fc/lTj3EHVm9z8NVQMA0uT2P8gaEeKsaPY/F26vOa7x9T+piQGmhX/1PxOcci3pEfU/JFennZSo9D/+WNT9SEP0P9zLzjBw+fM/TAmPQ+Gy8z/HXecJPm7zP1hgD7VyK/M/GJX/gmzq8j9A796sGavyP665zFZpbfI/t9HngEsx8j/UQHf5sPbxP2YJG1CLvfE/QYJ+lVCN8T+msoE28V/xP44ocRN6M/E/tST0RuQH8T+ZHecwKd3wP/Dz/3JCs/A/y72j7SmK8D9B2uq82WHwP44/0DVMOvA/yy+J43sT8D8AAAAAAADwPwAAAAAAAPA/AAAAAAAA8D8AAAAAAADwPwAAAAAAAPA/AAAAAAAA8D8AAAAAAADwPwAAAAAAAPA/AAAAAAAA8D8AAAAAAADwPwAAAAAAAPA/AAAAAAAA8D8AAAAAAADwPwAAAAAAAPA/AAAAAAAA8D8AAAAAAADwPwAAAAAAAPA/AAAAAAAA8D8AAAAAAADwPwAAAAAAAPA/AAAAAAAA8D8AAAAAAADwPwAAAAAAAPA/AAAAAAAA8D8AAAAAAADwPwAAAAAAAPA/AAAAAAAA8D8AAAAAAADwPwAAAAAAAPA/AAAAAAAA8D8AAAAAAADwPwAAAAAAAPA/AAAAAAAA8D8AAAAAAADwPwAAAAAAAPA/AAAAAAAA8D8AAAAAAADwPwAAAAAAAPA/AAAAAAAA8D8AAAAAAADwPwAAAAAAAPA/AAAAAAAA8D8AAAAAAADwPwAAAAAAAPA/AAAAAAAA8D8AAAAAAADwPwAAAAAAAPA/AAAAAAAA8D8AAAAAAADwPwAAAAAAAPA/AAAAAAAA8D8AAAAAAADwPwAAAAAAAPA/AAAAAAAA8D8AAAAAAADwPwAAAAAAAPA/AAAAAAAA8D8AAAAAAADwPwAAAAAAAPA/AAAAAAAA8D8AAAAAAADwPwAAAAAAAPA/AAAAAAAA8D8AAAAAAADwPwAAAAAAAPA/AAAAAAAA8D8AAAAAAADwPwAAAAAAAPA/AAAAAAAA8D8AAAAAAADwPwAAAAAAAPA/AAAAAAAA8D8AAAAAAADwPwAAAAAAAPA/AAAAAAAA8D8AAAAAAADwPwAAAAAAAPA/AAAAAAAA8D8AAAAAAADwPwAAAAAAAPA/AAAAAAAA8D8AAAAAAADwPwAAAAAAAPA/AAAAAAAA8D8AAAAAAADwPwAAAAAAAPA/AAAAAAAA8D8AAAAAAADwPwAAAAAAAPA/AAAAAAAA8D8AAAAAAADwPw==",
          "dtype": "f8"
         },
         "y": {
          "bdata": "yiDywFW0E0DKIPLAVbQjQC8xa6GAji1AyiDywFW0M0D8qC4xa6E4QC8xa6GAjj1AsdzTCMs9QUDKIPLAVbRDQONkEHngKkZA/KguMWuhSEAW7Uzp9RdLQC8xa6GAjk1ApLrErIUCUECx3NMIyz1RQL3+4mQQeVJAyiDywFW0U0DXQgEdm+9UQONkEHngKlZA8IYf1SVmV0D8qC4xa6FYQAnLPY2w3FlAFu1M6fUXW0AiD1xFO1NcQC8xa6GAjl1APFN6/cXJXkCkusSshQJgQKpLzFoooGBAsdzTCMs9YUC3bdu2bdthQL3+4mQQeWJAxI/qErMWY0DKIPLAVbRjQNCx+W74UWRA10IBHZvvZEDd0wjLPY1lQONkEHngKmZA6vUXJ4PIZkDwhh/VJWZnQPYXJ4PIA2hA/KguMWuhaEADOjbfDT9pQAnLPY2w3GlAD1xFO1N6akAW7Uzp9RdrQBx+VJeYtWtAIg9cRTtTbEApoGPz3fBsQC8xa6GAjm1ANcJyTyMsbkA8U3r9xcluQELkgatoZ29ApLrErIUCcEAng8gDV1FwQKpLzFoooHBALhTQsfnucECx3NMIyz1xQDSl11+cjHFAt23btm3bcUA6Nt8NPypyQL3+4mQQeXJAQcfmu+HHckDEj+oSsxZzQEdY7mmEZXNAyiDywFW0c0BN6fUXJwN0QNCx+W74UXRAU3r9xcmgdEDXQgEdm+90QFoLBXRsPnVA3dMIyz2NdUBgnAwiD9x1QONkEHngKnZAZi0U0LF5dkDq9Rcng8h2QG2+G35UF3dA8IYf1SVmd0BzTyMs97R3QPYXJ4PIA3hAeeAq2plSeED8qC4xa6F4QIBxMog88HhAAzo23w0/eUCGAjo23415QAnLPY2w3HlAjJNB5IErekAPXEU7U3p6QJMkSZIkyXpAFu1M6fUXe0CZtVBAx2Z7QBx+VJeYtXtAn0ZY7mkEfECfRljuaQR8QBx+VJeYtXtAmbVQQMdme0AW7Uzp9Rd7QJMkSZIkyXpAD1xFO1N6ekCMk0HkgSt6QAnLPY2w3HlAhgI6Nt+NeUADOjbfDT95QIBxMog88HhA/KguMWuheEB54CramVJ4QPYXJ4PIA3hAc08jLPe0d0Dwhh/VJWZ3QG2+G35UF3dA6vUXJ4PIdkBmLRTQsXl2QONkEHngKnZAYJwMIg/cdUDd0wjLPY11QFoLBXRsPnVA10IBHZvvdEBTev3FyaB0QNCx+W74UXRATen1FycDdEDKIPLAVbRzQEdY7mmEZXNAxI/qErMWc0BBx+a74cdyQL3+4mQQeXJAOjbfDT8qckC3bdu2bdtxQDSl11+cjHFAsdzTCMs9cUAuFNCx+e5wQKpLzFoooHBAJ4PIA1dRcECkusSshQJwQELkgatoZ29APFN6/cXJbkA1wnJPIyxuQC8xa6GAjm1AKaBj893wbEAiD1xFO1NsQBx+VJeYtWtAFu1M6fUXa0APXEU7U3pqQAnLPY2w3GlAAzo23w0/aUD8qC4xa6FoQPYXJ4PIA2hA8IYf1SVmZ0Dq9Rcng8hmQONkEHngKmZA3dMIyz2NZUDXQgEdm+9kQNCx+W74UWRAyiDywFW0Y0DEj+oSsxZjQL3+4mQQeWJAt23btm3bYUCx3NMIyz1hQKpLzFoooGBApLrErIUCYEA8U3r9xcleQC8xa6GAjl1AIg9cRTtTXEAW7Uzp9RdbQAnLPY2w3FlA/KguMWuhWEDwhh/VJWZXQONkEHngKlZA10IBHZvvVEDKIPLAVbRTQL3+4mQQeVJAsdzTCMs9UUCkusSshQJQQC8xa6GAjk1AFu1M6fUXS0D8qC4xa6FIQONkEHngKkZAyiDywFW0Q0Cx3NMIyz1BQC8xa6GAjj1A/KguMWuhOEDKIPLAVbQzQC8xa6GAji1AyiDywFW0I0DKIPLAVbQTQA==",
          "dtype": "f8"
         }
        },
        {
         "fill": "toself",
         "fillcolor": "rgba(255, 165, 0, 0.2)",
         "hoverinfo": "skip",
         "line": {
          "width": 0
         },
         "name": "Shaded Criticality",
         "showlegend": false,
         "type": "scatter",
         "x": {
          "bdata": "Mpv5O6w78D+/M06cfXnwP53oGussufA/5a6kNLX+8D9ZRowdOUnxP8gpEdhVlvE/ODYswy7m8T/MEsjL6TjyPzLb36ivjvI/UYFfHqzn8j/QBq1HDkTzP5yq5eoIpPM/Co8E1tIH9D8f4a7PKHT0PyCm+DHu6vQ/vQVw9DZn9T+RikGyZ+n1P9/jB9LucfY/9jCNvkUB9z/i4Y5P8pf3PyUcV2uINvg/YNrl66vd+D+5zsTUEo75PzO7X+kYTvo/NEPBIo8n+z+jcsnRiA/8P2TY2cKGB/0/bHSoy0AR/j/1jJj/ry7/P9gd2Z8NMQBA7dq6ZxPXAECufiLo84oBQLu332l+TgJA8ZP+UR4nA0DTa3TGRCkEQP9A0OkcSAVAsoJoi7eIBkB/Kk3RafEHQIB4mWE5iglAEzRT7HZdC0DkBhASoHgNQNI5I06y7Q9AJghIbZtqEUAHktiPxCgTQLUpUtrOQBVARFmhTmTcF0DWOjVdtjIbQI35jFfcnh9A5+ZX01bhIkApxarL/20nQBDPFT0g3i5AHfqPRMScNkAbU3AIPSNFQIlQFijFQXRAAAAAAAAA8D8AAAAAAADwPwAAAAAAAPA/AAAAAAAA8D8AAAAAAADwPwAAAAAAAPA/AAAAAAAA8D8AAAAAAADwPwAAAAAAAPA/AAAAAAAA8D8AAAAAAADwPwAAAAAAAPA/AAAAAAAA8D8AAAAAAADwPwAAAAAAAPA/AAAAAAAA8D8AAAAAAADwPwAAAAAAAPA/AAAAAAAA8D8AAAAAAADwPwAAAAAAAPA/AAAAAAAA8D8AAAAAAADwPwAAAAAAAPA/AAAAAAAA8D8AAAAAAADwPwAAAAAAAPA/AAAAAAAA8D8AAAAAAADwPwAAAAAAAPA/AAAAAAAA8D8AAAAAAADwPwAAAAAAAPA/AAAAAAAA8D8AAAAAAADwPwAAAAAAAPA/AAAAAAAA8D8AAAAAAADwPwAAAAAAAPA/AAAAAAAA8D8AAAAAAADwPwAAAAAAAPA/AAAAAAAA8D8AAAAAAADwPwAAAAAAAPA/AAAAAAAA8D8AAAAAAADwPwAAAAAAAPA/AAAAAAAA8D8AAAAAAADwPwAAAAAAAPA/AAAAAAAA8D8AAAAAAADwPwAAAAAAAPA/",
          "dtype": "f8"
         },
         "y": {
          "bdata": "flSXmLXwm0CfRljuaQScQMA4GUQeGJxA4SramdIrnEACHZvvhj+cQCIPXEU7U5xAQwEdm+9mnEBk893wo3qcQIXlnkZYjpxAptdfnAyinEDGySDywLWcQOe74Ud1yZxACK6inSndnEApoGPz3fCcQEmSJEmSBJ1AaoTlnkYYnUCLdqb0+iudQKxoZ0qvP51AzVoooGNTnUDtTOn1F2edQA4/qkvMep1ALzFroYCOnUBQIyz3NKKdQHEV7UzptZ1AkQeuop3JnUCy+W74Ud2dQNPrL04G8Z1A9N3wo7oEnkAV0LH5bhieQDXCck8jLJ5AVrQzpdc/nkB3pvT6i1OeQJiYtVBAZ55AuIp2pvR6nkDZfDf8qI6eQPpu+FFdop5AG2G5pxG2nkA8U3r9xcmeQFxFO1N63Z5AfTf8qC7xnkCeKb3+4gSfQL8bflSXGJ9A4A0/qkssn0AAAAAAAECfQCHywFW0U59AQuSBq2hnn0Bj1kIBHXufQITIA1fRjp9ApLrErIWin0DFrIUCOrafQOaeRljuyZ9AB5EHrqLdn0Ang8gDV/GfQKS6xKyFAqBApLrErIUCoEAng8gDV/GfQAeRB66i3Z9A5p5GWO7Jn0DFrIUCOrafQKS6xKyFop9AhMgDV9GOn0Bj1kIBHXufQELkgatoZ59AIfLAVbRTn0AAAAAAAECfQOANP6pLLJ9Avxt+VJcYn0CeKb3+4gSfQH03/Kgu8Z5AXEU7U3rdnkA8U3r9xcmeQBthuacRtp5A+m74UV2inkDZfDf8qI6eQLiKdqb0ep5AmJi1UEBnnkB3pvT6i1OeQFa0M6XXP55ANcJyTyMsnkAV0LH5bhieQPTd8KO6BJ5A0+svTgbxnUCy+W74Ud2dQJEHrqKdyZ1AcRXtTOm1nUBQIyz3NKKdQC8xa6GAjp1ADj+qS8x6nUDtTOn1F2edQM1aKKBjU51ArGhnSq8/nUCLdqb0+iudQGqE5Z5GGJ1ASZIkSZIEnUApoGPz3fCcQAiuop0p3ZxA57vhR3XJnEDGySDywLWcQKbXX5wMopxAheWeRliOnEBk893wo3qcQEMBHZvvZpxAIg9cRTtTnEACHZvvhj+cQOEq2pnSK5xAwDgZRB4YnECfRljuaQScQH5Ul5i18JtA",
          "dtype": "f8"
         }
        },
        {
         "fill": "toself",
         "fillcolor": "rgba(0, 0, 0, 0.1)",
         "hoverinfo": "skip",
         "line": {
          "width": 0
         },
         "name": "Self-Collapsed",
         "showlegend": false,
         "type": "scatter",
         "x": {
          "bdata": "AAAAAKPhoUEAAAAAAADwPw==",
          "dtype": "f8"
         },
         "y": {
          "bdata": "AAAAAAAAAAAAAAAAAAAAAA==",
          "dtype": "f8"
         }
        },
        {
         "fill": "toself",
         "fillcolor": "rgba(0, 0, 0, 0.1)",
         "hoverinfo": "skip",
         "line": {
          "width": 0
         },
         "name": "Self-Collapsed",
         "showlegend": false,
         "type": "scatter",
         "x": {
          "bdata": "AAAAAKPhoUEAAAAAo+GhQQAAAACj4aFBAAAAAKPhoUEAAAAAo+GhQQAAAACj4aFBAAAAAKPhoUEAAAAAo+GhQQAAAACj4aFBAAAAAKPhoUEAAAAAo+GhQQAAAACj4aFBAAAAAKPhoUEAAAAAo+GhQQAAAACj4aFBAAAAAKPhoUEAAAAAo+GhQQAAAACj4aFBAAAAAKPhoUEAAAAAo+GhQQAAAACj4aFBAAAAAKPhoUEAAAAAo+GhQQAAAACj4aFBAAAAAKPhoUEAAAAAo+GhQQAAAACj4aFBAAAAAKPhoUEAAAAAo+GhQQAAAACj4aFBAAAAAKPhoUEAAAAAo+GhQQAAAACj4aFBAAAAAKPhoUEAAAAAo+GhQQAAAACj4aFBAAAAAKPhoUEAAAAAo+GhQQAAAACj4aFBAAAAAKPhoUEAAAAAo+GhQQAAAACj4aFBAAAAAKPhoUEAAAAAo+GhQQAAAACj4aFBAAAAAKPhoUEAAAAAo+GhQQAAAACj4aFBAAAAAKPhoUEAAAAAo+GhQQAAAACj4aFBAAAAAKPhoUEAAAAAo+GhQQAAAACj4aFBAAAAAKPhoUEAAAAAo+GhQQAAAACj4aFBAAAAAKPhoUEAAAAAo+GhQQAAAACj4aFBAAAAAKPhoUEAAAAAo+GhQQAAAACj4aFBAAAAAKPhoUEAAAAAo+GhQQAAAACj4aFBAAAAAKPhoUEAAAAAo+GhQQAAAACj4aFBAAAAAKPhoUEAAAAAo+GhQQAAAACj4aFBAAAAAKPhoUEAAAAAo+GhQQAAAACj4aFBAAAAAKPhoUEAAAAAo+GhQQAAAACj4aFBAAAAAKPhoUEAAAAAo+GhQQAAAACj4aFBAAAAAKPhoUEAAAAAo+GhQQAAAACj4aFBAAAAAKPhoUEAAAAAo+GhQQAAAACj4aFBAAAAAKPhoUEAAAAAo+GhQQAAAACj4aFBAAAAAKPhoUEAAAAAo+GhQQAAAACj4aFBAAAAAKPhoUEAAAAAo+GhQQAAAACj4aFBAAAAAKPhoUEAAAAAo+GhQQAAAACj4aFBAAAAAKPhoUEAAAAAo+GhQQAAAACj4aFBAAAAAKPhoUEAAAAAo+GhQQAAAACj4aFBAAAAAKPhoUEAAAAAo+GhQQAAAACj4aFBAAAAAKPhoUEAAAAAo+GhQQAAAACj4aFBAAAAAKPhoUEAAAAAo+GhQQAAAACj4aFBAAAAAKPhoUEAAAAAo+GhQQAAAACj4aFBAAAAAKPhoUEAAAAAo+GhQQAAAACj4aFBAAAAAKPhoUEAAAAAo+GhQQAAAACj4aFBAAAAAKPhoUEAAAAAo+GhQQAAAACj4aFBAAAAAKPhoUEAAAAAo+GhQQAAAACj4aFBAAAAAKPhoUEAAAAAo+GhQQAAAACj4aFBAAAAAKPhoUEAAAAAo+GhQQAAAACj4aFBAAAAAKPhoUEAAAAAo+GhQQAAAACj4aFBAAAAAKPhoUEAAAAAo+GhQQAAAACj4aFBAAAAAKPhoUEAAAAAo+GhQQAAAACj4aFBAAAAAKPhoUEAAAAAo+GhQQAAAACj4aFBAAAAAKPhoUEAAAAAo+GhQQAAAACj4aFBAAAAAKPhoUEAAAAAo+GhQQAAAACj4aFBAAAAAKPhoUEAAAAAo+GhQQAAAACj4aFBAAAAAKPhoUEAAAAAo+GhQQAAAACj4aFBAAAAAKPhoUEAAAAAo+GhQQAAAACj4aFBAAAAAKPhoUEAAAAAo+GhQQAAAACj4aFBAAAAAKPhoUEAAAAAo+GhQQAAAACj4aFBAAAAAKPhoUEAAAAAo+GhQQAAAACj4aFBAAAAAKPhoUEAAAAAo+GhQQAAAACj4aFBAAAAAKPhoUEAAAAAo+GhQQAAAACj4aFBAAAAAKPhoUEAAAAAo+GhQQAAAACj4aFBAAAAAKPhoUEAAAAAo+GhQQAAAACj4aFBAAAAAKPhoUEAAAAAo+GhQQAAAACj4aFBAAAAAKPhoUEAAAAAo+GhQQAAAACj4aFBAAAAAKPhoUEAAAAAo+GhQQAAAACj4aFBAAAAAKPhoUEAAAAAAADwPwAAAAAAAPA/AAAAAAAA8D8AAAAAAADwPwAAAAAAAPA/AAAAAAAA8D8AAAAAAADwPwAAAAAAAPA/AAAAAAAA8D8AAAAAAADwPwAAAAAAAPA/AAAAAAAA8D8AAAAAAADwPwAAAAAAAPA/AAAAAAAA8D8AAAAAAADwPwAAAAAAAPA/AAAAAAAA8D8AAAAAAADwPwAAAAAAAPA/AAAAAAAA8D8AAAAAAADwPwAAAAAAAPA/AAAAAAAA8D8AAAAAAADwPwAAAAAAAPA/AAAAAAAA8D8AAAAAAADwPwAAAAAAAPA/AAAAAAAA8D8AAAAAAADwPwAAAAAAAPA/AAAAAAAA8D8AAAAAAADwPwAAAAAAAPA/AAAAAAAA8D8AAAAAAADwPwAAAAAAAPA/AAAAAAAA8D8AAAAAAADwPwAAAAAAAPA/AAAAAAAA8D8AAAAAAADwPwAAAAAAAPA/AAAAAAAA8D8AAAAAAADwPwAAAAAAAPA/AAAAAAAA8D8AAAAAAADwPwAAAAAAAPA/AAAAAAAA8D8AAAAAAADwPwAAAAAAAPA/AAAAAAAA8D8AAAAAAADwPwAAAAAAAPA/AAAAAAAA8D8AAAAAAADwPwAAAAAAAPA/AAAAAAAA8D8AAAAAAADwPwAAAAAAAPA/AAAAAAAA8D8AAAAAAADwPwAAAAAAAPA/AAAAAAAA8D8AAAAAAADwPwAAAAAAAPA/AAAAAAAA8D8AAAAAAADwPwAAAAAAAPA/AAAAAAAA8D8AAAAAAADwPwAAAAAAAPA/AAAAAAAA8D8AAAAAAADwPwAAAAAAAPA/AAAAAAAA8D8AAAAAAADwPwAAAAAAAPA/AAAAAAAA8D8AAAAAAADwPwAAAAAAAPA/AAAAAAAA8D8AAAAAAADwPwAAAAAAAPA/AAAAAAAA8D8AAAAAAADwPwAAAAAAAPA/AAAAAAAA8D8AAAAAAADwPwAAAAAAAPA/AAAAAAAA8D8AAAAAAADwPwAAAAAAAPA/AAAAAAAA8D8AAAAAAADwPwAAAAAAAPA/AAAAAAAA8D8AAAAAAADwPwAAAAAAAPA/AAAAAAAA8D8AAAAAAADwPwAAAAAAAPA/AAAAAAAA8D8AAAAAAADwPwAAAAAAAPA/AAAAAAAA8D8AAAAAAADwPwAAAAAAAPA/AAAAAAAA8D8AAAAAAADwPwAAAAAAAPA/AAAAAAAA8D8AAAAAAADwPwAAAAAAAPA/AAAAAAAA8D8AAAAAAADwPwAAAAAAAPA/AAAAAAAA8D8AAAAAAADwPwAAAAAAAPA/AAAAAAAA8D8AAAAAAADwPwAAAAAAAPA/AAAAAAAA8D8AAAAAAADwPwAAAAAAAPA/AAAAAAAA8D8AAAAAAADwPwAAAAAAAPA/AAAAAAAA8D8AAAAAAADwPwAAAAAAAPA/AAAAAAAA8D8AAAAAAADwPwAAAAAAAPA/AAAAAAAA8D8AAAAAAADwPwAAAAAAAPA/AAAAAAAA8D8AAAAAAADwPwAAAAAAAPA/AAAAAAAA8D8AAAAAAADwPwAAAAAAAPA/AAAAAAAA8D8AAAAAAADwPwAAAAAAAPA/AAAAAAAA8D8AAAAAAADwPwAAAAAAAPA/AAAAAAAA8D8AAAAAAADwPwAAAAAAAPA/AAAAAAAA8D8AAAAAAADwPwAAAAAAAPA/AAAAAAAA8D8AAAAAAADwPwAAAAAAAPA/AAAAAAAA8D8AAAAAAADwPwAAAAAAAPA/AAAAAAAA8D8AAAAAAADwPwAAAAAAAPA/AAAAAAAA8D8AAAAAAADwPwAAAAAAAPA/AAAAAAAA8D8AAAAAAADwPwAAAAAAAPA/AAAAAAAA8D8AAAAAAADwPwAAAAAAAPA/AAAAAAAA8D8AAAAAAADwPwAAAAAAAPA/AAAAAAAA8D8AAAAAAADwPwAAAAAAAPA/AAAAAAAA8D8AAAAAAADwPwAAAAAAAPA/AAAAAAAA8D8AAAAAAADwPwAAAAAAAPA/AAAAAAAA8D8AAAAAAADwPwAAAAAAAPA/AAAAAAAA8D8AAAAAAADwPw==",
          "dtype": "f8"
         },
         "y": {
          "bdata": "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",
          "dtype": "f8"
         }
        }
       ],
       "layout": {
        "annotations": [
         {
          "ax": 0,
          "ay": 20,
          "font": {
           "size": 12
          },
          "text": "Criticality",
          "x": 0.5,
          "xref": "paper",
          "y": 0,
          "yref": "paper"
         },
         {
          "ax": 0,
          "ay": -10,
          "font": {
           "color": "black"
          },
          "text": "Critical Point",
          "x": 0.5,
          "xref": "paper",
          "y": 1,
          "yref": "paper"
         }
        ],
        "height": 600,
        "margin": {
         "b": 40,
         "l": 0,
         "r": 0,
         "t": 40
        },
        "paper_bgcolor": "white",
        "plot_bgcolor": "white",
        "showlegend": false,
        "template": {
         "data": {
          "bar": [
           {
            "error_x": {
             "color": "#2a3f5f"
            },
            "error_y": {
             "color": "#2a3f5f"
            },
            "marker": {
             "line": {
              "color": "#E5ECF6",
              "width": 0.5
             },
             "pattern": {
              "fillmode": "overlay",
              "size": 10,
              "solidity": 0.2
             }
            },
            "type": "bar"
           }
          ],
          "barpolar": [
           {
            "marker": {
             "line": {
              "color": "#E5ECF6",
              "width": 0.5
             },
             "pattern": {
              "fillmode": "overlay",
              "size": 10,
              "solidity": 0.2
             }
            },
            "type": "barpolar"
           }
          ],
          "carpet": [
           {
            "aaxis": {
             "endlinecolor": "#2a3f5f",
             "gridcolor": "white",
             "linecolor": "white",
             "minorgridcolor": "white",
             "startlinecolor": "#2a3f5f"
            },
            "baxis": {
             "endlinecolor": "#2a3f5f",
             "gridcolor": "white",
             "linecolor": "white",
             "minorgridcolor": "white",
             "startlinecolor": "#2a3f5f"
            },
            "type": "carpet"
           }
          ],
          "choropleth": [
           {
            "colorbar": {
             "outlinewidth": 0,
             "ticks": ""
            },
            "type": "choropleth"
           }
          ],
          "contour": [
           {
            "colorbar": {
             "outlinewidth": 0,
             "ticks": ""
            },
            "colorscale": [
             [
              0,
              "#0d0887"
             ],
             [
              0.1111111111111111,
              "#46039f"
             ],
             [
              0.2222222222222222,
              "#7201a8"
             ],
             [
              0.3333333333333333,
              "#9c179e"
             ],
             [
              0.4444444444444444,
              "#bd3786"
             ],
             [
              0.5555555555555556,
              "#d8576b"
             ],
             [
              0.6666666666666666,
              "#ed7953"
             ],
             [
              0.7777777777777778,
              "#fb9f3a"
             ],
             [
              0.8888888888888888,
              "#fdca26"
             ],
             [
              1,
              "#f0f921"
             ]
            ],
            "type": "contour"
           }
          ],
          "contourcarpet": [
           {
            "colorbar": {
             "outlinewidth": 0,
             "ticks": ""
            },
            "type": "contourcarpet"
           }
          ],
          "heatmap": [
           {
            "colorbar": {
             "outlinewidth": 0,
             "ticks": ""
            },
            "colorscale": [
             [
              0,
              "#0d0887"
             ],
             [
              0.1111111111111111,
              "#46039f"
             ],
             [
              0.2222222222222222,
              "#7201a8"
             ],
             [
              0.3333333333333333,
              "#9c179e"
             ],
             [
              0.4444444444444444,
              "#bd3786"
             ],
             [
              0.5555555555555556,
              "#d8576b"
             ],
             [
              0.6666666666666666,
              "#ed7953"
             ],
             [
              0.7777777777777778,
              "#fb9f3a"
             ],
             [
              0.8888888888888888,
              "#fdca26"
             ],
             [
              1,
              "#f0f921"
             ]
            ],
            "type": "heatmap"
           }
          ],
          "histogram": [
           {
            "marker": {
             "pattern": {
              "fillmode": "overlay",
              "size": 10,
              "solidity": 0.2
             }
            },
            "type": "histogram"
           }
          ],
          "histogram2d": [
           {
            "colorbar": {
             "outlinewidth": 0,
             "ticks": ""
            },
            "colorscale": [
             [
              0,
              "#0d0887"
             ],
             [
              0.1111111111111111,
              "#46039f"
             ],
             [
              0.2222222222222222,
              "#7201a8"
             ],
             [
              0.3333333333333333,
              "#9c179e"
             ],
             [
              0.4444444444444444,
              "#bd3786"
             ],
             [
              0.5555555555555556,
              "#d8576b"
             ],
             [
              0.6666666666666666,
              "#ed7953"
             ],
             [
              0.7777777777777778,
              "#fb9f3a"
             ],
             [
              0.8888888888888888,
              "#fdca26"
             ],
             [
              1,
              "#f0f921"
             ]
            ],
            "type": "histogram2d"
           }
          ],
          "histogram2dcontour": [
           {
            "colorbar": {
             "outlinewidth": 0,
             "ticks": ""
            },
            "colorscale": [
             [
              0,
              "#0d0887"
             ],
             [
              0.1111111111111111,
              "#46039f"
             ],
             [
              0.2222222222222222,
              "#7201a8"
             ],
             [
              0.3333333333333333,
              "#9c179e"
             ],
             [
              0.4444444444444444,
              "#bd3786"
             ],
             [
              0.5555555555555556,
              "#d8576b"
             ],
             [
              0.6666666666666666,
              "#ed7953"
             ],
             [
              0.7777777777777778,
              "#fb9f3a"
             ],
             [
              0.8888888888888888,
              "#fdca26"
             ],
             [
              1,
              "#f0f921"
             ]
            ],
            "type": "histogram2dcontour"
           }
          ],
          "mesh3d": [
           {
            "colorbar": {
             "outlinewidth": 0,
             "ticks": ""
            },
            "type": "mesh3d"
           }
          ],
          "parcoords": [
           {
            "line": {
             "colorbar": {
              "outlinewidth": 0,
              "ticks": ""
             }
            },
            "type": "parcoords"
           }
          ],
          "pie": [
           {
            "automargin": true,
            "type": "pie"
           }
          ],
          "scatter": [
           {
            "fillpattern": {
             "fillmode": "overlay",
             "size": 10,
             "solidity": 0.2
            },
            "type": "scatter"
           }
          ],
          "scatter3d": [
           {
            "line": {
             "colorbar": {
              "outlinewidth": 0,
              "ticks": ""
             }
            },
            "marker": {
             "colorbar": {
              "outlinewidth": 0,
              "ticks": ""
             }
            },
            "type": "scatter3d"
           }
          ],
          "scattercarpet": [
           {
            "marker": {
             "colorbar": {
              "outlinewidth": 0,
              "ticks": ""
             }
            },
            "type": "scattercarpet"
           }
          ],
          "scattergeo": [
           {
            "marker": {
             "colorbar": {
              "outlinewidth": 0,
              "ticks": ""
             }
            },
            "type": "scattergeo"
           }
          ],
          "scattergl": [
           {
            "marker": {
             "colorbar": {
              "outlinewidth": 0,
              "ticks": ""
             }
            },
            "type": "scattergl"
           }
          ],
          "scattermap": [
           {
            "marker": {
             "colorbar": {
              "outlinewidth": 0,
              "ticks": ""
             }
            },
            "type": "scattermap"
           }
          ],
          "scattermapbox": [
           {
            "marker": {
             "colorbar": {
              "outlinewidth": 0,
              "ticks": ""
             }
            },
            "type": "scattermapbox"
           }
          ],
          "scatterpolar": [
           {
            "marker": {
             "colorbar": {
              "outlinewidth": 0,
              "ticks": ""
             }
            },
            "type": "scatterpolar"
           }
          ],
          "scatterpolargl": [
           {
            "marker": {
             "colorbar": {
              "outlinewidth": 0,
              "ticks": ""
             }
            },
            "type": "scatterpolargl"
           }
          ],
          "scatterternary": [
           {
            "marker": {
             "colorbar": {
              "outlinewidth": 0,
              "ticks": ""
             }
            },
            "type": "scatterternary"
           }
          ],
          "surface": [
           {
            "colorbar": {
             "outlinewidth": 0,
             "ticks": ""
            },
            "colorscale": [
             [
              0,
              "#0d0887"
             ],
             [
              0.1111111111111111,
              "#46039f"
             ],
             [
              0.2222222222222222,
              "#7201a8"
             ],
             [
              0.3333333333333333,
              "#9c179e"
             ],
             [
              0.4444444444444444,
              "#bd3786"
             ],
             [
              0.5555555555555556,
              "#d8576b"
             ],
             [
              0.6666666666666666,
              "#ed7953"
             ],
             [
              0.7777777777777778,
              "#fb9f3a"
             ],
             [
              0.8888888888888888,
              "#fdca26"
             ],
             [
              1,
              "#f0f921"
             ]
            ],
            "type": "surface"
           }
          ],
          "table": [
           {
            "cells": {
             "fill": {
              "color": "#EBF0F8"
             },
             "line": {
              "color": "white"
             }
            },
            "header": {
             "fill": {
              "color": "#C8D4E3"
             },
             "line": {
              "color": "white"
             }
            },
            "type": "table"
           }
          ]
         },
         "layout": {
          "annotationdefaults": {
           "arrowcolor": "#2a3f5f",
           "arrowhead": 0,
           "arrowwidth": 1
          },
          "autotypenumbers": "strict",
          "coloraxis": {
           "colorbar": {
            "outlinewidth": 0,
            "ticks": ""
           }
          },
          "colorscale": {
           "diverging": [
            [
             0,
             "#8e0152"
            ],
            [
             0.1,
             "#c51b7d"
            ],
            [
             0.2,
             "#de77ae"
            ],
            [
             0.3,
             "#f1b6da"
            ],
            [
             0.4,
             "#fde0ef"
            ],
            [
             0.5,
             "#f7f7f7"
            ],
            [
             0.6,
             "#e6f5d0"
            ],
            [
             0.7,
             "#b8e186"
            ],
            [
             0.8,
             "#7fbc41"
            ],
            [
             0.9,
             "#4d9221"
            ],
            [
             1,
             "#276419"
            ]
           ],
           "sequential": [
            [
             0,
             "#0d0887"
            ],
            [
             0.1111111111111111,
             "#46039f"
            ],
            [
             0.2222222222222222,
             "#7201a8"
            ],
            [
             0.3333333333333333,
             "#9c179e"
            ],
            [
             0.4444444444444444,
             "#bd3786"
            ],
            [
             0.5555555555555556,
             "#d8576b"
            ],
            [
             0.6666666666666666,
             "#ed7953"
            ],
            [
             0.7777777777777778,
             "#fb9f3a"
            ],
            [
             0.8888888888888888,
             "#fdca26"
            ],
            [
             1,
             "#f0f921"
            ]
           ],
           "sequentialminus": [
            [
             0,
             "#0d0887"
            ],
            [
             0.1111111111111111,
             "#46039f"
            ],
            [
             0.2222222222222222,
             "#7201a8"
            ],
            [
             0.3333333333333333,
             "#9c179e"
            ],
            [
             0.4444444444444444,
             "#bd3786"
            ],
            [
             0.5555555555555556,
             "#d8576b"
            ],
            [
             0.6666666666666666,
             "#ed7953"
            ],
            [
             0.7777777777777778,
             "#fb9f3a"
            ],
            [
             0.8888888888888888,
             "#fdca26"
            ],
            [
             1,
             "#f0f921"
            ]
           ]
          },
          "colorway": [
           "#636efa",
           "#EF553B",
           "#00cc96",
           "#ab63fa",
           "#FFA15A",
           "#19d3f3",
           "#FF6692",
           "#B6E880",
           "#FF97FF",
           "#FECB52"
          ],
          "font": {
           "color": "#2a3f5f"
          },
          "geo": {
           "bgcolor": "white",
           "lakecolor": "white",
           "landcolor": "#E5ECF6",
           "showlakes": true,
           "showland": true,
           "subunitcolor": "white"
          },
          "hoverlabel": {
           "align": "left"
          },
          "hovermode": "closest",
          "mapbox": {
           "style": "light"
          },
          "paper_bgcolor": "white",
          "plot_bgcolor": "#E5ECF6",
          "polar": {
           "angularaxis": {
            "gridcolor": "white",
            "linecolor": "white",
            "ticks": ""
           },
           "bgcolor": "#E5ECF6",
           "radialaxis": {
            "gridcolor": "white",
            "linecolor": "white",
            "ticks": ""
           }
          },
          "scene": {
           "xaxis": {
            "backgroundcolor": "#E5ECF6",
            "gridcolor": "white",
            "gridwidth": 2,
            "linecolor": "white",
            "showbackground": true,
            "ticks": "",
            "zerolinecolor": "white"
           },
           "yaxis": {
            "backgroundcolor": "#E5ECF6",
            "gridcolor": "white",
            "gridwidth": 2,
            "linecolor": "white",
            "showbackground": true,
            "ticks": "",
            "zerolinecolor": "white"
           },
           "zaxis": {
            "backgroundcolor": "#E5ECF6",
            "gridcolor": "white",
            "gridwidth": 2,
            "linecolor": "white",
            "showbackground": true,
            "ticks": "",
            "zerolinecolor": "white"
           }
          },
          "shapedefaults": {
           "line": {
            "color": "#2a3f5f"
           }
          },
          "ternary": {
           "aaxis": {
            "gridcolor": "white",
            "linecolor": "white",
            "ticks": ""
           },
           "baxis": {
            "gridcolor": "white",
            "linecolor": "white",
            "ticks": ""
           },
           "bgcolor": "#E5ECF6",
           "caxis": {
            "gridcolor": "white",
            "linecolor": "white",
            "ticks": ""
           }
          },
          "title": {
           "x": 0.05
          },
          "xaxis": {
           "automargin": true,
           "gridcolor": "white",
           "linecolor": "white",
           "ticks": "",
           "title": {
            "standoff": 15
           },
           "zerolinecolor": "white",
           "zerolinewidth": 2
          },
          "yaxis": {
           "automargin": true,
           "gridcolor": "white",
           "linecolor": "white",
           "ticks": "",
           "title": {
            "standoff": 15
           },
           "zerolinecolor": "white",
           "zerolinewidth": 2
          }
         }
        },
        "width": 400,
        "xaxis": {
         "dtick": 0.2,
         "gridcolor": "lightblue",
         "gridwidth": 1,
         "linecolor": "black",
         "linewidth": 2,
         "range": [
          0,
          2
         ],
         "showgrid": true,
         "side": "bottom",
         "tick0": 0,
         "tickcolor": "black",
         "tickfont": {
          "color": "black",
          "size": 10
         },
         "ticklen": 8,
         "tickmode": "linear",
         "tickwidth": 2,
         "title": {
          "text": ""
         }
        },
        "yaxis": {
         "domain": [
          0,
          1
         ],
         "dtick": 100,
         "gridcolor": "lightgray",
         "gridwidth": 1,
         "range": [
          3000,
          -300
         ],
         "showgrid": true,
         "tick0": 0,
         "tickcolor": "black",
         "ticklen": 5,
         "tickmode": "linear",
         "tickwidth": 2,
         "title": {
          "text": "Depth [mm]"
         },
         "zeroline": true,
         "zerolinecolor": "gray",
         "zerolinewidth": 2
        }
       }
      }
     },
     "metadata": {},
     "output_type": "display_data"
    }
   ],
   "source": [
    "from plotly_snow_profile import criticality_plots\n",
    "\n",
    "crit_plots_fig = criticality_plots(plot_weaklayer, plot_layers, dataframe)\n",
    "crit_plots_fig.show()"
   ]
  },
  {
   "cell_type": "code",
   "execution_count": 9,
   "id": "a31980f1",
   "metadata": {},
   "outputs": [
    {
     "data": {
      "application/vnd.plotly.v1+json": {
       "config": {
        "plotlyServerURL": "https://plot.ly"
       },
       "data": [
        {
         "colorscale": [
          [
           0,
           "rgb(255,245,240)"
          ],
          [
           0.125,
           "rgb(254,224,210)"
          ],
          [
           0.25,
           "rgb(252,187,161)"
          ],
          [
           0.375,
           "rgb(252,146,114)"
          ],
          [
           0.5,
           "rgb(251,106,74)"
          ],
          [
           0.625,
           "rgb(239,59,44)"
          ],
          [
           0.75,
           "rgb(203,24,29)"
          ],
          [
           0.875,
           "rgb(165,15,21)"
          ],
          [
           1,
           "rgb(103,0,13)"
          ]
         ],
         "hoverinfo": "skip",
         "reversescale": false,
         "showscale": false,
         "type": "heatmap",
         "x": [
          0,
          0.5,
          1
         ],
         "y": {
          "bdata": "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",
          "dtype": "f8"
         },
         "z": {
          "bdata": "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",
          "dtype": "f8",
          "shape": "610, 2"
         },
         "zmax": 1,
         "zmin": 0
        },
        {
         "colorscale": [
          [
           0,
           "rgb(255,245,240)"
          ],
          [
           0.125,
           "rgb(254,224,210)"
          ],
          [
           0.25,
           "rgb(252,187,161)"
          ],
          [
           0.375,
           "rgb(252,146,114)"
          ],
          [
           0.5,
           "rgb(251,106,74)"
          ],
          [
           0.625,
           "rgb(239,59,44)"
          ],
          [
           0.75,
           "rgb(203,24,29)"
          ],
          [
           0.875,
           "rgb(165,15,21)"
          ],
          [
           1,
           "rgb(103,0,13)"
          ]
         ],
         "hoverinfo": "skip",
         "reversescale": false,
         "showscale": false,
         "type": "heatmap",
         "x": [
          1,
          1.5,
          2
         ],
         "y": {
          "bdata": "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",
          "dtype": "f8"
         },
         "z": {
          "bdata": "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",
          "dtype": "f8",
          "shape": "610, 2"
         },
         "zmax": 1,
         "zmin": 0
        },
        {
         "colorbar": {
          "title": {
           "text": "Cum."
          }
         },
         "colorscale": [
          [
           0,
           "rgb(0,180,0)"
          ],
          [
           0.1,
           "rgb(80,200,0)"
          ],
          [
           0.2,
           "rgb(170,220,0)"
          ],
          [
           0.33,
           "yellow"
          ],
          [
           0.45,
           "rgb(255,180,0)"
          ],
          [
           0.55,
           "orange"
          ],
          [
           0.7,
           "orangered"
          ],
          [
           0.85,
           "red"
          ],
          [
           1,
           "darkred"
          ]
         ],
         "showscale": true,
         "type": "heatmap",
         "x": [
          2,
          2.5,
          3
         ],
         "y": {
          "bdata": "AAAAAAAAAADKIPLAVbQTQMog8sBVtCNALzFroYCOLUDKIPLAVbQzQPyoLjFroThALzFroYCOPUCx3NMIyz1BQMog8sBVtENA42QQeeAqRkD8qC4xa6FIQBbtTOn1F0tALzFroYCOTUCkusSshQJQQLHc0wjLPVFAvf7iZBB5UkDKIPLAVbRTQNdCAR2b71RA42QQeeAqVkDwhh/VJWZXQPyoLjFroVhACcs9jbDcWUAW7Uzp9RdbQCIPXEU7U1xALzFroYCOXUA8U3r9xcleQKS6xKyFAmBAqkvMWiigYECx3NMIyz1hQLdt27Zt22FAvf7iZBB5YkDEj+oSsxZjQMog8sBVtGNA0LH5bvhRZEDXQgEdm+9kQN3TCMs9jWVA42QQeeAqZkDq9Rcng8hmQPCGH9UlZmdA9hcng8gDaED8qC4xa6FoQAM6Nt8NP2lACcs9jbDcaUAPXEU7U3pqQBbtTOn1F2tAHH5Ul5i1a0AiD1xFO1NsQCmgY/Pd8GxALzFroYCObUA1wnJPIyxuQDxTev3FyW5AQuSBq2hnb0CkusSshQJwQCeDyANXUXBAqkvMWiigcEAuFNCx+e5wQLHc0wjLPXFANKXXX5yMcUC3bdu2bdtxQDo23w0/KnJAvf7iZBB5ckBBx+a74cdyQMSP6hKzFnNAR1juaYRlc0DKIPLAVbRzQE3p9RcnA3RA0LH5bvhRdEBTev3FyaB0QNdCAR2b73RAWgsFdGw+dUDd0wjLPY11QGCcDCIP3HVA42QQeeAqdkBmLRTQsXl2QOr1FyeDyHZAbb4bflQXd0Dwhh/VJWZ3QHNPIyz3tHdA9hcng8gDeEB54CramVJ4QPyoLjFroXhAgHEyiDzweEADOjbfDT95QIYCOjbfjXlACcs9jbDceUCMk0HkgSt6QA9cRTtTenpAkyRJkiTJekAW7Uzp9Rd7QJm1UEDHZntAHH5Ul5i1e0CfRljuaQR8QCIPXEU7U3xAptdfnAyifEApoGPz3fB8QKxoZ0qvP31ALzFroYCOfUCy+W74Ud19QDXCck8jLH5AuIp2pvR6fkA8U3r9xcl+QL8bflSXGH9AQuSBq2hnf0DFrIUCOrZ/QKS6xKyFAoBA5p5GWO4pgEAng8gDV1GAQGlnSq+/eIBAqkvMWiiggEDsL04GkceAQC4U0LH57oBAb/hRXWIWgUCx3NMIyz2BQPLAVbQzZYFANKXXX5yMgUB1iVkLBbSBQLdt27Zt24FA+VFdYtYCgkA6Nt8NPyqCQHwaYbmnUYJAvf7iZBB5gkD/4mQQeaCCQEHH5rvhx4JAgqtoZ0rvgkDEj+oSsxaDQAV0bL4bPoNAR1juaYRlg0CIPHAV7YyDQMog8sBVtINADAV0bL7bg0BN6fUXJwOEQI/Nd8OPKoRA0LH5bvhRhEASlnsaYXmEQFN6/cXJoIRAlV5/cTLIhEDXQgEdm++EQBgng8gDF4VAWgsFdGw+hUCb74Yf1WWFQN3TCMs9jYVAH7iKdqa0hUBgnAwiD9yFQKKAjs13A4ZA42QQeeAqhkAlSZIkSVKGQGYtFNCxeYZAqBGWexqhhkDq9Rcng8iGQCvamdLr74ZAbb4bflQXh0Cuop0pvT6HQPCGH9UlZodAMWuhgI6Nh0BzTyMs97SHQLUzpddf3IdA9hcng8gDiEA4/KguMSuIQHngKtqZUohAu8SshQJ6iED8qC4xa6GIQD6NsNzTyIhAgHEyiDzwiEDBVbQzpReJQAM6Nt8NP4lARB64inZmiUCGAjo2342JQMjmu+FHtYlACcs9jbDciUBLr784GQSKQIyTQeSBK4pAznfDj+pSikAPXEU7U3qKQFFAx+a7oYpAkyRJkiTJikDUCMs9jfCKQBbtTOn1F4tAV9HOlF4/i0CZtVBAx2aLQNqZ0usvjotAHH5Ul5i1i0BeYtZCAd2LQJ9GWO5pBIxA4SramdIrjEAiD1xFO1OMQGTz3fCjeoxAptdfnAyijEDnu+FHdcmMQCmgY/Pd8IxAaoTlnkYYjUCsaGdKrz+NQO1M6fUXZ41ALzFroYCOjUBxFe1M6bWNQLL5bvhR3Y1A9N3wo7oEjkA1wnJPIyyOQHem9PqLU45AuIp2pvR6jkD6bvhRXaKOQDxTev3FyY5AfTf8qC7xjkC/G35UlxiPQAAAAAAAQI9AQuSBq2hnj0CEyANX0Y6PQMWshQI6to9AB5EHrqLdj0CkusSshQKQQMWshQI6FpBA5p5GWO4pkEAGkQeuoj2QQCeDyANXUZBASHWJWQtlkEBpZ0qvv3iQQIpZCwV0jJBAqkvMWiigkEDLPY2w3LOQQOwvTgaRx5BADSIPXEXbkEAuFNCx+e6QQE4GkQeuApFAb/hRXWIWkUCQ6hKzFiqRQLHc0wjLPZFA0s6UXn9RkUDywFW0M2WRQBOzFgroeJFANKXXX5yMkUBVl5i1UKCRQHWJWQsFtJFAlnsaYbnHkUC3bdu2bduRQNhfnAwi75FA+VFdYtYCkkAZRB64ihaSQDo23w0/KpJAWyigY/M9kkB8GmG5p1GSQJ0MIg9cZZJAvf7iZBB5kkDe8KO6xIySQP/iZBB5oJJAINUlZi20kkBBx+a74ceSQGG5pxGW25JAgqtoZ0rvkkCjnSm9/gKTQMSP6hKzFpNA5IGraGcqk0AFdGy+Gz6TQCZmLRTQUZNAR1juaYRlk0BoSq+/OHmTQIg8cBXtjJNAqS4xa6Ggk0DKIPLAVbSTQOsSsxYKyJNADAV0bL7bk0As9zTCcu+TQE3p9RcnA5RAbtu2bdsWlECPzXfDjyqUQLC/OBlEPpRA0LH5bvhRlEDxo7rErGWUQBKWexpheZRAM4g8cBWNlEBTev3FyaCUQHRsvht+tJRAlV5/cTLIlEC2UEDH5tuUQNdCAR2b75RA9zTCck8DlUAYJ4PIAxeVQDkZRB64KpVAWgsFdGw+lUB7/cXJIFKVQJvvhh/VZZVAvOFHdYl5lUDd0wjLPY2VQP7FySDyoJVAH7iKdqa0lUA/qkvMWsiVQGCcDCIP3JVAgY7Nd8PvlUCigI7NdwOWQMJyTyMsF5ZA42QQeeAqlkAEV9HOlD6WQCVJkiRJUpZARjtTev1llkBmLRTQsXmWQIcf1SVmjZZAqBGWexqhlkDJA1fRzrSWQOr1FyeDyJZACujYfDfclkAr2pnS6++WQEzMWiigA5dAbb4bflQXl0COsNzTCCuXQK6inSm9PpdAz5Ref3FSl0Dwhh/VJWaXQBF54CraeZdAMWuhgI6Nl0BSXWLWQqGXQHNPIyz3tJdAlEHkgavIl0C1M6XXX9yXQNUlZi0U8JdA9hcng8gDmEAXCujYfBeYQDj8qC4xK5hAWe5phOU+mEB54CramVKYQJrS6y9OZphAu8SshQJ6mEDctm3bto2YQPyoLjFroZhAHZvvhh+1mEA+jbDc08iYQF9/cTKI3JhAgHEyiDzwmECgY/Pd8AOZQMFVtDOlF5lA4kd1iVkrmUADOjbfDT+ZQCQs9zTCUplARB64inZmmUBlEHngKnqZQIYCOjbfjZlAp/T6i5OhmUDI5rvhR7WZQOjYfDf8yJlACcs9jbDcmUAqvf7iZPCZQEuvvzgZBJpAa6GAjs0XmkCMk0HkgSuaQK2FAjo2P5pAznfDj+pSmkDvaYTlnmaaQA9cRTtTeppAME4GkQeOmkBRQMfmu6GaQHIyiDxwtZpAkyRJkiTJmkCzFgro2NyaQNQIyz2N8JpA9fqLk0EEm0AW7Uzp9RebQDffDT+qK5tAV9HOlF4/m0B4w4/qElObQJm1UEDHZptAuqcRlnt6m0DamdLrL46bQPuLk0HkoZtAHH5Ul5i1m0A9cBXtTMmbQF5i1kIB3ZtAflSXmLXwm0CfRljuaQScQMA4GUQeGJxA4SramdIrnEACHZvvhj+cQCIPXEU7U5xAQwEdm+9mnEBk893wo3qcQIXlnkZYjpxAptdfnAyinEDGySDywLWcQOe74Ud1yZxACK6inSndnEApoGPz3fCcQEmSJEmSBJ1AaoTlnkYYnUCLdqb0+iudQKxoZ0qvP51AzVoooGNTnUDtTOn1F2edQA4/qkvMep1ALzFroYCOnUBQIyz3NKKdQHEV7UzptZ1AkQeuop3JnUCy+W74Ud2dQNPrL04G8Z1A9N3wo7oEnkAV0LH5bhieQDXCck8jLJ5AVrQzpdc/nkB3pvT6i1OeQJiYtVBAZ55AuIp2pvR6nkDZfDf8qI6eQPpu+FFdop5AG2G5pxG2nkA8U3r9xcmeQFxFO1N63Z5AfTf8qC7xnkCeKb3+4gSfQL8bflSXGJ9A4A0/qkssn0AAAAAAAECfQCHywFW0U59AQuSBq2hnn0Bj1kIBHXufQITIA1fRjp9ApLrErIWin0DFrIUCOrafQOaeRljuyZ9AB5EHrqLdn0Ang8gDV/GfQKS6xKyFAqBAtTOl118MoEDFrIUCOhagQNUlZi0UIKBA5p5GWO4poED2FyeDyDOgQAaRB66iPaBAFwro2HxHoEAng8gDV1GgQDj8qC4xW6BASHWJWQtloEBY7mmE5W6gQGlnSq+/eKBAeeAq2pmCoECKWQsFdIygQJrS6y9OlqBAqkvMWiigoEC7xKyFAqqgQMs9jbDcs6BA3LZt27a9oEDsL04GkcegQPyoLjFr0aBADSIPXEXboEAdm++GH+WgQC4U0LH57qBAPo2w3NP4oEBOBpEHrgKhQF9/cTKIDKFAb/hRXWIWoUCAcTKIPCChQJDqErMWKqFAoGPz3fAzoUCx3NMIyz2hQMFVtDOlR6FA0s6UXn9RoUDiR3WJWVuhQPLAVbQzZaFAAzo23w1voUATsxYK6HihQCQs9zTCgqFANKXXX5yMoUBEHriKdpahQFWXmLVQoKFAZRB54CqqoUB1iVkLBbShQIYCOjbfvaFAlnsaYbnHoUCn9PqLk9GhQLdt27Zt26FAx+a74UfloUDYX5wMIu+hQOjYfDf8+KFA+VFdYtYCokAJyz2NsAyiQBlEHriKFqJAKr3+4mQgokA6Nt8NPyqiQEuvvzgZNKJAWyigY/M9okBroYCOzUeiQHwaYbmnUaJAjJNB5IFbokCdDCIPXGWiQK2FAjo2b6JAvf7iZBB5okDOd8OP6oKiQN7wo7rEjKJA72mE5Z6WokD/4mQQeaCiQA9cRTtTqqJAINUlZi20okAwTgaRB76iQEHH5rvhx6JAUUDH5rvRokBhuacRltuiQHIyiDxw5aJAgqtoZ0rvokCTJEmSJPmiQKOdKb3+AqNAsxYK6NgMo0DEj+oSsxajQNQIyz2NIKNA5IGraGcqo0D1+ouTQTSjQAV0bL4bPqNAFu1M6fVHo0AmZi0U0FGjQDbfDT+qW6NAR1juaYRlo0BX0c6UXm+jQGhKr784eaNAeMOP6hKDo0CIPHAV7YyjQJm1UEDHlqNAqS4xa6Ggo0C6pxGWe6qjQMog8sBVtKNA2pnS6y++o0DrErMWCsijQPuLk0Hk0aNADAV0bL7bo0AcflSXmOWjQCz3NMJy76NAPXAV7Uz5o0BN6fUXJwOkQF5i1kIBDaRAbtu2bdsWpEB+VJeYtSCkQI/Nd8OPKqRAn0ZY7mk0pECwvzgZRD6kQMA4GUQeSKRA0LH5bvhRpEDhKtqZ0lukQPGjusSsZaRAAR2b74ZvpEASlnsaYXmkQCIPXEU7g6RAM4g8cBWNpEBDAR2b75akQFN6/cXJoKRAZPPd8KOqpEB0bL4bfrSkQIXlnkZYvqRAlV5/cTLIpECl11+cDNKkQLZQQMfm26RAxskg8sDlpEDXQgEdm++kQOe74Ud1+aRA9zTCck8DpUAIrqKdKQ2lQBgng8gDF6VAKaBj890gpUA5GUQeuCqlQEmSJEmSNKVAWgsFdGw+pUBqhOWeRkilQHv9xckgUqVAi3am9PpbpUCb74Yf1WWlQKxoZ0qvb6VAvOFHdYl5pUDNWiigY4OlQN3TCMs9jaVA7Uzp9ReXpUD+xckg8qClQA4/qkvMqqVAH7iKdqa0pUAvMWuhgL6lQD+qS8xayKVAUCMs9zTSpUBgnAwiD9ylQHAV7Uzp5aVAgY7Nd8PvpUCRB66infmlQKKAjs13A6ZAsvlu+FENpkDCck8jLBemQNPrL04GIaZA42QQeeAqpkD03fCjujSmQARX0c6UPqZAFNCx+W5IpkAlSZIkSVKmQDXCck8jXKZARjtTev1lpkBWtDOl12+mQGYtFNCxeaZAd6b0+ouDpkCHH9UlZo2mQJiYtVBAl6ZAqBGWexqhpkC4inam9KqmQMkDV9HOtKZA2Xw3/Ki+pkDq9Rcng8imQPpu+FFd0qZACujYfDfcpkAbYbmnEeamQCvamdLr76ZAPFN6/cX5pkBMzFoooAOnQFxFO1N6DadAbb4bflQXp0B9N/yoLiGnQI6w3NMIK6dAnim9/uI0p0Cuop0pvT6nQL8bflSXSKdAz5Ref3FSp0DfDT+qS1ynQPCGH9UlZqdAAAAAAABwp0A=",
          "dtype": "f8"
         },
         "z": {
          "bdata": "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",
          "dtype": "f8",
          "shape": "610, 2"
         },
         "zmax": 1,
         "zmin": 0
        },
        {
         "line": {
          "color": "lightgrey",
          "width": 0.5
         },
         "mode": "lines",
         "showlegend": false,
         "type": "scatter",
         "x": [
          2,
          2
         ],
         "y": [
          0,
          3000
         ]
        },
        {
         "line": {
          "color": "lightgrey",
          "width": 0.5
         },
         "mode": "lines",
         "showlegend": false,
         "type": "scatter",
         "x": [
          2.3,
          2.3
         ],
         "y": [
          0,
          3000
         ]
        },
        {
         "line": {
          "color": "lightgrey",
          "width": 0.5
         },
         "mode": "lines",
         "showlegend": false,
         "type": "scatter",
         "x": [
          2.6,
          2.6
         ],
         "y": [
          0,
          3000
         ]
        },
        {
         "line": {
          "color": "lightgrey",
          "width": 0.5
         },
         "mode": "lines",
         "showlegend": false,
         "type": "scatter",
         "x": [
          2.9,
          2.9
         ],
         "y": [
          0,
          3000
         ]
        },
        {
         "hoverinfo": "skip",
         "line": {
          "color": "white",
          "width": 0.5
         },
         "mode": "lines",
         "showlegend": false,
         "type": "scatter",
         "x": [
          0,
          3
         ],
         "y": [
          0,
          0
         ]
        },
        {
         "hoverinfo": "skip",
         "line": {
          "color": "white",
          "width": 0.5
         },
         "mode": "lines",
         "showlegend": false,
         "type": "scatter",
         "x": [
          0,
          3
         ],
         "y": [
          100,
          100
         ]
        },
        {
         "hoverinfo": "skip",
         "line": {
          "color": "white",
          "width": 0.5
         },
         "mode": "lines",
         "showlegend": false,
         "type": "scatter",
         "x": [
          0,
          3
         ],
         "y": [
          200,
          200
         ]
        },
        {
         "hoverinfo": "skip",
         "line": {
          "color": "white",
          "width": 0.5
         },
         "mode": "lines",
         "showlegend": false,
         "type": "scatter",
         "x": [
          0,
          3
         ],
         "y": [
          300,
          300
         ]
        },
        {
         "hoverinfo": "skip",
         "line": {
          "color": "white",
          "width": 0.5
         },
         "mode": "lines",
         "showlegend": false,
         "type": "scatter",
         "x": [
          0,
          3
         ],
         "y": [
          400,
          400
         ]
        },
        {
         "hoverinfo": "skip",
         "line": {
          "color": "white",
          "width": 0.5
         },
         "mode": "lines",
         "showlegend": false,
         "type": "scatter",
         "x": [
          0,
          3
         ],
         "y": [
          500,
          500
         ]
        },
        {
         "hoverinfo": "skip",
         "line": {
          "color": "white",
          "width": 0.5
         },
         "mode": "lines",
         "showlegend": false,
         "type": "scatter",
         "x": [
          0,
          3
         ],
         "y": [
          600,
          600
         ]
        },
        {
         "hoverinfo": "skip",
         "line": {
          "color": "white",
          "width": 0.5
         },
         "mode": "lines",
         "showlegend": false,
         "type": "scatter",
         "x": [
          0,
          3
         ],
         "y": [
          700,
          700
         ]
        },
        {
         "hoverinfo": "skip",
         "line": {
          "color": "white",
          "width": 0.5
         },
         "mode": "lines",
         "showlegend": false,
         "type": "scatter",
         "x": [
          0,
          3
         ],
         "y": [
          800,
          800
         ]
        },
        {
         "hoverinfo": "skip",
         "line": {
          "color": "white",
          "width": 0.5
         },
         "mode": "lines",
         "showlegend": false,
         "type": "scatter",
         "x": [
          0,
          3
         ],
         "y": [
          900,
          900
         ]
        },
        {
         "hoverinfo": "skip",
         "line": {
          "color": "white",
          "width": 0.5
         },
         "mode": "lines",
         "showlegend": false,
         "type": "scatter",
         "x": [
          0,
          3
         ],
         "y": [
          1000,
          1000
         ]
        },
        {
         "hoverinfo": "skip",
         "line": {
          "color": "white",
          "width": 0.5
         },
         "mode": "lines",
         "showlegend": false,
         "type": "scatter",
         "x": [
          0,
          3
         ],
         "y": [
          1100,
          1100
         ]
        },
        {
         "hoverinfo": "skip",
         "line": {
          "color": "white",
          "width": 0.5
         },
         "mode": "lines",
         "showlegend": false,
         "type": "scatter",
         "x": [
          0,
          3
         ],
         "y": [
          1200,
          1200
         ]
        },
        {
         "hoverinfo": "skip",
         "line": {
          "color": "white",
          "width": 0.5
         },
         "mode": "lines",
         "showlegend": false,
         "type": "scatter",
         "x": [
          0,
          3
         ],
         "y": [
          1300,
          1300
         ]
        },
        {
         "hoverinfo": "skip",
         "line": {
          "color": "white",
          "width": 0.5
         },
         "mode": "lines",
         "showlegend": false,
         "type": "scatter",
         "x": [
          0,
          3
         ],
         "y": [
          1400,
          1400
         ]
        },
        {
         "hoverinfo": "skip",
         "line": {
          "color": "white",
          "width": 0.5
         },
         "mode": "lines",
         "showlegend": false,
         "type": "scatter",
         "x": [
          0,
          3
         ],
         "y": [
          1500,
          1500
         ]
        },
        {
         "hoverinfo": "skip",
         "line": {
          "color": "white",
          "width": 0.5
         },
         "mode": "lines",
         "showlegend": false,
         "type": "scatter",
         "x": [
          0,
          3
         ],
         "y": [
          1600,
          1600
         ]
        },
        {
         "hoverinfo": "skip",
         "line": {
          "color": "white",
          "width": 0.5
         },
         "mode": "lines",
         "showlegend": false,
         "type": "scatter",
         "x": [
          0,
          3
         ],
         "y": [
          1700,
          1700
         ]
        },
        {
         "hoverinfo": "skip",
         "line": {
          "color": "white",
          "width": 0.5
         },
         "mode": "lines",
         "showlegend": false,
         "type": "scatter",
         "x": [
          0,
          3
         ],
         "y": [
          1800,
          1800
         ]
        },
        {
         "hoverinfo": "skip",
         "line": {
          "color": "white",
          "width": 0.5
         },
         "mode": "lines",
         "showlegend": false,
         "type": "scatter",
         "x": [
          0,
          3
         ],
         "y": [
          1900,
          1900
         ]
        },
        {
         "hoverinfo": "skip",
         "line": {
          "color": "white",
          "width": 0.5
         },
         "mode": "lines",
         "showlegend": false,
         "type": "scatter",
         "x": [
          0,
          3
         ],
         "y": [
          2000,
          2000
         ]
        },
        {
         "hoverinfo": "skip",
         "line": {
          "color": "white",
          "width": 0.5
         },
         "mode": "lines",
         "showlegend": false,
         "type": "scatter",
         "x": [
          0,
          3
         ],
         "y": [
          2100,
          2100
         ]
        },
        {
         "hoverinfo": "skip",
         "line": {
          "color": "white",
          "width": 0.5
         },
         "mode": "lines",
         "showlegend": false,
         "type": "scatter",
         "x": [
          0,
          3
         ],
         "y": [
          2200,
          2200
         ]
        },
        {
         "hoverinfo": "skip",
         "line": {
          "color": "white",
          "width": 0.5
         },
         "mode": "lines",
         "showlegend": false,
         "type": "scatter",
         "x": [
          0,
          3
         ],
         "y": [
          2300,
          2300
         ]
        },
        {
         "hoverinfo": "skip",
         "line": {
          "color": "white",
          "width": 0.5
         },
         "mode": "lines",
         "showlegend": false,
         "type": "scatter",
         "x": [
          0,
          3
         ],
         "y": [
          2400,
          2400
         ]
        },
        {
         "hoverinfo": "skip",
         "line": {
          "color": "white",
          "width": 0.5
         },
         "mode": "lines",
         "showlegend": false,
         "type": "scatter",
         "x": [
          0,
          3
         ],
         "y": [
          2500,
          2500
         ]
        },
        {
         "hoverinfo": "skip",
         "line": {
          "color": "white",
          "width": 0.5
         },
         "mode": "lines",
         "showlegend": false,
         "type": "scatter",
         "x": [
          0,
          3
         ],
         "y": [
          2600,
          2600
         ]
        },
        {
         "hoverinfo": "skip",
         "line": {
          "color": "white",
          "width": 0.5
         },
         "mode": "lines",
         "showlegend": false,
         "type": "scatter",
         "x": [
          0,
          3
         ],
         "y": [
          2700,
          2700
         ]
        },
        {
         "hoverinfo": "skip",
         "line": {
          "color": "white",
          "width": 0.5
         },
         "mode": "lines",
         "showlegend": false,
         "type": "scatter",
         "x": [
          0,
          3
         ],
         "y": [
          2800,
          2800
         ]
        },
        {
         "hoverinfo": "skip",
         "line": {
          "color": "white",
          "width": 0.5
         },
         "mode": "lines",
         "showlegend": false,
         "type": "scatter",
         "x": [
          0,
          3
         ],
         "y": [
          2900,
          2900
         ]
        },
        {
         "hoverinfo": "skip",
         "line": {
          "color": "white",
          "width": 0.5
         },
         "mode": "lines",
         "showlegend": false,
         "type": "scatter",
         "x": [
          0,
          3
         ],
         "y": [
          3000,
          3000
         ]
        },
        {
         "line": {
          "color": "black",
          "width": 2
         },
         "mode": "lines",
         "showlegend": false,
         "type": "scatter",
         "x": {
          "bdata": "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",
          "dtype": "f8"
         },
         "y": {
          "bdata": "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",
          "dtype": "f8"
         }
        }
       ],
       "layout": {
        "height": 600,
        "margin": {
         "b": 40,
         "l": 0,
         "r": 0,
         "t": 40
        },
        "paper_bgcolor": "white",
        "plot_bgcolor": "white",
        "template": {
         "data": {
          "bar": [
           {
            "error_x": {
             "color": "#2a3f5f"
            },
            "error_y": {
             "color": "#2a3f5f"
            },
            "marker": {
             "line": {
              "color": "#E5ECF6",
              "width": 0.5
             },
             "pattern": {
              "fillmode": "overlay",
              "size": 10,
              "solidity": 0.2
             }
            },
            "type": "bar"
           }
          ],
          "barpolar": [
           {
            "marker": {
             "line": {
              "color": "#E5ECF6",
              "width": 0.5
             },
             "pattern": {
              "fillmode": "overlay",
              "size": 10,
              "solidity": 0.2
             }
            },
            "type": "barpolar"
           }
          ],
          "carpet": [
           {
            "aaxis": {
             "endlinecolor": "#2a3f5f",
             "gridcolor": "white",
             "linecolor": "white",
             "minorgridcolor": "white",
             "startlinecolor": "#2a3f5f"
            },
            "baxis": {
             "endlinecolor": "#2a3f5f",
             "gridcolor": "white",
             "linecolor": "white",
             "minorgridcolor": "white",
             "startlinecolor": "#2a3f5f"
            },
            "type": "carpet"
           }
          ],
          "choropleth": [
           {
            "colorbar": {
             "outlinewidth": 0,
             "ticks": ""
            },
            "type": "choropleth"
           }
          ],
          "contour": [
           {
            "colorbar": {
             "outlinewidth": 0,
             "ticks": ""
            },
            "colorscale": [
             [
              0,
              "#0d0887"
             ],
             [
              0.1111111111111111,
              "#46039f"
             ],
             [
              0.2222222222222222,
              "#7201a8"
             ],
             [
              0.3333333333333333,
              "#9c179e"
             ],
             [
              0.4444444444444444,
              "#bd3786"
             ],
             [
              0.5555555555555556,
              "#d8576b"
             ],
             [
              0.6666666666666666,
              "#ed7953"
             ],
             [
              0.7777777777777778,
              "#fb9f3a"
             ],
             [
              0.8888888888888888,
              "#fdca26"
             ],
             [
              1,
              "#f0f921"
             ]
            ],
            "type": "contour"
           }
          ],
          "contourcarpet": [
           {
            "colorbar": {
             "outlinewidth": 0,
             "ticks": ""
            },
            "type": "contourcarpet"
           }
          ],
          "heatmap": [
           {
            "colorbar": {
             "outlinewidth": 0,
             "ticks": ""
            },
            "colorscale": [
             [
              0,
              "#0d0887"
             ],
             [
              0.1111111111111111,
              "#46039f"
             ],
             [
              0.2222222222222222,
              "#7201a8"
             ],
             [
              0.3333333333333333,
              "#9c179e"
             ],
             [
              0.4444444444444444,
              "#bd3786"
             ],
             [
              0.5555555555555556,
              "#d8576b"
             ],
             [
              0.6666666666666666,
              "#ed7953"
             ],
             [
              0.7777777777777778,
              "#fb9f3a"
             ],
             [
              0.8888888888888888,
              "#fdca26"
             ],
             [
              1,
              "#f0f921"
             ]
            ],
            "type": "heatmap"
           }
          ],
          "histogram": [
           {
            "marker": {
             "pattern": {
              "fillmode": "overlay",
              "size": 10,
              "solidity": 0.2
             }
            },
            "type": "histogram"
           }
          ],
          "histogram2d": [
           {
            "colorbar": {
             "outlinewidth": 0,
             "ticks": ""
            },
            "colorscale": [
             [
              0,
              "#0d0887"
             ],
             [
              0.1111111111111111,
              "#46039f"
             ],
             [
              0.2222222222222222,
              "#7201a8"
             ],
             [
              0.3333333333333333,
              "#9c179e"
             ],
             [
              0.4444444444444444,
              "#bd3786"
             ],
             [
              0.5555555555555556,
              "#d8576b"
             ],
             [
              0.6666666666666666,
              "#ed7953"
             ],
             [
              0.7777777777777778,
              "#fb9f3a"
             ],
             [
              0.8888888888888888,
              "#fdca26"
             ],
             [
              1,
              "#f0f921"
             ]
            ],
            "type": "histogram2d"
           }
          ],
          "histogram2dcontour": [
           {
            "colorbar": {
             "outlinewidth": 0,
             "ticks": ""
            },
            "colorscale": [
             [
              0,
              "#0d0887"
             ],
             [
              0.1111111111111111,
              "#46039f"
             ],
             [
              0.2222222222222222,
              "#7201a8"
             ],
             [
              0.3333333333333333,
              "#9c179e"
             ],
             [
              0.4444444444444444,
              "#bd3786"
             ],
             [
              0.5555555555555556,
              "#d8576b"
             ],
             [
              0.6666666666666666,
              "#ed7953"
             ],
             [
              0.7777777777777778,
              "#fb9f3a"
             ],
             [
              0.8888888888888888,
              "#fdca26"
             ],
             [
              1,
              "#f0f921"
             ]
            ],
            "type": "histogram2dcontour"
           }
          ],
          "mesh3d": [
           {
            "colorbar": {
             "outlinewidth": 0,
             "ticks": ""
            },
            "type": "mesh3d"
           }
          ],
          "parcoords": [
           {
            "line": {
             "colorbar": {
              "outlinewidth": 0,
              "ticks": ""
             }
            },
            "type": "parcoords"
           }
          ],
          "pie": [
           {
            "automargin": true,
            "type": "pie"
           }
          ],
          "scatter": [
           {
            "fillpattern": {
             "fillmode": "overlay",
             "size": 10,
             "solidity": 0.2
            },
            "type": "scatter"
           }
          ],
          "scatter3d": [
           {
            "line": {
             "colorbar": {
              "outlinewidth": 0,
              "ticks": ""
             }
            },
            "marker": {
             "colorbar": {
              "outlinewidth": 0,
              "ticks": ""
             }
            },
            "type": "scatter3d"
           }
          ],
          "scattercarpet": [
           {
            "marker": {
             "colorbar": {
              "outlinewidth": 0,
              "ticks": ""
             }
            },
            "type": "scattercarpet"
           }
          ],
          "scattergeo": [
           {
            "marker": {
             "colorbar": {
              "outlinewidth": 0,
              "ticks": ""
             }
            },
            "type": "scattergeo"
           }
          ],
          "scattergl": [
           {
            "marker": {
             "colorbar": {
              "outlinewidth": 0,
              "ticks": ""
             }
            },
            "type": "scattergl"
           }
          ],
          "scattermap": [
           {
            "marker": {
             "colorbar": {
              "outlinewidth": 0,
              "ticks": ""
             }
            },
            "type": "scattermap"
           }
          ],
          "scattermapbox": [
           {
            "marker": {
             "colorbar": {
              "outlinewidth": 0,
              "ticks": ""
             }
            },
            "type": "scattermapbox"
           }
          ],
          "scatterpolar": [
           {
            "marker": {
             "colorbar": {
              "outlinewidth": 0,
              "ticks": ""
             }
            },
            "type": "scatterpolar"
           }
          ],
          "scatterpolargl": [
           {
            "marker": {
             "colorbar": {
              "outlinewidth": 0,
              "ticks": ""
             }
            },
            "type": "scatterpolargl"
           }
          ],
          "scatterternary": [
           {
            "marker": {
             "colorbar": {
              "outlinewidth": 0,
              "ticks": ""
             }
            },
            "type": "scatterternary"
           }
          ],
          "surface": [
           {
            "colorbar": {
             "outlinewidth": 0,
             "ticks": ""
            },
            "colorscale": [
             [
              0,
              "#0d0887"
             ],
             [
              0.1111111111111111,
              "#46039f"
             ],
             [
              0.2222222222222222,
              "#7201a8"
             ],
             [
              0.3333333333333333,
              "#9c179e"
             ],
             [
              0.4444444444444444,
              "#bd3786"
             ],
             [
              0.5555555555555556,
              "#d8576b"
             ],
             [
              0.6666666666666666,
              "#ed7953"
             ],
             [
              0.7777777777777778,
              "#fb9f3a"
             ],
             [
              0.8888888888888888,
              "#fdca26"
             ],
             [
              1,
              "#f0f921"
             ]
            ],
            "type": "surface"
           }
          ],
          "table": [
           {
            "cells": {
             "fill": {
              "color": "#EBF0F8"
             },
             "line": {
              "color": "white"
             }
            },
            "header": {
             "fill": {
              "color": "#C8D4E3"
             },
             "line": {
              "color": "white"
             }
            },
            "type": "table"
           }
          ]
         },
         "layout": {
          "annotationdefaults": {
           "arrowcolor": "#2a3f5f",
           "arrowhead": 0,
           "arrowwidth": 1
          },
          "autotypenumbers": "strict",
          "coloraxis": {
           "colorbar": {
            "outlinewidth": 0,
            "ticks": ""
           }
          },
          "colorscale": {
           "diverging": [
            [
             0,
             "#8e0152"
            ],
            [
             0.1,
             "#c51b7d"
            ],
            [
             0.2,
             "#de77ae"
            ],
            [
             0.3,
             "#f1b6da"
            ],
            [
             0.4,
             "#fde0ef"
            ],
            [
             0.5,
             "#f7f7f7"
            ],
            [
             0.6,
             "#e6f5d0"
            ],
            [
             0.7,
             "#b8e186"
            ],
            [
             0.8,
             "#7fbc41"
            ],
            [
             0.9,
             "#4d9221"
            ],
            [
             1,
             "#276419"
            ]
           ],
           "sequential": [
            [
             0,
             "#0d0887"
            ],
            [
             0.1111111111111111,
             "#46039f"
            ],
            [
             0.2222222222222222,
             "#7201a8"
            ],
            [
             0.3333333333333333,
             "#9c179e"
            ],
            [
             0.4444444444444444,
             "#bd3786"
            ],
            [
             0.5555555555555556,
             "#d8576b"
            ],
            [
             0.6666666666666666,
             "#ed7953"
            ],
            [
             0.7777777777777778,
             "#fb9f3a"
            ],
            [
             0.8888888888888888,
             "#fdca26"
            ],
            [
             1,
             "#f0f921"
            ]
           ],
           "sequentialminus": [
            [
             0,
             "#0d0887"
            ],
            [
             0.1111111111111111,
             "#46039f"
            ],
            [
             0.2222222222222222,
             "#7201a8"
            ],
            [
             0.3333333333333333,
             "#9c179e"
            ],
            [
             0.4444444444444444,
             "#bd3786"
            ],
            [
             0.5555555555555556,
             "#d8576b"
            ],
            [
             0.6666666666666666,
             "#ed7953"
            ],
            [
             0.7777777777777778,
             "#fb9f3a"
            ],
            [
             0.8888888888888888,
             "#fdca26"
            ],
            [
             1,
             "#f0f921"
            ]
           ]
          },
          "colorway": [
           "#636efa",
           "#EF553B",
           "#00cc96",
           "#ab63fa",
           "#FFA15A",
           "#19d3f3",
           "#FF6692",
           "#B6E880",
           "#FF97FF",
           "#FECB52"
          ],
          "font": {
           "color": "#2a3f5f"
          },
          "geo": {
           "bgcolor": "white",
           "lakecolor": "white",
           "landcolor": "#E5ECF6",
           "showlakes": true,
           "showland": true,
           "subunitcolor": "white"
          },
          "hoverlabel": {
           "align": "left"
          },
          "hovermode": "closest",
          "mapbox": {
           "style": "light"
          },
          "paper_bgcolor": "white",
          "plot_bgcolor": "#E5ECF6",
          "polar": {
           "angularaxis": {
            "gridcolor": "white",
            "linecolor": "white",
            "ticks": ""
           },
           "bgcolor": "#E5ECF6",
           "radialaxis": {
            "gridcolor": "white",
            "linecolor": "white",
            "ticks": ""
           }
          },
          "scene": {
           "xaxis": {
            "backgroundcolor": "#E5ECF6",
            "gridcolor": "white",
            "gridwidth": 2,
            "linecolor": "white",
            "showbackground": true,
            "ticks": "",
            "zerolinecolor": "white"
           },
           "yaxis": {
            "backgroundcolor": "#E5ECF6",
            "gridcolor": "white",
            "gridwidth": 2,
            "linecolor": "white",
            "showbackground": true,
            "ticks": "",
            "zerolinecolor": "white"
           },
           "zaxis": {
            "backgroundcolor": "#E5ECF6",
            "gridcolor": "white",
            "gridwidth": 2,
            "linecolor": "white",
            "showbackground": true,
            "ticks": "",
            "zerolinecolor": "white"
           }
          },
          "shapedefaults": {
           "line": {
            "color": "#2a3f5f"
           }
          },
          "ternary": {
           "aaxis": {
            "gridcolor": "white",
            "linecolor": "white",
            "ticks": ""
           },
           "baxis": {
            "gridcolor": "white",
            "linecolor": "white",
            "ticks": ""
           },
           "bgcolor": "#E5ECF6",
           "caxis": {
            "gridcolor": "white",
            "linecolor": "white",
            "ticks": ""
           }
          },
          "title": {
           "x": 0.05
          },
          "xaxis": {
           "automargin": true,
           "gridcolor": "white",
           "linecolor": "white",
           "ticks": "",
           "title": {
            "standoff": 15
           },
           "zerolinecolor": "white",
           "zerolinewidth": 2
          },
          "yaxis": {
           "automargin": true,
           "gridcolor": "white",
           "linecolor": "white",
           "ticks": "",
           "title": {
            "standoff": 15
           },
           "zerolinecolor": "white",
           "zerolinewidth": 2
          }
         }
        },
        "width": 300,
        "xaxis": {
         "range": [
          0,
          3
         ],
         "ticktext": [
          "Fracture",
          "Propagation",
          "0.0",
          "0.3",
          "0.6",
          "0.9"
         ],
         "tickvals": [
          0.5,
          1.5,
          2,
          2.3,
          2.6,
          2.9
         ]
        },
        "yaxis": {
         "autorange": false,
         "domain": [
          0,
          1
         ],
         "range": [
          3000,
          -300
         ],
         "showticklabels": false
        }
       }
      }
     },
     "metadata": {},
     "output_type": "display_data"
    }
   ],
   "source": [
    "from plotly_snow_profile import criticality_heatmap\n",
    "\n",
    "crit_hm_fig = criticality_heatmap(plot_weaklayer, plot_layers, dataframe)\n",
    "crit_hm_fig.show()"
   ]
  },
  {
   "cell_type": "code",
   "execution_count": 10,
   "id": "aad32184",
   "metadata": {},
   "outputs": [
    {
     "data": {
      "image/png": "[encoded data removed]",
      "text/plain": [
       "<Figure size 1000x1000 with 1 Axes>"
      ]
     },
     "metadata": {},
     "output_type": "display_data"
    },
    {
     "data": {
      "image/png": "[encoded data removed]",
      "text/plain": [
       "<Figure size 1000x1000 with 1 Axes>"
      ]
     },
     "metadata": {},
     "output_type": "display_data"
    },
    {
     "data": {
      "image/png": "[encoded data removed]",
      "text/plain": [
       "<Figure size 1000x1000 with 1 Axes>"
      ]
     },
     "metadata": {},
     "output_type": "display_data"
    }
   ],
   "source": [
    "import matplotlib.pyplot as plt\n",
    "plt.figure(figsize=(10, 10))\n",
    "plt.plot(dataframe[\"wl_depth\"], dataframe[\"impact_criterion\"], label=\"Impact Criterion\")\n",
    "plt.plot(dataframe[\"wl_depth\"], dataframe[\"coupled_criterion\"], label=\"Coupled Criterion\")\n",
    "# plot vertical lines at the end of each layer\n",
    "for i, height in enumerate(heights):\n",
    "    plt.axvline(x=height, color=\"black\", linestyle=\"--\")\n",
    "plt.legend()\n",
    "plt.show()\n",
    "\n",
    "plt.figure(figsize=(10, 10))\n",
    "plt.plot(dataframe[\"wl_depth\"], dataframe[\"sserr_result\"], label=\"SSERR\")\n",
    "# plt.ylim(0, 4000)\n",
    "plt.legend()\n",
    "plt.show()\n",
    "\n",
    "plt.figure(figsize=(10, 10))\n",
    "plt.plot(dataframe[\"wl_depth\"], dataframe[\"touchdown_distance\"], label=\"Touchdown Distance\")\n",
    "plt.legend()\n",
    "plt.show()"
   ]
  },
  {
   "cell_type": "code",
   "execution_count": 11,
   "id": "c413e74f",
   "metadata": {},
   "outputs": [],
   "source": [
    "from PIL import Image\n",
    "from io import BytesIO\n",
    "\n",
    "figures = [crit_plots_fig, snow_profile_fig, crit_hm_fig]\n",
    "\n",
    "images = []\n",
    "for fig in figures:\n",
    "    width = fig.layout.width*2\n",
    "    height = fig.layout.height*2\n",
    "    img_bytes = fig.to_image(format=\"png\", width=width, height=height, scale=2)\n",
    "    image = Image.open(BytesIO(img_bytes))\n",
    "    images.append(image)\n",
    "\n",
    "total_width = sum(im.width for im in images)\n",
    "max_height = max(im.height for im in images)\n",
    "combined = Image.new(\"RGB\", (total_width, max_height), color=(255, 255, 255))\n",
    "x_offset = 0\n",
    "for im in images:\n",
    "    combined.paste(im, (x_offset, 0))\n",
    "    x_offset += im.width\n",
    "\n",
    "combined.save(\"plots/combined.png\")"
   ]
  },
  {
   "cell_type": "code",
   "execution_count": 12,
   "id": "51fbfead",
   "metadata": {},
   "outputs": [],
   "source": [
    "def eval_weac_over_layers(parser: SnowPilotParser, scenario_config: ScenarioConfig, segments: list[Segment], weaklayer: WeakLayer, wl_spacing=100):\n",
    "    data_rows = []\n",
    "    # Extract layers\n",
    "    layers, density_method = parser.extract_layers()\n",
    "    heights = np.cumsum([layer.h for layer in layers])\n",
    "    # space evenly and append the last height\n",
    "    wl_depths = np.arange(wl_spacing, heights[-1], wl_spacing).tolist()\n",
    "    wl_depths.append(heights[-1])\n",
    "    \n",
    "    layers_copy = copy.deepcopy(layers)\n",
    "    for i, wl_depth in tqdm(enumerate(wl_depths), total=len(wl_depths), desc=\"Processing weak layers\", leave=False):\n",
    "        # only keep layers above the spacing\n",
    "        mask = heights <= wl_depth\n",
    "        new_layers = [layer for layer, keep in zip(layers_copy, mask) if keep]\n",
    "        # Add truncated layer if needed\n",
    "        depth = np.sum([layer.h for layer in new_layers]) if new_layers else 0.0\n",
    "        if depth < wl_depth:\n",
    "            additional_layer = copy.deepcopy(layers_copy[len(new_layers) if new_layers else 0])\n",
    "            additional_layer.h = wl_depth - depth\n",
    "            new_layers.append(additional_layer)\n",
    "        \n",
    "        model_input = ModelInput(\n",
    "            weak_layer=weaklayer,\n",
    "            layers=new_layers,\n",
    "            scenario_config=scenario_config,\n",
    "            segments=segments,\n",
    "        )\n",
    "        system = SystemModel(model_input=model_input)\n",
    "        \n",
    "        cc_result: CoupledCriterionResult = standard_criteria_evaluator.evaluate_coupled_criterion(system, print_call_stats=False)\n",
    "        sserr_result: SSERRResult = standard_criteria_evaluator.evaluate_SSERR(system, vertical=False, print_call_stats=False)\n",
    "\n",
    "        data_rows.append({\n",
    "            \"wl_depth\": wl_depth,\n",
    "            \"impact_criterion\": cc_result.initial_critical_skier_weight,\n",
    "            \"coupled_criterion\": cc_result.critical_skier_weight,\n",
    "            \"sserr_result\": sserr_result.SSERR,\n",
    "            \"touchdown_distance\": sserr_result.touchdown_distance,\n",
    "        })\n",
    "    return data_rows, layers, weaklayer"
   ]
  },
  {
   "cell_type": "code",
   "execution_count": 13,
   "id": "607d5905",
   "metadata": {},
   "outputs": [],
   "source": [
    "from PIL import Image\n",
    "from io import BytesIO\n",
    "import plotly.graph_objects as go\n",
    "\n",
    "def combine_plots(file_path: str, name: str, figures: list[go.Figure]):\n",
    "\n",
    "    images = []\n",
    "    for fig in figures:\n",
    "        width = fig.layout.width*2\n",
    "        height = fig.layout.height*2\n",
    "        img_bytes = fig.to_image(format=\"png\", width=width, height=height, scale=2)\n",
    "        image = Image.open(BytesIO(img_bytes))\n",
    "        images.append(image)\n",
    "\n",
    "    total_width = sum(im.width for im in images)\n",
    "    max_height = max(im.height for im in images)\n",
    "    combined = Image.new(\"RGB\", (total_width, max_height), color=(255, 255, 255))\n",
    "    x_offset = 0\n",
    "    for im in images:\n",
    "        combined.paste(im, (x_offset, 0))\n",
    "        x_offset += im.width\n",
    "\n",
    "    combined.save(f\"{file_path}/{name}.png\")"
   ]
  },
  {
   "cell_type": "code",
   "execution_count": 14,
   "id": "b6303e33",
   "metadata": {},
   "outputs": [
    {
     "data": {
      "application/vnd.jupyter.widget-view+json": {
       "model_id": "2cb77c4adf274c1697bb526bc43ae457",
       "version_major": 2,
       "version_minor": 0
      },
      "text/plain": [
       "Processing files:   0%|          | 0/100 [00:00<?, ?it/s]"
      ]
     },
     "metadata": {},
     "output_type": "display_data"
    },
    {
     "data": {
      "application/vnd.jupyter.widget-view+json": {
       "model_id": "8e3f67f6d94e4ef1ba68f84cee6fd516",
       "version_major": 2,
       "version_minor": 0
      },
      "text/plain": [
       "Processing weak layers:   0%|          | 0/60 [00:00<?, ?it/s]"
      ]
     },
     "metadata": {},
     "output_type": "display_data"
    },
    {
     "data": {
      "application/vnd.jupyter.widget-view+json": {
       "model_id": "6042d11cffe247efa4cd823c173adb3f",
       "version_major": 2,
       "version_minor": 0
      },
      "text/plain": [
       "Processing weak layers:   0%|          | 0/22 [00:00<?, ?it/s]"
      ]
     },
     "metadata": {},
     "output_type": "display_data"
    },
    {
     "data": {
      "application/vnd.jupyter.widget-view+json": {
       "model_id": "3763039c885f44b495f4aa2af8dff45a",
       "version_major": 2,
       "version_minor": 0
      },
      "text/plain": [
       "Processing weak layers:   0%|          | 0/18 [00:00<?, ?it/s]"
      ]
     },
     "metadata": {},
     "output_type": "display_data"
    },
    {
     "data": {
      "application/vnd.jupyter.widget-view+json": {
       "model_id": "adf5e3d47a9c4e75b2d8546a37040597",
       "version_major": 2,
       "version_minor": 0
      },
      "text/plain": [
       "Processing weak layers:   0%|          | 0/20 [00:00<?, ?it/s]"
      ]
     },
     "metadata": {},
     "output_type": "display_data"
    },
    {
     "data": {
      "application/vnd.jupyter.widget-view+json": {
       "model_id": "af4da0c5cf0b4116a62f9cd57f53df9d",
       "version_major": 2,
       "version_minor": 0
      },
      "text/plain": [
       "Processing weak layers:   0%|          | 0/10 [00:00<?, ?it/s]"
      ]
     },
     "metadata": {},
     "output_type": "display_data"
    },
    {
     "data": {
      "application/vnd.jupyter.widget-view+json": {
       "model_id": "411f6f26b43a44328aa48b002a52ee4d",
       "version_major": 2,
       "version_minor": 0
      },
      "text/plain": [
       "Processing weak layers:   0%|          | 0/11 [00:00<?, ?it/s]"
      ]
     },
     "metadata": {},
     "output_type": "display_data"
    },
    {
     "data": {
      "application/vnd.jupyter.widget-view+json": {
       "model_id": "1baded215b1e4523aad36696272b9863",
       "version_major": 2,
       "version_minor": 0
      },
      "text/plain": [
       "Processing weak layers:   0%|          | 0/14 [00:00<?, ?it/s]"
      ]
     },
     "metadata": {},
     "output_type": "display_data"
    },
    {
     "data": {
      "application/vnd.jupyter.widget-view+json": {
       "model_id": "e256aaf2466b4f469cbf6e62538212dc",
       "version_major": 2,
       "version_minor": 0
      },
      "text/plain": [
       "Processing weak layers:   0%|          | 0/15 [00:00<?, ?it/s]"
      ]
     },
     "metadata": {},
     "output_type": "display_data"
    },
    {
     "data": {
      "application/vnd.jupyter.widget-view+json": {
       "model_id": "47d1a70580964bbe8df8712863b18b5d",
       "version_major": 2,
       "version_minor": 0
      },
      "text/plain": [
       "Processing weak layers:   0%|          | 0/26 [00:00<?, ?it/s]"
      ]
     },
     "metadata": {},
     "output_type": "display_data"
    },
    {
     "data": {
      "application/vnd.jupyter.widget-view+json": {
       "model_id": "bffe389c9dd143d491b1880766db4926",
       "version_major": 2,
       "version_minor": 0
      },
      "text/plain": [
       "Processing weak layers:   0%|          | 0/20 [00:00<?, ?it/s]"
      ]
     },
     "metadata": {},
     "output_type": "display_data"
    },
    {
     "data": {
      "application/vnd.jupyter.widget-view+json": {
       "model_id": "ac494ee52c5149c5866d94d1f51b071f",
       "version_major": 2,
       "version_minor": 0
      },
      "text/plain": [
       "Processing weak layers:   0%|          | 0/32 [00:00<?, ?it/s]"
      ]
     },
     "metadata": {},
     "output_type": "display_data"
    },
    {
     "data": {
      "application/vnd.jupyter.widget-view+json": {
       "model_id": "5d267b836bac4028a652cc445106f61d",
       "version_major": 2,
       "version_minor": 0
      },
      "text/plain": [
       "Processing weak layers:   0%|          | 0/48 [00:00<?, ?it/s]"
      ]
     },
     "metadata": {},
     "output_type": "display_data"
    },
    {
     "data": {
      "application/vnd.jupyter.widget-view+json": {
       "model_id": "37f1b36848a14305a12aadeed2d3484b",
       "version_major": 2,
       "version_minor": 0
      },
      "text/plain": [
       "Processing weak layers:   0%|          | 0/28 [00:00<?, ?it/s]"
      ]
     },
     "metadata": {},
     "output_type": "display_data"
    },
    {
     "data": {
      "application/vnd.jupyter.widget-view+json": {
       "model_id": "7421efc8f1c4409b9fd5c3311e1d5dcb",
       "version_major": 2,
       "version_minor": 0
      },
      "text/plain": [
       "Processing weak layers:   0%|          | 0/24 [00:00<?, ?it/s]"
      ]
     },
     "metadata": {},
     "output_type": "display_data"
    },
    {
     "data": {
      "application/vnd.jupyter.widget-view+json": {
       "model_id": "e137d610a03f4cc9a5242d78f1fd8b1f",
       "version_major": 2,
       "version_minor": 0
      },
      "text/plain": [
       "Processing weak layers:   0%|          | 0/12 [00:00<?, ?it/s]"
      ]
     },
     "metadata": {},
     "output_type": "display_data"
    },
    {
     "name": "stdout",
     "output_type": "stream",
     "text": [
      "Error processing file data/snowpits/2019-2020/snowpits-20748-caaml.xml: Layer is missing density information; density profile, hand hardness and grain type are all missing. Excluding SnowPit from calculations.\n"
     ]
    },
    {
     "data": {
      "application/vnd.jupyter.widget-view+json": {
       "model_id": "a2263f595926498bbe267585a8a2330b",
       "version_major": 2,
       "version_minor": 0
      },
      "text/plain": [
       "Processing weak layers:   0%|          | 0/30 [00:00<?, ?it/s]"
      ]
     },
     "metadata": {},
     "output_type": "display_data"
    },
    {
     "data": {
      "application/vnd.jupyter.widget-view+json": {
       "model_id": "5fb5f7acf2ba43af9f0957ed46c73f39",
       "version_major": 2,
       "version_minor": 0
      },
      "text/plain": [
       "Processing weak layers:   0%|          | 0/18 [00:00<?, ?it/s]"
      ]
     },
     "metadata": {},
     "output_type": "display_data"
    },
    {
     "data": {
      "application/vnd.jupyter.widget-view+json": {
       "model_id": "5cd58c0e29f44f1aae679bf2f467cfa3",
       "version_major": 2,
       "version_minor": 0
      },
      "text/plain": [
       "Processing weak layers:   0%|          | 0/32 [00:00<?, ?it/s]"
      ]
     },
     "metadata": {},
     "output_type": "display_data"
    },
    {
     "data": {
      "application/vnd.jupyter.widget-view+json": {
       "model_id": "be8cccce26914a6aa2909356349e65be",
       "version_major": 2,
       "version_minor": 0
      },
      "text/plain": [
       "Processing weak layers:   0%|          | 0/21 [00:00<?, ?it/s]"
      ]
     },
     "metadata": {},
     "output_type": "display_data"
    },
    {
     "data": {
      "application/vnd.jupyter.widget-view+json": {
       "model_id": "1ddb1055aa7f4f95b1e83523952a41df",
       "version_major": 2,
       "version_minor": 0
      },
      "text/plain": [
       "Processing weak layers:   0%|          | 0/15 [00:00<?, ?it/s]"
      ]
     },
     "metadata": {},
     "output_type": "display_data"
    },
    {
     "data": {
      "application/vnd.jupyter.widget-view+json": {
       "model_id": "e023c615e0524925bfa41a63433fc72e",
       "version_major": 2,
       "version_minor": 0
      },
      "text/plain": [
       "Processing weak layers:   0%|          | 0/31 [00:00<?, ?it/s]"
      ]
     },
     "metadata": {},
     "output_type": "display_data"
    },
    {
     "data": {
      "application/vnd.jupyter.widget-view+json": {
       "model_id": "6a8bf04e2b204d54854f9b31b95aeeec",
       "version_major": 2,
       "version_minor": 0
      },
      "text/plain": [
       "Processing weak layers:   0%|          | 0/22 [00:00<?, ?it/s]"
      ]
     },
     "metadata": {},
     "output_type": "display_data"
    },
    {
     "data": {
      "application/vnd.jupyter.widget-view+json": {
       "model_id": "fbbeb2e389974dbdad5d2566cf3da1f7",
       "version_major": 2,
       "version_minor": 0
      },
      "text/plain": [
       "Processing weak layers:   0%|          | 0/19 [00:00<?, ?it/s]"
      ]
     },
     "metadata": {},
     "output_type": "display_data"
    },
    {
     "data": {
      "application/vnd.jupyter.widget-view+json": {
       "model_id": "8e6b353b3a6c4dbe8714a27f4f173005",
       "version_major": 2,
       "version_minor": 0
      },
      "text/plain": [
       "Processing weak layers:   0%|          | 0/29 [00:00<?, ?it/s]"
      ]
     },
     "metadata": {},
     "output_type": "display_data"
    },
    {
     "data": {
      "application/vnd.jupyter.widget-view+json": {
       "model_id": "c5c03b943229483db1ba5ff395163085",
       "version_major": 2,
       "version_minor": 0
      },
      "text/plain": [
       "Processing weak layers:   0%|          | 0/24 [00:00<?, ?it/s]"
      ]
     },
     "metadata": {},
     "output_type": "display_data"
    },
    {
     "data": {
      "application/vnd.jupyter.widget-view+json": {
       "model_id": "e8a81fa5fefe47f3964241c20bc3e13d",
       "version_major": 2,
       "version_minor": 0
      },
      "text/plain": [
       "Processing weak layers:   0%|          | 0/23 [00:00<?, ?it/s]"
      ]
     },
     "metadata": {},
     "output_type": "display_data"
    },
    {
     "data": {
      "application/vnd.jupyter.widget-view+json": {
       "model_id": "ddd8299666ce4ee0b2119bcc07312d58",
       "version_major": 2,
       "version_minor": 0
      },
      "text/plain": [
       "Processing weak layers:   0%|          | 0/3 [00:00<?, ?it/s]"
      ]
     },
     "metadata": {},
     "output_type": "display_data"
    },
    {
     "data": {
      "application/vnd.jupyter.widget-view+json": {
       "model_id": "9034c6cbdcba4e3ea8c83a5627cb918d",
       "version_major": 2,
       "version_minor": 0
      },
      "text/plain": [
       "Processing weak layers:   0%|          | 0/14 [00:00<?, ?it/s]"
      ]
     },
     "metadata": {},
     "output_type": "display_data"
    },
    {
     "data": {
      "application/vnd.jupyter.widget-view+json": {
       "model_id": "bc3aedb2aac645da8b3c4b72d529cb6b",
       "version_major": 2,
       "version_minor": 0
      },
      "text/plain": [
       "Processing weak layers:   0%|          | 0/40 [00:00<?, ?it/s]"
      ]
     },
     "metadata": {},
     "output_type": "display_data"
    },
    {
     "data": {
      "application/vnd.jupyter.widget-view+json": {
       "model_id": "e44a3ac59fdb4913a0b07d4ee62272e9",
       "version_major": 2,
       "version_minor": 0
      },
      "text/plain": [
       "Processing weak layers:   0%|          | 0/10 [00:00<?, ?it/s]"
      ]
     },
     "metadata": {},
     "output_type": "display_data"
    },
    {
     "data": {
      "application/vnd.jupyter.widget-view+json": {
       "model_id": "3cbfc42ad9aa4c379dbed52fbd447005",
       "version_major": 2,
       "version_minor": 0
      },
      "text/plain": [
       "Processing weak layers:   0%|          | 0/33 [00:00<?, ?it/s]"
      ]
     },
     "metadata": {},
     "output_type": "display_data"
    },
    {
     "data": {
      "application/vnd.jupyter.widget-view+json": {
       "model_id": "f4acfdc34d2046668af557a84dda915b",
       "version_major": 2,
       "version_minor": 0
      },
      "text/plain": [
       "Processing weak layers:   0%|          | 0/21 [00:00<?, ?it/s]"
      ]
     },
     "metadata": {},
     "output_type": "display_data"
    },
    {
     "data": {
      "application/vnd.jupyter.widget-view+json": {
       "model_id": "7164ca159a5a4c12a9225830375734d0",
       "version_major": 2,
       "version_minor": 0
      },
      "text/plain": [
       "Processing weak layers:   0%|          | 0/26 [00:00<?, ?it/s]"
      ]
     },
     "metadata": {},
     "output_type": "display_data"
    },
    {
     "data": {
      "application/vnd.jupyter.widget-view+json": {
       "model_id": "8b649b2a088a4b4ba2c3601797ee6462",
       "version_major": 2,
       "version_minor": 0
      },
      "text/plain": [
       "Processing weak layers:   0%|          | 0/33 [00:00<?, ?it/s]"
      ]
     },
     "metadata": {},
     "output_type": "display_data"
    },
    {
     "data": {
      "application/vnd.jupyter.widget-view+json": {
       "model_id": "5b12ca1d3b744d4dabca5eed0ed56a35",
       "version_major": 2,
       "version_minor": 0
      },
      "text/plain": [
       "Processing weak layers:   0%|          | 0/19 [00:00<?, ?it/s]"
      ]
     },
     "metadata": {},
     "output_type": "display_data"
    },
    {
     "data": {
      "application/vnd.jupyter.widget-view+json": {
       "model_id": "00d230ecbc36483797f51ac48e6acc3d",
       "version_major": 2,
       "version_minor": 0
      },
      "text/plain": [
       "Processing weak layers:   0%|          | 0/27 [00:00<?, ?it/s]"
      ]
     },
     "metadata": {},
     "output_type": "display_data"
    },
    {
     "data": {
      "application/vnd.jupyter.widget-view+json": {
       "model_id": "a635f9d4b590463b824a0a68a2ae8299",
       "version_major": 2,
       "version_minor": 0
      },
      "text/plain": [
       "Processing weak layers:   0%|          | 0/25 [00:00<?, ?it/s]"
      ]
     },
     "metadata": {},
     "output_type": "display_data"
    },
    {
     "data": {
      "application/vnd.jupyter.widget-view+json": {
       "model_id": "f5a273bd233f48a6843524685f2554d5",
       "version_major": 2,
       "version_minor": 0
      },
      "text/plain": [
       "Processing weak layers:   0%|          | 0/15 [00:00<?, ?it/s]"
      ]
     },
     "metadata": {},
     "output_type": "display_data"
    },
    {
     "data": {
      "application/vnd.jupyter.widget-view+json": {
       "model_id": "facb966b715145fbb0f0d91ff36538a4",
       "version_major": 2,
       "version_minor": 0
      },
      "text/plain": [
       "Processing weak layers:   0%|          | 0/25 [00:00<?, ?it/s]"
      ]
     },
     "metadata": {},
     "output_type": "display_data"
    },
    {
     "data": {
      "application/vnd.jupyter.widget-view+json": {
       "model_id": "8066a810bf3e4dd690e1e60b0adcf4cf",
       "version_major": 2,
       "version_minor": 0
      },
      "text/plain": [
       "Processing weak layers:   0%|          | 0/30 [00:00<?, ?it/s]"
      ]
     },
     "metadata": {},
     "output_type": "display_data"
    },
    {
     "data": {
      "application/vnd.jupyter.widget-view+json": {
       "model_id": "70c2c93be6e848b1b274abadd8b3bd2e",
       "version_major": 2,
       "version_minor": 0
      },
      "text/plain": [
       "Processing weak layers:   0%|          | 0/20 [00:00<?, ?it/s]"
      ]
     },
     "metadata": {},
     "output_type": "display_data"
    },
    {
     "data": {
      "application/vnd.jupyter.widget-view+json": {
       "model_id": "76d0d7cd7cf8440cace552ce376e1779",
       "version_major": 2,
       "version_minor": 0
      },
      "text/plain": [
       "Processing weak layers:   0%|          | 0/20 [00:00<?, ?it/s]"
      ]
     },
     "metadata": {},
     "output_type": "display_data"
    },
    {
     "data": {
      "application/vnd.jupyter.widget-view+json": {
       "model_id": "13233935aeac4679aa3abf84e41f3bb6",
       "version_major": 2,
       "version_minor": 0
      },
      "text/plain": [
       "Processing weak layers:   0%|          | 0/36 [00:00<?, ?it/s]"
      ]
     },
     "metadata": {},
     "output_type": "display_data"
    },
    {
     "data": {
      "application/vnd.jupyter.widget-view+json": {
       "model_id": "9e2afd5dfcbe478e9584af2619dab55a",
       "version_major": 2,
       "version_minor": 0
      },
      "text/plain": [
       "Processing weak layers:   0%|          | 0/17 [00:00<?, ?it/s]"
      ]
     },
     "metadata": {},
     "output_type": "display_data"
    },
    {
     "data": {
      "application/vnd.jupyter.widget-view+json": {
       "model_id": "8398e40f86344299b217c0604bac7be3",
       "version_major": 2,
       "version_minor": 0
      },
      "text/plain": [
       "Processing weak layers:   0%|          | 0/29 [00:00<?, ?it/s]"
      ]
     },
     "metadata": {},
     "output_type": "display_data"
    },
    {
     "data": {
      "application/vnd.jupyter.widget-view+json": {
       "model_id": "28770c0186f44d42b81e6f2d5b445dd6",
       "version_major": 2,
       "version_minor": 0
      },
      "text/plain": [
       "Processing weak layers:   0%|          | 0/21 [00:00<?, ?it/s]"
      ]
     },
     "metadata": {},
     "output_type": "display_data"
    },
    {
     "data": {
      "application/vnd.jupyter.widget-view+json": {
       "model_id": "42fd960267ba409a8109d95cf515d0a2",
       "version_major": 2,
       "version_minor": 0
      },
      "text/plain": [
       "Processing weak layers:   0%|          | 0/11 [00:00<?, ?it/s]"
      ]
     },
     "metadata": {},
     "output_type": "display_data"
    },
    {
     "data": {
      "application/vnd.jupyter.widget-view+json": {
       "model_id": "ed15edcccf3c442e8012e6b756bfcbfa",
       "version_major": 2,
       "version_minor": 0
      },
      "text/plain": [
       "Processing weak layers:   0%|          | 0/20 [00:00<?, ?it/s]"
      ]
     },
     "metadata": {},
     "output_type": "display_data"
    },
    {
     "data": {
      "application/vnd.jupyter.widget-view+json": {
       "model_id": "d8ea9251ca514865901edba6afbfbe59",
       "version_major": 2,
       "version_minor": 0
      },
      "text/plain": [
       "Processing weak layers:   0%|          | 0/23 [00:00<?, ?it/s]"
      ]
     },
     "metadata": {},
     "output_type": "display_data"
    },
    {
     "data": {
      "application/vnd.jupyter.widget-view+json": {
       "model_id": "2a2a82b17bc44994ba16cd2635f65ecd",
       "version_major": 2,
       "version_minor": 0
      },
      "text/plain": [
       "Processing weak layers:   0%|          | 0/20 [00:00<?, ?it/s]"
      ]
     },
     "metadata": {},
     "output_type": "display_data"
    },
    {
     "data": {
      "application/vnd.jupyter.widget-view+json": {
       "model_id": "71b0871d748c4d16bc2c458616bf8580",
       "version_major": 2,
       "version_minor": 0
      },
      "text/plain": [
       "Processing weak layers:   0%|          | 0/13 [00:00<?, ?it/s]"
      ]
     },
     "metadata": {},
     "output_type": "display_data"
    },
    {
     "data": {
      "application/vnd.jupyter.widget-view+json": {
       "model_id": "f9000005586a4c11a02d389217ba876f",
       "version_major": 2,
       "version_minor": 0
      },
      "text/plain": [
       "Processing weak layers:   0%|          | 0/25 [00:00<?, ?it/s]"
      ]
     },
     "metadata": {},
     "output_type": "display_data"
    },
    {
     "data": {
      "application/vnd.jupyter.widget-view+json": {
       "model_id": "086870de623e47afa2359c1fe84d15dd",
       "version_major": 2,
       "version_minor": 0
      },
      "text/plain": [
       "Processing weak layers:   0%|          | 0/26 [00:00<?, ?it/s]"
      ]
     },
     "metadata": {},
     "output_type": "display_data"
    },
    {
     "data": {
      "application/vnd.jupyter.widget-view+json": {
       "model_id": "be71d721da054998bfe08cc96d7625da",
       "version_major": 2,
       "version_minor": 0
      },
      "text/plain": [
       "Processing weak layers:   0%|          | 0/20 [00:00<?, ?it/s]"
      ]
     },
     "metadata": {},
     "output_type": "display_data"
    },
    {
     "name": "stdout",
     "output_type": "stream",
     "text": [
      "Error processing file data/snowpits/2019-2020/snowpits-21005-caaml.xml: Layer is missing density information; density profile, hand hardness and grain type are all missing. Excluding SnowPit from calculations.\n"
     ]
    },
    {
     "data": {
      "application/vnd.jupyter.widget-view+json": {
       "model_id": "788d99a317b44b5dab34a10d130dde1b",
       "version_major": 2,
       "version_minor": 0
      },
      "text/plain": [
       "Processing weak layers:   0%|          | 0/26 [00:00<?, ?it/s]"
      ]
     },
     "metadata": {},
     "output_type": "display_data"
    },
    {
     "data": {
      "application/vnd.jupyter.widget-view+json": {
       "model_id": "d26b7a7781a9436695d300350f1be855",
       "version_major": 2,
       "version_minor": 0
      },
      "text/plain": [
       "Processing weak layers:   0%|          | 0/13 [00:00<?, ?it/s]"
      ]
     },
     "metadata": {},
     "output_type": "display_data"
    },
    {
     "data": {
      "application/vnd.jupyter.widget-view+json": {
       "model_id": "93a779e1790643c399eb2c07b8d92267",
       "version_major": 2,
       "version_minor": 0
      },
      "text/plain": [
       "Processing weak layers:   0%|          | 0/17 [00:00<?, ?it/s]"
      ]
     },
     "metadata": {},
     "output_type": "display_data"
    },
    {
     "data": {
      "application/vnd.jupyter.widget-view+json": {
       "model_id": "7adb75e2def841e1b706650230c74fb3",
       "version_major": 2,
       "version_minor": 0
      },
      "text/plain": [
       "Processing weak layers:   0%|          | 0/24 [00:00<?, ?it/s]"
      ]
     },
     "metadata": {},
     "output_type": "display_data"
    },
    {
     "data": {
      "application/vnd.jupyter.widget-view+json": {
       "model_id": "05046901e4c84f7984a648b4879b5543",
       "version_major": 2,
       "version_minor": 0
      },
      "text/plain": [
       "Processing weak layers:   0%|          | 0/29 [00:00<?, ?it/s]"
      ]
     },
     "metadata": {},
     "output_type": "display_data"
    },
    {
     "data": {
      "application/vnd.jupyter.widget-view+json": {
       "model_id": "6500b6c2f58c4d748aa404606af74fe3",
       "version_major": 2,
       "version_minor": 0
      },
      "text/plain": [
       "Processing weak layers:   0%|          | 0/35 [00:00<?, ?it/s]"
      ]
     },
     "metadata": {},
     "output_type": "display_data"
    },
    {
     "data": {
      "application/vnd.jupyter.widget-view+json": {
       "model_id": "846ee0be7bf9499480a32190676eb67a",
       "version_major": 2,
       "version_minor": 0
      },
      "text/plain": [
       "Processing weak layers:   0%|          | 0/50 [00:00<?, ?it/s]"
      ]
     },
     "metadata": {},
     "output_type": "display_data"
    },
    {
     "data": {
      "application/vnd.jupyter.widget-view+json": {
       "model_id": "e06edd553e2d424a980153b46deb6f2f",
       "version_major": 2,
       "version_minor": 0
      },
      "text/plain": [
       "Processing weak layers:   0%|          | 0/20 [00:00<?, ?it/s]"
      ]
     },
     "metadata": {},
     "output_type": "display_data"
    },
    {
     "data": {
      "application/vnd.jupyter.widget-view+json": {
       "model_id": "3255a5809fed4c7f91fb961bdfda17a5",
       "version_major": 2,
       "version_minor": 0
      },
      "text/plain": [
       "Processing weak layers:   0%|          | 0/6 [00:00<?, ?it/s]"
      ]
     },
     "metadata": {},
     "output_type": "display_data"
    },
    {
     "data": {
      "application/vnd.jupyter.widget-view+json": {
       "model_id": "b34d5e73b2bf49a88a0f7578155f006f",
       "version_major": 2,
       "version_minor": 0
      },
      "text/plain": [
       "Processing weak layers:   0%|          | 0/18 [00:00<?, ?it/s]"
      ]
     },
     "metadata": {},
     "output_type": "display_data"
    },
    {
     "data": {
      "application/vnd.jupyter.widget-view+json": {
       "model_id": "e62f692e4dbd4ce9be2c2dc915873a96",
       "version_major": 2,
       "version_minor": 0
      },
      "text/plain": [
       "Processing weak layers:   0%|          | 0/17 [00:00<?, ?it/s]"
      ]
     },
     "metadata": {},
     "output_type": "display_data"
    },
    {
     "data": {
      "application/vnd.jupyter.widget-view+json": {
       "model_id": "196f13dcfe1049249987518576e32dc7",
       "version_major": 2,
       "version_minor": 0
      },
      "text/plain": [
       "Processing weak layers:   0%|          | 0/35 [00:00<?, ?it/s]"
      ]
     },
     "metadata": {},
     "output_type": "display_data"
    },
    {
     "data": {
      "application/vnd.jupyter.widget-view+json": {
       "model_id": "89180303b0964a48aa9999843e77a0db",
       "version_major": 2,
       "version_minor": 0
      },
      "text/plain": [
       "Processing weak layers:   0%|          | 0/20 [00:00<?, ?it/s]"
      ]
     },
     "metadata": {},
     "output_type": "display_data"
    },
    {
     "data": {
      "application/vnd.jupyter.widget-view+json": {
       "model_id": "b9da58dcead6414e96edf8eb9a7fdb19",
       "version_major": 2,
       "version_minor": 0
      },
      "text/plain": [
       "Processing weak layers:   0%|          | 0/20 [00:00<?, ?it/s]"
      ]
     },
     "metadata": {},
     "output_type": "display_data"
    },
    {
     "data": {
      "application/vnd.jupyter.widget-view+json": {
       "model_id": "b61d6cddae244a5f971bdb9ca5241d94",
       "version_major": 2,
       "version_minor": 0
      },
      "text/plain": [
       "Processing weak layers:   0%|          | 0/26 [00:00<?, ?it/s]"
      ]
     },
     "metadata": {},
     "output_type": "display_data"
    },
    {
     "data": {
      "application/vnd.jupyter.widget-view+json": {
       "model_id": "bd9832974bc045129f7d6d338b9824e8",
       "version_major": 2,
       "version_minor": 0
      },
      "text/plain": [
       "Processing weak layers:   0%|          | 0/20 [00:00<?, ?it/s]"
      ]
     },
     "metadata": {},
     "output_type": "display_data"
    },
    {
     "data": {
      "application/vnd.jupyter.widget-view+json": {
       "model_id": "c3c7b720a76e47fab193e4da15b59e47",
       "version_major": 2,
       "version_minor": 0
      },
      "text/plain": [
       "Processing weak layers:   0%|          | 0/21 [00:00<?, ?it/s]"
      ]
     },
     "metadata": {},
     "output_type": "display_data"
    },
    {
     "data": {
      "application/vnd.jupyter.widget-view+json": {
       "model_id": "12b2174800b74cecb22e11f92cad18b6",
       "version_major": 2,
       "version_minor": 0
      },
      "text/plain": [
       "Processing weak layers:   0%|          | 0/26 [00:00<?, ?it/s]"
      ]
     },
     "metadata": {},
     "output_type": "display_data"
    },
    {
     "data": {
      "application/vnd.jupyter.widget-view+json": {
       "model_id": "0e010034467046f3ac142f0e934d05e1",
       "version_major": 2,
       "version_minor": 0
      },
      "text/plain": [
       "Processing weak layers:   0%|          | 0/17 [00:00<?, ?it/s]"
      ]
     },
     "metadata": {},
     "output_type": "display_data"
    },
    {
     "data": {
      "application/vnd.jupyter.widget-view+json": {
       "model_id": "3943cd5ddcea42928775a9860bfc56d8",
       "version_major": 2,
       "version_minor": 0
      },
      "text/plain": [
       "Processing weak layers:   0%|          | 0/32 [00:00<?, ?it/s]"
      ]
     },
     "metadata": {},
     "output_type": "display_data"
    },
    {
     "data": {
      "application/vnd.jupyter.widget-view+json": {
       "model_id": "13b1d637359b4db3add7894f311e7533",
       "version_major": 2,
       "version_minor": 0
      },
      "text/plain": [
       "Processing weak layers:   0%|          | 0/19 [00:00<?, ?it/s]"
      ]
     },
     "metadata": {},
     "output_type": "display_data"
    },
    {
     "data": {
      "application/vnd.jupyter.widget-view+json": {
       "model_id": "2e51b8c7d5d94bba8720fdc6a910d0d9",
       "version_major": 2,
       "version_minor": 0
      },
      "text/plain": [
       "Processing weak layers:   0%|          | 0/20 [00:00<?, ?it/s]"
      ]
     },
     "metadata": {},
     "output_type": "display_data"
    },
    {
     "data": {
      "application/vnd.jupyter.widget-view+json": {
       "model_id": "d73a0f5b49c840a88854179999158e8d",
       "version_major": 2,
       "version_minor": 0
      },
      "text/plain": [
       "Processing weak layers:   0%|          | 0/18 [00:00<?, ?it/s]"
      ]
     },
     "metadata": {},
     "output_type": "display_data"
    },
    {
     "name": "stdout",
     "output_type": "stream",
     "text": [
      "Error processing file data/snowpits/2019-2020/snowpits-20094-caaml.xml: Layer is missing density information; density profile, hand hardness and grain type are all missing. Excluding SnowPit from calculations.\n"
     ]
    },
    {
     "data": {
      "application/vnd.jupyter.widget-view+json": {
       "model_id": "45675b69b6eb48d3b30f7ad512951d90",
       "version_major": 2,
       "version_minor": 0
      },
      "text/plain": [
       "Processing weak layers:   0%|          | 0/16 [00:00<?, ?it/s]"
      ]
     },
     "metadata": {},
     "output_type": "display_data"
    },
    {
     "name": "stdout",
     "output_type": "stream",
     "text": [
      "Error processing file data/snowpits/2019-2020/snowpits-24828-caaml.xml: Layer is missing density information; density profile, hand hardness and grain type are all missing. Excluding SnowPit from calculations.\n"
     ]
    },
    {
     "data": {
      "application/vnd.jupyter.widget-view+json": {
       "model_id": "f4db1428b9394b2196232994e03cc4a6",
       "version_major": 2,
       "version_minor": 0
      },
      "text/plain": [
       "Processing weak layers:   0%|          | 0/14 [00:00<?, ?it/s]"
      ]
     },
     "metadata": {},
     "output_type": "display_data"
    },
    {
     "data": {
      "application/vnd.jupyter.widget-view+json": {
       "model_id": "cc36dc111367498fadfc5473efcc901f",
       "version_major": 2,
       "version_minor": 0
      },
      "text/plain": [
       "Processing weak layers:   0%|          | 0/22 [00:00<?, ?it/s]"
      ]
     },
     "metadata": {},
     "output_type": "display_data"
    },
    {
     "data": {
      "application/vnd.jupyter.widget-view+json": {
       "model_id": "e6010f51c84e48eca590f45f89e3bdab",
       "version_major": 2,
       "version_minor": 0
      },
      "text/plain": [
       "Processing weak layers:   0%|          | 0/24 [00:00<?, ?it/s]"
      ]
     },
     "metadata": {},
     "output_type": "display_data"
    },
    {
     "data": {
      "application/vnd.jupyter.widget-view+json": {
       "model_id": "3a819280220542c9a1ed781c2d2d7810",
       "version_major": 2,
       "version_minor": 0
      },
      "text/plain": [
       "Processing weak layers:   0%|          | 0/22 [00:00<?, ?it/s]"
      ]
     },
     "metadata": {},
     "output_type": "display_data"
    },
    {
     "data": {
      "application/vnd.jupyter.widget-view+json": {
       "model_id": "7fee478125604be9bcb6f22b49e8761f",
       "version_major": 2,
       "version_minor": 0
      },
      "text/plain": [
       "Processing weak layers:   0%|          | 0/27 [00:00<?, ?it/s]"
      ]
     },
     "metadata": {},
     "output_type": "display_data"
    },
    {
     "data": {
      "application/vnd.jupyter.widget-view+json": {
       "model_id": "c8a41cd0ee2849a9bd289fdb52418482",
       "version_major": 2,
       "version_minor": 0
      },
      "text/plain": [
       "Processing weak layers:   0%|          | 0/38 [00:00<?, ?it/s]"
      ]
     },
     "metadata": {},
     "output_type": "display_data"
    },
    {
     "data": {
      "application/vnd.jupyter.widget-view+json": {
       "model_id": "d61f122ced7a4f31ace845ec381ca1ea",
       "version_major": 2,
       "version_minor": 0
      },
      "text/plain": [
       "Processing weak layers:   0%|          | 0/18 [00:00<?, ?it/s]"
      ]
     },
     "metadata": {},
     "output_type": "display_data"
    },
    {
     "data": {
      "application/vnd.jupyter.widget-view+json": {
       "model_id": "b6b904c7d616492e822c7ae1e6bf00ae",
       "version_major": 2,
       "version_minor": 0
      },
      "text/plain": [
       "Processing weak layers:   0%|          | 0/15 [00:00<?, ?it/s]"
      ]
     },
     "metadata": {},
     "output_type": "display_data"
    },
    {
     "data": {
      "application/vnd.jupyter.widget-view+json": {
       "model_id": "663d60a106c64454b2b81a8088bedae7",
       "version_major": 2,
       "version_minor": 0
      },
      "text/plain": [
       "Processing weak layers:   0%|          | 0/11 [00:00<?, ?it/s]"
      ]
     },
     "metadata": {},
     "output_type": "display_data"
    },
    {
     "data": {
      "application/vnd.jupyter.widget-view+json": {
       "model_id": "4e90e1d4641c49f390d4557edb9dffb3",
       "version_major": 2,
       "version_minor": 0
      },
      "text/plain": [
       "Processing weak layers:   0%|          | 0/15 [00:00<?, ?it/s]"
      ]
     },
     "metadata": {},
     "output_type": "display_data"
    },
    {
     "data": {
      "application/vnd.jupyter.widget-view+json": {
       "model_id": "27703541bd3e4a2db8c869b98334e12c",
       "version_major": 2,
       "version_minor": 0
      },
      "text/plain": [
       "Processing weak layers:   0%|          | 0/44 [00:00<?, ?it/s]"
      ]
     },
     "metadata": {},
     "output_type": "display_data"
    },
    {
     "data": {
      "application/vnd.jupyter.widget-view+json": {
       "model_id": "77441888f7924d0c8f41a3e8e490a8f5",
       "version_major": 2,
       "version_minor": 0
      },
      "text/plain": [
       "Processing weak layers:   0%|          | 0/30 [00:00<?, ?it/s]"
      ]
     },
     "metadata": {},
     "output_type": "display_data"
    },
    {
     "data": {
      "application/vnd.jupyter.widget-view+json": {
       "model_id": "6a3d6bcb99854780bb7308dc35902f59",
       "version_major": 2,
       "version_minor": 0
      },
      "text/plain": [
       "Processing weak layers:   0%|          | 0/24 [00:00<?, ?it/s]"
      ]
     },
     "metadata": {},
     "output_type": "display_data"
    },
    {
     "data": {
      "application/vnd.jupyter.widget-view+json": {
       "model_id": "fb96994381d54c8288c99fe930ab473d",
       "version_major": 2,
       "version_minor": 0
      },
      "text/plain": [
       "Processing weak layers:   0%|          | 0/12 [00:00<?, ?it/s]"
      ]
     },
     "metadata": {},
     "output_type": "display_data"
    },
    {
     "data": {
      "application/vnd.jupyter.widget-view+json": {
       "model_id": "57ccb68f0f6c4f9ab15d50f1ff4b0a3f",
       "version_major": 2,
       "version_minor": 0
      },
      "text/plain": [
       "Processing weak layers:   0%|          | 0/27 [00:00<?, ?it/s]"
      ]
     },
     "metadata": {},
     "output_type": "display_data"
    },
    {
     "data": {
      "application/vnd.jupyter.widget-view+json": {
       "model_id": "2e2dcf1b02714bc48f8ffe875226b7e7",
       "version_major": 2,
       "version_minor": 0
      },
      "text/plain": [
       "Processing weak layers:   0%|          | 0/19 [00:00<?, ?it/s]"
      ]
     },
     "metadata": {},
     "output_type": "display_data"
    },
    {
     "data": {
      "application/vnd.jupyter.widget-view+json": {
       "model_id": "6e89c6c7d07a45e0b0850fc2c1688e7f",
       "version_major": 2,
       "version_minor": 0
      },
      "text/plain": [
       "Processing weak layers:   0%|          | 0/20 [00:00<?, ?it/s]"
      ]
     },
     "metadata": {},
     "output_type": "display_data"
    },
    {
     "data": {
      "application/vnd.jupyter.widget-view+json": {
       "model_id": "b9fbaf6a6cbd42929aa7ede652467fca",
       "version_major": 2,
       "version_minor": 0
      },
      "text/plain": [
       "Processing weak layers:   0%|          | 0/27 [00:00<?, ?it/s]"
      ]
     },
     "metadata": {},
     "output_type": "display_data"
    },
    {
     "name": "stdout",
     "output_type": "stream",
     "text": [
      "Amount of errors: 4\n",
      "Processed files:  96\n"
     ]
    }
   ],
   "source": [
    "import os\n",
    "\n",
    "# Setup standard values\n",
    "wl_spacing = 50 # mm\n",
    "phi = 0.0\n",
    "standard_scenario_config = ScenarioConfig(system_type=\"skier\", phi=phi)\n",
    "standard_weak_layer = WeakLayer(rho=125, h=20, E=1.0, sigma_c=5.16, tau_c=4.09)\n",
    "standard_segments = [\n",
    "    Segment(length=10000, has_foundation=True, m=0.0),\n",
    "    Segment(\n",
    "        length=10000,\n",
    "        has_foundation=True,\n",
    "        m=0.0,\n",
    "    ),\n",
    "]\n",
    "standard_criteria_config = CriteriaConfig()\n",
    "standard_criteria_evaluator = CriteriaEvaluator(standard_criteria_config)\n",
    "\n",
    "scenario_config = standard_scenario_config\n",
    "segments = standard_segments\n",
    "weaklayer = standard_weak_layer\n",
    "\n",
    "plots_path = \"plots\"\n",
    "criteria_data_path = \"data/criteria_data\"\n",
    "os.makedirs(criteria_data_path, exist_ok=True)\n",
    "\n",
    "error_paths = []\n",
    "for i, (file_path, parser) in tqdm(\n",
    "    enumerate(zip(paths, parsers)), total=len(paths), desc=\"Processing files\"\n",
    "):  \n",
    "    try:\n",
    "        data_rows, layers, weaklayer = eval_weac_over_layers(parser, scenario_config, segments, weaklayer, wl_spacing=wl_spacing)\n",
    "        dataframe = pd.DataFrame(data_rows)\n",
    "        snow_profile_fig = snow_profile(weaklayer=weaklayer, layers=layers)\n",
    "        crit_plots_fig = criticality_plots(weaklayer, layers, dataframe)\n",
    "        crit_hm_fig = criticality_heatmap(weaklayer, layers, dataframe)\n",
    "        combine_plots(plots_path, os.path.basename(file_path), [crit_plots_fig, snow_profile_fig, crit_hm_fig])\n",
    "        base, _ = os.path.splitext(os.path.basename(file_path))\n",
    "        dataframe.to_csv(os.path.join(criteria_data_path, base + \".csv\"), index=False)\n",
    "    except Exception as e:\n",
    "        error_paths.append(file_path)\n",
    "        print(f\"Error processing file {file_path}: {e}\")\n",
    "        continue\n",
    "\n",
    "print(f\"Amount of errors: {len(error_paths)}\")\n",
    "print(\"Processed files: \", len(paths) - len(error_paths))"
   ]
  }
 ],
 "metadata": {
  "kernelspec": {
   "display_name": "weac",
   "language": "python",
   "name": "python3"
  },
  "language_info": {
   "codemirror_mode": {
    "name": "ipython",
    "version": 3
   },
   "file_extension": ".py",
   "mimetype": "text/x-python",
   "name": "python",
   "nbconvert_exporter": "python",
   "pygments_lexer": "ipython3",
   "version": "3.10.18"
  }
 },
 "nbformat": 4,
 "nbformat_minor": 5
}
