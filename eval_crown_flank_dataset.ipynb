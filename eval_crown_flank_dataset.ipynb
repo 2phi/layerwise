{
  "cells": [
    {
      "cell_type": "code",
      "execution_count": 2,
      "id": "3bf64450",
      "metadata": {},
      "outputs": [],
      "source": [
        "# Auto reload modules\n",
        "%load_ext autoreload\n",
        "%autoreload all"
      ]
    },
    {
      "cell_type": "code",
      "execution_count": 3,
      "id": "fda4fdf9",
      "metadata": {},
      "outputs": [],
      "source": [
        "import os\n",
        "from typing import List\n",
        "import numpy as np\n",
        "from numpy.linalg import LinAlgError\n",
        "import pandas as pd\n",
        "from pprint import pprint\n",
        "import copy\n",
        "from tqdm.notebook import tqdm\n",
        "\n",
        "from weac.analysis import Analyzer, CriteriaEvaluator, CoupledCriterionResult, SSERRResult\n",
        "from weac.core.system_model import SystemModel\n",
        "from weac.components import ModelInput, Segment, ScenarioConfig, WeakLayer, Layer, CriteriaConfig\n",
        "from weac.utils.snowpilot_parser import SnowPilotParser, convert_to_mm, convert_to_deg"
      ]
    },
    {
      "cell_type": "code",
      "execution_count": 4,
      "id": "241bc355",
      "metadata": {},
      "outputs": [
        {
          "ename": "KeyboardInterrupt",
          "evalue": "",
          "output_type": "error",
          "traceback": [
            "\u001b[0;31m---------------------------------------------------------------------------\u001b[0m",
            "\u001b[0;31mKeyboardInterrupt\u001b[0m                         Traceback (most recent call last)",
            "Cell \u001b[0;32mIn[4], line 12\u001b[0m\n\u001b[1;32m      9\u001b[0m parsers: List[SnowPilotParser] \u001b[38;5;241m=\u001b[39m []\n\u001b[1;32m     11\u001b[0m \u001b[38;5;28;01mfor\u001b[39;00m file_path \u001b[38;5;129;01min\u001b[39;00m file_paths:\n\u001b[0;32m---> 12\u001b[0m     snowpilot_parser \u001b[38;5;241m=\u001b[39m \u001b[43mSnowPilotParser\u001b[49m\u001b[43m(\u001b[49m\u001b[43mfile_path\u001b[49m\u001b[43m)\u001b[49m\n\u001b[1;32m     13\u001b[0m     paths\u001b[38;5;241m.\u001b[39mappend(file_path)\n\u001b[1;32m     14\u001b[0m     parsers\u001b[38;5;241m.\u001b[39mappend(snowpilot_parser)\n",
            "File \u001b[0;32m~/Documents/weac/weac/utils/snowpilot_parser.py:51\u001b[0m, in \u001b[0;36mSnowPilotParser.__init__\u001b[0;34m(self, file_path)\u001b[0m\n\u001b[1;32m     50\u001b[0m \u001b[38;5;28;01mdef\u001b[39;00m\u001b[38;5;250m \u001b[39m\u001b[38;5;21m__init__\u001b[39m(\u001b[38;5;28mself\u001b[39m, file_path: \u001b[38;5;28mstr\u001b[39m):\n\u001b[0;32m---> 51\u001b[0m     \u001b[38;5;28mself\u001b[39m\u001b[38;5;241m.\u001b[39msnowpit: SnowPit \u001b[38;5;241m=\u001b[39m \u001b[43mcaaml_parser\u001b[49m\u001b[43m(\u001b[49m\u001b[43mfile_path\u001b[49m\u001b[43m)\u001b[49m\n",
            "File \u001b[0;32m~/.local/miniforge3/envs/weac/lib/python3.10/site-packages/snowpylot/caaml_parser.py:25\u001b[0m, in \u001b[0;36mcaaml_parser\u001b[0;34m(file_path)\u001b[0m\n\u001b[1;32m     22\u001b[0m gml_tag \u001b[38;5;241m=\u001b[39m \u001b[38;5;124m\"\u001b[39m\u001b[38;5;124m{\u001b[39m\u001b[38;5;124mhttp://www.opengis.net/gml}\u001b[39m\u001b[38;5;124m\"\u001b[39m\n\u001b[1;32m     23\u001b[0m snowpilot_tag \u001b[38;5;241m=\u001b[39m \u001b[38;5;124m\"\u001b[39m\u001b[38;5;124m{\u001b[39m\u001b[38;5;124mhttp://www.snowpilot.org/Schemas/caaml}\u001b[39m\u001b[38;5;124m\"\u001b[39m\n\u001b[0;32m---> 25\u001b[0m root \u001b[38;5;241m=\u001b[39m \u001b[43mET\u001b[49m\u001b[38;5;241;43m.\u001b[39;49m\u001b[43mparse\u001b[49m\u001b[43m(\u001b[49m\u001b[43mfile_path\u001b[49m\u001b[43m)\u001b[49m\u001b[38;5;241m.\u001b[39mgetroot()\n\u001b[1;32m     27\u001b[0m \u001b[38;5;66;03m### Core Info:\u001b[39;00m\n\u001b[1;32m     28\u001b[0m \u001b[38;5;66;03m# (pit_id, pit_name, date, user, location, weather, core comments, caaml_version)\u001b[39;00m\n\u001b[1;32m     29\u001b[0m loc_ref \u001b[38;5;241m=\u001b[39m \u001b[38;5;28mnext\u001b[39m(root\u001b[38;5;241m.\u001b[39miter(caaml_tag \u001b[38;5;241m+\u001b[39m \u001b[38;5;124m\"\u001b[39m\u001b[38;5;124mlocRef\u001b[39m\u001b[38;5;124m\"\u001b[39m), \u001b[38;5;28;01mNone\u001b[39;00m)\n",
            "File \u001b[0;32m~/.local/miniforge3/envs/weac/lib/python3.10/xml/etree/ElementTree.py:1222\u001b[0m, in \u001b[0;36mparse\u001b[0;34m(source, parser)\u001b[0m\n\u001b[1;32m   1213\u001b[0m \u001b[38;5;250m\u001b[39m\u001b[38;5;124;03m\"\"\"Parse XML document into element tree.\u001b[39;00m\n\u001b[1;32m   1214\u001b[0m \n\u001b[1;32m   1215\u001b[0m \u001b[38;5;124;03m*source* is a filename or file object containing XML data,\u001b[39;00m\n\u001b[0;32m   (...)\u001b[0m\n\u001b[1;32m   1219\u001b[0m \n\u001b[1;32m   1220\u001b[0m \u001b[38;5;124;03m\"\"\"\u001b[39;00m\n\u001b[1;32m   1221\u001b[0m tree \u001b[38;5;241m=\u001b[39m ElementTree()\n\u001b[0;32m-> 1222\u001b[0m \u001b[43mtree\u001b[49m\u001b[38;5;241;43m.\u001b[39;49m\u001b[43mparse\u001b[49m\u001b[43m(\u001b[49m\u001b[43msource\u001b[49m\u001b[43m,\u001b[49m\u001b[43m \u001b[49m\u001b[43mparser\u001b[49m\u001b[43m)\u001b[49m\n\u001b[1;32m   1223\u001b[0m \u001b[38;5;28;01mreturn\u001b[39;00m tree\n",
            "File \u001b[0;32m~/.local/miniforge3/envs/weac/lib/python3.10/xml/etree/ElementTree.py:580\u001b[0m, in \u001b[0;36mElementTree.parse\u001b[0;34m(self, source, parser)\u001b[0m\n\u001b[1;32m    574\u001b[0m     parser \u001b[38;5;241m=\u001b[39m XMLParser()\n\u001b[1;32m    575\u001b[0m     \u001b[38;5;28;01mif\u001b[39;00m \u001b[38;5;28mhasattr\u001b[39m(parser, \u001b[38;5;124m'\u001b[39m\u001b[38;5;124m_parse_whole\u001b[39m\u001b[38;5;124m'\u001b[39m):\n\u001b[1;32m    576\u001b[0m         \u001b[38;5;66;03m# The default XMLParser, when it comes from an accelerator,\u001b[39;00m\n\u001b[1;32m    577\u001b[0m         \u001b[38;5;66;03m# can define an internal _parse_whole API for efficiency.\u001b[39;00m\n\u001b[1;32m    578\u001b[0m         \u001b[38;5;66;03m# It can be used to parse the whole source without feeding\u001b[39;00m\n\u001b[1;32m    579\u001b[0m         \u001b[38;5;66;03m# it with chunks.\u001b[39;00m\n\u001b[0;32m--> 580\u001b[0m         \u001b[38;5;28mself\u001b[39m\u001b[38;5;241m.\u001b[39m_root \u001b[38;5;241m=\u001b[39m \u001b[43mparser\u001b[49m\u001b[38;5;241;43m.\u001b[39;49m\u001b[43m_parse_whole\u001b[49m\u001b[43m(\u001b[49m\u001b[43msource\u001b[49m\u001b[43m)\u001b[49m\n\u001b[1;32m    581\u001b[0m         \u001b[38;5;28;01mreturn\u001b[39;00m \u001b[38;5;28mself\u001b[39m\u001b[38;5;241m.\u001b[39m_root\n\u001b[1;32m    582\u001b[0m \u001b[38;5;28;01mwhile\u001b[39;00m \u001b[38;5;28;01mTrue\u001b[39;00m:\n",
            "\u001b[0;31mKeyboardInterrupt\u001b[0m: "
          ]
        }
      ],
      "source": [
        "# Process multiple files\n",
        "file_paths = []\n",
        "for directory in os.listdir(\"data/snowpits\"):\n",
        "    for file in os.listdir(f\"data/snowpits/{directory}\"):\n",
        "        if file.endswith(\".xml\"):\n",
        "            file_paths.append(f\"data/snowpits/{directory}/{file}\")\n",
        "\n",
        "paths: List[str] = []\n",
        "parsers: List[SnowPilotParser] = []\n",
        "\n",
        "for file_path in file_paths:\n",
        "    snowpilot_parser = SnowPilotParser(file_path)\n",
        "    paths.append(file_path)\n",
        "    parsers.append(snowpilot_parser)\n",
        "\n",
        "print(f\"\\nFound {len(paths)} files\")\n",
        "\n"
      ]
    },
    {
      "cell_type": "code",
      "execution_count": null,
      "id": "830f51ea",
      "metadata": {},
      "outputs": [
        {
          "name": "stdout",
          "output_type": "stream",
          "text": [
            "\n",
            "Found 945 pits near avalanche\n",
            "\n",
            "Found 848 pits near avalanche with layer of concern\n"
          ]
        }
      ],
      "source": [
        "pits_near_avalanche: List[SnowPilotParser] = []\n",
        "for parser in parsers:\n",
        "    # Avalanche pits\n",
        "    if parser.snowpit.core_info.location.pit_near_avalanche:\n",
        "        # print(parser.snowpit.core_info.location.pit_near_avalanche_location)\n",
        "        pits_near_avalanche.append(parser)\n",
        "\n",
        "print(f\"\\nFound {len(pits_near_avalanche)} pits near avalanche\")\n",
        "\n",
        "avalanche_pits_with_layer_of_concern: List[SnowPilotParser] = []\n",
        "for pit in pits_near_avalanche:\n",
        "    if pit.snowpit.snow_profile.layer_of_concern:\n",
        "        # print(pit.snowpit.snow_profile.layer_of_concern)\n",
        "        avalanche_pits_with_layer_of_concern.append(pit)\n",
        "\n",
        "print(f\"\\nFound {len(avalanche_pits_with_layer_of_concern)} pits near avalanche with layer of concern\")\n"
      ]
    },
    {
      "cell_type": "code",
      "execution_count": null,
      "id": "8cdab0c1",
      "metadata": {},
      "outputs": [
        {
          "name": "stdout",
          "output_type": "stream",
          "text": [
            "[{'Slope Angle': '23', 'HS': None, 'Profile Depth': 1000.0, 'Pit Near Avalanche Location': 'crown', 'WL_Depth': 800.0, 'WL_Thickness': 10.0}, {'Slope Angle': '42', 'HS': 930.0, 'Profile Depth': 930.0, 'Pit Near Avalanche Location': 'crown', 'WL_Depth': 390.0, 'WL_Thickness': 10.0}, {'Slope Angle': '28', 'HS': 1350.0, 'Profile Depth': 1350.0, 'Pit Near Avalanche Location': 'crown', 'WL_Depth': 300.0, 'WL_Thickness': 10.0}, {'Slope Angle': '24', 'HS': 740.0, 'Profile Depth': 740.0, 'Pit Near Avalanche Location': 'flank', 'WL_Depth': 480.0, 'WL_Thickness': 260.0}, {'Slope Angle': '28', 'HS': 2000.0, 'Profile Depth': 1250.0, 'Pit Near Avalanche Location': 'flank', 'WL_Depth': 90.0, 'WL_Thickness': 290.0}, {'Slope Angle': '27', 'HS': 1750.0, 'Profile Depth': 1750.0, 'Pit Near Avalanche Location': 'flank', 'WL_Depth': 1170.0, 'WL_Thickness': 10.0}, {'Slope Angle': '38', 'HS': 710.0, 'Profile Depth': 710.0, 'Pit Near Avalanche Location': 'crown', 'WL_Depth': 350.0, 'WL_Thickness': 10.0}, {'Slope Angle': '17', 'HS': 1250.0, 'Profile Depth': 1250.0, 'Pit Near Avalanche Location': 'other', 'WL_Depth': 770.0, 'WL_Thickness': 60.0}, {'Slope Angle': '27', 'HS': 710.0, 'Profile Depth': 710.0, 'Pit Near Avalanche Location': 'crown', 'WL_Depth': 520.0, 'WL_Thickness': 190.0}, {'Slope Angle': '15', 'HS': 2200.0, 'Profile Depth': 2200.0, 'Pit Near Avalanche Location': 'other', 'WL_Depth': 1700.0, 'WL_Thickness': 500.0}, {'Slope Angle': '30', 'HS': 1700.0, 'Profile Depth': 1700.0, 'Pit Near Avalanche Location': 'crown', 'WL_Depth': 1500.0, 'WL_Thickness': 20.0}, {'Slope Angle': '27', 'HS': 1080.0, 'Profile Depth': 1080.0, 'Pit Near Avalanche Location': 'flank', 'WL_Depth': 20.0, 'WL_Thickness': 150.0}, {'Slope Angle': '25', 'HS': 3050.0, 'Profile Depth': 1000.0, 'Pit Near Avalanche Location': 'crown', 'WL_Depth': 210.0, 'WL_Thickness': 390.0}, {'Slope Angle': '37', 'HS': 1100.0, 'Profile Depth': 1100.0, 'Pit Near Avalanche Location': 'flank', 'WL_Depth': 640.0, 'WL_Thickness': 20.0}, {'Slope Angle': '36', 'HS': 2670.0, 'Profile Depth': 1250.0, 'Pit Near Avalanche Location': 'crown', 'WL_Depth': 960.0, 'WL_Thickness': 10.0}, {'Slope Angle': '37', 'HS': 2420.0, 'Profile Depth': 2420.0, 'Pit Near Avalanche Location': 'flank', 'WL_Depth': 620.0, 'WL_Thickness': 30.0}, {'Slope Angle': '30', 'HS': 900.0, 'Profile Depth': 700.0, 'Pit Near Avalanche Location': 'flank', 'WL_Depth': 230.0, 'WL_Thickness': 70.0}, {'Slope Angle': '29', 'HS': 1250.0, 'Profile Depth': 1250.0, 'Pit Near Avalanche Location': None, 'WL_Depth': 700.0, 'WL_Thickness': 2.0}, {'Slope Angle': '35', 'HS': 1050.0, 'Profile Depth': 1050.0, 'Pit Near Avalanche Location': 'crown', 'WL_Depth': 310.0, 'WL_Thickness': 10.0}, {'Slope Angle': '47', 'HS': 1660.0, 'Profile Depth': 1660.0, 'Pit Near Avalanche Location': 'crown', 'WL_Depth': 960.0, 'WL_Thickness': 50.0}, {'Slope Angle': '49', 'HS': 2110.0, 'Profile Depth': 2110.0, 'Pit Near Avalanche Location': 'crown', 'WL_Depth': 550.0, 'WL_Thickness': 30.0}, {'Slope Angle': '33', 'HS': 2070.0, 'Profile Depth': 2070.0, 'Pit Near Avalanche Location': 'crown', 'WL_Depth': 680.0, 'WL_Thickness': 40.0}, {'Slope Angle': '35', 'HS': 1700.0, 'Profile Depth': 1700.0, 'Pit Near Avalanche Location': 'crown', 'WL_Depth': 350.0, 'WL_Thickness': 5.0}, {'Slope Angle': '32', 'HS': 1350.0, 'Profile Depth': 1350.0, 'Pit Near Avalanche Location': 'crown', 'WL_Depth': 650.0, 'WL_Thickness': 10.0}, {'Slope Angle': '30', 'HS': 2650.0, 'Profile Depth': 2650.0, 'Pit Near Avalanche Location': 'other', 'WL_Depth': 500.0, 'WL_Thickness': 50.0}, {'Slope Angle': '35', 'HS': 2200.0, 'Profile Depth': 1300.0, 'Pit Near Avalanche Location': 'crown', 'WL_Depth': 950.0, 'WL_Thickness': 50.0}, {'Slope Angle': '38', 'HS': 1200.0, 'Profile Depth': 1200.0, 'Pit Near Avalanche Location': 'crown', 'WL_Depth': 780.0, 'WL_Thickness': 220.0}, {'Slope Angle': '25', 'HS': 1700.0, 'Profile Depth': 1700.0, 'Pit Near Avalanche Location': 'crown', 'WL_Depth': 1330.0, 'WL_Thickness': 60.0}, {'Slope Angle': '24', 'HS': 1680.0, 'Profile Depth': 1680.0, 'Pit Near Avalanche Location': 'other', 'WL_Depth': 1020.0, 'WL_Thickness': 660.0}, {'Slope Angle': '30', 'HS': 3400.0, 'Profile Depth': 3400.0, 'Pit Near Avalanche Location': 'flank', 'WL_Depth': 900.0, 'WL_Thickness': 100.0}, {'Slope Angle': '37', 'HS': 1100.0, 'Profile Depth': 1100.0, 'Pit Near Avalanche Location': 'crown', 'WL_Depth': 300.0, 'WL_Thickness': 20.0}, {'Slope Angle': '15', 'HS': 2350.0, 'Profile Depth': 800.0, 'Pit Near Avalanche Location': 'flank', 'WL_Depth': 470.0, 'WL_Thickness': 100.0}, {'Slope Angle': '34', 'HS': 1210.0, 'Profile Depth': 1210.0, 'Pit Near Avalanche Location': 'other', 'WL_Depth': 950.0, 'WL_Thickness': 100.0}, {'Slope Angle': '38', 'HS': 1200.0, 'Profile Depth': 1200.0, 'Pit Near Avalanche Location': 'crown', 'WL_Depth': 650.0, 'WL_Thickness': 270.0}, {'Slope Angle': '38', 'HS': 1180.0, 'Profile Depth': 1180.0, 'Pit Near Avalanche Location': 'flank', 'WL_Depth': 330.0, 'WL_Thickness': 230.0}, {'Slope Angle': '15', 'HS': 1250.0, 'Profile Depth': 1250.0, 'Pit Near Avalanche Location': 'crown', 'WL_Depth': 1015.0, 'WL_Thickness': 85.0}, {'Slope Angle': '28', 'HS': 750.0, 'Profile Depth': 750.0, 'Pit Near Avalanche Location': 'flank', 'WL_Depth': 510.0, 'WL_Thickness': 240.0}, {'Slope Angle': '35', 'HS': 1850.0, 'Profile Depth': 1850.0, 'Pit Near Avalanche Location': 'flank', 'WL_Depth': 300.0, 'WL_Thickness': 20.0}, {'Slope Angle': '30', 'HS': 1400.0, 'Profile Depth': 1400.0, 'Pit Near Avalanche Location': None, 'WL_Depth': 400.0, 'WL_Thickness': 1000.0}, {'Slope Angle': '30', 'HS': 670.0, 'Profile Depth': 670.0, 'Pit Near Avalanche Location': 'crown', 'WL_Depth': 300.0, 'WL_Thickness': 370.0}, {'Slope Angle': 0.0, 'HS': 1380.0, 'Profile Depth': 1380.0, 'Pit Near Avalanche Location': 'other', 'WL_Depth': 260.0, 'WL_Thickness': 20.0}, {'Slope Angle': '24', 'HS': None, 'Profile Depth': 950.0, 'Pit Near Avalanche Location': 'crown', 'WL_Depth': 500.0, 'WL_Thickness': 5.0}, {'Slope Angle': '30', 'HS': 2360.0, 'Profile Depth': 2360.0, 'Pit Near Avalanche Location': 'flank', 'WL_Depth': 1060.0, 'WL_Thickness': 50.0}, {'Slope Angle': '32', 'HS': 3000.0, 'Profile Depth': 600.0, 'Pit Near Avalanche Location': 'crown', 'WL_Depth': 400.0, 'WL_Thickness': 80.0}, {'Slope Angle': '27', 'HS': 1150.0, 'Profile Depth': 1150.0, 'Pit Near Avalanche Location': 'flank', 'WL_Depth': 340.0, 'WL_Thickness': 240.0}, {'Slope Angle': '31', 'HS': None, 'Profile Depth': 870.0, 'Pit Near Avalanche Location': 'crown', 'WL_Depth': 530.0, 'WL_Thickness': 10.0}, {'Slope Angle': '43', 'HS': 2400.0, 'Profile Depth': 2400.0, 'Pit Near Avalanche Location': 'crown', 'WL_Depth': 660.0, 'WL_Thickness': 120.0}, {'Slope Angle': '36', 'HS': 2700.0, 'Profile Depth': 1100.0, 'Pit Near Avalanche Location': 'crown', 'WL_Depth': 250.0, 'WL_Thickness': 20.0}, {'Slope Angle': '34', 'HS': 4000.0, 'Profile Depth': 1100.0, 'Pit Near Avalanche Location': 'crown', 'WL_Depth': 820.0, 'WL_Thickness': 10.0}, {'Slope Angle': '39', 'HS': 2400.0, 'Profile Depth': 1000.0, 'Pit Near Avalanche Location': 'crown', 'WL_Depth': 600.0, 'WL_Thickness': 20.0}, {'Slope Angle': '35', 'HS': 1360.0, 'Profile Depth': 1360.0, 'Pit Near Avalanche Location': 'flank', 'WL_Depth': 610.0, 'WL_Thickness': 10.0}, {'Slope Angle': '17', 'HS': 1260.0, 'Profile Depth': 1260.0, 'Pit Near Avalanche Location': None, 'WL_Depth': 780.0, 'WL_Thickness': 60.0}, {'Slope Angle': '37', 'HS': 1560.0, 'Profile Depth': 1560.0, 'Pit Near Avalanche Location': 'flank', 'WL_Depth': 960.0, 'WL_Thickness': 130.0}, {'Slope Angle': '36', 'HS': 1850.0, 'Profile Depth': 1850.0, 'Pit Near Avalanche Location': 'crown', 'WL_Depth': 1390.0, 'WL_Thickness': 50.0}, {'Slope Angle': '34', 'HS': 920.0, 'Profile Depth': 920.0, 'Pit Near Avalanche Location': 'crown', 'WL_Depth': 640.0, 'WL_Thickness': 280.0}, {'Slope Angle': '42', 'HS': 2800.0, 'Profile Depth': 1500.0, 'Pit Near Avalanche Location': 'crown', 'WL_Depth': 200.0, 'WL_Thickness': 60.0}, {'Slope Angle': '15', 'HS': 3200.0, 'Profile Depth': 900.0, 'Pit Near Avalanche Location': 'flank', 'WL_Depth': 410.0, 'WL_Thickness': 50.0}, {'Slope Angle': '24', 'HS': 1420.0, 'Profile Depth': 1420.0, 'Pit Near Avalanche Location': 'flank', 'WL_Depth': 1020.0, 'WL_Thickness': 40.0}, {'Slope Angle': '37', 'HS': 720.0, 'Profile Depth': 720.0, 'Pit Near Avalanche Location': 'flank', 'WL_Depth': 420.0, 'WL_Thickness': 300.0}, {'Slope Angle': '40', 'HS': 1450.0, 'Profile Depth': 1450.0, 'Pit Near Avalanche Location': 'crown', 'WL_Depth': 955.0, 'WL_Thickness': 195.0}, {'Slope Angle': '26', 'HS': 470.0, 'Profile Depth': 470.0, 'Pit Near Avalanche Location': 'crown', 'WL_Depth': 0.0, 'WL_Thickness': 190.0}, {'Slope Angle': '35', 'HS': 1800.0, 'Profile Depth': 1800.0, 'Pit Near Avalanche Location': 'crown', 'WL_Depth': 510.0, 'WL_Thickness': 5.0}, {'Slope Angle': '26', 'HS': 1050.0, 'Profile Depth': 1050.0, 'Pit Near Avalanche Location': 'crown', 'WL_Depth': 900.0, 'WL_Thickness': 150.0}, {'Slope Angle': 0.0, 'HS': 2700.0, 'Profile Depth': 2700.0, 'Pit Near Avalanche Location': 'crown', 'WL_Depth': 1930.0, 'WL_Thickness': 50.0}, {'Slope Angle': '34', 'HS': 2000.0, 'Profile Depth': 2000.0, 'Pit Near Avalanche Location': None, 'WL_Depth': 800.0, 'WL_Thickness': 50.0}, {'Slope Angle': '25', 'HS': 2400.0, 'Profile Depth': 2400.0, 'Pit Near Avalanche Location': 'crown', 'WL_Depth': 1600.0, 'WL_Thickness': 10.0}, {'Slope Angle': '29', 'HS': 1750.0, 'Profile Depth': 1750.0, 'Pit Near Avalanche Location': None, 'WL_Depth': 460.0, 'WL_Thickness': 5.0}, {'Slope Angle': '40', 'HS': 1750.0, 'Profile Depth': 1750.0, 'Pit Near Avalanche Location': 'crown', 'WL_Depth': 740.0, 'WL_Thickness': 60.0}, {'Slope Angle': '39', 'HS': 1230.0, 'Profile Depth': 1230.0, 'Pit Near Avalanche Location': 'crown', 'WL_Depth': 700.0, 'WL_Thickness': 20.0}, {'Slope Angle': '33', 'HS': 1550.0, 'Profile Depth': 1550.0, 'Pit Near Avalanche Location': 'crown', 'WL_Depth': 580.0, 'WL_Thickness': 10.0}, {'Slope Angle': '20', 'HS': 1500.0, 'Profile Depth': 1500.0, 'Pit Near Avalanche Location': 'flank', 'WL_Depth': 700.0, 'WL_Thickness': 20.0}, {'Slope Angle': '35', 'HS': 900.0, 'Profile Depth': 900.0, 'Pit Near Avalanche Location': 'crown', 'WL_Depth': 550.0, 'WL_Thickness': 30.0}, {'Slope Angle': '35', 'HS': 1100.0, 'Profile Depth': 1100.0, 'Pit Near Avalanche Location': 'flank', 'WL_Depth': 800.0, 'WL_Thickness': 200.0}, {'Slope Angle': '30', 'HS': 500.0, 'Profile Depth': 500.0, 'Pit Near Avalanche Location': 'flank', 'WL_Depth': 150.0, 'WL_Thickness': 40.0}, {'Slope Angle': '36', 'HS': 2080.0, 'Profile Depth': 2080.0, 'Pit Near Avalanche Location': 'crown', 'WL_Depth': 500.0, 'WL_Thickness': 70.0}, {'Slope Angle': '24', 'HS': 980.0, 'Profile Depth': 980.0, 'Pit Near Avalanche Location': 'crown', 'WL_Depth': 260.0, 'WL_Thickness': 10.0}, {'Slope Angle': 0.0, 'HS': 1210.0, 'Profile Depth': 1210.0, 'Pit Near Avalanche Location': 'crown', 'WL_Depth': 870.0, 'WL_Thickness': 30.0}, {'Slope Angle': '32', 'HS': 1050.0, 'Profile Depth': 1050.0, 'Pit Near Avalanche Location': 'other', 'WL_Depth': 20.0, 'WL_Thickness': 260.0}, {'Slope Angle': '5', 'HS': 910.0, 'Profile Depth': 910.0, 'Pit Near Avalanche Location': 'other', 'WL_Depth': 550.0, 'WL_Thickness': 360.0}, {'Slope Angle': 0.0, 'HS': 1200.0, 'Profile Depth': 1200.0, 'Pit Near Avalanche Location': 'crown', 'WL_Depth': 250.0, 'WL_Thickness': 10.0}, {'Slope Angle': '37', 'HS': 1250.0, 'Profile Depth': 1250.0, 'Pit Near Avalanche Location': 'flank', 'WL_Depth': 530.0, 'WL_Thickness': 20.0}, {'Slope Angle': '32', 'HS': 670.0, 'Profile Depth': 670.0, 'Pit Near Avalanche Location': None, 'WL_Depth': 270.0, 'WL_Thickness': 80.0}, {'Slope Angle': '35', 'HS': 3200.0, 'Profile Depth': 1200.0, 'Pit Near Avalanche Location': 'crown', 'WL_Depth': 440.0, 'WL_Thickness': 5.0}, {'Slope Angle': '39', 'HS': 890.0, 'Profile Depth': 890.0, 'Pit Near Avalanche Location': 'crown', 'WL_Depth': 650.0, 'WL_Thickness': 240.0}, {'Slope Angle': '36', 'HS': 1720.0, 'Profile Depth': 1720.0, 'Pit Near Avalanche Location': 'crown', 'WL_Depth': 250.0, 'WL_Thickness': 190.0}, {'Slope Angle': '30', 'HS': 390.0, 'Profile Depth': 390.0, 'Pit Near Avalanche Location': 'crown', 'WL_Depth': 270.0, 'WL_Thickness': 5.0}, {'Slope Angle': '20', 'HS': 1420.0, 'Profile Depth': 1420.0, 'Pit Near Avalanche Location': 'crown', 'WL_Depth': 370.0, 'WL_Thickness': 50.0}, {'Slope Angle': '34', 'HS': 1300.0, 'Profile Depth': 1300.0, 'Pit Near Avalanche Location': 'crown', 'WL_Depth': 900.0, 'WL_Thickness': 10.0}, {'Slope Angle': '40', 'HS': 3500.0, 'Profile Depth': 980.0, 'Pit Near Avalanche Location': 'other', 'WL_Depth': 960.0, 'WL_Thickness': 10.0}, {'Slope Angle': '40', 'HS': 2700.0, 'Profile Depth': 2700.0, 'Pit Near Avalanche Location': 'crown', 'WL_Depth': 350.0, 'WL_Thickness': 10.0}, {'Slope Angle': 0.0, 'HS': 1120.0, 'Profile Depth': 1120.0, 'Pit Near Avalanche Location': 'crown', 'WL_Depth': 570.0, 'WL_Thickness': 550.0}, {'Slope Angle': '36', 'HS': 1230.0, 'Profile Depth': 1230.0, 'Pit Near Avalanche Location': 'other', 'WL_Depth': 730.0, 'WL_Thickness': 50.0}, {'Slope Angle': '20', 'HS': 1950.0, 'Profile Depth': 1950.0, 'Pit Near Avalanche Location': 'other', 'WL_Depth': 280.0, 'WL_Thickness': 170.0}, {'Slope Angle': '34', 'HS': 1520.0, 'Profile Depth': 1520.0, 'Pit Near Avalanche Location': 'other', 'WL_Depth': 680.0, 'WL_Thickness': 80.0}, {'Slope Angle': 0.0, 'HS': 1140.0, 'Profile Depth': 1140.0, 'Pit Near Avalanche Location': 'flank', 'WL_Depth': 790.0, 'WL_Thickness': 50.0}, {'Slope Angle': '38', 'HS': 550.0, 'Profile Depth': 550.0, 'Pit Near Avalanche Location': 'flank', 'WL_Depth': 0.0, 'WL_Thickness': 50.0}, {'Slope Angle': '26', 'HS': 650.0, 'Profile Depth': 650.0, 'Pit Near Avalanche Location': 'other', 'WL_Depth': 200.0, 'WL_Thickness': 290.0}, {'Slope Angle': '40', 'HS': 1550.0, 'Profile Depth': 1550.0, 'Pit Near Avalanche Location': 'flank', 'WL_Depth': 450.0, 'WL_Thickness': 100.0}, {'Slope Angle': '25', 'HS': 5000.0, 'Profile Depth': 1000.0, 'Pit Near Avalanche Location': 'crown', 'WL_Depth': 70.0, 'WL_Thickness': 360.0}, {'Slope Angle': 0.0, 'HS': 2300.0, 'Profile Depth': 980.0, 'Pit Near Avalanche Location': None, 'WL_Depth': 500.0, 'WL_Thickness': 180.0}, {'Slope Angle': '39', 'HS': 1450.0, 'Profile Depth': 1450.0, 'Pit Near Avalanche Location': None, 'WL_Depth': 1030.0, 'WL_Thickness': 20.0}, {'Slope Angle': '25', 'HS': 1800.0, 'Profile Depth': 1800.0, 'Pit Near Avalanche Location': 'crown', 'WL_Depth': 60.0, 'WL_Thickness': 840.0}, {'Slope Angle': 0.0, 'HS': 2450.0, 'Profile Depth': 2450.0, 'Pit Near Avalanche Location': 'crown', 'WL_Depth': 2130.0, 'WL_Thickness': 20.0}, {'Slope Angle': '33', 'HS': 1330.0, 'Profile Depth': 1330.0, 'Pit Near Avalanche Location': 'crown', 'WL_Depth': 720.0, 'WL_Thickness': 10.0}, {'Slope Angle': '30', 'HS': 1470.0, 'Profile Depth': 1470.0, 'Pit Near Avalanche Location': 'other', 'WL_Depth': 920.0, 'WL_Thickness': 20.0}, {'Slope Angle': '38', 'HS': 1450.0, 'Profile Depth': 1450.0, 'Pit Near Avalanche Location': 'flank', 'WL_Depth': 1050.0, 'WL_Thickness': 50.0}, {'Slope Angle': 0.0, 'HS': None, 'Profile Depth': 1600.0, 'Pit Near Avalanche Location': 'crown', 'WL_Depth': 930.0, 'WL_Thickness': 70.0}, {'Slope Angle': '44', 'HS': 1760.0, 'Profile Depth': 1760.0, 'Pit Near Avalanche Location': 'crown', 'WL_Depth': 500.0, 'WL_Thickness': 10.0}, {'Slope Angle': '26', 'HS': 1490.0, 'Profile Depth': 1490.0, 'Pit Near Avalanche Location': 'other', 'WL_Depth': 280.0, 'WL_Thickness': 5.0}, {'Slope Angle': '32', 'HS': 1400.0, 'Profile Depth': 1400.0, 'Pit Near Avalanche Location': 'flank', 'WL_Depth': 1270.0, 'WL_Thickness': 130.0}, {'Slope Angle': '40', 'HS': 3000.0, 'Profile Depth': 3000.0, 'Pit Near Avalanche Location': 'crown', 'WL_Depth': 240.0, 'WL_Thickness': 20.0}, {'Slope Angle': '27', 'HS': 1750.0, 'Profile Depth': 1750.0, 'Pit Near Avalanche Location': 'crown', 'WL_Depth': 700.0, 'WL_Thickness': 20.0}, {'Slope Angle': '42', 'HS': 650.0, 'Profile Depth': 650.0, 'Pit Near Avalanche Location': 'other', 'WL_Depth': 500.0, 'WL_Thickness': 150.0}, {'Slope Angle': '23', 'HS': 2000.0, 'Profile Depth': 2000.0, 'Pit Near Avalanche Location': 'crown', 'WL_Depth': 940.0, 'WL_Thickness': 140.0}, {'Slope Angle': '41', 'HS': 950.0, 'Profile Depth': 950.0, 'Pit Near Avalanche Location': 'flank', 'WL_Depth': 600.0, 'WL_Thickness': 350.0}, {'Slope Angle': '32', 'HS': 2200.0, 'Profile Depth': 1400.0, 'Pit Near Avalanche Location': 'other', 'WL_Depth': 400.0, 'WL_Thickness': 5.0}, {'Slope Angle': '43', 'HS': 950.0, 'Profile Depth': 950.0, 'Pit Near Avalanche Location': 'crown', 'WL_Depth': 750.0, 'WL_Thickness': 50.0}, {'Slope Angle': '24', 'HS': 650.0, 'Profile Depth': 650.0, 'Pit Near Avalanche Location': 'crown', 'WL_Depth': 370.0, 'WL_Thickness': 30.0}, {'Slope Angle': '20', 'HS': 3800.0, 'Profile Depth': 1300.0, 'Pit Near Avalanche Location': None, 'WL_Depth': 820.0, 'WL_Thickness': 90.0}, {'Slope Angle': 0.0, 'HS': 390.0, 'Profile Depth': 390.0, 'Pit Near Avalanche Location': 'crown', 'WL_Depth': 290.0, 'WL_Thickness': 100.0}, {'Slope Angle': '10', 'HS': 1000.0, 'Profile Depth': 1000.0, 'Pit Near Avalanche Location': 'other', 'WL_Depth': 390.0, 'WL_Thickness': 40.0}, {'Slope Angle': '35', 'HS': 1550.0, 'Profile Depth': 1550.0, 'Pit Near Avalanche Location': 'crown', 'WL_Depth': 1002.5, 'WL_Thickness': 122.5}, {'Slope Angle': '15', 'HS': 900.0, 'Profile Depth': 900.0, 'Pit Near Avalanche Location': 'other', 'WL_Depth': 490.0, 'WL_Thickness': 90.0}, {'Slope Angle': '38', 'HS': 1170.0, 'Profile Depth': 1170.0, 'Pit Near Avalanche Location': 'crown', 'WL_Depth': 630.0, 'WL_Thickness': 90.0}, {'Slope Angle': '26', 'HS': 730.0, 'Profile Depth': 730.0, 'Pit Near Avalanche Location': 'other', 'WL_Depth': 330.0, 'WL_Thickness': 180.0}, {'Slope Angle': '10', 'HS': 2970.0, 'Profile Depth': 1000.0, 'Pit Near Avalanche Location': 'crown', 'WL_Depth': 600.0, 'WL_Thickness': 10.0}, {'Slope Angle': '41', 'HS': None, 'Profile Depth': 1750.0, 'Pit Near Avalanche Location': 'crown', 'WL_Depth': 650.0, 'WL_Thickness': 50.0}, {'Slope Angle': '29', 'HS': 650.0, 'Profile Depth': 650.0, 'Pit Near Avalanche Location': 'flank', 'WL_Depth': 330.0, 'WL_Thickness': 110.0}, {'Slope Angle': 0.0, 'HS': 1140.0, 'Profile Depth': 1140.0, 'Pit Near Avalanche Location': 'crown', 'WL_Depth': 740.0, 'WL_Thickness': 10.0}, {'Slope Angle': '23', 'HS': 1550.0, 'Profile Depth': 1550.0, 'Pit Near Avalanche Location': 'crown', 'WL_Depth': 0.0, 'WL_Thickness': 250.0}, {'Slope Angle': '32', 'HS': 960.0, 'Profile Depth': 960.0, 'Pit Near Avalanche Location': 'crown', 'WL_Depth': 520.0, 'WL_Thickness': 160.0}, {'Slope Angle': '33', 'HS': 1000.0, 'Profile Depth': 1000.0, 'Pit Near Avalanche Location': 'crown', 'WL_Depth': 500.0, 'WL_Thickness': 100.0}, {'Slope Angle': '25', 'HS': 680.0, 'Profile Depth': 680.0, 'Pit Near Avalanche Location': 'flank', 'WL_Depth': 230.0, 'WL_Thickness': 350.0}, {'Slope Angle': '40', 'HS': 750.0, 'Profile Depth': 750.0, 'Pit Near Avalanche Location': 'other', 'WL_Depth': 220.0, 'WL_Thickness': 20.0}, {'Slope Angle': '36', 'HS': 1200.0, 'Profile Depth': 1200.0, 'Pit Near Avalanche Location': 'flank', 'WL_Depth': 310.0, 'WL_Thickness': 10.0}, {'Slope Angle': 0.0, 'HS': 580.0, 'Profile Depth': 580.0, 'Pit Near Avalanche Location': 'crown', 'WL_Depth': 140.0, 'WL_Thickness': 60.0}, {'Slope Angle': '34', 'HS': 1060.0, 'Profile Depth': 1060.0, 'Pit Near Avalanche Location': 'crown', 'WL_Depth': 710.0, 'WL_Thickness': 120.0}, {'Slope Angle': '38', 'HS': 1800.0, 'Profile Depth': 1800.0, 'Pit Near Avalanche Location': None, 'WL_Depth': 150.0, 'WL_Thickness': 120.0}, {'Slope Angle': '10', 'HS': 1000.0, 'Profile Depth': 1000.0, 'Pit Near Avalanche Location': 'other', 'WL_Depth': 390.0, 'WL_Thickness': 40.0}, {'Slope Angle': '44', 'HS': 1140.0, 'Profile Depth': 1140.0, 'Pit Near Avalanche Location': 'crown', 'WL_Depth': 1000.0, 'WL_Thickness': 40.0}, {'Slope Angle': '30', 'HS': 900.0, 'Profile Depth': 900.0, 'Pit Near Avalanche Location': 'crown', 'WL_Depth': 430.0, 'WL_Thickness': 30.0}, {'Slope Angle': '10', 'HS': 1000.0, 'Profile Depth': 1000.0, 'Pit Near Avalanche Location': 'other', 'WL_Depth': 390.0, 'WL_Thickness': 40.0}, {'Slope Angle': '29', 'HS': 850.0, 'Profile Depth': 850.0, 'Pit Near Avalanche Location': 'crown', 'WL_Depth': 450.0, 'WL_Thickness': 250.0}, {'Slope Angle': 0.0, 'HS': 1200.0, 'Profile Depth': 1200.0, 'Pit Near Avalanche Location': 'flank', 'WL_Depth': 500.0, 'WL_Thickness': 10.0}, {'Slope Angle': '38', 'HS': 740.0, 'Profile Depth': 740.0, 'Pit Near Avalanche Location': 'crown', 'WL_Depth': 420.0, 'WL_Thickness': 30.0}, {'Slope Angle': '11', 'HS': 550.0, 'Profile Depth': 550.0, 'Pit Near Avalanche Location': 'other', 'WL_Depth': 270.0, 'WL_Thickness': 80.0}, {'Slope Angle': '37', 'HS': 1010.0, 'Profile Depth': 1010.0, 'Pit Near Avalanche Location': 'crown', 'WL_Depth': 740.0, 'WL_Thickness': 120.0}, {'Slope Angle': '15', 'HS': 900.0, 'Profile Depth': 900.0, 'Pit Near Avalanche Location': 'other', 'WL_Depth': 490.0, 'WL_Thickness': 90.0}, {'Slope Angle': '10', 'HS': 1000.0, 'Profile Depth': 1000.0, 'Pit Near Avalanche Location': None, 'WL_Depth': 390.0, 'WL_Thickness': 40.0}, {'Slope Angle': '39', 'HS': 700.0, 'Profile Depth': 700.0, 'Pit Near Avalanche Location': None, 'WL_Depth': 330.0, 'WL_Thickness': 20.0}, {'Slope Angle': '32', 'HS': 1570.0, 'Profile Depth': 1570.0, 'Pit Near Avalanche Location': 'crown', 'WL_Depth': 920.0, 'WL_Thickness': 150.0}, {'Slope Angle': '40', 'HS': 3500.0, 'Profile Depth': 3500.0, 'Pit Near Avalanche Location': 'flank', 'WL_Depth': 450.0, 'WL_Thickness': 40.0}, {'Slope Angle': '25', 'HS': 1380.0, 'Profile Depth': 1380.0, 'Pit Near Avalanche Location': 'other', 'WL_Depth': 1080.0, 'WL_Thickness': 300.0}, {'Slope Angle': '37', 'HS': 2150.0, 'Profile Depth': 2150.0, 'Pit Near Avalanche Location': 'flank', 'WL_Depth': 450.0, 'WL_Thickness': 150.0}, {'Slope Angle': '10', 'HS': 1000.0, 'Profile Depth': 1000.0, 'Pit Near Avalanche Location': 'other', 'WL_Depth': 390.0, 'WL_Thickness': 40.0}, {'Slope Angle': '36', 'HS': 1700.0, 'Profile Depth': 1700.0, 'Pit Near Avalanche Location': 'crown', 'WL_Depth': 950.0, 'WL_Thickness': 50.0}, {'Slope Angle': '21', 'HS': 1120.0, 'Profile Depth': 1120.0, 'Pit Near Avalanche Location': None, 'WL_Depth': 770.0, 'WL_Thickness': 90.0}, {'Slope Angle': '10', 'HS': 1000.0, 'Profile Depth': 1000.0, 'Pit Near Avalanche Location': 'other', 'WL_Depth': 390.0, 'WL_Thickness': 40.0}, {'Slope Angle': '23', 'HS': 1070.0, 'Profile Depth': 1070.0, 'Pit Near Avalanche Location': 'other', 'WL_Depth': 470.0, 'WL_Thickness': 100.0}, {'Slope Angle': '40', 'HS': 1280.0, 'Profile Depth': 1280.0, 'Pit Near Avalanche Location': 'crown', 'WL_Depth': 440.0, 'WL_Thickness': 20.0}, {'Slope Angle': '30', 'HS': 2600.0, 'Profile Depth': 2600.0, 'Pit Near Avalanche Location': 'crown', 'WL_Depth': 1350.0, 'WL_Thickness': 100.0}, {'Slope Angle': '30', 'HS': 780.0, 'Profile Depth': 780.0, 'Pit Near Avalanche Location': 'other', 'WL_Depth': 430.0, 'WL_Thickness': 20.0}, {'Slope Angle': '26', 'HS': 1230.0, 'Profile Depth': 1230.0, 'Pit Near Avalanche Location': 'crown', 'WL_Depth': 890.0, 'WL_Thickness': 90.0}, {'Slope Angle': '34', 'HS': 1300.0, 'Profile Depth': 1000.0, 'Pit Near Avalanche Location': 'crown', 'WL_Depth': 350.0, 'WL_Thickness': 10.0}, {'Slope Angle': '25', 'HS': 1070.0, 'Profile Depth': 1070.0, 'Pit Near Avalanche Location': 'other', 'WL_Depth': 220.0, 'WL_Thickness': 5.0}, {'Slope Angle': 0.0, 'HS': 760.0, 'Profile Depth': 760.0, 'Pit Near Avalanche Location': 'crown', 'WL_Depth': 340.0, 'WL_Thickness': 20.0}, {'Slope Angle': '15', 'HS': 900.0, 'Profile Depth': 900.0, 'Pit Near Avalanche Location': None, 'WL_Depth': 490.0, 'WL_Thickness': 90.0}, {'Slope Angle': '10', 'HS': 1000.0, 'Profile Depth': 1000.0, 'Pit Near Avalanche Location': 'other', 'WL_Depth': 390.0, 'WL_Thickness': 40.0}, {'Slope Angle': '32', 'HS': 910.0, 'Profile Depth': 910.0, 'Pit Near Avalanche Location': 'other', 'WL_Depth': 290.0, 'WL_Thickness': 30.0}, {'Slope Angle': '40', 'HS': 2000.0, 'Profile Depth': 2000.0, 'Pit Near Avalanche Location': 'crown', 'WL_Depth': 1180.0, 'WL_Thickness': 200.0}, {'Slope Angle': '15', 'HS': 900.0, 'Profile Depth': 900.0, 'Pit Near Avalanche Location': None, 'WL_Depth': 30.0, 'WL_Thickness': 160.0}, {'Slope Angle': '32', 'HS': 950.0, 'Profile Depth': 950.0, 'Pit Near Avalanche Location': 'flank', 'WL_Depth': 580.0, 'WL_Thickness': 20.0}, {'Slope Angle': '34', 'HS': 2150.0, 'Profile Depth': 2150.0, 'Pit Near Avalanche Location': 'crown', 'WL_Depth': 1460.0, 'WL_Thickness': 20.0}, {'Slope Angle': '24', 'HS': 740.0, 'Profile Depth': 740.0, 'Pit Near Avalanche Location': 'other', 'WL_Depth': 330.0, 'WL_Thickness': 70.0}, {'Slope Angle': '22', 'HS': 900.0, 'Profile Depth': 900.0, 'Pit Near Avalanche Location': 'crown', 'WL_Depth': 300.0, 'WL_Thickness': 100.0}, {'Slope Angle': '10', 'HS': 1000.0, 'Profile Depth': 1000.0, 'Pit Near Avalanche Location': 'other', 'WL_Depth': 390.0, 'WL_Thickness': 40.0}, {'Slope Angle': '18', 'HS': 1240.0, 'Profile Depth': 1240.0, 'Pit Near Avalanche Location': 'other', 'WL_Depth': 570.0, 'WL_Thickness': 150.0}, {'Slope Angle': '38', 'HS': 1460.0, 'Profile Depth': 1460.0, 'Pit Near Avalanche Location': 'crown', 'WL_Depth': 960.0, 'WL_Thickness': 500.0}, {'Slope Angle': '36', 'HS': 1000.0, 'Profile Depth': 1000.0, 'Pit Near Avalanche Location': 'crown', 'WL_Depth': 600.0, 'WL_Thickness': 100.0}, {'Slope Angle': '32', 'HS': 1200.0, 'Profile Depth': 900.0, 'Pit Near Avalanche Location': None, 'WL_Depth': 350.0, 'WL_Thickness': 30.0}, {'Slope Angle': '36', 'HS': 2000.0, 'Profile Depth': 750.0, 'Pit Near Avalanche Location': 'crown', 'WL_Depth': 400.0, 'WL_Thickness': 200.0}, {'Slope Angle': '28', 'HS': 1700.0, 'Profile Depth': 1700.0, 'Pit Near Avalanche Location': 'other', 'WL_Depth': 390.0, 'WL_Thickness': 10.0}, {'Slope Angle': '38', 'HS': 990.0, 'Profile Depth': 990.0, 'Pit Near Avalanche Location': 'crown', 'WL_Depth': 600.0, 'WL_Thickness': 390.0}, {'Slope Angle': '31', 'HS': 2700.0, 'Profile Depth': 2700.0, 'Pit Near Avalanche Location': 'crown', 'WL_Depth': 910.0, 'WL_Thickness': 20.0}, {'Slope Angle': '16', 'HS': 1250.0, 'Profile Depth': 1000.0, 'Pit Near Avalanche Location': 'flank', 'WL_Depth': 430.0, 'WL_Thickness': 10.0}, {'Slope Angle': '40', 'HS': None, 'Profile Depth': 1300.0, 'Pit Near Avalanche Location': 'crown', 'WL_Depth': 440.0, 'WL_Thickness': 20.0}, {'Slope Angle': '33', 'HS': 1100.0, 'Profile Depth': 1100.0, 'Pit Near Avalanche Location': 'flank', 'WL_Depth': 0.0, 'WL_Thickness': 300.0}, {'Slope Angle': '29', 'HS': 2050.0, 'Profile Depth': 1100.0, 'Pit Near Avalanche Location': 'flank', 'WL_Depth': 1000.0, 'WL_Thickness': 100.0}, {'Slope Angle': '37', 'HS': 1020.0, 'Profile Depth': 1020.0, 'Pit Near Avalanche Location': 'crown', 'WL_Depth': 250.0, 'WL_Thickness': 60.0}, {'Slope Angle': '41', 'HS': None, 'Profile Depth': 660.0, 'Pit Near Avalanche Location': 'crown', 'WL_Depth': 480.0, 'WL_Thickness': 50.0}, {'Slope Angle': '33', 'HS': 2400.0, 'Profile Depth': 2400.0, 'Pit Near Avalanche Location': 'other', 'WL_Depth': 1400.0, 'WL_Thickness': 5.0}, {'Slope Angle': '26', 'HS': 1370.0, 'Profile Depth': 1370.0, 'Pit Near Avalanche Location': None, 'WL_Depth': 440.0, 'WL_Thickness': 10.0}, {'Slope Angle': '28', 'HS': 900.0, 'Profile Depth': 900.0, 'Pit Near Avalanche Location': 'crown', 'WL_Depth': 410.0, 'WL_Thickness': 190.0}, {'Slope Angle': '10', 'HS': 1000.0, 'Profile Depth': 1000.0, 'Pit Near Avalanche Location': 'other', 'WL_Depth': 390.0, 'WL_Thickness': 40.0}, {'Slope Angle': '38', 'HS': 1400.0, 'Profile Depth': 1400.0, 'Pit Near Avalanche Location': 'crown', 'WL_Depth': 350.0, 'WL_Thickness': 40.0}, {'Slope Angle': '21', 'HS': 850.0, 'Profile Depth': 850.0, 'Pit Near Avalanche Location': 'flank', 'WL_Depth': 530.0, 'WL_Thickness': 320.0}, {'Slope Angle': '38', 'HS': 1000.0, 'Profile Depth': 1000.0, 'Pit Near Avalanche Location': None, 'WL_Depth': 700.0, 'WL_Thickness': 300.0}, {'Slope Angle': '32', 'HS': 1500.0, 'Profile Depth': 1500.0, 'Pit Near Avalanche Location': 'crown', 'WL_Depth': 700.0, 'WL_Thickness': 70.0}, {'Slope Angle': '32', 'HS': 950.0, 'Profile Depth': 950.0, 'Pit Near Avalanche Location': 'flank', 'WL_Depth': 900.0, 'WL_Thickness': 50.0}, {'Slope Angle': '34', 'HS': 1330.0, 'Profile Depth': 1330.0, 'Pit Near Avalanche Location': 'crown', 'WL_Depth': 480.0, 'WL_Thickness': 10.0}, {'Slope Angle': '18', 'HS': 1240.0, 'Profile Depth': 1240.0, 'Pit Near Avalanche Location': 'other', 'WL_Depth': 290.0, 'WL_Thickness': 280.0}, {'Slope Angle': '6', 'HS': 840.0, 'Profile Depth': 840.0, 'Pit Near Avalanche Location': 'other', 'WL_Depth': 410.0, 'WL_Thickness': 20.0}, {'Slope Angle': '38', 'HS': None, 'Profile Depth': 400.0, 'Pit Near Avalanche Location': None, 'WL_Depth': 300.0, 'WL_Thickness': 50.0}, {'Slope Angle': 0.0, 'HS': 1410.0, 'Profile Depth': 1410.0, 'Pit Near Avalanche Location': 'flank', 'WL_Depth': 910.0, 'WL_Thickness': 500.0}, {'Slope Angle': '32', 'HS': None, 'Profile Depth': 1000.0, 'Pit Near Avalanche Location': 'flank', 'WL_Depth': 500.0, 'WL_Thickness': 400.0}, {'Slope Angle': '32', 'HS': None, 'Profile Depth': 1600.0, 'Pit Near Avalanche Location': 'crown', 'WL_Depth': 1410.0, 'WL_Thickness': 10.0}, {'Slope Angle': '26', 'HS': None, 'Profile Depth': 2600.0, 'Pit Near Avalanche Location': None, 'WL_Depth': 800.0, 'WL_Thickness': 20.0}, {'Slope Angle': '36', 'HS': 1210.0, 'Profile Depth': 1210.0, 'Pit Near Avalanche Location': None, 'WL_Depth': 580.0, 'WL_Thickness': 220.0}, {'Slope Angle': '28', 'HS': 1100.0, 'Profile Depth': 1100.0, 'Pit Near Avalanche Location': 'flank', 'WL_Depth': 270.0, 'WL_Thickness': 110.0}, {'Slope Angle': '32', 'HS': 700.0, 'Profile Depth': 700.0, 'Pit Near Avalanche Location': 'crown', 'WL_Depth': 420.0, 'WL_Thickness': 280.0}, {'Slope Angle': '25', 'HS': 1150.0, 'Profile Depth': 1150.0, 'Pit Near Avalanche Location': 'other', 'WL_Depth': 25.0, 'WL_Thickness': 10.0}, {'Slope Angle': '32', 'HS': 2000.0, 'Profile Depth': 2000.0, 'Pit Near Avalanche Location': 'crown', 'WL_Depth': 450.0, 'WL_Thickness': 300.0}, {'Slope Angle': '32', 'HS': 2600.0, 'Profile Depth': 2600.0, 'Pit Near Avalanche Location': 'flank', 'WL_Depth': 1170.0, 'WL_Thickness': 5.0}, {'Slope Angle': 0.0, 'HS': 1700.0, 'Profile Depth': 1700.0, 'Pit Near Avalanche Location': None, 'WL_Depth': 800.0, 'WL_Thickness': 50.0}, {'Slope Angle': '37', 'HS': 1010.0, 'Profile Depth': 1010.0, 'Pit Near Avalanche Location': 'crown', 'WL_Depth': 480.0, 'WL_Thickness': 20.0}, {'Slope Angle': '38', 'HS': 1110.0, 'Profile Depth': 1110.0, 'Pit Near Avalanche Location': 'crown', 'WL_Depth': 700.0, 'WL_Thickness': 30.0}, {'Slope Angle': '31', 'HS': 600.0, 'Profile Depth': 600.0, 'Pit Near Avalanche Location': 'crown', 'WL_Depth': 240.0, 'WL_Thickness': 190.0}, {'Slope Angle': '35', 'HS': 1050.0, 'Profile Depth': 1050.0, 'Pit Near Avalanche Location': 'crown', 'WL_Depth': 550.0, 'WL_Thickness': 50.0}, {'Slope Angle': '41', 'HS': 680.0, 'Profile Depth': 680.0, 'Pit Near Avalanche Location': 'flank', 'WL_Depth': 200.0, 'WL_Thickness': 40.0}, {'Slope Angle': '32', 'HS': 1600.0, 'Profile Depth': 1100.0, 'Pit Near Avalanche Location': 'crown', 'WL_Depth': 50.0, 'WL_Thickness': 100.0}, {'Slope Angle': '21', 'HS': 1120.0, 'Profile Depth': 1120.0, 'Pit Near Avalanche Location': None, 'WL_Depth': 860.0, 'WL_Thickness': 260.0}, {'Slope Angle': '29', 'HS': 750.0, 'Profile Depth': 750.0, 'Pit Near Avalanche Location': 'other', 'WL_Depth': 160.0, 'WL_Thickness': 50.0}, {'Slope Angle': '44', 'HS': 540.0, 'Profile Depth': 540.0, 'Pit Near Avalanche Location': None, 'WL_Depth': 250.0, 'WL_Thickness': 30.0}, {'Slope Angle': '28', 'HS': 1360.0, 'Profile Depth': 1360.0, 'Pit Near Avalanche Location': None, 'WL_Depth': 650.0, 'WL_Thickness': 10.0}, {'Slope Angle': '30', 'HS': 1200.0, 'Profile Depth': 1200.0, 'Pit Near Avalanche Location': 'crown', 'WL_Depth': 700.0, 'WL_Thickness': 500.0}, {'Slope Angle': '32', 'HS': 700.0, 'Profile Depth': 700.0, 'Pit Near Avalanche Location': 'other', 'WL_Depth': 180.0, 'WL_Thickness': 60.0}, {'Slope Angle': '30', 'HS': 1500.0, 'Profile Depth': 1500.0, 'Pit Near Avalanche Location': 'flank', 'WL_Depth': 1112.0, 'WL_Thickness': 108.0}, {'Slope Angle': '35', 'HS': 1000.0, 'Profile Depth': 1000.0, 'Pit Near Avalanche Location': 'flank', 'WL_Depth': 650.0, 'WL_Thickness': 250.0}, {'Slope Angle': '30', 'HS': 1050.0, 'Profile Depth': 1050.0, 'Pit Near Avalanche Location': 'crown', 'WL_Depth': 400.0, 'WL_Thickness': 450.0}, {'Slope Angle': '38', 'HS': 1230.0, 'Profile Depth': 1230.0, 'Pit Near Avalanche Location': 'flank', 'WL_Depth': 850.0, 'WL_Thickness': 80.0}, {'Slope Angle': '25', 'HS': 1500.0, 'Profile Depth': 1500.0, 'Pit Near Avalanche Location': 'crown', 'WL_Depth': 850.0, 'WL_Thickness': 70.0}, {'Slope Angle': '36', 'HS': 1590.0, 'Profile Depth': 1590.0, 'Pit Near Avalanche Location': 'crown', 'WL_Depth': 410.0, 'WL_Thickness': 40.0}, {'Slope Angle': '10', 'HS': 1000.0, 'Profile Depth': 1000.0, 'Pit Near Avalanche Location': 'other', 'WL_Depth': 390.0, 'WL_Thickness': 40.0}, {'Slope Angle': 0.0, 'HS': 650.0, 'Profile Depth': 650.0, 'Pit Near Avalanche Location': 'other', 'WL_Depth': 350.0, 'WL_Thickness': 250.0}, {'Slope Angle': '33', 'HS': 1500.0, 'Profile Depth': 1500.0, 'Pit Near Avalanche Location': 'crown', 'WL_Depth': 800.0, 'WL_Thickness': 190.0}, {'Slope Angle': '25', 'HS': 1440.0, 'Profile Depth': 1440.0, 'Pit Near Avalanche Location': 'flank', 'WL_Depth': 810.0, 'WL_Thickness': 30.0}, {'Slope Angle': '38', 'HS': 5000.0, 'Profile Depth': 5000.0, 'Pit Near Avalanche Location': 'flank', 'WL_Depth': 800.0, 'WL_Thickness': 10.0}, {'Slope Angle': '39', 'HS': 3000.0, 'Profile Depth': 1600.0, 'Pit Near Avalanche Location': 'crown', 'WL_Depth': 600.0, 'WL_Thickness': 20.0}, {'Slope Angle': '10', 'HS': 1000.0, 'Profile Depth': 1000.0, 'Pit Near Avalanche Location': 'other', 'WL_Depth': 390.0, 'WL_Thickness': 40.0}, {'Slope Angle': '36', 'HS': 1550.0, 'Profile Depth': 1090.0, 'Pit Near Avalanche Location': 'flank', 'WL_Depth': 370.0, 'WL_Thickness': 10.0}, {'Slope Angle': '30', 'HS': 1030.0, 'Profile Depth': 1030.0, 'Pit Near Avalanche Location': 'other', 'WL_Depth': 400.0, 'WL_Thickness': 10.0}, {'Slope Angle': '30', 'HS': None, 'Profile Depth': 2000.0, 'Pit Near Avalanche Location': 'crown', 'WL_Depth': 500.0, 'WL_Thickness': 50.0}, {'Slope Angle': '31', 'HS': 950.0, 'Profile Depth': 950.0, 'Pit Near Avalanche Location': 'flank', 'WL_Depth': 470.0, 'WL_Thickness': 120.0}, {'Slope Angle': '25', 'HS': 1200.0, 'Profile Depth': 1200.0, 'Pit Near Avalanche Location': None, 'WL_Depth': 920.0, 'WL_Thickness': 280.0}, {'Slope Angle': 0.0, 'HS': 1750.0, 'Profile Depth': 1750.0, 'Pit Near Avalanche Location': 'flank', 'WL_Depth': 1300.0, 'WL_Thickness': 450.0}, {'Slope Angle': '27', 'HS': 3750.0, 'Profile Depth': 3750.0, 'Pit Near Avalanche Location': 'crown', 'WL_Depth': 1300.0, 'WL_Thickness': 20.0}, {'Slope Angle': '35', 'HS': 1600.0, 'Profile Depth': 1600.0, 'Pit Near Avalanche Location': 'crown', 'WL_Depth': 840.0, 'WL_Thickness': 10.0}, {'Slope Angle': '35', 'HS': None, 'Profile Depth': 380.0, 'Pit Near Avalanche Location': 'crown', 'WL_Depth': 300.0, 'WL_Thickness': 30.0}, {'Slope Angle': 0.0, 'HS': 680.0, 'Profile Depth': 680.0, 'Pit Near Avalanche Location': 'other', 'WL_Depth': 320.0, 'WL_Thickness': 200.0}, {'Slope Angle': 0.0, 'HS': 1270.0, 'Profile Depth': 1270.0, 'Pit Near Avalanche Location': 'crown', 'WL_Depth': 740.0, 'WL_Thickness': 530.0}, {'Slope Angle': '34', 'HS': 700.0, 'Profile Depth': 700.0, 'Pit Near Avalanche Location': 'other', 'WL_Depth': 270.0, 'WL_Thickness': 180.0}, {'Slope Angle': '26', 'HS': 600.0, 'Profile Depth': 600.0, 'Pit Near Avalanche Location': 'other', 'WL_Depth': 100.0, 'WL_Thickness': 170.0}, {'Slope Angle': '27', 'HS': 1190.0, 'Profile Depth': 1190.0, 'Pit Near Avalanche Location': 'crown', 'WL_Depth': 990.0, 'WL_Thickness': 100.0}, {'Slope Angle': '24', 'HS': 600.0, 'Profile Depth': 600.0, 'Pit Near Avalanche Location': 'other', 'WL_Depth': 290.0, 'WL_Thickness': 220.0}, {'Slope Angle': '10', 'HS': 1000.0, 'Profile Depth': 1000.0, 'Pit Near Avalanche Location': 'other', 'WL_Depth': 390.0, 'WL_Thickness': 40.0}, {'Slope Angle': '31', 'HS': 1400.0, 'Profile Depth': 1400.0, 'Pit Near Avalanche Location': None, 'WL_Depth': 990.0, 'WL_Thickness': 20.0}, {'Slope Angle': '25', 'HS': 4550.0, 'Profile Depth': 4550.0, 'Pit Near Avalanche Location': 'other', 'WL_Depth': 0.0, 'WL_Thickness': 150.0}, {'Slope Angle': '38', 'HS': 1500.0, 'Profile Depth': 1500.0, 'Pit Near Avalanche Location': 'flank', 'WL_Depth': 470.0, 'WL_Thickness': 10.0}, {'Slope Angle': '10', 'HS': 1000.0, 'Profile Depth': 1000.0, 'Pit Near Avalanche Location': 'other', 'WL_Depth': 390.0, 'WL_Thickness': 40.0}, {'Slope Angle': '35', 'HS': 1550.0, 'Profile Depth': 1550.0, 'Pit Near Avalanche Location': 'crown', 'WL_Depth': 930.0, 'WL_Thickness': 10.0}, {'Slope Angle': '25', 'HS': 2650.0, 'Profile Depth': 1450.0, 'Pit Near Avalanche Location': None, 'WL_Depth': 670.0, 'WL_Thickness': 30.0}, {'Slope Angle': '10', 'HS': 1000.0, 'Profile Depth': 1000.0, 'Pit Near Avalanche Location': None, 'WL_Depth': 390.0, 'WL_Thickness': 40.0}, {'Slope Angle': 0.0, 'HS': 1000.0, 'Profile Depth': 1000.0, 'Pit Near Avalanche Location': 'other', 'WL_Depth': 390.0, 'WL_Thickness': 40.0}, {'Slope Angle': '32', 'HS': 6000.0, 'Profile Depth': 1200.0, 'Pit Near Avalanche Location': 'crown', 'WL_Depth': 590.0, 'WL_Thickness': 220.0}, {'Slope Angle': '30', 'HS': 1450.0, 'Profile Depth': 1450.0, 'Pit Near Avalanche Location': 'flank', 'WL_Depth': 450.0, 'WL_Thickness': 300.0}, {'Slope Angle': 0.0, 'HS': 600.0, 'Profile Depth': 600.0, 'Pit Near Avalanche Location': 'flank', 'WL_Depth': 210.0, 'WL_Thickness': 130.0}, {'Slope Angle': '36', 'HS': 1050.0, 'Profile Depth': 1050.0, 'Pit Near Avalanche Location': 'flank', 'WL_Depth': 600.0, 'WL_Thickness': 350.0}, {'Slope Angle': '35', 'HS': 2050.0, 'Profile Depth': 2050.0, 'Pit Near Avalanche Location': 'crown', 'WL_Depth': 1320.0, 'WL_Thickness': 60.0}, {'Slope Angle': '35', 'HS': 930.0, 'Profile Depth': 930.0, 'Pit Near Avalanche Location': 'crown', 'WL_Depth': 720.0, 'WL_Thickness': 160.0}, {'Slope Angle': '33', 'HS': 1750.0, 'Profile Depth': 1750.0, 'Pit Near Avalanche Location': 'flank', 'WL_Depth': 900.0, 'WL_Thickness': 30.0}, {'Slope Angle': '9', 'HS': 810.0, 'Profile Depth': 810.0, 'Pit Near Avalanche Location': 'other', 'WL_Depth': 500.0, 'WL_Thickness': 60.0}, {'Slope Angle': '15', 'HS': 900.0, 'Profile Depth': 900.0, 'Pit Near Avalanche Location': 'other', 'WL_Depth': 30.0, 'WL_Thickness': 160.0}, {'Slope Angle': '31', 'HS': 1630.0, 'Profile Depth': 1630.0, 'Pit Near Avalanche Location': 'crown', 'WL_Depth': 630.0, 'WL_Thickness': 50.0}, {'Slope Angle': '35', 'HS': 1500.0, 'Profile Depth': 1500.0, 'Pit Near Avalanche Location': 'crown', 'WL_Depth': 1070.0, 'WL_Thickness': 20.0}, {'Slope Angle': '21', 'HS': 1120.0, 'Profile Depth': 1120.0, 'Pit Near Avalanche Location': None, 'WL_Depth': 770.0, 'WL_Thickness': 90.0}, {'Slope Angle': '10', 'HS': 1000.0, 'Profile Depth': 1000.0, 'Pit Near Avalanche Location': 'other', 'WL_Depth': 390.0, 'WL_Thickness': 40.0}, {'Slope Angle': '38', 'HS': 2090.0, 'Profile Depth': 2090.0, 'Pit Near Avalanche Location': None, 'WL_Depth': 760.0, 'WL_Thickness': 150.0}, {'Slope Angle': 0.0, 'HS': 1260.0, 'Profile Depth': 1260.0, 'Pit Near Avalanche Location': 'flank', 'WL_Depth': 430.0, 'WL_Thickness': 220.0}, {'Slope Angle': '32', 'HS': 840.0, 'Profile Depth': 840.0, 'Pit Near Avalanche Location': None, 'WL_Depth': 110.0, 'WL_Thickness': 90.0}, {'Slope Angle': '35', 'HS': 2800.0, 'Profile Depth': 2800.0, 'Pit Near Avalanche Location': 'other', 'WL_Depth': 570.0, 'WL_Thickness': 50.0}, {'Slope Angle': '40', 'HS': 2860.0, 'Profile Depth': 2860.0, 'Pit Near Avalanche Location': 'crown', 'WL_Depth': 960.0, 'WL_Thickness': 40.0}, {'Slope Angle': '25', 'HS': None, 'Profile Depth': 1500.0, 'Pit Near Avalanche Location': None, 'WL_Depth': 1390.0, 'WL_Thickness': 110.0}, {'Slope Angle': '30', 'HS': None, 'Profile Depth': 1000.0, 'Pit Near Avalanche Location': 'crown', 'WL_Depth': 440.0, 'WL_Thickness': 60.0}, {'Slope Angle': '32', 'HS': 1450.0, 'Profile Depth': 1450.0, 'Pit Near Avalanche Location': 'crown', 'WL_Depth': 970.0, 'WL_Thickness': 30.0}, {'Slope Angle': '40', 'HS': 1180.0, 'Profile Depth': 1180.0, 'Pit Near Avalanche Location': 'crown', 'WL_Depth': 800.0, 'WL_Thickness': 20.0}, {'Slope Angle': '35', 'HS': 3000.0, 'Profile Depth': 3000.0, 'Pit Near Avalanche Location': 'crown', 'WL_Depth': 1250.0, 'WL_Thickness': 50.0}, {'Slope Angle': '10', 'HS': 1000.0, 'Profile Depth': 1000.0, 'Pit Near Avalanche Location': 'other', 'WL_Depth': 390.0, 'WL_Thickness': 40.0}, {'Slope Angle': '27', 'HS': 1000.0, 'Profile Depth': 1000.0, 'Pit Near Avalanche Location': 'flank', 'WL_Depth': 820.0, 'WL_Thickness': 30.0}, {'Slope Angle': '35', 'HS': 850.0, 'Profile Depth': 850.0, 'Pit Near Avalanche Location': 'crown', 'WL_Depth': 480.0, 'WL_Thickness': 30.0}, {'Slope Angle': '35', 'HS': 950.0, 'Profile Depth': 950.0, 'Pit Near Avalanche Location': 'crown', 'WL_Depth': 650.0, 'WL_Thickness': 20.0}, {'Slope Angle': '15', 'HS': 900.0, 'Profile Depth': 900.0, 'Pit Near Avalanche Location': 'other', 'WL_Depth': 490.0, 'WL_Thickness': 90.0}, {'Slope Angle': '36', 'HS': 1200.0, 'Profile Depth': 1200.0, 'Pit Near Avalanche Location': 'flank', 'WL_Depth': 310.0, 'WL_Thickness': 10.0}, {'Slope Angle': '27', 'HS': 1300.0, 'Profile Depth': 1300.0, 'Pit Near Avalanche Location': 'crown', 'WL_Depth': 780.0, 'WL_Thickness': 110.0}, {'Slope Angle': '15', 'HS': 900.0, 'Profile Depth': 900.0, 'Pit Near Avalanche Location': 'other', 'WL_Depth': 190.0, 'WL_Thickness': 140.0}, {'Slope Angle': '32', 'HS': 430.0, 'Profile Depth': 430.0, 'Pit Near Avalanche Location': 'other', 'WL_Depth': 240.0, 'WL_Thickness': 90.0}, {'Slope Angle': '42', 'HS': 1200.0, 'Profile Depth': 1200.0, 'Pit Near Avalanche Location': 'crown', 'WL_Depth': 500.0, 'WL_Thickness': 10.0}, {'Slope Angle': '35', 'HS': 1410.0, 'Profile Depth': 1410.0, 'Pit Near Avalanche Location': 'flank', 'WL_Depth': 730.0, 'WL_Thickness': 350.0}, {'Slope Angle': '37', 'HS': 860.0, 'Profile Depth': 860.0, 'Pit Near Avalanche Location': 'crown', 'WL_Depth': 500.0, 'WL_Thickness': 100.0}, {'Slope Angle': '35', 'HS': 750.0, 'Profile Depth': 750.0, 'Pit Near Avalanche Location': 'crown', 'WL_Depth': 510.0, 'WL_Thickness': 20.0}, {'Slope Angle': '40', 'HS': 1130.0, 'Profile Depth': 1130.0, 'Pit Near Avalanche Location': 'crown', 'WL_Depth': 1010.0, 'WL_Thickness': 120.0}, {'Slope Angle': '37', 'HS': 2700.0, 'Profile Depth': 1000.0, 'Pit Near Avalanche Location': 'crown', 'WL_Depth': 670.0, 'WL_Thickness': 10.0}, {'Slope Angle': '42', 'HS': 920.0, 'Profile Depth': 920.0, 'Pit Near Avalanche Location': 'crown', 'WL_Depth': 440.0, 'WL_Thickness': 30.0}, {'Slope Angle': 0.0, 'HS': 1430.0, 'Profile Depth': 1430.0, 'Pit Near Avalanche Location': 'crown', 'WL_Depth': 950.0, 'WL_Thickness': 480.0}, {'Slope Angle': 0.0, 'HS': 1000.0, 'Profile Depth': 1000.0, 'Pit Near Avalanche Location': 'crown', 'WL_Depth': 560.0, 'WL_Thickness': 60.0}, {'Slope Angle': '30', 'HS': 750.0, 'Profile Depth': 750.0, 'Pit Near Avalanche Location': 'flank', 'WL_Depth': 400.0, 'WL_Thickness': 350.0}, {'Slope Angle': '45', 'HS': 900.0, 'Profile Depth': 900.0, 'Pit Near Avalanche Location': 'crown', 'WL_Depth': 330.0, 'WL_Thickness': 10.0}, {'Slope Angle': '33', 'HS': 1380.0, 'Profile Depth': 1380.0, 'Pit Near Avalanche Location': 'flank', 'WL_Depth': 230.0, 'WL_Thickness': 10.0}, {'Slope Angle': '30', 'HS': 2650.0, 'Profile Depth': 2650.0, 'Pit Near Avalanche Location': 'crown', 'WL_Depth': 380.0, 'WL_Thickness': 350.0}, {'Slope Angle': '37', 'HS': 1000.0, 'Profile Depth': 1000.0, 'Pit Near Avalanche Location': 'other', 'WL_Depth': 450.0, 'WL_Thickness': 450.0}, {'Slope Angle': '37', 'HS': 1550.0, 'Profile Depth': 1550.0, 'Pit Near Avalanche Location': 'crown', 'WL_Depth': 650.0, 'WL_Thickness': 10.0}, {'Slope Angle': '36', 'HS': 1080.0, 'Profile Depth': 1080.0, 'Pit Near Avalanche Location': 'crown', 'WL_Depth': 530.0, 'WL_Thickness': 140.0}, {'Slope Angle': '38', 'HS': 1450.0, 'Profile Depth': 1450.0, 'Pit Near Avalanche Location': 'crown', 'WL_Depth': 850.0, 'WL_Thickness': 350.0}, {'Slope Angle': '39', 'HS': 1830.0, 'Profile Depth': 1830.0, 'Pit Near Avalanche Location': 'crown', 'WL_Depth': 280.0, 'WL_Thickness': 200.0}, {'Slope Angle': '32', 'HS': 810.0, 'Profile Depth': 810.0, 'Pit Near Avalanche Location': None, 'WL_Depth': 470.0, 'WL_Thickness': 340.0}, {'Slope Angle': '25', 'HS': 1020.0, 'Profile Depth': 1020.0, 'Pit Near Avalanche Location': 'crown', 'WL_Depth': 260.0, 'WL_Thickness': 50.0}, {'Slope Angle': '15', 'HS': 900.0, 'Profile Depth': 900.0, 'Pit Near Avalanche Location': 'other', 'WL_Depth': 490.0, 'WL_Thickness': 90.0}, {'Slope Angle': '36', 'HS': 840.0, 'Profile Depth': 840.0, 'Pit Near Avalanche Location': 'crown', 'WL_Depth': 640.0, 'WL_Thickness': 200.0}, {'Slope Angle': '24', 'HS': 540.0, 'Profile Depth': 540.0, 'Pit Near Avalanche Location': 'flank', 'WL_Depth': 330.0, 'WL_Thickness': 80.0}, {'Slope Angle': '28', 'HS': 3270.0, 'Profile Depth': 3270.0, 'Pit Near Avalanche Location': 'flank', 'WL_Depth': 320.0, 'WL_Thickness': 90.0}, {'Slope Angle': 0.0, 'HS': 1450.0, 'Profile Depth': 1450.0, 'Pit Near Avalanche Location': 'flank', 'WL_Depth': 630.0, 'WL_Thickness': 100.0}, {'Slope Angle': '33', 'HS': 1420.0, 'Profile Depth': 1420.0, 'Pit Near Avalanche Location': 'crown', 'WL_Depth': 1040.0, 'WL_Thickness': 30.0}, {'Slope Angle': '25', 'HS': 2380.0, 'Profile Depth': 2380.0, 'Pit Near Avalanche Location': 'crown', 'WL_Depth': 500.0, 'WL_Thickness': 10.0}, {'Slope Angle': '38', 'HS': 1300.0, 'Profile Depth': 1300.0, 'Pit Near Avalanche Location': 'crown', 'WL_Depth': 450.0, 'WL_Thickness': 20.0}, {'Slope Angle': '34', 'HS': 1420.0, 'Profile Depth': 1420.0, 'Pit Near Avalanche Location': 'crown', 'WL_Depth': 680.0, 'WL_Thickness': 260.0}, {'Slope Angle': '44', 'HS': 1350.0, 'Profile Depth': 1350.0, 'Pit Near Avalanche Location': None, 'WL_Depth': 1200.0, 'WL_Thickness': 150.0}, {'Slope Angle': '33', 'HS': 1460.0, 'Profile Depth': 1460.0, 'Pit Near Avalanche Location': 'crown', 'WL_Depth': 640.0, 'WL_Thickness': 10.0}, {'Slope Angle': '35', 'HS': 3600.0, 'Profile Depth': 3600.0, 'Pit Near Avalanche Location': 'crown', 'WL_Depth': 2260.0, 'WL_Thickness': 30.0}, {'Slope Angle': '35', 'HS': 3900.0, 'Profile Depth': 3900.0, 'Pit Near Avalanche Location': 'other', 'WL_Depth': 220.0, 'WL_Thickness': 20.0}, {'Slope Angle': '30', 'HS': 2100.0, 'Profile Depth': 2100.0, 'Pit Near Avalanche Location': None, 'WL_Depth': 335.0, 'WL_Thickness': 5.0}, {'Slope Angle': '24', 'HS': 1600.0, 'Profile Depth': 1600.0, 'Pit Near Avalanche Location': 'other', 'WL_Depth': 1100.0, 'WL_Thickness': 500.0}, {'Slope Angle': '36', 'HS': 1450.0, 'Profile Depth': 1450.0, 'Pit Near Avalanche Location': 'flank', 'WL_Depth': 1330.0, 'WL_Thickness': 120.0}, {'Slope Angle': '37', 'HS': 2580.0, 'Profile Depth': 2580.0, 'Pit Near Avalanche Location': 'flank', 'WL_Depth': 1090.0, 'WL_Thickness': 60.0}, {'Slope Angle': '25', 'HS': 2400.0, 'Profile Depth': 800.0, 'Pit Near Avalanche Location': 'other', 'WL_Depth': 380.0, 'WL_Thickness': 20.0}, {'Slope Angle': '33', 'HS': 1500.0, 'Profile Depth': 1500.0, 'Pit Near Avalanche Location': 'flank', 'WL_Depth': 500.0, 'WL_Thickness': 10.0}, {'Slope Angle': '27', 'HS': 1440.0, 'Profile Depth': 1440.0, 'Pit Near Avalanche Location': 'crown', 'WL_Depth': 560.0, 'WL_Thickness': 30.0}, {'Slope Angle': '25', 'HS': 1170.0, 'Profile Depth': 1170.0, 'Pit Near Avalanche Location': 'crown', 'WL_Depth': 640.0, 'WL_Thickness': 10.0}, {'Slope Angle': 0.0, 'HS': None, 'Profile Depth': 2000.0, 'Pit Near Avalanche Location': 'crown', 'WL_Depth': 1800.0, 'WL_Thickness': 30.0}, {'Slope Angle': '37', 'HS': 2430.0, 'Profile Depth': 2430.0, 'Pit Near Avalanche Location': 'crown', 'WL_Depth': 800.0, 'WL_Thickness': 10.0}, {'Slope Angle': '25', 'HS': 1300.0, 'Profile Depth': 1300.0, 'Pit Near Avalanche Location': 'other', 'WL_Depth': 260.0, 'WL_Thickness': 20.0}, {'Slope Angle': '31', 'HS': 1200.0, 'Profile Depth': 1200.0, 'Pit Near Avalanche Location': 'other', 'WL_Depth': 200.0, 'WL_Thickness': 200.0}, {'Slope Angle': '46', 'HS': 1720.0, 'Profile Depth': 1720.0, 'Pit Near Avalanche Location': 'crown', 'WL_Depth': 679.0, 'WL_Thickness': 1.0}, {'Slope Angle': '35', 'HS': 1180.0, 'Profile Depth': 1180.0, 'Pit Near Avalanche Location': 'crown', 'WL_Depth': 430.0, 'WL_Thickness': 10.0}, {'Slope Angle': '30', 'HS': 2200.0, 'Profile Depth': 2200.0, 'Pit Near Avalanche Location': 'flank', 'WL_Depth': 700.0, 'WL_Thickness': 50.0}, {'Slope Angle': 0.0, 'HS': 1350.0, 'Profile Depth': 1350.0, 'Pit Near Avalanche Location': 'flank', 'WL_Depth': 1100.0, 'WL_Thickness': 250.0}, {'Slope Angle': '34', 'HS': 1200.0, 'Profile Depth': 1200.0, 'Pit Near Avalanche Location': 'crown', 'WL_Depth': 1100.0, 'WL_Thickness': 100.0}, {'Slope Angle': '20', 'HS': 970.0, 'Profile Depth': 970.0, 'Pit Near Avalanche Location': 'flank', 'WL_Depth': 470.0, 'WL_Thickness': 30.0}, {'Slope Angle': 0.0, 'HS': 1900.0, 'Profile Depth': 1900.0, 'Pit Near Avalanche Location': 'flank', 'WL_Depth': 250.0, 'WL_Thickness': 130.0}, {'Slope Angle': '36', 'HS': 2040.0, 'Profile Depth': 2040.0, 'Pit Near Avalanche Location': 'crown', 'WL_Depth': 450.0, 'WL_Thickness': 50.0}, {'Slope Angle': '30', 'HS': 450.0, 'Profile Depth': 450.0, 'Pit Near Avalanche Location': 'crown', 'WL_Depth': 410.0, 'WL_Thickness': 40.0}, {'Slope Angle': '25', 'HS': 1780.0, 'Profile Depth': 800.0, 'Pit Near Avalanche Location': 'crown', 'WL_Depth': 350.0, 'WL_Thickness': 150.0}, {'Slope Angle': '40', 'HS': 1800.0, 'Profile Depth': 1000.0, 'Pit Near Avalanche Location': None, 'WL_Depth': 300.0, 'WL_Thickness': 10.0}, {'Slope Angle': '37', 'HS': 1650.0, 'Profile Depth': 1650.0, 'Pit Near Avalanche Location': 'crown', 'WL_Depth': 650.0, 'WL_Thickness': 10.0}, {'Slope Angle': '47', 'HS': 2400.0, 'Profile Depth': 2000.0, 'Pit Near Avalanche Location': 'other', 'WL_Depth': 600.0, 'WL_Thickness': 20.0}, {'Slope Angle': '42', 'HS': 2490.0, 'Profile Depth': 2490.0, 'Pit Near Avalanche Location': 'flank', 'WL_Depth': 730.0, 'WL_Thickness': 10.0}, {'Slope Angle': '32', 'HS': 550.0, 'Profile Depth': 550.0, 'Pit Near Avalanche Location': 'crown', 'WL_Depth': 450.0, 'WL_Thickness': 100.0}, {'Slope Angle': '31', 'HS': 2200.0, 'Profile Depth': 2200.0, 'Pit Near Avalanche Location': 'crown', 'WL_Depth': 1200.0, 'WL_Thickness': 5.0}, {'Slope Angle': '38', 'HS': 2500.0, 'Profile Depth': 2500.0, 'Pit Near Avalanche Location': 'crown', 'WL_Depth': 950.0, 'WL_Thickness': 50.0}, {'Slope Angle': '39', 'HS': 1630.0, 'Profile Depth': 1630.0, 'Pit Near Avalanche Location': 'crown', 'WL_Depth': 680.0, 'WL_Thickness': 30.0}, {'Slope Angle': '33', 'HS': 1000.0, 'Profile Depth': 1000.0, 'Pit Near Avalanche Location': 'crown', 'WL_Depth': 650.0, 'WL_Thickness': 350.0}, {'Slope Angle': '30', 'HS': 2200.0, 'Profile Depth': 2200.0, 'Pit Near Avalanche Location': 'other', 'WL_Depth': 600.0, 'WL_Thickness': 10.0}, {'Slope Angle': '45', 'HS': 1650.0, 'Profile Depth': 1650.0, 'Pit Near Avalanche Location': 'crown', 'WL_Depth': 1010.0, 'WL_Thickness': 140.0}, {'Slope Angle': 0.0, 'HS': 1800.0, 'Profile Depth': 1800.0, 'Pit Near Avalanche Location': 'crown', 'WL_Depth': 800.0, 'WL_Thickness': 200.0}, {'Slope Angle': '22', 'HS': 750.0, 'Profile Depth': 750.0, 'Pit Near Avalanche Location': 'other', 'WL_Depth': 250.0, 'WL_Thickness': 60.0}, {'Slope Angle': '35', 'HS': 3120.0, 'Profile Depth': 3120.0, 'Pit Near Avalanche Location': 'other', 'WL_Depth': 420.0, 'WL_Thickness': 60.0}, {'Slope Angle': '35', 'HS': 2520.0, 'Profile Depth': 2520.0, 'Pit Near Avalanche Location': 'crown', 'WL_Depth': 1010.0, 'WL_Thickness': 10.0}, {'Slope Angle': '38', 'HS': 1640.0, 'Profile Depth': 1640.0, 'Pit Near Avalanche Location': 'crown', 'WL_Depth': 1020.0, 'WL_Thickness': 60.0}, {'Slope Angle': '11', 'HS': 1600.0, 'Profile Depth': 1400.0, 'Pit Near Avalanche Location': 'other', 'WL_Depth': 660.0, 'WL_Thickness': 6.0}, {'Slope Angle': '34', 'HS': None, 'Profile Depth': 930.0, 'Pit Near Avalanche Location': 'flank', 'WL_Depth': 570.0, 'WL_Thickness': 120.0}, {'Slope Angle': '35', 'HS': 3000.0, 'Profile Depth': 800.0, 'Pit Near Avalanche Location': 'flank', 'WL_Depth': 600.0, 'WL_Thickness': 50.0}, {'Slope Angle': '35', 'HS': None, 'Profile Depth': 2130.0, 'Pit Near Avalanche Location': 'crown', 'WL_Depth': 2100.0, 'WL_Thickness': 30.0}, {'Slope Angle': '38', 'HS': 750.0, 'Profile Depth': 750.0, 'Pit Near Avalanche Location': 'flank', 'WL_Depth': 420.0, 'WL_Thickness': 10.0}, {'Slope Angle': '30', 'HS': 3200.0, 'Profile Depth': 780.0, 'Pit Near Avalanche Location': 'crown', 'WL_Depth': 430.0, 'WL_Thickness': 30.0}, {'Slope Angle': '32', 'HS': 1000.0, 'Profile Depth': 1000.0, 'Pit Near Avalanche Location': 'crown', 'WL_Depth': 480.0, 'WL_Thickness': 110.0}, {'Slope Angle': '40', 'HS': 1840.0, 'Profile Depth': 1840.0, 'Pit Near Avalanche Location': 'crown', 'WL_Depth': 1430.0, 'WL_Thickness': 410.0}, {'Slope Angle': '37', 'HS': 1370.0, 'Profile Depth': 1370.0, 'Pit Near Avalanche Location': 'crown', 'WL_Depth': 970.0, 'WL_Thickness': 400.0}, {'Slope Angle': '33', 'HS': 750.0, 'Profile Depth': 750.0, 'Pit Near Avalanche Location': 'flank', 'WL_Depth': 0.0, 'WL_Thickness': 100.0}, {'Slope Angle': '34', 'HS': 1470.0, 'Profile Depth': 1470.0, 'Pit Near Avalanche Location': 'crown', 'WL_Depth': 620.0, 'WL_Thickness': 250.0}, {'Slope Angle': '42', 'HS': 1000.0, 'Profile Depth': 1000.0, 'Pit Near Avalanche Location': 'crown', 'WL_Depth': 590.0, 'WL_Thickness': 10.0}, {'Slope Angle': '35', 'HS': None, 'Profile Depth': 800.0, 'Pit Near Avalanche Location': 'crown', 'WL_Depth': 200.0, 'WL_Thickness': 400.0}, {'Slope Angle': '33', 'HS': 2400.0, 'Profile Depth': 2400.0, 'Pit Near Avalanche Location': 'crown', 'WL_Depth': 710.0, 'WL_Thickness': 50.0}, {'Slope Angle': '20', 'HS': 1410.0, 'Profile Depth': 1410.0, 'Pit Near Avalanche Location': 'crown', 'WL_Depth': 380.0, 'WL_Thickness': 10.0}, {'Slope Angle': '36', 'HS': 2650.0, 'Profile Depth': 2650.0, 'Pit Near Avalanche Location': 'crown', 'WL_Depth': 1180.0, 'WL_Thickness': 50.0}, {'Slope Angle': '35', 'HS': 2450.0, 'Profile Depth': 2450.0, 'Pit Near Avalanche Location': 'crown', 'WL_Depth': 560.0, 'WL_Thickness': 10.0}, {'Slope Angle': '34', 'HS': 850.0, 'Profile Depth': 850.0, 'Pit Near Avalanche Location': 'crown', 'WL_Depth': 550.0, 'WL_Thickness': 60.0}, {'Slope Angle': '32', 'HS': 1600.0, 'Profile Depth': 1600.0, 'Pit Near Avalanche Location': 'crown', 'WL_Depth': 0.0, 'WL_Thickness': 100.0}, {'Slope Angle': '37', 'HS': 2500.0, 'Profile Depth': 2500.0, 'Pit Near Avalanche Location': 'crown', 'WL_Depth': 970.0, 'WL_Thickness': 70.0}, {'Slope Angle': '36', 'HS': 1000.0, 'Profile Depth': 1000.0, 'Pit Near Avalanche Location': None, 'WL_Depth': 450.0, 'WL_Thickness': 100.0}, {'Slope Angle': '38', 'HS': 1360.0, 'Profile Depth': 1360.0, 'Pit Near Avalanche Location': 'crown', 'WL_Depth': 1010.0, 'WL_Thickness': 350.0}, {'Slope Angle': '39', 'HS': 2550.0, 'Profile Depth': 2550.0, 'Pit Near Avalanche Location': 'crown', 'WL_Depth': 540.0, 'WL_Thickness': 10.0}, {'Slope Angle': '43', 'HS': 2140.0, 'Profile Depth': 2140.0, 'Pit Near Avalanche Location': 'crown', 'WL_Depth': 190.0, 'WL_Thickness': 100.0}, {'Slope Angle': '18', 'HS': 1250.0, 'Profile Depth': 1250.0, 'Pit Near Avalanche Location': 'other', 'WL_Depth': 1000.0, 'WL_Thickness': 250.0}, {'Slope Angle': '34', 'HS': 1050.0, 'Profile Depth': 1050.0, 'Pit Near Avalanche Location': 'flank', 'WL_Depth': 700.0, 'WL_Thickness': 60.0}, {'Slope Angle': '42', 'HS': 780.0, 'Profile Depth': 780.0, 'Pit Near Avalanche Location': 'crown', 'WL_Depth': 480.0, 'WL_Thickness': 300.0}, {'Slope Angle': '40', 'HS': 700.0, 'Profile Depth': 700.0, 'Pit Near Avalanche Location': 'crown', 'WL_Depth': 520.0, 'WL_Thickness': 180.0}, {'Slope Angle': '35', 'HS': 650.0, 'Profile Depth': 650.0, 'Pit Near Avalanche Location': None, 'WL_Depth': 500.0, 'WL_Thickness': 150.0}, {'Slope Angle': '25', 'HS': 980.0, 'Profile Depth': 980.0, 'Pit Near Avalanche Location': 'flank', 'WL_Depth': 220.0, 'WL_Thickness': 50.0}, {'Slope Angle': '35', 'HS': 1850.0, 'Profile Depth': 1850.0, 'Pit Near Avalanche Location': 'flank', 'WL_Depth': 70.0, 'WL_Thickness': 110.0}, {'Slope Angle': '25', 'HS': 1000.0, 'Profile Depth': 1000.0, 'Pit Near Avalanche Location': 'flank', 'WL_Depth': 400.0, 'WL_Thickness': 20.0}, {'Slope Angle': '30', 'HS': 3340.0, 'Profile Depth': 3340.0, 'Pit Near Avalanche Location': 'flank', 'WL_Depth': 40.0, 'WL_Thickness': 600.0}, {'Slope Angle': 0.0, 'HS': 650.0, 'Profile Depth': 650.0, 'Pit Near Avalanche Location': 'other', 'WL_Depth': 370.0, 'WL_Thickness': 180.0}, {'Slope Angle': '42', 'HS': 1150.0, 'Profile Depth': 1150.0, 'Pit Near Avalanche Location': None, 'WL_Depth': 450.0, 'WL_Thickness': 10.0}, {'Slope Angle': '47', 'HS': 3000.0, 'Profile Depth': 1600.0, 'Pit Near Avalanche Location': 'crown', 'WL_Depth': 10.0, 'WL_Thickness': 60.0}, {'Slope Angle': 0.0, 'HS': 900.0, 'Profile Depth': 900.0, 'Pit Near Avalanche Location': 'crown', 'WL_Depth': 530.0, 'WL_Thickness': 170.0}, {'Slope Angle': '33', 'HS': 820.0, 'Profile Depth': 820.0, 'Pit Near Avalanche Location': 'crown', 'WL_Depth': 550.0, 'WL_Thickness': 10.0}, {'Slope Angle': '25', 'HS': 1710.0, 'Profile Depth': 1710.0, 'Pit Near Avalanche Location': 'other', 'WL_Depth': 460.0, 'WL_Thickness': 30.0}, {'Slope Angle': '30', 'HS': 2520.0, 'Profile Depth': 2520.0, 'Pit Near Avalanche Location': 'flank', 'WL_Depth': 280.0, 'WL_Thickness': 770.0}, {'Slope Angle': 0.0, 'HS': 1840.0, 'Profile Depth': 1840.0, 'Pit Near Avalanche Location': 'crown', 'WL_Depth': 380.0, 'WL_Thickness': 450.0}, {'Slope Angle': '37', 'HS': 1160.0, 'Profile Depth': 1160.0, 'Pit Near Avalanche Location': 'crown', 'WL_Depth': 555.0, 'WL_Thickness': 15.0}, {'Slope Angle': '34', 'HS': 2150.0, 'Profile Depth': 2150.0, 'Pit Near Avalanche Location': 'crown', 'WL_Depth': 1820.0, 'WL_Thickness': 330.0}, {'Slope Angle': '40', 'HS': 1080.0, 'Profile Depth': 1080.0, 'Pit Near Avalanche Location': 'crown', 'WL_Depth': 400.0, 'WL_Thickness': 270.0}, {'Slope Angle': '29', 'HS': 1300.0, 'Profile Depth': 1300.0, 'Pit Near Avalanche Location': 'flank', 'WL_Depth': 660.0, 'WL_Thickness': 40.0}, {'Slope Angle': '42', 'HS': 3150.0, 'Profile Depth': 3150.0, 'Pit Near Avalanche Location': 'crown', 'WL_Depth': 1450.0, 'WL_Thickness': 20.0}, {'Slope Angle': '40', 'HS': 1100.0, 'Profile Depth': 1100.0, 'Pit Near Avalanche Location': 'crown', 'WL_Depth': 690.0, 'WL_Thickness': 10.0}, {'Slope Angle': '33', 'HS': 1340.0, 'Profile Depth': 1340.0, 'Pit Near Avalanche Location': 'flank', 'WL_Depth': 820.0, 'WL_Thickness': 250.0}, {'Slope Angle': '28', 'HS': 1050.0, 'Profile Depth': 1050.0, 'Pit Near Avalanche Location': 'other', 'WL_Depth': 350.0, 'WL_Thickness': 10.0}, {'Slope Angle': '35', 'HS': 1400.0, 'Profile Depth': 1400.0, 'Pit Near Avalanche Location': 'crown', 'WL_Depth': 570.0, 'WL_Thickness': 60.0}, {'Slope Angle': '20', 'HS': 1900.0, 'Profile Depth': 1900.0, 'Pit Near Avalanche Location': 'crown', 'WL_Depth': 0.0, 'WL_Thickness': 300.0}, {'Slope Angle': '30', 'HS': 2850.0, 'Profile Depth': 1350.0, 'Pit Near Avalanche Location': 'flank', 'WL_Depth': 550.0, 'WL_Thickness': 250.0}, {'Slope Angle': '35', 'HS': 1700.0, 'Profile Depth': 1214.0, 'Pit Near Avalanche Location': 'flank', 'WL_Depth': 450.0, 'WL_Thickness': 18.0}, {'Slope Angle': '38', 'HS': 2550.0, 'Profile Depth': 2550.0, 'Pit Near Avalanche Location': 'flank', 'WL_Depth': 1050.0, 'WL_Thickness': 10.0}, {'Slope Angle': '15', 'HS': None, 'Profile Depth': 1000.0, 'Pit Near Avalanche Location': None, 'WL_Depth': 380.0, 'WL_Thickness': 10.0}, {'Slope Angle': '30', 'HS': 620.0, 'Profile Depth': 620.0, 'Pit Near Avalanche Location': 'crown', 'WL_Depth': 420.0, 'WL_Thickness': 200.0}, {'Slope Angle': '32', 'HS': 1650.0, 'Profile Depth': 1200.0, 'Pit Near Avalanche Location': 'other', 'WL_Depth': 250.0, 'WL_Thickness': 200.0}, {'Slope Angle': '23', 'HS': 3100.0, 'Profile Depth': 1400.0, 'Pit Near Avalanche Location': 'other', 'WL_Depth': 400.0, 'WL_Thickness': 100.0}, {'Slope Angle': 0.0, 'HS': 3400.0, 'Profile Depth': 3400.0, 'Pit Near Avalanche Location': 'other', 'WL_Depth': 1700.0, 'WL_Thickness': 20.0}, {'Slope Angle': '30', 'HS': 1030.0, 'Profile Depth': 1030.0, 'Pit Near Avalanche Location': None, 'WL_Depth': 590.0, 'WL_Thickness': 40.0}, {'Slope Angle': '34', 'HS': 1090.0, 'Profile Depth': 1090.0, 'Pit Near Avalanche Location': 'flank', 'WL_Depth': 280.0, 'WL_Thickness': 210.0}, {'Slope Angle': '29', 'HS': 1800.0, 'Profile Depth': 1800.0, 'Pit Near Avalanche Location': 'crown', 'WL_Depth': 120.0, 'WL_Thickness': 130.0}, {'Slope Angle': 0.0, 'HS': 2900.0, 'Profile Depth': 2900.0, 'Pit Near Avalanche Location': 'flank', 'WL_Depth': 700.0, 'WL_Thickness': 350.0}, {'Slope Angle': '38', 'HS': 1250.0, 'Profile Depth': 1250.0, 'Pit Near Avalanche Location': 'crown', 'WL_Depth': 390.0, 'WL_Thickness': 20.0}, {'Slope Angle': '32', 'HS': 1230.0, 'Profile Depth': 1230.0, 'Pit Near Avalanche Location': 'flank', 'WL_Depth': 60.0, 'WL_Thickness': 620.0}, {'Slope Angle': '35', 'HS': 1040.0, 'Profile Depth': 1040.0, 'Pit Near Avalanche Location': 'crown', 'WL_Depth': 770.0, 'WL_Thickness': 30.0}, {'Slope Angle': '39', 'HS': 870.0, 'Profile Depth': 870.0, 'Pit Near Avalanche Location': 'crown', 'WL_Depth': 500.0, 'WL_Thickness': 170.0}, {'Slope Angle': '41', 'HS': 2050.0, 'Profile Depth': 2050.0, 'Pit Near Avalanche Location': 'crown', 'WL_Depth': 340.0, 'WL_Thickness': 10.0}, {'Slope Angle': '40', 'HS': 1300.0, 'Profile Depth': 1300.0, 'Pit Near Avalanche Location': 'crown', 'WL_Depth': 490.0, 'WL_Thickness': 10.0}, {'Slope Angle': '36', 'HS': 1940.0, 'Profile Depth': 1940.0, 'Pit Near Avalanche Location': 'other', 'WL_Depth': 210.0, 'WL_Thickness': 30.0}, {'Slope Angle': '20', 'HS': 600.0, 'Profile Depth': 600.0, 'Pit Near Avalanche Location': 'crown', 'WL_Depth': 120.0, 'WL_Thickness': 30.0}, {'Slope Angle': '40', 'HS': 3550.0, 'Profile Depth': 1350.0, 'Pit Near Avalanche Location': 'crown', 'WL_Depth': 1100.0, 'WL_Thickness': 170.0}, {'Slope Angle': '33', 'HS': 1420.0, 'Profile Depth': 1420.0, 'Pit Near Avalanche Location': 'crown', 'WL_Depth': 1040.0, 'WL_Thickness': 30.0}, {'Slope Angle': '41', 'HS': 2450.0, 'Profile Depth': 1420.0, 'Pit Near Avalanche Location': 'crown', 'WL_Depth': 780.0, 'WL_Thickness': 20.0}, {'Slope Angle': '38', 'HS': 2900.0, 'Profile Depth': 1430.0, 'Pit Near Avalanche Location': 'crown', 'WL_Depth': 470.0, 'WL_Thickness': 10.0}, {'Slope Angle': '37', 'HS': 1850.0, 'Profile Depth': 1850.0, 'Pit Near Avalanche Location': 'crown', 'WL_Depth': 1160.0, 'WL_Thickness': 20.0}, {'Slope Angle': '38', 'HS': 1200.0, 'Profile Depth': 1200.0, 'Pit Near Avalanche Location': 'crown', 'WL_Depth': 700.0, 'WL_Thickness': 130.0}, {'Slope Angle': '25', 'HS': 900.0, 'Profile Depth': 900.0, 'Pit Near Avalanche Location': 'crown', 'WL_Depth': 220.0, 'WL_Thickness': 40.0}, {'Slope Angle': '40', 'HS': 1930.0, 'Profile Depth': 1930.0, 'Pit Near Avalanche Location': 'crown', 'WL_Depth': 710.0, 'WL_Thickness': 10.0}, {'Slope Angle': '23', 'HS': 5450.0, 'Profile Depth': 2400.0, 'Pit Near Avalanche Location': 'other', 'WL_Depth': 1250.0, 'WL_Thickness': 20.0}, {'Slope Angle': '23', 'HS': 2450.0, 'Profile Depth': 1450.0, 'Pit Near Avalanche Location': 'other', 'WL_Depth': 400.0, 'WL_Thickness': 210.0}, {'Slope Angle': '36', 'HS': 1400.0, 'Profile Depth': 1400.0, 'Pit Near Avalanche Location': 'crown', 'WL_Depth': 750.0, 'WL_Thickness': 20.0}, {'Slope Angle': '30', 'HS': 600.0, 'Profile Depth': 600.0, 'Pit Near Avalanche Location': 'flank', 'WL_Depth': 400.0, 'WL_Thickness': 200.0}, {'Slope Angle': '17', 'HS': 1400.0, 'Profile Depth': 1400.0, 'Pit Near Avalanche Location': 'other', 'WL_Depth': 1250.0, 'WL_Thickness': 150.0}, {'Slope Angle': '30', 'HS': 1220.0, 'Profile Depth': 1220.0, 'Pit Near Avalanche Location': 'flank', 'WL_Depth': 220.0, 'WL_Thickness': 50.0}, {'Slope Angle': '25', 'HS': 850.0, 'Profile Depth': 850.0, 'Pit Near Avalanche Location': 'flank', 'WL_Depth': 450.0, 'WL_Thickness': 20.0}, {'Slope Angle': 0.0, 'HS': 1300.0, 'Profile Depth': 1300.0, 'Pit Near Avalanche Location': 'crown', 'WL_Depth': 450.0, 'WL_Thickness': 20.0}, {'Slope Angle': '35', 'HS': None, 'Profile Depth': 1320.0, 'Pit Near Avalanche Location': 'crown', 'WL_Depth': 1200.0, 'WL_Thickness': 20.0}, {'Slope Angle': '41', 'HS': 2450.0, 'Profile Depth': 1420.0, 'Pit Near Avalanche Location': 'crown', 'WL_Depth': 780.0, 'WL_Thickness': 20.0}, {'Slope Angle': '38', 'HS': 900.0, 'Profile Depth': 900.0, 'Pit Near Avalanche Location': 'flank', 'WL_Depth': 530.0, 'WL_Thickness': 70.0}, {'Slope Angle': '25', 'HS': None, 'Profile Depth': 800.0, 'Pit Near Avalanche Location': 'crown', 'WL_Depth': 400.0, 'WL_Thickness': 100.0}, {'Slope Angle': '35', 'HS': 1100.0, 'Profile Depth': 1100.0, 'Pit Near Avalanche Location': None, 'WL_Depth': 800.0, 'WL_Thickness': 20.0}, {'Slope Angle': '35', 'HS': 1680.0, 'Profile Depth': 1250.0, 'Pit Near Avalanche Location': 'flank', 'WL_Depth': 510.0, 'WL_Thickness': 50.0}, {'Slope Angle': '33', 'HS': 2000.0, 'Profile Depth': 2000.0, 'Pit Near Avalanche Location': 'flank', 'WL_Depth': 200.0, 'WL_Thickness': 250.0}, {'Slope Angle': '22', 'HS': None, 'Profile Depth': 650.0, 'Pit Near Avalanche Location': 'flank', 'WL_Depth': 270.0, 'WL_Thickness': 10.0}, {'Slope Angle': '30', 'HS': 1640.0, 'Profile Depth': 1000.0, 'Pit Near Avalanche Location': 'crown', 'WL_Depth': 480.0, 'WL_Thickness': 5.0}, {'Slope Angle': '40', 'HS': 1450.0, 'Profile Depth': 1450.0, 'Pit Near Avalanche Location': 'crown', 'WL_Depth': 500.0, 'WL_Thickness': 400.0}, {'Slope Angle': '32', 'HS': 1040.0, 'Profile Depth': 1040.0, 'Pit Near Avalanche Location': 'crown', 'WL_Depth': 760.0, 'WL_Thickness': 20.0}, {'Slope Angle': 0.0, 'HS': 1300.0, 'Profile Depth': 1300.0, 'Pit Near Avalanche Location': 'other', 'WL_Depth': 950.0, 'WL_Thickness': 230.0}, {'Slope Angle': '46', 'HS': 3550.0, 'Profile Depth': 2000.0, 'Pit Near Avalanche Location': 'crown', 'WL_Depth': 1190.0, 'WL_Thickness': 240.0}, {'Slope Angle': '22', 'HS': 1700.0, 'Profile Depth': 1200.0, 'Pit Near Avalanche Location': 'flank', 'WL_Depth': 90.0, 'WL_Thickness': 10.0}, {'Slope Angle': '27', 'HS': 2370.0, 'Profile Depth': 2370.0, 'Pit Near Avalanche Location': 'flank', 'WL_Depth': 2120.0, 'WL_Thickness': 250.0}, {'Slope Angle': '38', 'HS': 1170.0, 'Profile Depth': 1170.0, 'Pit Near Avalanche Location': 'flank', 'WL_Depth': 540.0, 'WL_Thickness': 30.0}, {'Slope Angle': '35', 'HS': 1300.0, 'Profile Depth': 1300.0, 'Pit Near Avalanche Location': 'crown', 'WL_Depth': 450.0, 'WL_Thickness': 50.0}, {'Slope Angle': '38', 'HS': 3380.0, 'Profile Depth': 3380.0, 'Pit Near Avalanche Location': 'crown', 'WL_Depth': 930.0, 'WL_Thickness': 10.0}, {'Slope Angle': '34', 'HS': 700.0, 'Profile Depth': 700.0, 'Pit Near Avalanche Location': 'other', 'WL_Depth': 220.0, 'WL_Thickness': 100.0}, {'Slope Angle': '30', 'HS': 490.0, 'Profile Depth': 490.0, 'Pit Near Avalanche Location': 'other', 'WL_Depth': 0.0, 'WL_Thickness': 30.0}, {'Slope Angle': '40', 'HS': 750.0, 'Profile Depth': 750.0, 'Pit Near Avalanche Location': 'crown', 'WL_Depth': 600.0, 'WL_Thickness': 10.0}, {'Slope Angle': 0.0, 'HS': 920.0, 'Profile Depth': 920.0, 'Pit Near Avalanche Location': 'flank', 'WL_Depth': 440.0, 'WL_Thickness': 30.0}, {'Slope Angle': '28', 'HS': 2600.0, 'Profile Depth': 2000.0, 'Pit Near Avalanche Location': 'crown', 'WL_Depth': 870.0, 'WL_Thickness': 1110.0}, {'Slope Angle': '35', 'HS': None, 'Profile Depth': 3500.0, 'Pit Near Avalanche Location': 'crown', 'WL_Depth': 200.0, 'WL_Thickness': 60.0}, {'Slope Angle': '37', 'HS': 800.0, 'Profile Depth': 800.0, 'Pit Near Avalanche Location': 'crown', 'WL_Depth': 580.0, 'WL_Thickness': 40.0}, {'Slope Angle': '39', 'HS': 1010.0, 'Profile Depth': 1010.0, 'Pit Near Avalanche Location': 'crown', 'WL_Depth': 570.0, 'WL_Thickness': 120.0}, {'Slope Angle': '26', 'HS': 1400.0, 'Profile Depth': 1400.0, 'Pit Near Avalanche Location': 'crown', 'WL_Depth': 840.0, 'WL_Thickness': 80.0}, {'Slope Angle': '37', 'HS': 960.0, 'Profile Depth': 960.0, 'Pit Near Avalanche Location': 'other', 'WL_Depth': 810.0, 'WL_Thickness': 150.0}, {'Slope Angle': '30', 'HS': 1300.0, 'Profile Depth': 1300.0, 'Pit Near Avalanche Location': 'flank', 'WL_Depth': 920.0, 'WL_Thickness': 100.0}, {'Slope Angle': '30', 'HS': 660.0, 'Profile Depth': 660.0, 'Pit Near Avalanche Location': 'flank', 'WL_Depth': 160.0, 'WL_Thickness': 210.0}, {'Slope Angle': '35', 'HS': 1100.0, 'Profile Depth': 1100.0, 'Pit Near Avalanche Location': 'flank', 'WL_Depth': 880.0, 'WL_Thickness': 120.0}, {'Slope Angle': '38', 'HS': 1700.0, 'Profile Depth': 1700.0, 'Pit Near Avalanche Location': 'crown', 'WL_Depth': 730.0, 'WL_Thickness': 140.0}, {'Slope Angle': '34', 'HS': 1310.0, 'Profile Depth': 1310.0, 'Pit Near Avalanche Location': 'other', 'WL_Depth': 570.0, 'WL_Thickness': 10.0}, {'Slope Angle': '23', 'HS': 1900.0, 'Profile Depth': 1900.0, 'Pit Near Avalanche Location': 'crown', 'WL_Depth': 800.0, 'WL_Thickness': 300.0}, {'Slope Angle': '20', 'HS': 1650.0, 'Profile Depth': 1000.0, 'Pit Near Avalanche Location': 'crown', 'WL_Depth': 410.0, 'WL_Thickness': 60.0}, {'Slope Angle': '42', 'HS': 1240.0, 'Profile Depth': 1240.0, 'Pit Near Avalanche Location': 'crown', 'WL_Depth': 1030.0, 'WL_Thickness': 60.0}, {'Slope Angle': '38', 'HS': 1800.0, 'Profile Depth': 1800.0, 'Pit Near Avalanche Location': 'flank', 'WL_Depth': 150.0, 'WL_Thickness': 20.0}, {'Slope Angle': '30', 'HS': 3000.0, 'Profile Depth': 1200.0, 'Pit Near Avalanche Location': None, 'WL_Depth': 250.0, 'WL_Thickness': 10.0}, {'Slope Angle': 0.0, 'HS': 1400.0, 'Profile Depth': 1400.0, 'Pit Near Avalanche Location': 'crown', 'WL_Depth': 700.0, 'WL_Thickness': 30.0}, {'Slope Angle': '38', 'HS': 1350.0, 'Profile Depth': 1350.0, 'Pit Near Avalanche Location': 'crown', 'WL_Depth': 650.0, 'WL_Thickness': 100.0}, {'Slope Angle': '31', 'HS': 1420.0, 'Profile Depth': 1420.0, 'Pit Near Avalanche Location': 'other', 'WL_Depth': 440.0, 'WL_Thickness': 500.0}, {'Slope Angle': '38', 'HS': 3800.0, 'Profile Depth': 3800.0, 'Pit Near Avalanche Location': 'crown', 'WL_Depth': 1050.0, 'WL_Thickness': 50.0}, {'Slope Angle': '34', 'HS': None, 'Profile Depth': 780.0, 'Pit Near Avalanche Location': 'crown', 'WL_Depth': 440.0, 'WL_Thickness': 90.0}, {'Slope Angle': '35', 'HS': 1980.0, 'Profile Depth': 1980.0, 'Pit Near Avalanche Location': 'crown', 'WL_Depth': 760.0, 'WL_Thickness': 30.0}, {'Slope Angle': '42', 'HS': 2200.0, 'Profile Depth': 2200.0, 'Pit Near Avalanche Location': 'crown', 'WL_Depth': 1050.0, 'WL_Thickness': 10.0}, {'Slope Angle': '40', 'HS': 1450.0, 'Profile Depth': 1450.0, 'Pit Near Avalanche Location': 'crown', 'WL_Depth': 540.0, 'WL_Thickness': 10.0}, {'Slope Angle': '30', 'HS': 460.0, 'Profile Depth': 460.0, 'Pit Near Avalanche Location': 'crown', 'WL_Depth': 280.0, 'WL_Thickness': 160.0}, {'Slope Angle': '20', 'HS': 1120.0, 'Profile Depth': 1120.0, 'Pit Near Avalanche Location': 'crown', 'WL_Depth': 440.0, 'WL_Thickness': 10.0}, {'Slope Angle': '33', 'HS': 2700.0, 'Profile Depth': 2700.0, 'Pit Near Avalanche Location': 'crown', 'WL_Depth': 590.0, 'WL_Thickness': 370.0}, {'Slope Angle': '37', 'HS': 2350.0, 'Profile Depth': 2350.0, 'Pit Near Avalanche Location': 'flank', 'WL_Depth': 880.0, 'WL_Thickness': 50.0}, {'Slope Angle': '26', 'HS': 1850.0, 'Profile Depth': 1850.0, 'Pit Near Avalanche Location': 'flank', 'WL_Depth': 1260.0, 'WL_Thickness': 70.0}, {'Slope Angle': '37', 'HS': 1370.0, 'Profile Depth': 1370.0, 'Pit Near Avalanche Location': 'crown', 'WL_Depth': 320.0, 'WL_Thickness': 10.0}, {'Slope Angle': '30', 'HS': 400.0, 'Profile Depth': 400.0, 'Pit Near Avalanche Location': 'crown', 'WL_Depth': 230.0, 'WL_Thickness': 170.0}, {'Slope Angle': '35', 'HS': 2350.0, 'Profile Depth': 1000.0, 'Pit Near Avalanche Location': 'crown', 'WL_Depth': 700.0, 'WL_Thickness': 30.0}, {'Slope Angle': '31', 'HS': 1520.0, 'Profile Depth': 1520.0, 'Pit Near Avalanche Location': 'other', 'WL_Depth': 910.0, 'WL_Thickness': 150.0}, {'Slope Angle': '30', 'HS': 2400.0, 'Profile Depth': 2400.0, 'Pit Near Avalanche Location': 'flank', 'WL_Depth': 50.0, 'WL_Thickness': 150.0}, {'Slope Angle': '40', 'HS': 1020.0, 'Profile Depth': 1020.0, 'Pit Near Avalanche Location': 'crown', 'WL_Depth': 450.0, 'WL_Thickness': 20.0}, {'Slope Angle': '34', 'HS': 1800.0, 'Profile Depth': 1800.0, 'Pit Near Avalanche Location': 'flank', 'WL_Depth': 250.0, 'WL_Thickness': 20.0}, {'Slope Angle': '32', 'HS': 900.0, 'Profile Depth': 900.0, 'Pit Near Avalanche Location': 'crown', 'WL_Depth': 600.0, 'WL_Thickness': 10.0}, {'Slope Angle': '28', 'HS': 2620.0, 'Profile Depth': 2600.0, 'Pit Near Avalanche Location': 'crown', 'WL_Depth': 890.0, 'WL_Thickness': 100.0}, {'Slope Angle': '34', 'HS': 1510.0, 'Profile Depth': 1510.0, 'Pit Near Avalanche Location': 'other', 'WL_Depth': 560.0, 'WL_Thickness': 80.0}, {'Slope Angle': '35', 'HS': 1700.0, 'Profile Depth': 1700.0, 'Pit Near Avalanche Location': 'flank', 'WL_Depth': 1120.0, 'WL_Thickness': 92.0}, {'Slope Angle': '39', 'HS': 1230.0, 'Profile Depth': 1230.0, 'Pit Near Avalanche Location': 'flank', 'WL_Depth': 540.0, 'WL_Thickness': 20.0}, {'Slope Angle': '31', 'HS': 890.0, 'Profile Depth': 890.0, 'Pit Near Avalanche Location': 'crown', 'WL_Depth': 390.0, 'WL_Thickness': 20.0}, {'Slope Angle': '38', 'HS': 1190.0, 'Profile Depth': 1190.0, 'Pit Near Avalanche Location': 'crown', 'WL_Depth': 540.0, 'WL_Thickness': 30.0}, {'Slope Angle': '35', 'HS': 1570.0, 'Profile Depth': 1570.0, 'Pit Near Avalanche Location': 'crown', 'WL_Depth': 275.0, 'WL_Thickness': 5.0}, {'Slope Angle': '30', 'HS': 4500.0, 'Profile Depth': 1242.0, 'Pit Near Avalanche Location': None, 'WL_Depth': 698.0, 'WL_Thickness': 24.0}, {'Slope Angle': '38', 'HS': 2200.0, 'Profile Depth': 800.0, 'Pit Near Avalanche Location': 'crown', 'WL_Depth': 280.0, 'WL_Thickness': 20.0}, {'Slope Angle': '39', 'HS': 1070.0, 'Profile Depth': 1070.0, 'Pit Near Avalanche Location': 'crown', 'WL_Depth': 420.0, 'WL_Thickness': 30.0}, {'Slope Angle': '22', 'HS': 1250.0, 'Profile Depth': 1250.0, 'Pit Near Avalanche Location': 'flank', 'WL_Depth': 650.0, 'WL_Thickness': 200.0}, {'Slope Angle': '40', 'HS': 1600.0, 'Profile Depth': 1600.0, 'Pit Near Avalanche Location': 'crown', 'WL_Depth': 440.0, 'WL_Thickness': 20.0}, {'Slope Angle': '15', 'HS': 850.0, 'Profile Depth': 850.0, 'Pit Near Avalanche Location': 'other', 'WL_Depth': 450.0, 'WL_Thickness': 230.0}, {'Slope Angle': '20', 'HS': 1200.0, 'Profile Depth': 1200.0, 'Pit Near Avalanche Location': 'crown', 'WL_Depth': 150.0, 'WL_Thickness': 190.0}, {'Slope Angle': '45', 'HS': 1350.0, 'Profile Depth': 1350.0, 'Pit Near Avalanche Location': 'other', 'WL_Depth': 450.0, 'WL_Thickness': 10.0}, {'Slope Angle': '38', 'HS': 1230.0, 'Profile Depth': 1230.0, 'Pit Near Avalanche Location': 'crown', 'WL_Depth': 610.0, 'WL_Thickness': 20.0}, {'Slope Angle': '28', 'HS': 1930.0, 'Profile Depth': 1930.0, 'Pit Near Avalanche Location': None, 'WL_Depth': 1050.0, 'WL_Thickness': 230.0}, {'Slope Angle': '45', 'HS': 1450.0, 'Profile Depth': 1450.0, 'Pit Near Avalanche Location': 'crown', 'WL_Depth': 870.0, 'WL_Thickness': 10.0}, {'Slope Angle': '21', 'HS': 1780.0, 'Profile Depth': 1080.0, 'Pit Near Avalanche Location': 'crown', 'WL_Depth': 1050.0, 'WL_Thickness': 30.0}, {'Slope Angle': '30', 'HS': 750.0, 'Profile Depth': 750.0, 'Pit Near Avalanche Location': 'flank', 'WL_Depth': 410.0, 'WL_Thickness': 20.0}, {'Slope Angle': '30', 'HS': 800.0, 'Profile Depth': 800.0, 'Pit Near Avalanche Location': 'flank', 'WL_Depth': 440.0, 'WL_Thickness': 10.0}, {'Slope Angle': 0.0, 'HS': 2450.0, 'Profile Depth': 2450.0, 'Pit Near Avalanche Location': 'crown', 'WL_Depth': 1300.0, 'WL_Thickness': 20.0}, {'Slope Angle': '39', 'HS': 1710.0, 'Profile Depth': 1710.0, 'Pit Near Avalanche Location': 'crown', 'WL_Depth': 1140.0, 'WL_Thickness': 20.0}, {'Slope Angle': '32', 'HS': 4000.0, 'Profile Depth': 1100.0, 'Pit Near Avalanche Location': 'other', 'WL_Depth': 200.0, 'WL_Thickness': 50.0}, {'Slope Angle': '38', 'HS': 1300.0, 'Profile Depth': 1300.0, 'Pit Near Avalanche Location': 'crown', 'WL_Depth': 470.0, 'WL_Thickness': 10.0}, {'Slope Angle': '29', 'HS': 1250.0, 'Profile Depth': 1250.0, 'Pit Near Avalanche Location': 'other', 'WL_Depth': 900.0, 'WL_Thickness': 70.0}, {'Slope Angle': '35', 'HS': 1150.0, 'Profile Depth': 1150.0, 'Pit Near Avalanche Location': 'crown', 'WL_Depth': 650.0, 'WL_Thickness': 150.0}, {'Slope Angle': '40', 'HS': 4350.0, 'Profile Depth': 1400.0, 'Pit Near Avalanche Location': 'crown', 'WL_Depth': 600.0, 'WL_Thickness': 30.0}, {'Slope Angle': '31', 'HS': 1600.0, 'Profile Depth': 1600.0, 'Pit Near Avalanche Location': 'flank', 'WL_Depth': 320.0, 'WL_Thickness': 20.0}, {'Slope Angle': '34', 'HS': 920.0, 'Profile Depth': 920.0, 'Pit Near Avalanche Location': 'crown', 'WL_Depth': 500.0, 'WL_Thickness': 20.0}, {'Slope Angle': '38', 'HS': 1800.0, 'Profile Depth': 1800.0, 'Pit Near Avalanche Location': 'flank', 'WL_Depth': 1570.0, 'WL_Thickness': 230.0}, {'Slope Angle': '35', 'HS': 3250.0, 'Profile Depth': 3250.0, 'Pit Near Avalanche Location': 'crown', 'WL_Depth': 2650.0, 'WL_Thickness': 20.0}, {'Slope Angle': '24', 'HS': 1750.0, 'Profile Depth': 1750.0, 'Pit Near Avalanche Location': 'other', 'WL_Depth': 880.0, 'WL_Thickness': 70.0}, {'Slope Angle': '40', 'HS': 1700.0, 'Profile Depth': 550.0, 'Pit Near Avalanche Location': 'flank', 'WL_Depth': 450.0, 'WL_Thickness': 50.0}, {'Slope Angle': '30', 'HS': None, 'Profile Depth': 1600.0, 'Pit Near Avalanche Location': 'crown', 'WL_Depth': 400.0, 'WL_Thickness': 50.0}, {'Slope Angle': '33', 'HS': 1510.0, 'Profile Depth': 1510.0, 'Pit Near Avalanche Location': 'crown', 'WL_Depth': 1070.0, 'WL_Thickness': 290.0}, {'Slope Angle': '30', 'HS': 1540.0, 'Profile Depth': 1540.0, 'Pit Near Avalanche Location': 'flank', 'WL_Depth': 640.0, 'WL_Thickness': 400.0}, {'Slope Angle': '35', 'HS': 2180.0, 'Profile Depth': 2180.0, 'Pit Near Avalanche Location': 'flank', 'WL_Depth': 930.0, 'WL_Thickness': 10.0}, {'Slope Angle': '35', 'HS': 3200.0, 'Profile Depth': 1250.0, 'Pit Near Avalanche Location': 'crown', 'WL_Depth': 800.0, 'WL_Thickness': 10.0}, {'Slope Angle': '25', 'HS': 3500.0, 'Profile Depth': 900.0, 'Pit Near Avalanche Location': 'crown', 'WL_Depth': 380.0, 'WL_Thickness': 140.0}, {'Slope Angle': '18', 'HS': 700.0, 'Profile Depth': 700.0, 'Pit Near Avalanche Location': 'crown', 'WL_Depth': 450.0, 'WL_Thickness': 40.0}, {'Slope Angle': '45', 'HS': 2100.0, 'Profile Depth': 2100.0, 'Pit Near Avalanche Location': 'crown', 'WL_Depth': 690.0, 'WL_Thickness': 100.0}, {'Slope Angle': '44', 'HS': 1040.0, 'Profile Depth': 1040.0, 'Pit Near Avalanche Location': 'crown', 'WL_Depth': 410.0, 'WL_Thickness': 200.0}, {'Slope Angle': '34', 'HS': 750.0, 'Profile Depth': 750.0, 'Pit Near Avalanche Location': 'flank', 'WL_Depth': 510.0, 'WL_Thickness': 240.0}, {'Slope Angle': '32', 'HS': 2680.0, 'Profile Depth': 1550.0, 'Pit Near Avalanche Location': 'other', 'WL_Depth': 250.0, 'WL_Thickness': 220.0}, {'Slope Angle': '36', 'HS': 710.0, 'Profile Depth': 710.0, 'Pit Near Avalanche Location': 'crown', 'WL_Depth': 520.0, 'WL_Thickness': 190.0}, {'Slope Angle': '30', 'HS': 750.0, 'Profile Depth': 750.0, 'Pit Near Avalanche Location': 'crown', 'WL_Depth': 460.0, 'WL_Thickness': 40.0}, {'Slope Angle': '25', 'HS': 1200.0, 'Profile Depth': 1200.0, 'Pit Near Avalanche Location': 'flank', 'WL_Depth': 800.0, 'WL_Thickness': 100.0}, {'Slope Angle': '33', 'HS': 1570.0, 'Profile Depth': 1570.0, 'Pit Near Avalanche Location': 'crown', 'WL_Depth': 470.0, 'WL_Thickness': 20.0}, {'Slope Angle': '20', 'HS': 1250.0, 'Profile Depth': 1250.0, 'Pit Near Avalanche Location': 'other', 'WL_Depth': 530.0, 'WL_Thickness': 10.0}, {'Slope Angle': '26', 'HS': 830.0, 'Profile Depth': 830.0, 'Pit Near Avalanche Location': 'flank', 'WL_Depth': 30.0, 'WL_Thickness': 40.0}, {'Slope Angle': '35', 'HS': 960.0, 'Profile Depth': 960.0, 'Pit Near Avalanche Location': 'crown', 'WL_Depth': 480.0, 'WL_Thickness': 90.0}, {'Slope Angle': '34', 'HS': 700.0, 'Profile Depth': 700.0, 'Pit Near Avalanche Location': 'other', 'WL_Depth': 300.0, 'WL_Thickness': 150.0}, {'Slope Angle': '40', 'HS': 1500.0, 'Profile Depth': 1200.0, 'Pit Near Avalanche Location': 'crown', 'WL_Depth': 900.0, 'WL_Thickness': 20.0}, {'Slope Angle': '20', 'HS': 1300.0, 'Profile Depth': 1266.0, 'Pit Near Avalanche Location': None, 'WL_Depth': 698.0, 'WL_Thickness': 106.0}, {'Slope Angle': '38', 'HS': 1160.0, 'Profile Depth': 1160.0, 'Pit Near Avalanche Location': 'crown', 'WL_Depth': 490.0, 'WL_Thickness': 10.0}, {'Slope Angle': '37', 'HS': 1750.0, 'Profile Depth': 1750.0, 'Pit Near Avalanche Location': 'crown', 'WL_Depth': 520.0, 'WL_Thickness': 20.0}, {'Slope Angle': '35', 'HS': 3000.0, 'Profile Depth': 1210.0, 'Pit Near Avalanche Location': 'flank', 'WL_Depth': 242.0, 'WL_Thickness': 30.0}, {'Slope Angle': '25', 'HS': 930.0, 'Profile Depth': 930.0, 'Pit Near Avalanche Location': 'flank', 'WL_Depth': 500.0, 'WL_Thickness': 60.0}, {'Slope Angle': '42', 'HS': 1350.0, 'Profile Depth': 1350.0, 'Pit Near Avalanche Location': 'crown', 'WL_Depth': 650.0, 'WL_Thickness': 10.0}, {'Slope Angle': '40', 'HS': 1540.0, 'Profile Depth': 1540.0, 'Pit Near Avalanche Location': 'crown', 'WL_Depth': 1060.0, 'WL_Thickness': 40.0}, {'Slope Angle': '32', 'HS': 300.0, 'Profile Depth': 300.0, 'Pit Near Avalanche Location': 'flank', 'WL_Depth': 100.0, 'WL_Thickness': 50.0}, {'Slope Angle': '15', 'HS': None, 'Profile Depth': 600.0, 'Pit Near Avalanche Location': 'other', 'WL_Depth': 20.0, 'WL_Thickness': 430.0}, {'Slope Angle': '17', 'HS': 600.0, 'Profile Depth': 600.0, 'Pit Near Avalanche Location': 'flank', 'WL_Depth': 440.0, 'WL_Thickness': 160.0}, {'Slope Angle': '38', 'HS': 1670.0, 'Profile Depth': 1670.0, 'Pit Near Avalanche Location': 'crown', 'WL_Depth': 740.0, 'WL_Thickness': 10.0}, {'Slope Angle': '32', 'HS': 1270.0, 'Profile Depth': 1270.0, 'Pit Near Avalanche Location': 'crown', 'WL_Depth': 660.0, 'WL_Thickness': 10.0}, {'Slope Angle': '33', 'HS': 1790.0, 'Profile Depth': 1790.0, 'Pit Near Avalanche Location': 'crown', 'WL_Depth': 930.0, 'WL_Thickness': 10.0}, {'Slope Angle': '25', 'HS': 1300.0, 'Profile Depth': 1300.0, 'Pit Near Avalanche Location': 'crown', 'WL_Depth': 990.0, 'WL_Thickness': 310.0}, {'Slope Angle': '36', 'HS': 1250.0, 'Profile Depth': 1250.0, 'Pit Near Avalanche Location': 'crown', 'WL_Depth': 790.0, 'WL_Thickness': 30.0}, {'Slope Angle': '31', 'HS': 1450.0, 'Profile Depth': 1450.0, 'Pit Near Avalanche Location': 'crown', 'WL_Depth': 380.0, 'WL_Thickness': 10.0}, {'Slope Angle': '30', 'HS': 2500.0, 'Profile Depth': 2500.0, 'Pit Near Avalanche Location': 'flank', 'WL_Depth': 180.0, 'WL_Thickness': 170.0}, {'Slope Angle': '30', 'HS': 2400.0, 'Profile Depth': 2400.0, 'Pit Near Avalanche Location': 'crown', 'WL_Depth': 700.0, 'WL_Thickness': 10.0}, {'Slope Angle': '35', 'HS': 2270.0, 'Profile Depth': 2270.0, 'Pit Near Avalanche Location': 'flank', 'WL_Depth': 1220.0, 'WL_Thickness': 40.0}, {'Slope Angle': '29', 'HS': 1450.0, 'Profile Depth': 1450.0, 'Pit Near Avalanche Location': 'crown', 'WL_Depth': 710.0, 'WL_Thickness': 30.0}, {'Slope Angle': '32', 'HS': 1400.0, 'Profile Depth': 1400.0, 'Pit Near Avalanche Location': 'crown', 'WL_Depth': 790.0, 'WL_Thickness': 20.0}, {'Slope Angle': '30', 'HS': 1970.0, 'Profile Depth': 1970.0, 'Pit Near Avalanche Location': 'crown', 'WL_Depth': 360.0, 'WL_Thickness': 50.0}, {'Slope Angle': '38', 'HS': 2300.0, 'Profile Depth': 2300.0, 'Pit Near Avalanche Location': 'crown', 'WL_Depth': 730.0, 'WL_Thickness': 10.0}, {'Slope Angle': '38', 'HS': 870.0, 'Profile Depth': 870.0, 'Pit Near Avalanche Location': 'crown', 'WL_Depth': 300.0, 'WL_Thickness': 20.0}, {'Slope Angle': '28', 'HS': 1930.0, 'Profile Depth': 1930.0, 'Pit Near Avalanche Location': 'flank', 'WL_Depth': 1280.0, 'WL_Thickness': 50.0}, {'Slope Angle': '20', 'HS': 2350.0, 'Profile Depth': 2350.0, 'Pit Near Avalanche Location': 'other', 'WL_Depth': 100.0, 'WL_Thickness': 10.0}, {'Slope Angle': '17', 'HS': 1950.0, 'Profile Depth': 1950.0, 'Pit Near Avalanche Location': 'flank', 'WL_Depth': 1150.0, 'WL_Thickness': 800.0}, {'Slope Angle': '37', 'HS': 1110.0, 'Profile Depth': 1110.0, 'Pit Near Avalanche Location': 'crown', 'WL_Depth': 680.0, 'WL_Thickness': 40.0}, {'Slope Angle': '28', 'HS': 1210.0, 'Profile Depth': 1210.0, 'Pit Near Avalanche Location': 'other', 'WL_Depth': 530.0, 'WL_Thickness': 80.0}, {'Slope Angle': '35', 'HS': 900.0, 'Profile Depth': 900.0, 'Pit Near Avalanche Location': 'crown', 'WL_Depth': 720.0, 'WL_Thickness': 180.0}, {'Slope Angle': '35', 'HS': 1360.0, 'Profile Depth': 1360.0, 'Pit Near Avalanche Location': 'flank', 'WL_Depth': 940.0, 'WL_Thickness': 20.0}, {'Slope Angle': '37', 'HS': 1180.0, 'Profile Depth': 1180.0, 'Pit Near Avalanche Location': 'crown', 'WL_Depth': 510.0, 'WL_Thickness': 70.0}, {'Slope Angle': '41', 'HS': None, 'Profile Depth': 2000.0, 'Pit Near Avalanche Location': 'crown', 'WL_Depth': 850.0, 'WL_Thickness': 50.0}, {'Slope Angle': '34', 'HS': 2800.0, 'Profile Depth': 300.0, 'Pit Near Avalanche Location': 'crown', 'WL_Depth': 105.0, 'WL_Thickness': 15.0}, {'Slope Angle': '31', 'HS': 1710.0, 'Profile Depth': 1100.0, 'Pit Near Avalanche Location': 'flank', 'WL_Depth': 300.0, 'WL_Thickness': 110.0}, {'Slope Angle': 0.0, 'HS': 1810.0, 'Profile Depth': 1810.0, 'Pit Near Avalanche Location': 'crown', 'WL_Depth': 690.0, 'WL_Thickness': 20.0}, {'Slope Angle': '30', 'HS': 2300.0, 'Profile Depth': 2300.0, 'Pit Near Avalanche Location': 'flank', 'WL_Depth': 740.0, 'WL_Thickness': 110.0}, {'Slope Angle': '32', 'HS': 2100.0, 'Profile Depth': 734.0, 'Pit Near Avalanche Location': None, 'WL_Depth': 590.0, 'WL_Thickness': 102.0}, {'Slope Angle': '34', 'HS': 2150.0, 'Profile Depth': 2150.0, 'Pit Near Avalanche Location': 'flank', 'WL_Depth': 1200.0, 'WL_Thickness': 80.0}, {'Slope Angle': '5', 'HS': 1100.0, 'Profile Depth': 1100.0, 'Pit Near Avalanche Location': None, 'WL_Depth': 300.0, 'WL_Thickness': 60.0}, {'Slope Angle': '25', 'HS': None, 'Profile Depth': 1000.0, 'Pit Near Avalanche Location': 'crown', 'WL_Depth': 500.0, 'WL_Thickness': 200.0}, {'Slope Angle': '25', 'HS': 3100.0, 'Profile Depth': 1000.0, 'Pit Near Avalanche Location': 'other', 'WL_Depth': 550.0, 'WL_Thickness': 100.0}, {'Slope Angle': '33', 'HS': 800.0, 'Profile Depth': 800.0, 'Pit Near Avalanche Location': 'flank', 'WL_Depth': 370.0, 'WL_Thickness': 100.0}, {'Slope Angle': '39', 'HS': 800.0, 'Profile Depth': 800.0, 'Pit Near Avalanche Location': 'flank', 'WL_Depth': 500.0, 'WL_Thickness': 200.0}, {'Slope Angle': '25', 'HS': 2620.0, 'Profile Depth': 700.0, 'Pit Near Avalanche Location': 'crown', 'WL_Depth': 500.0, 'WL_Thickness': 20.0}, {'Slope Angle': '41', 'HS': 1530.0, 'Profile Depth': 1530.0, 'Pit Near Avalanche Location': 'crown', 'WL_Depth': 360.0, 'WL_Thickness': 30.0}, {'Slope Angle': '40', 'HS': 1800.0, 'Profile Depth': 1800.0, 'Pit Near Avalanche Location': 'flank', 'WL_Depth': 950.0, 'WL_Thickness': 40.0}, {'Slope Angle': '40', 'HS': 1400.0, 'Profile Depth': 1400.0, 'Pit Near Avalanche Location': 'crown', 'WL_Depth': 600.0, 'WL_Thickness': 10.0}, {'Slope Angle': '39', 'HS': 1490.0, 'Profile Depth': 1490.0, 'Pit Near Avalanche Location': 'crown', 'WL_Depth': 760.0, 'WL_Thickness': 130.0}, {'Slope Angle': '25', 'HS': 760.0, 'Profile Depth': 760.0, 'Pit Near Avalanche Location': 'flank', 'WL_Depth': 290.0, 'WL_Thickness': 10.0}, {'Slope Angle': '40', 'HS': 1470.0, 'Profile Depth': 1470.0, 'Pit Near Avalanche Location': 'flank', 'WL_Depth': 380.0, 'WL_Thickness': 140.0}, {'Slope Angle': '32', 'HS': 2200.0, 'Profile Depth': 700.0, 'Pit Near Avalanche Location': 'crown', 'WL_Depth': 510.0, 'WL_Thickness': 30.0}, {'Slope Angle': '38', 'HS': 1320.0, 'Profile Depth': 1320.0, 'Pit Near Avalanche Location': 'crown', 'WL_Depth': 600.0, 'WL_Thickness': 40.0}, {'Slope Angle': '40', 'HS': 4460.0, 'Profile Depth': 2000.0, 'Pit Near Avalanche Location': 'crown', 'WL_Depth': 1670.0, 'WL_Thickness': 20.0}, {'Slope Angle': '15', 'HS': 4150.0, 'Profile Depth': 1600.0, 'Pit Near Avalanche Location': 'flank', 'WL_Depth': 1050.0, 'WL_Thickness': 10.0}, {'Slope Angle': '32', 'HS': 865.0, 'Profile Depth': 865.0, 'Pit Near Avalanche Location': 'flank', 'WL_Depth': 365.0, 'WL_Thickness': 100.0}, {'Slope Angle': '40', 'HS': None, 'Profile Depth': 950.0, 'Pit Near Avalanche Location': 'flank', 'WL_Depth': 160.0, 'WL_Thickness': 340.0}, {'Slope Angle': 0.0, 'HS': 4500.0, 'Profile Depth': 1400.0, 'Pit Near Avalanche Location': 'flank', 'WL_Depth': 750.0, 'WL_Thickness': 30.0}, {'Slope Angle': 0.0, 'HS': 1700.0, 'Profile Depth': 1700.0, 'Pit Near Avalanche Location': 'crown', 'WL_Depth': 1030.0, 'WL_Thickness': 30.0}, {'Slope Angle': '35', 'HS': 1950.0, 'Profile Depth': 1250.0, 'Pit Near Avalanche Location': 'crown', 'WL_Depth': 850.0, 'WL_Thickness': 100.0}, {'Slope Angle': '20', 'HS': 1600.0, 'Profile Depth': 1100.0, 'Pit Near Avalanche Location': 'crown', 'WL_Depth': 750.0, 'WL_Thickness': 10.0}, {'Slope Angle': '30', 'HS': 1210.0, 'Profile Depth': 1210.0, 'Pit Near Avalanche Location': 'crown', 'WL_Depth': 470.0, 'WL_Thickness': 160.0}, {'Slope Angle': '37', 'HS': 1100.0, 'Profile Depth': 1100.0, 'Pit Near Avalanche Location': 'crown', 'WL_Depth': 670.0, 'WL_Thickness': 30.0}, {'Slope Angle': '42', 'HS': 3650.0, 'Profile Depth': 1480.0, 'Pit Near Avalanche Location': 'crown', 'WL_Depth': 940.0, 'WL_Thickness': 20.0}, {'Slope Angle': '20', 'HS': 2800.0, 'Profile Depth': 1450.0, 'Pit Near Avalanche Location': 'crown', 'WL_Depth': 560.0, 'WL_Thickness': 60.0}, {'Slope Angle': 0.0, 'HS': 2400.0, 'Profile Depth': 490.0, 'Pit Near Avalanche Location': 'other', 'WL_Depth': 320.0, 'WL_Thickness': 10.0}, {'Slope Angle': '34', 'HS': 560.0, 'Profile Depth': 560.0, 'Pit Near Avalanche Location': 'flank', 'WL_Depth': 310.0, 'WL_Thickness': 100.0}, {'Slope Angle': '44', 'HS': 2000.0, 'Profile Depth': 2000.0, 'Pit Near Avalanche Location': 'crown', 'WL_Depth': 1300.0, 'WL_Thickness': 30.0}, {'Slope Angle': '34', 'HS': 1600.0, 'Profile Depth': 1600.0, 'Pit Near Avalanche Location': 'crown', 'WL_Depth': 800.0, 'WL_Thickness': 100.0}, {'Slope Angle': '47', 'HS': 2580.0, 'Profile Depth': 800.0, 'Pit Near Avalanche Location': 'crown', 'WL_Depth': 600.0, 'WL_Thickness': 100.0}, {'Slope Angle': 0.0, 'HS': 1200.0, 'Profile Depth': 1200.0, 'Pit Near Avalanche Location': 'other', 'WL_Depth': 600.0, 'WL_Thickness': 10.0}, {'Slope Angle': 0.0, 'HS': 3250.0, 'Profile Depth': 1600.0, 'Pit Near Avalanche Location': 'flank', 'WL_Depth': 900.0, 'WL_Thickness': 700.0}, {'Slope Angle': '28', 'HS': 600.0, 'Profile Depth': 600.0, 'Pit Near Avalanche Location': 'crown', 'WL_Depth': 460.0, 'WL_Thickness': 140.0}, {'Slope Angle': '35', 'HS': 2350.0, 'Profile Depth': 590.0, 'Pit Near Avalanche Location': 'crown', 'WL_Depth': 230.0, 'WL_Thickness': 20.0}, {'Slope Angle': '20', 'HS': 2250.0, 'Profile Depth': 1300.0, 'Pit Near Avalanche Location': 'other', 'WL_Depth': 560.0, 'WL_Thickness': 40.0}, {'Slope Angle': '31', 'HS': 2850.0, 'Profile Depth': 2850.0, 'Pit Near Avalanche Location': 'crown', 'WL_Depth': 1110.0, 'WL_Thickness': 10.0}, {'Slope Angle': '25', 'HS': 1250.0, 'Profile Depth': 1250.0, 'Pit Near Avalanche Location': 'other', 'WL_Depth': 600.0, 'WL_Thickness': 50.0}, {'Slope Angle': '40', 'HS': 1850.0, 'Profile Depth': 1850.0, 'Pit Near Avalanche Location': None, 'WL_Depth': 650.0, 'WL_Thickness': 100.0}, {'Slope Angle': '30', 'HS': 1890.0, 'Profile Depth': 1890.0, 'Pit Near Avalanche Location': 'flank', 'WL_Depth': 620.0, 'WL_Thickness': 20.0}, {'Slope Angle': '20', 'HS': 690.0, 'Profile Depth': 690.0, 'Pit Near Avalanche Location': 'flank', 'WL_Depth': 470.0, 'WL_Thickness': 10.0}, {'Slope Angle': '33', 'HS': 1040.0, 'Profile Depth': 1040.0, 'Pit Near Avalanche Location': 'crown', 'WL_Depth': 300.0, 'WL_Thickness': 40.0}, {'Slope Angle': '35', 'HS': 1500.0, 'Profile Depth': 1500.0, 'Pit Near Avalanche Location': 'crown', 'WL_Depth': 400.0, 'WL_Thickness': 10.0}, {'Slope Angle': '38', 'HS': 2200.0, 'Profile Depth': 800.0, 'Pit Near Avalanche Location': 'crown', 'WL_Depth': 280.0, 'WL_Thickness': 20.0}, {'Slope Angle': '35', 'HS': 3000.0, 'Profile Depth': 3000.0, 'Pit Near Avalanche Location': 'flank', 'WL_Depth': 900.0, 'WL_Thickness': 500.0}, {'Slope Angle': '38', 'HS': 600.0, 'Profile Depth': 600.0, 'Pit Near Avalanche Location': 'crown', 'WL_Depth': 240.0, 'WL_Thickness': 10.0}, {'Slope Angle': '30', 'HS': 1200.0, 'Profile Depth': 1200.0, 'Pit Near Avalanche Location': 'flank', 'WL_Depth': 750.0, 'WL_Thickness': 230.0}, {'Slope Angle': '28', 'HS': 1000.0, 'Profile Depth': 1000.0, 'Pit Near Avalanche Location': 'crown', 'WL_Depth': 230.0, 'WL_Thickness': 120.0}, {'Slope Angle': '25', 'HS': 900.0, 'Profile Depth': 900.0, 'Pit Near Avalanche Location': 'crown', 'WL_Depth': 370.0, 'WL_Thickness': 20.0}, {'Slope Angle': '28', 'HS': 910.0, 'Profile Depth': 910.0, 'Pit Near Avalanche Location': 'other', 'WL_Depth': 340.0, 'WL_Thickness': 30.0}, {'Slope Angle': '35', 'HS': 1350.0, 'Profile Depth': 1350.0, 'Pit Near Avalanche Location': 'flank', 'WL_Depth': 700.0, 'WL_Thickness': 80.0}, {'Slope Angle': '15', 'HS': 580.0, 'Profile Depth': 580.0, 'Pit Near Avalanche Location': None, 'WL_Depth': 380.0, 'WL_Thickness': 5.0}, {'Slope Angle': '30', 'HS': 4600.0, 'Profile Depth': 1600.0, 'Pit Near Avalanche Location': 'other', 'WL_Depth': 310.0, 'WL_Thickness': 120.0}, {'Slope Angle': '42', 'HS': 1500.0, 'Profile Depth': 1500.0, 'Pit Near Avalanche Location': 'crown', 'WL_Depth': 1050.0, 'WL_Thickness': 250.0}, {'Slope Angle': '28', 'HS': 1850.0, 'Profile Depth': 1850.0, 'Pit Near Avalanche Location': 'crown', 'WL_Depth': 830.0, 'WL_Thickness': 40.0}, {'Slope Angle': '20', 'HS': 1200.0, 'Profile Depth': 1200.0, 'Pit Near Avalanche Location': 'crown', 'WL_Depth': 150.0, 'WL_Thickness': 190.0}, {'Slope Angle': '33', 'HS': 1420.0, 'Profile Depth': 1420.0, 'Pit Near Avalanche Location': 'crown', 'WL_Depth': 610.0, 'WL_Thickness': 10.0}, {'Slope Angle': '36', 'HS': 470.0, 'Profile Depth': 470.0, 'Pit Near Avalanche Location': 'crown', 'WL_Depth': 200.0, 'WL_Thickness': 40.0}, {'Slope Angle': '28', 'HS': 3030.0, 'Profile Depth': 3030.0, 'Pit Near Avalanche Location': 'flank', 'WL_Depth': 720.0, 'WL_Thickness': 10.0}, {'Slope Angle': '30', 'HS': 3500.0, 'Profile Depth': 1400.0, 'Pit Near Avalanche Location': 'crown', 'WL_Depth': 1060.0, 'WL_Thickness': 10.0}, {'Slope Angle': '37', 'HS': 950.0, 'Profile Depth': 950.0, 'Pit Near Avalanche Location': 'flank', 'WL_Depth': 800.0, 'WL_Thickness': 150.0}, {'Slope Angle': 0.0, 'HS': 1520.0, 'Profile Depth': 1520.0, 'Pit Near Avalanche Location': 'other', 'WL_Depth': 1070.0, 'WL_Thickness': 450.0}, {'Slope Angle': '33', 'HS': 2800.0, 'Profile Depth': 2800.0, 'Pit Near Avalanche Location': 'flank', 'WL_Depth': 250.0, 'WL_Thickness': 400.0}, {'Slope Angle': '23', 'HS': 1200.0, 'Profile Depth': 1200.0, 'Pit Near Avalanche Location': 'flank', 'WL_Depth': 950.0, 'WL_Thickness': 90.0}, {'Slope Angle': 0.0, 'HS': 1050.0, 'Profile Depth': 1050.0, 'Pit Near Avalanche Location': 'crown', 'WL_Depth': 150.0, 'WL_Thickness': 50.0}, {'Slope Angle': '30', 'HS': 1900.0, 'Profile Depth': 1900.0, 'Pit Near Avalanche Location': 'flank', 'WL_Depth': 460.0, 'WL_Thickness': 80.0}, {'Slope Angle': '25', 'HS': 1120.0, 'Profile Depth': 1120.0, 'Pit Near Avalanche Location': 'other', 'WL_Depth': 480.0, 'WL_Thickness': 10.0}, {'Slope Angle': '45', 'HS': 790.0, 'Profile Depth': 790.0, 'Pit Near Avalanche Location': 'crown', 'WL_Depth': 350.0, 'WL_Thickness': 20.0}, {'Slope Angle': '37', 'HS': 950.0, 'Profile Depth': 950.0, 'Pit Near Avalanche Location': 'crown', 'WL_Depth': 490.0, 'WL_Thickness': 10.0}, {'Slope Angle': '20', 'HS': 900.0, 'Profile Depth': 900.0, 'Pit Near Avalanche Location': 'other', 'WL_Depth': 650.0, 'WL_Thickness': 70.0}, {'Slope Angle': '33', 'HS': 1870.0, 'Profile Depth': 1870.0, 'Pit Near Avalanche Location': 'crown', 'WL_Depth': 1220.0, 'WL_Thickness': 30.0}, {'Slope Angle': '35', 'HS': 1130.0, 'Profile Depth': 1130.0, 'Pit Near Avalanche Location': 'crown', 'WL_Depth': 610.0, 'WL_Thickness': 60.0}, {'Slope Angle': '28', 'HS': 1350.0, 'Profile Depth': 1350.0, 'Pit Near Avalanche Location': 'other', 'WL_Depth': 1200.0, 'WL_Thickness': 150.0}, {'Slope Angle': '38', 'HS': 1200.0, 'Profile Depth': 1200.0, 'Pit Near Avalanche Location': None, 'WL_Depth': 928.0, 'WL_Thickness': 74.0}, {'Slope Angle': '24', 'HS': 670.0, 'Profile Depth': 670.0, 'Pit Near Avalanche Location': 'other', 'WL_Depth': 570.0, 'WL_Thickness': 100.0}, {'Slope Angle': 0.0, 'HS': 1150.0, 'Profile Depth': 1150.0, 'Pit Near Avalanche Location': 'crown', 'WL_Depth': 1050.0, 'WL_Thickness': 100.0}, {'Slope Angle': '31', 'HS': 1120.0, 'Profile Depth': 1120.0, 'Pit Near Avalanche Location': 'crown', 'WL_Depth': 530.0, 'WL_Thickness': 30.0}, {'Slope Angle': 0.0, 'HS': 2470.0, 'Profile Depth': 2470.0, 'Pit Near Avalanche Location': 'crown', 'WL_Depth': 800.0, 'WL_Thickness': 10.0}, {'Slope Angle': '30', 'HS': 970.0, 'Profile Depth': 970.0, 'Pit Near Avalanche Location': 'flank', 'WL_Depth': 50.0, 'WL_Thickness': 220.0}, {'Slope Angle': '29', 'HS': 2780.0, 'Profile Depth': 2780.0, 'Pit Near Avalanche Location': 'flank', 'WL_Depth': 470.0, 'WL_Thickness': 10.0}, {'Slope Angle': '23', 'HS': 1450.0, 'Profile Depth': 1450.0, 'Pit Near Avalanche Location': 'crown', 'WL_Depth': 970.0, 'WL_Thickness': 480.0}, {'Slope Angle': '25', 'HS': 900.0, 'Profile Depth': 900.0, 'Pit Near Avalanche Location': 'crown', 'WL_Depth': 390.0, 'WL_Thickness': 220.0}, {'Slope Angle': '35', 'HS': None, 'Profile Depth': 1000.0, 'Pit Near Avalanche Location': 'crown', 'WL_Depth': 700.0, 'WL_Thickness': 50.0}, {'Slope Angle': '36', 'HS': 640.0, 'Profile Depth': 640.0, 'Pit Near Avalanche Location': 'flank', 'WL_Depth': 410.0, 'WL_Thickness': 40.0}, {'Slope Angle': '33', 'HS': 650.0, 'Profile Depth': 650.0, 'Pit Near Avalanche Location': 'other', 'WL_Depth': 260.0, 'WL_Thickness': 90.0}, {'Slope Angle': '34', 'HS': 1080.0, 'Profile Depth': 1080.0, 'Pit Near Avalanche Location': None, 'WL_Depth': 600.0, 'WL_Thickness': 100.0}, {'Slope Angle': '43', 'HS': 3550.0, 'Profile Depth': 470.0, 'Pit Near Avalanche Location': 'crown', 'WL_Depth': 410.0, 'WL_Thickness': 60.0}, {'Slope Angle': '38', 'HS': 1500.0, 'Profile Depth': 600.0, 'Pit Near Avalanche Location': 'crown', 'WL_Depth': 400.0, 'WL_Thickness': 140.0}, {'Slope Angle': '36', 'HS': 1600.0, 'Profile Depth': 1600.0, 'Pit Near Avalanche Location': 'flank', 'WL_Depth': 1150.0, 'WL_Thickness': 50.0}, {'Slope Angle': '33', 'HS': 1350.0, 'Profile Depth': 1350.0, 'Pit Near Avalanche Location': 'flank', 'WL_Depth': 60.0, 'WL_Thickness': 20.0}, {'Slope Angle': '30', 'HS': 910.0, 'Profile Depth': 910.0, 'Pit Near Avalanche Location': None, 'WL_Depth': 760.0, 'WL_Thickness': 150.0}, {'Slope Angle': '38', 'HS': 1400.0, 'Profile Depth': 1400.0, 'Pit Near Avalanche Location': 'crown', 'WL_Depth': 950.0, 'WL_Thickness': 450.0}, {'Slope Angle': '25', 'HS': 700.0, 'Profile Depth': 700.0, 'Pit Near Avalanche Location': 'flank', 'WL_Depth': 300.0, 'WL_Thickness': 50.0}, {'Slope Angle': '35', 'HS': 1400.0, 'Profile Depth': 1400.0, 'Pit Near Avalanche Location': 'flank', 'WL_Depth': 850.0, 'WL_Thickness': 20.0}, {'Slope Angle': '25', 'HS': 650.0, 'Profile Depth': 650.0, 'Pit Near Avalanche Location': 'crown', 'WL_Depth': 450.0, 'WL_Thickness': 200.0}, {'Slope Angle': '32', 'HS': 3170.0, 'Profile Depth': 1450.0, 'Pit Near Avalanche Location': 'crown', 'WL_Depth': 1060.0, 'WL_Thickness': 30.0}, {'Slope Angle': '32', 'HS': 1320.0, 'Profile Depth': 1320.0, 'Pit Near Avalanche Location': 'crown', 'WL_Depth': 430.0, 'WL_Thickness': 30.0}, {'Slope Angle': '35', 'HS': 1700.0, 'Profile Depth': 1700.0, 'Pit Near Avalanche Location': 'crown', 'WL_Depth': 900.0, 'WL_Thickness': 5.0}, {'Slope Angle': '30', 'HS': 1500.0, 'Profile Depth': 1500.0, 'Pit Near Avalanche Location': 'crown', 'WL_Depth': 700.0, 'WL_Thickness': 40.0}, {'Slope Angle': '42', 'HS': 1250.0, 'Profile Depth': 1250.0, 'Pit Near Avalanche Location': 'crown', 'WL_Depth': 510.0, 'WL_Thickness': 40.0}, {'Slope Angle': '30', 'HS': 2400.0, 'Profile Depth': 1000.0, 'Pit Near Avalanche Location': 'crown', 'WL_Depth': 300.0, 'WL_Thickness': 50.0}, {'Slope Angle': '34', 'HS': 2600.0, 'Profile Depth': 2600.0, 'Pit Near Avalanche Location': 'flank', 'WL_Depth': 580.0, 'WL_Thickness': 20.0}, {'Slope Angle': '33', 'HS': 1630.0, 'Profile Depth': 1630.0, 'Pit Near Avalanche Location': 'crown', 'WL_Depth': 1230.0, 'WL_Thickness': 400.0}, {'Slope Angle': '39', 'HS': 1250.0, 'Profile Depth': 1250.0, 'Pit Near Avalanche Location': 'crown', 'WL_Depth': 120.0, 'WL_Thickness': 290.0}, {'Slope Angle': '35', 'HS': 1820.0, 'Profile Depth': 1820.0, 'Pit Near Avalanche Location': 'flank', 'WL_Depth': 840.0, 'WL_Thickness': 150.0}, {'Slope Angle': '40', 'HS': 5000.0, 'Profile Depth': 1600.0, 'Pit Near Avalanche Location': 'crown', 'WL_Depth': 1400.0, 'WL_Thickness': 50.0}, {'Slope Angle': '35', 'HS': 1550.0, 'Profile Depth': 1550.0, 'Pit Near Avalanche Location': 'crown', 'WL_Depth': 440.0, 'WL_Thickness': 130.0}, {'Slope Angle': '30', 'HS': 1690.0, 'Profile Depth': 1690.0, 'Pit Near Avalanche Location': 'flank', 'WL_Depth': 500.0, 'WL_Thickness': 40.0}, {'Slope Angle': '39', 'HS': 1130.0, 'Profile Depth': 1130.0, 'Pit Near Avalanche Location': 'other', 'WL_Depth': 800.0, 'WL_Thickness': 330.0}, {'Slope Angle': '36', 'HS': 1280.0, 'Profile Depth': 1280.0, 'Pit Near Avalanche Location': 'crown', 'WL_Depth': 630.0, 'WL_Thickness': 50.0}, {'Slope Angle': '37', 'HS': None, 'Profile Depth': 1000.0, 'Pit Near Avalanche Location': 'flank', 'WL_Depth': 230.0, 'WL_Thickness': 20.0}, {'Slope Angle': '29', 'HS': 2050.0, 'Profile Depth': 2050.0, 'Pit Near Avalanche Location': 'flank', 'WL_Depth': 500.0, 'WL_Thickness': 150.0}, {'Slope Angle': '38', 'HS': 1000.0, 'Profile Depth': 400.0, 'Pit Near Avalanche Location': 'flank', 'WL_Depth': 130.0, 'WL_Thickness': 70.0}, {'Slope Angle': '27', 'HS': 1050.0, 'Profile Depth': 1050.0, 'Pit Near Avalanche Location': 'other', 'WL_Depth': 200.0, 'WL_Thickness': 600.0}, {'Slope Angle': '38', 'HS': 2150.0, 'Profile Depth': 1600.0, 'Pit Near Avalanche Location': 'crown', 'WL_Depth': 800.0, 'WL_Thickness': 30.0}, {'Slope Angle': '32', 'HS': 880.0, 'Profile Depth': 880.0, 'Pit Near Avalanche Location': 'flank', 'WL_Depth': 610.0, 'WL_Thickness': 30.0}, {'Slope Angle': 0.0, 'HS': 2370.0, 'Profile Depth': 2370.0, 'Pit Near Avalanche Location': 'crown', 'WL_Depth': 830.0, 'WL_Thickness': 120.0}, {'Slope Angle': '33', 'HS': 3100.0, 'Profile Depth': 3100.0, 'Pit Near Avalanche Location': 'flank', 'WL_Depth': 770.0, 'WL_Thickness': 40.0}, {'Slope Angle': '34', 'HS': 1200.0, 'Profile Depth': 1200.0, 'Pit Near Avalanche Location': 'crown', 'WL_Depth': 680.0, 'WL_Thickness': 10.0}, {'Slope Angle': '24', 'HS': 2470.0, 'Profile Depth': 2470.0, 'Pit Near Avalanche Location': 'other', 'WL_Depth': 730.0, 'WL_Thickness': 340.0}, {'Slope Angle': '32', 'HS': 1580.0, 'Profile Depth': 1580.0, 'Pit Near Avalanche Location': 'crown', 'WL_Depth': 1250.0, 'WL_Thickness': 60.0}, {'Slope Angle': '35', 'HS': 1500.0, 'Profile Depth': 550.0, 'Pit Near Avalanche Location': 'crown', 'WL_Depth': 330.0, 'WL_Thickness': 30.0}, {'Slope Angle': '35', 'HS': 970.0, 'Profile Depth': 970.0, 'Pit Near Avalanche Location': 'crown', 'WL_Depth': 690.0, 'WL_Thickness': 150.0}, {'Slope Angle': '30', 'HS': 1700.0, 'Profile Depth': 1700.0, 'Pit Near Avalanche Location': 'crown', 'WL_Depth': 750.0, 'WL_Thickness': 150.0}, {'Slope Angle': 0.0, 'HS': 2500.0, 'Profile Depth': 2500.0, 'Pit Near Avalanche Location': None, 'WL_Depth': 2100.0, 'WL_Thickness': 400.0}, {'Slope Angle': '40', 'HS': 1820.0, 'Profile Depth': 1820.0, 'Pit Near Avalanche Location': 'crown', 'WL_Depth': 690.0, 'WL_Thickness': 170.0}, {'Slope Angle': '30', 'HS': 700.0, 'Profile Depth': 700.0, 'Pit Near Avalanche Location': None, 'WL_Depth': 580.0, 'WL_Thickness': 120.0}, {'Slope Angle': '32', 'HS': 1310.0, 'Profile Depth': 1310.0, 'Pit Near Avalanche Location': 'crown', 'WL_Depth': 930.0, 'WL_Thickness': 280.0}, {'Slope Angle': '26', 'HS': 1100.0, 'Profile Depth': 650.0, 'Pit Near Avalanche Location': 'other', 'WL_Depth': 500.0, 'WL_Thickness': 20.0}, {'Slope Angle': '41', 'HS': 2400.0, 'Profile Depth': 1140.0, 'Pit Near Avalanche Location': 'flank', 'WL_Depth': 200.0, 'WL_Thickness': 20.0}, {'Slope Angle': '37', 'HS': 1900.0, 'Profile Depth': 1900.0, 'Pit Near Avalanche Location': 'flank', 'WL_Depth': 250.0, 'WL_Thickness': 50.0}, {'Slope Angle': '38', 'HS': 1350.0, 'Profile Depth': 1350.0, 'Pit Near Avalanche Location': 'crown', 'WL_Depth': 800.0, 'WL_Thickness': 250.0}, {'Slope Angle': '36', 'HS': 1650.0, 'Profile Depth': 1650.0, 'Pit Near Avalanche Location': 'flank', 'WL_Depth': 1300.0, 'WL_Thickness': 350.0}, {'Slope Angle': '20', 'HS': 2600.0, 'Profile Depth': 2600.0, 'Pit Near Avalanche Location': 'crown', 'WL_Depth': 1050.0, 'WL_Thickness': 10.0}, {'Slope Angle': '25', 'HS': 6000.0, 'Profile Depth': 1350.0, 'Pit Near Avalanche Location': 'flank', 'WL_Depth': 150.0, 'WL_Thickness': 100.0}, {'Slope Angle': '35', 'HS': 3000.0, 'Profile Depth': 3000.0, 'Pit Near Avalanche Location': 'other', 'WL_Depth': 300.0, 'WL_Thickness': 10.0}, {'Slope Angle': '26', 'HS': None, 'Profile Depth': 1050.0, 'Pit Near Avalanche Location': None, 'WL_Depth': 730.0, 'WL_Thickness': 50.0}, {'Slope Angle': '39', 'HS': 1500.0, 'Profile Depth': 1500.0, 'Pit Near Avalanche Location': 'crown', 'WL_Depth': 430.0, 'WL_Thickness': 180.0}, {'Slope Angle': '35', 'HS': 3200.0, 'Profile Depth': 1000.0, 'Pit Near Avalanche Location': 'flank', 'WL_Depth': 600.0, 'WL_Thickness': 20.0}, {'Slope Angle': '42', 'HS': 1350.0, 'Profile Depth': 1350.0, 'Pit Near Avalanche Location': 'crown', 'WL_Depth': 320.0, 'WL_Thickness': 230.0}, {'Slope Angle': '35', 'HS': 3800.0, 'Profile Depth': 1400.0, 'Pit Near Avalanche Location': 'flank', 'WL_Depth': 570.0, 'WL_Thickness': 30.0}, {'Slope Angle': '36', 'HS': 990.0, 'Profile Depth': 990.0, 'Pit Near Avalanche Location': 'crown', 'WL_Depth': 320.0, 'WL_Thickness': 20.0}, {'Slope Angle': '20', 'HS': None, 'Profile Depth': 400.0, 'Pit Near Avalanche Location': 'other', 'WL_Depth': 130.0, 'WL_Thickness': 5.0}, {'Slope Angle': '34', 'HS': 1090.0, 'Profile Depth': 1090.0, 'Pit Near Avalanche Location': 'crown', 'WL_Depth': 630.0, 'WL_Thickness': 20.0}, {'Slope Angle': 0.0, 'HS': 700.0, 'Profile Depth': 700.0, 'Pit Near Avalanche Location': 'crown', 'WL_Depth': 450.0, 'WL_Thickness': 250.0}, {'Slope Angle': '35', 'HS': 3700.0, 'Profile Depth': 1000.0, 'Pit Near Avalanche Location': 'crown', 'WL_Depth': 690.0, 'WL_Thickness': 10.0}, {'Slope Angle': '41', 'HS': 1200.0, 'Profile Depth': 1200.0, 'Pit Near Avalanche Location': 'crown', 'WL_Depth': 500.0, 'WL_Thickness': 130.0}, {'Slope Angle': '30', 'HS': 480.0, 'Profile Depth': 480.0, 'Pit Near Avalanche Location': None, 'WL_Depth': 370.0, 'WL_Thickness': 110.0}, {'Slope Angle': '20', 'HS': 3250.0, 'Profile Depth': 1000.0, 'Pit Near Avalanche Location': 'flank', 'WL_Depth': 480.0, 'WL_Thickness': 70.0}, {'Slope Angle': '26', 'HS': 1380.0, 'Profile Depth': 1380.0, 'Pit Near Avalanche Location': 'flank', 'WL_Depth': 970.0, 'WL_Thickness': 410.0}, {'Slope Angle': '24', 'HS': 1000.0, 'Profile Depth': 800.0, 'Pit Near Avalanche Location': 'flank', 'WL_Depth': 340.0, 'WL_Thickness': 190.0}, {'Slope Angle': '22', 'HS': 1500.0, 'Profile Depth': 1500.0, 'Pit Near Avalanche Location': 'other', 'WL_Depth': 360.0, 'WL_Thickness': 10.0}, {'Slope Angle': '33', 'HS': 2750.0, 'Profile Depth': 2750.0, 'Pit Near Avalanche Location': 'crown', 'WL_Depth': 750.0, 'WL_Thickness': 10.0}, {'Slope Angle': '30', 'HS': 1670.0, 'Profile Depth': 1670.0, 'Pit Near Avalanche Location': 'other', 'WL_Depth': 390.0, 'WL_Thickness': 80.0}, {'Slope Angle': '32', 'HS': 950.0, 'Profile Depth': 950.0, 'Pit Near Avalanche Location': None, 'WL_Depth': 440.0, 'WL_Thickness': 10.0}, {'Slope Angle': '28', 'HS': 7000.0, 'Profile Depth': 1100.0, 'Pit Near Avalanche Location': None, 'WL_Depth': 770.0, 'WL_Thickness': 50.0}, {'Slope Angle': '30', 'HS': 3000.0, 'Profile Depth': 700.0, 'Pit Near Avalanche Location': 'crown', 'WL_Depth': 430.0, 'WL_Thickness': 10.0}, {'Slope Angle': '35', 'HS': 670.0, 'Profile Depth': 670.0, 'Pit Near Avalanche Location': 'flank', 'WL_Depth': 490.0, 'WL_Thickness': 2.0}, {'Slope Angle': '34', 'HS': 3200.0, 'Profile Depth': 3200.0, 'Pit Near Avalanche Location': 'flank', 'WL_Depth': 670.0, 'WL_Thickness': 30.0}, {'Slope Angle': '35', 'HS': 3000.0, 'Profile Depth': 3000.0, 'Pit Near Avalanche Location': 'flank', 'WL_Depth': 322.0, 'WL_Thickness': 36.0}, {'Slope Angle': '36', 'HS': 3070.0, 'Profile Depth': 3070.0, 'Pit Near Avalanche Location': 'crown', 'WL_Depth': 400.0, 'WL_Thickness': 180.0}, {'Slope Angle': '34', 'HS': 800.0, 'Profile Depth': 800.0, 'Pit Near Avalanche Location': None, 'WL_Depth': 600.0, 'WL_Thickness': 20.0}, {'Slope Angle': '39', 'HS': 1600.0, 'Profile Depth': 1600.0, 'Pit Near Avalanche Location': 'crown', 'WL_Depth': 550.0, 'WL_Thickness': 150.0}, {'Slope Angle': '28', 'HS': 630.0, 'Profile Depth': 630.0, 'Pit Near Avalanche Location': 'crown', 'WL_Depth': 290.0, 'WL_Thickness': 20.0}, {'Slope Angle': '33', 'HS': 1150.0, 'Profile Depth': 1150.0, 'Pit Near Avalanche Location': 'other', 'WL_Depth': 950.0, 'WL_Thickness': 200.0}, {'Slope Angle': '43', 'HS': 1400.0, 'Profile Depth': 1400.0, 'Pit Near Avalanche Location': 'crown', 'WL_Depth': 1010.0, 'WL_Thickness': 20.0}, {'Slope Angle': '47', 'HS': 4500.0, 'Profile Depth': 1020.0, 'Pit Near Avalanche Location': 'crown', 'WL_Depth': 850.0, 'WL_Thickness': 20.0}, {'Slope Angle': '27', 'HS': 1250.0, 'Profile Depth': 1250.0, 'Pit Near Avalanche Location': 'flank', 'WL_Depth': 700.0, 'WL_Thickness': 50.0}, {'Slope Angle': '30', 'HS': 1670.0, 'Profile Depth': 1670.0, 'Pit Near Avalanche Location': 'other', 'WL_Depth': 390.0, 'WL_Thickness': 80.0}, {'Slope Angle': '42', 'HS': 2400.0, 'Profile Depth': 2400.0, 'Pit Near Avalanche Location': 'crown', 'WL_Depth': 1900.0, 'WL_Thickness': 50.0}, {'Slope Angle': '38', 'HS': 120.0, 'Profile Depth': 120.0, 'Pit Near Avalanche Location': 'other', 'WL_Depth': 50.0, 'WL_Thickness': 20.0}, {'Slope Angle': '30', 'HS': 710.0, 'Profile Depth': 710.0, 'Pit Near Avalanche Location': 'flank', 'WL_Depth': 400.0, 'WL_Thickness': 310.0}, {'Slope Angle': '32', 'HS': 2500.0, 'Profile Depth': 2500.0, 'Pit Near Avalanche Location': 'flank', 'WL_Depth': 1070.0, 'WL_Thickness': 30.0}, {'Slope Angle': '20', 'HS': 1500.0, 'Profile Depth': 1500.0, 'Pit Near Avalanche Location': 'crown', 'WL_Depth': 300.0, 'WL_Thickness': 50.0}, {'Slope Angle': '38', 'HS': 1650.0, 'Profile Depth': 1650.0, 'Pit Near Avalanche Location': 'crown', 'WL_Depth': 1120.0, 'WL_Thickness': 80.0}, {'Slope Angle': '30', 'HS': 2450.0, 'Profile Depth': 2450.0, 'Pit Near Avalanche Location': 'crown', 'WL_Depth': 0.0, 'WL_Thickness': 32.0}, {'Slope Angle': '40', 'HS': 1700.0, 'Profile Depth': 1700.0, 'Pit Near Avalanche Location': 'crown', 'WL_Depth': 623.0, 'WL_Thickness': 127.0}, {'Slope Angle': '34', 'HS': 2150.0, 'Profile Depth': 2150.0, 'Pit Near Avalanche Location': 'flank', 'WL_Depth': 50.0, 'WL_Thickness': 200.0}, {'Slope Angle': '38', 'HS': 1980.0, 'Profile Depth': 1980.0, 'Pit Near Avalanche Location': 'crown', 'WL_Depth': 810.0, 'WL_Thickness': 50.0}, {'Slope Angle': '34', 'HS': 1300.0, 'Profile Depth': 1300.0, 'Pit Near Avalanche Location': 'flank', 'WL_Depth': 500.0, 'WL_Thickness': 300.0}, {'Slope Angle': '40', 'HS': 1000.0, 'Profile Depth': 1000.0, 'Pit Near Avalanche Location': 'crown', 'WL_Depth': 410.0, 'WL_Thickness': 60.0}, {'Slope Angle': 0.0, 'HS': 2020.0, 'Profile Depth': 2020.0, 'Pit Near Avalanche Location': 'crown', 'WL_Depth': 850.0, 'WL_Thickness': 120.0}, {'Slope Angle': '40', 'HS': 1750.0, 'Profile Depth': 1750.0, 'Pit Near Avalanche Location': 'crown', 'WL_Depth': 850.0, 'WL_Thickness': 10.0}, {'Slope Angle': '40', 'HS': 2800.0, 'Profile Depth': 2800.0, 'Pit Near Avalanche Location': 'crown', 'WL_Depth': 950.0, 'WL_Thickness': 150.0}, {'Slope Angle': '43', 'HS': 1260.0, 'Profile Depth': 1260.0, 'Pit Near Avalanche Location': 'crown', 'WL_Depth': 195.0, 'WL_Thickness': 365.0}, {'Slope Angle': '43', 'HS': 1440.0, 'Profile Depth': 1440.0, 'Pit Near Avalanche Location': 'crown', 'WL_Depth': 1190.0, 'WL_Thickness': 250.0}, {'Slope Angle': '42', 'HS': 4500.0, 'Profile Depth': 950.0, 'Pit Near Avalanche Location': 'crown', 'WL_Depth': 570.0, 'WL_Thickness': 150.0}, {'Slope Angle': '32', 'HS': 1210.0, 'Profile Depth': 1210.0, 'Pit Near Avalanche Location': 'flank', 'WL_Depth': 730.0, 'WL_Thickness': 180.0}, {'Slope Angle': '40', 'HS': 910.0, 'Profile Depth': 910.0, 'Pit Near Avalanche Location': 'crown', 'WL_Depth': 440.0, 'WL_Thickness': 140.0}, {'Slope Angle': '41', 'HS': 1260.0, 'Profile Depth': 1260.0, 'Pit Near Avalanche Location': None, 'WL_Depth': 1060.0, 'WL_Thickness': 200.0}, {'Slope Angle': '38', 'HS': 1050.0, 'Profile Depth': 1050.0, 'Pit Near Avalanche Location': 'crown', 'WL_Depth': 320.0, 'WL_Thickness': 20.0}, {'Slope Angle': '40', 'HS': 670.0, 'Profile Depth': 670.0, 'Pit Near Avalanche Location': 'crown', 'WL_Depth': 610.0, 'WL_Thickness': 50.0}, {'Slope Angle': '36', 'HS': 1100.0, 'Profile Depth': 1100.0, 'Pit Near Avalanche Location': 'crown', 'WL_Depth': 260.0, 'WL_Thickness': 20.0}, {'Slope Angle': '33', 'HS': 690.0, 'Profile Depth': 690.0, 'Pit Near Avalanche Location': 'crown', 'WL_Depth': 535.0, 'WL_Thickness': 155.0}, {'Slope Angle': '33', 'HS': 1500.0, 'Profile Depth': 1500.0, 'Pit Near Avalanche Location': 'crown', 'WL_Depth': 450.0, 'WL_Thickness': 750.0}, {'Slope Angle': '12', 'HS': 900.0, 'Profile Depth': 900.0, 'Pit Near Avalanche Location': 'flank', 'WL_Depth': 630.0, 'WL_Thickness': 270.0}, {'Slope Angle': 0.0, 'HS': 1470.0, 'Profile Depth': 1470.0, 'Pit Near Avalanche Location': 'flank', 'WL_Depth': 590.0, 'WL_Thickness': 180.0}, {'Slope Angle': 0.0, 'HS': None, 'Profile Depth': 500.0, 'Pit Near Avalanche Location': None, 'WL_Depth': 370.0, 'WL_Thickness': 30.0}, {'Slope Angle': '40', 'HS': 1200.0, 'Profile Depth': 1200.0, 'Pit Near Avalanche Location': 'flank', 'WL_Depth': 510.0, 'WL_Thickness': 20.0}, {'Slope Angle': '39', 'HS': None, 'Profile Depth': 500.0, 'Pit Near Avalanche Location': 'crown', 'WL_Depth': 250.0, 'WL_Thickness': 5.0}, {'Slope Angle': '35', 'HS': 1930.0, 'Profile Depth': 1930.0, 'Pit Near Avalanche Location': 'flank', 'WL_Depth': 1170.0, 'WL_Thickness': 80.0}, {'Slope Angle': '26', 'HS': None, 'Profile Depth': 1050.0, 'Pit Near Avalanche Location': 'crown', 'WL_Depth': 730.0, 'WL_Thickness': 50.0}, {'Slope Angle': 0.0, 'HS': 1600.0, 'Profile Depth': 1600.0, 'Pit Near Avalanche Location': 'flank', 'WL_Depth': 600.0, 'WL_Thickness': 10.0}, {'Slope Angle': '27', 'HS': 3400.0, 'Profile Depth': 1030.0, 'Pit Near Avalanche Location': 'flank', 'WL_Depth': 60.0, 'WL_Thickness': 180.0}, {'Slope Angle': '35', 'HS': 1130.0, 'Profile Depth': 1130.0, 'Pit Near Avalanche Location': 'crown', 'WL_Depth': 240.0, 'WL_Thickness': 10.0}, {'Slope Angle': '44', 'HS': 2250.0, 'Profile Depth': 2250.0, 'Pit Near Avalanche Location': 'crown', 'WL_Depth': 1250.0, 'WL_Thickness': 150.0}, {'Slope Angle': '35', 'HS': 1300.0, 'Profile Depth': 1300.0, 'Pit Near Avalanche Location': 'flank', 'WL_Depth': 1000.0, 'WL_Thickness': 300.0}, {'Slope Angle': '33', 'HS': 2750.0, 'Profile Depth': 1130.0, 'Pit Near Avalanche Location': 'crown', 'WL_Depth': 910.0, 'WL_Thickness': 20.0}, {'Slope Angle': '15', 'HS': 2400.0, 'Profile Depth': 1000.0, 'Pit Near Avalanche Location': None, 'WL_Depth': 690.0, 'WL_Thickness': 80.0}, {'Slope Angle': '41', 'HS': 2200.0, 'Profile Depth': 2200.0, 'Pit Near Avalanche Location': 'crown', 'WL_Depth': 1100.0, 'WL_Thickness': 100.0}, {'Slope Angle': '30', 'HS': 1080.0, 'Profile Depth': 1080.0, 'Pit Near Avalanche Location': 'crown', 'WL_Depth': 960.0, 'WL_Thickness': 120.0}, {'Slope Angle': '33', 'HS': 990.0, 'Profile Depth': 990.0, 'Pit Near Avalanche Location': 'crown', 'WL_Depth': 720.0, 'WL_Thickness': 20.0}, {'Slope Angle': '33', 'HS': 940.0, 'Profile Depth': 940.0, 'Pit Near Avalanche Location': 'flank', 'WL_Depth': 670.0, 'WL_Thickness': 270.0}, {'Slope Angle': '36', 'HS': 550.0, 'Profile Depth': 550.0, 'Pit Near Avalanche Location': 'crown', 'WL_Depth': 340.0, 'WL_Thickness': 60.0}, {'Slope Angle': '31', 'HS': 680.0, 'Profile Depth': 680.0, 'Pit Near Avalanche Location': 'other', 'WL_Depth': 430.0, 'WL_Thickness': 70.0}, {'Slope Angle': '42', 'HS': 1200.0, 'Profile Depth': 990.0, 'Pit Near Avalanche Location': 'crown', 'WL_Depth': 400.0, 'WL_Thickness': 30.0}, {'Slope Angle': '15', 'HS': 1950.0, 'Profile Depth': 1400.0, 'Pit Near Avalanche Location': 'flank', 'WL_Depth': 1000.0, 'WL_Thickness': 20.0}, {'Slope Angle': '34', 'HS': 1850.0, 'Profile Depth': 1850.0, 'Pit Near Avalanche Location': 'flank', 'WL_Depth': 350.0, 'WL_Thickness': 100.0}, {'Slope Angle': '25', 'HS': 1850.0, 'Profile Depth': 1850.0, 'Pit Near Avalanche Location': 'flank', 'WL_Depth': 400.0, 'WL_Thickness': 100.0}, {'Slope Angle': '39', 'HS': 1650.0, 'Profile Depth': 1650.0, 'Pit Near Avalanche Location': None, 'WL_Depth': 940.0, 'WL_Thickness': 330.0}, {'Slope Angle': '42', 'HS': 1100.0, 'Profile Depth': 1100.0, 'Pit Near Avalanche Location': 'other', 'WL_Depth': 750.0, 'WL_Thickness': 150.0}, {'Slope Angle': '22', 'HS': 6000.0, 'Profile Depth': 1350.0, 'Pit Near Avalanche Location': None, 'WL_Depth': 150.0, 'WL_Thickness': 100.0}, {'Slope Angle': '36', 'HS': 950.0, 'Profile Depth': 950.0, 'Pit Near Avalanche Location': 'crown', 'WL_Depth': 630.0, 'WL_Thickness': 320.0}, {'Slope Angle': '30', 'HS': 800.0, 'Profile Depth': 800.0, 'Pit Near Avalanche Location': 'other', 'WL_Depth': 200.0, 'WL_Thickness': 150.0}, {'Slope Angle': '38', 'HS': 2450.0, 'Profile Depth': 2450.0, 'Pit Near Avalanche Location': 'crown', 'WL_Depth': 1150.0, 'WL_Thickness': 150.0}, {'Slope Angle': '34', 'HS': 1200.0, 'Profile Depth': 1200.0, 'Pit Near Avalanche Location': None, 'WL_Depth': 0.0, 'WL_Thickness': 100.0}, {'Slope Angle': '30', 'HS': 710.0, 'Profile Depth': 710.0, 'Pit Near Avalanche Location': 'flank', 'WL_Depth': 360.0, 'WL_Thickness': 350.0}, {'Slope Angle': '38', 'HS': 480.0, 'Profile Depth': 480.0, 'Pit Near Avalanche Location': 'crown', 'WL_Depth': 270.0, 'WL_Thickness': 20.0}, {'Slope Angle': '32', 'HS': 1440.0, 'Profile Depth': 1440.0, 'Pit Near Avalanche Location': 'crown', 'WL_Depth': 960.0, 'WL_Thickness': 230.0}, {'Slope Angle': '31', 'HS': 4500.0, 'Profile Depth': 1500.0, 'Pit Near Avalanche Location': 'crown', 'WL_Depth': 920.0, 'WL_Thickness': 10.0}, {'Slope Angle': '40', 'HS': 1950.0, 'Profile Depth': 1950.0, 'Pit Near Avalanche Location': 'crown', 'WL_Depth': 1000.0, 'WL_Thickness': 100.0}, {'Slope Angle': '29', 'HS': 1100.0, 'Profile Depth': 1100.0, 'Pit Near Avalanche Location': 'flank', 'WL_Depth': 330.0, 'WL_Thickness': 70.0}, {'Slope Angle': '23', 'HS': 1030.0, 'Profile Depth': 1030.0, 'Pit Near Avalanche Location': 'flank', 'WL_Depth': 280.0, 'WL_Thickness': 50.0}, {'Slope Angle': '42', 'HS': 1700.0, 'Profile Depth': 1700.0, 'Pit Near Avalanche Location': 'crown', 'WL_Depth': 470.0, 'WL_Thickness': 230.0}, {'Slope Angle': '38', 'HS': 1330.0, 'Profile Depth': 1330.0, 'Pit Near Avalanche Location': 'crown', 'WL_Depth': 610.0, 'WL_Thickness': 50.0}, {'Slope Angle': '36', 'HS': None, 'Profile Depth': 1600.0, 'Pit Near Avalanche Location': 'other', 'WL_Depth': 0.0, 'WL_Thickness': 300.0}, {'Slope Angle': '38', 'HS': 900.0, 'Profile Depth': 900.0, 'Pit Near Avalanche Location': 'crown', 'WL_Depth': 240.0, 'WL_Thickness': 20.0}, {'Slope Angle': '17', 'HS': 2350.0, 'Profile Depth': 700.0, 'Pit Near Avalanche Location': 'flank', 'WL_Depth': 200.0, 'WL_Thickness': 40.0}, {'Slope Angle': '40', 'HS': 2800.0, 'Profile Depth': 2800.0, 'Pit Near Avalanche Location': 'crown', 'WL_Depth': 200.0, 'WL_Thickness': 30.0}, {'Slope Angle': '33', 'HS': 1500.0, 'Profile Depth': 1000.0, 'Pit Near Avalanche Location': 'other', 'WL_Depth': 0.0, 'WL_Thickness': 200.0}, {'Slope Angle': '36', 'HS': 1300.0, 'Profile Depth': 1300.0, 'Pit Near Avalanche Location': 'other', 'WL_Depth': 230.0, 'WL_Thickness': 130.0}, {'Slope Angle': '38', 'HS': 900.0, 'Profile Depth': 900.0, 'Pit Near Avalanche Location': 'crown', 'WL_Depth': 670.0, 'WL_Thickness': 230.0}, {'Slope Angle': '35', 'HS': 4200.0, 'Profile Depth': 4200.0, 'Pit Near Avalanche Location': 'crown', 'WL_Depth': 350.0, 'WL_Thickness': 100.0}]\n"
          ]
        }
      ],
      "source": [
        "pit_info_list = []\n",
        "for pit in avalanche_pits_with_layer_of_concern:\n",
        "    depth_top = pit.snowpit.snow_profile.layer_of_concern.depth_top\n",
        "    if depth_top:\n",
        "        depth_top_mm = depth_top[0] * convert_to_mm[depth_top[1]]\n",
        "    else:\n",
        "        depth_top_mm = None\n",
        "    thickness = pit.snowpit.snow_profile.layer_of_concern.thickness\n",
        "    if thickness:\n",
        "        thickness_mm = thickness[0] * convert_to_mm[thickness[1]]\n",
        "    else:\n",
        "        thickness_mm = None\n",
        "    slope_angle = pit.snowpit.core_info.location.slope_angle\n",
        "    if slope_angle:\n",
        "        slope_angle_deg = slope_angle[0] * convert_to_deg[slope_angle[1]]\n",
        "    else:\n",
        "        slope_angle_deg = 0.0\n",
        "    hs = pit.snowpit.snow_profile.hs\n",
        "    if hs:\n",
        "        hs_mm = hs[0] * convert_to_mm[hs[1]]\n",
        "    else:\n",
        "        hs_mm = None\n",
        "    profile_depth = pit.snowpit.snow_profile.profile_depth\n",
        "    if profile_depth:\n",
        "        profile_depth_mm = profile_depth[0] * convert_to_mm[profile_depth[1]]\n",
        "    else:\n",
        "        profile_depth_mm = None\n",
        "    pit_near_avalanche_location = pit.snowpit.core_info.location.pit_near_avalanche_location\n",
        "    pit_info_dict = {\n",
        "        \"Slope Angle\": slope_angle_deg,\n",
        "        \"HS\": hs_mm,\n",
        "        \"Profile Depth\": profile_depth_mm,\n",
        "        \"Pit Near Avalanche Location\": pit_near_avalanche_location,\n",
        "        \"WL_Depth\": depth_top_mm,\n",
        "        \"WL_Thickness\": thickness_mm,\n",
        "    }\n",
        "    pit_info_list.append(pit_info_dict)\n",
        "\n",
        "print(pit_info_list)"
      ]
    },
    {
      "cell_type": "code",
      "execution_count": null,
      "id": "4fe65692",
      "metadata": {},
      "outputs": [],
      "source": [
        "# Setup standard values\n",
        "wl_spacing = 50 # mm\n",
        "phi = 0.0\n",
        "standard_scenario_config = ScenarioConfig(system_type=\"skier\", phi=phi)\n",
        "standard_weak_layer = WeakLayer(rho=125, h=20, E=1.0, sigma_c=6.16, tau_c=5.09)\n",
        "standard_segments = [\n",
        "    Segment(length=10000, has_foundation=True, m=0.0),\n",
        "    Segment(\n",
        "        length=10000,\n",
        "        has_foundation=True,\n",
        "        m=0.0,\n",
        "    ),\n",
        "]\n",
        "standard_criteria_config = CriteriaConfig()\n",
        "standard_criteria_evaluator = CriteriaEvaluator(standard_criteria_config)"
      ]
    },
    {
      "cell_type": "code",
      "execution_count": null,
      "id": "fceb2cc6",
      "metadata": {},
      "outputs": [],
      "source": [
        "def eval_avalanche_pit(parser: SnowPilotParser, pit_info_dict: dict, scenario_config: ScenarioConfig, segments: list[Segment], weaklayer: WeakLayer):\n",
        "    # Extract layers\n",
        "    layers, density_method = parser.extract_layers()\n",
        "    heights = np.cumsum([layer.h for layer in layers])\n",
        "    \n",
        "    wl_depth = pit_info_dict[\"WL_Depth\"]\n",
        "    mask = heights <= wl_depth\n",
        "    new_layers = [layer for layer, keep in zip(layers, mask) if keep]\n",
        "    # Add truncated layer if needed\n",
        "    depth = np.sum([layer.h for layer in new_layers]) if new_layers else 0.0\n",
        "    if depth < wl_depth:\n",
        "        additional_layer = copy.deepcopy(layers[len(new_layers) if new_layers else 0])\n",
        "        additional_layer.h = wl_depth - depth\n",
        "        new_layers.append(additional_layer)\n",
        "    \n",
        "    try:\n",
        "        model_input = ModelInput(\n",
        "            weak_layer=weaklayer,\n",
        "            layers=new_layers,\n",
        "            scenario_config=scenario_config,\n",
        "            segments=segments,\n",
        "        )\n",
        "        system = SystemModel(model_input=model_input)\n",
        "        \n",
        "        cc_result: CoupledCriterionResult = standard_criteria_evaluator.evaluate_coupled_criterion(system, print_call_stats=False)\n",
        "        sserr_result: SSERRResult = standard_criteria_evaluator.evaluate_SSERR(system, vertical=False, print_call_stats=False)\n",
        "\n",
        "        pit_info_dict[\"impact_criterion\"] = cc_result.initial_critical_skier_weight\n",
        "        pit_info_dict[\"coupled_criterion\"] = cc_result.critical_skier_weight\n",
        "        pit_info_dict[\"sserr_result\"] = sserr_result.SSERR\n",
        "        pit_info_dict[\"touchdown_distance\"] = sserr_result.touchdown_distance\n",
        "    except Exception as e:\n",
        "        print(f\"Error processing pit {parser.snowpit.core_info.pit_id}: {e}\")\n",
        "        raise e\n",
        "        \n",
        "    return pit_info_dict, layers, weaklayer"
      ]
    },
    {
      "cell_type": "code",
      "execution_count": null,
      "id": "d9fa774a",
      "metadata": {},
      "outputs": [
        {
          "data": {
            "application/vnd.jupyter.widget-view+json": {
              "model_id": "53961f79b86d47bc98ca8ebe992dc44b",
              "version_major": 2,
              "version_minor": 0
            },
            "text/plain": [
              "Processing avalanche pits:   0%|          | 0/848 [00:00<?, ?it/s]"
            ]
          },
          "metadata": {},
          "output_type": "display_data"
        }
      ],
      "source": [
        "data_rows = []\n",
        "error_pits = []\n",
        "for pit, pit_info_dict in tqdm(zip(avalanche_pits_with_layer_of_concern, pit_info_list), total=len(avalanche_pits_with_layer_of_concern), desc=\"Processing avalanche pits\"):\n",
        "    scenario_config = ScenarioConfig(\n",
        "        phi=pit_info_dict[\"Slope Angle\"],\n",
        "        system_type=\"skier\",\n",
        "    )\n",
        "    try:\n",
        "        pit_info_dict, layers, weaklayer = eval_avalanche_pit(\n",
        "            pit, \n",
        "            pit_info_dict, \n",
        "            scenario_config, \n",
        "            standard_segments, \n",
        "            standard_weak_layer)\n",
        "        data_rows.append(pit_info_dict)\n",
        "    except Exception as e:\n",
        "        error_pits.append(pit)\n",
        "        print(f\"Error processing pit {pit.snowpit.core_info.pit_id}: {e}\")\n",
        "        continue\n",
        "\n",
        "print(f\"Number of pits with errors: {len(error_pits)}\")\n",
        "print(f\"Number of pits processed: {len(data_rows)}\")\n",
        "print(f\"Number of pits total: {len(avalanche_pits_with_layer_of_concern)}\")\n",
        "\n",
        "df = pd.DataFrame(data_rows)\n",
        "print(df.head())"
      ]
    },
    {
      "cell_type": "code",
      "execution_count": null,
      "id": "0e684f05",
      "metadata": {},
      "outputs": [],
      "source": [
        "df.to_csv(\"data/crown_flank_dataset.csv\", index=False)\n"
      ]
    },
    {
      "cell_type": "code",
      "execution_count": null,
      "id": "55259938",
      "metadata": {},
      "outputs": [
        {
          "name": "stdout",
          "output_type": "stream",
          "text": [
            "SSERR Median: 4.915874695541406\n",
            "SSERR Mean: 5.553898422948149\n",
            "SSERR Std: 3.3576420463450023\n",
            "CC Median: 213.85094701750222\n",
            "CC Mean: 215.83307179093745\n",
            "CC Std: 103.73382335856874\n"
          ]
        }
      ],
      "source": [
        "sserr_median = df[\"sserr_result\"].median()\n",
        "sserr_mean = df[\"sserr_result\"].mean()\n",
        "sserr_std = df[\"sserr_result\"].std()\n",
        "\n",
        "print(f\"SSERR Median: {sserr_median}\")\n",
        "print(f\"SSERR Mean: {sserr_mean}\")\n",
        "print(f\"SSERR Std: {sserr_std}\")\n",
        "\n",
        "cc_median = df[\"coupled_criterion\"].median()\n",
        "cc_mean = df[\"coupled_criterion\"].mean()\n",
        "cc_std = df[\"coupled_criterion\"].std()\n",
        "\n",
        "print(f\"CC Median: {cc_median}\")\n",
        "print(f\"CC Mean: {cc_mean}\")\n",
        "print(f\"CC Std: {cc_std}\")"
      ]
    },
    {
      "cell_type": "code",
      "execution_count": null,
      "id": "3b937b0a",
      "metadata": {},
      "outputs": [
        {
          "data": {
            "application/vnd.plotly.v1+json": {
              "config": {
                "plotlyServerURL": "https://plot.ly"
              },
              "data": [
                {
                  "marker": {
                    "color": "red"
                  },
                  "mode": "markers",
                  "name": "Impact Criterion",
                  "type": "scatter",
                  "x": {
                    "bdata": "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",
                    "dtype": "f8"
                  },
                  "y": {
                    "bdata": "5CbFQgoQdkB1c11si21RQJMV8mqva0JAWip7gMpuZUAz9eTNCgxKQDORaFz+fG5AmKiCE9qNUEA6x/2iAINqQOKrpxJHQ2BAe8ssuN8gaEBRGLlJ9Y1xQJQhfkxwwEJA3rwFHNDhY0Cav0bZD+dfQDvuPO6H2W1AbAtHwxhwaUCwmWP0edlnQEXbsNILZnFAcv3BHkVHXUAnPBxR43dyQF4KYfR/q3JA41KfyGt3a0BOWer7GbpXQMgAK2jRTWhAOasNFIGNTkBOk37z+KhaQIKOy8YfZnBANwvlMpC9bkCt6HkYoyBtQC49cdndxHJA3PIGZ5MxVUB/exG+K1BgQCE99o9wZ2hADbIpYKoYX0Br/1kyjj1WQEBjCBsyU2dAa0StDWUlXUDhfTF4e4R0QO8Jpe5vykRAad0X0bwBZECJlGpIeMpCQO/vHIW4hVNA2a0l59HsbUCCnUOQSrhoQLZsRlo5+1dAsxT4u1azYkBq+QZ55k1wQLazPmqZXU5A3T4qzyWjYEAvrXopeMdqQLR9ky0rs2hA5WdLrwkwakBa1Ay5ihh1QEro/U1XA3FAz/uvXAoqX0ABBl/NApdcQJXUhkwW7GJAjrKhcj1mcUBj5+LdVKdkQDfmvc3UNmVAAAAAAAAA+H+5RqjPNshkQOkQVGOkyWRAXe68euXcZEAuPY/V3ZRzQDI1egvECXJAHmLxdIKNWkDspVkSEWR3QIqogqwuHWlA2/fsC3pbYEDlgcKs1+9hQIDh1xjqBXFAAuKLHQDHZ0DSyKa9EM9JQM7+yZ86BVxAPxMbZam1QECraeaqwOZiQKECmzwu3kpALnuSWm/TaEAxpTnLXH9iQFahYuDQ4lJA13kvFHEnVUCriXfdFzNnQAkSaYJAeWxAvFsTJc74R0Bp0HlDanxXQHUfpooI7WZAdsT+/iT8ckDgsb0PmKJlQPvuFKF7IWNAX/l2TE+vbUCMpDYxMAhEQJKmuNybr2ZALnC1Zv6FakAAAAAAAAD4f8tap8ihxlxAZ9gJw7VJc0Bx8FuqWExIQMZGBKMcjWFAxgK6hy4OZkCp3YJTlaBNQLa+IJVJ6mFAatZ3FDuUdEBhgANGIvdsQA6YjBGKu2lAg7EnWeEVZ0BpZP9KkrZjQLwL8hHrAmRANaTzHdHAa0D6LO29CUpgQOjHoAhO/WJAMWA4qP9BZkA0l33I9GhlQPGl0p5/PUhAA1CL6vfecUCNaXfGNNBlQIGbsbBsHW5AWl0actc9UkClIltCCPVmQFs9Sw3uGnFAfUO+DSBlb0DbWvuDiAdmQNAvS/wQsWVAQVEgm1uFZkB5aeWzogZcQEEc4AdnXlVAyMHLEM22Z0AAAAAAAAD4f3g7yFL7DWxAxThGpngcYEC9oJ7bHvxTQDaT2e+SFVNABfnEthXDZUDb5wDQj8JQQNtoS9k6CmZAjAoe32pPYkClIltCCPVmQOy56QXZoXNAx3YCTIB0ZkClIltCCPVmQMhmFfd4OU5Adp5x+iiQYUD/QBReAMpSQK4SBc2F5lJAurAJxXjQa0B9Q74NIGVvQKUiW0II9WZAbmk5DBsDYEDKos1USdJoQLTQVXu57G9AKoIwAUkRcUCsTK+77kxsQKUiW0II9WZAPzHW5G/abUCZhsCRBRRxQKUiW0II9WZAigDdwh+cakArSRLqEWhwQFQn77CEeXFAM8TmyT55W0Cq8A9yxLtoQAf3MzAKbGNABg6An8nDQkA7zf6QRfpIQH1Dvg0gZW9ApSJbQgj1ZkAjakHiY39tQMOkdYJ7unNAdEYBKtjkH0AjndSB7gdnQOwbHeJh/HNA/owj7brRRUCu6dIKdw1lQKUiW0II9WZAQFwQwqf4Y0AzXTioCdNyQEumSmLgrHVAra/jfLU5ZkDyXJVcx95UQFtJjGkRaVpAuraEZdp3ZEDva/25CbxwQDfHZtWzqGBAyE0ktFeiZECgXc745L91QLTv19eXKGJA6Ga8mQEEVUDeTyZ/dNNsQDP/7l890WBAMh1rkCExaUClIltCCPVmQHLeEwzD72dAHlslp+FqaECnjfW0Ww1rQC3Dkq4YmnRA8Z/7BOtaU0CCLlfjz71QQGDPu3NMNV9AqoVX+NWuTkDFCxLElZ5nQJgYlHncQnRAdILzspeocEA0gLLa70BRQC8+U2Q1UWJADnGxzCoob0BLOE0+RpBMQD91L6vyvVdA0qOCQhyvd0AbvxEicrxnQKIAhNxTyGNAMX4bwHAQa0CRDkZoALpVQBse74MeSWpAJNqkK92ZTkDMGPaVCFgfQIpG3zE/XHJA5d2vjOTiZECXBIUUsI9IQHiqrrxO/2hARr+6NvlIb0AlMIny/1R0QK+NF2CfVmZArTyglogKaUC8fG8CtDttQJDq/Fii5nZAKIbF5j4JcECSbIf0qPNhQKUiW0II9WZASPiBTCu8P0AE2b4aeaR3QOj7o9SwynFAju42tt7/ZkCPZ2ObCtRDQKUiW0II9WZAGV+EBrmbU0CjeLX+5EpTQKGZAayBvF1AZn8G9CKZaEC3dKc4Yy91QIDaIlMR625AcD/eQKUpckB8JoHEflBgQCRJCRRPh2lACsXTij/PUECjVtewbsRtQO/aq78DEVRAawsGQljlYkAar5Q73vRqQIMkiArNx0VApSJbQgj1ZkDVqYK2oxRrQAAAAAAAAPh/cIWvWF/8XEClIltCCPVmQM0Ste2IT2lAaYINo0FJZEClIltCCPVmQI1x4amajmZA89cEk4NDakA7wZeSDPRvQGDMCXIG3UhAX+PLp1KfZkBMLd0r+a1yQCXtiQ0EynBAMyvziIQ5ZkC5M7c3sEFcQHRGASrY5B9AmkyT5ebKV0DfHubnlitxQJmGwJEFFHFApSJbQgj1ZkAcdlJDkoNrQKcXb3nLhF1Ak6+xhFEfYUDIeFjkEcp3QFqJjLZWyHFAqh6g0rTqcUApqrtFn/ddQAatHfmHLHFARndb0DbFWkCMtErDhK5qQKUiW0II9WZASnRTJPtTckB5ySmSRFNcQHdaEGFxEllAfUO+DSBlb0BuzMJg84VqQOW5Wgdu23FARQr/Y1RaXkBCHbOiDNRnQPr9VASwMl5AJPIpJobCb0C/orumv3txQMWQJVeqqmVAz1bF6atzaUCaCL+87DB0QGia6l+umWdAbVMzemP8ZED9OR2UT7ZhQOUlZXKW011AbEIuLhq6WkAKG0KlSG48QFa/CRAEWlVAFw3QzuSNYkABqyYdBYViQNGFMCTOtVNAdbD0GUDoZEB0Z9O/ZU5DQHTDHc4RyV5Aalotw1saVUB9Q74NIGVvQK5aRjMu+XBALIb9doVAV0DejbqKOs5lQGVAkSHphmtAOtEhCsGlYkDwCyxqEHBgQJmxkAOlm2JApVE3UIxEbEBtShuD0a1xQM56hYFBXWFA5A6ohOWBakBOL6f7Rl9rQORBu1RGB2hAYF17EO+/cUBdrHnlZkVvQAdI8uE7tHJAuehBCe47YUAloI7BM/lOQCLAfl/tTGVAFZtQoxBDbkB15AbKa/FhQNQ9O6hnl2xAw5HNQxg5WUBDEpSKTxxNQNXdoBdoC3lAAfZeWf4LakBPZsyLyuBiQMZRe6SQ7mlAaX/s7zMmb0Cpj7B2huxuQGtH25t+VlJA9itXlC7yX0CI8VXTuFFdQHCcN3DGfFFAiUF3V+ExVECLwqARlCZgQMK1F4sx6GZAXMF8e9NLfkDRE4EpO1huQAI/NkMdt3RAFy/K6zbTcUBCHllhI+1uQIBLn5LqaHFAuqhzSp2tW0CX2jEVLfNhQIKGsLqOJGZAqVO+HLSXbUDog+5Drr9aQCw3nYqCxnFANGvbajpXcEA/CO6wybpVQCRkJ+lMGWlAnMcSuU7lY0B0m9MQbMVlQGLGMm6HjlxA+TUwwW1nU0DixnyCs1xrQNrsmbjn83JA6DVgB2lodEAAAAAAAAD4f01U/+PQQXRAT7THg0z/aEAUd9lXlbhiQFploQzWW2hAALLaKp84ZkCsFuYjB+luQArDnrIfU15AOWcWsq/Tb0AAAAAAAAD4fyBqkBpR3GpAlRZ6261ucEBfDlSLnmRuQKl8Gy5vXm1AfOITN0tdX0Ctg8ShLLxpQLk7myCXY2dAuZN8N2o2aUDwh7ELxt5mQB8beZOHkFxA3ik83yWvXkAQA6WF0h1VQFJcXzrrv1dAPYIjH/fnVEDxrQrANOdiQEGyvuKLtG5AjV2udBDhJkC+G1YAETBkQEAx68wOElpA/JEMMsn2Z0A8ytGOfeRbQMgTzL0EjWRAumVU218FcEAPMhFLD45rQHBxvGFyql5AhX3OWfs6WUDTbht7ub52QKpgw6p0GnFAe0W4eEpiZUAA0C4NI85PQFZ1FoiMDmdAAAAAAAAA+H/R/nTA7aVsQD6tN2zF5ktAatcMBcPgZ0D8N25SrkBSQMo6p7BtSFlAp0Cpa1eWWUDKS/9x5MJSQLRlLGm2Fm1AX5OuUu9Qb0B31dLyivxwQF0TeGmhcVpAy5aEiPrVYEBem7wrGhBRQCeOxj3LgUlAuc4V5IbFbkCFiJtXpRFsQNCmu9+sYXVAJ+nCJAxmYUDSEiT8oUo/QOrqz/WMzFRACSKq26ILdEA60SEKwaViQF/rX3ZROmZA9X0hHAlOZ0AXyIoIVpJnQIVrO1QPJ2lAmIbYwQU4ZkAcWbBcbH5fQO0t2DIWO2dANpikndUyWEBf5UJgjURwQMaO5AdjiXFAxWWZmxr5ckCqOgFnuY9UQETvqidYPlNAc0SCnfXFXEBw6DCeRk1sQF/rX3ZROmZA3ob3PTRCckCtFNvDO8tRQOXU5oIaHWNAsBK7wxL/UUALwqAQ8+UxQKkX32X4sFBASMHIHVRqO0CSRgroRk1RQGHnO6ic03BAzskT/yJKY0D76+XxAtRsQK+PawLbgFlAfdkbu3MwU0AV9glPyttdQBXCyCh2VmNAKVjvPTMidkCQ48HqIdlhQAAAAAAAAPh/fsHVa6VyZEDv9+wJTOFiQFWN6PMAcGhAU2WPnNYHZ0Ap4xaNa3ByQGxDXIl9nHhABK+WmLW1akDCeBJ7WuouQJWXMsB3kGVAuTplIgLbZkDKe7qmXgJqQIi45yhFQ2RAZ/KgHNFDdEBzp9tHAbBbQI43LD8m80VA+CwesqRCY0D6s0cIP0dcQBnz/spT8EVAgnhYdLOLaUBQwmvpFupgQHT9wfA9i3JAkZoipHcdd0BkJOlx5y9pQFBrz+HgSFBAgu6fwJJXUEDi4WkYCHZTQHahRpyZfnFAJtu95ZvcaUDi75hf8ZpnQEWTuJgfcVxAQFJRwnnoXEBKvjzJbylmQKH82kX2UC5AL4UW14dyZECqyP2mjmRAQP4HbcakimFAEEZXcss2aEDOGnPfEC10QMAWG5/ev2NAoT92EpVPUUAKSaivVi5pQECxafL9CmRAtnQcUFJFUUAnSC3/xqhMQHCVkCKP62ZAhhyYwKO8d0DJXo2rrrBkQOmu095roGtAQXCcD1f5Y0Br9CdgBDFgQNeE8QgIzWhA5qNGsjG4ZEBXEKqOL49uQLd08i/y4nJAPtCtr1xSW0BxvkQfRZ1WQAjJXS0VemZA3WvLi9t3b0At1eJumMZbQLgsI6mRullA5ttWrUL4aUCLD+pFN8RXQPXKjmB1NGBAdSGP7dXDRUB+Qx0BdnJTQOtCXjv+nHRAAAAAAAAAAAArNQF7mq5oQNitx34XYWRA2Jvkn8svcUDA9drQLSpzQCQXWQJV1W1AfC7Hj6aBdkBnJX/E5XZqQPS/wt01oGFAvjJzmIM5YEDjw+VI3nNmQORyERfOxGVAFYUbc0wANEBTLwtDwVNhQI5Hb5DvsmVAQU39eFTtYECJPO8GaltTQPmvjY1JQ19ADT3zhkN0TEAo8JqZX+dHQMeb5Z98/mBA3z+IG9K0ckBH/4ZtORFnQMqkdk+1Xl1A0w0CJ0siY0DISB/KCgcxQHkkI35NnllAMX0Q7C9qdUCdKyCKay1zQAYWWND9IDVAMlipb6rUPUAKy2+7LsxmQHTjyPQVYGZAozwoRu6RY0ATilI1BW5qQA5iqbPA+3FApfiWfuvWVkA9slbjsoNhQCq4cf06cERAJSxPqnKOY0DXnDEH0B5xQHg0mMWbBGRAdf3wxaEpcEBIrfGhhexyQF9nidSuEl1AMd+ejymHS0CKMnBkUuxnQIAJvbhTXCZAG6duQTzmcUBMxk6woUhxQGazqls3P2xAt7Za539NY0AeyCqAVk5tQIU1JCv4dGhA+2vPWGjAdUCKdBVoi7thQAe7G1RNxVtAuO+TT8RxZEAT94nxpsxoQLlo1Q3CX19AQFoEq7Wud0BWip/afJRRQHiqnTgEbGNAfFvtAHKcYEDnDTLhj0RxQEwt5C8yGmpAO/p+zNwaYUDiA0C1qRFRQE83aNH+PHRAFz7W6rwtaUAVYSCRAeJlQBt1uEld1VtA/3Rf4vG8XECJvolSKcxvQG6KvBBjoXVAEcuMcSYNbEDk6fKyHdJjQNVtsluxkVxA06ek1aWGTUCTHi42DDVXQMdFcWPEUW9A2VUU4DuVb0D4/kPs/m9pQOrj8Pez8GdA2JPg6lBIdEBJQEbz72RyQJdXOnnkNXRACGZKeULzX0C/q1ZFaahYQPqSQ8jl1HdAS+Mo6vepZUBJmxZsf9ReQJWNwXfykFJA6KNaARlWY0CRLLJrT9ZlQJ0emRBMsmlAdvJRJAcWUkBizCes7t9nQCZ8hu7H8FpAtspTDwQmckAmz2QRaZZSQNq/uPmxJmBA5anXYqe3W0AP+UfpF+JFQEaf8pYFg1xA6Gi1xvV4ckDWEvA4fRNlQMkQUpESC3JAnbGlOdJvY0C7WOHvysBOQIhoL0B3YlRASUkKoTdlbEBn7tjv3+VdQKJ87twYyWNADxsQElQ6eEDhUAlFlNheQEFwnA9X+WNAueKiwP8La0AyvixoauxAQH0xGqUOSmZAjzdwHLb7a0DmTUAVzzVYQOwT8kQgp2lA2+sPnugINUCAQOGbFqhlQKiMIYrFaGFASLY0ThPEWECamygi7z9YQEF5A4QtJ3dAieKTfvQJZEB8WBRIJJZRQPfF61wyr3BAPXmr5dkQYkBMUJzAkflrQM8m7YdgknVARNtUAosnZEC4UIQFfC1oQOrzZ/xBPllAy1UzvC86YEClAm06uF0sQPTMQNbKP2BAdYMK0r5vYEBn5IBNoYVwQH1/uAH6hmVAWUk0AQ7/YUAaP23txxxnQGO53RUzBGBALbUpxj2LcEC0jFBsA5x0QA1lrO/mX0BAciBaz+NvcEBgeyI6Tm9XQHX7qo0tL15A4Tk7uwzkZkCdIfzpQGtgQH38Xc55U29AyLYoTujCZUBYKC32Q+JjQAbKBhZBi3FAwUof8KfRZ0BrTrFi+ABYQLRhLBAzT3VAfmZHUTHbb0CMBA5yJChJQLo4rJ8K8GtAXSy0ThF+dkA21YL22EBgQEOmadojBGVAyieJ9SnTc0CwmOQreo5vQPlmoksVyU9A0GLPZKQoX0CUhk8obe1cQODPJlGZJVRAIAxI83wbaEAU6Cpjhl9bQMQ5KNVjjGZAHmYhXKNmZ0DvHrdpRWRaQCIdyy5D2GNAjEVOzBb5cEDoHFxoz/pvQFTu4avalVtA1FQkgvtgV0DqQrLyQy5QQCjnUqd6SWlAQ8tWDqFxb0CdN+7qF81sQPbLVATEz3BAE9pmyfFjT0CYiEb71lBxQIGF+fVWM2hADY2/iwdyaECo+/vPAYZmQFAHLtq67GZAE289sdUTTUAQNCKoSHBkQFjWrmKAH1dAa28LVKZLakC/HF/YmpxQQCwhPPGJWlxAYoPhy5GWbUCR4D1aZjwzQOiud/H0lGZAT1hGHPuBTUAJCaKyiW1bQPl9GlouWWlAidqYE1RCaUDLtzNAqhhlQGLwEaMzf2RAkNv8AknUYkDlP30sP5xjQFkY7UZiPV9AM9eEf/I7ZUDPuRAi1sJwQNhxlrlTXGVApKMHFQ5/akCiAoCvjlRuQCWV8KuoHz1A/QPcT4WDbUCty9KjUvJIQDscyNzBNXFATXz58g/yU0DgYOjBnJV0QOZ6bTbcf3RAtyX6sguAc0DV4Y9m8fZrQPd4RQvUe3BAb/kl75h7c0AZAXd7GbAuQGx/XMjSx3NAtSpqqPzlaECdoKnpvppOQOb7JfcGjHBAAAAAAAAA+H84JwjxfktoQJ4cea3hSllAdh29lvURaEBqd3Jn071nQE0fMEJBimZA+UB5cukYcED2m50nSyR0QO3BtNjajWVAJ2k56KUFT0A0G+z/uLdtQL69d/jqvHBAepNNnp5scECWcXoKTf1PQKPCm1+52WxAAxMAQNCNWkBEt6+tcPhwQJrf82dgc1tAzVUFikgvYUBURn4CU15wQJfhwl+c50ZA076RHgL5Z0B2qmjX16BcQEkUqnW4J09AMFM+kqurQ0Bzyn3JHjNyQPCSmLPjO2RAREJgLuuTVUCEL+U+SxZUQCnzS5/A62lA4/Eya+HceECWvYOsHL9wQB+K0RO8UGtAIW3rgoJ+a0BOCaO0JhJ2QLcXMV73y3BALyDciwGxYUBMWEP8oxhnQK4wSNUrWV5AxakG3ZEVV0ABE90HVGRJQG0wsH83Q2JALly5ujVeckD29GroQ8NVQLkKo5u5OnRA5FFQRc9ubED6U9EGd2RmQC24vlfWs21AweuOBfaQakCXxToqJbJ2QAAAAAAAAPh/SK3xoYXsckC8BBsUFJ9KQEWRBaZh3G9A9ljeXMmLaUA2D3pteW1xQGPCYWGJomxACuJMY6NpZUCDAoBPsC1vQAAAAAAAAPh/R1Pt/I93a0AQrZYAZddaQAAAAAAAAPh/nDVP9CdlREC95tcu0QNfQNe4MJeFTFNA",
                    "dtype": "f8"
                  }
                }
              ],
              "layout": {
                "template": {
                  "data": {
                    "bar": [
                      {
                        "error_x": {
                          "color": "#2a3f5f"
                        },
                        "error_y": {
                          "color": "#2a3f5f"
                        },
                        "marker": {
                          "line": {
                            "color": "#E5ECF6",
                            "width": 0.5
                          },
                          "pattern": {
                            "fillmode": "overlay",
                            "size": 10,
                            "solidity": 0.2
                          }
                        },
                        "type": "bar"
                      }
                    ],
                    "barpolar": [
                      {
                        "marker": {
                          "line": {
                            "color": "#E5ECF6",
                            "width": 0.5
                          },
                          "pattern": {
                            "fillmode": "overlay",
                            "size": 10,
                            "solidity": 0.2
                          }
                        },
                        "type": "barpolar"
                      }
                    ],
                    "carpet": [
                      {
                        "aaxis": {
                          "endlinecolor": "#2a3f5f",
                          "gridcolor": "white",
                          "linecolor": "white",
                          "minorgridcolor": "white",
                          "startlinecolor": "#2a3f5f"
                        },
                        "baxis": {
                          "endlinecolor": "#2a3f5f",
                          "gridcolor": "white",
                          "linecolor": "white",
                          "minorgridcolor": "white",
                          "startlinecolor": "#2a3f5f"
                        },
                        "type": "carpet"
                      }
                    ],
                    "choropleth": [
                      {
                        "colorbar": {
                          "outlinewidth": 0,
                          "ticks": ""
                        },
                        "type": "choropleth"
                      }
                    ],
                    "contour": [
                      {
                        "colorbar": {
                          "outlinewidth": 0,
                          "ticks": ""
                        },
                        "colorscale": [
                          [
                            0,
                            "#0d0887"
                          ],
                          [
                            0.1111111111111111,
                            "#46039f"
                          ],
                          [
                            0.2222222222222222,
                            "#7201a8"
                          ],
                          [
                            0.3333333333333333,
                            "#9c179e"
                          ],
                          [
                            0.4444444444444444,
                            "#bd3786"
                          ],
                          [
                            0.5555555555555556,
                            "#d8576b"
                          ],
                          [
                            0.6666666666666666,
                            "#ed7953"
                          ],
                          [
                            0.7777777777777778,
                            "#fb9f3a"
                          ],
                          [
                            0.8888888888888888,
                            "#fdca26"
                          ],
                          [
                            1,
                            "#f0f921"
                          ]
                        ],
                        "type": "contour"
                      }
                    ],
                    "contourcarpet": [
                      {
                        "colorbar": {
                          "outlinewidth": 0,
                          "ticks": ""
                        },
                        "type": "contourcarpet"
                      }
                    ],
                    "heatmap": [
                      {
                        "colorbar": {
                          "outlinewidth": 0,
                          "ticks": ""
                        },
                        "colorscale": [
                          [
                            0,
                            "#0d0887"
                          ],
                          [
                            0.1111111111111111,
                            "#46039f"
                          ],
                          [
                            0.2222222222222222,
                            "#7201a8"
                          ],
                          [
                            0.3333333333333333,
                            "#9c179e"
                          ],
                          [
                            0.4444444444444444,
                            "#bd3786"
                          ],
                          [
                            0.5555555555555556,
                            "#d8576b"
                          ],
                          [
                            0.6666666666666666,
                            "#ed7953"
                          ],
                          [
                            0.7777777777777778,
                            "#fb9f3a"
                          ],
                          [
                            0.8888888888888888,
                            "#fdca26"
                          ],
                          [
                            1,
                            "#f0f921"
                          ]
                        ],
                        "type": "heatmap"
                      }
                    ],
                    "histogram": [
                      {
                        "marker": {
                          "pattern": {
                            "fillmode": "overlay",
                            "size": 10,
                            "solidity": 0.2
                          }
                        },
                        "type": "histogram"
                      }
                    ],
                    "histogram2d": [
                      {
                        "colorbar": {
                          "outlinewidth": 0,
                          "ticks": ""
                        },
                        "colorscale": [
                          [
                            0,
                            "#0d0887"
                          ],
                          [
                            0.1111111111111111,
                            "#46039f"
                          ],
                          [
                            0.2222222222222222,
                            "#7201a8"
                          ],
                          [
                            0.3333333333333333,
                            "#9c179e"
                          ],
                          [
                            0.4444444444444444,
                            "#bd3786"
                          ],
                          [
                            0.5555555555555556,
                            "#d8576b"
                          ],
                          [
                            0.6666666666666666,
                            "#ed7953"
                          ],
                          [
                            0.7777777777777778,
                            "#fb9f3a"
                          ],
                          [
                            0.8888888888888888,
                            "#fdca26"
                          ],
                          [
                            1,
                            "#f0f921"
                          ]
                        ],
                        "type": "histogram2d"
                      }
                    ],
                    "histogram2dcontour": [
                      {
                        "colorbar": {
                          "outlinewidth": 0,
                          "ticks": ""
                        },
                        "colorscale": [
                          [
                            0,
                            "#0d0887"
                          ],
                          [
                            0.1111111111111111,
                            "#46039f"
                          ],
                          [
                            0.2222222222222222,
                            "#7201a8"
                          ],
                          [
                            0.3333333333333333,
                            "#9c179e"
                          ],
                          [
                            0.4444444444444444,
                            "#bd3786"
                          ],
                          [
                            0.5555555555555556,
                            "#d8576b"
                          ],
                          [
                            0.6666666666666666,
                            "#ed7953"
                          ],
                          [
                            0.7777777777777778,
                            "#fb9f3a"
                          ],
                          [
                            0.8888888888888888,
                            "#fdca26"
                          ],
                          [
                            1,
                            "#f0f921"
                          ]
                        ],
                        "type": "histogram2dcontour"
                      }
                    ],
                    "mesh3d": [
                      {
                        "colorbar": {
                          "outlinewidth": 0,
                          "ticks": ""
                        },
                        "type": "mesh3d"
                      }
                    ],
                    "parcoords": [
                      {
                        "line": {
                          "colorbar": {
                            "outlinewidth": 0,
                            "ticks": ""
                          }
                        },
                        "type": "parcoords"
                      }
                    ],
                    "pie": [
                      {
                        "automargin": true,
                        "type": "pie"
                      }
                    ],
                    "scatter": [
                      {
                        "fillpattern": {
                          "fillmode": "overlay",
                          "size": 10,
                          "solidity": 0.2
                        },
                        "type": "scatter"
                      }
                    ],
                    "scatter3d": [
                      {
                        "line": {
                          "colorbar": {
                            "outlinewidth": 0,
                            "ticks": ""
                          }
                        },
                        "marker": {
                          "colorbar": {
                            "outlinewidth": 0,
                            "ticks": ""
                          }
                        },
                        "type": "scatter3d"
                      }
                    ],
                    "scattercarpet": [
                      {
                        "marker": {
                          "colorbar": {
                            "outlinewidth": 0,
                            "ticks": ""
                          }
                        },
                        "type": "scattercarpet"
                      }
                    ],
                    "scattergeo": [
                      {
                        "marker": {
                          "colorbar": {
                            "outlinewidth": 0,
                            "ticks": ""
                          }
                        },
                        "type": "scattergeo"
                      }
                    ],
                    "scattergl": [
                      {
                        "marker": {
                          "colorbar": {
                            "outlinewidth": 0,
                            "ticks": ""
                          }
                        },
                        "type": "scattergl"
                      }
                    ],
                    "scattermap": [
                      {
                        "marker": {
                          "colorbar": {
                            "outlinewidth": 0,
                            "ticks": ""
                          }
                        },
                        "type": "scattermap"
                      }
                    ],
                    "scattermapbox": [
                      {
                        "marker": {
                          "colorbar": {
                            "outlinewidth": 0,
                            "ticks": ""
                          }
                        },
                        "type": "scattermapbox"
                      }
                    ],
                    "scatterpolar": [
                      {
                        "marker": {
                          "colorbar": {
                            "outlinewidth": 0,
                            "ticks": ""
                          }
                        },
                        "type": "scatterpolar"
                      }
                    ],
                    "scatterpolargl": [
                      {
                        "marker": {
                          "colorbar": {
                            "outlinewidth": 0,
                            "ticks": ""
                          }
                        },
                        "type": "scatterpolargl"
                      }
                    ],
                    "scatterternary": [
                      {
                        "marker": {
                          "colorbar": {
                            "outlinewidth": 0,
                            "ticks": ""
                          }
                        },
                        "type": "scatterternary"
                      }
                    ],
                    "surface": [
                      {
                        "colorbar": {
                          "outlinewidth": 0,
                          "ticks": ""
                        },
                        "colorscale": [
                          [
                            0,
                            "#0d0887"
                          ],
                          [
                            0.1111111111111111,
                            "#46039f"
                          ],
                          [
                            0.2222222222222222,
                            "#7201a8"
                          ],
                          [
                            0.3333333333333333,
                            "#9c179e"
                          ],
                          [
                            0.4444444444444444,
                            "#bd3786"
                          ],
                          [
                            0.5555555555555556,
                            "#d8576b"
                          ],
                          [
                            0.6666666666666666,
                            "#ed7953"
                          ],
                          [
                            0.7777777777777778,
                            "#fb9f3a"
                          ],
                          [
                            0.8888888888888888,
                            "#fdca26"
                          ],
                          [
                            1,
                            "#f0f921"
                          ]
                        ],
                        "type": "surface"
                      }
                    ],
                    "table": [
                      {
                        "cells": {
                          "fill": {
                            "color": "#EBF0F8"
                          },
                          "line": {
                            "color": "white"
                          }
                        },
                        "header": {
                          "fill": {
                            "color": "#C8D4E3"
                          },
                          "line": {
                            "color": "white"
                          }
                        },
                        "type": "table"
                      }
                    ]
                  },
                  "layout": {
                    "annotationdefaults": {
                      "arrowcolor": "#2a3f5f",
                      "arrowhead": 0,
                      "arrowwidth": 1
                    },
                    "autotypenumbers": "strict",
                    "coloraxis": {
                      "colorbar": {
                        "outlinewidth": 0,
                        "ticks": ""
                      }
                    },
                    "colorscale": {
                      "diverging": [
                        [
                          0,
                          "#8e0152"
                        ],
                        [
                          0.1,
                          "#c51b7d"
                        ],
                        [
                          0.2,
                          "#de77ae"
                        ],
                        [
                          0.3,
                          "#f1b6da"
                        ],
                        [
                          0.4,
                          "#fde0ef"
                        ],
                        [
                          0.5,
                          "#f7f7f7"
                        ],
                        [
                          0.6,
                          "#e6f5d0"
                        ],
                        [
                          0.7,
                          "#b8e186"
                        ],
                        [
                          0.8,
                          "#7fbc41"
                        ],
                        [
                          0.9,
                          "#4d9221"
                        ],
                        [
                          1,
                          "#276419"
                        ]
                      ],
                      "sequential": [
                        [
                          0,
                          "#0d0887"
                        ],
                        [
                          0.1111111111111111,
                          "#46039f"
                        ],
                        [
                          0.2222222222222222,
                          "#7201a8"
                        ],
                        [
                          0.3333333333333333,
                          "#9c179e"
                        ],
                        [
                          0.4444444444444444,
                          "#bd3786"
                        ],
                        [
                          0.5555555555555556,
                          "#d8576b"
                        ],
                        [
                          0.6666666666666666,
                          "#ed7953"
                        ],
                        [
                          0.7777777777777778,
                          "#fb9f3a"
                        ],
                        [
                          0.8888888888888888,
                          "#fdca26"
                        ],
                        [
                          1,
                          "#f0f921"
                        ]
                      ],
                      "sequentialminus": [
                        [
                          0,
                          "#0d0887"
                        ],
                        [
                          0.1111111111111111,
                          "#46039f"
                        ],
                        [
                          0.2222222222222222,
                          "#7201a8"
                        ],
                        [
                          0.3333333333333333,
                          "#9c179e"
                        ],
                        [
                          0.4444444444444444,
                          "#bd3786"
                        ],
                        [
                          0.5555555555555556,
                          "#d8576b"
                        ],
                        [
                          0.6666666666666666,
                          "#ed7953"
                        ],
                        [
                          0.7777777777777778,
                          "#fb9f3a"
                        ],
                        [
                          0.8888888888888888,
                          "#fdca26"
                        ],
                        [
                          1,
                          "#f0f921"
                        ]
                      ]
                    },
                    "colorway": [
                      "#636efa",
                      "#EF553B",
                      "#00cc96",
                      "#ab63fa",
                      "#FFA15A",
                      "#19d3f3",
                      "#FF6692",
                      "#B6E880",
                      "#FF97FF",
                      "#FECB52"
                    ],
                    "font": {
                      "color": "#2a3f5f"
                    },
                    "geo": {
                      "bgcolor": "white",
                      "lakecolor": "white",
                      "landcolor": "#E5ECF6",
                      "showlakes": true,
                      "showland": true,
                      "subunitcolor": "white"
                    },
                    "hoverlabel": {
                      "align": "left"
                    },
                    "hovermode": "closest",
                    "mapbox": {
                      "style": "light"
                    },
                    "paper_bgcolor": "white",
                    "plot_bgcolor": "#E5ECF6",
                    "polar": {
                      "angularaxis": {
                        "gridcolor": "white",
                        "linecolor": "white",
                        "ticks": ""
                      },
                      "bgcolor": "#E5ECF6",
                      "radialaxis": {
                        "gridcolor": "white",
                        "linecolor": "white",
                        "ticks": ""
                      }
                    },
                    "scene": {
                      "xaxis": {
                        "backgroundcolor": "#E5ECF6",
                        "gridcolor": "white",
                        "gridwidth": 2,
                        "linecolor": "white",
                        "showbackground": true,
                        "ticks": "",
                        "zerolinecolor": "white"
                      },
                      "yaxis": {
                        "backgroundcolor": "#E5ECF6",
                        "gridcolor": "white",
                        "gridwidth": 2,
                        "linecolor": "white",
                        "showbackground": true,
                        "ticks": "",
                        "zerolinecolor": "white"
                      },
                      "zaxis": {
                        "backgroundcolor": "#E5ECF6",
                        "gridcolor": "white",
                        "gridwidth": 2,
                        "linecolor": "white",
                        "showbackground": true,
                        "ticks": "",
                        "zerolinecolor": "white"
                      }
                    },
                    "shapedefaults": {
                      "line": {
                        "color": "#2a3f5f"
                      }
                    },
                    "ternary": {
                      "aaxis": {
                        "gridcolor": "white",
                        "linecolor": "white",
                        "ticks": ""
                      },
                      "baxis": {
                        "gridcolor": "white",
                        "linecolor": "white",
                        "ticks": ""
                      },
                      "bgcolor": "#E5ECF6",
                      "caxis": {
                        "gridcolor": "white",
                        "linecolor": "white",
                        "ticks": ""
                      }
                    },
                    "title": {
                      "x": 0.05
                    },
                    "xaxis": {
                      "automargin": true,
                      "gridcolor": "white",
                      "linecolor": "white",
                      "ticks": "",
                      "title": {
                        "standoff": 15
                      },
                      "zerolinecolor": "white",
                      "zerolinewidth": 2
                    },
                    "yaxis": {
                      "automargin": true,
                      "gridcolor": "white",
                      "linecolor": "white",
                      "ticks": "",
                      "title": {
                        "standoff": 15
                      },
                      "zerolinecolor": "white",
                      "zerolinewidth": 2
                    }
                  }
                },
                "xaxis": {
                  "title": {
                    "text": "WL Depth (mm)"
                  }
                },
                "yaxis": {
                  "title": {
                    "text": "Impact Criterion"
                  }
                }
              }
            }
          },
          "metadata": {},
          "output_type": "display_data"
        },
        {
          "data": {
            "application/vnd.plotly.v1+json": {
              "config": {
                "plotlyServerURL": "https://plot.ly"
              },
              "data": [
                {
                  "marker": {
                    "color": "blue"
                  },
                  "mode": "markers",
                  "name": "Coupled Criterion",
                  "type": "scatter",
                  "x": {
                    "bdata": "AAAAAAAAiUAAAAAAAGB4QAAAAAAAwHJAAAAAAAAAfkAAAAAAAIBWQAAAAAAASJJAAAAAAADgdUAAAAAAABCIQAAAAAAAQIBAAAAAAACQmkAAAAAAAHCXQAAAAAAAADRAAAAAAABAakAAAAAAAACEQAAAAAAAAI5AAAAAAABgg0AAAAAAAMBsQAAAAAAA4IVAAAAAAABgc0AAAAAAAACOQAAAAAAAMIFAAAAAAABAhUAAAAAAAOB1QAAAAAAAUIRAAAAAAABAf0AAAAAAALCNQAAAAAAAYIhAAAAAAADIlEAAAAAAAOCPQAAAAAAAIIxAAAAAAADAckAAAAAAAGB9QAAAAAAAsI1AAAAAAABQhEAAAAAAAKB0QAAAAAAAuI9AAAAAAADgf0AAAAAAAMByQAAAAAAAAHlAAAAAAADAckAAAAAAAEBwQAAAAAAAQH9AAAAAAACQkEAAAAAAAAB5QAAAAAAAQHVAAAAAAACQgEAAAAAAAKCEQAAAAAAAQG9AAAAAAACgiUAAAAAAAMCCQAAAAAAAEINAAAAAAABgiEAAAAAAAACOQAAAAAAAuJVAAAAAAAAAhEAAAAAAAABpQAAAAAAAoHlAAAAAAADgj0AAAAAAAEB6QAAAAAAA2I1AAAAAAAAAAAAAAAAAAOB/QAAAAAAAIIxAAAAAAAAonkAAAAAAAACJQAAAAAAAAJlAAAAAAADAfEAAAAAAACCHQAAAAAAA4IVAAAAAAAAggkAAAAAAAOCFQAAAAAAAMIFAAAAAAAAAiUAAAAAAAMBiQAAAAAAAQH9AAAAAAABAcEAAAAAAADCLQAAAAAAAADRAAAAAAAAwgUAAAAAAAJCAQAAAAAAA4HBAAAAAAACAe0AAAAAAAFCEQAAAAAAAQG9AAAAAAADgcEAAAAAAACB3QAAAAAAAIIxAAAAAAAAAjkAAAAAAAOB1QAAAAAAA0IFAAAAAAADQhkAAAAAAAIBxQAAAAAAAQIVAAAAAAACwiEAAAAAAAAAAAAAAAAAAAGlAAAAAAAAgfEAAAAAAAIBRQAAAAAAAQH9AAAAAAAAYkEAAAAAAAABOQAAAAAAApKBAAAAAAACAhkAAAAAAAMCMQAAAAAAAaJBAAAAAAAAQjUAAAAAAAEB/QAAAAAAAgHFAAAAAAADYk0AAAAAAAABuQAAAAAAA4IVAAAAAAABAf0AAAAAAAMCCQAAAAAAAAHlAAAAAAABwh0AAAAAAACB3QAAAAAAAoIlAAAAAAAAgckAAAAAAAGB4QAAAAAAAVI9AAAAAAACgfkAAAAAAALCDQAAAAAAAoHRAAAAAAADAgkAAAAAAAFCEQAAAAAAAoHRAAAAAAAAgh0AAAAAAAAAAAAAAAAAAQIBAAAAAAABAf0AAAAAAAMBsQAAAAAAAgGtAAAAAAABgc0AAAAAAAIBhQAAAAAAAMIZAAAAAAADAYkAAAAAAAGB4QAAAAAAAQI9AAAAAAADgekAAAAAAAGB4QAAAAAAAIHxAAAAAAABAf0AAAAAAAEB6QAAAAAAA4HBAAAAAAAAgh0AAAAAAAKB+QAAAAAAAYHhAAAAAAACgdEAAAAAAAMCMQAAAAAAAIHxAAAAAAADgkEAAAAAAACB8QAAAAAAAYHhAAAAAAACwjUAAAAAAABCIQAAAAAAAYHhAAAAAAABgfUAAAAAAAIB7QAAAAAAAGJVAAAAAAADgekAAAAAAANCLQAAAAAAA4HVAAAAAAACAa0AAAAAAAEB1QAAAAAAAoH5AAAAAAABgeEAAAAAAACByQAAAAAAAcJJAAAAAAAAAPkAAAAAAACCCQAAAAAAA0JZAAAAAAACgdEAAAAAAAMByQAAAAAAAYHhAAAAAAADQgUAAAAAAAACOQAAAAAAAwIJAAAAAAADgdUAAAAAAAAB5QAAAAAAAYHhAAAAAAADAgkAAAAAAAHCMQAAAAAAA4HpAAAAAAACAe0AAAAAAAECPQAAAAAAAQG9AAAAAAAAAfkAAAAAAAOCVQAAAAAAAgHtAAAAAAACgeUAAAAAAAGB4QAAAAAAAkIBAAAAAAADghUAAAAAAAOCFQAAAAAAAIIxAAAAAAAAAfkAAAAAAACByQAAAAAAAoHlAAAAAAADAckAAAAAAAHCMQAAAAAAAQH9AAAAAAAAIlkAAAAAAACCCQAAAAAAA4HBAAAAAAABAekAAAAAAAAA5QAAAAAAAIHxAAAAAAABIkkAAAAAAAACJQAAAAAAAAH5AAAAAAADghUAAAAAAAABuQAAAAAAAMIFAAAAAAAAAaUAAAAAAAABJQAAAAAAA4IpAAAAAAAAAZEAAAAAAAEBvQAAAAAAAUIRAAAAAAADghUAAAAAAAIBmQAAAAAAAYJFAAAAAAABQhEAAAAAAAAB5QAAAAAAAkIpAAAAAAACQikAAAAAAAKB5QAAAAAAAYHhAAAAAAADgdUAAAAAAAACJQAAAAAAAUIlAAAAAAAAAiUAAAAAAAMCCQAAAAAAAYHhAAAAAAAAgd0AAAAAAAAB5QAAAAAAAQH9AAAAAAABgfUAAAAAAAMCMQAAAAAAAUJRAAAAAAABQlEAAAAAAAECKQAAAAAAAwHJAAAAAAAAAdEAAAAAAACCHQAAAAAAA4HBAAAAAAAAAWUAAAAAAAPCOQAAAAAAAIHJAAAAAAABgeEAAAAAAAPCOQAAAAAAAAAAAAAAAAABgfUAAAAAAAGB4QAAAAAAAEI1AAAAAAADwhEAAAAAAAGB4QAAAAAAAYHhAAAAAAABwgkAAAAAAACB8QAAAAAAAQGpAAAAAAADAgkAAAAAAAKCUQAAAAAAAgIZAAAAAAAAgjEAAAAAAAEB/QAAAAAAAAD5AAAAAAACwg0AAAAAAALiQQAAAAAAAEIhAAAAAAABgeEAAAAAAAMCHQAAAAAAA4HpAAAAAAACAW0AAAAAAANCBQAAAAAAAAI5AAAAAAAC4lUAAAAAAAIB7QAAAAAAAUI5AAAAAAAAAiUAAAAAAAIiTQAAAAAAAYHhAAAAAAACgiUAAAAAAAAB+QAAAAAAAUIRAAAAAAACgfkAAAAAAAGBzQAAAAAAAYIhAAAAAAADAZ0AAAAAAAABuQAAAAAAAQH9AAAAAAADQhkAAAAAAAEB/QAAAAAAA4H9AAAAAAACQj0AAAAAAAPCEQAAAAAAAgHtAAAAAAACwjUAAAAAAAICBQAAAAAAAAHlAAAAAAACgdEAAAAAAAMBsQAAAAAAAwHdAAAAAAAAgfEAAAAAAAFCEQAAAAAAAkIBAAAAAAACQikAAAAAAAIBxQAAAAAAAYH1AAAAAAABAcEAAAAAAAKB+QAAAAAAAAIRAAAAAAACgdEAAAAAAAAB0QAAAAAAAsINAAAAAAABAkEAAAAAAAEB/QAAAAAAAIHxAAAAAAABAhUAAAAAAAMCSQAAAAAAAAIRAAAAAAACooUAAAAAAAIBrQAAAAAAA8HRAAAAAAAAwkUAAAAAAAMiUQAAAAAAACJFAAAAAAADAd0AAAAAAAEB/QAAAAAAAgIFAAAAAAAAAhEAAAAAAACCcQAAAAAAAAIlAAAAAAABAcEAAAAAAAABpQAAAAAAAOIVAAAAAAADgekAAAAAAAOCFQAAAAAAAMJFAAAAAAAAwkUAAAAAAAGB9QAAAAAAAQG9AAAAAAAAgfEAAAAAAAKB5QAAAAAAA4HVAAAAAAADAckAAAAAAAFCEQAAAAAAAwIJAAAAAAADQhkAAAAAAACB8QAAAAAAAwJJAAAAAAACwjUAAAAAAAECFQAAAAAAAUIRAAAAAAADAgkAAAAAAAJCPQAAAAAAAAIlAAAAAAABAb0AAAAAAAEB6QAAAAAAAkI9AAAAAAADgj0AAAAAAAKCEQAAAAAAA0IFAAAAAAADAgkAAAAAAAGigQAAAAAAAQHpAAAAAAADgekAAAAAAAAB+QAAAAAAAWJZAAAAAAABQjkAAAAAAAAAAAAAAAAAAYINAAAAAAABwgkAAAAAAAABpQAAAAAAAMIZAAAAAAADAd0AAAAAAAHCSQAAAAAAAgIFAAAAAAAAwgUAAAAAAAAAAAAAAAAAAUI5AAAAAAAAgfEAAAAAAAJCPQAAAAAAA4IBAAAAAAADAZ0AAAAAAAECPQAAAAAAA4IVAAAAAAAAAfkAAAAAAAECAQAAAAAAAQH9AAAAAAACAa0AAAAAAAIBRQAAAAAAAAHlAAAAAAAAAREAAAAAAACB3QAAAAAAAIHxAAAAAAAAAJEAAAAAAAJCAQAAAAAAAMIFAAAAAAADAfEAAAAAAAIBxQAAAAAAAwHdAAAAAAABYgUAAAAAAAHCcQAAAAAAAAHlAAAAAAACghEAAAAAAAKiWQAAAAAAAkIVAAAAAAACgiUAAAAAAAOB1QAAAAAAA0IFAAAAAAAAAAAAAAAAAADCBQAAAAAAAIHxAAAAAAABokEAAAAAAAMB3QAAAAAAAQHpAAAAAAABAb0AAAAAAAAB5QAAAAAAAkJpAAAAAAABwgkAAAAAAAIBxQAAAAAAAAF5AAAAAAADghUAAAAAAAGB4QAAAAAAAAE5AAAAAAAAQiEAAAAAAAEB/QAAAAAAAQHVAAAAAAACgfkAAAAAAAEBqQAAAAAAAAF5AAAAAAAAwkUAAAAAAAECQQAAAAAAAYIhAAAAAAABgfUAAAAAAACCSQAAAAAAA4IVAAAAAAACAa0AAAAAAADCGQAAAAAAAiJNAAAAAAAAAeUAAAAAAAHCHQAAAAAAAAHlAAAAAAACIk0AAAAAAAIBrQAAAAAAAIHxAAAAAAAAgfEAAAAAAAMCSQAAAAAAAYIhAAAAAAACQgEAAAAAAAAB5QAAAAAAAAIlAAAAAAADgf0AAAAAAAABpQAAAAAAA4HBAAAAAAAAAfkAAAAAAAEB/QAAAAAAAwIdAAAAAAACwjUAAAAAAAJiSQAAAAAAAgFZAAAAAAACQoEAAAAAAAOCAQAAAAAAAIHxAAAAAAAAQjUAAAAAAAIBrQAAAAAAAAAAAAAAAAADAgkAAAAAAAIB7QAAAAAAAIIJAAAAAAADQgUAAAAAAAECKQAAAAAAAUIlAAAAAAADAjEAAAAAAAABkQAAAAAAAgItAAAAAAADQhkAAAAAAAACJQAAAAAAAoHlAAAAAAAAYkEAAAAAAAMBiQAAAAAAAQG9AAAAAAADghUAAAAAAAFCEQAAAAAAAgHtAAAAAAABokEAAAAAAAIB7QAAAAAAAwIdAAAAAAABokEAAAAAAAOCAQAAAAAAAgHFAAAAAAACAe0AAAAAAAHCCQAAAAAAAgItAAAAAAACwk0AAAAAAAAB0QAAAAAAAwGxAAAAAAADghUAAAAAAAHCMQAAAAAAAAElAAAAAAAAgfEAAAAAAAEBvQAAAAAAAwIJAAAAAAACAgUAAAAAAAICRQAAAAAAA4IBAAAAAAABgeEAAAAAAAOCAQAAAAAAAMHFAAAAAAADQhUAAAAAAAIBxQAAAAAAAQHpAAAAAAABQhEAAAAAAAIB7QAAAAAAAIHxAAAAAAADAYkAAAAAAACB8QAAAAAAAEINAAAAAAABokEAAAAAAADCLQAAAAAAAaJBAAAAAAACgeUAAAAAAAIB7QAAAAAAAUJRAAAAAAADQkUAAAAAAAABpQAAAAAAAYH1AAAAAAAAgjEAAAAAAAFCEQAAAAAAAwIJAAAAAAAAAdEAAAAAAAEB/QAAAAAAAiJhAAAAAAAC0pEAAAAAAACB8QAAAAAAAAHlAAAAAAAC4kEAAAAAAAACEQAAAAAAAEI1AAAAAAAAAiUAAAAAAAMB3QAAAAAAAIHxAAAAAAACQhUAAAAAAAKB5QAAAAAAA4H9AAAAAAABAb0AAAAAAAECAQAAAAAAAwHxAAAAAAAAAiUAAAAAAAGB9QAAAAAAAkIBAAAAAAAAAPkAAAAAAAAB+QAAAAAAAwHJAAAAAAAAgjEAAAAAAANCFQAAAAAAAoH5AAAAAAABAgEAAAAAAAEBuQAAAAAAAQH9AAAAAAABQhEAAAAAAAJCQQAAAAAAAAFlAAAAAAAAANEAAAAAAAIB7QAAAAAAAIIdAAAAAAACghEAAAAAAABCNQAAAAAAA8I5AAAAAAACwiEAAAAAAAMB3QAAAAAAAgGZAAAAAAADghUAAAAAAABCTQAAAAAAAMIZAAAAAAACwiEAAAAAAAIB2QAAAAAAA0IZAAAAAAADAckAAAAAAAACUQAAAAAAAAFlAAAAAAAD4kUAAAAAAAECFQAAAAAAAkIBAAAAAAACAhkAAAAAAAGCNQAAAAAAA4H9AAAAAAACQikAAAAAAAEBaQAAAAAAAwHJAAAAAAACQhUAAAAAAACCHQAAAAAAAcIJAAAAAAADAkkAAAAAAAMByQAAAAAAAQH9AAAAAAAAwgUAAAAAAACB3QAAAAAAAQH9AAAAAAABAf0AAAAAAAIB2QAAAAAAAsI1AAAAAAADAgkAAAAAAAMCHQAAAAAAAIHJAAAAAAADAd0AAAAAAAOB/QAAAAAAAwIJAAAAAAAAYmkAAAAAAAGiQQAAAAAAA0HZAAAAAAAAAZEAAAAAAAHCHQAAAAAAAGJBAAAAAAACQikAAAAAAAHCHQAAAAAAAYH1AAAAAAADwhEAAAAAAAGCNQAAAAAAAgIFAAAAAAAAAdEAAAAAAAGBzQAAAAAAAUJRAAAAAAAAAiUAAAAAAAMCCQAAAAAAAwIJAAAAAAAAgjEAAAAAAAMB8QAAAAAAAwGxAAAAAAACAgUAAAAAAAFiRQAAAAAAAwIJAAAAAAABQhEAAAAAAAGCDQAAAAAAAYH1AAAAAAADAckAAAAAAAAB5QAAAAAAAgHFAAAAAAAAgjEAAAAAAAABuQAAAAAAAcIdAAAAAAADAbEAAAAAAACB3QAAAAAAAQHVAAAAAAADghUAAAAAAAMB3QAAAAAAAYHNAAAAAAABokEAAAAAAAPCJQAAAAAAAwGJAAAAAAAAQg0AAAAAAAABpQAAAAAAAgIZAAAAAAACQkEAAAAAAAACJQAAAAAAAuJBAAAAAAABAb0AAAAAAALCNQAAAAAAAwGJAAAAAAADAfEAAAAAAAAB+QAAAAAAA4HVAAAAAAACgfkAAAAAAAFCEQAAAAAAAEJNAAAAAAAAQg0AAAAAAAMCSQAAAAAAAAI1AAAAAAADQgUAAAAAAAGiQQAAAAAAAkIBAAAAAAAAAiUAAAAAAAABJQAAAAAAAUI5AAAAAAABgeEAAAAAAAOCFQAAAAAAAoHlAAAAAAABAcEAAAAAAAMCCQAAAAAAAoHlAAAAAAAAAeUAAAAAAAPiRQAAAAAAAAE5AAAAAAADAh0AAAAAAALCNQAAAAAAAwHJAAAAAAACQikAAAAAAACB8QAAAAAAAkJBAAAAAAADgekAAAAAAACCMQAAAAAAA4IVAAAAAAADgf0AAAAAAAMByQAAAAAAAIIJAAAAAAAA4k0AAAAAAAABeQAAAAAAAQIpAAAAAAADglUAAAAAAAIB7QAAAAAAAQH9AAAAAAAAAiUAAAAAAALCDQAAAAAAAwGxAAAAAAABAf0AAAAAAAEBgQAAAAAAAAGlAAAAAAAAAiUAAAAAAABCDQAAAAAAA8IlAAAAAAAAQiEAAAAAAAECFQAAAAAAA0IZAAAAAAACIk0AAAAAAAKB0QAAAAAAAkIVAAAAAAABwh0AAAAAAAGigQAAAAAAAkIVAAAAAAAAggkAAAAAAABCNQAAAAAAAQH9AAAAAAAAAaUAAAAAAAEBvQAAAAAAAAIlAAAAAAABQlEAAAAAAAGiQQAAAAAAAwGJAAAAAAADAckAAAAAAANCGQAAAAAAA4HpAAAAAAADAgkAAAAAAAAB0QAAAAAAA0IFAAAAAAAAAdEAAAAAAAEBgQAAAAAAAsINAAAAAAAAgfEAAAAAAAJCFQAAAAAAAQH9AAAAAAAAgd0AAAAAAAAB+QAAAAAAAUI5AAAAAAABAdUAAAAAAAIB2QAAAAAAAYHhAAAAAAACAe0AAAAAAABCIQAAAAAAA4HpAAAAAAACgfkAAAAAAAPCEQAAAAAAAIHRAAAAAAAAAeUAAAAAAAMCCQAAAAAAAMIFAAAAAAAAgckAAAAAAALCNQAAAAAAAkI9AAAAAAACQikAAAAAAAOCFQAAAAAAAYHhAAAAAAACwnUAAAAAAAABJQAAAAAAAAHlAAAAAAAC4kEAAAAAAAMByQAAAAAAAgJFAAAAAAAAAAAAAAAAAAHiDQAAAAAAAAElAAAAAAABQiUAAAAAAAEB/QAAAAAAAoHlAAAAAAACQikAAAAAAAJCKQAAAAAAAsI1AAAAAAABgaEAAAAAAAJiSQAAAAAAA0IFAAAAAAADQhkAAAAAAAIB7QAAAAAAAkJBAAAAAAAAAdEAAAAAAABCDQAAAAAAAQHBAAAAAAAC4gEAAAAAAACB8QAAAAAAAsINAAAAAAABwgkAAAAAAACB3QAAAAAAA4H9AAAAAAABAb0AAAAAAAEiSQAAAAAAA0IZAAAAAAADAgkAAAAAAAABOQAAAAAAAAG5AAAAAAACIk0AAAAAAAECPQAAAAAAAcIxAAAAAAACQhUAAAAAAADCRQAAAAAAAAI5AAAAAAACAhkAAAAAAAPCEQAAAAAAAQHVAAAAAAADgekAAAAAAAAB5QAAAAAAAQI9AAAAAAADgdUAAAAAAAAB5QAAAAAAAYI1AAAAAAABwh0AAAAAAAMBiQAAAAAAAsINAAAAAAAAAaUAAAAAAAPiRQAAAAAAAAAAAAAAAAACAdkAAAAAAAOBwQAAAAAAAAI5AAAAAAADAjEAAAAAAAECPQAAAAAAAoHRAAAAAAACAcUAAAAAAABCDQAAAAAAAAAAAAAAAAAAAbkAAAAAAAABpQAAAAAAAAAAAAAAAAADAbEAAAAAAAPCEQAAAAAAA4HVA",
                    "dtype": "f8"
                  },
                  "y": {
                    "bdata": "EEqn9yH1e0BKa5Uifx1XQKDFurkBWUhAVsHoq22waUCWa+iAVxlMQHa8FyxHvHNA1XQjJXbLVUAnlf7szypwQBvWwbixKmRA4spUkY/NcEA8jvqaWCp3QODLm2yddkRAR/bB2F77ZkDs9SMywI1kQGvaLe982nJA4q+YNACtbkBa0mqcw39qQDo9VbO3P3ZAfhJ75flUYkD4e/BoZ3R1QIFc7Ce7gHZATCj/9OYocUCOqLX/4q5dQLYXDRmOLmtA9egR+qh6U0C4itAEe4RhQDjBJGUMW3NAo61jqoVYc0BsmGaaTXtyQLot8c4AGnZAePtUS8PAWkAicGwHbnFkQCKvITTg6G5AIJByiIQHY0CSKiY+vPpbQODWdlzJeG1A5ruEVDNcYkD+FdkIqgJ4QO5vgg1/HktATtMt9Ma6ZkCAEton6MlHQHIdy7PyNllAppQZA1EhckDqMdoZxoJuQLTQHC4zs1xAj4DL0KVjZ0CeGJUGLINzQPJp3kIY3FNAIr+b7rUxZUDiPNINbcVwQCKDvAiNTmpAdLWAGIEFcEAYFtfgJnd5QFA7/K0cbnZAGMxhq71NY0Di2uvvK5VhQD7MleqkaWdAwHGxZOjgdUCC8MExC3xoQNQqCITS62pAAAAAAAAA+H9B6zr/W8VpQCjXR9IoA2pA/LBYS0MIbUB+6xL36Gx4QKr0n0axX3ZA+tOzclvEYEDPu4iCFEV9QHxBL2x3u29AqcoAYMqgZEBoSlwKIplmQPz3AlMJZnRAw9ZbkPn/bUDBh+GNwRtQQHISfKk+imFAxqIVLM2pRUAGp4ek0SJoQPntjo/s0U1AWOOz6ecMb0Div+Uw75pmQIhTv+VMyFdAJkEVoroTW0CODyk2z4FsQNxmA7Ok1nBANnv47FvWTkBXQk7UNJNdQLxz2y737GxABkAKE4lldECUZNaX7cBpQD3wvVMsIGhAtTrHNltdckAXV1Nu1uhJQHfNYKDN+mtArE8aXd/kcEAAAAAAAAD4f/hbV8K8omFAzgqERXgbdUDdOu12MKhMQJLZq/8LD2ZAdefUIWsmbEDWp0mCpt1QQNBedEVRFWlAKNPDZmtkd0AimSMTtJJyQJbVFsbr6m9AQHDI8GFzbUDSWNDAt1FoQFkMEkx0ymhAJlPUFg/DcUBglNKIoDhjQPCQZ/UDzGdAg2+djhiYa0BgqM5ZGKlqQFC0BWTHlk9AKrsjDc4VdEC+fB4kx5JpQGwgpPkiznJAzCdX32b7VkBugm78wLJrQLKg2pXaZXRAvnG3swN2c0BUV6qwZ8trQDkfEyB4p2pANxacZKxtbED0JbU6RuphQBFutGpX71pApq+rvPg8bkAAAAAAAAD4fwSAm3DTh29AWvXX0vIPZEBgncww4LBYQOqSZ2xzzFZASsvid0n6aUDDIFd9OLZUQKYRMKd5Q2tAZvNarSL+Y0Bugm78wLJrQMAo7lqu93hAmzJu4COpa0Bugm78wLJrQFH0FecOgFNA5gn+v+ASZkCKSRwO1b5ZQD5X8xrdl1dAxF7bcXjNbkC+cbezA3ZzQG6CbvzAsmtA5m6Bc97UY0AxW0XV90ttQFzGo2qcvXNANkXp+asKc0BFfPiH0mlxQG6CbvzAsmtA7Cpwcv4ickDpEv5/POx0QG6CbvzAsmtA+kIsWdJncEDuIKFNg8VxQL0DaiEm+XVAr3y6yrVRYUBCkv/rqAduQFLLk4bF9WdAkA3Es74HSEBwzfs4QZNPQL5xt7MDdnNAboJu/MCya0Bq+eLm26BxQHHIUkod8HlABG+U+h/iJ0Axz3gsayxsQISaOU2PuXVAOeY4hjyzTEDQovvpqkNoQG6CbvzAsmtAJ+rf0cWWaEDCgop7KfZ0QJHdLIBTwXlA7nRdWxtRa0CjCeQmDOdcQKm2WxRTaWBAkDZa8PXDZ0AwxL5qZ6J0QHJIZ9qRvmRAFtMCQsmUaUDwvKFkf8J7QJ7j9IyyCGVA8/gNMTlCW0D7oPtFGLhxQNuHMJWcDGVA4BCGEYBqb0Bugm78wLJrQLIGSMLUAm5AHzecGmsfbkCqGvES+MZwQFNPmhqzfXlAatjP3RY8WUAGinIS/fJUQNDzP7gjO2NAS6AblzJ4VEDNGkTRkt1tQPM1NDQvzHhAJGav1H7gdkAQhg4aMhhXQAKYVlvBgGRAhq7phG8Tc0C1ErRocQZQQE6lWMmkS15AHOcqa88qe0AGOyANrLNtQMo4R23MbWhAMiyY4723bEA8cuxF19xaQHclIQd9BnBAcqRoXeFlU0A/DYoq7EspQH4ydUoFcHZAHLp8Yt0nZ0BkiVUKXjxQQCBs6fd7T29AAfN+dtrFckAkwJ/IbxF3QDL32ffBHWxA0LWU8a1VbUASatJ/NZdxQPqpLvQ87ntAMMhVlzoZc0AMmRVSE0dmQG6CbvzAsmtAliM7jw5DRECKFQpk7Th8QP3YVJ99b3RA2M6KcOkLbUBSWSDXd+1KQG6CbvzAsmtATi2Hjnv0WECecWAzd2ZYQJyi4GwIwGJA5lZUR422bkBdIWKbsJd5QEoXbCCIcnRAbjuuTuJqdkDCc5nccQBlQH2oz3by1G5AwmN+0Rk0VUBCbJrNJqlyQDBlonFNZ1lAQVSJnLivZUBjhW8CgsZwQHA9lP+V/0tAboJu/MCya0AGOACpZNxwQAAAAAAAAPh/yuK2md9uZEBugm78wLJrQESc7bfnMHBAzu78UKxSaUBugm78wLJrQDbPa/ypX2tArYUPDZdBcECguUGuix1zQNRFVXojEU9ACleKQiD6akDiN5ydahh3QDLtD2539nRA7NiFKiuNaECoSmwl985hQARvlPof4idAAmyaEXq8XUBt6aBV0o10QOkS/n887HRAboJu/MCya0Akj7RbzBdxQJC2j2YriGJA/olpvMDWY0Am2xePehJ9QLlQgfIsOHZAeggQd/WTd0BEuOXd89tiQKSUuPR883VAAfCSeiZsYkCqREJ+2QJxQG6CbvzAsmtAc+JvqhFFd0AiOw/SPglgQEgmxYcKAGBAvnG3swN2c0D193aq/7RuQLYFtdGULnZA1xC8dihNYkCmA+llFxRrQD50tRjmMmJAEwmNE9krdEDR/CD6qzNzQAB3owAcZmpAhK+z2xY+cEAui9Ceay93QBxOuc+Wmm1AHIuPvVzrakD0HwQVLlZmQABzLztshmJAvAoO7su2YEAsslkJZLZDQMvIjvEiKVtAIyocTsn9ZkBHEI0jVuRmQD2xIXOrZVlANszpNdjCakCEebxPbr9JQOCcEFHU6GJASCilQXfjWEC+cbezA3ZzQMiaff+nz3NAfq3krdXcW0B528uD6XdqQKbbuifhU3FAANxSm+jMZ0CYmuEESYtkQEprIsG8l2ZAo/y1e+GxcUAWGM+ZTfd1QHYFYFC9RGZABAZnUCj9cEBEJlYvxz1wQCJ3+iWYK2xAGVqcBUASd0AgOvUJEEVzQCRmEo9TUnZAZJasjNojZUDiiLfRD7FUQNpqBQo592lAMG0YGV5uckB/Cq/O1jZoQObrUmrKDXBAMa6tVX+AXEDGz1W9s2BSQN5dF3S4rn5AuCAk6PcxbkCI+QAvwMVnQIrwubEKuXBArJAoJv49c0DRlzbH4uhyQDgQ54hgn1ZAKiiimkMTZECyw21Q0WViQJALsRZnsVZAWplCbfZyWUAq6fQotqlkQE3Qjlwsk2tA6bT2ZaKtgkBZaMghY7xyQE4j7gFiRHhAth563YLvdUDQbZJDj4BwQKwpeiHoF3ZASKVd8kmwYUANnbr/6oZmQCGMj+LjSWxApcv3nDWQcUDu+CXipvJgQOL69iAzrXZAWpBoQdY4cUA0tXKmPKRbQLq6i50q225A+rM33O7HaEAKzRkgSA9xQNItEA61+GFA0BeUH+/mWEBLoL8T8ZVwQDADw+cwNXdAZBnh8HozeUAAAAAAAAD4fwhvg+nDKXlAxsVpu/Y7b0A1h2U00XFmQI5nBvB+TW5AQn5nZ11Fa0CQEf/mHHtzQKAjtsgJOWNAVLtARaxZc0AAAAAAAAD4f0CW/GjnxXBAms2iZkrWcUAA/x/i5Z1xQEBZead9NHJAikl0yGvHYEDSZGZQeohwQET4D2RuaWxAKtTF/U7EbEDfBrXW+4NpQLJlPs1s/mFAWiJ1vEKSYkCceiDApehWQIldgEe/+l1A2HEGj3B9V0DUoCU/805nQGmUjruLiXJAbcLZnWoLMEB/9pWKtxNpQB6vXAEvpGBA8TxYzJDEbUA20ppfO9xdQLukr8eYjWlAlK+MBIbjcUB7JOJSeExyQA6wJYEEH2NARFawK2M7YEAOU3X1XhF7QO/hs6pjmnNAs/J4p5T3akDWmy+AmURUQKqTytIXgGxAAAAAAAAA+H8+csa0YW9wQGYwCaS8i1JAQavrnwaebUBeD4F4vh9XQADm5th71l9AIJddzOPZXEC4Yw4svq5XQBQSvOHz+nJAg5Wr4ZqQc0BRogbBUsZzQLqmtGIddF9AZLkcRDVtZUAg5DPnVExWQOZrrWSjgk5AQ5TZtASzckD6FFoAOBxvQJiyRScwDHlAIMzmQXnQYkDgiPFUC1BEQJbp1jwLHVlAanSfmo6SeUAA3FKb6MxnQAazVfMeUGtAFk+phgGxa0DOMtkxXO1tQGQ3R1UIGm5AASLPXsEKakCcLAw1y0xkQOMiJRDGPm5AdQ4kh7J8XkAU+LXPn8FzQBubU5RC93RA194b8tPAd0BOfB6UzJ1ZQE6oLV2lgFhA+PDToKQAYkD3UrculCNyQAazVfMeUGtA7TCveGWrdkAyh5+i5KpWQCamq/mIL2hADNSiCtgFWECEbtmMS1I5QPe1ayAvAlVA7CptDxhoQkCy7Jm1uIpWQCwgxpKXt3RAfE7S9cqzaEAANSEF8e1wQOxBaZxC5l1AUrYp6qwkXkARZoxFYvRiQMia7marL2hAoBb1+vc/fEDUfexdw75kQAAAAAAAAPh/qFxWm8N8aUAoB46cxglnQHi3y9ZdLW5AjC5etPlra0DOpjeeVG12QGyvwCy7A39ACDESskrrcEBST0LWlwI2QCaOFpdaaWtAfvAngPoqbEC0qV/7C05wQHqkkpd6M2lAWO367MENd0CcoUOzp5VgQNs2uCajykxAZD9xR4BOaEBmyePfOgViQFL282zXnUxAgJKtHoYtcEApaBOZ7ixkQJxmuERv93VAGI+1PWCQekCAC/rcCWVvQH4bXiZ3r1RAFi6hT7bSVEC1TtpXKiFZQI1HthwABXZAipKGje1ycEAlxOzNrzhtQFhp08jwsF5Al9pdJHZnYkAqVdixZo5rQEIVy6vC7zRAesiALw6hZ0C0JHkPgS5HQFZiHt3AxGVAnoriV6nSakDtwNipFDx5QFDcznMZzmVAuAB6yv0iVkAOoBF4pENvQL66w3HDz2hAwto/uyXoVkBUPJ0uv65SQMQ8E8+tzmtAlh4r0T7zfEDT0j6Jy89oQBpjNPNeLHBA5G6biT+FZ0BZVaLI4XdkQDu5DMQsZm5A2C0ObXo0akAklr1+A+9yQI4VgP3nIHhAN5lqueajXkDk7SLN6XRcQJzn1yoJVW1AZlbqvAd5c0AA16Mt/99dQNDvKvAiOmBA3hchyOLtbkC2mkm0C2heQAMIbiPSg2RA1EynaDRnTEBm5gVZVl9ZQLzreZwuAXZAAAAAAAAAAADmJl9gJFRuQN3uiTIhUmhAwFrB90H3c0B0uEJmHzF4QMg+zoh1AHJAMyXXxLCdfEAGnSV4oClwQDDdlXy9pWVA1tpTROKWZEDIo+IdOD9rQGufXTQMU2dAiiM3CGjYO0C09EmVNiBmQGv4zAK8fWpAwtvmRiOYZUD84RQF41FZQFw9QQjCvWNA2K5qYZcdUEDS3z+oQh5QQJxpRN4202JA1NBS33WLd0Bmos0vAIdsQCQaj1lD1mJAGFjih+F1ZECeng8OcEk4QFcuRqNRBWBAWCZ2s+YweUCOo7SmOWV2QGLwM6kwnDxAzIlvlZd2QEBkoht0fY1pQNt9rOTuq2tA/nkAtWCMaEBuusLjSKpwQBoSnxKv4XZADvapB3OzXUD1TVOb6mFlQAS0AH10X0pAXla4dJY1aEBiJ5o2Ddh0QMR4NiB6ImlA5VT/9yaKckA0ChFMRaR2QBlt8mFuYWJAEbo1oBsuUkAH0RAQ3j9uQFhD7cQFHjBAOQHfci/+dkDqsTydXBB1QAfRy5ktX3FAyprtKq7jZ0CCLtUTAo5yQPc4FOA90G1A4qQu1rcrekCO99j7WxNkQJoo8dVhPWFAXJ31s+W5aUCWbJjW11FvQIgdcVJIAmFA0p3feeCpfUBRUg2wqulVQJrUVCR+bWhAbHDetGCVZEAivN9kBMh0QCAPHlhAb25APpRXK1YfZUCNQrDzV25WQCg5CflDS3lAPhVnrFa5bkCG+50npJhrQOA5gHzNM2FAYH3VqHAhYUCsydLx2LpzQLT2CDjmdnlA8E+hhzYxckD7e33qlXdpQBr+gQjx32FAsO96kBKeUkBORc1Vp4xdQBxPRCHK4XNAbpJu4n30cUCOPpcFP3tuQId600uxiG1AlqTGrK/1eEDlZSmMyKJzQHY0Tgyi63hAZE2FqhHiY0BMUMKgfeZeQPZEGBPG0ntAFCHLplCBa0C0Tt8X9LNjQDwoRJfco1dA9rwL/dWVaEC+JypvGqFoQPDqd/Q0r2xAHkZPqaMqV0D1FI5otBtuQNy6UK6oD2FABm5XtmHudkC2FK+Bos1XQNhermr9BWRAqv92IO7yYECG0y9pOMBMQF3aiLFXl2FAoPxIKcz9dkAdr21Vgk5pQGNu5kTfJXVAoISlJbh1ZUDCXEd3wp1TQNZ4S6dT3llAA8vodgHscUBzdTCMx3ViQDRAaF6LimhARKappmR0f0DvMaPlAMFiQORum4k/hWdA9tnvVvvGbkAimC/PAhZHQLQDI6BbyGtAyoT48V15cUCedCHc695eQFaBptznS3BAj71Say5MPkCefptUZbhrQJg752RE0GRAMmSjhcEUX0DI8lHEn7peQJrvC4Oo7npA0+HSWz/haECNl7VU8opWQFwomIn3+XVAxh6/B1KKZkCmbRMhDBNyQA8fHMA9G3hAatZ2HC9AaUCUvlHjdhRvQEIk6IChgl5AICt5u/CAZEDpL97KZdkzQJjm/2wks2RALDYQRzvyY0CQhiZBlCZ0QL7IiHcbTWpA2qlOOkKdY0DUQhwTPR5sQAwfYty5MmRAKolpRwhYdEByU7tIhJF6QLgYQGtdLUNAil8lUX7MdEDM1TEhjE9eQHyuF7oqh2FA9DuPs18ebUCZOORie0ZkQJLWq0gZ73NA6xtoNt7WakCO8AUQ80RpQPKyA/+SLXZAamOlvKVEbUBsPThAJxxeQMh7fm0O3HlAr0BR34CIc0AOSaxOFaBPQNAzdDQaTnFAtDid+99jekByDj9v4ldkQNX1FceHh2lAdGTn+ShqeEBoJp/F+rtzQKpxnYgDMFRAnyHnbVeeY0AYf9d29RdhQIGW7mrfH1lAMFRnDaJdbEDmlEnlhFFhQNWjjacFy2xATC8R7rfTa0DYyVZRjrJgQBe5WsXk7WhAPAJNPwyCdUAienS49m5zQIKYyjq9cWFAj8vHgu4JXkDaEbfOB/VXQOxjwtdfzW5AZOT8RuWec0CsTCQUv3dyQHjxOEAt0XNAltREiDryU0AoJUbVNi90QAZuYHau42lAQvnZYHKLbkBzOcdFhnVsQArnkLSds2pAcoUPXnXrUkCM1JXhJpBpQFy0myoIKV1AHAmbWsMkcEBErjNceuFVQP4CPzIZDWJADqRO/5jpcUBI+wZdggQ6QFwf7lNaXGxAhXmuOp21UkD19Derxn5hQCriBCkt/m5A+COvnj/ra0BegNlHQkRpQF42dDXN0mlApq/ojLDTZkAg5wztc75nQPzEhQychWNANEhZ/FrnZkC4we8unI1zQPpg0hHH/WZAwKoqi8hwcEDoS6Z5IEZyQCd0XEPWd0RATHFQE54AckC2pZX/XGBQQCVfgrpacHRAfh/LbLfiWEDw6zXovUR5QC8WhEREHXdACmPgUh6CeED0aKC7389xQNYQqyi3xXNA1lMm6tA/dUBYQQFv9cU1QP53uS2IyXdA/xSpC3UvcECQUASCqWFTQMuXna5LO3RAAAAAAAAA+H9sTwwLO7htQFwl5rlFYVxALAaovtZja0CYSsuEg4lrQPrB+cBd12lAirtfHexbdEAsfdOOGhR2QLpH66hZZGtA8uY35nN4UEDkQbMIoY5yQODBL2wiEXNAZsCTIkixdEAHrca/eelUQCcS3q5ZOXFAtrTMAG9rYECzZtrSDTd1QO40STP0AWFAauIlNR4nZUAaE6qwavhyQJIZmZB9tU1AwlMZb/iDbUB8r2Cdh/1hQMp6CEh/I1RANASTY2BZS0CjX3Nx6jR3QJ6kCfSeTmlAYKppsGxvW0BoM299Ub9WQNhbcnGPYW5A9ZfH+NZxfkC7TMgYfrh0QMqGCpUmWHFAY6SuuGRacUDoLww/l/p6QAKn8SEDonVAkR1Uu65BZkC+uBcBO6JrQBQ1zxbUL2BAas848bo1XUAoVtai1tJQQEm+GplKTGdAFou3rD5AdkAE+bwsKYFbQKIrhl6Kz3VA6Y8wWSlbcUAWMtmzYCZqQHaHjv7ttnFAfpkzgQOPb0D1fI0nCM96QAAAAAAAAPh/NAoRTEWkdkAMw3Nnd8BRQAgCcGWUSHNA4voTUHT7b0B8vCpEVXtyQCEA4FDgCXFAUmi3FchtakCuRyNu81pzQAAAAAAAAPh/mjk4E9RGcEDFD4pcgnlgQAAAAAAAAPh/Jhva+nytSkDKFIRcKnNkQNhs0ZjCoVhA",
                    "dtype": "f8"
                  }
                }
              ],
              "layout": {
                "template": {
                  "data": {
                    "bar": [
                      {
                        "error_x": {
                          "color": "#2a3f5f"
                        },
                        "error_y": {
                          "color": "#2a3f5f"
                        },
                        "marker": {
                          "line": {
                            "color": "#E5ECF6",
                            "width": 0.5
                          },
                          "pattern": {
                            "fillmode": "overlay",
                            "size": 10,
                            "solidity": 0.2
                          }
                        },
                        "type": "bar"
                      }
                    ],
                    "barpolar": [
                      {
                        "marker": {
                          "line": {
                            "color": "#E5ECF6",
                            "width": 0.5
                          },
                          "pattern": {
                            "fillmode": "overlay",
                            "size": 10,
                            "solidity": 0.2
                          }
                        },
                        "type": "barpolar"
                      }
                    ],
                    "carpet": [
                      {
                        "aaxis": {
                          "endlinecolor": "#2a3f5f",
                          "gridcolor": "white",
                          "linecolor": "white",
                          "minorgridcolor": "white",
                          "startlinecolor": "#2a3f5f"
                        },
                        "baxis": {
                          "endlinecolor": "#2a3f5f",
                          "gridcolor": "white",
                          "linecolor": "white",
                          "minorgridcolor": "white",
                          "startlinecolor": "#2a3f5f"
                        },
                        "type": "carpet"
                      }
                    ],
                    "choropleth": [
                      {
                        "colorbar": {
                          "outlinewidth": 0,
                          "ticks": ""
                        },
                        "type": "choropleth"
                      }
                    ],
                    "contour": [
                      {
                        "colorbar": {
                          "outlinewidth": 0,
                          "ticks": ""
                        },
                        "colorscale": [
                          [
                            0,
                            "#0d0887"
                          ],
                          [
                            0.1111111111111111,
                            "#46039f"
                          ],
                          [
                            0.2222222222222222,
                            "#7201a8"
                          ],
                          [
                            0.3333333333333333,
                            "#9c179e"
                          ],
                          [
                            0.4444444444444444,
                            "#bd3786"
                          ],
                          [
                            0.5555555555555556,
                            "#d8576b"
                          ],
                          [
                            0.6666666666666666,
                            "#ed7953"
                          ],
                          [
                            0.7777777777777778,
                            "#fb9f3a"
                          ],
                          [
                            0.8888888888888888,
                            "#fdca26"
                          ],
                          [
                            1,
                            "#f0f921"
                          ]
                        ],
                        "type": "contour"
                      }
                    ],
                    "contourcarpet": [
                      {
                        "colorbar": {
                          "outlinewidth": 0,
                          "ticks": ""
                        },
                        "type": "contourcarpet"
                      }
                    ],
                    "heatmap": [
                      {
                        "colorbar": {
                          "outlinewidth": 0,
                          "ticks": ""
                        },
                        "colorscale": [
                          [
                            0,
                            "#0d0887"
                          ],
                          [
                            0.1111111111111111,
                            "#46039f"
                          ],
                          [
                            0.2222222222222222,
                            "#7201a8"
                          ],
                          [
                            0.3333333333333333,
                            "#9c179e"
                          ],
                          [
                            0.4444444444444444,
                            "#bd3786"
                          ],
                          [
                            0.5555555555555556,
                            "#d8576b"
                          ],
                          [
                            0.6666666666666666,
                            "#ed7953"
                          ],
                          [
                            0.7777777777777778,
                            "#fb9f3a"
                          ],
                          [
                            0.8888888888888888,
                            "#fdca26"
                          ],
                          [
                            1,
                            "#f0f921"
                          ]
                        ],
                        "type": "heatmap"
                      }
                    ],
                    "histogram": [
                      {
                        "marker": {
                          "pattern": {
                            "fillmode": "overlay",
                            "size": 10,
                            "solidity": 0.2
                          }
                        },
                        "type": "histogram"
                      }
                    ],
                    "histogram2d": [
                      {
                        "colorbar": {
                          "outlinewidth": 0,
                          "ticks": ""
                        },
                        "colorscale": [
                          [
                            0,
                            "#0d0887"
                          ],
                          [
                            0.1111111111111111,
                            "#46039f"
                          ],
                          [
                            0.2222222222222222,
                            "#7201a8"
                          ],
                          [
                            0.3333333333333333,
                            "#9c179e"
                          ],
                          [
                            0.4444444444444444,
                            "#bd3786"
                          ],
                          [
                            0.5555555555555556,
                            "#d8576b"
                          ],
                          [
                            0.6666666666666666,
                            "#ed7953"
                          ],
                          [
                            0.7777777777777778,
                            "#fb9f3a"
                          ],
                          [
                            0.8888888888888888,
                            "#fdca26"
                          ],
                          [
                            1,
                            "#f0f921"
                          ]
                        ],
                        "type": "histogram2d"
                      }
                    ],
                    "histogram2dcontour": [
                      {
                        "colorbar": {
                          "outlinewidth": 0,
                          "ticks": ""
                        },
                        "colorscale": [
                          [
                            0,
                            "#0d0887"
                          ],
                          [
                            0.1111111111111111,
                            "#46039f"
                          ],
                          [
                            0.2222222222222222,
                            "#7201a8"
                          ],
                          [
                            0.3333333333333333,
                            "#9c179e"
                          ],
                          [
                            0.4444444444444444,
                            "#bd3786"
                          ],
                          [
                            0.5555555555555556,
                            "#d8576b"
                          ],
                          [
                            0.6666666666666666,
                            "#ed7953"
                          ],
                          [
                            0.7777777777777778,
                            "#fb9f3a"
                          ],
                          [
                            0.8888888888888888,
                            "#fdca26"
                          ],
                          [
                            1,
                            "#f0f921"
                          ]
                        ],
                        "type": "histogram2dcontour"
                      }
                    ],
                    "mesh3d": [
                      {
                        "colorbar": {
                          "outlinewidth": 0,
                          "ticks": ""
                        },
                        "type": "mesh3d"
                      }
                    ],
                    "parcoords": [
                      {
                        "line": {
                          "colorbar": {
                            "outlinewidth": 0,
                            "ticks": ""
                          }
                        },
                        "type": "parcoords"
                      }
                    ],
                    "pie": [
                      {
                        "automargin": true,
                        "type": "pie"
                      }
                    ],
                    "scatter": [
                      {
                        "fillpattern": {
                          "fillmode": "overlay",
                          "size": 10,
                          "solidity": 0.2
                        },
                        "type": "scatter"
                      }
                    ],
                    "scatter3d": [
                      {
                        "line": {
                          "colorbar": {
                            "outlinewidth": 0,
                            "ticks": ""
                          }
                        },
                        "marker": {
                          "colorbar": {
                            "outlinewidth": 0,
                            "ticks": ""
                          }
                        },
                        "type": "scatter3d"
                      }
                    ],
                    "scattercarpet": [
                      {
                        "marker": {
                          "colorbar": {
                            "outlinewidth": 0,
                            "ticks": ""
                          }
                        },
                        "type": "scattercarpet"
                      }
                    ],
                    "scattergeo": [
                      {
                        "marker": {
                          "colorbar": {
                            "outlinewidth": 0,
                            "ticks": ""
                          }
                        },
                        "type": "scattergeo"
                      }
                    ],
                    "scattergl": [
                      {
                        "marker": {
                          "colorbar": {
                            "outlinewidth": 0,
                            "ticks": ""
                          }
                        },
                        "type": "scattergl"
                      }
                    ],
                    "scattermap": [
                      {
                        "marker": {
                          "colorbar": {
                            "outlinewidth": 0,
                            "ticks": ""
                          }
                        },
                        "type": "scattermap"
                      }
                    ],
                    "scattermapbox": [
                      {
                        "marker": {
                          "colorbar": {
                            "outlinewidth": 0,
                            "ticks": ""
                          }
                        },
                        "type": "scattermapbox"
                      }
                    ],
                    "scatterpolar": [
                      {
                        "marker": {
                          "colorbar": {
                            "outlinewidth": 0,
                            "ticks": ""
                          }
                        },
                        "type": "scatterpolar"
                      }
                    ],
                    "scatterpolargl": [
                      {
                        "marker": {
                          "colorbar": {
                            "outlinewidth": 0,
                            "ticks": ""
                          }
                        },
                        "type": "scatterpolargl"
                      }
                    ],
                    "scatterternary": [
                      {
                        "marker": {
                          "colorbar": {
                            "outlinewidth": 0,
                            "ticks": ""
                          }
                        },
                        "type": "scatterternary"
                      }
                    ],
                    "surface": [
                      {
                        "colorbar": {
                          "outlinewidth": 0,
                          "ticks": ""
                        },
                        "colorscale": [
                          [
                            0,
                            "#0d0887"
                          ],
                          [
                            0.1111111111111111,
                            "#46039f"
                          ],
                          [
                            0.2222222222222222,
                            "#7201a8"
                          ],
                          [
                            0.3333333333333333,
                            "#9c179e"
                          ],
                          [
                            0.4444444444444444,
                            "#bd3786"
                          ],
                          [
                            0.5555555555555556,
                            "#d8576b"
                          ],
                          [
                            0.6666666666666666,
                            "#ed7953"
                          ],
                          [
                            0.7777777777777778,
                            "#fb9f3a"
                          ],
                          [
                            0.8888888888888888,
                            "#fdca26"
                          ],
                          [
                            1,
                            "#f0f921"
                          ]
                        ],
                        "type": "surface"
                      }
                    ],
                    "table": [
                      {
                        "cells": {
                          "fill": {
                            "color": "#EBF0F8"
                          },
                          "line": {
                            "color": "white"
                          }
                        },
                        "header": {
                          "fill": {
                            "color": "#C8D4E3"
                          },
                          "line": {
                            "color": "white"
                          }
                        },
                        "type": "table"
                      }
                    ]
                  },
                  "layout": {
                    "annotationdefaults": {
                      "arrowcolor": "#2a3f5f",
                      "arrowhead": 0,
                      "arrowwidth": 1
                    },
                    "autotypenumbers": "strict",
                    "coloraxis": {
                      "colorbar": {
                        "outlinewidth": 0,
                        "ticks": ""
                      }
                    },
                    "colorscale": {
                      "diverging": [
                        [
                          0,
                          "#8e0152"
                        ],
                        [
                          0.1,
                          "#c51b7d"
                        ],
                        [
                          0.2,
                          "#de77ae"
                        ],
                        [
                          0.3,
                          "#f1b6da"
                        ],
                        [
                          0.4,
                          "#fde0ef"
                        ],
                        [
                          0.5,
                          "#f7f7f7"
                        ],
                        [
                          0.6,
                          "#e6f5d0"
                        ],
                        [
                          0.7,
                          "#b8e186"
                        ],
                        [
                          0.8,
                          "#7fbc41"
                        ],
                        [
                          0.9,
                          "#4d9221"
                        ],
                        [
                          1,
                          "#276419"
                        ]
                      ],
                      "sequential": [
                        [
                          0,
                          "#0d0887"
                        ],
                        [
                          0.1111111111111111,
                          "#46039f"
                        ],
                        [
                          0.2222222222222222,
                          "#7201a8"
                        ],
                        [
                          0.3333333333333333,
                          "#9c179e"
                        ],
                        [
                          0.4444444444444444,
                          "#bd3786"
                        ],
                        [
                          0.5555555555555556,
                          "#d8576b"
                        ],
                        [
                          0.6666666666666666,
                          "#ed7953"
                        ],
                        [
                          0.7777777777777778,
                          "#fb9f3a"
                        ],
                        [
                          0.8888888888888888,
                          "#fdca26"
                        ],
                        [
                          1,
                          "#f0f921"
                        ]
                      ],
                      "sequentialminus": [
                        [
                          0,
                          "#0d0887"
                        ],
                        [
                          0.1111111111111111,
                          "#46039f"
                        ],
                        [
                          0.2222222222222222,
                          "#7201a8"
                        ],
                        [
                          0.3333333333333333,
                          "#9c179e"
                        ],
                        [
                          0.4444444444444444,
                          "#bd3786"
                        ],
                        [
                          0.5555555555555556,
                          "#d8576b"
                        ],
                        [
                          0.6666666666666666,
                          "#ed7953"
                        ],
                        [
                          0.7777777777777778,
                          "#fb9f3a"
                        ],
                        [
                          0.8888888888888888,
                          "#fdca26"
                        ],
                        [
                          1,
                          "#f0f921"
                        ]
                      ]
                    },
                    "colorway": [
                      "#636efa",
                      "#EF553B",
                      "#00cc96",
                      "#ab63fa",
                      "#FFA15A",
                      "#19d3f3",
                      "#FF6692",
                      "#B6E880",
                      "#FF97FF",
                      "#FECB52"
                    ],
                    "font": {
                      "color": "#2a3f5f"
                    },
                    "geo": {
                      "bgcolor": "white",
                      "lakecolor": "white",
                      "landcolor": "#E5ECF6",
                      "showlakes": true,
                      "showland": true,
                      "subunitcolor": "white"
                    },
                    "hoverlabel": {
                      "align": "left"
                    },
                    "hovermode": "closest",
                    "mapbox": {
                      "style": "light"
                    },
                    "paper_bgcolor": "white",
                    "plot_bgcolor": "#E5ECF6",
                    "polar": {
                      "angularaxis": {
                        "gridcolor": "white",
                        "linecolor": "white",
                        "ticks": ""
                      },
                      "bgcolor": "#E5ECF6",
                      "radialaxis": {
                        "gridcolor": "white",
                        "linecolor": "white",
                        "ticks": ""
                      }
                    },
                    "scene": {
                      "xaxis": {
                        "backgroundcolor": "#E5ECF6",
                        "gridcolor": "white",
                        "gridwidth": 2,
                        "linecolor": "white",
                        "showbackground": true,
                        "ticks": "",
                        "zerolinecolor": "white"
                      },
                      "yaxis": {
                        "backgroundcolor": "#E5ECF6",
                        "gridcolor": "white",
                        "gridwidth": 2,
                        "linecolor": "white",
                        "showbackground": true,
                        "ticks": "",
                        "zerolinecolor": "white"
                      },
                      "zaxis": {
                        "backgroundcolor": "#E5ECF6",
                        "gridcolor": "white",
                        "gridwidth": 2,
                        "linecolor": "white",
                        "showbackground": true,
                        "ticks": "",
                        "zerolinecolor": "white"
                      }
                    },
                    "shapedefaults": {
                      "line": {
                        "color": "#2a3f5f"
                      }
                    },
                    "ternary": {
                      "aaxis": {
                        "gridcolor": "white",
                        "linecolor": "white",
                        "ticks": ""
                      },
                      "baxis": {
                        "gridcolor": "white",
                        "linecolor": "white",
                        "ticks": ""
                      },
                      "bgcolor": "#E5ECF6",
                      "caxis": {
                        "gridcolor": "white",
                        "linecolor": "white",
                        "ticks": ""
                      }
                    },
                    "title": {
                      "x": 0.05
                    },
                    "xaxis": {
                      "automargin": true,
                      "gridcolor": "white",
                      "linecolor": "white",
                      "ticks": "",
                      "title": {
                        "standoff": 15
                      },
                      "zerolinecolor": "white",
                      "zerolinewidth": 2
                    },
                    "yaxis": {
                      "automargin": true,
                      "gridcolor": "white",
                      "linecolor": "white",
                      "ticks": "",
                      "title": {
                        "standoff": 15
                      },
                      "zerolinecolor": "white",
                      "zerolinewidth": 2
                    }
                  }
                },
                "xaxis": {
                  "title": {
                    "text": "WL Depth (mm)"
                  }
                },
                "yaxis": {
                  "title": {
                    "text": "Coupled Criterion"
                  }
                }
              }
            }
          },
          "metadata": {},
          "output_type": "display_data"
        },
        {
          "data": {
            "application/vnd.plotly.v1+json": {
              "config": {
                "plotlyServerURL": "https://plot.ly"
              },
              "data": [
                {
                  "marker": {
                    "color": "green"
                  },
                  "mode": "markers",
                  "name": "SSERR",
                  "type": "scatter",
                  "x": {
                    "bdata": "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",
                    "dtype": "f8"
                  },
                  "y": {
                    "bdata": "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",
                    "dtype": "f8"
                  }
                }
              ],
              "layout": {
                "template": {
                  "data": {
                    "bar": [
                      {
                        "error_x": {
                          "color": "#2a3f5f"
                        },
                        "error_y": {
                          "color": "#2a3f5f"
                        },
                        "marker": {
                          "line": {
                            "color": "#E5ECF6",
                            "width": 0.5
                          },
                          "pattern": {
                            "fillmode": "overlay",
                            "size": 10,
                            "solidity": 0.2
                          }
                        },
                        "type": "bar"
                      }
                    ],
                    "barpolar": [
                      {
                        "marker": {
                          "line": {
                            "color": "#E5ECF6",
                            "width": 0.5
                          },
                          "pattern": {
                            "fillmode": "overlay",
                            "size": 10,
                            "solidity": 0.2
                          }
                        },
                        "type": "barpolar"
                      }
                    ],
                    "carpet": [
                      {
                        "aaxis": {
                          "endlinecolor": "#2a3f5f",
                          "gridcolor": "white",
                          "linecolor": "white",
                          "minorgridcolor": "white",
                          "startlinecolor": "#2a3f5f"
                        },
                        "baxis": {
                          "endlinecolor": "#2a3f5f",
                          "gridcolor": "white",
                          "linecolor": "white",
                          "minorgridcolor": "white",
                          "startlinecolor": "#2a3f5f"
                        },
                        "type": "carpet"
                      }
                    ],
                    "choropleth": [
                      {
                        "colorbar": {
                          "outlinewidth": 0,
                          "ticks": ""
                        },
                        "type": "choropleth"
                      }
                    ],
                    "contour": [
                      {
                        "colorbar": {
                          "outlinewidth": 0,
                          "ticks": ""
                        },
                        "colorscale": [
                          [
                            0,
                            "#0d0887"
                          ],
                          [
                            0.1111111111111111,
                            "#46039f"
                          ],
                          [
                            0.2222222222222222,
                            "#7201a8"
                          ],
                          [
                            0.3333333333333333,
                            "#9c179e"
                          ],
                          [
                            0.4444444444444444,
                            "#bd3786"
                          ],
                          [
                            0.5555555555555556,
                            "#d8576b"
                          ],
                          [
                            0.6666666666666666,
                            "#ed7953"
                          ],
                          [
                            0.7777777777777778,
                            "#fb9f3a"
                          ],
                          [
                            0.8888888888888888,
                            "#fdca26"
                          ],
                          [
                            1,
                            "#f0f921"
                          ]
                        ],
                        "type": "contour"
                      }
                    ],
                    "contourcarpet": [
                      {
                        "colorbar": {
                          "outlinewidth": 0,
                          "ticks": ""
                        },
                        "type": "contourcarpet"
                      }
                    ],
                    "heatmap": [
                      {
                        "colorbar": {
                          "outlinewidth": 0,
                          "ticks": ""
                        },
                        "colorscale": [
                          [
                            0,
                            "#0d0887"
                          ],
                          [
                            0.1111111111111111,
                            "#46039f"
                          ],
                          [
                            0.2222222222222222,
                            "#7201a8"
                          ],
                          [
                            0.3333333333333333,
                            "#9c179e"
                          ],
                          [
                            0.4444444444444444,
                            "#bd3786"
                          ],
                          [
                            0.5555555555555556,
                            "#d8576b"
                          ],
                          [
                            0.6666666666666666,
                            "#ed7953"
                          ],
                          [
                            0.7777777777777778,
                            "#fb9f3a"
                          ],
                          [
                            0.8888888888888888,
                            "#fdca26"
                          ],
                          [
                            1,
                            "#f0f921"
                          ]
                        ],
                        "type": "heatmap"
                      }
                    ],
                    "histogram": [
                      {
                        "marker": {
                          "pattern": {
                            "fillmode": "overlay",
                            "size": 10,
                            "solidity": 0.2
                          }
                        },
                        "type": "histogram"
                      }
                    ],
                    "histogram2d": [
                      {
                        "colorbar": {
                          "outlinewidth": 0,
                          "ticks": ""
                        },
                        "colorscale": [
                          [
                            0,
                            "#0d0887"
                          ],
                          [
                            0.1111111111111111,
                            "#46039f"
                          ],
                          [
                            0.2222222222222222,
                            "#7201a8"
                          ],
                          [
                            0.3333333333333333,
                            "#9c179e"
                          ],
                          [
                            0.4444444444444444,
                            "#bd3786"
                          ],
                          [
                            0.5555555555555556,
                            "#d8576b"
                          ],
                          [
                            0.6666666666666666,
                            "#ed7953"
                          ],
                          [
                            0.7777777777777778,
                            "#fb9f3a"
                          ],
                          [
                            0.8888888888888888,
                            "#fdca26"
                          ],
                          [
                            1,
                            "#f0f921"
                          ]
                        ],
                        "type": "histogram2d"
                      }
                    ],
                    "histogram2dcontour": [
                      {
                        "colorbar": {
                          "outlinewidth": 0,
                          "ticks": ""
                        },
                        "colorscale": [
                          [
                            0,
                            "#0d0887"
                          ],
                          [
                            0.1111111111111111,
                            "#46039f"
                          ],
                          [
                            0.2222222222222222,
                            "#7201a8"
                          ],
                          [
                            0.3333333333333333,
                            "#9c179e"
                          ],
                          [
                            0.4444444444444444,
                            "#bd3786"
                          ],
                          [
                            0.5555555555555556,
                            "#d8576b"
                          ],
                          [
                            0.6666666666666666,
                            "#ed7953"
                          ],
                          [
                            0.7777777777777778,
                            "#fb9f3a"
                          ],
                          [
                            0.8888888888888888,
                            "#fdca26"
                          ],
                          [
                            1,
                            "#f0f921"
                          ]
                        ],
                        "type": "histogram2dcontour"
                      }
                    ],
                    "mesh3d": [
                      {
                        "colorbar": {
                          "outlinewidth": 0,
                          "ticks": ""
                        },
                        "type": "mesh3d"
                      }
                    ],
                    "parcoords": [
                      {
                        "line": {
                          "colorbar": {
                            "outlinewidth": 0,
                            "ticks": ""
                          }
                        },
                        "type": "parcoords"
                      }
                    ],
                    "pie": [
                      {
                        "automargin": true,
                        "type": "pie"
                      }
                    ],
                    "scatter": [
                      {
                        "fillpattern": {
                          "fillmode": "overlay",
                          "size": 10,
                          "solidity": 0.2
                        },
                        "type": "scatter"
                      }
                    ],
                    "scatter3d": [
                      {
                        "line": {
                          "colorbar": {
                            "outlinewidth": 0,
                            "ticks": ""
                          }
                        },
                        "marker": {
                          "colorbar": {
                            "outlinewidth": 0,
                            "ticks": ""
                          }
                        },
                        "type": "scatter3d"
                      }
                    ],
                    "scattercarpet": [
                      {
                        "marker": {
                          "colorbar": {
                            "outlinewidth": 0,
                            "ticks": ""
                          }
                        },
                        "type": "scattercarpet"
                      }
                    ],
                    "scattergeo": [
                      {
                        "marker": {
                          "colorbar": {
                            "outlinewidth": 0,
                            "ticks": ""
                          }
                        },
                        "type": "scattergeo"
                      }
                    ],
                    "scattergl": [
                      {
                        "marker": {
                          "colorbar": {
                            "outlinewidth": 0,
                            "ticks": ""
                          }
                        },
                        "type": "scattergl"
                      }
                    ],
                    "scattermap": [
                      {
                        "marker": {
                          "colorbar": {
                            "outlinewidth": 0,
                            "ticks": ""
                          }
                        },
                        "type": "scattermap"
                      }
                    ],
                    "scattermapbox": [
                      {
                        "marker": {
                          "colorbar": {
                            "outlinewidth": 0,
                            "ticks": ""
                          }
                        },
                        "type": "scattermapbox"
                      }
                    ],
                    "scatterpolar": [
                      {
                        "marker": {
                          "colorbar": {
                            "outlinewidth": 0,
                            "ticks": ""
                          }
                        },
                        "type": "scatterpolar"
                      }
                    ],
                    "scatterpolargl": [
                      {
                        "marker": {
                          "colorbar": {
                            "outlinewidth": 0,
                            "ticks": ""
                          }
                        },
                        "type": "scatterpolargl"
                      }
                    ],
                    "scatterternary": [
                      {
                        "marker": {
                          "colorbar": {
                            "outlinewidth": 0,
                            "ticks": ""
                          }
                        },
                        "type": "scatterternary"
                      }
                    ],
                    "surface": [
                      {
                        "colorbar": {
                          "outlinewidth": 0,
                          "ticks": ""
                        },
                        "colorscale": [
                          [
                            0,
                            "#0d0887"
                          ],
                          [
                            0.1111111111111111,
                            "#46039f"
                          ],
                          [
                            0.2222222222222222,
                            "#7201a8"
                          ],
                          [
                            0.3333333333333333,
                            "#9c179e"
                          ],
                          [
                            0.4444444444444444,
                            "#bd3786"
                          ],
                          [
                            0.5555555555555556,
                            "#d8576b"
                          ],
                          [
                            0.6666666666666666,
                            "#ed7953"
                          ],
                          [
                            0.7777777777777778,
                            "#fb9f3a"
                          ],
                          [
                            0.8888888888888888,
                            "#fdca26"
                          ],
                          [
                            1,
                            "#f0f921"
                          ]
                        ],
                        "type": "surface"
                      }
                    ],
                    "table": [
                      {
                        "cells": {
                          "fill": {
                            "color": "#EBF0F8"
                          },
                          "line": {
                            "color": "white"
                          }
                        },
                        "header": {
                          "fill": {
                            "color": "#C8D4E3"
                          },
                          "line": {
                            "color": "white"
                          }
                        },
                        "type": "table"
                      }
                    ]
                  },
                  "layout": {
                    "annotationdefaults": {
                      "arrowcolor": "#2a3f5f",
                      "arrowhead": 0,
                      "arrowwidth": 1
                    },
                    "autotypenumbers": "strict",
                    "coloraxis": {
                      "colorbar": {
                        "outlinewidth": 0,
                        "ticks": ""
                      }
                    },
                    "colorscale": {
                      "diverging": [
                        [
                          0,
                          "#8e0152"
                        ],
                        [
                          0.1,
                          "#c51b7d"
                        ],
                        [
                          0.2,
                          "#de77ae"
                        ],
                        [
                          0.3,
                          "#f1b6da"
                        ],
                        [
                          0.4,
                          "#fde0ef"
                        ],
                        [
                          0.5,
                          "#f7f7f7"
                        ],
                        [
                          0.6,
                          "#e6f5d0"
                        ],
                        [
                          0.7,
                          "#b8e186"
                        ],
                        [
                          0.8,
                          "#7fbc41"
                        ],
                        [
                          0.9,
                          "#4d9221"
                        ],
                        [
                          1,
                          "#276419"
                        ]
                      ],
                      "sequential": [
                        [
                          0,
                          "#0d0887"
                        ],
                        [
                          0.1111111111111111,
                          "#46039f"
                        ],
                        [
                          0.2222222222222222,
                          "#7201a8"
                        ],
                        [
                          0.3333333333333333,
                          "#9c179e"
                        ],
                        [
                          0.4444444444444444,
                          "#bd3786"
                        ],
                        [
                          0.5555555555555556,
                          "#d8576b"
                        ],
                        [
                          0.6666666666666666,
                          "#ed7953"
                        ],
                        [
                          0.7777777777777778,
                          "#fb9f3a"
                        ],
                        [
                          0.8888888888888888,
                          "#fdca26"
                        ],
                        [
                          1,
                          "#f0f921"
                        ]
                      ],
                      "sequentialminus": [
                        [
                          0,
                          "#0d0887"
                        ],
                        [
                          0.1111111111111111,
                          "#46039f"
                        ],
                        [
                          0.2222222222222222,
                          "#7201a8"
                        ],
                        [
                          0.3333333333333333,
                          "#9c179e"
                        ],
                        [
                          0.4444444444444444,
                          "#bd3786"
                        ],
                        [
                          0.5555555555555556,
                          "#d8576b"
                        ],
                        [
                          0.6666666666666666,
                          "#ed7953"
                        ],
                        [
                          0.7777777777777778,
                          "#fb9f3a"
                        ],
                        [
                          0.8888888888888888,
                          "#fdca26"
                        ],
                        [
                          1,
                          "#f0f921"
                        ]
                      ]
                    },
                    "colorway": [
                      "#636efa",
                      "#EF553B",
                      "#00cc96",
                      "#ab63fa",
                      "#FFA15A",
                      "#19d3f3",
                      "#FF6692",
                      "#B6E880",
                      "#FF97FF",
                      "#FECB52"
                    ],
                    "font": {
                      "color": "#2a3f5f"
                    },
                    "geo": {
                      "bgcolor": "white",
                      "lakecolor": "white",
                      "landcolor": "#E5ECF6",
                      "showlakes": true,
                      "showland": true,
                      "subunitcolor": "white"
                    },
                    "hoverlabel": {
                      "align": "left"
                    },
                    "hovermode": "closest",
                    "mapbox": {
                      "style": "light"
                    },
                    "paper_bgcolor": "white",
                    "plot_bgcolor": "#E5ECF6",
                    "polar": {
                      "angularaxis": {
                        "gridcolor": "white",
                        "linecolor": "white",
                        "ticks": ""
                      },
                      "bgcolor": "#E5ECF6",
                      "radialaxis": {
                        "gridcolor": "white",
                        "linecolor": "white",
                        "ticks": ""
                      }
                    },
                    "scene": {
                      "xaxis": {
                        "backgroundcolor": "#E5ECF6",
                        "gridcolor": "white",
                        "gridwidth": 2,
                        "linecolor": "white",
                        "showbackground": true,
                        "ticks": "",
                        "zerolinecolor": "white"
                      },
                      "yaxis": {
                        "backgroundcolor": "#E5ECF6",
                        "gridcolor": "white",
                        "gridwidth": 2,
                        "linecolor": "white",
                        "showbackground": true,
                        "ticks": "",
                        "zerolinecolor": "white"
                      },
                      "zaxis": {
                        "backgroundcolor": "#E5ECF6",
                        "gridcolor": "white",
                        "gridwidth": 2,
                        "linecolor": "white",
                        "showbackground": true,
                        "ticks": "",
                        "zerolinecolor": "white"
                      }
                    },
                    "shapedefaults": {
                      "line": {
                        "color": "#2a3f5f"
                      }
                    },
                    "ternary": {
                      "aaxis": {
                        "gridcolor": "white",
                        "linecolor": "white",
                        "ticks": ""
                      },
                      "baxis": {
                        "gridcolor": "white",
                        "linecolor": "white",
                        "ticks": ""
                      },
                      "bgcolor": "#E5ECF6",
                      "caxis": {
                        "gridcolor": "white",
                        "linecolor": "white",
                        "ticks": ""
                      }
                    },
                    "title": {
                      "x": 0.05
                    },
                    "xaxis": {
                      "automargin": true,
                      "gridcolor": "white",
                      "linecolor": "white",
                      "ticks": "",
                      "title": {
                        "standoff": 15
                      },
                      "zerolinecolor": "white",
                      "zerolinewidth": 2
                    },
                    "yaxis": {
                      "automargin": true,
                      "gridcolor": "white",
                      "linecolor": "white",
                      "ticks": "",
                      "title": {
                        "standoff": 15
                      },
                      "zerolinecolor": "white",
                      "zerolinewidth": 2
                    }
                  }
                },
                "xaxis": {
                  "title": {
                    "text": "WL Depth (mm)"
                  }
                },
                "yaxis": {
                  "title": {
                    "text": "SSERR"
                  }
                }
              }
            }
          },
          "metadata": {},
          "output_type": "display_data"
        },
        {
          "data": {
            "application/vnd.plotly.v1+json": {
              "config": {
                "plotlyServerURL": "https://plot.ly"
              },
              "data": [
                {
                  "marker": {
                    "color": "yellow"
                  },
                  "mode": "markers",
                  "name": "Touchdown Distance",
                  "type": "scatter",
                  "x": {
                    "bdata": "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",
                    "dtype": "f8"
                  },
                  "y": {
                    "bdata": "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",
                    "dtype": "f8"
                  }
                }
              ],
              "layout": {
                "template": {
                  "data": {
                    "bar": [
                      {
                        "error_x": {
                          "color": "#2a3f5f"
                        },
                        "error_y": {
                          "color": "#2a3f5f"
                        },
                        "marker": {
                          "line": {
                            "color": "#E5ECF6",
                            "width": 0.5
                          },
                          "pattern": {
                            "fillmode": "overlay",
                            "size": 10,
                            "solidity": 0.2
                          }
                        },
                        "type": "bar"
                      }
                    ],
                    "barpolar": [
                      {
                        "marker": {
                          "line": {
                            "color": "#E5ECF6",
                            "width": 0.5
                          },
                          "pattern": {
                            "fillmode": "overlay",
                            "size": 10,
                            "solidity": 0.2
                          }
                        },
                        "type": "barpolar"
                      }
                    ],
                    "carpet": [
                      {
                        "aaxis": {
                          "endlinecolor": "#2a3f5f",
                          "gridcolor": "white",
                          "linecolor": "white",
                          "minorgridcolor": "white",
                          "startlinecolor": "#2a3f5f"
                        },
                        "baxis": {
                          "endlinecolor": "#2a3f5f",
                          "gridcolor": "white",
                          "linecolor": "white",
                          "minorgridcolor": "white",
                          "startlinecolor": "#2a3f5f"
                        },
                        "type": "carpet"
                      }
                    ],
                    "choropleth": [
                      {
                        "colorbar": {
                          "outlinewidth": 0,
                          "ticks": ""
                        },
                        "type": "choropleth"
                      }
                    ],
                    "contour": [
                      {
                        "colorbar": {
                          "outlinewidth": 0,
                          "ticks": ""
                        },
                        "colorscale": [
                          [
                            0,
                            "#0d0887"
                          ],
                          [
                            0.1111111111111111,
                            "#46039f"
                          ],
                          [
                            0.2222222222222222,
                            "#7201a8"
                          ],
                          [
                            0.3333333333333333,
                            "#9c179e"
                          ],
                          [
                            0.4444444444444444,
                            "#bd3786"
                          ],
                          [
                            0.5555555555555556,
                            "#d8576b"
                          ],
                          [
                            0.6666666666666666,
                            "#ed7953"
                          ],
                          [
                            0.7777777777777778,
                            "#fb9f3a"
                          ],
                          [
                            0.8888888888888888,
                            "#fdca26"
                          ],
                          [
                            1,
                            "#f0f921"
                          ]
                        ],
                        "type": "contour"
                      }
                    ],
                    "contourcarpet": [
                      {
                        "colorbar": {
                          "outlinewidth": 0,
                          "ticks": ""
                        },
                        "type": "contourcarpet"
                      }
                    ],
                    "heatmap": [
                      {
                        "colorbar": {
                          "outlinewidth": 0,
                          "ticks": ""
                        },
                        "colorscale": [
                          [
                            0,
                            "#0d0887"
                          ],
                          [
                            0.1111111111111111,
                            "#46039f"
                          ],
                          [
                            0.2222222222222222,
                            "#7201a8"
                          ],
                          [
                            0.3333333333333333,
                            "#9c179e"
                          ],
                          [
                            0.4444444444444444,
                            "#bd3786"
                          ],
                          [
                            0.5555555555555556,
                            "#d8576b"
                          ],
                          [
                            0.6666666666666666,
                            "#ed7953"
                          ],
                          [
                            0.7777777777777778,
                            "#fb9f3a"
                          ],
                          [
                            0.8888888888888888,
                            "#fdca26"
                          ],
                          [
                            1,
                            "#f0f921"
                          ]
                        ],
                        "type": "heatmap"
                      }
                    ],
                    "histogram": [
                      {
                        "marker": {
                          "pattern": {
                            "fillmode": "overlay",
                            "size": 10,
                            "solidity": 0.2
                          }
                        },
                        "type": "histogram"
                      }
                    ],
                    "histogram2d": [
                      {
                        "colorbar": {
                          "outlinewidth": 0,
                          "ticks": ""
                        },
                        "colorscale": [
                          [
                            0,
                            "#0d0887"
                          ],
                          [
                            0.1111111111111111,
                            "#46039f"
                          ],
                          [
                            0.2222222222222222,
                            "#7201a8"
                          ],
                          [
                            0.3333333333333333,
                            "#9c179e"
                          ],
                          [
                            0.4444444444444444,
                            "#bd3786"
                          ],
                          [
                            0.5555555555555556,
                            "#d8576b"
                          ],
                          [
                            0.6666666666666666,
                            "#ed7953"
                          ],
                          [
                            0.7777777777777778,
                            "#fb9f3a"
                          ],
                          [
                            0.8888888888888888,
                            "#fdca26"
                          ],
                          [
                            1,
                            "#f0f921"
                          ]
                        ],
                        "type": "histogram2d"
                      }
                    ],
                    "histogram2dcontour": [
                      {
                        "colorbar": {
                          "outlinewidth": 0,
                          "ticks": ""
                        },
                        "colorscale": [
                          [
                            0,
                            "#0d0887"
                          ],
                          [
                            0.1111111111111111,
                            "#46039f"
                          ],
                          [
                            0.2222222222222222,
                            "#7201a8"
                          ],
                          [
                            0.3333333333333333,
                            "#9c179e"
                          ],
                          [
                            0.4444444444444444,
                            "#bd3786"
                          ],
                          [
                            0.5555555555555556,
                            "#d8576b"
                          ],
                          [
                            0.6666666666666666,
                            "#ed7953"
                          ],
                          [
                            0.7777777777777778,
                            "#fb9f3a"
                          ],
                          [
                            0.8888888888888888,
                            "#fdca26"
                          ],
                          [
                            1,
                            "#f0f921"
                          ]
                        ],
                        "type": "histogram2dcontour"
                      }
                    ],
                    "mesh3d": [
                      {
                        "colorbar": {
                          "outlinewidth": 0,
                          "ticks": ""
                        },
                        "type": "mesh3d"
                      }
                    ],
                    "parcoords": [
                      {
                        "line": {
                          "colorbar": {
                            "outlinewidth": 0,
                            "ticks": ""
                          }
                        },
                        "type": "parcoords"
                      }
                    ],
                    "pie": [
                      {
                        "automargin": true,
                        "type": "pie"
                      }
                    ],
                    "scatter": [
                      {
                        "fillpattern": {
                          "fillmode": "overlay",
                          "size": 10,
                          "solidity": 0.2
                        },
                        "type": "scatter"
                      }
                    ],
                    "scatter3d": [
                      {
                        "line": {
                          "colorbar": {
                            "outlinewidth": 0,
                            "ticks": ""
                          }
                        },
                        "marker": {
                          "colorbar": {
                            "outlinewidth": 0,
                            "ticks": ""
                          }
                        },
                        "type": "scatter3d"
                      }
                    ],
                    "scattercarpet": [
                      {
                        "marker": {
                          "colorbar": {
                            "outlinewidth": 0,
                            "ticks": ""
                          }
                        },
                        "type": "scattercarpet"
                      }
                    ],
                    "scattergeo": [
                      {
                        "marker": {
                          "colorbar": {
                            "outlinewidth": 0,
                            "ticks": ""
                          }
                        },
                        "type": "scattergeo"
                      }
                    ],
                    "scattergl": [
                      {
                        "marker": {
                          "colorbar": {
                            "outlinewidth": 0,
                            "ticks": ""
                          }
                        },
                        "type": "scattergl"
                      }
                    ],
                    "scattermap": [
                      {
                        "marker": {
                          "colorbar": {
                            "outlinewidth": 0,
                            "ticks": ""
                          }
                        },
                        "type": "scattermap"
                      }
                    ],
                    "scattermapbox": [
                      {
                        "marker": {
                          "colorbar": {
                            "outlinewidth": 0,
                            "ticks": ""
                          }
                        },
                        "type": "scattermapbox"
                      }
                    ],
                    "scatterpolar": [
                      {
                        "marker": {
                          "colorbar": {
                            "outlinewidth": 0,
                            "ticks": ""
                          }
                        },
                        "type": "scatterpolar"
                      }
                    ],
                    "scatterpolargl": [
                      {
                        "marker": {
                          "colorbar": {
                            "outlinewidth": 0,
                            "ticks": ""
                          }
                        },
                        "type": "scatterpolargl"
                      }
                    ],
                    "scatterternary": [
                      {
                        "marker": {
                          "colorbar": {
                            "outlinewidth": 0,
                            "ticks": ""
                          }
                        },
                        "type": "scatterternary"
                      }
                    ],
                    "surface": [
                      {
                        "colorbar": {
                          "outlinewidth": 0,
                          "ticks": ""
                        },
                        "colorscale": [
                          [
                            0,
                            "#0d0887"
                          ],
                          [
                            0.1111111111111111,
                            "#46039f"
                          ],
                          [
                            0.2222222222222222,
                            "#7201a8"
                          ],
                          [
                            0.3333333333333333,
                            "#9c179e"
                          ],
                          [
                            0.4444444444444444,
                            "#bd3786"
                          ],
                          [
                            0.5555555555555556,
                            "#d8576b"
                          ],
                          [
                            0.6666666666666666,
                            "#ed7953"
                          ],
                          [
                            0.7777777777777778,
                            "#fb9f3a"
                          ],
                          [
                            0.8888888888888888,
                            "#fdca26"
                          ],
                          [
                            1,
                            "#f0f921"
                          ]
                        ],
                        "type": "surface"
                      }
                    ],
                    "table": [
                      {
                        "cells": {
                          "fill": {
                            "color": "#EBF0F8"
                          },
                          "line": {
                            "color": "white"
                          }
                        },
                        "header": {
                          "fill": {
                            "color": "#C8D4E3"
                          },
                          "line": {
                            "color": "white"
                          }
                        },
                        "type": "table"
                      }
                    ]
                  },
                  "layout": {
                    "annotationdefaults": {
                      "arrowcolor": "#2a3f5f",
                      "arrowhead": 0,
                      "arrowwidth": 1
                    },
                    "autotypenumbers": "strict",
                    "coloraxis": {
                      "colorbar": {
                        "outlinewidth": 0,
                        "ticks": ""
                      }
                    },
                    "colorscale": {
                      "diverging": [
                        [
                          0,
                          "#8e0152"
                        ],
                        [
                          0.1,
                          "#c51b7d"
                        ],
                        [
                          0.2,
                          "#de77ae"
                        ],
                        [
                          0.3,
                          "#f1b6da"
                        ],
                        [
                          0.4,
                          "#fde0ef"
                        ],
                        [
                          0.5,
                          "#f7f7f7"
                        ],
                        [
                          0.6,
                          "#e6f5d0"
                        ],
                        [
                          0.7,
                          "#b8e186"
                        ],
                        [
                          0.8,
                          "#7fbc41"
                        ],
                        [
                          0.9,
                          "#4d9221"
                        ],
                        [
                          1,
                          "#276419"
                        ]
                      ],
                      "sequential": [
                        [
                          0,
                          "#0d0887"
                        ],
                        [
                          0.1111111111111111,
                          "#46039f"
                        ],
                        [
                          0.2222222222222222,
                          "#7201a8"
                        ],
                        [
                          0.3333333333333333,
                          "#9c179e"
                        ],
                        [
                          0.4444444444444444,
                          "#bd3786"
                        ],
                        [
                          0.5555555555555556,
                          "#d8576b"
                        ],
                        [
                          0.6666666666666666,
                          "#ed7953"
                        ],
                        [
                          0.7777777777777778,
                          "#fb9f3a"
                        ],
                        [
                          0.8888888888888888,
                          "#fdca26"
                        ],
                        [
                          1,
                          "#f0f921"
                        ]
                      ],
                      "sequentialminus": [
                        [
                          0,
                          "#0d0887"
                        ],
                        [
                          0.1111111111111111,
                          "#46039f"
                        ],
                        [
                          0.2222222222222222,
                          "#7201a8"
                        ],
                        [
                          0.3333333333333333,
                          "#9c179e"
                        ],
                        [
                          0.4444444444444444,
                          "#bd3786"
                        ],
                        [
                          0.5555555555555556,
                          "#d8576b"
                        ],
                        [
                          0.6666666666666666,
                          "#ed7953"
                        ],
                        [
                          0.7777777777777778,
                          "#fb9f3a"
                        ],
                        [
                          0.8888888888888888,
                          "#fdca26"
                        ],
                        [
                          1,
                          "#f0f921"
                        ]
                      ]
                    },
                    "colorway": [
                      "#636efa",
                      "#EF553B",
                      "#00cc96",
                      "#ab63fa",
                      "#FFA15A",
                      "#19d3f3",
                      "#FF6692",
                      "#B6E880",
                      "#FF97FF",
                      "#FECB52"
                    ],
                    "font": {
                      "color": "#2a3f5f"
                    },
                    "geo": {
                      "bgcolor": "white",
                      "lakecolor": "white",
                      "landcolor": "#E5ECF6",
                      "showlakes": true,
                      "showland": true,
                      "subunitcolor": "white"
                    },
                    "hoverlabel": {
                      "align": "left"
                    },
                    "hovermode": "closest",
                    "mapbox": {
                      "style": "light"
                    },
                    "paper_bgcolor": "white",
                    "plot_bgcolor": "#E5ECF6",
                    "polar": {
                      "angularaxis": {
                        "gridcolor": "white",
                        "linecolor": "white",
                        "ticks": ""
                      },
                      "bgcolor": "#E5ECF6",
                      "radialaxis": {
                        "gridcolor": "white",
                        "linecolor": "white",
                        "ticks": ""
                      }
                    },
                    "scene": {
                      "xaxis": {
                        "backgroundcolor": "#E5ECF6",
                        "gridcolor": "white",
                        "gridwidth": 2,
                        "linecolor": "white",
                        "showbackground": true,
                        "ticks": "",
                        "zerolinecolor": "white"
                      },
                      "yaxis": {
                        "backgroundcolor": "#E5ECF6",
                        "gridcolor": "white",
                        "gridwidth": 2,
                        "linecolor": "white",
                        "showbackground": true,
                        "ticks": "",
                        "zerolinecolor": "white"
                      },
                      "zaxis": {
                        "backgroundcolor": "#E5ECF6",
                        "gridcolor": "white",
                        "gridwidth": 2,
                        "linecolor": "white",
                        "showbackground": true,
                        "ticks": "",
                        "zerolinecolor": "white"
                      }
                    },
                    "shapedefaults": {
                      "line": {
                        "color": "#2a3f5f"
                      }
                    },
                    "ternary": {
                      "aaxis": {
                        "gridcolor": "white",
                        "linecolor": "white",
                        "ticks": ""
                      },
                      "baxis": {
                        "gridcolor": "white",
                        "linecolor": "white",
                        "ticks": ""
                      },
                      "bgcolor": "#E5ECF6",
                      "caxis": {
                        "gridcolor": "white",
                        "linecolor": "white",
                        "ticks": ""
                      }
                    },
                    "title": {
                      "x": 0.05
                    },
                    "xaxis": {
                      "automargin": true,
                      "gridcolor": "white",
                      "linecolor": "white",
                      "ticks": "",
                      "title": {
                        "standoff": 15
                      },
                      "zerolinecolor": "white",
                      "zerolinewidth": 2
                    },
                    "yaxis": {
                      "automargin": true,
                      "gridcolor": "white",
                      "linecolor": "white",
                      "ticks": "",
                      "title": {
                        "standoff": 15
                      },
                      "zerolinecolor": "white",
                      "zerolinewidth": 2
                    }
                  }
                },
                "xaxis": {
                  "title": {
                    "text": "WL Depth (mm)"
                  }
                },
                "yaxis": {
                  "title": {
                    "text": "Touchdown Distance"
                  }
                }
              }
            }
          },
          "metadata": {},
          "output_type": "display_data"
        }
      ],
      "source": [
        "import plotly.graph_objects as go\n",
        "\n",
        "fig = go.Figure()\n",
        "fig.add_trace(go.Scatter(x=df[\"WL_Depth\"], y=df[\"impact_criterion\"], mode=\"markers\", name=\"Impact Criterion\", marker=dict(color=\"red\")))\n",
        "fig.update_layout(xaxis_title=\"WL Depth (mm)\", yaxis_title=\"Impact Criterion\")\n",
        "fig.show()\n",
        "\n",
        "fig = go.Figure()\n",
        "fig.add_trace(go.Scatter(x=df[\"WL_Depth\"], y=df[\"coupled_criterion\"], mode=\"markers\", name=\"Coupled Criterion\", marker=dict(color=\"blue\")))\n",
        "fig.update_layout(xaxis_title=\"WL Depth (mm)\", yaxis_title=\"Coupled Criterion\")\n",
        "fig.show()\n",
        "\n",
        "fig = go.Figure()\n",
        "fig.add_trace(go.Scatter(x=df[\"WL_Depth\"], y=df[\"sserr_result\"], mode=\"markers\", name=\"SSERR\", marker=dict(color=\"green\")))\n",
        "fig.update_layout(xaxis_title=\"WL Depth (mm)\", yaxis_title=\"SSERR\")\n",
        "fig.show()\n",
        "\n",
        "fig = go.Figure()\n",
        "fig.add_trace(go.Scatter(x=df[\"WL_Depth\"], y=df[\"touchdown_distance\"], mode=\"markers\", name=\"Touchdown Distance\", marker=dict(color=\"yellow\")))\n",
        "fig.update_layout(xaxis_title=\"WL Depth (mm)\", yaxis_title=\"Touchdown Distance\")\n",
        "fig.show()\n"
      ]
    },
    {
      "cell_type": "code",
      "execution_count": null,
      "id": "6d3d2ca8",
      "metadata": {},
      "outputs": [
        {
          "data": {
            "image/png": "[encoded data removed]",
            "text/plain": [
              "<Figure size 640x480 with 1 Axes>"
            ]
          },
          "metadata": {},
          "output_type": "display_data"
        }
      ],
      "source": [
        "import matplotlib.pyplot as plt\n",
        "\n",
        "# Bin wl depths according to 10 mm intervals\n",
        "wl_depths = df[\"WL_Depth\"]\n",
        "max_wl_depth = max(wl_depths)\n",
        "min_wl_depth = min(wl_depths)\n",
        "\n",
        "# Create bins\n",
        "bin_width = 50\n",
        "bins = np.arange(min_wl_depth, max_wl_depth + bin_width, bin_width)\n",
        "\n",
        "# Use matplotlib's histogram which handles this automatically\n",
        "plt.hist(wl_depths, bins=bins, edgecolor='black', alpha=0.7)\n",
        "plt.xlabel(\"WL Depth (mm)\")\n",
        "plt.ylabel(\"Number of Pits\")\n",
        "plt.title(\"Number of Pits in Each WL Depth Bin\")\n",
        "plt.show()"
      ]
    },
    {
      "cell_type": "code",
      "execution_count": null,
      "id": "d4682b2a",
      "metadata": {},
      "outputs": [
        {
          "data": {
            "application/vnd.plotly.v1+json": {
              "config": {
                "plotlyServerURL": "https://plot.ly"
              },
              "data": [
                {
                  "marker": {
                    "color": "red"
                  },
                  "mode": "markers",
                  "name": "Coupled Criterion",
                  "type": "scatter",
                  "x": {
                    "bdata": "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",
                    "dtype": "f8"
                  },
                  "y": {
                    "bdata": "2i+m2Qg5Wj/aL6bZCDlqP+SjPKPGqnM/2i+m2Qg5ej/p3QeIpWOAP+SjPKPGqoM/32lxvufxhj/aL6bZCDmKP9b12vQpgI0/6d0HiKVjkD/mQKIVNgeSP+SjPKPGqpM/4gbXMFdOlT/faXG+5/GWP93MC0x4lZg/2i+m2Qg5mj/YkkBnmdybP9b12vQpgJ0/01h1grojnz/p3QeIpWOgP2cP1c5tNaE/5kCiFTYHoj9lcm9c/tiiP+SjPKPGqqM/Y9UJ6o58pD/iBtcwV06lP2A4pHcfIKY/32lxvufxpj9emz4FsMOnP93MC0x4lag/XP7YkkBnqT/aL6bZCDmqP1lhcyDRCqs/2JJAZ5ncqz9XxA2uYa6sP9b12vQpgK0/VSeoO/JRrj/TWHWCuiOvP1KKQsmC9a8/6d0HiKVjsD+odm6ricywP2cP1c5tNbE/J6g78lGesT/mQKIVNgeyP6bZCDkacLI/ZXJvXP7Ysj8kC9Z/4kGzP+SjPKPGqrM/ozyjxqoTtD9j1Qnqjny0PyJucA1z5bQ/4gbXMFdOtT+hnz1UO7e1P2A4pHcfILY/INEKmwOJtj/faXG+5/G2P58C2OHLWrc/Xps+BbDDtz8dNKUolCy4P93MC0x4lbg/nGVyb1z+uD9c/tiSQGe5PxuXP7Yk0Lk/2i+m2Qg5uj+ayAz97KG6P1lhcyDRCrs/GfrZQ7Vzuz/YkkBnmdy7P5grp4p9Rbw/V8QNrmGuvD8WXXTRRRe9P9b12vQpgL0/lY5BGA7pvT9VJ6g78lG+PxTADl/Wur4/01h1grojvz+T8dulnoy/P1KKQsmC9b8/iZFUdjMvwD/p3QeIpWPAP0gqu5kXmMA/qHZuq4nMwD8IwyG9+wDBP2cP1c5tNcE/x1uI4N9pwT8nqDvyUZ7BP4b07gPE0sE/5kCiFTYHwj9GjVUnqDvCP6bZCDkacMI/BSa8Soykwj9lcm9c/tjCP8W+Im5wDcM/JAvWf+JBwz+EV4mRVHbDP+SjPKPGqsM/RPDvtDjfwz+jPKPGqhPEPwOJVtgcSMQ/Y9UJ6o58xD/CIb37ALHEPyJucA1z5cQ/grojH+UZxT/iBtcwV07FP0FTikLJgsU/oZ89VDu3xT8B7PBlrevFP2A4pHcfIMY/wIRXiZFUxj8g0QqbA4nGP38dvqx1vcY/32lxvufxxj8/tiTQWSbHP58C2OHLWsc//k6L8z2Pxz9emz4FsMPHP77n8RYi+Mc/HTSlKJQsyD99gFg6BmHIP93MC0x4lcg/PRm/XerJyD+cZXJvXP7IP/yxJYHOMsk/XP7YkkBnyT+7SoykspvJPxuXP7Yk0Mk/e+Pyx5YEyj/aL6bZCDnKPzp8Wet6bco/msgM/eyhyj/6FMAOX9bKP1lhcyDRCss/ua0mMkM/yz8Z+tlDtXPLP3hGjVUnqMs/2JJAZ5ncyz843/N4CxHMP5grp4p9Rcw/93danO95zD9XxA2uYa7MP7cQwb/T4sw/Fl100UUXzT92qSfjt0vNP9b12vQpgM0/NUKOBpy0zT+VjkEYDunNP/Xa9CmAHc4/VSeoO/JRzj+0c1tNZIbOPxTADl/Wus4/dAzCcEjvzj/TWHWCuiPPPzOlKJQsWM8/k/HbpZ6Mzz/zPY+3EMHPP1KKQsmC9c8/Wet6bfoU0D+JkVR2My/QP7k3Ln9sSdA/6d0HiKVj0D8YhOGQ3n3QP0gqu5kXmNA/eNCUolCy0D+odm6riczQP9gcSLTC5tA/CMMhvfsA0T84afvFNBvRP2cP1c5tNdE/l7Wu16ZP0T/HW4jg32nRP/cBYukYhNE/J6g78lGe0T9XThX7irjRP4b07gPE0tE/tprIDP3s0T/mQKIVNgfSPxbnex5vIdI/Ro1VJ6g70j92My8w4VXSP6bZCDkacNI/1X/iQVOK0j8FJrxKjKTSPzXMlVPFvtI/ZXJvXP7Y0j+VGEllN/PSP8W+Im5wDdM/9WT8dqkn0z8kC9Z/4kHTP1Sxr4gbXNM/hFeJkVR20z+0/WKajZDTP+SjPKPGqtM/FEoWrP/E0z9E8O+0ON/TP3OWyb1x+dM/ozyjxqoT1D/T4nzP4y3UPwOJVtgcSNQ/My8w4VVi1D9j1QnqjnzUP5N74/LHltQ/wiG9+wCx1D/yx5YEOsvUPyJucA1z5dQ/UhRKFqz/1D+CuiMf5RnVP7Jg/SceNNU/4gbXMFdO1T8RrbA5kGjVP0FTikLJgtU/cfljSwKd1T+hnz1UO7fVP9FFF1100dU/AezwZa3r1T8wkspu5gXWP2A4pHcfINY/kN59gFg61j/AhFeJkVTWP/AqMZLKbtY/INEKmwOJ1j9Qd+SjPKPWP38dvqx1vdY/r8OXta7X1j/faXG+5/HWPw8QS8cgDNc/P7Yk0Fkm1z9vXP7YkkDXP58C2OHLWtc/zqix6gR11z/+TovzPY/XPy71ZPx2qdc/Xps+BbDD1z+OQRgO6d3XP77n8RYi+Nc/7o3LH1sS2D8dNKUolCzYP03afjHNRtg/fYBYOgZh2D+tJjJDP3vYP93MC0x4ldg/DXPlVLGv2D89Gb9d6snYP2y/mGYj5Ng/nGVyb1z+2D/MC0x4lRjZP/yxJYHOMtk/LFj/iQdN2T9c/tiSQGfZP4ykspt5gdk/u0qMpLKb2T/r8GWt67XZPxuXP7Yk0Nk/Sz0Zv13q2T974/LHlgTaP6uJzNDPHto/2i+m2Qg52j8K1n/iQVPaPzp8Wet6bdo/aiIz9LOH2j+ayAz97KHaP8pu5gUmvNo/+hTADl/W2j8pu5kXmPDaP1lhcyDRCts/iQdNKQol2z+5rSYyQz/bP+lTADt8Wds/GfrZQ7Vz2z9JoLNM7o3bP3hGjVUnqNs/qOxmXmDC2z/YkkBnmdzbPwg5GnDS9ts/ON/zeAsR3D9ohc2BRCvcP5grp4p9Rdw/x9GAk7Zf3D/3d1qc73ncPyceNKUolNw/V8QNrmGu3D+Haue2msjcP7cQwb/T4tw/57aayAz93D8WXXTRRRfdP0YDTtp+Md0/dqkn47dL3T+mTwHs8GXdP9b12vQpgN0/Bpy0/WKa3T81Qo4GnLTdP2XoZw/Vzt0/lY5BGA7p3T/FNBshRwPeP/Xa9CmAHd4/JYHOMrk33j9VJ6g78lHeP4TNgUQrbN4/tHNbTWSG3j/kGTVWnaDePxTADl/Wut4/RGboZw/V3j90DMJwSO/eP6Sym3mBCd8/01h1groj3z8D/06L8z3fPzOlKJQsWN8/Y0sCnWVy3z+T8dulnozfP8OXta7Xpt8/8z2PtxDB3z8i5GjASdvfP1KKQsmC9d8/QRgO6d0H4D9Z63pt+hTgP3G+5/EWIuA/iZFUdjMv4D+hZMH6TzzgP7k3Ln9sSeA/0QqbA4lW4D/p3QeIpWPgPwCxdAzCcOA/GIThkN594D8wV04V+4rgP0gqu5kXmOA/YP0nHjSl4D940JSiULLgP5CjASdtv+A/qHZuq4nM4D/ASdsvptngP9gcSLTC5uA/8O+0ON/z4D8IwyG9+wDhPyCWjkEYDuE/OGn7xTQb4T9PPGhKUSjhP2cP1c5tNeE/f+JBU4pC4T+Xta7Xpk/hP6+IG1zDXOE/x1uI4N9p4T/fLvVk/HbhP/cBYukYhOE/D9XObTWR4T8nqDvyUZ7hPz97qHZuq+E/V04V+4q44T9vIYJ/p8XhP4b07gPE0uE/nsdbiODf4T+2msgM/ezhP85tNZEZ+uE/5kCiFTYH4j/+Ew+aUhTiPxbnex5vIeI/Lrrooosu4j9GjVUnqDviP15gwqvESOI/djMvMOFV4j+OBpy0/WLiP6bZCDkacOI/vqx1vTZ94j/Vf+JBU4riP+1ST8Zvl+I/BSa8Soyk4j8d+SjPqLHiPzXMlVPFvuI/TZ8C2OHL4j9lcm9c/tjiP31F3OAa5uI/lRhJZTfz4j+t67XpUwDjP8W+Im5wDeM/3ZGP8owa4z/1ZPx2qSfjPw04afvFNOM/JAvWf+JB4z883kIE/07jP1Sxr4gbXOM/bIQcDThp4z+EV4mRVHbjP5wq9hVxg+M/tP1imo2Q4z/M0M8eqp3jP+SjPKPGquM//HapJ+O34z8UShas/8TjPywdgzAc0uM/RPDvtDjf4z9bw1w5VezjP3OWyb1x+eM/i2k2Qo4G5D+jPKPGqhPkP7sPEEvHIOQ/0+J8z+Mt5D/rtelTADvkPwOJVtgcSOQ/G1zDXDlV5D8zLzDhVWLkP0sCnWVyb+Q/Y9UJ6o585D97qHZuq4nkP5N74/LHluQ/qk5Qd+Sj5D/CIb37ALHkP9r0KYAdvuQ/8seWBDrL5D8KmwOJVtjkPyJucA1z5eQ/OkHdkY/y5D9SFEoWrP/kP2rntprIDOU/grojH+UZ5T+ajZCjASflP7Jg/SceNOU/yjNqrDpB5T/iBtcwV07lP/nZQ7VzW+U/Ea2wOZBo5T8pgB2+rHXlP0FTikLJguU/WSb3xuWP5T9x+WNLAp3lP4nM0M8equU/oZ89VDu35T+5cqrYV8TlP9FFF1100eU/6RiE4ZDe5T8B7PBlrevlPxm/XerJ+OU/MJLKbuYF5j9IZTfzAhPmP2A4pHcfIOY/eAsR/Dst5j+Q3n2AWDrmP6ix6gR1R+Y/wIRXiZFU5j/YV8QNrmHmP/AqMZLKbuY/CP6dFud75j8g0QqbA4nmPzikdx8gluY/UHfkozyj5j9oSlEoWbDmP38dvqx1veY/l/AqMZLK5j+vw5e1rtfmP8eWBDrL5OY/32lxvufx5j/3PN5CBP/mPw8QS8cgDOc/J+O3Sz0Z5z8/tiTQWSbnP1eJkVR2M+c/b1z+2JJA5z+HL2tdr03nP58C2OHLWuc/t9VEZuhn5z/OqLHqBHXnP+Z7Hm8hguc//k6L8z2P5z8WIvh3WpznPy71ZPx2qec/RsjRgJO25z9emz4FsMPnP3Zuq4nM0Oc/jkEYDund5z+mFIWSBevnP77n8RYi+Oc/1rpemz4F6D/ujcsfWxLoPwVhOKR3H+g/HTSlKJQs6D81BxKtsDnoP03afjHNRug/Za3rtelT6D99gFg6BmHoP5VTxb4ibug/rSYyQz976D/F+Z7HW4joP93MC0x4leg/9Z940JSi6D8Nc+VUsa/oPyVGUtnNvOg/PRm/XerJ6D9U7CviBtfoP2y/mGYj5Og/hJIF6z/x6D+cZXJvXP7oP7Q43/N4C+k/zAtMeJUY6T/k3rj8sSXpP/yxJYHOMuk/FIWSBes/6T8sWP+JB03pP0QrbA4kWuk/XP7YkkBn6T900UUXXXTpP4ykspt5gek/o3cfIJaO6T+7SoykspvpP9Md+SjPqOk/6/Blreu16T8DxNIxCMPpPxuXP7Yk0Ok/M2qsOkHd6T9LPRm/XerpP2MQhkN69+k/e+Pyx5YE6j+Ttl9MsxHqP6uJzNDPHuo/w1w5Vewr6j/aL6bZCDnqP/ICE14lRuo/CtZ/4kFT6j8iqexmXmDqPzp8Wet6beo/Uk/Gb5d66j9qIjP0s4fqP4L1n3jQlOo/msgM/eyh6j+ym3mBCa/qP8pu5gUmvOo/4kFTikLJ6j/6FMAOX9bqPxLoLJN74+o/KbuZF5jw6j9BjgactP3qP1lhcyDRCus/cTTgpO0X6z+JB00pCiXrP6Haua0mMus/ua0mMkM/6z/RgJO2X0zrP+lTADt8Wes/ASdtv5hm6z8Z+tlDtXPrPzHNRsjRgOs/SaCzTO6N6z9hcyDRCpvrP3hGjVUnqOs/kBn62UO16z+o7GZeYMLrP8C/0+J8z+s/2JJAZ5nc6z/wZa3rtenrPwg5GnDS9us/IAyH9O4D7D843/N4CxHsP1CyYP0nHuw/aIXNgUQr7D+AWDoGYTjsP5grp4p9Rew/r/4TD5pS7D/H0YCTtl/sP9+k7RfTbOw/93danO957D8PS8cgDIfsPyceNKUolOw/P/GgKUWh7D9XxA2uYa7sP2+XejJ+u+w/h2rntprI7D+fPVQ7t9XsP7cQwb/T4uw/z+MtRPDv7D/ntprIDP3sP/6JB00pCu0/Fl100UUX7T8uMOFVYiTtP0YDTtp+Me0/Xta6Xps+7T92qSfjt0vtP458lGfUWO0/pk8B7PBl7T++Im5wDXPtP9b12vQpgO0/7shHeUaN7T8GnLT9YprtPx5vIYJ/p+0/NUKOBpy07T9NFfuKuMHtP2XoZw/Vzu0/fbvUk/Hb7T+VjkEYDuntP61hrpwq9u0/xTQbIUcD7j/dB4ilYxDuP/Xa9CmAHe4/Da5hrpwq7j8lgc4yuTfuPz1UO7fVRO4/VSeoO/JR7j9t+hTADl/uP4TNgUQrbO4/nKDuyEd57j+0c1tNZIbuP8xGyNGAk+4/5Bk1Vp2g7j/87KHaua3uPxTADl/Wuu4/LJN74/LH7j9EZuhnD9XuP1w5Vewr4u4/dAzCcEjv7j+M3y71ZPzuP6Sym3mBCe8/vIUI/p0W7z/TWHWCuiPvP+sr4gbXMO8/A/9Oi/M97z8b0rsPEEvvPzOlKJQsWO8/S3iVGEll7z9jSwKdZXLvP3sebyGCf+8/k/HbpZ6M7z+rxEgqu5nvP8OXta7Xpu8/22oiM/Sz7z/zPY+3EMHvPwoR/Dstzu8/IuRowEnb7z86t9VEZujvP1KKQsmC9e8/ta7Xpk8B8D9BGA7p3QfwP82BRCtsDvA/Wet6bfoU8D/lVLGviBvwP3G+5/EWIvA//SceNKUo8D+JkVR2My/wPxX7irjBNfA/oWTB+k888D8tzvc83kLwP7k3Ln9sSfA/RaFkwfpP8D/RCpsDiVbwP1100UUXXfA/6d0HiKVj8D91Rz7KM2rwPwCxdAzCcPA/jBqrTlB38D8YhOGQ3n3wP6TtF9NshPA/MFdOFfuK8D+8wIRXiZHwP0gqu5kXmPA/1JPx26We8D9g/SceNKXwP+xmXmDCq/A/eNCUolCy8D8EOsvk3rjwP5CjASdtv/A/HA04afvF8D+odm6riczwPzTgpO0X0/A/wEnbL6bZ8D9MsxFyNODwP9gcSLTC5vA/ZIZ+9lDt8D/w77Q43/PwP3xZ63pt+vA/CMMhvfsA8T+ULFj/iQfxPyCWjkEYDvE/rP/Eg6YU8T84afvFNBvxP8PSMQjDIfE/TzxoSlEo8T/bpZ6M3y7xP2cP1c5tNfE/83gLEfw78T9/4kFTikLxPwtMeJUYSfE/l7Wu16ZP8T8jH+UZNVbxP6+IG1zDXPE/O/JRnlFj8T/HW4jg32nxP1PFviJucPE/3y71ZPx28T9rmCunin3xP/cBYukYhPE/g2uYK6eK8T8P1c5tNZHxP5s+BbDDl/E/J6g78lGe8T+zEXI04KTxPz97qHZuq/E/y+TeuPyx8T9XThX7irjxP+O3Sz0Zv/E/byGCf6fF8T/7irjBNczxP4b07gPE0vE/El4lRlLZ8T+ex1uI4N/xPyoxkspu5vE/tprIDP3s8T9CBP9Oi/PxP85tNZEZ+vE/Wtdr06cA8j/mQKIVNgfyP3Kq2FfEDfI//hMPmlIU8j+KfUXc4BryPxbnex5vIfI/olCyYP0n8j8uuuiiiy7yP7ojH+UZNfI/Ro1VJ6g78j/S9otpNkLyP15gwqvESPI/6sn47VJP8j92My8w4VXyPwKdZXJvXPI/jgactP1i8j8acNL2i2nyP6bZCDkacPI/MkM/e6h28j++rHW9Nn3yP0oWrP/Eg/I/1X/iQVOK8j9h6RiE4ZDyP+1ST8Zvl/I/ebyFCP6d8j8FJrxKjKTyP5GP8owaq/I/Hfkoz6ix8j+pYl8RN7jyPzXMlVPFvvI/wTXMlVPF8j9NnwLY4cvyP9kIORpw0vI/ZXJvXP7Y8j/x26WejN/yP31F3OAa5vI/Ca8SI6ns8j+VGEllN/PyPyGCf6fF+fI/reu16VMA8z85Vewr4gbzP8W+Im5wDfM/UShZsP4T8z/dkY/yjBrzP2n7xTQbIfM/9WT8dqkn8z+BzjK5Ny7zPw04afvFNPM/mKGfPVQ78z8kC9Z/4kHzP7B0DMJwSPM/PN5CBP9O8z/IR3lGjVXzP1Sxr4gbXPM/4Brmyqli8z9shBwNOGnzP/jtUk/Gb/M/hFeJkVR28z8Qwb/T4nzzP5wq9hVxg/M/KJQsWP+J8z+0/WKajZDzP0Bnmdwbl/M/zNDPHqqd8z9YOgZhOKTzP+SjPKPGqvM/cA1z5VSx8z/8dqkn47fzP4jg32lxvvM/FEoWrP/E8z+gs0zujcvzPywdgzAc0vM/uIa5cqrY8z9E8O+0ON/zP9BZJvfG5fM/W8NcOVXs8z/nLJN74/LzP3OWyb1x+fM/////////8z8=",
                    "dtype": "f8"
                  }
                }
              ],
              "layout": {
                "template": {
                  "data": {
                    "bar": [
                      {
                        "error_x": {
                          "color": "#2a3f5f"
                        },
                        "error_y": {
                          "color": "#2a3f5f"
                        },
                        "marker": {
                          "line": {
                            "color": "#E5ECF6",
                            "width": 0.5
                          },
                          "pattern": {
                            "fillmode": "overlay",
                            "size": 10,
                            "solidity": 0.2
                          }
                        },
                        "type": "bar"
                      }
                    ],
                    "barpolar": [
                      {
                        "marker": {
                          "line": {
                            "color": "#E5ECF6",
                            "width": 0.5
                          },
                          "pattern": {
                            "fillmode": "overlay",
                            "size": 10,
                            "solidity": 0.2
                          }
                        },
                        "type": "barpolar"
                      }
                    ],
                    "carpet": [
                      {
                        "aaxis": {
                          "endlinecolor": "#2a3f5f",
                          "gridcolor": "white",
                          "linecolor": "white",
                          "minorgridcolor": "white",
                          "startlinecolor": "#2a3f5f"
                        },
                        "baxis": {
                          "endlinecolor": "#2a3f5f",
                          "gridcolor": "white",
                          "linecolor": "white",
                          "minorgridcolor": "white",
                          "startlinecolor": "#2a3f5f"
                        },
                        "type": "carpet"
                      }
                    ],
                    "choropleth": [
                      {
                        "colorbar": {
                          "outlinewidth": 0,
                          "ticks": ""
                        },
                        "type": "choropleth"
                      }
                    ],
                    "contour": [
                      {
                        "colorbar": {
                          "outlinewidth": 0,
                          "ticks": ""
                        },
                        "colorscale": [
                          [
                            0,
                            "#0d0887"
                          ],
                          [
                            0.1111111111111111,
                            "#46039f"
                          ],
                          [
                            0.2222222222222222,
                            "#7201a8"
                          ],
                          [
                            0.3333333333333333,
                            "#9c179e"
                          ],
                          [
                            0.4444444444444444,
                            "#bd3786"
                          ],
                          [
                            0.5555555555555556,
                            "#d8576b"
                          ],
                          [
                            0.6666666666666666,
                            "#ed7953"
                          ],
                          [
                            0.7777777777777778,
                            "#fb9f3a"
                          ],
                          [
                            0.8888888888888888,
                            "#fdca26"
                          ],
                          [
                            1,
                            "#f0f921"
                          ]
                        ],
                        "type": "contour"
                      }
                    ],
                    "contourcarpet": [
                      {
                        "colorbar": {
                          "outlinewidth": 0,
                          "ticks": ""
                        },
                        "type": "contourcarpet"
                      }
                    ],
                    "heatmap": [
                      {
                        "colorbar": {
                          "outlinewidth": 0,
                          "ticks": ""
                        },
                        "colorscale": [
                          [
                            0,
                            "#0d0887"
                          ],
                          [
                            0.1111111111111111,
                            "#46039f"
                          ],
                          [
                            0.2222222222222222,
                            "#7201a8"
                          ],
                          [
                            0.3333333333333333,
                            "#9c179e"
                          ],
                          [
                            0.4444444444444444,
                            "#bd3786"
                          ],
                          [
                            0.5555555555555556,
                            "#d8576b"
                          ],
                          [
                            0.6666666666666666,
                            "#ed7953"
                          ],
                          [
                            0.7777777777777778,
                            "#fb9f3a"
                          ],
                          [
                            0.8888888888888888,
                            "#fdca26"
                          ],
                          [
                            1,
                            "#f0f921"
                          ]
                        ],
                        "type": "heatmap"
                      }
                    ],
                    "histogram": [
                      {
                        "marker": {
                          "pattern": {
                            "fillmode": "overlay",
                            "size": 10,
                            "solidity": 0.2
                          }
                        },
                        "type": "histogram"
                      }
                    ],
                    "histogram2d": [
                      {
                        "colorbar": {
                          "outlinewidth": 0,
                          "ticks": ""
                        },
                        "colorscale": [
                          [
                            0,
                            "#0d0887"
                          ],
                          [
                            0.1111111111111111,
                            "#46039f"
                          ],
                          [
                            0.2222222222222222,
                            "#7201a8"
                          ],
                          [
                            0.3333333333333333,
                            "#9c179e"
                          ],
                          [
                            0.4444444444444444,
                            "#bd3786"
                          ],
                          [
                            0.5555555555555556,
                            "#d8576b"
                          ],
                          [
                            0.6666666666666666,
                            "#ed7953"
                          ],
                          [
                            0.7777777777777778,
                            "#fb9f3a"
                          ],
                          [
                            0.8888888888888888,
                            "#fdca26"
                          ],
                          [
                            1,
                            "#f0f921"
                          ]
                        ],
                        "type": "histogram2d"
                      }
                    ],
                    "histogram2dcontour": [
                      {
                        "colorbar": {
                          "outlinewidth": 0,
                          "ticks": ""
                        },
                        "colorscale": [
                          [
                            0,
                            "#0d0887"
                          ],
                          [
                            0.1111111111111111,
                            "#46039f"
                          ],
                          [
                            0.2222222222222222,
                            "#7201a8"
                          ],
                          [
                            0.3333333333333333,
                            "#9c179e"
                          ],
                          [
                            0.4444444444444444,
                            "#bd3786"
                          ],
                          [
                            0.5555555555555556,
                            "#d8576b"
                          ],
                          [
                            0.6666666666666666,
                            "#ed7953"
                          ],
                          [
                            0.7777777777777778,
                            "#fb9f3a"
                          ],
                          [
                            0.8888888888888888,
                            "#fdca26"
                          ],
                          [
                            1,
                            "#f0f921"
                          ]
                        ],
                        "type": "histogram2dcontour"
                      }
                    ],
                    "mesh3d": [
                      {
                        "colorbar": {
                          "outlinewidth": 0,
                          "ticks": ""
                        },
                        "type": "mesh3d"
                      }
                    ],
                    "parcoords": [
                      {
                        "line": {
                          "colorbar": {
                            "outlinewidth": 0,
                            "ticks": ""
                          }
                        },
                        "type": "parcoords"
                      }
                    ],
                    "pie": [
                      {
                        "automargin": true,
                        "type": "pie"
                      }
                    ],
                    "scatter": [
                      {
                        "fillpattern": {
                          "fillmode": "overlay",
                          "size": 10,
                          "solidity": 0.2
                        },
                        "type": "scatter"
                      }
                    ],
                    "scatter3d": [
                      {
                        "line": {
                          "colorbar": {
                            "outlinewidth": 0,
                            "ticks": ""
                          }
                        },
                        "marker": {
                          "colorbar": {
                            "outlinewidth": 0,
                            "ticks": ""
                          }
                        },
                        "type": "scatter3d"
                      }
                    ],
                    "scattercarpet": [
                      {
                        "marker": {
                          "colorbar": {
                            "outlinewidth": 0,
                            "ticks": ""
                          }
                        },
                        "type": "scattercarpet"
                      }
                    ],
                    "scattergeo": [
                      {
                        "marker": {
                          "colorbar": {
                            "outlinewidth": 0,
                            "ticks": ""
                          }
                        },
                        "type": "scattergeo"
                      }
                    ],
                    "scattergl": [
                      {
                        "marker": {
                          "colorbar": {
                            "outlinewidth": 0,
                            "ticks": ""
                          }
                        },
                        "type": "scattergl"
                      }
                    ],
                    "scattermap": [
                      {
                        "marker": {
                          "colorbar": {
                            "outlinewidth": 0,
                            "ticks": ""
                          }
                        },
                        "type": "scattermap"
                      }
                    ],
                    "scattermapbox": [
                      {
                        "marker": {
                          "colorbar": {
                            "outlinewidth": 0,
                            "ticks": ""
                          }
                        },
                        "type": "scattermapbox"
                      }
                    ],
                    "scatterpolar": [
                      {
                        "marker": {
                          "colorbar": {
                            "outlinewidth": 0,
                            "ticks": ""
                          }
                        },
                        "type": "scatterpolar"
                      }
                    ],
                    "scatterpolargl": [
                      {
                        "marker": {
                          "colorbar": {
                            "outlinewidth": 0,
                            "ticks": ""
                          }
                        },
                        "type": "scatterpolargl"
                      }
                    ],
                    "scatterternary": [
                      {
                        "marker": {
                          "colorbar": {
                            "outlinewidth": 0,
                            "ticks": ""
                          }
                        },
                        "type": "scatterternary"
                      }
                    ],
                    "surface": [
                      {
                        "colorbar": {
                          "outlinewidth": 0,
                          "ticks": ""
                        },
                        "colorscale": [
                          [
                            0,
                            "#0d0887"
                          ],
                          [
                            0.1111111111111111,
                            "#46039f"
                          ],
                          [
                            0.2222222222222222,
                            "#7201a8"
                          ],
                          [
                            0.3333333333333333,
                            "#9c179e"
                          ],
                          [
                            0.4444444444444444,
                            "#bd3786"
                          ],
                          [
                            0.5555555555555556,
                            "#d8576b"
                          ],
                          [
                            0.6666666666666666,
                            "#ed7953"
                          ],
                          [
                            0.7777777777777778,
                            "#fb9f3a"
                          ],
                          [
                            0.8888888888888888,
                            "#fdca26"
                          ],
                          [
                            1,
                            "#f0f921"
                          ]
                        ],
                        "type": "surface"
                      }
                    ],
                    "table": [
                      {
                        "cells": {
                          "fill": {
                            "color": "#EBF0F8"
                          },
                          "line": {
                            "color": "white"
                          }
                        },
                        "header": {
                          "fill": {
                            "color": "#C8D4E3"
                          },
                          "line": {
                            "color": "white"
                          }
                        },
                        "type": "table"
                      }
                    ]
                  },
                  "layout": {
                    "annotationdefaults": {
                      "arrowcolor": "#2a3f5f",
                      "arrowhead": 0,
                      "arrowwidth": 1
                    },
                    "autotypenumbers": "strict",
                    "coloraxis": {
                      "colorbar": {
                        "outlinewidth": 0,
                        "ticks": ""
                      }
                    },
                    "colorscale": {
                      "diverging": [
                        [
                          0,
                          "#8e0152"
                        ],
                        [
                          0.1,
                          "#c51b7d"
                        ],
                        [
                          0.2,
                          "#de77ae"
                        ],
                        [
                          0.3,
                          "#f1b6da"
                        ],
                        [
                          0.4,
                          "#fde0ef"
                        ],
                        [
                          0.5,
                          "#f7f7f7"
                        ],
                        [
                          0.6,
                          "#e6f5d0"
                        ],
                        [
                          0.7,
                          "#b8e186"
                        ],
                        [
                          0.8,
                          "#7fbc41"
                        ],
                        [
                          0.9,
                          "#4d9221"
                        ],
                        [
                          1,
                          "#276419"
                        ]
                      ],
                      "sequential": [
                        [
                          0,
                          "#0d0887"
                        ],
                        [
                          0.1111111111111111,
                          "#46039f"
                        ],
                        [
                          0.2222222222222222,
                          "#7201a8"
                        ],
                        [
                          0.3333333333333333,
                          "#9c179e"
                        ],
                        [
                          0.4444444444444444,
                          "#bd3786"
                        ],
                        [
                          0.5555555555555556,
                          "#d8576b"
                        ],
                        [
                          0.6666666666666666,
                          "#ed7953"
                        ],
                        [
                          0.7777777777777778,
                          "#fb9f3a"
                        ],
                        [
                          0.8888888888888888,
                          "#fdca26"
                        ],
                        [
                          1,
                          "#f0f921"
                        ]
                      ],
                      "sequentialminus": [
                        [
                          0,
                          "#0d0887"
                        ],
                        [
                          0.1111111111111111,
                          "#46039f"
                        ],
                        [
                          0.2222222222222222,
                          "#7201a8"
                        ],
                        [
                          0.3333333333333333,
                          "#9c179e"
                        ],
                        [
                          0.4444444444444444,
                          "#bd3786"
                        ],
                        [
                          0.5555555555555556,
                          "#d8576b"
                        ],
                        [
                          0.6666666666666666,
                          "#ed7953"
                        ],
                        [
                          0.7777777777777778,
                          "#fb9f3a"
                        ],
                        [
                          0.8888888888888888,
                          "#fdca26"
                        ],
                        [
                          1,
                          "#f0f921"
                        ]
                      ]
                    },
                    "colorway": [
                      "#636efa",
                      "#EF553B",
                      "#00cc96",
                      "#ab63fa",
                      "#FFA15A",
                      "#19d3f3",
                      "#FF6692",
                      "#B6E880",
                      "#FF97FF",
                      "#FECB52"
                    ],
                    "font": {
                      "color": "#2a3f5f"
                    },
                    "geo": {
                      "bgcolor": "white",
                      "lakecolor": "white",
                      "landcolor": "#E5ECF6",
                      "showlakes": true,
                      "showland": true,
                      "subunitcolor": "white"
                    },
                    "hoverlabel": {
                      "align": "left"
                    },
                    "hovermode": "closest",
                    "mapbox": {
                      "style": "light"
                    },
                    "paper_bgcolor": "white",
                    "plot_bgcolor": "#E5ECF6",
                    "polar": {
                      "angularaxis": {
                        "gridcolor": "white",
                        "linecolor": "white",
                        "ticks": ""
                      },
                      "bgcolor": "#E5ECF6",
                      "radialaxis": {
                        "gridcolor": "white",
                        "linecolor": "white",
                        "ticks": ""
                      }
                    },
                    "scene": {
                      "xaxis": {
                        "backgroundcolor": "#E5ECF6",
                        "gridcolor": "white",
                        "gridwidth": 2,
                        "linecolor": "white",
                        "showbackground": true,
                        "ticks": "",
                        "zerolinecolor": "white"
                      },
                      "yaxis": {
                        "backgroundcolor": "#E5ECF6",
                        "gridcolor": "white",
                        "gridwidth": 2,
                        "linecolor": "white",
                        "showbackground": true,
                        "ticks": "",
                        "zerolinecolor": "white"
                      },
                      "zaxis": {
                        "backgroundcolor": "#E5ECF6",
                        "gridcolor": "white",
                        "gridwidth": 2,
                        "linecolor": "white",
                        "showbackground": true,
                        "ticks": "",
                        "zerolinecolor": "white"
                      }
                    },
                    "shapedefaults": {
                      "line": {
                        "color": "#2a3f5f"
                      }
                    },
                    "ternary": {
                      "aaxis": {
                        "gridcolor": "white",
                        "linecolor": "white",
                        "ticks": ""
                      },
                      "baxis": {
                        "gridcolor": "white",
                        "linecolor": "white",
                        "ticks": ""
                      },
                      "bgcolor": "#E5ECF6",
                      "caxis": {
                        "gridcolor": "white",
                        "linecolor": "white",
                        "ticks": ""
                      }
                    },
                    "title": {
                      "x": 0.05
                    },
                    "xaxis": {
                      "automargin": true,
                      "gridcolor": "white",
                      "linecolor": "white",
                      "ticks": "",
                      "title": {
                        "standoff": 15
                      },
                      "zerolinecolor": "white",
                      "zerolinewidth": 2
                    },
                    "yaxis": {
                      "automargin": true,
                      "gridcolor": "white",
                      "linecolor": "white",
                      "ticks": "",
                      "title": {
                        "standoff": 15
                      },
                      "zerolinecolor": "white",
                      "zerolinewidth": 2
                    }
                  }
                },
                "xaxis": {
                  "title": {
                    "text": "Weight (kg)"
                  }
                },
                "yaxis": {
                  "title": {
                    "text": "Cumulative Distribution"
                  }
                }
              }
            }
          },
          "metadata": {},
          "output_type": "display_data"
        }
      ],
      "source": [
        "import plotly.graph_objects as go\n",
        "import pandas as pd\n",
        "import numpy as np\n",
        "\n",
        "df = pd.read_csv(\"data/crown_flank_dataset.csv\")\n",
        "\n",
        "wl_depths = df[\"WL_Depth\"]\n",
        "df = df[df[\"WL_Depth\"] > 150]\n",
        "\n",
        "# Plot cumulative distribution of coupled criterion\n",
        "weight = np.arange(0, 600, 10)\n",
        "cc = df[\"coupled_criterion\"][~np.isnan(df[\"coupled_criterion\"])]\n",
        "sorted_cc = np.sort(cc)\n",
        "cdf = np.arange(1, len(sorted_cc) + 1) / len(sorted_cc)\n",
        "\n",
        "fig = go.Figure()\n",
        "fig.add_trace(go.Scatter(x=sorted_cc, y=cdf, mode=\"markers\", name=\"Coupled Criterion\", marker=dict(color=\"red\")))\n",
        "fig.update_layout(xaxis_title=\"Weight (kg)\", yaxis_title=\"Cumulative Distribution\")\n",
        "fig.show()\n"
      ]
    },
    {
      "cell_type": "code",
      "execution_count": 20,
      "id": "e27d8b55",
      "metadata": {},
      "outputs": [
        {
          "name": "stdout",
          "output_type": "stream",
          "text": [
            "(np.float64(0.15844482957139105), np.float64(-414.97945938360624), np.float64(629.6501944478106))\n"
          ]
        },
        {
          "name": "stderr",
          "output_type": "stream",
          "text": [
            "/home/pillowbeast/.local/miniforge3/envs/weac/lib/python3.10/site-packages/scipy/stats/_continuous_distns.py:6921: RuntimeWarning:\n",
            "\n",
            "divide by zero encountered in log\n",
            "\n"
          ]
        },
        {
          "data": {
            "application/vnd.plotly.v1+json": {
              "config": {
                "plotlyServerURL": "https://plot.ly"
              },
              "data": [
                {
                  "mode": "lines",
                  "name": "Normal",
                  "type": "scatter",
                  "x": {
                    "bdata": "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",
                    "dtype": "f8"
                  },
                  "y": {
                    "bdata": "G07rU08xjD/Zc3/ECxWYPykgEVWLZJk/7PK8K/0Bmj8VoWpUg4+bP6dctg2LJJ0/kJRu1sTboD8Yfz/Tz9qhP3aRBSnESaI/Qndw7B5Uoj+15eCl9nOiPzSXZnjBbqM/+YNkWVenpD/W8gwv7LykP04wLryFR6U/xm1fu3t/pT/IsniCusmlPxERn0LsGqc/TZ2vjelCpz83+tSdrLanPxv0MDXPA6g/mtLdRKNDqD9ZaeuE6HSoP7Gowhh+sKg/XMSUyyNbqT+FZRF3X8epP8RhE+YEAao/l6/BkrMXqj8I+TMkfyWqPz8HzrKUMKo/oAgRKWAuqz+4xTxJ7HCsP8e4XoH6s6w/DaV8nCVKrT/FSWRZP06tP7QMA+EZEa4/8WJw+d1Yrj8vCberW6+uP60jKwOp6a4/rjKwKnDHrz+wHE8A0xKxPzMQkuFwpLE/N4CDZOLosT9mee8nuiOyP8aKWkD5PLI/TAstIQZUsj+4vA3ril2yPyZcfmawqLI/TM8vweBQsz+a7ilW9lazP/BwTKYEdbM/3LkSSNl8sz/ZRIcAGqizP8Z4U8DNA7Q/aDmEGKsktD88ApplZW60Pxxr3r5AgbQ/cC03yGCgtD9cR2dPAe+0PzRSDyczRLU/SNPN9qxGtT/AtUzND3u1P7wxZJi2nrU/jKOC3amttT9QFONqm8W1P6CGc0nOFLY/1BT93BkKtz8sG7IWbi63PwTgQQj8O7c/qCDI0oObtz+gyGL+G+G3P5wQtjHPGrg/bDigGUJLuD+wAffCpEu4P6BJldyybrg/IKIgqIWCuD8YwX97v424P8Dk+hyNvLg/xOSFtr3suD9UUUCJZg65PzAT6I/6QLk/OJw0ZlJKuT8sjys4SU65P3A60HKHYbk/1E2p+cAkuj8gLqzCdDq6P5Dk8rUuTro/SKW/VK58uj8skg1iaoa6P7SjHhyfzro/FHhJRJvtuj8oQNO4oaG7Pyzg6Bf90rs/ZBkPmsURvD+0e6Hqjy68P6wtxyAUjrw/cE3thIWPvD8secHgM5a8P/iLnxJYsLw/6IrMLIMEvT/4IRPMBwe9PzgXm6SNMb0/PJ9icZ07vT84s2GEYWa9PxTcU2DbgL0/iLSAOFiNvT/ECDwfkZC9PzjKvCubp70/gJbSsKz8vT/Eytvxuz6+P6BAZx0Xfr4/lj+3TjEowD86iAT5w0XAP9qWA85UWcA/AmigAQCAwD9IY0Nv3ZbAPwjrFNHEscA/zspnbYriwD/0ispXyPXAP7b15n4CHME/soPhwS1awT86/x/9Q3vBP1CHJR82BMI/aoP4fFcRwj9Wp5koHEvCPwQDyauEd8I/QpKjXq+Gwj/Yjo03PdPCPzC3DusQ4sI/LMdoZGFIwz9C0bjDJlDDP2jMSWERccM/4kwa7oF2wz/iuKUsSIHDP8RVkgBOp8M/7tjTSNOrwz+aMSjqBczDP2rvTjFc3sM/LrW1Lmz0wz/+IFQ9w/7DP0aohxw4LsQ/ErKiM/0yxD/uuglL/VDEP74PAh5easQ/OjLPkqxxxD/koYpMxJrEP84C+tftqsQ/qGBl5vO2xD9YpvoOLuTEPySppp+k7cQ/ENvdH7gnxT+KncwRTx/GP2quLzlmVcY/UEswOi1jxj98UOq0cG3GP6rj/8Lp0sY/2EFykTbuxj/CVKwTiPHGPyYC25Y1bMc/bMT+PuFxxz/2OjdFz5fHPzxbgbm2C8g/Nh8faQ4zyD8qZXy0sT7IPyK6X9j/Y8g/LlZ8a3JsyD+0S73GY+TIP+T18Zcq5cg/vn1onC0PyT+cylxTGRDJP0KL6QemNck/wjfhu8RnyT8GSeHlxZvJPzr/638At8k/HOWu23XwyT+wCYS+AfHJPyzgP3wETco/1ndbQq9yyj+8fkajNIPKPyJSFXP+iso/fgqogOyTyj8qcv+errPKP9ZF740Auso/al/sPTvbyj8e3imR3wLLP0R4naIaXcs/HHQpiVSPyz8iQW3UAK7LP34qhPr52Ms/GBhXYV7nyz/8uoLVCurLP+SHWkCr8Ms/RqB9QmL+yz+8whEe8hXMP7oDxNXBh8w/MlOqmmvXzD+YnOahO+/MP94sMZBGBc0/yn6RJEIVzT8EA1krrSLNPwZwBl+1J80/vIWQbBI2zT/6MDlBnlPNP0zQ9jLXhs0/ZPDnUzqMzT9ipQ5oZKvNP5TbL+ukOc4/NIrrK608zj9iki5cGG3OP/Tlk7Kwdc4/fjhb8kF/zj92RiwUIZHOP/ppqtSouc4/Xvm5CSDezj/ymKZithrPP+YXfqR3Zc8/qLCrWVy3zz9C3aLXrbjPP4KWzjxrv88/GqV3Jzb7zz9cpp2KGFjQP4FMqXa2ftA/hMtZPXyA0D9oiE/J8aPQP6JR+s4UtNA/+ohGLT7a0D/OLF3yHfDQP972PRX6CtE/geR6Me0r0T8KgKzGlDzRP1x7ew4iQtE/QCzUWXdp0T8ei6hjO23RPw2VB0/9dtE/bvru2laY0T/q5SIaBaPRP6H0zEXRtdE/37NsHufc0T92rf9ZQuHRP0lHwtg35NE/+Dyrcdno0T8MsvNzQ+zRPxcdWQVr+9E/uxmU/7v70T/IjfLEqADSP/yihuZuDdI/ighIAagR0j/SvyxZux7SP4yfo+FQIdI/UzjRqFQy0j+mkBeXrUHSPynfU7DtUdI/LWNuxadl0j90BfBU/WXSP4Iu7rYh2NI/DgIyKZDm0j+j6U8vau3SP5cYbPFADtM/NzO81DAW0z9gx3Mc7hvTPzuI0liTLtM/wAfe+NSD0z+I72Sb5ZfTPwK5hHILp9M/Z+NFS4Hk0z9aQ2xV4vzTP0qXzsOnNNQ/NNynVYNF1D+IV/X0S7vUP+PybllHwtQ/coOye5za1D85RSWG4RfVPz9nOLx9HdU/rWjZnMch1T8U4TL6ij3VPwLhy9l8cNU/Xfg9TYKX1T8z0C2pz53VP7gP1oKwttU/5JEtpEe51T9VVrG4n7zVPzeIGgbd99U/5th/6F8m1j+2lJeNiEXWP8kc29swS9Y/miWFM8Bw1j96dvcjRnXWP8GpgFdKddY/NP9iw9aL1j8czkjwkMTWP+RkSNmACdc/T+FTy4sO1z8yXZ4IUhbXP3lIwjTaNdc/jAPFvEFB1z81SQJw/KrXP2CI4W5T49c/rlR3dubt1z/oL42MVvHXP2qJw+xf/dc/bi9bYxf/1z9uL1tjF//XPxQeXtboKtg/4nB4RMpN2D8uYi5Kxp/YPzZpB5zmpNg/CitKSI692D+F1ekR0b3YP23dYAxNydg/0ps95LrL2D/wYGK4peTYP54gQBa2+dg/IqWKLPj/2D/xE6BZxQDZP/8+W9sTNtk/mv0Ti6w22T8IiGN1eVLZP+1iYIzObtk/g/CYLWRy2T/4ORsP8HPZPzs/eU3khNk/IJrknbmG2T89fz0J85rZP1tl9WuUv9k/As/bsRzn2T+ni/mrEOzZP5Lh8oZ/9tk/37hpbo/22T/i2HB/4hjaP9O+f5jIMdo/mzK3qWJ82j8wvnjli3/aP6w34s2Mmdo/t9lU4i272j8seU10VdTaP7Cm6ORn3No/D3BiI8bd2j/CU8VFuPDaPzCMZQLx8No/jHbByvn42j+MLcivQELbPxgQmaSLTNs/Eai4guZa2z9Sh65U9GHbP9gslpfPbds/tt5S9wVu2z8CMECWG3PbP2vf2ohVeNs/wNJ331R82z9k5NyjZbPbPxoAYz5Hxts/ZFk50E3U2z/mJMB5Jd3bP1e92lz799s/dBhtOxkB3D+41g6ItBncP/23H3/HQNw/hMM/1OhG3D9/NqYhqljcP4e0geDeZ9w/eV91gXu73D9dp3eR5+zcPwTGFYjN79w/6Q49KR8f3T+RKGhYii7dP3DwTefnQt0/OF+tCZ1O3T9Y2fL/sVLdP9IBRBmZot0/kB7lOt+l3T8hxxf1vdndP9i31w6f+d0/QtehDBoC3j/F9iNAbiveP15Bb9BbLN4/bI/QWRRE3j+kIlITN0neP8cTm6Gefd4/ztNbMQ6z3j+Wbz4ut9TeP3S26khQ3d4/Pa0pnCHh3j/Y4kwW3fbeP9jiTBbd9t4/MoNaG9v43j8IF3zyRRbfP/h66fG1Ht8/WLgWib4f3z8eyMB62ynfP8zxZPMnL98/M75lAkta3z+JN71G3mrfP4pYxuO/dN8/8YOt62V+3z/8ZjLtWYjfP+NLdS90id8/2ov749ec3z+FmvKw0KrfP66pb4p2sN8/7+8Ukri63z90d4ppQb7fP3R3imlBvt8/dHeKaUG+3z90d4ppQb7fP3R3imlBvt8/dHeKaUG+3z90d4ppQb7fP3R3imlBvt8/dHeKaUG+3z90d4ppQb7fP3R3imlBvt8/dHeKaUG+3z90d4ppQb7fP3R3imlBvt8/dHeKaUG+3z90d4ppQb7fP925riiqyd8/BWVjpfHp3z8bcigmG/DfP/+MuA669t8/tXSghXUA4D9aWv5CQBjgP2VsdW76J+A/P9CcAlFL4D/bAXN0zUvgPzSNCzUSVOA/VQEXK65Y4D/+QmODTVngP+DZIc8iWuA/nPIWm+t34D+8wY31korgP1wwswjei+A/ehRi+siX4D/Mo0jcEZzgP1McirH/o+A/IToRtquu4D8Oq3NaZ7DgPz8q+x2lteA/N1ttnDje4D8I85ST1ObgPzfLivKA8+A/Zw/Cy0X64D+MruyqehzhP/dvaCv3N+E/rks1XaM74T/Bxx2iNk7hP4qF1zuraOE/0O2uxK904T/neakpCnzhP8207hUlheE/yqdfg8qF4T/M0pQrmKPhP25s0k4DqeE/4+e9Gzm04T+lLwBq9LjhP3k+qv7gyuE/43R2wlHO4T8Wu74V+uPhPyoFBf6I6OE/cCcnRt304T9yEhJAhwDiP9FhvZLWDeI/2n4pW5Yd4j9h9dMxJDDiP6k2/Zf8MuI/2o6uxss34j9DG1tHFUriP/4dyB+/S+I/B7eKuXBP4j+jL16MTl3iPwQmGxjhYeI/ckioqs5s4j+c9YuqmG7iP3x5fp+ub+I/Z5LVhDR94j+fpArEy4PiP79RshMYkeI/cKUrKqqV4j8O2zCmpp7iPzeE1MGEquI/eU4gMPax4j9sq0haiLriP+qDMhSl2+I/YXYvr4bj4j9A+xdeDuXiP8RvBATN5+I//IAkDTv14j/oqDvLhPviPzI74fyc++I/ViEWvvYC4z9vSgpEEwnjPxlS1mSJFuM//byi5HMb4z9FMQKmbCvjP3+lcifZOeM/xPYhUD5B4z8FJUxX00jjP/BZINrQZ+M/EK4auUxv4z+muELj1HrjP/6bVpkgfeM/ttSGscqP4z/RfIrDGJXjP2jLm2SJseM/ojQn83644z+EXHuybuPjP8ErjhoREeQ/dsFVZOog5D9EFMUqzS/kP8FWAfKuMeQ/+ZmPwqI/5D8qBc9rY2vkP1C9qrKfdOQ/CYO3h9925D82UOt61HnkPzDB9j8EfOQ/x+eAha5/5D+b3uf4bILkP2P0HRHImuQ/HRfblV6b5D8ud3Pu+qHkP80q4L3cq+Q/EqOJ1G215D8nf8q9dbnkP32CQvrS6eQ/pwYT4PP35D9qnsm/kfrkP7Au6C6S/uQ/dZCvC/UX5T/kDTS5qSblP/xL54SZP+U/ce9pNxxl5T9VJIRLMYDlP2bbZ+XVluU/cV9ENbWX5T+stQ1Tz5jlP6VqJb2mmeU/yk43maql5T+qS51LL7blP69Gf6iewOU/mPZxBfrP5T841l7Lk9vlP+olLwFc4OU/wJ18a7/75T/nAmYT9gXmP9hgRIWLEuY/pqNWBTUc5j917HC5ZSvmP5wN+j7ISeY/3p39E/Fl5j8C6t632GbmP0sMjIBLi+Y/BVsGuWWV5j+YqJSS2pzmP17HesfDoOY/5Ae9fRqi5j8DsoY9GanmP2LHZQaXu+Y/i4/wEXnW5j8EjSpltv3mP5hMdkCsCec/AnbKDBMV5z9hM/HZHBrnP//A7Wj4Nuc/wK5XvH4/5z8jQ4nHdUHnP06H17ToU+c/O04kHQdY5z/UkBg0YGnnPw07gM4VdOc/0CD3WBaK5z8VTLMZJpTnP3uiNY4hmOc/Or/+ZiKm5z+u8Ut1zbnnP6B27+wPuuc/8jyvSirY5z+Uhfg2Ue/nP1z7t7MH8uc/xnIevvny5z854HEU8wjoP1iYM7U2Dug/5uKBhmkq6D/qLwWwgDToP7b8Zgs7T+g/OuTWPvVp6D9EJ76em3joPzaNs8clfug/Pom9tDF+6D+i8bQMPpToP8kv6Q8uleg/bbnisiKb6D/Wwgf3F5zoP6YfxKFfoug/IPF3fMPE6D8Sie80xNPoPxQ8yqzy4eg/pvu4izbw6D90yv+ZpPzoP7Sx1QQWD+k/9badJXIk6T8EmRbEfS3pP8xxf4RRO+k/qr5PVAk/6T+MloJ8+lXpP5RqLL9bX+k/P1oN37Bi6T/elbo+EGvpPw8VXUBJcek/d8UkXfeQ6T+mP2LNnp/pP7nDvOacqek/yUjU75Gu6T/Pes7w7MTpPwB61C6Ixuk/XhPBklDI6T+kqvxic8jpPwANI/sS5Ok/Csgwacjt6T8KyDBpyO3pPwrIMGnI7ek/Csgwacjt6T8KyDBpyO3pPyaQfZbs8ek/dkmHucf06T9zVygXzf/pP1JiWLQQB+o/7OjHzwAO6j8aAnkdEBLqP8QUXntHH+o/bPm/ilcl6j8CO4NujyrqP3rHPlebSuo/DKKyjhpM6j8RedKIf0zqP1Z3fVdCTuo/Enp1h41T6j/UTwXV71jqP5qXg1G8Weo/zA+5V/dl6j+ZmoHZ82fqP5bZKYSKfeo/nmWBla+O6j+Odkg7IZnqP/oDS7nIv+o/WL1mhbXU6j/su3vTPNvqPyLQ0cpl3+o/HPh/1EHu6j8FNhkZKBHrP8yLfCvVFes/7Ilh1FYh6z9l6G8WuCHrPwk83NjvIes/jT2/ai4t6z9hYwuGNC7rP37or6PIMOs/t4LORcxQ6z9839sJkmjrPxiMUgqOees/gmbSSbWA6z8YkRL7uYHrPz6iZckvk+s/M0Ua8i+Y6z/JG/qYB6XrP0h6RFw3u+s/SHpEXDe76z+IJZ+kA8brP+OhPSRYxus/knsJSDTH6z8DDq6CKeLrP0o8RAHx7es/WAsgluP46z9I0Z2ZywrsP3gqI6/XE+w/zrB4dPNI7D8BDEHuZVbsP3C9XMtedew/5JlriLaL7D8T6klxNaDsP6ovfXYosOw/I9EIIGe97D/IKHDI+8DsP9TpzG1oxOw/J4IumobE7D/y2TShD8bsPxyvj/rKxuw/aMrbPzrN7D8m9s00ntDsPxy6qZ3t3ew/rEd0JEHh7D9ZXAdvFePsP8ZeqkgD9Ow/NPNUdOD07D/Mxz5gEv3sP25UthR4A+0/uZIzMeoD7T9T/zzmFRPtPxj4QdInHu0/passvLMi7T9eVUumVCftP8rLATVTKe0/edEBE/Yp7T+uwCBmgyvtP1o8Hwz/OO0/MnzXCAxV7T8yfNcIDFXtP0zLA9aRWu0/9l/uRPZb7T8Xz/Zwq4LtP6Xyys6Lg+0/wORNbdqM7T92xu5SA5jtP0AsU7JKmO0/N9X2EGij7T+kNtSNAqbtP48N9ZyVpu0/GYXe7+yq7T/3MHq7Uq7tPxTYV2Rpt+0/FE9VpOi67T8uvVWLrb7tP2SS3b7dvu0/VAz67qXJ7T/d8gD0et7tP2uF6GeW9+0/ejQiie787T9aUEwucRjuP0Bmm5WkHe4/iuasDbU+7j8RzGcyXkzuP7Jm6DV4T+4/zq7lWUBY7j/+yPEmf2LuP7FQyawEdu4/HLoO92h37j/XegAKA4LuP6640Qc/pe4/naN7m2Oz7j9Q1oRkz7fuPx8Tz4KuuO4/qI6eXIjB7j+C9ilB9M3uP5zxmhTk0O4/HvrfWfLR7j/VQpkSctXuP8Tme4Lv2O4/I9p0zIrb7j8vxMi7fuzuP9y1Sj2X7O4/3P8uFhDv7j+3e7jc0PbuP/CARBmy+O4/aBGXmYoH7z/6JdmXsxDvP67WCbRjF+8/NQI77Fkq7z/POlkyBDvvP7GkbClvR+8/aZKkYb5H7z/u5iVXy1fvPwUTdhOTX+8/XDVn821i7z/UpJKSwmfvP+7NodeHbe8/F3Y3rzSM7z+hTtVaJI/vP7oiVnjzk+8/NwobUCGV7z+QtyXRJKDvPzLxSKo6oe8/JNH1srCu7z9j3tMyfbnvP23zbA0bve8/et42np7C7z+R0I8+bMzvP4gJBmbc2+8/OhrkCanf7z/UOPHxXeTvP1TQYGyn6e8/n/bh2yn/7z8=",
                    "dtype": "f8"
                  }
                },
                {
                  "mode": "lines",
                  "name": "Lognormal",
                  "type": "scatter",
                  "x": {
                    "bdata": "AAAAAAAAAABST0LWlwI2QJ6eDw5wSThAhG7ZjEtSOUCJIzcIaNg7QI+9UmsuTD5A7CptDxhoQkAsslkJZLZDQJYjO48OQ0RA4IjxVAtQREAndFxD1ndEQMaiFSzNqUVAI5gvzwIWR0C0JHkPgS5HQIAS2ifoyUdAkA3Es74HSECgxbq5AVlIQIR5vE9uv0lAF1dTbtboSUAEtAB9dF9KQCYb2vp8rUpAUlkg13ftSkDub4INfx5LQDQEk2NgWUtAcD2U/5X/S0DUTKdoNGdMQFL282zXnUxAOOY4hjyzTECG0y9pOMBMQNw2uCajykxAkhmZkH21TUA2e/jsW9ZOQNRFVXojEU9AcM37OEGTT0BQtAVkx5ZPQNLfP6hCHlBAZIlVCl48UEC2pZX/XGBQQPLmN+ZzeFBAKFbWotbSUEAMw3Nnd8BRQBG6NaAbLlJAxs9VvbNgUkBmMAmkvItSQLDvepASnlJAVDydLr+uUkCFea46nbVSQHKFD15161JAkFAEgqlhU0BypGhd4WVTQPXoEfqoelNAUfQV5w6AU0DCXEd3wp1TQPJp3kIY3FNAltREiDryU0DKeghIfyNUQKpxnYgDMFRA1psvgJlEVEBLoBuXMnhUQH4bXiZ3r1RA4oi30Q+xVEAWLqFPttJUQAetxr956VRABopyEv3yVED3tWsgLwJVQMJjftEZNFVA1XQjJXbLVUBErjNceuFVQFFSDbCq6VVAuAB6yv0iVkAg5DPnVExWQI1CsPNXblZAsuyZtbiKVkCOl7VU8opWQDgQ54hgn1ZAMoefouSqVkCPC7EWZ7FWQOuSZ2xzzFZAwto/uyXoVkDMJ1ffZvtWQBGGDhoyGFdASmuVIn8dV0BfD4F4vh9XQB9GT6mjKldAPlfzGt2XV0A9KESX3KNXQLljDiy+rldAiVO/5UzIV0C2FK+Bos1XQNoRt84H9VdADdSiCtgFWECfcWAzd2ZYQE+oLV2lgFhA2WzRmMKhWEBfncww4LBYQH4fy2y34lhASCilQXfjWEDRF5Qf7+ZYQE8th4579FhAgZbuat8fWUC1TtpXKiFZQHIdy7PyNllAatjP3RY8WUD84RQF41FZQGbmBVlWX1lAPbEhc6tlWUAwZaJxTWdZQFqZQm32cllATnwelMydWUCKSRwO1b5ZQNV4S6dT3llAePtUS8PAWkA8cuxF19xaQBFutGpX71pAJkEVoroTW0DMyI7xIilbQPL4DTE5QltAX6ppsGxvW0AD+bwsKYFbQDS1cqY8pFtAfq3krdXcW0CTKiY+vPpbQOPtIs3pdFxAMa6tVX+AXEC00BwuM7NcQCCXXczj2VxAognkJgznXEBctJsqCCldQGrPOPG6NV1AT0XNVaeMXUBXQk7UNJNdQI6otf/irl1ADvapB3OzXUADbJoRerxdQDbSml873F1AANejLf/fXUCJXYBHv/pdQI/Lx4LuCV5Aaz04QCccXkBRtinqrCReQE6lWMmkS15AzNUxIYxPXkC1mkm0C2heQHUOJIeyfF5AQiTogKGCXkA3mWq55qNeQFhp08jwsF5AyPJRxJ+6XkCddCHc695eQExQwqB95l5AMmSjhcEUX0AA5ubYe9ZfQEgmxYcKAGBAVi5Go1EFYEAiOw/SPglgQBQ1zxbUL2BA0O8q8CI6YEBEVrArYztgQKm2WxRTaWBAtrTMAG9rYEDFD4pcgnlgQB6vXAEvpGBA2MlWUY6yYEC8Cg7uy7ZgQPrTs3JbxGBAikl0yGvHYEDu+CXipvJgQKr/diDu8mBA7jRJM/QBYUCIHXFSSAJhQNy6UK6oD2FAYH3VqHAhYUDgOYB8zTNhQJoo8dVhPWFA5pRJ5YRRYUCvfLrKtVFhQIKYyjq9cWFA9fQ3q8Z+YUC4itAEe4RhQHyuF7oqh2FAchJ8qT6KYUDi2uvvK5VhQF3aiLFXl2FA+FtXwryiYUBIpV3ySbBhQKlKbCX3zmFAGv6BCPHfYUD0JbU6RuphQNItEA61+GFAfK9gnYf9YUCyZT7NbP5hQPjw06CkAGJAZsnj3zoFYkD/Aj8yGQ1iQD50tRjmMmJA1xC8dihNYkB+Envl+VRiQOa7hFQzXGJAGW3yYW5hYkCyw21Q0WViQJfaXSR2Z2JAAfCSeiZsYkBzdTCMx3ViQABzLztshmJAkLaPZiuIYkBaInW8QpJiQJyi4GwIwGJA7zGj5QDBYkAgzOZBedBiQJxpRN4202JAJBqPWUPWYkBEuOXd89tiQOCcEFHU6GJAEWaMRWL0YkAgkHKIhAdjQA6wJYEEH2NAYJTSiKA4Y0CgI7bICTljQNDzP7gjO2NAGMxhq71NY0D8xIUMnIVjQNqpTjpCnWNAnyHnbVeeY0C0Tt8X9LNjQFw9QQjCvWNA5m6Bc97UY0BkTYWqEeJjQCw2EEc78mNA2F6uav0FZEBa9dfS8g9kQCoooppDE2RAHNbBuLEqZEApaBOZ7ixkQA0fYty5MmRAmTjkYntGZECcLAw1y0xkQHIOP2/iV2RAyuK2md9uZEAicGwHbnFkQMkUhFwqc2RAGFjih+F1ZEBZVaLI4XdkQAKYVlvBgGRAICt5u/CAZEADCG4j0oNkQJia4QRJi2RA7PUjMsCNZEBscN60YJVkQNbaU0TilmRAqcoAYMqgZEAq6fQotqlkQJjm/2wks2RAckhn2pG+ZEDUfexdw75kQMJzmdxxAGVAnuP0jLIIZUDbhzCVnAxlQD2UVytWH2VAZJasjNojZUBq4iU1HidlQCK/m+61MWVA9U1Tm+phZUBkuRxENW1lQKCEpSW4dWVAwtvmRiOYZUAw3ZV8vaVlQFZiHt3AxGVAUNzOcxnOZUCS2av/Cw9mQOYJ/r/gEmZAtPRJlTYgZkCRHVS7rkFmQHYFYFC9RGZADJkVUhNHZkD0HwQVLlZmQDWHZTTRcWZADZ26/+qGZkDGHr8HUopmQEprIsG8l2ZAaEpcCiKZZkDiv+Uw75pmQE7TLfTGumZApq/ojLDTZkBGEI0jVuRmQDRIWfxa52ZAR/bB2F77ZkD6YNIRx/1mQCMqHE7J/WZAKAeOnMYJZ0Acunxi3SdnQEm+GplKTGdA06AlP/NOZ0Bqn100DFNnQI+Ay9ClY2dAPsyV6qRpZ0B6yIAvDqFnQCDnDO1zvmdAkTZa8PXDZ0CH+QAvwMVnQPCQZ/UDzGdAAdxSm+jMZ0AB3FKb6MxnQMua7Squ42dAUsuThsX1Z0A98L1TLCBoQAanh6TRImhAJqar+YgvaEDImu5mqy9oQF9WuHSWNWhAgAqvztY2aEDQovvpqkNoQGU/cUeATmhA0ljQwLdRaEDd7okyIVJoQJrUVCR+bWhAyjhHbcxtaECC8MExC3xoQDRAaF6LimhA/nkAtWCMaEDr2IUqK41oQPa8C/3VlWhAJurf0cWWaEC/JypvGqFoQHxO0vXKs2hA+rM33O7HaEBZDBJMdMpoQL66w3HDz2hA0tI+icvPaEDU4dJbP+FoQBa5WsXk7WhAfvaVircTaUDQXnRFURVpQMR4NiB6ImlAeqSSl3ozaUBo1nYcL0BpQF2A2UdCRGlAjvAFEPNEaUAdr21Vgk5pQKCkCfSeTmlAz+78UKxSaUD7e33qlXdpQKhcVpvDfGlA3ga11vuDaUDV9RXHh4dpQGWiG3R9jWlAvaSvx5iNaUCM1JXhJpBpQL58HiTHkmlAFtMCQsmUaUBWweirbbBpQFud9bPluWlAlGTWl+3AaUBC6zr/W8VpQF42dDXN0mlA+sH5wF3XaUAGbmB2ruNpQNxqBQo592lASsvid0n6aUAo10fSKANqQAIiz17BCmpA2C0ObXo0akC/yIh3G01qQCODvAiNTmpAAHejABxmakBRaLcVyG1qQHrby4Ppd2pAa/jMArx9akBa0mqcw39qQDkfEyB4p2pAYKjOWRipakA3zOk12MJqQJ6K4lep0mpA6xtoNt7WakAci4+9XOtqQNMqCITS62pAs/J4p5T3akALV4pCIPpqQKUD6WUXFGtAtxcNGY4ua0DHo+IdOD9rQKYRMKd5Q2tAQn5nZ11Fa0AGs1XzHlBrQAazVfMeUGtA7nRdWxtRa0A1z2v8qV9rQCwGqL7WY2tAukfrqFlka0AmjhaXWmlrQIwuXrT5a2tAFCHLplCBa0CYSsuEg4lrQCpV2LFmjmtATNCOXCyTa0CDb52OGJhrQIb7nSekmGtAvrgXATuia0CbMm7gI6lrQNt9rOTuq2tAFk+phgGxa0Bugm78wLJrQG6CbvzAsmtAboJu/MCya0Bugm78wLJrQG6CbvzAsmtAboJu/MCya0Bugm78wLJrQG6CbvzAsmtAboJu/MCya0Bugm78wLJrQG6CbvzAsmtAboJu/MCya0Bugm78wLJrQG6CbvzAsmtAboJu/MCya0Bugm78wLJrQJ5+m1RluGtAtQMjoFvIa0BTV6qwZ8trQMQ8E8+tzmtATC8R7rfTa0D4I6+eP+trQHfNYKDN+mtANPfZ98EdbEDUQhwTPR5sQHXn1CFrJmxAf/AngPoqbEAhd/olmCtsQDHPeCxrLGxAIYyP4uNJbEBcH+5TWlxsQDBUZw2iXWxARPgPZG5pbEA3FpxkrG1sQHM5x0WGdWxAqpPK0heAbECODyk2z4FsQGaizS8Ah2xA8ep39DSvbEAyLJjjvbdsQCnUxf1OxGxA1KONpwXLbEC7c9su9+xsQPywWEtDCG1A2M6KcOkLbUD0O4+zXx5tQCbE7M2vOG1AaWOlvKVEbUAyW0XV90ttQJzn1yoJVW1A0bWU8a1VbUBBcMjwYXNtQODWdlzJeG1AwlMZb/iDbUCHetNLsYhtQBtOuc+Wmm1AQavrnwaebUAGOyANrLNtQGxPDAs7uG1A8TxYzJDEbUD2OBTgPdBtQM4aRNGS3W1AzjLZMVztbUDD1luQ+f9tQLEGSMLUAm5AQ5L/66gHbkBkN0dVCBpuQPQUjmi0G25AHjecGmsfbkB4t8vWXS1uQLggJOj3MW5Apq+rvPg8bkDjIiUQxj5uQAjREBDeP25AjmcG8H5NbkDmJl9gJFRuQNdbcnGPYW5AO7kMxCxmbkAgDx5YQG9uQI4+lwU/e25A6jHaGcaCbkBC+dlgcotuQOKvmDQArW5A9fd2qv+0bkDmVlRHjbZuQD0VZ6xWuW5A99nvVvvGbkDsY8LXX81uQMRe23F4zW5AfqjPdvLUbkC7uoudKttuQCGvITTg6G5A3hchyOLtbkAq4gQpLf5uQFjjs+nnDG9AlL5R43YUb0D6FFoAOBxvQMbFabv2O29ADqAReKRDb0AgbOn3e09vQJZsmNbXUW9AgQv63Allb0DfEIYRgGpvQASAm3DTh29AfpkzgQOPb0B8QS9sd7tvQJXVFsbr6m9A4/oTUHT7b0B0tYAYgQVwQHclIQd9BnBA5utSasoNcEAcCZtawyRwQAadJXigKXBAJ5X+7M8qcEAaYzTzXixwQICSrR6GLXBA/xSpC3UvcEBEnO235zBwQEQmVi/HPXBAhK+z2xY+cECthQ8Nl0FwQJo5OBPURnBAVoGm3OdLcEC0qV/7C05wQPtCLFnSZ3BAPnLGtGFvcEDAqiqLyHBwQIqSho3tcnBA0G2SQ4+AcEDSZGZQeohwQEugvxPxlXBAbrrC40iqcECK8LmxCrlwQOI80g1txXBAQJb8aOfFcEBjhW8CgsZwQKoa8RL4xnBA4spUkY/NcEDcZgOzpNZwQAY4AKlk3HBAq08aXd/kcEAIMRKySutwQAA1IQXx7XBAAwZnUCj9cECqREJ+2QJxQCEA4FDgCXFACs0ZIEgPcUAkj7RbzBdxQEwo//TmKHFAWZBoQdY4cUAnEt6uWTlxQNAzdDQaTnFAptu6J+FTcUDKhgqVJlhxQGOkrrhkWnFA6Y8wWSlbcUAH0cuZLV9xQEV8+IfSaXFAyoT48V15cUCly/ecNZBxQBJq0n81l3FAAP8f4uWdcUBq+eLm26BxQKP8tXvhsXFAdoeO/u22cUD7oPtFGLhxQCZT1BYPw3FA7iChTYPFcUD0aKC7389xQJrNomZK1nFAlK+MBIbjcUAOpE7/mOlxQAPL6HYB7HFAbpJu4n30cUDIPs6IdQByQExxUBOeAHJApW0TIQwTckCmlBkDUSFyQOwqcHL+InJA91K3LpQjckDwT6GHNjFyQEBZead9NHJA6EumeSBGckB7JOJSeExyQLY6xzZbXXJAMG0YGV5uckCsTCQUv3dyQGyYZppNe3JAfLwqRFV7ckBplI67i4lyQOVU//cminJAgi7VEwKOckDkQbMIoY5yQCKZIxO0knJAQmyazSapckBDlNm0BLNyQFpoyCFjvHJAAfN+dtrFckBsIKT5Is5yQGvaLe982nJA0Zc2x+LockAllr1+A+9yQBoTqrBq+HJAFBK84fP6ckA2Ren5qwpzQODBL2wiEXNAhq7phG8Tc0AwyFWXOhlzQKC5Qa6LHXNA0fwg+qszc0CskCgm/j1zQCA69QkQRXNACAJwZZRIc0CjrWOqhVhzQFS7QEWsWXNArkcjbvNac0A4wSRlDFtzQCN6dLj2bnNAvnG3swN2c0C+cbezA3ZzQL5xt7MDdnNAvnG3swN2c0C+cbezA3ZzQGZW6rwHeXNAkBH/5hx7c0CeGJUGLINzQK9AUd+AiHNAuMHvLpyNc0CDlavhmpBzQO/hs6pjmnNAZOT8RuWec0DmZSmMyKJzQK3J0vHYunNAaCafxfq7c0B2vBcsR7xzQF3Go2qcvXNAFPi1z5/Bc0DWEKsot8VzQFGiBsFSxnNAyJp9/6fPc0B48ThALdFzQBxPRCHK4XNAktarSBnvc0DBWsH3QfdzQCq7Iw3OFXRAkIYmQZQmdEATCY0T2St0QCglRtU2L3RAy5edrks7dEAqiWlHCFh0QIq7Xx3sW3RABkAKE4lldECyoNqV2mV0QPz3AlMJZnRA/dhUn31vdEAlX4K6WnB0QEoXbCCIcnRAbemgVdKNdEAwxL5qZ6J0QGbAkyJIsXRALCDGkpe3dEC7TMgYfrh0QCK832QEyHRAil8lUX7MdEBiJ5o2Ddh0QOkS/n887HRA6RL+fzzsdEDDgop7KfZ0QDLtD2539nRAG5tTlEL3dEDqsTydXBB1QM4KhEV4G3VAY27mRN8ldUCzZtrSDTd1QNZTJurQP3VA+XvwaGd0dUA8Ak0/DIJ1QAKn8SEDonVAhJo5TY+5dUCiK4Zeis91QMBxsWTo4HVAth563YLvdUCklLj0fPN1QBYYz5lN93VAnGa4RG/3dUC9A2ohJvl1QFwomIn3+XVAvOt5nC4BdkCNR7YcAAV2QCx9044aFHZArCl6IegXdkC6LfHOABp2QPGyA/+SLXZAtgW10ZQudkC5UIHyLDh2QDo9VbO3P3ZAFou3rD5AdkAkZhKPU1J2QKr0n0axX3ZAjqO0pjlldkBuO65O4mp2QM6mN55UbXZAUDv8rRxudkB+MnVKBXB2QIJc7Ce7gHZANAoRTEWkdkA0ChFMRaR2QO0wr3hlq3ZA4vr2IDOtdkAkZq/UfuB2QBoSnxKv4XZABm5XtmHudkCg/EgpzP12QDkB33Iv/nZAWO367MENd0AkwJ/IbxF3QBpanAVAEndA4jecnWoYd0AvFoRERB13QDyO+ppYKndALovQnmsvd0CjX3Nx6jR3QDADw+cwNXdAc+JvqhFFd0Ao08Nma2R3QNTQUt91i3dAewgQd/WTd0DY3hvy08B3QP53uS2IyXdA/hXZCKoCeEAOHxzAPRt4QI8VgP3nIHhAdLhCZh8xeEBPI+4BYkR4QHRk5/koanhAfusS9+hseEAKY+BSHoJ4QPM1NDQvzHhAdjRODKLreECXpMasr/V4QMAo7lqu93hAmbJFJzAMeUAHb4Ppwyl5QFgmdrPmMHlAZBnh8HozeUDtwNipFDx5QO/rNei9RHlAKDkJ+UNLeUCz9gg45nZ5QBgW1+Amd3lAU0+aGrN9eUBqdJ+ajpJ5QF0hYpuwl3lAkd0sgFPBeUDIe35tDtx5QHHIUkod8HlA4qQu1rcrekCzOJ3732N6QBiPtT1gkHpAc1O7SISRekD0fI0nCM96QJrvC4Oo7npA6S8MP5f6ekAOU3X1XhF7QBvnKmvPKntA8LyhZH/Ce0D2RBgTxtJ7QPupLvQ87ntAEEqn9yH1e0CKFQpk7Th8QKAW9fr3P3xANCXXxLCdfECWHivRPvN8QCfbF496En1Az7uIghRFfUDSnd954Kl9QPWXx/jWcX5A3l0XdLiufkBsr8AsuwN/QESmqaZkdH9A6bT2ZaKtgkA=",
                    "dtype": "f8"
                  },
                  "y": {
                    "bdata": "7MeFuetpcT8CNz/fAqmFP+b6RM3PnIc/TfRI/qaLiD+chkWJT/KKPw8JIxLadI0/AcLSphKFkj/YOlDpbD2UP7WVwqYHAJU/YASQDEgSlT/AQNQ8gUqVP6cs04o6Cpc/uF629tZDmT8y+4vYnWuZPzyuoLhmbJo/Jxp/fbjUmj8ba+wsrl+bPx4r1TF03p0/LJP7HQMrnj/47WdbjgmfPzZWQ9eWnp8/NEyUXi0NoD8yvkaiFD2gP4wIqZYqd6A/X6vrW3AeoT+IR3OsN4mhPxrYAfVMwqE/4+gkFc3YoT8jQ90gf+ahP/qPdLOB8aE/Fg2wsQXvoj/+SQNE9zSkP2q1obM6eaQ//uVZQrQSpT9FbBMM6BalP+1SlclH36U/pCQbMmkppj/e/uuB+4KmP+fahVCAv6Y/ENONCLempz9qWBxNUyaqPyjuFVZCXas/2wmDeirwqz/WWD4G126sP6RLGANLpaw/orhQFhDXrD+JLaZYoeusPzGhyAdNjq0/U84xCD38rj9nVwPVhQmvP64+/00xS68/NXzXelBcrz94s6bj+rqvP9RHGI4YQrA/JKgMwjtmsD81ZOPXdLewP/89+n1DzLA/KHavKKPusD+nq65KoUWxP3vOscsjpLE/hqnd4eOmsT9M+K1UIuGxPwPflFbTCLI/WYTninsZsj+q8MrQLDSyP7+9LHqZjLI/COCBTrSfsz87bZhgmcizPwnwWd7d17M/XNHXc51DtD/kd9b3Q5K0P4hxAOKR07Q/xJ94LXgKtT+8tTMJ6Aq1P/Tz2nKqMrU/2DU8tClJtT98GUg56FW1P6zjL8sSi7U/7Difgt7BtT8goJjCLOi1P0QcY4vIIbY/TAzddW4stj/gThIt8zC2P8gmZnrjRrY/PDq6Zekltz8MdenRwD63P9S0HldXVbc/tCcNkp2Ktz8AmvwjxpW3P5RY2TqZ6Lc/oHHgnysMuD/wRS6KMNu4P0ikg74LFLk/zKDtT21cuT+oLkrXo325PyS3g1vs67k/MLg5IpftuT8gV4RNT/W5P/RkazWFE7o/5K5EAtx0uj9IZtToxXe6P2Bly5D9qLo/QDlX2KO0uj9kSbGiK+a6P+iOoNDYBLs/pE/EsFETuz+A2f/EDRe7P9Q1B8fCMbs/7N+YuG6Uuz/oThyPHuG7Pwj7uOW3Krw/GMBldMVJvj/oaBvuzo6+Pyy+vUqAvL4/BDcKVNgWvz+Ydm4ISky/P2zw2QMyi78/2HMzVUr9vz90iThmKRXAP8xf5ADpQcA/nqZMD7qKwD/UgewWgLHAP4SZZHsdUsE/OGIIaIZhwT886HFPV6XBP2r5nSl+2cE/3kGe0E7rwT8Sjs0wQUXCP1rCFRuuVsI/urE29fXOwj8IEow+GdjCP4BcXNXO/sI/sLDRkjQFwz+8TIiQ4BHDP5xM+YuZPsM/LFyZ1+pDwz+CSHcQy2nDP6ynPpFdf8M/0NT7YlKZwz+gW6C/fKXDP/46SDVT3cM/TILIBfDiwz+I604rPQbEP2B0U0MaJMQ/jodFWrMsxD+aeHnlDl3EP/ZTbAkUcMQ/hsr+YDp+xD+WOMr/c7PEPyhoqPmWvsQ/wEsgiu8CxT9wNCnpQSbGP6anaMThZcY/zoNtCBZ2xj8Kn4M2KILGP9xo9gp6+cY/Ii/nDJIZxz/kp8mqeB3HP7atOmKkrcc/EhCw2020xz/8SJpm3ODHP+pYJqb1aMg/RH7v5SKXyD/i/wEwy6TIP9jNPtiQ0Mg/mEnV7nnayD/uvzFtIWfJPyQaYXoKaMk/fpUUdkeZyT9waZKtW5rJP76j7X9axsk/JJksvg4Byj9Wf+Tg8T3KPzb2B4TQXco/yGie3wqhyj/gJyKBrqHKP76XBJREDcs/UlbpQEk5yz8y+YaOlkzLP9jU57mvVcs/mr1sFh5gyz/oy0MuNYXLP6x3uGqWjMs/VG09tGGzyz9iMGF0peHLPzo4zo7iSsw/4BvYnGyFzD8O7nHMKKnMP7yU3aA028w/pNsjKfbrzD/gPl/1Eu/MPwxgKrnJ9sw/JhZwYMAGzT9I8t3KKyLNP5r7QYuEps0/gqs5Qg4Dzj/GB7Rasx7OP3ZuhbZIOM4/BuVZfNRKzj8AsEK7ZVrOP+S0vh08YM4/8E2TN+Vwzj+QLTZuKJPOP0ajnEuHzs4/aMXURMXUzj84txhQ3/jOP7YDn9h8nc8/qK4+VP6gzz8maie09NjPPxp9CPLi4s8/sAWwc/Dtzz9InPd8SgHQP1wT14mwGNA/ZGJDNrst0D+GY2l/q1DQP4gCkoi9e9A/yCZd7N+q0D+l7qIPoqvQPyf5iISCr9A/SkAiLuPR0D9eHSgTxTnRP944IqsFZtE/yOdDXg1o0T8ocrIrpJDRP/LRBVcZo9E/DPJwCrfO0T9NuCKasefRPxcrLhZYBtI/+aRnD+kr0j9qpGty4j7SP9AwZyM1RdI/KkwAUflx0j/UuNLOQXbSP3BYvlhagdI/vShDlUCn0j8Qa2rBYbPSPx6M9ke4yNI/Qtf8Twz10j+g48NL/PnSPwDevLpW/dI/eHwxJ5YC0z9Qp+5idAbTP56ImZaeF9M/Ws4aSfoX0z8SE2vXjR3TP37PVI0DLNM/yrMwA8sw0z+QuTgZlj/TP+EnuVqCQtM/BJOEor9V0z/m5p4AGGfTP30JYkpzedM/bWwdrLiP0z+AU588GZDTP5CsDYCvENQ/zoo95egg1D97eB4jnCjUPxaB4+d9TdQ/ghiqcGZW1D9Qwc8m11zUP0DHUizBcdQ/1F2RwTjR1D/eAI+YpufUPw5YOcyS+NQ/QD0MwSU91T/X+W8sT1jVP/Z9ROBcltU/qoFYsBip1T/WQCE2sCvWP9wUCsFpM9Y/hRVS3lFO1j+wgzC3+JHWP0Iw77IomNY/UBiHVOOc1j+CSLdJfLvWP9ocwQGO89Y/ImEFE28e1z9ONuqJWiXXP+ZcabanQNc/XOv5FH9D1z+mM8r+KUfXP0o143AQiNc/qSUP4+y61z90gfiX89zXP+mkWycg49c/y1ElhRUM2D8+ouRKAxHYP6hgx94HEdg/2FYq45Yp2D+3gAJuSWfYPz9jUawYstg/eLwdvY+32D/drQcs/L/YP8a8uEIg4tg/EBgi73bu2D/t4q48nWDZP1WHUIxDndk/vreNJKKo2T8x5swrVKzZPw18z39Dudk/DvgNpBu72T8O+A2kG7vZP5wfuU0l6tk/qA4bMokP2j9mozmwO2faPzhM9Tu1bNo/c3EZZgaH2j8S/hGoTYfaP1b8Dr2Nk9o/s79x5CSW2j8Nia0ZtLDaP3dTUwcjx9o/lG2Ba8zN2j8GGkbMps7aP8EMaBFVB9s/6sNhQvcH2z9sbbNLeyXbP6xEOgaIQ9s/joBStVRH2z8DdBlN+EjbP2TlCvXuWts/XOEEC+Bc2z9iGX6gSXLbP44u65oHmds/XVdUZcjC2z8Iek2DAsjbPzTPHlEE09s/dbTEFxXT2z852ocARPfbP5aa6/x7Edw/5HDzyuVf3D+v8n4oN2PcP31XNXZ+ftw/Gr6zxruh3D9AVBZrELzcP2oB4yaCxNw/pn7he/DF3D/CKJKCv9ncP4s9Ws/62dw/lPm/LmDi3D8ShlVJ1i7dP8/w0IePOd0/oa5aeoJI3T/DoyxK2k/dP/VW1NEwXN0/YeqpY2lc3T/dQn1ws2HdP+wpDAQjZ90/uE4kMUtr3T8wNluafqTdPy/hAtIUuN0/hUCKTZ/G3T/FNnAkyc/dPxaHhsGT690/jHPTKgP13T82MkGDdg7eP1uOPXDUNt4/Ko/LWCg93j8Wh7oSek/eP5Ye/BIoX94/AOgeYDe13j9Bj6wK9ufeP94PLCHv6t4//XSliG0b3z8SuioQNivfP3VrLWgLQN8/y/jGmANM3z/Akc6gL1DfPwdRShm6od8/nqC0GxCl3z89nLe23NnfPwTFwUJD+t8/mdUvD3AB4D81XsjHZxbgP6aVNjbgFuA/6hpnQeUi4D9YvP0XfyXgP90u3DQCQOA/rWCgff1a4D9bCb6U9WvgP/EudF5KcOA/ZUWjkzZy4D+a3FIwJ33gP5rcUjAnfeA/UcVM0Sd+4D99Flz48ozgPy4rrnMwkeA/YCdSZbWR4D+8YjLzyZbgP1KiRi5zmeA/iOtcMhiv4D9pjkUAZ7fgP0CXekdavOA/cxOGRC/B4D9CiLXZKsbgPx6JWyC4xuA/pjokoWvQ4D9AZfIhaNfgP9WYQtc62uA/tEktFVvf4D+20awfH+HgP7bRrB8f4eA/ttGsHx/h4D+20awfH+HgP7bRrB8f4eA/ttGsHx/h4D+20awfH+HgP7bRrB8f4eA/ttGsHx/h4D+20awfH+HgP7bRrB8f4eA/ttGsHx/h4D+20awfH+HgP7bRrB8f4eA/ttGsHx/h4D+20awfH+HgP8qN4d/R5uA/ePE4wO324D9tV15zAPrgP64LE4FN/eA/Mq+k52EC4T8xRfcrExrhP6F5HcK2KeE/W34n98lM4T+5wb9SRU3hP5/ffux2VeE/Z2sgqgda4T85geJ2pVrhP+OLUq54W+E/0iwWze544T+aXJIfWovhPx6hFM2gjOE/CZvzymGY4T/B3g/2mpzhPz4cydVqpOE/Z52Suuyu4T9XyvBVobDhP/EVq33JteE/dlOM5aTd4T/F0mr8FebhPyWq+tCA8uE/tWFGeiH54T9M+/7tkhriP78MmEVjNeI/IZrucfc44j+J+KqNDUviP5l361nFZOI/24sNCnBw4j/Oedw0knfiP8IF5S9mgOI/vm4/hgaB4j/Ib2d24Z3iP2t4S80eo+I/eBadOfSt4j8GC4oxhrLiP24IU6bSw+I/VPFUCiTH4j9V//InAtziP80uZHhl4OI/UvHBCkLs4j/o8bFaePfiP2Fu7NRABOM/luR+IF0T4z+zyVLpJCXjPwA+EGveJ+M/i30WEnks4z8THb879z3jP+Agz0yOP+M/DjyrCBZD4z9HJTKfVFDjPzh5IPKxVOM/JQ/94h5f4z+D5KOi02DjP1+7MqvcYeM/f9Kt8L9u4z++G6PPBnXjP//mArqugeM/uF32nweG4z9jWjqmko7jP2Mu3tjYmeM/Vf+Vzemg4z+Wo7+6C6njP3GxtV9ryOM/X+mSXeDP4z+RHSTYUtHjP2PqQlvr0+M/9t+6AJ3g4z/LfIOEjebjP5zlk12k5uM/ITa++pTt4z/uf1lpWfPjP53LSVgLAOQ/awzLdK0E5D+2/opOuBPkP8bSzmRKIeQ/+iMmQj4o5D/xV/40Xi/kP+SweIZzTOQ/cjH0LndT5D9UJTpaRF7kP337JZVqYOQ/IqMe1OBx5D8AxJhi1nbkP5Bv9dxkkeQ/sdp9fOKX5D/SaKFl3b/kPxnWac076uQ/ZTaTMOv45D9Erv6isgblP/QQPFpwCOU/jG2yHFcV5T81MfDJuD3lP+PNkTA7RuU/H8lFjk1I5T9WvnKfBkvlP+5ZIAYKTeU/txOzw2lQ5T+SzbZI8FLlPwOQcfdVaeU/yCdZReBp5T9hNZTu8m/lPyzBMrUFeeU/emXY+8yB5T+9G450f4XlP1DfstnIseU/deUMVrK+5T86IAY3FsHlP10gx8O9xOU/soCvWOfb5T/b38j9TenlP6gmRkUAAOY/1jLElhMi5j+Chy9soTrmP2hd9QEhT+Y/vKHCButP5j9kLDU66lDmPxf7KxStUeY/2A49QYpc5j9p6AqSdmvmP4pK4ATidOY/bDYsK7yC5j+25pHSMI3mPwd32at/keY/sjEiEyaq5j/AX/28VLPmPz2FfAOjvuY/1FkK4U/H5j8fy//o8NTmP+1V+uMq8OY/fJP8sFsJ5z8gVXm9KgrnPwTaGEK2Kuc/N5mSh7gz5z9v/PDtXTrnP1IzVAzaPec/H20cYAs/5z9TcrJqRkXnP4+n8Ou7Vec/EmnKC6Jt5z9DvsCDdJDnP9qQk/8Nm+c/e7J8HSel5z/4Tlb5nKnnP+cfDmsjw+c/9YHu3qvK5z+lAH9GaMznP36NzXyy3Oc/i+p/91Tg5z84X/71oe/nP6iRqFMS+ec/eq3SpXIM6D8+xmI0TRXoP0YkpfnNGOg/tLu7Bx4l6D9ezmCdZTboPxIPcvufNug/OovCWgpR6D/wlq/CVGXoPwSi2gy1Z+g/8PAZCIlo6D82kSkrxXvoP0bGThVggOg/LD7oaQaZ6D8m0ruQ1qHoP5y1Nuwpueg/NAQVS3bQ6D8qAM2oON3oP/nWdkcL4ug/oWwRqRXi6D+Q7UG3RPXoP67JDHMV9ug/NH08NUP76D/EiYZzGPzoPyF0RAOOAek/8tGfJ20f6T9uA9oQcizpP9hwzMi+OOk/asWYYxxF6T80Ln9j4U/pP1hDTtrZX+k/ymwSnFVy6T/Ew1BYKHrpP9gC/6Achuk/oN5vRlOJ6T8y/To1JZ3pP6Aa9qA+pek/9u1tIR+o6T+quskqWa/pPxNbgdm3tOk/ZpXFfArQ6T+abVXGq9zpP9jNpclH5ek/Rlk48Yzp6T96d3P5zPzpP5jBIPsu/uk//PO81bf/6T8/+BDN1f/pPyg3o6qaF+o/2k41VPQf6j/aTjVU9B/qP9pONVT0H+o/2k41VPQf6j/aTjVU9B/qPwByHQSEI+o/KCfLsvgl6j8rQi9Tci/qP8A51cawNeo/aNUmN6c76j/4MMpRJD/qP2Y/dTp/Suo/kACsdrRP6j/dbj/hL1TqP15GV+qzb+o//S0L2/xw6j+DuZGHU3HqP+A/bHnWcuo/oxVbnWF36j9I/yd+AHzqP6i/IfqvfOo/G1OiqS6H6j88vVX14ojqPxx04gNom+o/OHGnOxyq6j+KmprgELPqP04DTDA01Oo/LgrBdSPm6j9fw2vPu+vqP/LXX31M7+o/kgDXcAj86j+Ogt9w8BnrP7ruVTzyHes/Mufgdc4n6z/IVQnOISjrPxhEYZZRKOs/Wnf7ZPQx6z+8B08D1TLrP9/S/7cKNes/kEhO2npQ6z/GQQ/P22TrP3V5b+Jrc+s/YLqcRo556z++TH7YbXrrP8aHy6xnies/PA5k4rGN6z+OJ/2ytpjrPw0m/5nBq+s/DSb/mcGr6z82ko0CB7XrPzqf0pFPtes/QWG/mwy26z8DzarsNM3rP/ryf61U1+s/QuucQr7g6z9yloRPJfDrP9Drr3nu9+s/5X9HCrEl7D/KeX2USzHsPwsrmj8NTOw/Hq/r4mFf7D8axtN6I3HsPzVrWxP5fuw/8e7DMHmK7D+84auflY3sPwz+GX+PkOw/7kcZuamQ7D8kPdNc/5HsP5gf9jqikuw/xLzSpjqY7D/+N8CyLZvsPybU99/Dpuw/2Essp6mp7D/QbuCtQavsP3tHf+wEuuw/7LUs8sW67D9t9S6j7cHsP2LoL4GEx+w/o+imPOjH7D8/M0sxLdXsPwTMqEPf3uw/BGPkg9vi7D/Q3kqx6ubsPzQKKp6q6Ow/3fy6hjnp7D/8LfYzlursPza469Jt9uw/BvPcoyAP7T8G89yjIA/tPy7Bmh8AFO0/yyPqxDoV7T96TQCQfjftP3ALfr9FOO0/aJdjnopA7T9hzhr3eErtP7Gyy4m4Su0/YIUgXKFU7T+l8fRC9FbtPynOoY93V+0/gdMkNlhb7T9SMmKmYV7tP/4fV5KDZu0/d8DzkKVp7T/k+NmJBm3tP1p9hcMxbe0/S2Wjld927T+tSaT6oYntP1T/1QhaoO0/G6NSQjSl7T+cCromSL7tP8cM8tcKw+0//2rph3fh7T9+sGGTH+7tP3U2JyUB8e0/mgi2fC357T9sXFBFvgLuP1XIbagQFe4/rBpiVWAW7j8Mq+Q/YyDuP7n1CU75Qe4/SOKr1JpP7j/uS6uR4lPuP/le7N26VO4/4qUj61Rd7j+ldii7eGnuP8tEfKBabO4/6al9MGRt7j8daM901XDuP5mHk0JGdO4/fGUbTNl27j8e0btisYfuP5yJyd3Jh+4/AGCZmEKK7j/ldp3OCZLuP8aKZDLuk+4/mu7rlfai7j8L+Z6kUqzuP7x2RCAzs+4/zh+bo+nG7j/89POCh9juP8PHNkLb5e4/jwU64jDm7j8/m6rStffuP0WmkwBVAO8/mybn1IQD7z/35A/+gAnvPykscFkJEO8/PRD8Ldoz7z9+/B15ZDfvP89803w9Pe8/duIXBa8+7z/j3gxNXkzvP39cZui8Te8/valNGxVf7z9dkNfCjW3vP3i2VESIcu8/RHoH50R67z+AZehviIjvP+/QtuLCoO8/AFmclS2n7z8TW+iPd6/vPy8Hcd9Xue8/UdtU2+j07z8=",
                    "dtype": "f8"
                  }
                },
                {
                  "mode": "lines",
                  "name": "Exponential Normal",
                  "type": "scatter",
                  "x": {
                    "bdata": "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",
                    "dtype": "f8"
                  },
                  "y": {
                    "bdata": "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",
                    "dtype": "f8"
                  }
                },
                {
                  "mode": "markers",
                  "name": "Data",
                  "type": "scatter",
                  "x": {
                    "bdata": "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",
                    "dtype": "f8"
                  },
                  "y": {
                    "bdata": "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",
                    "dtype": "f8"
                  }
                }
              ],
              "layout": {
                "template": {
                  "data": {
                    "bar": [
                      {
                        "error_x": {
                          "color": "#2a3f5f"
                        },
                        "error_y": {
                          "color": "#2a3f5f"
                        },
                        "marker": {
                          "line": {
                            "color": "#E5ECF6",
                            "width": 0.5
                          },
                          "pattern": {
                            "fillmode": "overlay",
                            "size": 10,
                            "solidity": 0.2
                          }
                        },
                        "type": "bar"
                      }
                    ],
                    "barpolar": [
                      {
                        "marker": {
                          "line": {
                            "color": "#E5ECF6",
                            "width": 0.5
                          },
                          "pattern": {
                            "fillmode": "overlay",
                            "size": 10,
                            "solidity": 0.2
                          }
                        },
                        "type": "barpolar"
                      }
                    ],
                    "carpet": [
                      {
                        "aaxis": {
                          "endlinecolor": "#2a3f5f",
                          "gridcolor": "white",
                          "linecolor": "white",
                          "minorgridcolor": "white",
                          "startlinecolor": "#2a3f5f"
                        },
                        "baxis": {
                          "endlinecolor": "#2a3f5f",
                          "gridcolor": "white",
                          "linecolor": "white",
                          "minorgridcolor": "white",
                          "startlinecolor": "#2a3f5f"
                        },
                        "type": "carpet"
                      }
                    ],
                    "choropleth": [
                      {
                        "colorbar": {
                          "outlinewidth": 0,
                          "ticks": ""
                        },
                        "type": "choropleth"
                      }
                    ],
                    "contour": [
                      {
                        "colorbar": {
                          "outlinewidth": 0,
                          "ticks": ""
                        },
                        "colorscale": [
                          [
                            0,
                            "#0d0887"
                          ],
                          [
                            0.1111111111111111,
                            "#46039f"
                          ],
                          [
                            0.2222222222222222,
                            "#7201a8"
                          ],
                          [
                            0.3333333333333333,
                            "#9c179e"
                          ],
                          [
                            0.4444444444444444,
                            "#bd3786"
                          ],
                          [
                            0.5555555555555556,
                            "#d8576b"
                          ],
                          [
                            0.6666666666666666,
                            "#ed7953"
                          ],
                          [
                            0.7777777777777778,
                            "#fb9f3a"
                          ],
                          [
                            0.8888888888888888,
                            "#fdca26"
                          ],
                          [
                            1,
                            "#f0f921"
                          ]
                        ],
                        "type": "contour"
                      }
                    ],
                    "contourcarpet": [
                      {
                        "colorbar": {
                          "outlinewidth": 0,
                          "ticks": ""
                        },
                        "type": "contourcarpet"
                      }
                    ],
                    "heatmap": [
                      {
                        "colorbar": {
                          "outlinewidth": 0,
                          "ticks": ""
                        },
                        "colorscale": [
                          [
                            0,
                            "#0d0887"
                          ],
                          [
                            0.1111111111111111,
                            "#46039f"
                          ],
                          [
                            0.2222222222222222,
                            "#7201a8"
                          ],
                          [
                            0.3333333333333333,
                            "#9c179e"
                          ],
                          [
                            0.4444444444444444,
                            "#bd3786"
                          ],
                          [
                            0.5555555555555556,
                            "#d8576b"
                          ],
                          [
                            0.6666666666666666,
                            "#ed7953"
                          ],
                          [
                            0.7777777777777778,
                            "#fb9f3a"
                          ],
                          [
                            0.8888888888888888,
                            "#fdca26"
                          ],
                          [
                            1,
                            "#f0f921"
                          ]
                        ],
                        "type": "heatmap"
                      }
                    ],
                    "histogram": [
                      {
                        "marker": {
                          "pattern": {
                            "fillmode": "overlay",
                            "size": 10,
                            "solidity": 0.2
                          }
                        },
                        "type": "histogram"
                      }
                    ],
                    "histogram2d": [
                      {
                        "colorbar": {
                          "outlinewidth": 0,
                          "ticks": ""
                        },
                        "colorscale": [
                          [
                            0,
                            "#0d0887"
                          ],
                          [
                            0.1111111111111111,
                            "#46039f"
                          ],
                          [
                            0.2222222222222222,
                            "#7201a8"
                          ],
                          [
                            0.3333333333333333,
                            "#9c179e"
                          ],
                          [
                            0.4444444444444444,
                            "#bd3786"
                          ],
                          [
                            0.5555555555555556,
                            "#d8576b"
                          ],
                          [
                            0.6666666666666666,
                            "#ed7953"
                          ],
                          [
                            0.7777777777777778,
                            "#fb9f3a"
                          ],
                          [
                            0.8888888888888888,
                            "#fdca26"
                          ],
                          [
                            1,
                            "#f0f921"
                          ]
                        ],
                        "type": "histogram2d"
                      }
                    ],
                    "histogram2dcontour": [
                      {
                        "colorbar": {
                          "outlinewidth": 0,
                          "ticks": ""
                        },
                        "colorscale": [
                          [
                            0,
                            "#0d0887"
                          ],
                          [
                            0.1111111111111111,
                            "#46039f"
                          ],
                          [
                            0.2222222222222222,
                            "#7201a8"
                          ],
                          [
                            0.3333333333333333,
                            "#9c179e"
                          ],
                          [
                            0.4444444444444444,
                            "#bd3786"
                          ],
                          [
                            0.5555555555555556,
                            "#d8576b"
                          ],
                          [
                            0.6666666666666666,
                            "#ed7953"
                          ],
                          [
                            0.7777777777777778,
                            "#fb9f3a"
                          ],
                          [
                            0.8888888888888888,
                            "#fdca26"
                          ],
                          [
                            1,
                            "#f0f921"
                          ]
                        ],
                        "type": "histogram2dcontour"
                      }
                    ],
                    "mesh3d": [
                      {
                        "colorbar": {
                          "outlinewidth": 0,
                          "ticks": ""
                        },
                        "type": "mesh3d"
                      }
                    ],
                    "parcoords": [
                      {
                        "line": {
                          "colorbar": {
                            "outlinewidth": 0,
                            "ticks": ""
                          }
                        },
                        "type": "parcoords"
                      }
                    ],
                    "pie": [
                      {
                        "automargin": true,
                        "type": "pie"
                      }
                    ],
                    "scatter": [
                      {
                        "fillpattern": {
                          "fillmode": "overlay",
                          "size": 10,
                          "solidity": 0.2
                        },
                        "type": "scatter"
                      }
                    ],
                    "scatter3d": [
                      {
                        "line": {
                          "colorbar": {
                            "outlinewidth": 0,
                            "ticks": ""
                          }
                        },
                        "marker": {
                          "colorbar": {
                            "outlinewidth": 0,
                            "ticks": ""
                          }
                        },
                        "type": "scatter3d"
                      }
                    ],
                    "scattercarpet": [
                      {
                        "marker": {
                          "colorbar": {
                            "outlinewidth": 0,
                            "ticks": ""
                          }
                        },
                        "type": "scattercarpet"
                      }
                    ],
                    "scattergeo": [
                      {
                        "marker": {
                          "colorbar": {
                            "outlinewidth": 0,
                            "ticks": ""
                          }
                        },
                        "type": "scattergeo"
                      }
                    ],
                    "scattergl": [
                      {
                        "marker": {
                          "colorbar": {
                            "outlinewidth": 0,
                            "ticks": ""
                          }
                        },
                        "type": "scattergl"
                      }
                    ],
                    "scattermap": [
                      {
                        "marker": {
                          "colorbar": {
                            "outlinewidth": 0,
                            "ticks": ""
                          }
                        },
                        "type": "scattermap"
                      }
                    ],
                    "scattermapbox": [
                      {
                        "marker": {
                          "colorbar": {
                            "outlinewidth": 0,
                            "ticks": ""
                          }
                        },
                        "type": "scattermapbox"
                      }
                    ],
                    "scatterpolar": [
                      {
                        "marker": {
                          "colorbar": {
                            "outlinewidth": 0,
                            "ticks": ""
                          }
                        },
                        "type": "scatterpolar"
                      }
                    ],
                    "scatterpolargl": [
                      {
                        "marker": {
                          "colorbar": {
                            "outlinewidth": 0,
                            "ticks": ""
                          }
                        },
                        "type": "scatterpolargl"
                      }
                    ],
                    "scatterternary": [
                      {
                        "marker": {
                          "colorbar": {
                            "outlinewidth": 0,
                            "ticks": ""
                          }
                        },
                        "type": "scatterternary"
                      }
                    ],
                    "surface": [
                      {
                        "colorbar": {
                          "outlinewidth": 0,
                          "ticks": ""
                        },
                        "colorscale": [
                          [
                            0,
                            "#0d0887"
                          ],
                          [
                            0.1111111111111111,
                            "#46039f"
                          ],
                          [
                            0.2222222222222222,
                            "#7201a8"
                          ],
                          [
                            0.3333333333333333,
                            "#9c179e"
                          ],
                          [
                            0.4444444444444444,
                            "#bd3786"
                          ],
                          [
                            0.5555555555555556,
                            "#d8576b"
                          ],
                          [
                            0.6666666666666666,
                            "#ed7953"
                          ],
                          [
                            0.7777777777777778,
                            "#fb9f3a"
                          ],
                          [
                            0.8888888888888888,
                            "#fdca26"
                          ],
                          [
                            1,
                            "#f0f921"
                          ]
                        ],
                        "type": "surface"
                      }
                    ],
                    "table": [
                      {
                        "cells": {
                          "fill": {
                            "color": "#EBF0F8"
                          },
                          "line": {
                            "color": "white"
                          }
                        },
                        "header": {
                          "fill": {
                            "color": "#C8D4E3"
                          },
                          "line": {
                            "color": "white"
                          }
                        },
                        "type": "table"
                      }
                    ]
                  },
                  "layout": {
                    "annotationdefaults": {
                      "arrowcolor": "#2a3f5f",
                      "arrowhead": 0,
                      "arrowwidth": 1
                    },
                    "autotypenumbers": "strict",
                    "coloraxis": {
                      "colorbar": {
                        "outlinewidth": 0,
                        "ticks": ""
                      }
                    },
                    "colorscale": {
                      "diverging": [
                        [
                          0,
                          "#8e0152"
                        ],
                        [
                          0.1,
                          "#c51b7d"
                        ],
                        [
                          0.2,
                          "#de77ae"
                        ],
                        [
                          0.3,
                          "#f1b6da"
                        ],
                        [
                          0.4,
                          "#fde0ef"
                        ],
                        [
                          0.5,
                          "#f7f7f7"
                        ],
                        [
                          0.6,
                          "#e6f5d0"
                        ],
                        [
                          0.7,
                          "#b8e186"
                        ],
                        [
                          0.8,
                          "#7fbc41"
                        ],
                        [
                          0.9,
                          "#4d9221"
                        ],
                        [
                          1,
                          "#276419"
                        ]
                      ],
                      "sequential": [
                        [
                          0,
                          "#0d0887"
                        ],
                        [
                          0.1111111111111111,
                          "#46039f"
                        ],
                        [
                          0.2222222222222222,
                          "#7201a8"
                        ],
                        [
                          0.3333333333333333,
                          "#9c179e"
                        ],
                        [
                          0.4444444444444444,
                          "#bd3786"
                        ],
                        [
                          0.5555555555555556,
                          "#d8576b"
                        ],
                        [
                          0.6666666666666666,
                          "#ed7953"
                        ],
                        [
                          0.7777777777777778,
                          "#fb9f3a"
                        ],
                        [
                          0.8888888888888888,
                          "#fdca26"
                        ],
                        [
                          1,
                          "#f0f921"
                        ]
                      ],
                      "sequentialminus": [
                        [
                          0,
                          "#0d0887"
                        ],
                        [
                          0.1111111111111111,
                          "#46039f"
                        ],
                        [
                          0.2222222222222222,
                          "#7201a8"
                        ],
                        [
                          0.3333333333333333,
                          "#9c179e"
                        ],
                        [
                          0.4444444444444444,
                          "#bd3786"
                        ],
                        [
                          0.5555555555555556,
                          "#d8576b"
                        ],
                        [
                          0.6666666666666666,
                          "#ed7953"
                        ],
                        [
                          0.7777777777777778,
                          "#fb9f3a"
                        ],
                        [
                          0.8888888888888888,
                          "#fdca26"
                        ],
                        [
                          1,
                          "#f0f921"
                        ]
                      ]
                    },
                    "colorway": [
                      "#636efa",
                      "#EF553B",
                      "#00cc96",
                      "#ab63fa",
                      "#FFA15A",
                      "#19d3f3",
                      "#FF6692",
                      "#B6E880",
                      "#FF97FF",
                      "#FECB52"
                    ],
                    "font": {
                      "color": "#2a3f5f"
                    },
                    "geo": {
                      "bgcolor": "white",
                      "lakecolor": "white",
                      "landcolor": "#E5ECF6",
                      "showlakes": true,
                      "showland": true,
                      "subunitcolor": "white"
                    },
                    "hoverlabel": {
                      "align": "left"
                    },
                    "hovermode": "closest",
                    "mapbox": {
                      "style": "light"
                    },
                    "paper_bgcolor": "white",
                    "plot_bgcolor": "#E5ECF6",
                    "polar": {
                      "angularaxis": {
                        "gridcolor": "white",
                        "linecolor": "white",
                        "ticks": ""
                      },
                      "bgcolor": "#E5ECF6",
                      "radialaxis": {
                        "gridcolor": "white",
                        "linecolor": "white",
                        "ticks": ""
                      }
                    },
                    "scene": {
                      "xaxis": {
                        "backgroundcolor": "#E5ECF6",
                        "gridcolor": "white",
                        "gridwidth": 2,
                        "linecolor": "white",
                        "showbackground": true,
                        "ticks": "",
                        "zerolinecolor": "white"
                      },
                      "yaxis": {
                        "backgroundcolor": "#E5ECF6",
                        "gridcolor": "white",
                        "gridwidth": 2,
                        "linecolor": "white",
                        "showbackground": true,
                        "ticks": "",
                        "zerolinecolor": "white"
                      },
                      "zaxis": {
                        "backgroundcolor": "#E5ECF6",
                        "gridcolor": "white",
                        "gridwidth": 2,
                        "linecolor": "white",
                        "showbackground": true,
                        "ticks": "",
                        "zerolinecolor": "white"
                      }
                    },
                    "shapedefaults": {
                      "line": {
                        "color": "#2a3f5f"
                      }
                    },
                    "ternary": {
                      "aaxis": {
                        "gridcolor": "white",
                        "linecolor": "white",
                        "ticks": ""
                      },
                      "baxis": {
                        "gridcolor": "white",
                        "linecolor": "white",
                        "ticks": ""
                      },
                      "bgcolor": "#E5ECF6",
                      "caxis": {
                        "gridcolor": "white",
                        "linecolor": "white",
                        "ticks": ""
                      }
                    },
                    "title": {
                      "x": 0.05
                    },
                    "xaxis": {
                      "automargin": true,
                      "gridcolor": "white",
                      "linecolor": "white",
                      "ticks": "",
                      "title": {
                        "standoff": 15
                      },
                      "zerolinecolor": "white",
                      "zerolinewidth": 2
                    },
                    "yaxis": {
                      "automargin": true,
                      "gridcolor": "white",
                      "linecolor": "white",
                      "ticks": "",
                      "title": {
                        "standoff": 15
                      },
                      "zerolinecolor": "white",
                      "zerolinewidth": 2
                    }
                  }
                }
              }
            }
          },
          "metadata": {},
          "output_type": "display_data"
        }
      ],
      "source": [
        "from scipy import stats\n",
        "\n",
        "# Fit a normal distribution to the data\n",
        "params_norm = stats.norm.fit(cc)\n",
        "cdf_values_norm = stats.norm.cdf(sorted_cc, *params_norm)\n",
        "\n",
        "# Fit a log-normal distribution to the data\n",
        "params_lognorm = stats.lognorm.fit(cc)\n",
        "cdf_values_lognorm = stats.lognorm.cdf(sorted_cc, *params_lognorm)\n",
        "print(params_lognorm)\n",
        "\n",
        "# # Fit an exponential distribution to the data\n",
        "# params_expon = stats.expon.fit(cc)\n",
        "# cdf_values_expon = stats.expon.cdf(sorted_cc, *params_expon)\n",
        "\n",
        "# Fit an Exponential Normal distribution to the data\n",
        "params_exponnorm = stats.exponnorm.fit(cc)\n",
        "cdf_values_exponnorm = stats.exponnorm.cdf(sorted_cc, *params_exponnorm)\n",
        "\n",
        "\n",
        "fig = go.Figure()\n",
        "fig.add_trace(go.Scatter(x=sorted_cc, y=cdf_values_norm, mode=\"lines\", name=\"Normal\"))\n",
        "fig.add_trace(go.Scatter(x=sorted_cc, y=cdf_values_lognorm, mode=\"lines\", name=\"Lognormal\"))\n",
        "# fig.add_trace(go.Scatter(x=sorted_cc, y=cdf_values_expon, mode=\"lines\", name=\"Exponential\"))\n",
        "fig.add_trace(go.Scatter(x=sorted_cc, y=cdf_values_exponnorm, mode=\"lines\", name=\"Exponential Normal\"))\n",
        "fig.add_trace(go.Scatter(x=sorted_cc, y=cdf, mode=\"markers\", name=\"Data\"))\n",
        "fig.show()\n"
      ]
    },
    {
      "cell_type": "code",
      "execution_count": 17,
      "id": "f901ceb6",
      "metadata": {},
      "outputs": [
        {
          "data": {
            "application/vnd.plotly.v1+json": {
              "config": {
                "plotlyServerURL": "https://plot.ly"
              },
              "data": [
                {
                  "marker": {
                    "color": "red"
                  },
                  "mode": "markers",
                  "name": "SSERR",
                  "type": "scatter",
                  "x": {
                    "bdata": "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",
                    "dtype": "f8"
                  },
                  "y": {
                    "bdata": "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",
                    "dtype": "f8"
                  }
                }
              ],
              "layout": {
                "template": {
                  "data": {
                    "bar": [
                      {
                        "error_x": {
                          "color": "#2a3f5f"
                        },
                        "error_y": {
                          "color": "#2a3f5f"
                        },
                        "marker": {
                          "line": {
                            "color": "#E5ECF6",
                            "width": 0.5
                          },
                          "pattern": {
                            "fillmode": "overlay",
                            "size": 10,
                            "solidity": 0.2
                          }
                        },
                        "type": "bar"
                      }
                    ],
                    "barpolar": [
                      {
                        "marker": {
                          "line": {
                            "color": "#E5ECF6",
                            "width": 0.5
                          },
                          "pattern": {
                            "fillmode": "overlay",
                            "size": 10,
                            "solidity": 0.2
                          }
                        },
                        "type": "barpolar"
                      }
                    ],
                    "carpet": [
                      {
                        "aaxis": {
                          "endlinecolor": "#2a3f5f",
                          "gridcolor": "white",
                          "linecolor": "white",
                          "minorgridcolor": "white",
                          "startlinecolor": "#2a3f5f"
                        },
                        "baxis": {
                          "endlinecolor": "#2a3f5f",
                          "gridcolor": "white",
                          "linecolor": "white",
                          "minorgridcolor": "white",
                          "startlinecolor": "#2a3f5f"
                        },
                        "type": "carpet"
                      }
                    ],
                    "choropleth": [
                      {
                        "colorbar": {
                          "outlinewidth": 0,
                          "ticks": ""
                        },
                        "type": "choropleth"
                      }
                    ],
                    "contour": [
                      {
                        "colorbar": {
                          "outlinewidth": 0,
                          "ticks": ""
                        },
                        "colorscale": [
                          [
                            0,
                            "#0d0887"
                          ],
                          [
                            0.1111111111111111,
                            "#46039f"
                          ],
                          [
                            0.2222222222222222,
                            "#7201a8"
                          ],
                          [
                            0.3333333333333333,
                            "#9c179e"
                          ],
                          [
                            0.4444444444444444,
                            "#bd3786"
                          ],
                          [
                            0.5555555555555556,
                            "#d8576b"
                          ],
                          [
                            0.6666666666666666,
                            "#ed7953"
                          ],
                          [
                            0.7777777777777778,
                            "#fb9f3a"
                          ],
                          [
                            0.8888888888888888,
                            "#fdca26"
                          ],
                          [
                            1,
                            "#f0f921"
                          ]
                        ],
                        "type": "contour"
                      }
                    ],
                    "contourcarpet": [
                      {
                        "colorbar": {
                          "outlinewidth": 0,
                          "ticks": ""
                        },
                        "type": "contourcarpet"
                      }
                    ],
                    "heatmap": [
                      {
                        "colorbar": {
                          "outlinewidth": 0,
                          "ticks": ""
                        },
                        "colorscale": [
                          [
                            0,
                            "#0d0887"
                          ],
                          [
                            0.1111111111111111,
                            "#46039f"
                          ],
                          [
                            0.2222222222222222,
                            "#7201a8"
                          ],
                          [
                            0.3333333333333333,
                            "#9c179e"
                          ],
                          [
                            0.4444444444444444,
                            "#bd3786"
                          ],
                          [
                            0.5555555555555556,
                            "#d8576b"
                          ],
                          [
                            0.6666666666666666,
                            "#ed7953"
                          ],
                          [
                            0.7777777777777778,
                            "#fb9f3a"
                          ],
                          [
                            0.8888888888888888,
                            "#fdca26"
                          ],
                          [
                            1,
                            "#f0f921"
                          ]
                        ],
                        "type": "heatmap"
                      }
                    ],
                    "histogram": [
                      {
                        "marker": {
                          "pattern": {
                            "fillmode": "overlay",
                            "size": 10,
                            "solidity": 0.2
                          }
                        },
                        "type": "histogram"
                      }
                    ],
                    "histogram2d": [
                      {
                        "colorbar": {
                          "outlinewidth": 0,
                          "ticks": ""
                        },
                        "colorscale": [
                          [
                            0,
                            "#0d0887"
                          ],
                          [
                            0.1111111111111111,
                            "#46039f"
                          ],
                          [
                            0.2222222222222222,
                            "#7201a8"
                          ],
                          [
                            0.3333333333333333,
                            "#9c179e"
                          ],
                          [
                            0.4444444444444444,
                            "#bd3786"
                          ],
                          [
                            0.5555555555555556,
                            "#d8576b"
                          ],
                          [
                            0.6666666666666666,
                            "#ed7953"
                          ],
                          [
                            0.7777777777777778,
                            "#fb9f3a"
                          ],
                          [
                            0.8888888888888888,
                            "#fdca26"
                          ],
                          [
                            1,
                            "#f0f921"
                          ]
                        ],
                        "type": "histogram2d"
                      }
                    ],
                    "histogram2dcontour": [
                      {
                        "colorbar": {
                          "outlinewidth": 0,
                          "ticks": ""
                        },
                        "colorscale": [
                          [
                            0,
                            "#0d0887"
                          ],
                          [
                            0.1111111111111111,
                            "#46039f"
                          ],
                          [
                            0.2222222222222222,
                            "#7201a8"
                          ],
                          [
                            0.3333333333333333,
                            "#9c179e"
                          ],
                          [
                            0.4444444444444444,
                            "#bd3786"
                          ],
                          [
                            0.5555555555555556,
                            "#d8576b"
                          ],
                          [
                            0.6666666666666666,
                            "#ed7953"
                          ],
                          [
                            0.7777777777777778,
                            "#fb9f3a"
                          ],
                          [
                            0.8888888888888888,
                            "#fdca26"
                          ],
                          [
                            1,
                            "#f0f921"
                          ]
                        ],
                        "type": "histogram2dcontour"
                      }
                    ],
                    "mesh3d": [
                      {
                        "colorbar": {
                          "outlinewidth": 0,
                          "ticks": ""
                        },
                        "type": "mesh3d"
                      }
                    ],
                    "parcoords": [
                      {
                        "line": {
                          "colorbar": {
                            "outlinewidth": 0,
                            "ticks": ""
                          }
                        },
                        "type": "parcoords"
                      }
                    ],
                    "pie": [
                      {
                        "automargin": true,
                        "type": "pie"
                      }
                    ],
                    "scatter": [
                      {
                        "fillpattern": {
                          "fillmode": "overlay",
                          "size": 10,
                          "solidity": 0.2
                        },
                        "type": "scatter"
                      }
                    ],
                    "scatter3d": [
                      {
                        "line": {
                          "colorbar": {
                            "outlinewidth": 0,
                            "ticks": ""
                          }
                        },
                        "marker": {
                          "colorbar": {
                            "outlinewidth": 0,
                            "ticks": ""
                          }
                        },
                        "type": "scatter3d"
                      }
                    ],
                    "scattercarpet": [
                      {
                        "marker": {
                          "colorbar": {
                            "outlinewidth": 0,
                            "ticks": ""
                          }
                        },
                        "type": "scattercarpet"
                      }
                    ],
                    "scattergeo": [
                      {
                        "marker": {
                          "colorbar": {
                            "outlinewidth": 0,
                            "ticks": ""
                          }
                        },
                        "type": "scattergeo"
                      }
                    ],
                    "scattergl": [
                      {
                        "marker": {
                          "colorbar": {
                            "outlinewidth": 0,
                            "ticks": ""
                          }
                        },
                        "type": "scattergl"
                      }
                    ],
                    "scattermap": [
                      {
                        "marker": {
                          "colorbar": {
                            "outlinewidth": 0,
                            "ticks": ""
                          }
                        },
                        "type": "scattermap"
                      }
                    ],
                    "scattermapbox": [
                      {
                        "marker": {
                          "colorbar": {
                            "outlinewidth": 0,
                            "ticks": ""
                          }
                        },
                        "type": "scattermapbox"
                      }
                    ],
                    "scatterpolar": [
                      {
                        "marker": {
                          "colorbar": {
                            "outlinewidth": 0,
                            "ticks": ""
                          }
                        },
                        "type": "scatterpolar"
                      }
                    ],
                    "scatterpolargl": [
                      {
                        "marker": {
                          "colorbar": {
                            "outlinewidth": 0,
                            "ticks": ""
                          }
                        },
                        "type": "scatterpolargl"
                      }
                    ],
                    "scatterternary": [
                      {
                        "marker": {
                          "colorbar": {
                            "outlinewidth": 0,
                            "ticks": ""
                          }
                        },
                        "type": "scatterternary"
                      }
                    ],
                    "surface": [
                      {
                        "colorbar": {
                          "outlinewidth": 0,
                          "ticks": ""
                        },
                        "colorscale": [
                          [
                            0,
                            "#0d0887"
                          ],
                          [
                            0.1111111111111111,
                            "#46039f"
                          ],
                          [
                            0.2222222222222222,
                            "#7201a8"
                          ],
                          [
                            0.3333333333333333,
                            "#9c179e"
                          ],
                          [
                            0.4444444444444444,
                            "#bd3786"
                          ],
                          [
                            0.5555555555555556,
                            "#d8576b"
                          ],
                          [
                            0.6666666666666666,
                            "#ed7953"
                          ],
                          [
                            0.7777777777777778,
                            "#fb9f3a"
                          ],
                          [
                            0.8888888888888888,
                            "#fdca26"
                          ],
                          [
                            1,
                            "#f0f921"
                          ]
                        ],
                        "type": "surface"
                      }
                    ],
                    "table": [
                      {
                        "cells": {
                          "fill": {
                            "color": "#EBF0F8"
                          },
                          "line": {
                            "color": "white"
                          }
                        },
                        "header": {
                          "fill": {
                            "color": "#C8D4E3"
                          },
                          "line": {
                            "color": "white"
                          }
                        },
                        "type": "table"
                      }
                    ]
                  },
                  "layout": {
                    "annotationdefaults": {
                      "arrowcolor": "#2a3f5f",
                      "arrowhead": 0,
                      "arrowwidth": 1
                    },
                    "autotypenumbers": "strict",
                    "coloraxis": {
                      "colorbar": {
                        "outlinewidth": 0,
                        "ticks": ""
                      }
                    },
                    "colorscale": {
                      "diverging": [
                        [
                          0,
                          "#8e0152"
                        ],
                        [
                          0.1,
                          "#c51b7d"
                        ],
                        [
                          0.2,
                          "#de77ae"
                        ],
                        [
                          0.3,
                          "#f1b6da"
                        ],
                        [
                          0.4,
                          "#fde0ef"
                        ],
                        [
                          0.5,
                          "#f7f7f7"
                        ],
                        [
                          0.6,
                          "#e6f5d0"
                        ],
                        [
                          0.7,
                          "#b8e186"
                        ],
                        [
                          0.8,
                          "#7fbc41"
                        ],
                        [
                          0.9,
                          "#4d9221"
                        ],
                        [
                          1,
                          "#276419"
                        ]
                      ],
                      "sequential": [
                        [
                          0,
                          "#0d0887"
                        ],
                        [
                          0.1111111111111111,
                          "#46039f"
                        ],
                        [
                          0.2222222222222222,
                          "#7201a8"
                        ],
                        [
                          0.3333333333333333,
                          "#9c179e"
                        ],
                        [
                          0.4444444444444444,
                          "#bd3786"
                        ],
                        [
                          0.5555555555555556,
                          "#d8576b"
                        ],
                        [
                          0.6666666666666666,
                          "#ed7953"
                        ],
                        [
                          0.7777777777777778,
                          "#fb9f3a"
                        ],
                        [
                          0.8888888888888888,
                          "#fdca26"
                        ],
                        [
                          1,
                          "#f0f921"
                        ]
                      ],
                      "sequentialminus": [
                        [
                          0,
                          "#0d0887"
                        ],
                        [
                          0.1111111111111111,
                          "#46039f"
                        ],
                        [
                          0.2222222222222222,
                          "#7201a8"
                        ],
                        [
                          0.3333333333333333,
                          "#9c179e"
                        ],
                        [
                          0.4444444444444444,
                          "#bd3786"
                        ],
                        [
                          0.5555555555555556,
                          "#d8576b"
                        ],
                        [
                          0.6666666666666666,
                          "#ed7953"
                        ],
                        [
                          0.7777777777777778,
                          "#fb9f3a"
                        ],
                        [
                          0.8888888888888888,
                          "#fdca26"
                        ],
                        [
                          1,
                          "#f0f921"
                        ]
                      ]
                    },
                    "colorway": [
                      "#636efa",
                      "#EF553B",
                      "#00cc96",
                      "#ab63fa",
                      "#FFA15A",
                      "#19d3f3",
                      "#FF6692",
                      "#B6E880",
                      "#FF97FF",
                      "#FECB52"
                    ],
                    "font": {
                      "color": "#2a3f5f"
                    },
                    "geo": {
                      "bgcolor": "white",
                      "lakecolor": "white",
                      "landcolor": "#E5ECF6",
                      "showlakes": true,
                      "showland": true,
                      "subunitcolor": "white"
                    },
                    "hoverlabel": {
                      "align": "left"
                    },
                    "hovermode": "closest",
                    "mapbox": {
                      "style": "light"
                    },
                    "paper_bgcolor": "white",
                    "plot_bgcolor": "#E5ECF6",
                    "polar": {
                      "angularaxis": {
                        "gridcolor": "white",
                        "linecolor": "white",
                        "ticks": ""
                      },
                      "bgcolor": "#E5ECF6",
                      "radialaxis": {
                        "gridcolor": "white",
                        "linecolor": "white",
                        "ticks": ""
                      }
                    },
                    "scene": {
                      "xaxis": {
                        "backgroundcolor": "#E5ECF6",
                        "gridcolor": "white",
                        "gridwidth": 2,
                        "linecolor": "white",
                        "showbackground": true,
                        "ticks": "",
                        "zerolinecolor": "white"
                      },
                      "yaxis": {
                        "backgroundcolor": "#E5ECF6",
                        "gridcolor": "white",
                        "gridwidth": 2,
                        "linecolor": "white",
                        "showbackground": true,
                        "ticks": "",
                        "zerolinecolor": "white"
                      },
                      "zaxis": {
                        "backgroundcolor": "#E5ECF6",
                        "gridcolor": "white",
                        "gridwidth": 2,
                        "linecolor": "white",
                        "showbackground": true,
                        "ticks": "",
                        "zerolinecolor": "white"
                      }
                    },
                    "shapedefaults": {
                      "line": {
                        "color": "#2a3f5f"
                      }
                    },
                    "ternary": {
                      "aaxis": {
                        "gridcolor": "white",
                        "linecolor": "white",
                        "ticks": ""
                      },
                      "baxis": {
                        "gridcolor": "white",
                        "linecolor": "white",
                        "ticks": ""
                      },
                      "bgcolor": "#E5ECF6",
                      "caxis": {
                        "gridcolor": "white",
                        "linecolor": "white",
                        "ticks": ""
                      }
                    },
                    "title": {
                      "x": 0.05
                    },
                    "xaxis": {
                      "automargin": true,
                      "gridcolor": "white",
                      "linecolor": "white",
                      "ticks": "",
                      "title": {
                        "standoff": 15
                      },
                      "zerolinecolor": "white",
                      "zerolinewidth": 2
                    },
                    "yaxis": {
                      "automargin": true,
                      "gridcolor": "white",
                      "linecolor": "white",
                      "ticks": "",
                      "title": {
                        "standoff": 15
                      },
                      "zerolinecolor": "white",
                      "zerolinewidth": 2
                    }
                  }
                },
                "xaxis": {
                  "title": {
                    "text": "SSERR"
                  }
                },
                "yaxis": {
                  "title": {
                    "text": "Cumulative Distribution"
                  }
                }
              }
            }
          },
          "metadata": {},
          "output_type": "display_data"
        }
      ],
      "source": [
        "import plotly.graph_objects as go\n",
        "import pandas as pd\n",
        "import numpy as np\n",
        "\n",
        "# Plot cumulative distribution of coupled criterion\n",
        "weight = np.arange(0, 600, 10)\n",
        "sserr = df[\"sserr_result\"][~np.isnan(df[\"sserr_result\"])]\n",
        "sorted_sserr = np.sort(sserr)\n",
        "cdf = np.arange(1, len(sorted_sserr) + 1) / len(sorted_sserr)\n",
        "\n",
        "fig = go.Figure()\n",
        "fig.add_trace(go.Scatter(x=sorted_sserr, y=cdf, mode=\"markers\", name=\"SSERR\", marker=dict(color=\"red\")))\n",
        "fig.update_layout(xaxis_title=\"SSERR\", yaxis_title=\"Cumulative Distribution\")\n",
        "fig.show()\n"
      ]
    },
    {
      "cell_type": "code",
      "execution_count": 18,
      "id": "6d75d105",
      "metadata": {},
      "outputs": [
        {
          "name": "stdout",
          "output_type": "stream",
          "text": [
            "(np.float64(0.5280686622022375), 0.014795551560188675, np.float64(5.0378221832435655))\n"
          ]
        },
        {
          "data": {
            "application/vnd.plotly.v1+json": {
              "config": {
                "plotlyServerURL": "https://plot.ly"
              },
              "data": [
                {
                  "mode": "lines",
                  "name": "Lognormal",
                  "type": "scatter",
                  "x": {
                    "bdata": "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",
                    "dtype": "f8"
                  },
                  "y": {
                    "bdata": "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",
                    "dtype": "f8"
                  }
                },
                {
                  "mode": "lines",
                  "name": "Exponential Normal",
                  "type": "scatter",
                  "x": {
                    "bdata": "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",
                    "dtype": "f8"
                  },
                  "y": {
                    "bdata": "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",
                    "dtype": "f8"
                  }
                },
                {
                  "mode": "markers",
                  "name": "Data",
                  "type": "scatter",
                  "x": {
                    "bdata": "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",
                    "dtype": "f8"
                  },
                  "y": {
                    "bdata": "fFnrem36VD98Wet6bfpkPzoGYTikd28/fFnrem36dD/bL6bZCDl6PzoGYTikd38/Te6Nyx9bgj98Wet6bfqEP6zESCq7mYc/2y+m2Qg5ij8LmwOJVtiMPzoGYTikd48/tTjf83gLkT9N7o3LH1uSP+SjPKPGqpM/fFnrem36lD8UD5pSFEqWP6zESCq7mZc/RHr3AWLpmD/bL6bZCDmaP3PlVLGviJs/C5sDiVbYnD+jULJg/SeePzoGYTikd58/6d0HiKVjoD+1ON/zeAuhP4GTtl9Ms6E/Te6Nyx9boj8ZSWU38wKjP+SjPKPGqqM/sP4TD5pSpD98Wet6bfqkP0i0wuZAoqU/FA+aUhRKpj/gaXG+5/GmP6zESCq7mac/eB8glo5BqD9EevcBYumoPw/Vzm01kak/2y+m2Qg5qj+nin1F3OCqP3PlVLGviKs/P0AsHYMwrD8LmwOJVtisP9f12vQpgK0/o1CyYP0nrj9uq4nM0M+uPzoGYTikd68/gzAc0rsPsD/p3QeIpWOwP0+L8z2Pt7A/tTjf83gLsT8b5sqpYl+xP4GTtl9Ms7E/50CiFTYHsj9N7o3LH1uyP7ObeYEJr7I/GUllN/MCsz9/9lDt3FazP+SjPKPGqrM/SlEoWbD+sz+w/hMPmlK0Pxas/8SDprQ/fFnrem36tD/iBtcwV061P0i0wuZAorU/rmGunCr2tT8UD5pSFEq2P3q8hQj+nbY/4Glxvufxtj9GF1100UW3P6zESCq7mbc/EnI04KTttz94HyCWjkG4P97MC0x4lbg/RHr3AWLpuD+pJ+O3Sz25Pw/Vzm01kbk/dYK6Ix/luT/bL6bZCDm6P0HdkY/yjLo/p4p9Rdzguj8NOGn7xTS7P3PlVLGviLs/2ZJAZ5ncuz8/QCwdgzC8P6XtF9NshLw/C5sDiVbYvD9xSO8+QCy9P9f12vQpgL0/PaPGqhPUvT+jULJg/Se+Pwn+nRbne74/bquJzNDPvj/UWHWCuiO/PzoGYTikd78/oLNM7o3Lvz+DMBzSuw/APzYHEq2wOcA/6d0HiKVjwD+ctP1imo3AP0+L8z2Pt8A/AmLpGIThwD+1ON/zeAvBP2gP1c5tNcE/G+bKqWJfwT/OvMCEV4nBP4GTtl9Ms8E/NGqsOkHdwT/nQKIVNgfCP5oXmPAqMcI/Te6Nyx9bwj8AxYOmFIXCP7ObeYEJr8I/ZnJvXP7Ywj8ZSWU38wLDP8wfWxLoLMM/f/ZQ7dxWwz8xzUbI0YDDP+SjPKPGqsM/l3oyfrvUwz9KUShZsP7DP/0nHjSlKMQ/sP4TD5pSxD9j1QnqjnzEPxas/8SDpsQ/yYL1n3jQxD98Wet6bfrEPy8w4VViJMU/4gbXMFdOxT+V3cwLTHjFP0i0wuZAosU/+4q4wTXMxT+uYa6cKvbFP2E4pHcfIMY/FA+aUhRKxj/H5Y8tCXTGP3q8hQj+ncY/LZN74/LHxj/gaXG+5/HGP5NAZ5ncG8c/RhdddNFFxz/57VJPxm/HP6zESCq7mcc/X5s+BbDDxz8ScjTgpO3HP8VIKruZF8g/eB8glo5ByD8r9hVxg2vIP97MC0x4lcg/kaMBJ22/yD9EevcBYunIP/ZQ7dxWE8k/qSfjt0s9yT9c/tiSQGfJPw/Vzm01kck/wqvESCq7yT91grojH+XJPyhZsP4TD8o/2y+m2Qg5yj+OBpy0/WLKP0HdkY/yjMo/9LOHaue2yj+nin1F3ODKP1phcyDRCss/DThp+8U0yz/ADl/Wul7LP3PlVLGviMs/JrxKjKSyyz/ZkkBnmdzLP4xpNkKOBsw/P0AsHYMwzD/yFiL4d1rMP6XtF9NshMw/WMQNrmGuzD8LmwOJVtjMP75x+WNLAs0/cUjvPkAszT8kH+UZNVbNP9f12vQpgM0/iszQzx6qzT89o8aqE9TNP/B5vIUI/s0/o1CyYP0nzj9WJ6g78lHOPwn+nRbne84/u9ST8dulzj9uq4nM0M/OPyGCf6fF+c4/1Fh1grojzz+HL2tdr03PPzoGYTikd88/7dxWE5mhzz+gs0zujcvPP1OKQsmC9c8/gzAc0rsP0D/dG5c/tiTQPzYHEq2wOdA/kPKMGqtO0D/p3QeIpWPQP0PJgvWfeNA/nLT9YpqN0D/2n3jQlKLQP0+L8z2Pt9A/qHZuq4nM0D8CYukYhOHQP1tNZIZ+9tA/tTjf83gL0T8OJFphcyDRP2gP1c5tNdE/wfpPPGhK0T8b5sqpYl/RP3TRRRdddNE/zrzAhFeJ0T8nqDvyUZ7RP4GTtl9Ms9E/2n4xzUbI0T80aqw6Qd3RP41VJ6g78tE/50CiFTYH0j9ALB2DMBzSP5oXmPAqMdI/8wITXiVG0j9N7o3LH1vSP6bZCDkacNI/AMWDphSF0j9ZsP4TD5rSP7ObeYEJr9I/DIf07gPE0j9mcm9c/tjSP79d6sn47dI/GUllN/MC0z9yNOCk7RfTP8wfWxLoLNM/JQvWf+JB0z9/9lDt3FbTP9jhy1rXa9M/Mc1GyNGA0z+LuME1zJXTP+SjPKPGqtM/Po+3EMG/0z+XejJ+u9TTP/Flreu16dM/SlEoWbD+0z+kPKPGqhPUP/0nHjSlKNQ/VxOZoZ891D+w/hMPmlLUPwrqjnyUZ9Q/Y9UJ6o581D+9wIRXiZHUPxas/8SDptQ/cJd6Mn671D/JgvWfeNDUPyNucA1z5dQ/fFnrem361D/WRGboZw/VPy8w4VViJNU/iRtcw1w51T/iBtcwV07VPzzyUZ5RY9U/ld3MC0x41T/vyEd5Ro3VP0i0wuZAotU/op89VDu31T/7irjBNczVP1V2My8w4dU/rmGunCr21T8ITSkKJQvWP2E4pHcfINY/uyMf5Rk11j8UD5pSFErWP236FMAOX9Y/x+WPLQl01j8g0QqbA4nWP3q8hQj+ndY/06cAdviy1j8tk3vj8sfWP4Z+9lDt3NY/4Glxvufx1j85Vewr4gbXP5NAZ5ncG9c/7CviBtcw1z9GF1100UXXP58C2OHLWtc/+e1ST8Zv1z9S2c28wITXP6zESCq7mdc/BbDDl7Wu1z9fmz4FsMPXP7iGuXKq2Nc/EnI04KTt1z9rXa9NnwLYP8VIKruZF9g/HjSlKJQs2D94HyCWjkHYP9EKmwOJVtg/K/YVcYNr2D+E4ZDefYDYP97MC0x4ldg/N7iGuXKq2D+RowEnbb/YP+qOfJRn1Ng/RHr3AWLp2D+dZXJvXP7YP/ZQ7dxWE9k/UDxoSlEo2T+pJ+O3Sz3ZPwMTXiVGUtk/XP7YkkBn2T+26VMAO3zZPw/Vzm01kdk/acBJ2y+m2T/Cq8RIKrvZPxyXP7Yk0Nk/dYK6Ix/l2T/PbTWRGfrZPyhZsP4TD9o/gkQrbA4k2j/bL6bZCDnaPzUbIUcDTto/jgactP1i2j/o8RYi+HfaP0HdkY/yjNo/m8gM/eyh2j/0s4dq57baP06fAtjhy9o/p4p9Rdzg2j8Bdviy1vXaP1phcyDRCts/tEzujcsf2z8NOGn7xTTbP2cj5GjASds/wA5f1rpe2z8a+tlDtXPbP3PlVLGviNs/zdDPHqqd2z8mvEqMpLLbP4Cnxfmex9s/2ZJAZ5nc2z8yfrvUk/HbP4xpNkKOBtw/5VSxr4gb3D8/QCwdgzDcP5grp4p9Rdw/8hYi+Hda3D9LAp1lcm/cP6XtF9NshNw//tiSQGeZ3D9YxA2uYa7cP7GviBtcw9w/C5sDiVbY3D9khn72UO3cP75x+WNLAt0/F1100UUX3T9xSO8+QCzdP8ozaqw6Qd0/JB/lGTVW3T99CmCHL2vdP9f12vQpgN0/MOFVYiSV3T+KzNDPHqrdP+O3Sz0Zv90/PaPGqhPU3T+WjkEYDundP/B5vIUI/t0/SWU38wIT3j+jULJg/SfeP/w7Lc73PN4/VieoO/JR3j+vEiOp7GbePwn+nRbne94/YukYhOGQ3j+71JPx26XePxXADl/Wut4/bquJzNDP3j/IlgQ6y+TePyGCf6fF+d4/e236FMAO3z/UWHWCuiPfPy5E8O+0ON8/hy9rXa9N3z/hGubKqWLfPzoGYTikd98/lPHbpZ6M3z/t3FYTmaHfP0fI0YCTtt8/oLNM7o3L3z/6nsdbiODfP1OKQsmC9d8/1rpemz4F4D+DMBzSuw/gPzCm2Qg5GuA/3RuXP7Yk4D+JkVR2My/gPzYHEq2wOeA/43zP4y1E4D+Q8owaq07gPzxoSlEoWeA/6d0HiKVj4D+WU8W+Im7gP0PJgvWfeOA/7z5ALB2D4D+ctP1imo3gP0kqu5kXmOA/9p940JSi4D+iFTYHEq3gP0+L8z2Pt+A//ACxdAzC4D+odm6riczgP1XsK+IG1+A/AmLpGITh4D+v16ZPAezgP1tNZIZ+9uA/CMMhvfsA4T+1ON/zeAvhP2KunCr2FeE/DiRaYXMg4T+7mReY8CrhP2gP1c5tNeE/FYWSBes/4T/B+k88aErhP25wDXPlVOE/G+bKqWJf4T/IW4jg32nhP3TRRRdddOE/IUcDTtp+4T/OvMCEV4nhP3syfrvUk+E/J6g78lGe4T/UHfkoz6jhP4GTtl9Ms+E/Lgl0lsm94T/afjHNRsjhP4f07gPE0uE/NGqsOkHd4T/h32lxvufhP41VJ6g78uE/Osvk3rj84T/nQKIVNgfiP5S2X0yzEeI/QCwdgzAc4j/todq5rSbiP5oXmPAqMeI/Ro1VJ6g74j/zAhNeJUbiP6B40JSiUOI/Te6Nyx9b4j/5Y0sCnWXiP6bZCDkacOI/U0/Gb5d64j8AxYOmFIXiP6w6Qd2Rj+I/WbD+Ew+a4j8GJrxKjKTiP7ObeYEJr+I/XxE3uIa54j8Mh/TuA8TiP7n8sSWBzuI/ZnJvXP7Y4j8S6CyTe+PiP79d6sn47eI/bNOnAHb44j8ZSWU38wLjP8W+Im5wDeM/cjTgpO0X4z8fqp3baiLjP8wfWxLoLOM/eJUYSWU34z8lC9Z/4kHjP9KAk7ZfTOM/f/ZQ7dxW4z8rbA4kWmHjP9jhy1rXa+M/hVeJkVR24z8xzUbI0YDjP95CBP9Oi+M/i7jBNcyV4z84Ln9sSaDjP+SjPKPGquM/kRn62UO14z8+j7cQwb/jP+sEdUc+yuM/l3oyfrvU4z9E8O+0ON/jP/Flreu16eM/nttqIjP04z9KUShZsP7jP/fG5Y8tCeQ/pDyjxqoT5D9RsmD9Jx7kP/0nHjSlKOQ/qp3baiIz5D9XE5mhnz3kPwSJVtgcSOQ/sP4TD5pS5D9ddNFFF13kPwrqjnyUZ+Q/t19MsxFy5D9j1QnqjnzkPxBLxyAMh+Q/vcCEV4mR5D9qNkKOBpzkPxas/8SDpuQ/wyG9+wCx5D9wl3oyfrvkPx0NOGn7xeQ/yYL1n3jQ5D92+LLW9drkPyNucA1z5eQ/z+MtRPDv5D98Wet6bfrkPynPqLHqBOU/1kRm6GcP5T+CuiMf5RnlPy8w4VViJOU/3KWejN8u5T+JG1zDXDnlPzWRGfrZQ+U/4gbXMFdO5T+PfJRn1FjlPzzyUZ5RY+U/6GcP1c5t5T+V3cwLTHjlP0JTikLJguU/78hHeUaN5T+bPgWww5flP0i0wuZAouU/9SmAHb6s5T+inz1UO7flP04V+4q4weU/+4q4wTXM5T+oAHb4stblP1V2My8w4eU/AezwZa3r5T+uYa6cKvblP1vXa9OnAOY/CE0pCiUL5j+0wuZAohXmP2E4pHcfIOY/Dq5hrpwq5j+7Ix/lGTXmP2eZ3BuXP+Y/FA+aUhRK5j/BhFeJkVTmP236FMAOX+Y/GnDS9otp5j/H5Y8tCXTmP3RbTWSGfuY/INEKmwOJ5j/NRsjRgJPmP3q8hQj+neY/JzJDP3uo5j/TpwB2+LLmP4Advqx1veY/LZN74/LH5j/aCDkacNLmP4Z+9lDt3OY/M/Szh2rn5j/gaXG+5/HmP43fLvVk/OY/OVXsK+IG5z/myqliXxHnP5NAZ5ncG+c/QLYk0Fkm5z/sK+IG1zDnP5mhnz1UO+c/RhdddNFF5z/zjBqrTlDnP58C2OHLWuc/THiVGEll5z/57VJPxm/nP6ZjEIZDeuc/UtnNvMCE5z//TovzPY/nP6zESCq7mec/WToGYTik5z8FsMOXta7nP7Ilgc4yuec/X5s+BbDD5z8LEfw7Lc7nP7iGuXKq2Oc/Zfx2qSfj5z8ScjTgpO3nP77n8RYi+Oc/a12vTZ8C6D8Y02yEHA3oP8VIKruZF+g/cb7n8RYi6D8eNKUolCzoP8upYl8RN+g/eB8glo5B6D8kld3MC0zoP9EKmwOJVug/foBYOgZh6D8r9hVxg2voP9dr06cAdug/hOGQ3n2A6D8xV04V+4roP97MC0x4leg/ikLJgvWf6D83uIa5cqroP+QtRPDvtOg/kaMBJ22/6D89Gb9d6snoP+qOfJRn1Og/lwQ6y+Te6D9EevcBYunoP/DvtDjf8+g/nWVyb1z+6D9K2y+m2QjpP/ZQ7dxWE+k/o8aqE9Qd6T9QPGhKUSjpP/2xJYHOMuk/qSfjt0s96T9WnaDuyEfpPwMTXiVGUuk/sIgbXMNc6T9c/tiSQGfpPwl0lsm9cek/tulTADt86T9jXxE3uIbpPw/Vzm01kek/vEqMpLKb6T9pwEnbL6bpPxY2BxKtsOk/wqvESCq76T9vIYJ/p8XpPxyXP7Yk0Ok/yQz97KHa6T91grojH+XpPyL4d1qc7+k/z201kRn66T984/LHlgTqPyhZsP4TD+o/1c5tNZEZ6j+CRCtsDiTqPy+66KKLLuo/2y+m2Qg56j+IpWMQhkPqPzUbIUcDTuo/4pDefYBY6j+OBpy0/WLqPzt8Wet6beo/6PEWIvh36j+UZ9RYdYLqP0HdkY/yjOo/7lJPxm+X6j+byAz97KHqP0c+yjNqrOo/9LOHaue26j+hKUWhZMHqP06fAtjhy+o/+hTADl/W6j+nin1F3ODqP1QAO3xZ6+o/AXb4stb16j+t67XpUwDrP1phcyDRCus/B9cwV04V6z+0TO6Nyx/rP2DCq8RIKus/DThp+8U06z+6rSYyQz/rP2cj5GjASes/E5mhnz1U6z/ADl/Wul7rP22EHA04aes/GvrZQ7Vz6z/Gb5d6Mn7rP3PlVLGviOs/IFsS6CyT6z/N0M8eqp3rP3lGjVUnqOs/JrxKjKSy6z/TMQjDIb3rP4Cnxfmex+s/LB2DMBzS6z/ZkkBnmdzrP4YI/p0W5+s/Mn671JPx6z/f83gLEfzrP4xpNkKOBuw/Od/zeAsR7D/lVLGviBvsP5LKbuYFJuw/P0AsHYMw7D/stelTADvsP5grp4p9Rew/RaFkwfpP7D/yFiL4d1rsP5+M3y71ZOw/SwKdZXJv7D/4d1qc73nsP6XtF9NshOw/UmPVCeqO7D/+2JJAZ5nsP6tOUHfko+w/WMQNrmGu7D8FOsvk3rjsP7GviBtcw+w/XiVGUtnN7D8LmwOJVtjsP7gQwb/T4uw/ZIZ+9lDt7D8R/DstzvfsP75x+WNLAu0/a+e2msgM7T8XXXTRRRftP8TSMQjDIe0/cUjvPkAs7T8evqx1vTbtP8ozaqw6Qe0/d6kn47dL7T8kH+UZNVbtP9CUolCyYO0/fQpghy9r7T8qgB2+rHXtP9f12vQpgO0/g2uYK6eK7T8w4VViJJXtP91WE5mhn+0/iszQzx6q7T82Qo4GnLTtP+O3Sz0Zv+0/kC0JdJbJ7T89o8aqE9TtP+kYhOGQ3u0/lo5BGA7p7T9DBP9Oi/PtP/B5vIUI/u0/nO95vIUI7j9JZTfzAhPuP/ba9CmAHe4/o1CyYP0n7j9Pxm+XejLuP/w7Lc73PO4/qbHqBHVH7j9WJ6g78lHuPwKdZXJvXO4/rxIjqexm7j9ciODfaXHuPwn+nRbne+4/tXNbTWSG7j9i6RiE4ZDuPw9f1rpem+4/u9ST8dul7j9oSlEoWbDuPxXADl/Wuu4/wjXMlVPF7j9uq4nM0M/uPxshRwNO2u4/yJYEOsvk7j91DMJwSO/uPyGCf6fF+e4/zvc83kIE7z97bfoUwA7vPyjjt0s9Ge8/1Fh1groj7z+BzjK5Ny7vPy5E8O+0OO8/27mtJjJD7z+HL2tdr03vPzSlKJQsWO8/4Rrmyqli7z+OkKMBJ23vPzoGYTikd+8/53sebyGC7z+U8dulnozvP0Fnmdwbl+8/7dxWE5mh7z+aUhRKFqzvP0fI0YCTtu8/9D2PtxDB7z+gs0zujcvvP00pCiUL1u8/+p7HW4jg7z+nFIWSBevvP1OKQsmC9e8/AAAAAAAA8D8=",
                    "dtype": "f8"
                  }
                }
              ],
              "layout": {
                "template": {
                  "data": {
                    "bar": [
                      {
                        "error_x": {
                          "color": "#2a3f5f"
                        },
                        "error_y": {
                          "color": "#2a3f5f"
                        },
                        "marker": {
                          "line": {
                            "color": "#E5ECF6",
                            "width": 0.5
                          },
                          "pattern": {
                            "fillmode": "overlay",
                            "size": 10,
                            "solidity": 0.2
                          }
                        },
                        "type": "bar"
                      }
                    ],
                    "barpolar": [
                      {
                        "marker": {
                          "line": {
                            "color": "#E5ECF6",
                            "width": 0.5
                          },
                          "pattern": {
                            "fillmode": "overlay",
                            "size": 10,
                            "solidity": 0.2
                          }
                        },
                        "type": "barpolar"
                      }
                    ],
                    "carpet": [
                      {
                        "aaxis": {
                          "endlinecolor": "#2a3f5f",
                          "gridcolor": "white",
                          "linecolor": "white",
                          "minorgridcolor": "white",
                          "startlinecolor": "#2a3f5f"
                        },
                        "baxis": {
                          "endlinecolor": "#2a3f5f",
                          "gridcolor": "white",
                          "linecolor": "white",
                          "minorgridcolor": "white",
                          "startlinecolor": "#2a3f5f"
                        },
                        "type": "carpet"
                      }
                    ],
                    "choropleth": [
                      {
                        "colorbar": {
                          "outlinewidth": 0,
                          "ticks": ""
                        },
                        "type": "choropleth"
                      }
                    ],
                    "contour": [
                      {
                        "colorbar": {
                          "outlinewidth": 0,
                          "ticks": ""
                        },
                        "colorscale": [
                          [
                            0,
                            "#0d0887"
                          ],
                          [
                            0.1111111111111111,
                            "#46039f"
                          ],
                          [
                            0.2222222222222222,
                            "#7201a8"
                          ],
                          [
                            0.3333333333333333,
                            "#9c179e"
                          ],
                          [
                            0.4444444444444444,
                            "#bd3786"
                          ],
                          [
                            0.5555555555555556,
                            "#d8576b"
                          ],
                          [
                            0.6666666666666666,
                            "#ed7953"
                          ],
                          [
                            0.7777777777777778,
                            "#fb9f3a"
                          ],
                          [
                            0.8888888888888888,
                            "#fdca26"
                          ],
                          [
                            1,
                            "#f0f921"
                          ]
                        ],
                        "type": "contour"
                      }
                    ],
                    "contourcarpet": [
                      {
                        "colorbar": {
                          "outlinewidth": 0,
                          "ticks": ""
                        },
                        "type": "contourcarpet"
                      }
                    ],
                    "heatmap": [
                      {
                        "colorbar": {
                          "outlinewidth": 0,
                          "ticks": ""
                        },
                        "colorscale": [
                          [
                            0,
                            "#0d0887"
                          ],
                          [
                            0.1111111111111111,
                            "#46039f"
                          ],
                          [
                            0.2222222222222222,
                            "#7201a8"
                          ],
                          [
                            0.3333333333333333,
                            "#9c179e"
                          ],
                          [
                            0.4444444444444444,
                            "#bd3786"
                          ],
                          [
                            0.5555555555555556,
                            "#d8576b"
                          ],
                          [
                            0.6666666666666666,
                            "#ed7953"
                          ],
                          [
                            0.7777777777777778,
                            "#fb9f3a"
                          ],
                          [
                            0.8888888888888888,
                            "#fdca26"
                          ],
                          [
                            1,
                            "#f0f921"
                          ]
                        ],
                        "type": "heatmap"
                      }
                    ],
                    "histogram": [
                      {
                        "marker": {
                          "pattern": {
                            "fillmode": "overlay",
                            "size": 10,
                            "solidity": 0.2
                          }
                        },
                        "type": "histogram"
                      }
                    ],
                    "histogram2d": [
                      {
                        "colorbar": {
                          "outlinewidth": 0,
                          "ticks": ""
                        },
                        "colorscale": [
                          [
                            0,
                            "#0d0887"
                          ],
                          [
                            0.1111111111111111,
                            "#46039f"
                          ],
                          [
                            0.2222222222222222,
                            "#7201a8"
                          ],
                          [
                            0.3333333333333333,
                            "#9c179e"
                          ],
                          [
                            0.4444444444444444,
                            "#bd3786"
                          ],
                          [
                            0.5555555555555556,
                            "#d8576b"
                          ],
                          [
                            0.6666666666666666,
                            "#ed7953"
                          ],
                          [
                            0.7777777777777778,
                            "#fb9f3a"
                          ],
                          [
                            0.8888888888888888,
                            "#fdca26"
                          ],
                          [
                            1,
                            "#f0f921"
                          ]
                        ],
                        "type": "histogram2d"
                      }
                    ],
                    "histogram2dcontour": [
                      {
                        "colorbar": {
                          "outlinewidth": 0,
                          "ticks": ""
                        },
                        "colorscale": [
                          [
                            0,
                            "#0d0887"
                          ],
                          [
                            0.1111111111111111,
                            "#46039f"
                          ],
                          [
                            0.2222222222222222,
                            "#7201a8"
                          ],
                          [
                            0.3333333333333333,
                            "#9c179e"
                          ],
                          [
                            0.4444444444444444,
                            "#bd3786"
                          ],
                          [
                            0.5555555555555556,
                            "#d8576b"
                          ],
                          [
                            0.6666666666666666,
                            "#ed7953"
                          ],
                          [
                            0.7777777777777778,
                            "#fb9f3a"
                          ],
                          [
                            0.8888888888888888,
                            "#fdca26"
                          ],
                          [
                            1,
                            "#f0f921"
                          ]
                        ],
                        "type": "histogram2dcontour"
                      }
                    ],
                    "mesh3d": [
                      {
                        "colorbar": {
                          "outlinewidth": 0,
                          "ticks": ""
                        },
                        "type": "mesh3d"
                      }
                    ],
                    "parcoords": [
                      {
                        "line": {
                          "colorbar": {
                            "outlinewidth": 0,
                            "ticks": ""
                          }
                        },
                        "type": "parcoords"
                      }
                    ],
                    "pie": [
                      {
                        "automargin": true,
                        "type": "pie"
                      }
                    ],
                    "scatter": [
                      {
                        "fillpattern": {
                          "fillmode": "overlay",
                          "size": 10,
                          "solidity": 0.2
                        },
                        "type": "scatter"
                      }
                    ],
                    "scatter3d": [
                      {
                        "line": {
                          "colorbar": {
                            "outlinewidth": 0,
                            "ticks": ""
                          }
                        },
                        "marker": {
                          "colorbar": {
                            "outlinewidth": 0,
                            "ticks": ""
                          }
                        },
                        "type": "scatter3d"
                      }
                    ],
                    "scattercarpet": [
                      {
                        "marker": {
                          "colorbar": {
                            "outlinewidth": 0,
                            "ticks": ""
                          }
                        },
                        "type": "scattercarpet"
                      }
                    ],
                    "scattergeo": [
                      {
                        "marker": {
                          "colorbar": {
                            "outlinewidth": 0,
                            "ticks": ""
                          }
                        },
                        "type": "scattergeo"
                      }
                    ],
                    "scattergl": [
                      {
                        "marker": {
                          "colorbar": {
                            "outlinewidth": 0,
                            "ticks": ""
                          }
                        },
                        "type": "scattergl"
                      }
                    ],
                    "scattermap": [
                      {
                        "marker": {
                          "colorbar": {
                            "outlinewidth": 0,
                            "ticks": ""
                          }
                        },
                        "type": "scattermap"
                      }
                    ],
                    "scattermapbox": [
                      {
                        "marker": {
                          "colorbar": {
                            "outlinewidth": 0,
                            "ticks": ""
                          }
                        },
                        "type": "scattermapbox"
                      }
                    ],
                    "scatterpolar": [
                      {
                        "marker": {
                          "colorbar": {
                            "outlinewidth": 0,
                            "ticks": ""
                          }
                        },
                        "type": "scatterpolar"
                      }
                    ],
                    "scatterpolargl": [
                      {
                        "marker": {
                          "colorbar": {
                            "outlinewidth": 0,
                            "ticks": ""
                          }
                        },
                        "type": "scatterpolargl"
                      }
                    ],
                    "scatterternary": [
                      {
                        "marker": {
                          "colorbar": {
                            "outlinewidth": 0,
                            "ticks": ""
                          }
                        },
                        "type": "scatterternary"
                      }
                    ],
                    "surface": [
                      {
                        "colorbar": {
                          "outlinewidth": 0,
                          "ticks": ""
                        },
                        "colorscale": [
                          [
                            0,
                            "#0d0887"
                          ],
                          [
                            0.1111111111111111,
                            "#46039f"
                          ],
                          [
                            0.2222222222222222,
                            "#7201a8"
                          ],
                          [
                            0.3333333333333333,
                            "#9c179e"
                          ],
                          [
                            0.4444444444444444,
                            "#bd3786"
                          ],
                          [
                            0.5555555555555556,
                            "#d8576b"
                          ],
                          [
                            0.6666666666666666,
                            "#ed7953"
                          ],
                          [
                            0.7777777777777778,
                            "#fb9f3a"
                          ],
                          [
                            0.8888888888888888,
                            "#fdca26"
                          ],
                          [
                            1,
                            "#f0f921"
                          ]
                        ],
                        "type": "surface"
                      }
                    ],
                    "table": [
                      {
                        "cells": {
                          "fill": {
                            "color": "#EBF0F8"
                          },
                          "line": {
                            "color": "white"
                          }
                        },
                        "header": {
                          "fill": {
                            "color": "#C8D4E3"
                          },
                          "line": {
                            "color": "white"
                          }
                        },
                        "type": "table"
                      }
                    ]
                  },
                  "layout": {
                    "annotationdefaults": {
                      "arrowcolor": "#2a3f5f",
                      "arrowhead": 0,
                      "arrowwidth": 1
                    },
                    "autotypenumbers": "strict",
                    "coloraxis": {
                      "colorbar": {
                        "outlinewidth": 0,
                        "ticks": ""
                      }
                    },
                    "colorscale": {
                      "diverging": [
                        [
                          0,
                          "#8e0152"
                        ],
                        [
                          0.1,
                          "#c51b7d"
                        ],
                        [
                          0.2,
                          "#de77ae"
                        ],
                        [
                          0.3,
                          "#f1b6da"
                        ],
                        [
                          0.4,
                          "#fde0ef"
                        ],
                        [
                          0.5,
                          "#f7f7f7"
                        ],
                        [
                          0.6,
                          "#e6f5d0"
                        ],
                        [
                          0.7,
                          "#b8e186"
                        ],
                        [
                          0.8,
                          "#7fbc41"
                        ],
                        [
                          0.9,
                          "#4d9221"
                        ],
                        [
                          1,
                          "#276419"
                        ]
                      ],
                      "sequential": [
                        [
                          0,
                          "#0d0887"
                        ],
                        [
                          0.1111111111111111,
                          "#46039f"
                        ],
                        [
                          0.2222222222222222,
                          "#7201a8"
                        ],
                        [
                          0.3333333333333333,
                          "#9c179e"
                        ],
                        [
                          0.4444444444444444,
                          "#bd3786"
                        ],
                        [
                          0.5555555555555556,
                          "#d8576b"
                        ],
                        [
                          0.6666666666666666,
                          "#ed7953"
                        ],
                        [
                          0.7777777777777778,
                          "#fb9f3a"
                        ],
                        [
                          0.8888888888888888,
                          "#fdca26"
                        ],
                        [
                          1,
                          "#f0f921"
                        ]
                      ],
                      "sequentialminus": [
                        [
                          0,
                          "#0d0887"
                        ],
                        [
                          0.1111111111111111,
                          "#46039f"
                        ],
                        [
                          0.2222222222222222,
                          "#7201a8"
                        ],
                        [
                          0.3333333333333333,
                          "#9c179e"
                        ],
                        [
                          0.4444444444444444,
                          "#bd3786"
                        ],
                        [
                          0.5555555555555556,
                          "#d8576b"
                        ],
                        [
                          0.6666666666666666,
                          "#ed7953"
                        ],
                        [
                          0.7777777777777778,
                          "#fb9f3a"
                        ],
                        [
                          0.8888888888888888,
                          "#fdca26"
                        ],
                        [
                          1,
                          "#f0f921"
                        ]
                      ]
                    },
                    "colorway": [
                      "#636efa",
                      "#EF553B",
                      "#00cc96",
                      "#ab63fa",
                      "#FFA15A",
                      "#19d3f3",
                      "#FF6692",
                      "#B6E880",
                      "#FF97FF",
                      "#FECB52"
                    ],
                    "font": {
                      "color": "#2a3f5f"
                    },
                    "geo": {
                      "bgcolor": "white",
                      "lakecolor": "white",
                      "landcolor": "#E5ECF6",
                      "showlakes": true,
                      "showland": true,
                      "subunitcolor": "white"
                    },
                    "hoverlabel": {
                      "align": "left"
                    },
                    "hovermode": "closest",
                    "mapbox": {
                      "style": "light"
                    },
                    "paper_bgcolor": "white",
                    "plot_bgcolor": "#E5ECF6",
                    "polar": {
                      "angularaxis": {
                        "gridcolor": "white",
                        "linecolor": "white",
                        "ticks": ""
                      },
                      "bgcolor": "#E5ECF6",
                      "radialaxis": {
                        "gridcolor": "white",
                        "linecolor": "white",
                        "ticks": ""
                      }
                    },
                    "scene": {
                      "xaxis": {
                        "backgroundcolor": "#E5ECF6",
                        "gridcolor": "white",
                        "gridwidth": 2,
                        "linecolor": "white",
                        "showbackground": true,
                        "ticks": "",
                        "zerolinecolor": "white"
                      },
                      "yaxis": {
                        "backgroundcolor": "#E5ECF6",
                        "gridcolor": "white",
                        "gridwidth": 2,
                        "linecolor": "white",
                        "showbackground": true,
                        "ticks": "",
                        "zerolinecolor": "white"
                      },
                      "zaxis": {
                        "backgroundcolor": "#E5ECF6",
                        "gridcolor": "white",
                        "gridwidth": 2,
                        "linecolor": "white",
                        "showbackground": true,
                        "ticks": "",
                        "zerolinecolor": "white"
                      }
                    },
                    "shapedefaults": {
                      "line": {
                        "color": "#2a3f5f"
                      }
                    },
                    "ternary": {
                      "aaxis": {
                        "gridcolor": "white",
                        "linecolor": "white",
                        "ticks": ""
                      },
                      "baxis": {
                        "gridcolor": "white",
                        "linecolor": "white",
                        "ticks": ""
                      },
                      "bgcolor": "#E5ECF6",
                      "caxis": {
                        "gridcolor": "white",
                        "linecolor": "white",
                        "ticks": ""
                      }
                    },
                    "title": {
                      "x": 0.05
                    },
                    "xaxis": {
                      "automargin": true,
                      "gridcolor": "white",
                      "linecolor": "white",
                      "ticks": "",
                      "title": {
                        "standoff": 15
                      },
                      "zerolinecolor": "white",
                      "zerolinewidth": 2
                    },
                    "yaxis": {
                      "automargin": true,
                      "gridcolor": "white",
                      "linecolor": "white",
                      "ticks": "",
                      "title": {
                        "standoff": 15
                      },
                      "zerolinecolor": "white",
                      "zerolinewidth": 2
                    }
                  }
                }
              }
            }
          },
          "metadata": {},
          "output_type": "display_data"
        }
      ],
      "source": [
        "from scipy import stats\n",
        "\n",
        "# # Fit a normal distribution to the data\n",
        "# params_norm = stats.norm.fit(sserr)\n",
        "# cdf_values_norm = stats.norm.cdf(sorted_sserr, *params_norm)\n",
        "\n",
        "# Fit a log-normal distribution to the data\n",
        "params_lognorm = stats.lognorm.fit(sserr)\n",
        "cdf_values_lognorm = stats.lognorm.cdf(sorted_sserr, *params_lognorm)\n",
        "print(params_lognorm)\n",
        "\n",
        "# # Fit an exponential distribution to the data\n",
        "# params_expon = stats.expon.fit(sserr)\n",
        "# cdf_values_expon = stats.expon.cdf(sorted_sserr, *params_expon)\n",
        "\n",
        "# Fit an Exponential Normal distribution to the data\n",
        "params_exponnorm = stats.exponnorm.fit(sserr)\n",
        "cdf_values_exponnorm = stats.exponnorm.cdf(sorted_sserr, *params_exponnorm)\n",
        "\n",
        "\n",
        "fig = go.Figure()\n",
        "# fig.add_trace(go.Scatter(x=sorted_sserr, y=cdf_values_norm, mode=\"lines\", name=\"Normal\"))\n",
        "fig.add_trace(go.Scatter(x=sorted_sserr, y=cdf_values_lognorm, mode=\"lines\", name=\"Lognormal\"))\n",
        "# fig.add_trace(go.Scatter(x=sorted_sserr, y=cdf_values_expon, mode=\"lines\", name=\"Exponential\"))\n",
        "fig.add_trace(go.Scatter(x=sorted_sserr, y=cdf_values_exponnorm, mode=\"lines\", name=\"Exponential Normal\"))\n",
        "fig.add_trace(go.Scatter(x=sorted_sserr, y=cdf, mode=\"markers\", name=\"Data\"))\n",
        "fig.show()\n"
      ]
    }
  ],
  "metadata": {
    "kernelspec": {
      "display_name": "weac",
      "language": "python",
      "name": "python3"
    },
    "language_info": {
      "codemirror_mode": {
        "name": "ipython",
        "version": 3
      },
      "file_extension": ".py",
      "mimetype": "text/x-python",
      "name": "python",
      "nbconvert_exporter": "python",
      "pygments_lexer": "ipython3",
      "version": "3.12.11"
    }
  },
  "nbformat": 4,
  "nbformat_minor": 5
}
