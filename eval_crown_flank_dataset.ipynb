{
 "cells": [
  {
   "cell_type": "code",
   "execution_count": 10,
   "id": "3bf64450",
   "metadata": {},
   "outputs": [],
   "source": [
    "# Auto reload modules\n",
    "%load_ext autoreload\n",
    "%autoreload all"
   ]
  },
  {
   "cell_type": "code",
   "execution_count": 1,
   "id": "fda4fdf9",
   "metadata": {},
   "outputs": [],
   "source": [
    "import os\n",
    "from typing import List\n",
    "import numpy as np\n",
    "from numpy.linalg import LinAlgError\n",
    "import pandas as pd\n",
    "from pprint import pprint\n",
    "import copy\n",
    "from tqdm.notebook import tqdm\n",
    "\n",
    "from weac_2.analysis import Analyzer, CriteriaEvaluator, CoupledCriterionResult, SSERRResult\n",
    "from weac_2.core.system_model import SystemModel\n",
    "from weac_2.components import ModelInput, Segment, ScenarioConfig, WeakLayer, Layer, CriteriaConfig\n",
    "from weac_2.utils.snowpilot_parser import SnowPilotParser, convert_to_mm, convert_to_deg"
   ]
  },
  {
   "cell_type": "code",
   "execution_count": 2,
   "id": "241bc355",
   "metadata": {},
   "outputs": [
    {
     "name": "stdout",
     "output_type": "stream",
     "text": [
      "\n",
      "Found 31170 files\n"
     ]
    }
   ],
   "source": [
    "# Process multiple files\n",
    "file_paths = []\n",
    "for directory in os.listdir(\"data/snowpits\"):\n",
    "    for file in os.listdir(f\"data/snowpits/{directory}\"):\n",
    "        if file.endswith(\".xml\"):\n",
    "            file_paths.append(f\"data/snowpits/{directory}/{file}\")\n",
    "\n",
    "paths: List[str] = []\n",
    "parsers: List[SnowPilotParser] = []\n",
    "\n",
    "for file_path in file_paths:\n",
    "    snowpilot_parser = SnowPilotParser(file_path)\n",
    "    paths.append(file_path)\n",
    "    parsers.append(snowpilot_parser)\n",
    "\n",
    "print(f\"\\nFound {len(paths)} files\")\n",
    "\n"
   ]
  },
  {
   "cell_type": "code",
   "execution_count": 3,
   "id": "830f51ea",
   "metadata": {},
   "outputs": [
    {
     "name": "stdout",
     "output_type": "stream",
     "text": [
      "\n",
      "Found 945 pits near avalanche\n",
      "\n",
      "Found 848 pits near avalanche with layer of concern\n"
     ]
    }
   ],
   "source": [
    "pits_near_avalanche: List[SnowPilotParser] = []\n",
    "for parser in parsers:\n",
    "    # Avalanche pits\n",
    "    if parser.snowpit.core_info.location.pit_near_avalanche:\n",
    "        # print(parser.snowpit.core_info.location.pit_near_avalanche_location)\n",
    "        pits_near_avalanche.append(parser)\n",
    "\n",
    "print(f\"\\nFound {len(pits_near_avalanche)} pits near avalanche\")\n",
    "\n",
    "avalanche_pits_with_layer_of_concern: List[SnowPilotParser] = []\n",
    "for pit in pits_near_avalanche:\n",
    "    if pit.snowpit.snow_profile.layer_of_concern:\n",
    "        # print(pit.snowpit.snow_profile.layer_of_concern)\n",
    "        avalanche_pits_with_layer_of_concern.append(pit)\n",
    "\n",
    "print(f\"\\nFound {len(avalanche_pits_with_layer_of_concern)} pits near avalanche with layer of concern\")\n"
   ]
  },
  {
   "cell_type": "code",
   "execution_count": 4,
   "id": "8cdab0c1",
   "metadata": {},
   "outputs": [
    {
     "name": "stdout",
     "output_type": "stream",
     "text": [
      "[{'Slope Angle': '23', 'HS': None, 'Profile Depth': 1000.0, 'Pit Near Avalanche Location': 'crown', 'WL_Depth': 800.0, 'WL_Thickness': 10.0}, {'Slope Angle': '42', 'HS': 930.0, 'Profile Depth': 930.0, 'Pit Near Avalanche Location': 'crown', 'WL_Depth': 390.0, 'WL_Thickness': 10.0}, {'Slope Angle': '28', 'HS': 1350.0, 'Profile Depth': 1350.0, 'Pit Near Avalanche Location': 'crown', 'WL_Depth': 300.0, 'WL_Thickness': 10.0}, {'Slope Angle': '24', 'HS': 740.0, 'Profile Depth': 740.0, 'Pit Near Avalanche Location': 'flank', 'WL_Depth': 480.0, 'WL_Thickness': 260.0}, {'Slope Angle': '28', 'HS': 2000.0, 'Profile Depth': 1250.0, 'Pit Near Avalanche Location': 'flank', 'WL_Depth': 90.0, 'WL_Thickness': 290.0}, {'Slope Angle': '27', 'HS': 1750.0, 'Profile Depth': 1750.0, 'Pit Near Avalanche Location': 'flank', 'WL_Depth': 1170.0, 'WL_Thickness': 10.0}, {'Slope Angle': '38', 'HS': 710.0, 'Profile Depth': 710.0, 'Pit Near Avalanche Location': 'crown', 'WL_Depth': 350.0, 'WL_Thickness': 10.0}, {'Slope Angle': '17', 'HS': 1250.0, 'Profile Depth': 1250.0, 'Pit Near Avalanche Location': 'other', 'WL_Depth': 770.0, 'WL_Thickness': 60.0}, {'Slope Angle': '27', 'HS': 710.0, 'Profile Depth': 710.0, 'Pit Near Avalanche Location': 'crown', 'WL_Depth': 520.0, 'WL_Thickness': 190.0}, {'Slope Angle': '15', 'HS': 2200.0, 'Profile Depth': 2200.0, 'Pit Near Avalanche Location': 'other', 'WL_Depth': 1700.0, 'WL_Thickness': 500.0}, {'Slope Angle': '30', 'HS': 1700.0, 'Profile Depth': 1700.0, 'Pit Near Avalanche Location': 'crown', 'WL_Depth': 1500.0, 'WL_Thickness': 20.0}, {'Slope Angle': '27', 'HS': 1080.0, 'Profile Depth': 1080.0, 'Pit Near Avalanche Location': 'flank', 'WL_Depth': 20.0, 'WL_Thickness': 150.0}, {'Slope Angle': '25', 'HS': 3050.0, 'Profile Depth': 1000.0, 'Pit Near Avalanche Location': 'crown', 'WL_Depth': 210.0, 'WL_Thickness': 390.0}, {'Slope Angle': '37', 'HS': 1100.0, 'Profile Depth': 1100.0, 'Pit Near Avalanche Location': 'flank', 'WL_Depth': 640.0, 'WL_Thickness': 20.0}, {'Slope Angle': '36', 'HS': 2670.0, 'Profile Depth': 1250.0, 'Pit Near Avalanche Location': 'crown', 'WL_Depth': 960.0, 'WL_Thickness': 10.0}, {'Slope Angle': '37', 'HS': 2420.0, 'Profile Depth': 2420.0, 'Pit Near Avalanche Location': 'flank', 'WL_Depth': 620.0, 'WL_Thickness': 30.0}, {'Slope Angle': '30', 'HS': 900.0, 'Profile Depth': 700.0, 'Pit Near Avalanche Location': 'flank', 'WL_Depth': 230.0, 'WL_Thickness': 70.0}, {'Slope Angle': '29', 'HS': 1250.0, 'Profile Depth': 1250.0, 'Pit Near Avalanche Location': None, 'WL_Depth': 700.0, 'WL_Thickness': 2.0}, {'Slope Angle': '35', 'HS': 1050.0, 'Profile Depth': 1050.0, 'Pit Near Avalanche Location': 'crown', 'WL_Depth': 310.0, 'WL_Thickness': 10.0}, {'Slope Angle': '47', 'HS': 1660.0, 'Profile Depth': 1660.0, 'Pit Near Avalanche Location': 'crown', 'WL_Depth': 960.0, 'WL_Thickness': 50.0}, {'Slope Angle': '49', 'HS': 2110.0, 'Profile Depth': 2110.0, 'Pit Near Avalanche Location': 'crown', 'WL_Depth': 550.0, 'WL_Thickness': 30.0}, {'Slope Angle': '33', 'HS': 2070.0, 'Profile Depth': 2070.0, 'Pit Near Avalanche Location': 'crown', 'WL_Depth': 680.0, 'WL_Thickness': 40.0}, {'Slope Angle': '35', 'HS': 1700.0, 'Profile Depth': 1700.0, 'Pit Near Avalanche Location': 'crown', 'WL_Depth': 350.0, 'WL_Thickness': 5.0}, {'Slope Angle': '32', 'HS': 1350.0, 'Profile Depth': 1350.0, 'Pit Near Avalanche Location': 'crown', 'WL_Depth': 650.0, 'WL_Thickness': 10.0}, {'Slope Angle': '30', 'HS': 2650.0, 'Profile Depth': 2650.0, 'Pit Near Avalanche Location': 'other', 'WL_Depth': 500.0, 'WL_Thickness': 50.0}, {'Slope Angle': '35', 'HS': 2200.0, 'Profile Depth': 1300.0, 'Pit Near Avalanche Location': 'crown', 'WL_Depth': 950.0, 'WL_Thickness': 50.0}, {'Slope Angle': '38', 'HS': 1200.0, 'Profile Depth': 1200.0, 'Pit Near Avalanche Location': 'crown', 'WL_Depth': 780.0, 'WL_Thickness': 220.0}, {'Slope Angle': '25', 'HS': 1700.0, 'Profile Depth': 1700.0, 'Pit Near Avalanche Location': 'crown', 'WL_Depth': 1330.0, 'WL_Thickness': 60.0}, {'Slope Angle': '24', 'HS': 1680.0, 'Profile Depth': 1680.0, 'Pit Near Avalanche Location': 'other', 'WL_Depth': 1020.0, 'WL_Thickness': 660.0}, {'Slope Angle': '30', 'HS': 3400.0, 'Profile Depth': 3400.0, 'Pit Near Avalanche Location': 'flank', 'WL_Depth': 900.0, 'WL_Thickness': 100.0}, {'Slope Angle': '37', 'HS': 1100.0, 'Profile Depth': 1100.0, 'Pit Near Avalanche Location': 'crown', 'WL_Depth': 300.0, 'WL_Thickness': 20.0}, {'Slope Angle': '15', 'HS': 2350.0, 'Profile Depth': 800.0, 'Pit Near Avalanche Location': 'flank', 'WL_Depth': 470.0, 'WL_Thickness': 100.0}, {'Slope Angle': '34', 'HS': 1210.0, 'Profile Depth': 1210.0, 'Pit Near Avalanche Location': 'other', 'WL_Depth': 950.0, 'WL_Thickness': 100.0}, {'Slope Angle': '38', 'HS': 1200.0, 'Profile Depth': 1200.0, 'Pit Near Avalanche Location': 'crown', 'WL_Depth': 650.0, 'WL_Thickness': 270.0}, {'Slope Angle': '38', 'HS': 1180.0, 'Profile Depth': 1180.0, 'Pit Near Avalanche Location': 'flank', 'WL_Depth': 330.0, 'WL_Thickness': 230.0}, {'Slope Angle': '15', 'HS': 1250.0, 'Profile Depth': 1250.0, 'Pit Near Avalanche Location': 'crown', 'WL_Depth': 1015.0, 'WL_Thickness': 85.0}, {'Slope Angle': '28', 'HS': 750.0, 'Profile Depth': 750.0, 'Pit Near Avalanche Location': 'flank', 'WL_Depth': 510.0, 'WL_Thickness': 240.0}, {'Slope Angle': '35', 'HS': 1850.0, 'Profile Depth': 1850.0, 'Pit Near Avalanche Location': 'flank', 'WL_Depth': 300.0, 'WL_Thickness': 20.0}, {'Slope Angle': '30', 'HS': 1400.0, 'Profile Depth': 1400.0, 'Pit Near Avalanche Location': None, 'WL_Depth': 400.0, 'WL_Thickness': 1000.0}, {'Slope Angle': '30', 'HS': 670.0, 'Profile Depth': 670.0, 'Pit Near Avalanche Location': 'crown', 'WL_Depth': 300.0, 'WL_Thickness': 370.0}, {'Slope Angle': 0.0, 'HS': 1380.0, 'Profile Depth': 1380.0, 'Pit Near Avalanche Location': 'other', 'WL_Depth': 260.0, 'WL_Thickness': 20.0}, {'Slope Angle': '24', 'HS': None, 'Profile Depth': 950.0, 'Pit Near Avalanche Location': 'crown', 'WL_Depth': 500.0, 'WL_Thickness': 5.0}, {'Slope Angle': '30', 'HS': 2360.0, 'Profile Depth': 2360.0, 'Pit Near Avalanche Location': 'flank', 'WL_Depth': 1060.0, 'WL_Thickness': 50.0}, {'Slope Angle': '32', 'HS': 3000.0, 'Profile Depth': 600.0, 'Pit Near Avalanche Location': 'crown', 'WL_Depth': 400.0, 'WL_Thickness': 80.0}, {'Slope Angle': '27', 'HS': 1150.0, 'Profile Depth': 1150.0, 'Pit Near Avalanche Location': 'flank', 'WL_Depth': 340.0, 'WL_Thickness': 240.0}, {'Slope Angle': '31', 'HS': None, 'Profile Depth': 870.0, 'Pit Near Avalanche Location': 'crown', 'WL_Depth': 530.0, 'WL_Thickness': 10.0}, {'Slope Angle': '43', 'HS': 2400.0, 'Profile Depth': 2400.0, 'Pit Near Avalanche Location': 'crown', 'WL_Depth': 660.0, 'WL_Thickness': 120.0}, {'Slope Angle': '36', 'HS': 2700.0, 'Profile Depth': 1100.0, 'Pit Near Avalanche Location': 'crown', 'WL_Depth': 250.0, 'WL_Thickness': 20.0}, {'Slope Angle': '34', 'HS': 4000.0, 'Profile Depth': 1100.0, 'Pit Near Avalanche Location': 'crown', 'WL_Depth': 820.0, 'WL_Thickness': 10.0}, {'Slope Angle': '39', 'HS': 2400.0, 'Profile Depth': 1000.0, 'Pit Near Avalanche Location': 'crown', 'WL_Depth': 600.0, 'WL_Thickness': 20.0}, {'Slope Angle': '35', 'HS': 1360.0, 'Profile Depth': 1360.0, 'Pit Near Avalanche Location': 'flank', 'WL_Depth': 610.0, 'WL_Thickness': 10.0}, {'Slope Angle': '17', 'HS': 1260.0, 'Profile Depth': 1260.0, 'Pit Near Avalanche Location': None, 'WL_Depth': 780.0, 'WL_Thickness': 60.0}, {'Slope Angle': '37', 'HS': 1560.0, 'Profile Depth': 1560.0, 'Pit Near Avalanche Location': 'flank', 'WL_Depth': 960.0, 'WL_Thickness': 130.0}, {'Slope Angle': '36', 'HS': 1850.0, 'Profile Depth': 1850.0, 'Pit Near Avalanche Location': 'crown', 'WL_Depth': 1390.0, 'WL_Thickness': 50.0}, {'Slope Angle': '34', 'HS': 920.0, 'Profile Depth': 920.0, 'Pit Near Avalanche Location': 'crown', 'WL_Depth': 640.0, 'WL_Thickness': 280.0}, {'Slope Angle': '42', 'HS': 2800.0, 'Profile Depth': 1500.0, 'Pit Near Avalanche Location': 'crown', 'WL_Depth': 200.0, 'WL_Thickness': 60.0}, {'Slope Angle': '15', 'HS': 3200.0, 'Profile Depth': 900.0, 'Pit Near Avalanche Location': 'flank', 'WL_Depth': 410.0, 'WL_Thickness': 50.0}, {'Slope Angle': '24', 'HS': 1420.0, 'Profile Depth': 1420.0, 'Pit Near Avalanche Location': 'flank', 'WL_Depth': 1020.0, 'WL_Thickness': 40.0}, {'Slope Angle': '37', 'HS': 720.0, 'Profile Depth': 720.0, 'Pit Near Avalanche Location': 'flank', 'WL_Depth': 420.0, 'WL_Thickness': 300.0}, {'Slope Angle': '40', 'HS': 1450.0, 'Profile Depth': 1450.0, 'Pit Near Avalanche Location': 'crown', 'WL_Depth': 955.0, 'WL_Thickness': 195.0}, {'Slope Angle': '26', 'HS': 470.0, 'Profile Depth': 470.0, 'Pit Near Avalanche Location': 'crown', 'WL_Depth': 0.0, 'WL_Thickness': 190.0}, {'Slope Angle': '35', 'HS': 1800.0, 'Profile Depth': 1800.0, 'Pit Near Avalanche Location': 'crown', 'WL_Depth': 510.0, 'WL_Thickness': 5.0}, {'Slope Angle': '26', 'HS': 1050.0, 'Profile Depth': 1050.0, 'Pit Near Avalanche Location': 'crown', 'WL_Depth': 900.0, 'WL_Thickness': 150.0}, {'Slope Angle': 0.0, 'HS': 2700.0, 'Profile Depth': 2700.0, 'Pit Near Avalanche Location': 'crown', 'WL_Depth': 1930.0, 'WL_Thickness': 50.0}, {'Slope Angle': '34', 'HS': 2000.0, 'Profile Depth': 2000.0, 'Pit Near Avalanche Location': None, 'WL_Depth': 800.0, 'WL_Thickness': 50.0}, {'Slope Angle': '25', 'HS': 2400.0, 'Profile Depth': 2400.0, 'Pit Near Avalanche Location': 'crown', 'WL_Depth': 1600.0, 'WL_Thickness': 10.0}, {'Slope Angle': '29', 'HS': 1750.0, 'Profile Depth': 1750.0, 'Pit Near Avalanche Location': None, 'WL_Depth': 460.0, 'WL_Thickness': 5.0}, {'Slope Angle': '40', 'HS': 1750.0, 'Profile Depth': 1750.0, 'Pit Near Avalanche Location': 'crown', 'WL_Depth': 740.0, 'WL_Thickness': 60.0}, {'Slope Angle': '39', 'HS': 1230.0, 'Profile Depth': 1230.0, 'Pit Near Avalanche Location': 'crown', 'WL_Depth': 700.0, 'WL_Thickness': 20.0}, {'Slope Angle': '33', 'HS': 1550.0, 'Profile Depth': 1550.0, 'Pit Near Avalanche Location': 'crown', 'WL_Depth': 580.0, 'WL_Thickness': 10.0}, {'Slope Angle': '20', 'HS': 1500.0, 'Profile Depth': 1500.0, 'Pit Near Avalanche Location': 'flank', 'WL_Depth': 700.0, 'WL_Thickness': 20.0}, {'Slope Angle': '35', 'HS': 900.0, 'Profile Depth': 900.0, 'Pit Near Avalanche Location': 'crown', 'WL_Depth': 550.0, 'WL_Thickness': 30.0}, {'Slope Angle': '35', 'HS': 1100.0, 'Profile Depth': 1100.0, 'Pit Near Avalanche Location': 'flank', 'WL_Depth': 800.0, 'WL_Thickness': 200.0}, {'Slope Angle': '30', 'HS': 500.0, 'Profile Depth': 500.0, 'Pit Near Avalanche Location': 'flank', 'WL_Depth': 150.0, 'WL_Thickness': 40.0}, {'Slope Angle': '36', 'HS': 2080.0, 'Profile Depth': 2080.0, 'Pit Near Avalanche Location': 'crown', 'WL_Depth': 500.0, 'WL_Thickness': 70.0}, {'Slope Angle': '24', 'HS': 980.0, 'Profile Depth': 980.0, 'Pit Near Avalanche Location': 'crown', 'WL_Depth': 260.0, 'WL_Thickness': 10.0}, {'Slope Angle': 0.0, 'HS': 1210.0, 'Profile Depth': 1210.0, 'Pit Near Avalanche Location': 'crown', 'WL_Depth': 870.0, 'WL_Thickness': 30.0}, {'Slope Angle': '32', 'HS': 1050.0, 'Profile Depth': 1050.0, 'Pit Near Avalanche Location': 'other', 'WL_Depth': 20.0, 'WL_Thickness': 260.0}, {'Slope Angle': '5', 'HS': 910.0, 'Profile Depth': 910.0, 'Pit Near Avalanche Location': 'other', 'WL_Depth': 550.0, 'WL_Thickness': 360.0}, {'Slope Angle': 0.0, 'HS': 1200.0, 'Profile Depth': 1200.0, 'Pit Near Avalanche Location': 'crown', 'WL_Depth': 250.0, 'WL_Thickness': 10.0}, {'Slope Angle': '37', 'HS': 1250.0, 'Profile Depth': 1250.0, 'Pit Near Avalanche Location': 'flank', 'WL_Depth': 530.0, 'WL_Thickness': 20.0}, {'Slope Angle': '32', 'HS': 670.0, 'Profile Depth': 670.0, 'Pit Near Avalanche Location': None, 'WL_Depth': 270.0, 'WL_Thickness': 80.0}, {'Slope Angle': '35', 'HS': 3200.0, 'Profile Depth': 1200.0, 'Pit Near Avalanche Location': 'crown', 'WL_Depth': 440.0, 'WL_Thickness': 5.0}, {'Slope Angle': '39', 'HS': 890.0, 'Profile Depth': 890.0, 'Pit Near Avalanche Location': 'crown', 'WL_Depth': 650.0, 'WL_Thickness': 240.0}, {'Slope Angle': '36', 'HS': 1720.0, 'Profile Depth': 1720.0, 'Pit Near Avalanche Location': 'crown', 'WL_Depth': 250.0, 'WL_Thickness': 190.0}, {'Slope Angle': '30', 'HS': 390.0, 'Profile Depth': 390.0, 'Pit Near Avalanche Location': 'crown', 'WL_Depth': 270.0, 'WL_Thickness': 5.0}, {'Slope Angle': '20', 'HS': 1420.0, 'Profile Depth': 1420.0, 'Pit Near Avalanche Location': 'crown', 'WL_Depth': 370.0, 'WL_Thickness': 50.0}, {'Slope Angle': '34', 'HS': 1300.0, 'Profile Depth': 1300.0, 'Pit Near Avalanche Location': 'crown', 'WL_Depth': 900.0, 'WL_Thickness': 10.0}, {'Slope Angle': '40', 'HS': 3500.0, 'Profile Depth': 980.0, 'Pit Near Avalanche Location': 'other', 'WL_Depth': 960.0, 'WL_Thickness': 10.0}, {'Slope Angle': '40', 'HS': 2700.0, 'Profile Depth': 2700.0, 'Pit Near Avalanche Location': 'crown', 'WL_Depth': 350.0, 'WL_Thickness': 10.0}, {'Slope Angle': 0.0, 'HS': 1120.0, 'Profile Depth': 1120.0, 'Pit Near Avalanche Location': 'crown', 'WL_Depth': 570.0, 'WL_Thickness': 550.0}, {'Slope Angle': '36', 'HS': 1230.0, 'Profile Depth': 1230.0, 'Pit Near Avalanche Location': 'other', 'WL_Depth': 730.0, 'WL_Thickness': 50.0}, {'Slope Angle': '20', 'HS': 1950.0, 'Profile Depth': 1950.0, 'Pit Near Avalanche Location': 'other', 'WL_Depth': 280.0, 'WL_Thickness': 170.0}, {'Slope Angle': '34', 'HS': 1520.0, 'Profile Depth': 1520.0, 'Pit Near Avalanche Location': 'other', 'WL_Depth': 680.0, 'WL_Thickness': 80.0}, {'Slope Angle': 0.0, 'HS': 1140.0, 'Profile Depth': 1140.0, 'Pit Near Avalanche Location': 'flank', 'WL_Depth': 790.0, 'WL_Thickness': 50.0}, {'Slope Angle': '38', 'HS': 550.0, 'Profile Depth': 550.0, 'Pit Near Avalanche Location': 'flank', 'WL_Depth': 0.0, 'WL_Thickness': 50.0}, {'Slope Angle': '26', 'HS': 650.0, 'Profile Depth': 650.0, 'Pit Near Avalanche Location': 'other', 'WL_Depth': 200.0, 'WL_Thickness': 290.0}, {'Slope Angle': '40', 'HS': 1550.0, 'Profile Depth': 1550.0, 'Pit Near Avalanche Location': 'flank', 'WL_Depth': 450.0, 'WL_Thickness': 100.0}, {'Slope Angle': '25', 'HS': 5000.0, 'Profile Depth': 1000.0, 'Pit Near Avalanche Location': 'crown', 'WL_Depth': 70.0, 'WL_Thickness': 360.0}, {'Slope Angle': 0.0, 'HS': 2300.0, 'Profile Depth': 980.0, 'Pit Near Avalanche Location': None, 'WL_Depth': 500.0, 'WL_Thickness': 180.0}, {'Slope Angle': '39', 'HS': 1450.0, 'Profile Depth': 1450.0, 'Pit Near Avalanche Location': None, 'WL_Depth': 1030.0, 'WL_Thickness': 20.0}, {'Slope Angle': '25', 'HS': 1800.0, 'Profile Depth': 1800.0, 'Pit Near Avalanche Location': 'crown', 'WL_Depth': 60.0, 'WL_Thickness': 840.0}, {'Slope Angle': 0.0, 'HS': 2450.0, 'Profile Depth': 2450.0, 'Pit Near Avalanche Location': 'crown', 'WL_Depth': 2130.0, 'WL_Thickness': 20.0}, {'Slope Angle': '33', 'HS': 1330.0, 'Profile Depth': 1330.0, 'Pit Near Avalanche Location': 'crown', 'WL_Depth': 720.0, 'WL_Thickness': 10.0}, {'Slope Angle': '30', 'HS': 1470.0, 'Profile Depth': 1470.0, 'Pit Near Avalanche Location': 'other', 'WL_Depth': 920.0, 'WL_Thickness': 20.0}, {'Slope Angle': '38', 'HS': 1450.0, 'Profile Depth': 1450.0, 'Pit Near Avalanche Location': 'flank', 'WL_Depth': 1050.0, 'WL_Thickness': 50.0}, {'Slope Angle': 0.0, 'HS': None, 'Profile Depth': 1600.0, 'Pit Near Avalanche Location': 'crown', 'WL_Depth': 930.0, 'WL_Thickness': 70.0}, {'Slope Angle': '44', 'HS': 1760.0, 'Profile Depth': 1760.0, 'Pit Near Avalanche Location': 'crown', 'WL_Depth': 500.0, 'WL_Thickness': 10.0}, {'Slope Angle': '26', 'HS': 1490.0, 'Profile Depth': 1490.0, 'Pit Near Avalanche Location': 'other', 'WL_Depth': 280.0, 'WL_Thickness': 5.0}, {'Slope Angle': '32', 'HS': 1400.0, 'Profile Depth': 1400.0, 'Pit Near Avalanche Location': 'flank', 'WL_Depth': 1270.0, 'WL_Thickness': 130.0}, {'Slope Angle': '40', 'HS': 3000.0, 'Profile Depth': 3000.0, 'Pit Near Avalanche Location': 'crown', 'WL_Depth': 240.0, 'WL_Thickness': 20.0}, {'Slope Angle': '27', 'HS': 1750.0, 'Profile Depth': 1750.0, 'Pit Near Avalanche Location': 'crown', 'WL_Depth': 700.0, 'WL_Thickness': 20.0}, {'Slope Angle': '42', 'HS': 650.0, 'Profile Depth': 650.0, 'Pit Near Avalanche Location': 'other', 'WL_Depth': 500.0, 'WL_Thickness': 150.0}, {'Slope Angle': '23', 'HS': 2000.0, 'Profile Depth': 2000.0, 'Pit Near Avalanche Location': 'crown', 'WL_Depth': 940.0, 'WL_Thickness': 140.0}, {'Slope Angle': '41', 'HS': 950.0, 'Profile Depth': 950.0, 'Pit Near Avalanche Location': 'flank', 'WL_Depth': 600.0, 'WL_Thickness': 350.0}, {'Slope Angle': '32', 'HS': 2200.0, 'Profile Depth': 1400.0, 'Pit Near Avalanche Location': 'other', 'WL_Depth': 400.0, 'WL_Thickness': 5.0}, {'Slope Angle': '43', 'HS': 950.0, 'Profile Depth': 950.0, 'Pit Near Avalanche Location': 'crown', 'WL_Depth': 750.0, 'WL_Thickness': 50.0}, {'Slope Angle': '24', 'HS': 650.0, 'Profile Depth': 650.0, 'Pit Near Avalanche Location': 'crown', 'WL_Depth': 370.0, 'WL_Thickness': 30.0}, {'Slope Angle': '20', 'HS': 3800.0, 'Profile Depth': 1300.0, 'Pit Near Avalanche Location': None, 'WL_Depth': 820.0, 'WL_Thickness': 90.0}, {'Slope Angle': 0.0, 'HS': 390.0, 'Profile Depth': 390.0, 'Pit Near Avalanche Location': 'crown', 'WL_Depth': 290.0, 'WL_Thickness': 100.0}, {'Slope Angle': '10', 'HS': 1000.0, 'Profile Depth': 1000.0, 'Pit Near Avalanche Location': 'other', 'WL_Depth': 390.0, 'WL_Thickness': 40.0}, {'Slope Angle': '35', 'HS': 1550.0, 'Profile Depth': 1550.0, 'Pit Near Avalanche Location': 'crown', 'WL_Depth': 1002.5, 'WL_Thickness': 122.5}, {'Slope Angle': '15', 'HS': 900.0, 'Profile Depth': 900.0, 'Pit Near Avalanche Location': 'other', 'WL_Depth': 490.0, 'WL_Thickness': 90.0}, {'Slope Angle': '38', 'HS': 1170.0, 'Profile Depth': 1170.0, 'Pit Near Avalanche Location': 'crown', 'WL_Depth': 630.0, 'WL_Thickness': 90.0}, {'Slope Angle': '26', 'HS': 730.0, 'Profile Depth': 730.0, 'Pit Near Avalanche Location': 'other', 'WL_Depth': 330.0, 'WL_Thickness': 180.0}, {'Slope Angle': '10', 'HS': 2970.0, 'Profile Depth': 1000.0, 'Pit Near Avalanche Location': 'crown', 'WL_Depth': 600.0, 'WL_Thickness': 10.0}, {'Slope Angle': '41', 'HS': None, 'Profile Depth': 1750.0, 'Pit Near Avalanche Location': 'crown', 'WL_Depth': 650.0, 'WL_Thickness': 50.0}, {'Slope Angle': '29', 'HS': 650.0, 'Profile Depth': 650.0, 'Pit Near Avalanche Location': 'flank', 'WL_Depth': 330.0, 'WL_Thickness': 110.0}, {'Slope Angle': 0.0, 'HS': 1140.0, 'Profile Depth': 1140.0, 'Pit Near Avalanche Location': 'crown', 'WL_Depth': 740.0, 'WL_Thickness': 10.0}, {'Slope Angle': '23', 'HS': 1550.0, 'Profile Depth': 1550.0, 'Pit Near Avalanche Location': 'crown', 'WL_Depth': 0.0, 'WL_Thickness': 250.0}, {'Slope Angle': '32', 'HS': 960.0, 'Profile Depth': 960.0, 'Pit Near Avalanche Location': 'crown', 'WL_Depth': 520.0, 'WL_Thickness': 160.0}, {'Slope Angle': '33', 'HS': 1000.0, 'Profile Depth': 1000.0, 'Pit Near Avalanche Location': 'crown', 'WL_Depth': 500.0, 'WL_Thickness': 100.0}, {'Slope Angle': '25', 'HS': 680.0, 'Profile Depth': 680.0, 'Pit Near Avalanche Location': 'flank', 'WL_Depth': 230.0, 'WL_Thickness': 350.0}, {'Slope Angle': '40', 'HS': 750.0, 'Profile Depth': 750.0, 'Pit Near Avalanche Location': 'other', 'WL_Depth': 220.0, 'WL_Thickness': 20.0}, {'Slope Angle': '36', 'HS': 1200.0, 'Profile Depth': 1200.0, 'Pit Near Avalanche Location': 'flank', 'WL_Depth': 310.0, 'WL_Thickness': 10.0}, {'Slope Angle': 0.0, 'HS': 580.0, 'Profile Depth': 580.0, 'Pit Near Avalanche Location': 'crown', 'WL_Depth': 140.0, 'WL_Thickness': 60.0}, {'Slope Angle': '34', 'HS': 1060.0, 'Profile Depth': 1060.0, 'Pit Near Avalanche Location': 'crown', 'WL_Depth': 710.0, 'WL_Thickness': 120.0}, {'Slope Angle': '38', 'HS': 1800.0, 'Profile Depth': 1800.0, 'Pit Near Avalanche Location': None, 'WL_Depth': 150.0, 'WL_Thickness': 120.0}, {'Slope Angle': '10', 'HS': 1000.0, 'Profile Depth': 1000.0, 'Pit Near Avalanche Location': 'other', 'WL_Depth': 390.0, 'WL_Thickness': 40.0}, {'Slope Angle': '44', 'HS': 1140.0, 'Profile Depth': 1140.0, 'Pit Near Avalanche Location': 'crown', 'WL_Depth': 1000.0, 'WL_Thickness': 40.0}, {'Slope Angle': '30', 'HS': 900.0, 'Profile Depth': 900.0, 'Pit Near Avalanche Location': 'crown', 'WL_Depth': 430.0, 'WL_Thickness': 30.0}, {'Slope Angle': '10', 'HS': 1000.0, 'Profile Depth': 1000.0, 'Pit Near Avalanche Location': 'other', 'WL_Depth': 390.0, 'WL_Thickness': 40.0}, {'Slope Angle': '29', 'HS': 850.0, 'Profile Depth': 850.0, 'Pit Near Avalanche Location': 'crown', 'WL_Depth': 450.0, 'WL_Thickness': 250.0}, {'Slope Angle': 0.0, 'HS': 1200.0, 'Profile Depth': 1200.0, 'Pit Near Avalanche Location': 'flank', 'WL_Depth': 500.0, 'WL_Thickness': 10.0}, {'Slope Angle': '38', 'HS': 740.0, 'Profile Depth': 740.0, 'Pit Near Avalanche Location': 'crown', 'WL_Depth': 420.0, 'WL_Thickness': 30.0}, {'Slope Angle': '11', 'HS': 550.0, 'Profile Depth': 550.0, 'Pit Near Avalanche Location': 'other', 'WL_Depth': 270.0, 'WL_Thickness': 80.0}, {'Slope Angle': '37', 'HS': 1010.0, 'Profile Depth': 1010.0, 'Pit Near Avalanche Location': 'crown', 'WL_Depth': 740.0, 'WL_Thickness': 120.0}, {'Slope Angle': '15', 'HS': 900.0, 'Profile Depth': 900.0, 'Pit Near Avalanche Location': 'other', 'WL_Depth': 490.0, 'WL_Thickness': 90.0}, {'Slope Angle': '10', 'HS': 1000.0, 'Profile Depth': 1000.0, 'Pit Near Avalanche Location': None, 'WL_Depth': 390.0, 'WL_Thickness': 40.0}, {'Slope Angle': '39', 'HS': 700.0, 'Profile Depth': 700.0, 'Pit Near Avalanche Location': None, 'WL_Depth': 330.0, 'WL_Thickness': 20.0}, {'Slope Angle': '32', 'HS': 1570.0, 'Profile Depth': 1570.0, 'Pit Near Avalanche Location': 'crown', 'WL_Depth': 920.0, 'WL_Thickness': 150.0}, {'Slope Angle': '40', 'HS': 3500.0, 'Profile Depth': 3500.0, 'Pit Near Avalanche Location': 'flank', 'WL_Depth': 450.0, 'WL_Thickness': 40.0}, {'Slope Angle': '25', 'HS': 1380.0, 'Profile Depth': 1380.0, 'Pit Near Avalanche Location': 'other', 'WL_Depth': 1080.0, 'WL_Thickness': 300.0}, {'Slope Angle': '37', 'HS': 2150.0, 'Profile Depth': 2150.0, 'Pit Near Avalanche Location': 'flank', 'WL_Depth': 450.0, 'WL_Thickness': 150.0}, {'Slope Angle': '10', 'HS': 1000.0, 'Profile Depth': 1000.0, 'Pit Near Avalanche Location': 'other', 'WL_Depth': 390.0, 'WL_Thickness': 40.0}, {'Slope Angle': '36', 'HS': 1700.0, 'Profile Depth': 1700.0, 'Pit Near Avalanche Location': 'crown', 'WL_Depth': 950.0, 'WL_Thickness': 50.0}, {'Slope Angle': '21', 'HS': 1120.0, 'Profile Depth': 1120.0, 'Pit Near Avalanche Location': None, 'WL_Depth': 770.0, 'WL_Thickness': 90.0}, {'Slope Angle': '10', 'HS': 1000.0, 'Profile Depth': 1000.0, 'Pit Near Avalanche Location': 'other', 'WL_Depth': 390.0, 'WL_Thickness': 40.0}, {'Slope Angle': '23', 'HS': 1070.0, 'Profile Depth': 1070.0, 'Pit Near Avalanche Location': 'other', 'WL_Depth': 470.0, 'WL_Thickness': 100.0}, {'Slope Angle': '40', 'HS': 1280.0, 'Profile Depth': 1280.0, 'Pit Near Avalanche Location': 'crown', 'WL_Depth': 440.0, 'WL_Thickness': 20.0}, {'Slope Angle': '30', 'HS': 2600.0, 'Profile Depth': 2600.0, 'Pit Near Avalanche Location': 'crown', 'WL_Depth': 1350.0, 'WL_Thickness': 100.0}, {'Slope Angle': '30', 'HS': 780.0, 'Profile Depth': 780.0, 'Pit Near Avalanche Location': 'other', 'WL_Depth': 430.0, 'WL_Thickness': 20.0}, {'Slope Angle': '26', 'HS': 1230.0, 'Profile Depth': 1230.0, 'Pit Near Avalanche Location': 'crown', 'WL_Depth': 890.0, 'WL_Thickness': 90.0}, {'Slope Angle': '34', 'HS': 1300.0, 'Profile Depth': 1000.0, 'Pit Near Avalanche Location': 'crown', 'WL_Depth': 350.0, 'WL_Thickness': 10.0}, {'Slope Angle': '25', 'HS': 1070.0, 'Profile Depth': 1070.0, 'Pit Near Avalanche Location': 'other', 'WL_Depth': 220.0, 'WL_Thickness': 5.0}, {'Slope Angle': 0.0, 'HS': 760.0, 'Profile Depth': 760.0, 'Pit Near Avalanche Location': 'crown', 'WL_Depth': 340.0, 'WL_Thickness': 20.0}, {'Slope Angle': '15', 'HS': 900.0, 'Profile Depth': 900.0, 'Pit Near Avalanche Location': None, 'WL_Depth': 490.0, 'WL_Thickness': 90.0}, {'Slope Angle': '10', 'HS': 1000.0, 'Profile Depth': 1000.0, 'Pit Near Avalanche Location': 'other', 'WL_Depth': 390.0, 'WL_Thickness': 40.0}, {'Slope Angle': '32', 'HS': 910.0, 'Profile Depth': 910.0, 'Pit Near Avalanche Location': 'other', 'WL_Depth': 290.0, 'WL_Thickness': 30.0}, {'Slope Angle': '40', 'HS': 2000.0, 'Profile Depth': 2000.0, 'Pit Near Avalanche Location': 'crown', 'WL_Depth': 1180.0, 'WL_Thickness': 200.0}, {'Slope Angle': '15', 'HS': 900.0, 'Profile Depth': 900.0, 'Pit Near Avalanche Location': None, 'WL_Depth': 30.0, 'WL_Thickness': 160.0}, {'Slope Angle': '32', 'HS': 950.0, 'Profile Depth': 950.0, 'Pit Near Avalanche Location': 'flank', 'WL_Depth': 580.0, 'WL_Thickness': 20.0}, {'Slope Angle': '34', 'HS': 2150.0, 'Profile Depth': 2150.0, 'Pit Near Avalanche Location': 'crown', 'WL_Depth': 1460.0, 'WL_Thickness': 20.0}, {'Slope Angle': '24', 'HS': 740.0, 'Profile Depth': 740.0, 'Pit Near Avalanche Location': 'other', 'WL_Depth': 330.0, 'WL_Thickness': 70.0}, {'Slope Angle': '22', 'HS': 900.0, 'Profile Depth': 900.0, 'Pit Near Avalanche Location': 'crown', 'WL_Depth': 300.0, 'WL_Thickness': 100.0}, {'Slope Angle': '10', 'HS': 1000.0, 'Profile Depth': 1000.0, 'Pit Near Avalanche Location': 'other', 'WL_Depth': 390.0, 'WL_Thickness': 40.0}, {'Slope Angle': '18', 'HS': 1240.0, 'Profile Depth': 1240.0, 'Pit Near Avalanche Location': 'other', 'WL_Depth': 570.0, 'WL_Thickness': 150.0}, {'Slope Angle': '38', 'HS': 1460.0, 'Profile Depth': 1460.0, 'Pit Near Avalanche Location': 'crown', 'WL_Depth': 960.0, 'WL_Thickness': 500.0}, {'Slope Angle': '36', 'HS': 1000.0, 'Profile Depth': 1000.0, 'Pit Near Avalanche Location': 'crown', 'WL_Depth': 600.0, 'WL_Thickness': 100.0}, {'Slope Angle': '32', 'HS': 1200.0, 'Profile Depth': 900.0, 'Pit Near Avalanche Location': None, 'WL_Depth': 350.0, 'WL_Thickness': 30.0}, {'Slope Angle': '36', 'HS': 2000.0, 'Profile Depth': 750.0, 'Pit Near Avalanche Location': 'crown', 'WL_Depth': 400.0, 'WL_Thickness': 200.0}, {'Slope Angle': '28', 'HS': 1700.0, 'Profile Depth': 1700.0, 'Pit Near Avalanche Location': 'other', 'WL_Depth': 390.0, 'WL_Thickness': 10.0}, {'Slope Angle': '38', 'HS': 990.0, 'Profile Depth': 990.0, 'Pit Near Avalanche Location': 'crown', 'WL_Depth': 600.0, 'WL_Thickness': 390.0}, {'Slope Angle': '31', 'HS': 2700.0, 'Profile Depth': 2700.0, 'Pit Near Avalanche Location': 'crown', 'WL_Depth': 910.0, 'WL_Thickness': 20.0}, {'Slope Angle': '16', 'HS': 1250.0, 'Profile Depth': 1000.0, 'Pit Near Avalanche Location': 'flank', 'WL_Depth': 430.0, 'WL_Thickness': 10.0}, {'Slope Angle': '40', 'HS': None, 'Profile Depth': 1300.0, 'Pit Near Avalanche Location': 'crown', 'WL_Depth': 440.0, 'WL_Thickness': 20.0}, {'Slope Angle': '33', 'HS': 1100.0, 'Profile Depth': 1100.0, 'Pit Near Avalanche Location': 'flank', 'WL_Depth': 0.0, 'WL_Thickness': 300.0}, {'Slope Angle': '29', 'HS': 2050.0, 'Profile Depth': 1100.0, 'Pit Near Avalanche Location': 'flank', 'WL_Depth': 1000.0, 'WL_Thickness': 100.0}, {'Slope Angle': '37', 'HS': 1020.0, 'Profile Depth': 1020.0, 'Pit Near Avalanche Location': 'crown', 'WL_Depth': 250.0, 'WL_Thickness': 60.0}, {'Slope Angle': '41', 'HS': None, 'Profile Depth': 660.0, 'Pit Near Avalanche Location': 'crown', 'WL_Depth': 480.0, 'WL_Thickness': 50.0}, {'Slope Angle': '33', 'HS': 2400.0, 'Profile Depth': 2400.0, 'Pit Near Avalanche Location': 'other', 'WL_Depth': 1400.0, 'WL_Thickness': 5.0}, {'Slope Angle': '26', 'HS': 1370.0, 'Profile Depth': 1370.0, 'Pit Near Avalanche Location': None, 'WL_Depth': 440.0, 'WL_Thickness': 10.0}, {'Slope Angle': '28', 'HS': 900.0, 'Profile Depth': 900.0, 'Pit Near Avalanche Location': 'crown', 'WL_Depth': 410.0, 'WL_Thickness': 190.0}, {'Slope Angle': '10', 'HS': 1000.0, 'Profile Depth': 1000.0, 'Pit Near Avalanche Location': 'other', 'WL_Depth': 390.0, 'WL_Thickness': 40.0}, {'Slope Angle': '38', 'HS': 1400.0, 'Profile Depth': 1400.0, 'Pit Near Avalanche Location': 'crown', 'WL_Depth': 350.0, 'WL_Thickness': 40.0}, {'Slope Angle': '21', 'HS': 850.0, 'Profile Depth': 850.0, 'Pit Near Avalanche Location': 'flank', 'WL_Depth': 530.0, 'WL_Thickness': 320.0}, {'Slope Angle': '38', 'HS': 1000.0, 'Profile Depth': 1000.0, 'Pit Near Avalanche Location': None, 'WL_Depth': 700.0, 'WL_Thickness': 300.0}, {'Slope Angle': '32', 'HS': 1500.0, 'Profile Depth': 1500.0, 'Pit Near Avalanche Location': 'crown', 'WL_Depth': 700.0, 'WL_Thickness': 70.0}, {'Slope Angle': '32', 'HS': 950.0, 'Profile Depth': 950.0, 'Pit Near Avalanche Location': 'flank', 'WL_Depth': 900.0, 'WL_Thickness': 50.0}, {'Slope Angle': '34', 'HS': 1330.0, 'Profile Depth': 1330.0, 'Pit Near Avalanche Location': 'crown', 'WL_Depth': 480.0, 'WL_Thickness': 10.0}, {'Slope Angle': '18', 'HS': 1240.0, 'Profile Depth': 1240.0, 'Pit Near Avalanche Location': 'other', 'WL_Depth': 290.0, 'WL_Thickness': 280.0}, {'Slope Angle': '6', 'HS': 840.0, 'Profile Depth': 840.0, 'Pit Near Avalanche Location': 'other', 'WL_Depth': 410.0, 'WL_Thickness': 20.0}, {'Slope Angle': '38', 'HS': None, 'Profile Depth': 400.0, 'Pit Near Avalanche Location': None, 'WL_Depth': 300.0, 'WL_Thickness': 50.0}, {'Slope Angle': 0.0, 'HS': 1410.0, 'Profile Depth': 1410.0, 'Pit Near Avalanche Location': 'flank', 'WL_Depth': 910.0, 'WL_Thickness': 500.0}, {'Slope Angle': '32', 'HS': None, 'Profile Depth': 1000.0, 'Pit Near Avalanche Location': 'flank', 'WL_Depth': 500.0, 'WL_Thickness': 400.0}, {'Slope Angle': '32', 'HS': None, 'Profile Depth': 1600.0, 'Pit Near Avalanche Location': 'crown', 'WL_Depth': 1410.0, 'WL_Thickness': 10.0}, {'Slope Angle': '26', 'HS': None, 'Profile Depth': 2600.0, 'Pit Near Avalanche Location': None, 'WL_Depth': 800.0, 'WL_Thickness': 20.0}, {'Slope Angle': '36', 'HS': 1210.0, 'Profile Depth': 1210.0, 'Pit Near Avalanche Location': None, 'WL_Depth': 580.0, 'WL_Thickness': 220.0}, {'Slope Angle': '28', 'HS': 1100.0, 'Profile Depth': 1100.0, 'Pit Near Avalanche Location': 'flank', 'WL_Depth': 270.0, 'WL_Thickness': 110.0}, {'Slope Angle': '32', 'HS': 700.0, 'Profile Depth': 700.0, 'Pit Near Avalanche Location': 'crown', 'WL_Depth': 420.0, 'WL_Thickness': 280.0}, {'Slope Angle': '25', 'HS': 1150.0, 'Profile Depth': 1150.0, 'Pit Near Avalanche Location': 'other', 'WL_Depth': 25.0, 'WL_Thickness': 10.0}, {'Slope Angle': '32', 'HS': 2000.0, 'Profile Depth': 2000.0, 'Pit Near Avalanche Location': 'crown', 'WL_Depth': 450.0, 'WL_Thickness': 300.0}, {'Slope Angle': '32', 'HS': 2600.0, 'Profile Depth': 2600.0, 'Pit Near Avalanche Location': 'flank', 'WL_Depth': 1170.0, 'WL_Thickness': 5.0}, {'Slope Angle': 0.0, 'HS': 1700.0, 'Profile Depth': 1700.0, 'Pit Near Avalanche Location': None, 'WL_Depth': 800.0, 'WL_Thickness': 50.0}, {'Slope Angle': '37', 'HS': 1010.0, 'Profile Depth': 1010.0, 'Pit Near Avalanche Location': 'crown', 'WL_Depth': 480.0, 'WL_Thickness': 20.0}, {'Slope Angle': '38', 'HS': 1110.0, 'Profile Depth': 1110.0, 'Pit Near Avalanche Location': 'crown', 'WL_Depth': 700.0, 'WL_Thickness': 30.0}, {'Slope Angle': '31', 'HS': 600.0, 'Profile Depth': 600.0, 'Pit Near Avalanche Location': 'crown', 'WL_Depth': 240.0, 'WL_Thickness': 190.0}, {'Slope Angle': '35', 'HS': 1050.0, 'Profile Depth': 1050.0, 'Pit Near Avalanche Location': 'crown', 'WL_Depth': 550.0, 'WL_Thickness': 50.0}, {'Slope Angle': '41', 'HS': 680.0, 'Profile Depth': 680.0, 'Pit Near Avalanche Location': 'flank', 'WL_Depth': 200.0, 'WL_Thickness': 40.0}, {'Slope Angle': '32', 'HS': 1600.0, 'Profile Depth': 1100.0, 'Pit Near Avalanche Location': 'crown', 'WL_Depth': 50.0, 'WL_Thickness': 100.0}, {'Slope Angle': '21', 'HS': 1120.0, 'Profile Depth': 1120.0, 'Pit Near Avalanche Location': None, 'WL_Depth': 860.0, 'WL_Thickness': 260.0}, {'Slope Angle': '29', 'HS': 750.0, 'Profile Depth': 750.0, 'Pit Near Avalanche Location': 'other', 'WL_Depth': 160.0, 'WL_Thickness': 50.0}, {'Slope Angle': '44', 'HS': 540.0, 'Profile Depth': 540.0, 'Pit Near Avalanche Location': None, 'WL_Depth': 250.0, 'WL_Thickness': 30.0}, {'Slope Angle': '28', 'HS': 1360.0, 'Profile Depth': 1360.0, 'Pit Near Avalanche Location': None, 'WL_Depth': 650.0, 'WL_Thickness': 10.0}, {'Slope Angle': '30', 'HS': 1200.0, 'Profile Depth': 1200.0, 'Pit Near Avalanche Location': 'crown', 'WL_Depth': 700.0, 'WL_Thickness': 500.0}, {'Slope Angle': '32', 'HS': 700.0, 'Profile Depth': 700.0, 'Pit Near Avalanche Location': 'other', 'WL_Depth': 180.0, 'WL_Thickness': 60.0}, {'Slope Angle': '30', 'HS': 1500.0, 'Profile Depth': 1500.0, 'Pit Near Avalanche Location': 'flank', 'WL_Depth': 1112.0, 'WL_Thickness': 108.0}, {'Slope Angle': '35', 'HS': 1000.0, 'Profile Depth': 1000.0, 'Pit Near Avalanche Location': 'flank', 'WL_Depth': 650.0, 'WL_Thickness': 250.0}, {'Slope Angle': '30', 'HS': 1050.0, 'Profile Depth': 1050.0, 'Pit Near Avalanche Location': 'crown', 'WL_Depth': 400.0, 'WL_Thickness': 450.0}, {'Slope Angle': '38', 'HS': 1230.0, 'Profile Depth': 1230.0, 'Pit Near Avalanche Location': 'flank', 'WL_Depth': 850.0, 'WL_Thickness': 80.0}, {'Slope Angle': '25', 'HS': 1500.0, 'Profile Depth': 1500.0, 'Pit Near Avalanche Location': 'crown', 'WL_Depth': 850.0, 'WL_Thickness': 70.0}, {'Slope Angle': '36', 'HS': 1590.0, 'Profile Depth': 1590.0, 'Pit Near Avalanche Location': 'crown', 'WL_Depth': 410.0, 'WL_Thickness': 40.0}, {'Slope Angle': '10', 'HS': 1000.0, 'Profile Depth': 1000.0, 'Pit Near Avalanche Location': 'other', 'WL_Depth': 390.0, 'WL_Thickness': 40.0}, {'Slope Angle': 0.0, 'HS': 650.0, 'Profile Depth': 650.0, 'Pit Near Avalanche Location': 'other', 'WL_Depth': 350.0, 'WL_Thickness': 250.0}, {'Slope Angle': '33', 'HS': 1500.0, 'Profile Depth': 1500.0, 'Pit Near Avalanche Location': 'crown', 'WL_Depth': 800.0, 'WL_Thickness': 190.0}, {'Slope Angle': '25', 'HS': 1440.0, 'Profile Depth': 1440.0, 'Pit Near Avalanche Location': 'flank', 'WL_Depth': 810.0, 'WL_Thickness': 30.0}, {'Slope Angle': '38', 'HS': 5000.0, 'Profile Depth': 5000.0, 'Pit Near Avalanche Location': 'flank', 'WL_Depth': 800.0, 'WL_Thickness': 10.0}, {'Slope Angle': '39', 'HS': 3000.0, 'Profile Depth': 1600.0, 'Pit Near Avalanche Location': 'crown', 'WL_Depth': 600.0, 'WL_Thickness': 20.0}, {'Slope Angle': '10', 'HS': 1000.0, 'Profile Depth': 1000.0, 'Pit Near Avalanche Location': 'other', 'WL_Depth': 390.0, 'WL_Thickness': 40.0}, {'Slope Angle': '36', 'HS': 1550.0, 'Profile Depth': 1090.0, 'Pit Near Avalanche Location': 'flank', 'WL_Depth': 370.0, 'WL_Thickness': 10.0}, {'Slope Angle': '30', 'HS': 1030.0, 'Profile Depth': 1030.0, 'Pit Near Avalanche Location': 'other', 'WL_Depth': 400.0, 'WL_Thickness': 10.0}, {'Slope Angle': '30', 'HS': None, 'Profile Depth': 2000.0, 'Pit Near Avalanche Location': 'crown', 'WL_Depth': 500.0, 'WL_Thickness': 50.0}, {'Slope Angle': '31', 'HS': 950.0, 'Profile Depth': 950.0, 'Pit Near Avalanche Location': 'flank', 'WL_Depth': 470.0, 'WL_Thickness': 120.0}, {'Slope Angle': '25', 'HS': 1200.0, 'Profile Depth': 1200.0, 'Pit Near Avalanche Location': None, 'WL_Depth': 920.0, 'WL_Thickness': 280.0}, {'Slope Angle': 0.0, 'HS': 1750.0, 'Profile Depth': 1750.0, 'Pit Near Avalanche Location': 'flank', 'WL_Depth': 1300.0, 'WL_Thickness': 450.0}, {'Slope Angle': '27', 'HS': 3750.0, 'Profile Depth': 3750.0, 'Pit Near Avalanche Location': 'crown', 'WL_Depth': 1300.0, 'WL_Thickness': 20.0}, {'Slope Angle': '35', 'HS': 1600.0, 'Profile Depth': 1600.0, 'Pit Near Avalanche Location': 'crown', 'WL_Depth': 840.0, 'WL_Thickness': 10.0}, {'Slope Angle': '35', 'HS': None, 'Profile Depth': 380.0, 'Pit Near Avalanche Location': 'crown', 'WL_Depth': 300.0, 'WL_Thickness': 30.0}, {'Slope Angle': 0.0, 'HS': 680.0, 'Profile Depth': 680.0, 'Pit Near Avalanche Location': 'other', 'WL_Depth': 320.0, 'WL_Thickness': 200.0}, {'Slope Angle': 0.0, 'HS': 1270.0, 'Profile Depth': 1270.0, 'Pit Near Avalanche Location': 'crown', 'WL_Depth': 740.0, 'WL_Thickness': 530.0}, {'Slope Angle': '34', 'HS': 700.0, 'Profile Depth': 700.0, 'Pit Near Avalanche Location': 'other', 'WL_Depth': 270.0, 'WL_Thickness': 180.0}, {'Slope Angle': '26', 'HS': 600.0, 'Profile Depth': 600.0, 'Pit Near Avalanche Location': 'other', 'WL_Depth': 100.0, 'WL_Thickness': 170.0}, {'Slope Angle': '27', 'HS': 1190.0, 'Profile Depth': 1190.0, 'Pit Near Avalanche Location': 'crown', 'WL_Depth': 990.0, 'WL_Thickness': 100.0}, {'Slope Angle': '24', 'HS': 600.0, 'Profile Depth': 600.0, 'Pit Near Avalanche Location': 'other', 'WL_Depth': 290.0, 'WL_Thickness': 220.0}, {'Slope Angle': '10', 'HS': 1000.0, 'Profile Depth': 1000.0, 'Pit Near Avalanche Location': 'other', 'WL_Depth': 390.0, 'WL_Thickness': 40.0}, {'Slope Angle': '31', 'HS': 1400.0, 'Profile Depth': 1400.0, 'Pit Near Avalanche Location': None, 'WL_Depth': 990.0, 'WL_Thickness': 20.0}, {'Slope Angle': '25', 'HS': 4550.0, 'Profile Depth': 4550.0, 'Pit Near Avalanche Location': 'other', 'WL_Depth': 0.0, 'WL_Thickness': 150.0}, {'Slope Angle': '38', 'HS': 1500.0, 'Profile Depth': 1500.0, 'Pit Near Avalanche Location': 'flank', 'WL_Depth': 470.0, 'WL_Thickness': 10.0}, {'Slope Angle': '10', 'HS': 1000.0, 'Profile Depth': 1000.0, 'Pit Near Avalanche Location': 'other', 'WL_Depth': 390.0, 'WL_Thickness': 40.0}, {'Slope Angle': '35', 'HS': 1550.0, 'Profile Depth': 1550.0, 'Pit Near Avalanche Location': 'crown', 'WL_Depth': 930.0, 'WL_Thickness': 10.0}, {'Slope Angle': '25', 'HS': 2650.0, 'Profile Depth': 1450.0, 'Pit Near Avalanche Location': None, 'WL_Depth': 670.0, 'WL_Thickness': 30.0}, {'Slope Angle': '10', 'HS': 1000.0, 'Profile Depth': 1000.0, 'Pit Near Avalanche Location': None, 'WL_Depth': 390.0, 'WL_Thickness': 40.0}, {'Slope Angle': 0.0, 'HS': 1000.0, 'Profile Depth': 1000.0, 'Pit Near Avalanche Location': 'other', 'WL_Depth': 390.0, 'WL_Thickness': 40.0}, {'Slope Angle': '32', 'HS': 6000.0, 'Profile Depth': 1200.0, 'Pit Near Avalanche Location': 'crown', 'WL_Depth': 590.0, 'WL_Thickness': 220.0}, {'Slope Angle': '30', 'HS': 1450.0, 'Profile Depth': 1450.0, 'Pit Near Avalanche Location': 'flank', 'WL_Depth': 450.0, 'WL_Thickness': 300.0}, {'Slope Angle': 0.0, 'HS': 600.0, 'Profile Depth': 600.0, 'Pit Near Avalanche Location': 'flank', 'WL_Depth': 210.0, 'WL_Thickness': 130.0}, {'Slope Angle': '36', 'HS': 1050.0, 'Profile Depth': 1050.0, 'Pit Near Avalanche Location': 'flank', 'WL_Depth': 600.0, 'WL_Thickness': 350.0}, {'Slope Angle': '35', 'HS': 2050.0, 'Profile Depth': 2050.0, 'Pit Near Avalanche Location': 'crown', 'WL_Depth': 1320.0, 'WL_Thickness': 60.0}, {'Slope Angle': '35', 'HS': 930.0, 'Profile Depth': 930.0, 'Pit Near Avalanche Location': 'crown', 'WL_Depth': 720.0, 'WL_Thickness': 160.0}, {'Slope Angle': '33', 'HS': 1750.0, 'Profile Depth': 1750.0, 'Pit Near Avalanche Location': 'flank', 'WL_Depth': 900.0, 'WL_Thickness': 30.0}, {'Slope Angle': '9', 'HS': 810.0, 'Profile Depth': 810.0, 'Pit Near Avalanche Location': 'other', 'WL_Depth': 500.0, 'WL_Thickness': 60.0}, {'Slope Angle': '15', 'HS': 900.0, 'Profile Depth': 900.0, 'Pit Near Avalanche Location': 'other', 'WL_Depth': 30.0, 'WL_Thickness': 160.0}, {'Slope Angle': '31', 'HS': 1630.0, 'Profile Depth': 1630.0, 'Pit Near Avalanche Location': 'crown', 'WL_Depth': 630.0, 'WL_Thickness': 50.0}, {'Slope Angle': '35', 'HS': 1500.0, 'Profile Depth': 1500.0, 'Pit Near Avalanche Location': 'crown', 'WL_Depth': 1070.0, 'WL_Thickness': 20.0}, {'Slope Angle': '21', 'HS': 1120.0, 'Profile Depth': 1120.0, 'Pit Near Avalanche Location': None, 'WL_Depth': 770.0, 'WL_Thickness': 90.0}, {'Slope Angle': '10', 'HS': 1000.0, 'Profile Depth': 1000.0, 'Pit Near Avalanche Location': 'other', 'WL_Depth': 390.0, 'WL_Thickness': 40.0}, {'Slope Angle': '38', 'HS': 2090.0, 'Profile Depth': 2090.0, 'Pit Near Avalanche Location': None, 'WL_Depth': 760.0, 'WL_Thickness': 150.0}, {'Slope Angle': 0.0, 'HS': 1260.0, 'Profile Depth': 1260.0, 'Pit Near Avalanche Location': 'flank', 'WL_Depth': 430.0, 'WL_Thickness': 220.0}, {'Slope Angle': '32', 'HS': 840.0, 'Profile Depth': 840.0, 'Pit Near Avalanche Location': None, 'WL_Depth': 110.0, 'WL_Thickness': 90.0}, {'Slope Angle': '35', 'HS': 2800.0, 'Profile Depth': 2800.0, 'Pit Near Avalanche Location': 'other', 'WL_Depth': 570.0, 'WL_Thickness': 50.0}, {'Slope Angle': '40', 'HS': 2860.0, 'Profile Depth': 2860.0, 'Pit Near Avalanche Location': 'crown', 'WL_Depth': 960.0, 'WL_Thickness': 40.0}, {'Slope Angle': '25', 'HS': None, 'Profile Depth': 1500.0, 'Pit Near Avalanche Location': None, 'WL_Depth': 1390.0, 'WL_Thickness': 110.0}, {'Slope Angle': '30', 'HS': None, 'Profile Depth': 1000.0, 'Pit Near Avalanche Location': 'crown', 'WL_Depth': 440.0, 'WL_Thickness': 60.0}, {'Slope Angle': '32', 'HS': 1450.0, 'Profile Depth': 1450.0, 'Pit Near Avalanche Location': 'crown', 'WL_Depth': 970.0, 'WL_Thickness': 30.0}, {'Slope Angle': '40', 'HS': 1180.0, 'Profile Depth': 1180.0, 'Pit Near Avalanche Location': 'crown', 'WL_Depth': 800.0, 'WL_Thickness': 20.0}, {'Slope Angle': '35', 'HS': 3000.0, 'Profile Depth': 3000.0, 'Pit Near Avalanche Location': 'crown', 'WL_Depth': 1250.0, 'WL_Thickness': 50.0}, {'Slope Angle': '10', 'HS': 1000.0, 'Profile Depth': 1000.0, 'Pit Near Avalanche Location': 'other', 'WL_Depth': 390.0, 'WL_Thickness': 40.0}, {'Slope Angle': '27', 'HS': 1000.0, 'Profile Depth': 1000.0, 'Pit Near Avalanche Location': 'flank', 'WL_Depth': 820.0, 'WL_Thickness': 30.0}, {'Slope Angle': '35', 'HS': 850.0, 'Profile Depth': 850.0, 'Pit Near Avalanche Location': 'crown', 'WL_Depth': 480.0, 'WL_Thickness': 30.0}, {'Slope Angle': '35', 'HS': 950.0, 'Profile Depth': 950.0, 'Pit Near Avalanche Location': 'crown', 'WL_Depth': 650.0, 'WL_Thickness': 20.0}, {'Slope Angle': '15', 'HS': 900.0, 'Profile Depth': 900.0, 'Pit Near Avalanche Location': 'other', 'WL_Depth': 490.0, 'WL_Thickness': 90.0}, {'Slope Angle': '36', 'HS': 1200.0, 'Profile Depth': 1200.0, 'Pit Near Avalanche Location': 'flank', 'WL_Depth': 310.0, 'WL_Thickness': 10.0}, {'Slope Angle': '27', 'HS': 1300.0, 'Profile Depth': 1300.0, 'Pit Near Avalanche Location': 'crown', 'WL_Depth': 780.0, 'WL_Thickness': 110.0}, {'Slope Angle': '15', 'HS': 900.0, 'Profile Depth': 900.0, 'Pit Near Avalanche Location': 'other', 'WL_Depth': 190.0, 'WL_Thickness': 140.0}, {'Slope Angle': '32', 'HS': 430.0, 'Profile Depth': 430.0, 'Pit Near Avalanche Location': 'other', 'WL_Depth': 240.0, 'WL_Thickness': 90.0}, {'Slope Angle': '42', 'HS': 1200.0, 'Profile Depth': 1200.0, 'Pit Near Avalanche Location': 'crown', 'WL_Depth': 500.0, 'WL_Thickness': 10.0}, {'Slope Angle': '35', 'HS': 1410.0, 'Profile Depth': 1410.0, 'Pit Near Avalanche Location': 'flank', 'WL_Depth': 730.0, 'WL_Thickness': 350.0}, {'Slope Angle': '37', 'HS': 860.0, 'Profile Depth': 860.0, 'Pit Near Avalanche Location': 'crown', 'WL_Depth': 500.0, 'WL_Thickness': 100.0}, {'Slope Angle': '35', 'HS': 750.0, 'Profile Depth': 750.0, 'Pit Near Avalanche Location': 'crown', 'WL_Depth': 510.0, 'WL_Thickness': 20.0}, {'Slope Angle': '40', 'HS': 1130.0, 'Profile Depth': 1130.0, 'Pit Near Avalanche Location': 'crown', 'WL_Depth': 1010.0, 'WL_Thickness': 120.0}, {'Slope Angle': '37', 'HS': 2700.0, 'Profile Depth': 1000.0, 'Pit Near Avalanche Location': 'crown', 'WL_Depth': 670.0, 'WL_Thickness': 10.0}, {'Slope Angle': '42', 'HS': 920.0, 'Profile Depth': 920.0, 'Pit Near Avalanche Location': 'crown', 'WL_Depth': 440.0, 'WL_Thickness': 30.0}, {'Slope Angle': 0.0, 'HS': 1430.0, 'Profile Depth': 1430.0, 'Pit Near Avalanche Location': 'crown', 'WL_Depth': 950.0, 'WL_Thickness': 480.0}, {'Slope Angle': 0.0, 'HS': 1000.0, 'Profile Depth': 1000.0, 'Pit Near Avalanche Location': 'crown', 'WL_Depth': 560.0, 'WL_Thickness': 60.0}, {'Slope Angle': '30', 'HS': 750.0, 'Profile Depth': 750.0, 'Pit Near Avalanche Location': 'flank', 'WL_Depth': 400.0, 'WL_Thickness': 350.0}, {'Slope Angle': '45', 'HS': 900.0, 'Profile Depth': 900.0, 'Pit Near Avalanche Location': 'crown', 'WL_Depth': 330.0, 'WL_Thickness': 10.0}, {'Slope Angle': '33', 'HS': 1380.0, 'Profile Depth': 1380.0, 'Pit Near Avalanche Location': 'flank', 'WL_Depth': 230.0, 'WL_Thickness': 10.0}, {'Slope Angle': '30', 'HS': 2650.0, 'Profile Depth': 2650.0, 'Pit Near Avalanche Location': 'crown', 'WL_Depth': 380.0, 'WL_Thickness': 350.0}, {'Slope Angle': '37', 'HS': 1000.0, 'Profile Depth': 1000.0, 'Pit Near Avalanche Location': 'other', 'WL_Depth': 450.0, 'WL_Thickness': 450.0}, {'Slope Angle': '37', 'HS': 1550.0, 'Profile Depth': 1550.0, 'Pit Near Avalanche Location': 'crown', 'WL_Depth': 650.0, 'WL_Thickness': 10.0}, {'Slope Angle': '36', 'HS': 1080.0, 'Profile Depth': 1080.0, 'Pit Near Avalanche Location': 'crown', 'WL_Depth': 530.0, 'WL_Thickness': 140.0}, {'Slope Angle': '38', 'HS': 1450.0, 'Profile Depth': 1450.0, 'Pit Near Avalanche Location': 'crown', 'WL_Depth': 850.0, 'WL_Thickness': 350.0}, {'Slope Angle': '39', 'HS': 1830.0, 'Profile Depth': 1830.0, 'Pit Near Avalanche Location': 'crown', 'WL_Depth': 280.0, 'WL_Thickness': 200.0}, {'Slope Angle': '32', 'HS': 810.0, 'Profile Depth': 810.0, 'Pit Near Avalanche Location': None, 'WL_Depth': 470.0, 'WL_Thickness': 340.0}, {'Slope Angle': '25', 'HS': 1020.0, 'Profile Depth': 1020.0, 'Pit Near Avalanche Location': 'crown', 'WL_Depth': 260.0, 'WL_Thickness': 50.0}, {'Slope Angle': '15', 'HS': 900.0, 'Profile Depth': 900.0, 'Pit Near Avalanche Location': 'other', 'WL_Depth': 490.0, 'WL_Thickness': 90.0}, {'Slope Angle': '36', 'HS': 840.0, 'Profile Depth': 840.0, 'Pit Near Avalanche Location': 'crown', 'WL_Depth': 640.0, 'WL_Thickness': 200.0}, {'Slope Angle': '24', 'HS': 540.0, 'Profile Depth': 540.0, 'Pit Near Avalanche Location': 'flank', 'WL_Depth': 330.0, 'WL_Thickness': 80.0}, {'Slope Angle': '28', 'HS': 3270.0, 'Profile Depth': 3270.0, 'Pit Near Avalanche Location': 'flank', 'WL_Depth': 320.0, 'WL_Thickness': 90.0}, {'Slope Angle': 0.0, 'HS': 1450.0, 'Profile Depth': 1450.0, 'Pit Near Avalanche Location': 'flank', 'WL_Depth': 630.0, 'WL_Thickness': 100.0}, {'Slope Angle': '33', 'HS': 1420.0, 'Profile Depth': 1420.0, 'Pit Near Avalanche Location': 'crown', 'WL_Depth': 1040.0, 'WL_Thickness': 30.0}, {'Slope Angle': '25', 'HS': 2380.0, 'Profile Depth': 2380.0, 'Pit Near Avalanche Location': 'crown', 'WL_Depth': 500.0, 'WL_Thickness': 10.0}, {'Slope Angle': '38', 'HS': 1300.0, 'Profile Depth': 1300.0, 'Pit Near Avalanche Location': 'crown', 'WL_Depth': 450.0, 'WL_Thickness': 20.0}, {'Slope Angle': '34', 'HS': 1420.0, 'Profile Depth': 1420.0, 'Pit Near Avalanche Location': 'crown', 'WL_Depth': 680.0, 'WL_Thickness': 260.0}, {'Slope Angle': '44', 'HS': 1350.0, 'Profile Depth': 1350.0, 'Pit Near Avalanche Location': None, 'WL_Depth': 1200.0, 'WL_Thickness': 150.0}, {'Slope Angle': '33', 'HS': 1460.0, 'Profile Depth': 1460.0, 'Pit Near Avalanche Location': 'crown', 'WL_Depth': 640.0, 'WL_Thickness': 10.0}, {'Slope Angle': '35', 'HS': 3600.0, 'Profile Depth': 3600.0, 'Pit Near Avalanche Location': 'crown', 'WL_Depth': 2260.0, 'WL_Thickness': 30.0}, {'Slope Angle': '35', 'HS': 3900.0, 'Profile Depth': 3900.0, 'Pit Near Avalanche Location': 'other', 'WL_Depth': 220.0, 'WL_Thickness': 20.0}, {'Slope Angle': '30', 'HS': 2100.0, 'Profile Depth': 2100.0, 'Pit Near Avalanche Location': None, 'WL_Depth': 335.0, 'WL_Thickness': 5.0}, {'Slope Angle': '24', 'HS': 1600.0, 'Profile Depth': 1600.0, 'Pit Near Avalanche Location': 'other', 'WL_Depth': 1100.0, 'WL_Thickness': 500.0}, {'Slope Angle': '36', 'HS': 1450.0, 'Profile Depth': 1450.0, 'Pit Near Avalanche Location': 'flank', 'WL_Depth': 1330.0, 'WL_Thickness': 120.0}, {'Slope Angle': '37', 'HS': 2580.0, 'Profile Depth': 2580.0, 'Pit Near Avalanche Location': 'flank', 'WL_Depth': 1090.0, 'WL_Thickness': 60.0}, {'Slope Angle': '25', 'HS': 2400.0, 'Profile Depth': 800.0, 'Pit Near Avalanche Location': 'other', 'WL_Depth': 380.0, 'WL_Thickness': 20.0}, {'Slope Angle': '33', 'HS': 1500.0, 'Profile Depth': 1500.0, 'Pit Near Avalanche Location': 'flank', 'WL_Depth': 500.0, 'WL_Thickness': 10.0}, {'Slope Angle': '27', 'HS': 1440.0, 'Profile Depth': 1440.0, 'Pit Near Avalanche Location': 'crown', 'WL_Depth': 560.0, 'WL_Thickness': 30.0}, {'Slope Angle': '25', 'HS': 1170.0, 'Profile Depth': 1170.0, 'Pit Near Avalanche Location': 'crown', 'WL_Depth': 640.0, 'WL_Thickness': 10.0}, {'Slope Angle': 0.0, 'HS': None, 'Profile Depth': 2000.0, 'Pit Near Avalanche Location': 'crown', 'WL_Depth': 1800.0, 'WL_Thickness': 30.0}, {'Slope Angle': '37', 'HS': 2430.0, 'Profile Depth': 2430.0, 'Pit Near Avalanche Location': 'crown', 'WL_Depth': 800.0, 'WL_Thickness': 10.0}, {'Slope Angle': '25', 'HS': 1300.0, 'Profile Depth': 1300.0, 'Pit Near Avalanche Location': 'other', 'WL_Depth': 260.0, 'WL_Thickness': 20.0}, {'Slope Angle': '31', 'HS': 1200.0, 'Profile Depth': 1200.0, 'Pit Near Avalanche Location': 'other', 'WL_Depth': 200.0, 'WL_Thickness': 200.0}, {'Slope Angle': '46', 'HS': 1720.0, 'Profile Depth': 1720.0, 'Pit Near Avalanche Location': 'crown', 'WL_Depth': 679.0, 'WL_Thickness': 1.0}, {'Slope Angle': '35', 'HS': 1180.0, 'Profile Depth': 1180.0, 'Pit Near Avalanche Location': 'crown', 'WL_Depth': 430.0, 'WL_Thickness': 10.0}, {'Slope Angle': '30', 'HS': 2200.0, 'Profile Depth': 2200.0, 'Pit Near Avalanche Location': 'flank', 'WL_Depth': 700.0, 'WL_Thickness': 50.0}, {'Slope Angle': 0.0, 'HS': 1350.0, 'Profile Depth': 1350.0, 'Pit Near Avalanche Location': 'flank', 'WL_Depth': 1100.0, 'WL_Thickness': 250.0}, {'Slope Angle': '34', 'HS': 1200.0, 'Profile Depth': 1200.0, 'Pit Near Avalanche Location': 'crown', 'WL_Depth': 1100.0, 'WL_Thickness': 100.0}, {'Slope Angle': '20', 'HS': 970.0, 'Profile Depth': 970.0, 'Pit Near Avalanche Location': 'flank', 'WL_Depth': 470.0, 'WL_Thickness': 30.0}, {'Slope Angle': 0.0, 'HS': 1900.0, 'Profile Depth': 1900.0, 'Pit Near Avalanche Location': 'flank', 'WL_Depth': 250.0, 'WL_Thickness': 130.0}, {'Slope Angle': '36', 'HS': 2040.0, 'Profile Depth': 2040.0, 'Pit Near Avalanche Location': 'crown', 'WL_Depth': 450.0, 'WL_Thickness': 50.0}, {'Slope Angle': '30', 'HS': 450.0, 'Profile Depth': 450.0, 'Pit Near Avalanche Location': 'crown', 'WL_Depth': 410.0, 'WL_Thickness': 40.0}, {'Slope Angle': '25', 'HS': 1780.0, 'Profile Depth': 800.0, 'Pit Near Avalanche Location': 'crown', 'WL_Depth': 350.0, 'WL_Thickness': 150.0}, {'Slope Angle': '40', 'HS': 1800.0, 'Profile Depth': 1000.0, 'Pit Near Avalanche Location': None, 'WL_Depth': 300.0, 'WL_Thickness': 10.0}, {'Slope Angle': '37', 'HS': 1650.0, 'Profile Depth': 1650.0, 'Pit Near Avalanche Location': 'crown', 'WL_Depth': 650.0, 'WL_Thickness': 10.0}, {'Slope Angle': '47', 'HS': 2400.0, 'Profile Depth': 2000.0, 'Pit Near Avalanche Location': 'other', 'WL_Depth': 600.0, 'WL_Thickness': 20.0}, {'Slope Angle': '42', 'HS': 2490.0, 'Profile Depth': 2490.0, 'Pit Near Avalanche Location': 'flank', 'WL_Depth': 730.0, 'WL_Thickness': 10.0}, {'Slope Angle': '32', 'HS': 550.0, 'Profile Depth': 550.0, 'Pit Near Avalanche Location': 'crown', 'WL_Depth': 450.0, 'WL_Thickness': 100.0}, {'Slope Angle': '31', 'HS': 2200.0, 'Profile Depth': 2200.0, 'Pit Near Avalanche Location': 'crown', 'WL_Depth': 1200.0, 'WL_Thickness': 5.0}, {'Slope Angle': '38', 'HS': 2500.0, 'Profile Depth': 2500.0, 'Pit Near Avalanche Location': 'crown', 'WL_Depth': 950.0, 'WL_Thickness': 50.0}, {'Slope Angle': '39', 'HS': 1630.0, 'Profile Depth': 1630.0, 'Pit Near Avalanche Location': 'crown', 'WL_Depth': 680.0, 'WL_Thickness': 30.0}, {'Slope Angle': '33', 'HS': 1000.0, 'Profile Depth': 1000.0, 'Pit Near Avalanche Location': 'crown', 'WL_Depth': 650.0, 'WL_Thickness': 350.0}, {'Slope Angle': '30', 'HS': 2200.0, 'Profile Depth': 2200.0, 'Pit Near Avalanche Location': 'other', 'WL_Depth': 600.0, 'WL_Thickness': 10.0}, {'Slope Angle': '45', 'HS': 1650.0, 'Profile Depth': 1650.0, 'Pit Near Avalanche Location': 'crown', 'WL_Depth': 1010.0, 'WL_Thickness': 140.0}, {'Slope Angle': 0.0, 'HS': 1800.0, 'Profile Depth': 1800.0, 'Pit Near Avalanche Location': 'crown', 'WL_Depth': 800.0, 'WL_Thickness': 200.0}, {'Slope Angle': '22', 'HS': 750.0, 'Profile Depth': 750.0, 'Pit Near Avalanche Location': 'other', 'WL_Depth': 250.0, 'WL_Thickness': 60.0}, {'Slope Angle': '35', 'HS': 3120.0, 'Profile Depth': 3120.0, 'Pit Near Avalanche Location': 'other', 'WL_Depth': 420.0, 'WL_Thickness': 60.0}, {'Slope Angle': '35', 'HS': 2520.0, 'Profile Depth': 2520.0, 'Pit Near Avalanche Location': 'crown', 'WL_Depth': 1010.0, 'WL_Thickness': 10.0}, {'Slope Angle': '38', 'HS': 1640.0, 'Profile Depth': 1640.0, 'Pit Near Avalanche Location': 'crown', 'WL_Depth': 1020.0, 'WL_Thickness': 60.0}, {'Slope Angle': '11', 'HS': 1600.0, 'Profile Depth': 1400.0, 'Pit Near Avalanche Location': 'other', 'WL_Depth': 660.0, 'WL_Thickness': 6.0}, {'Slope Angle': '34', 'HS': None, 'Profile Depth': 930.0, 'Pit Near Avalanche Location': 'flank', 'WL_Depth': 570.0, 'WL_Thickness': 120.0}, {'Slope Angle': '35', 'HS': 3000.0, 'Profile Depth': 800.0, 'Pit Near Avalanche Location': 'flank', 'WL_Depth': 600.0, 'WL_Thickness': 50.0}, {'Slope Angle': '35', 'HS': None, 'Profile Depth': 2130.0, 'Pit Near Avalanche Location': 'crown', 'WL_Depth': 2100.0, 'WL_Thickness': 30.0}, {'Slope Angle': '38', 'HS': 750.0, 'Profile Depth': 750.0, 'Pit Near Avalanche Location': 'flank', 'WL_Depth': 420.0, 'WL_Thickness': 10.0}, {'Slope Angle': '30', 'HS': 3200.0, 'Profile Depth': 780.0, 'Pit Near Avalanche Location': 'crown', 'WL_Depth': 430.0, 'WL_Thickness': 30.0}, {'Slope Angle': '32', 'HS': 1000.0, 'Profile Depth': 1000.0, 'Pit Near Avalanche Location': 'crown', 'WL_Depth': 480.0, 'WL_Thickness': 110.0}, {'Slope Angle': '40', 'HS': 1840.0, 'Profile Depth': 1840.0, 'Pit Near Avalanche Location': 'crown', 'WL_Depth': 1430.0, 'WL_Thickness': 410.0}, {'Slope Angle': '37', 'HS': 1370.0, 'Profile Depth': 1370.0, 'Pit Near Avalanche Location': 'crown', 'WL_Depth': 970.0, 'WL_Thickness': 400.0}, {'Slope Angle': '33', 'HS': 750.0, 'Profile Depth': 750.0, 'Pit Near Avalanche Location': 'flank', 'WL_Depth': 0.0, 'WL_Thickness': 100.0}, {'Slope Angle': '34', 'HS': 1470.0, 'Profile Depth': 1470.0, 'Pit Near Avalanche Location': 'crown', 'WL_Depth': 620.0, 'WL_Thickness': 250.0}, {'Slope Angle': '42', 'HS': 1000.0, 'Profile Depth': 1000.0, 'Pit Near Avalanche Location': 'crown', 'WL_Depth': 590.0, 'WL_Thickness': 10.0}, {'Slope Angle': '35', 'HS': None, 'Profile Depth': 800.0, 'Pit Near Avalanche Location': 'crown', 'WL_Depth': 200.0, 'WL_Thickness': 400.0}, {'Slope Angle': '33', 'HS': 2400.0, 'Profile Depth': 2400.0, 'Pit Near Avalanche Location': 'crown', 'WL_Depth': 710.0, 'WL_Thickness': 50.0}, {'Slope Angle': '20', 'HS': 1410.0, 'Profile Depth': 1410.0, 'Pit Near Avalanche Location': 'crown', 'WL_Depth': 380.0, 'WL_Thickness': 10.0}, {'Slope Angle': '36', 'HS': 2650.0, 'Profile Depth': 2650.0, 'Pit Near Avalanche Location': 'crown', 'WL_Depth': 1180.0, 'WL_Thickness': 50.0}, {'Slope Angle': '35', 'HS': 2450.0, 'Profile Depth': 2450.0, 'Pit Near Avalanche Location': 'crown', 'WL_Depth': 560.0, 'WL_Thickness': 10.0}, {'Slope Angle': '34', 'HS': 850.0, 'Profile Depth': 850.0, 'Pit Near Avalanche Location': 'crown', 'WL_Depth': 550.0, 'WL_Thickness': 60.0}, {'Slope Angle': '32', 'HS': 1600.0, 'Profile Depth': 1600.0, 'Pit Near Avalanche Location': 'crown', 'WL_Depth': 0.0, 'WL_Thickness': 100.0}, {'Slope Angle': '37', 'HS': 2500.0, 'Profile Depth': 2500.0, 'Pit Near Avalanche Location': 'crown', 'WL_Depth': 970.0, 'WL_Thickness': 70.0}, {'Slope Angle': '36', 'HS': 1000.0, 'Profile Depth': 1000.0, 'Pit Near Avalanche Location': None, 'WL_Depth': 450.0, 'WL_Thickness': 100.0}, {'Slope Angle': '38', 'HS': 1360.0, 'Profile Depth': 1360.0, 'Pit Near Avalanche Location': 'crown', 'WL_Depth': 1010.0, 'WL_Thickness': 350.0}, {'Slope Angle': '39', 'HS': 2550.0, 'Profile Depth': 2550.0, 'Pit Near Avalanche Location': 'crown', 'WL_Depth': 540.0, 'WL_Thickness': 10.0}, {'Slope Angle': '43', 'HS': 2140.0, 'Profile Depth': 2140.0, 'Pit Near Avalanche Location': 'crown', 'WL_Depth': 190.0, 'WL_Thickness': 100.0}, {'Slope Angle': '18', 'HS': 1250.0, 'Profile Depth': 1250.0, 'Pit Near Avalanche Location': 'other', 'WL_Depth': 1000.0, 'WL_Thickness': 250.0}, {'Slope Angle': '34', 'HS': 1050.0, 'Profile Depth': 1050.0, 'Pit Near Avalanche Location': 'flank', 'WL_Depth': 700.0, 'WL_Thickness': 60.0}, {'Slope Angle': '42', 'HS': 780.0, 'Profile Depth': 780.0, 'Pit Near Avalanche Location': 'crown', 'WL_Depth': 480.0, 'WL_Thickness': 300.0}, {'Slope Angle': '40', 'HS': 700.0, 'Profile Depth': 700.0, 'Pit Near Avalanche Location': 'crown', 'WL_Depth': 520.0, 'WL_Thickness': 180.0}, {'Slope Angle': '35', 'HS': 650.0, 'Profile Depth': 650.0, 'Pit Near Avalanche Location': None, 'WL_Depth': 500.0, 'WL_Thickness': 150.0}, {'Slope Angle': '25', 'HS': 980.0, 'Profile Depth': 980.0, 'Pit Near Avalanche Location': 'flank', 'WL_Depth': 220.0, 'WL_Thickness': 50.0}, {'Slope Angle': '35', 'HS': 1850.0, 'Profile Depth': 1850.0, 'Pit Near Avalanche Location': 'flank', 'WL_Depth': 70.0, 'WL_Thickness': 110.0}, {'Slope Angle': '25', 'HS': 1000.0, 'Profile Depth': 1000.0, 'Pit Near Avalanche Location': 'flank', 'WL_Depth': 400.0, 'WL_Thickness': 20.0}, {'Slope Angle': '30', 'HS': 3340.0, 'Profile Depth': 3340.0, 'Pit Near Avalanche Location': 'flank', 'WL_Depth': 40.0, 'WL_Thickness': 600.0}, {'Slope Angle': 0.0, 'HS': 650.0, 'Profile Depth': 650.0, 'Pit Near Avalanche Location': 'other', 'WL_Depth': 370.0, 'WL_Thickness': 180.0}, {'Slope Angle': '42', 'HS': 1150.0, 'Profile Depth': 1150.0, 'Pit Near Avalanche Location': None, 'WL_Depth': 450.0, 'WL_Thickness': 10.0}, {'Slope Angle': '47', 'HS': 3000.0, 'Profile Depth': 1600.0, 'Pit Near Avalanche Location': 'crown', 'WL_Depth': 10.0, 'WL_Thickness': 60.0}, {'Slope Angle': 0.0, 'HS': 900.0, 'Profile Depth': 900.0, 'Pit Near Avalanche Location': 'crown', 'WL_Depth': 530.0, 'WL_Thickness': 170.0}, {'Slope Angle': '33', 'HS': 820.0, 'Profile Depth': 820.0, 'Pit Near Avalanche Location': 'crown', 'WL_Depth': 550.0, 'WL_Thickness': 10.0}, {'Slope Angle': '25', 'HS': 1710.0, 'Profile Depth': 1710.0, 'Pit Near Avalanche Location': 'other', 'WL_Depth': 460.0, 'WL_Thickness': 30.0}, {'Slope Angle': '30', 'HS': 2520.0, 'Profile Depth': 2520.0, 'Pit Near Avalanche Location': 'flank', 'WL_Depth': 280.0, 'WL_Thickness': 770.0}, {'Slope Angle': 0.0, 'HS': 1840.0, 'Profile Depth': 1840.0, 'Pit Near Avalanche Location': 'crown', 'WL_Depth': 380.0, 'WL_Thickness': 450.0}, {'Slope Angle': '37', 'HS': 1160.0, 'Profile Depth': 1160.0, 'Pit Near Avalanche Location': 'crown', 'WL_Depth': 555.0, 'WL_Thickness': 15.0}, {'Slope Angle': '34', 'HS': 2150.0, 'Profile Depth': 2150.0, 'Pit Near Avalanche Location': 'crown', 'WL_Depth': 1820.0, 'WL_Thickness': 330.0}, {'Slope Angle': '40', 'HS': 1080.0, 'Profile Depth': 1080.0, 'Pit Near Avalanche Location': 'crown', 'WL_Depth': 400.0, 'WL_Thickness': 270.0}, {'Slope Angle': '29', 'HS': 1300.0, 'Profile Depth': 1300.0, 'Pit Near Avalanche Location': 'flank', 'WL_Depth': 660.0, 'WL_Thickness': 40.0}, {'Slope Angle': '42', 'HS': 3150.0, 'Profile Depth': 3150.0, 'Pit Near Avalanche Location': 'crown', 'WL_Depth': 1450.0, 'WL_Thickness': 20.0}, {'Slope Angle': '40', 'HS': 1100.0, 'Profile Depth': 1100.0, 'Pit Near Avalanche Location': 'crown', 'WL_Depth': 690.0, 'WL_Thickness': 10.0}, {'Slope Angle': '33', 'HS': 1340.0, 'Profile Depth': 1340.0, 'Pit Near Avalanche Location': 'flank', 'WL_Depth': 820.0, 'WL_Thickness': 250.0}, {'Slope Angle': '28', 'HS': 1050.0, 'Profile Depth': 1050.0, 'Pit Near Avalanche Location': 'other', 'WL_Depth': 350.0, 'WL_Thickness': 10.0}, {'Slope Angle': '35', 'HS': 1400.0, 'Profile Depth': 1400.0, 'Pit Near Avalanche Location': 'crown', 'WL_Depth': 570.0, 'WL_Thickness': 60.0}, {'Slope Angle': '20', 'HS': 1900.0, 'Profile Depth': 1900.0, 'Pit Near Avalanche Location': 'crown', 'WL_Depth': 0.0, 'WL_Thickness': 300.0}, {'Slope Angle': '30', 'HS': 2850.0, 'Profile Depth': 1350.0, 'Pit Near Avalanche Location': 'flank', 'WL_Depth': 550.0, 'WL_Thickness': 250.0}, {'Slope Angle': '35', 'HS': 1700.0, 'Profile Depth': 1214.0, 'Pit Near Avalanche Location': 'flank', 'WL_Depth': 450.0, 'WL_Thickness': 18.0}, {'Slope Angle': '38', 'HS': 2550.0, 'Profile Depth': 2550.0, 'Pit Near Avalanche Location': 'flank', 'WL_Depth': 1050.0, 'WL_Thickness': 10.0}, {'Slope Angle': '15', 'HS': None, 'Profile Depth': 1000.0, 'Pit Near Avalanche Location': None, 'WL_Depth': 380.0, 'WL_Thickness': 10.0}, {'Slope Angle': '30', 'HS': 620.0, 'Profile Depth': 620.0, 'Pit Near Avalanche Location': 'crown', 'WL_Depth': 420.0, 'WL_Thickness': 200.0}, {'Slope Angle': '32', 'HS': 1650.0, 'Profile Depth': 1200.0, 'Pit Near Avalanche Location': 'other', 'WL_Depth': 250.0, 'WL_Thickness': 200.0}, {'Slope Angle': '23', 'HS': 3100.0, 'Profile Depth': 1400.0, 'Pit Near Avalanche Location': 'other', 'WL_Depth': 400.0, 'WL_Thickness': 100.0}, {'Slope Angle': 0.0, 'HS': 3400.0, 'Profile Depth': 3400.0, 'Pit Near Avalanche Location': 'other', 'WL_Depth': 1700.0, 'WL_Thickness': 20.0}, {'Slope Angle': '30', 'HS': 1030.0, 'Profile Depth': 1030.0, 'Pit Near Avalanche Location': None, 'WL_Depth': 590.0, 'WL_Thickness': 40.0}, {'Slope Angle': '34', 'HS': 1090.0, 'Profile Depth': 1090.0, 'Pit Near Avalanche Location': 'flank', 'WL_Depth': 280.0, 'WL_Thickness': 210.0}, {'Slope Angle': '29', 'HS': 1800.0, 'Profile Depth': 1800.0, 'Pit Near Avalanche Location': 'crown', 'WL_Depth': 120.0, 'WL_Thickness': 130.0}, {'Slope Angle': 0.0, 'HS': 2900.0, 'Profile Depth': 2900.0, 'Pit Near Avalanche Location': 'flank', 'WL_Depth': 700.0, 'WL_Thickness': 350.0}, {'Slope Angle': '38', 'HS': 1250.0, 'Profile Depth': 1250.0, 'Pit Near Avalanche Location': 'crown', 'WL_Depth': 390.0, 'WL_Thickness': 20.0}, {'Slope Angle': '32', 'HS': 1230.0, 'Profile Depth': 1230.0, 'Pit Near Avalanche Location': 'flank', 'WL_Depth': 60.0, 'WL_Thickness': 620.0}, {'Slope Angle': '35', 'HS': 1040.0, 'Profile Depth': 1040.0, 'Pit Near Avalanche Location': 'crown', 'WL_Depth': 770.0, 'WL_Thickness': 30.0}, {'Slope Angle': '39', 'HS': 870.0, 'Profile Depth': 870.0, 'Pit Near Avalanche Location': 'crown', 'WL_Depth': 500.0, 'WL_Thickness': 170.0}, {'Slope Angle': '41', 'HS': 2050.0, 'Profile Depth': 2050.0, 'Pit Near Avalanche Location': 'crown', 'WL_Depth': 340.0, 'WL_Thickness': 10.0}, {'Slope Angle': '40', 'HS': 1300.0, 'Profile Depth': 1300.0, 'Pit Near Avalanche Location': 'crown', 'WL_Depth': 490.0, 'WL_Thickness': 10.0}, {'Slope Angle': '36', 'HS': 1940.0, 'Profile Depth': 1940.0, 'Pit Near Avalanche Location': 'other', 'WL_Depth': 210.0, 'WL_Thickness': 30.0}, {'Slope Angle': '20', 'HS': 600.0, 'Profile Depth': 600.0, 'Pit Near Avalanche Location': 'crown', 'WL_Depth': 120.0, 'WL_Thickness': 30.0}, {'Slope Angle': '40', 'HS': 3550.0, 'Profile Depth': 1350.0, 'Pit Near Avalanche Location': 'crown', 'WL_Depth': 1100.0, 'WL_Thickness': 170.0}, {'Slope Angle': '33', 'HS': 1420.0, 'Profile Depth': 1420.0, 'Pit Near Avalanche Location': 'crown', 'WL_Depth': 1040.0, 'WL_Thickness': 30.0}, {'Slope Angle': '41', 'HS': 2450.0, 'Profile Depth': 1420.0, 'Pit Near Avalanche Location': 'crown', 'WL_Depth': 780.0, 'WL_Thickness': 20.0}, {'Slope Angle': '38', 'HS': 2900.0, 'Profile Depth': 1430.0, 'Pit Near Avalanche Location': 'crown', 'WL_Depth': 470.0, 'WL_Thickness': 10.0}, {'Slope Angle': '37', 'HS': 1850.0, 'Profile Depth': 1850.0, 'Pit Near Avalanche Location': 'crown', 'WL_Depth': 1160.0, 'WL_Thickness': 20.0}, {'Slope Angle': '38', 'HS': 1200.0, 'Profile Depth': 1200.0, 'Pit Near Avalanche Location': 'crown', 'WL_Depth': 700.0, 'WL_Thickness': 130.0}, {'Slope Angle': '25', 'HS': 900.0, 'Profile Depth': 900.0, 'Pit Near Avalanche Location': 'crown', 'WL_Depth': 220.0, 'WL_Thickness': 40.0}, {'Slope Angle': '40', 'HS': 1930.0, 'Profile Depth': 1930.0, 'Pit Near Avalanche Location': 'crown', 'WL_Depth': 710.0, 'WL_Thickness': 10.0}, {'Slope Angle': '23', 'HS': 5450.0, 'Profile Depth': 2400.0, 'Pit Near Avalanche Location': 'other', 'WL_Depth': 1250.0, 'WL_Thickness': 20.0}, {'Slope Angle': '23', 'HS': 2450.0, 'Profile Depth': 1450.0, 'Pit Near Avalanche Location': 'other', 'WL_Depth': 400.0, 'WL_Thickness': 210.0}, {'Slope Angle': '36', 'HS': 1400.0, 'Profile Depth': 1400.0, 'Pit Near Avalanche Location': 'crown', 'WL_Depth': 750.0, 'WL_Thickness': 20.0}, {'Slope Angle': '30', 'HS': 600.0, 'Profile Depth': 600.0, 'Pit Near Avalanche Location': 'flank', 'WL_Depth': 400.0, 'WL_Thickness': 200.0}, {'Slope Angle': '17', 'HS': 1400.0, 'Profile Depth': 1400.0, 'Pit Near Avalanche Location': 'other', 'WL_Depth': 1250.0, 'WL_Thickness': 150.0}, {'Slope Angle': '30', 'HS': 1220.0, 'Profile Depth': 1220.0, 'Pit Near Avalanche Location': 'flank', 'WL_Depth': 220.0, 'WL_Thickness': 50.0}, {'Slope Angle': '25', 'HS': 850.0, 'Profile Depth': 850.0, 'Pit Near Avalanche Location': 'flank', 'WL_Depth': 450.0, 'WL_Thickness': 20.0}, {'Slope Angle': 0.0, 'HS': 1300.0, 'Profile Depth': 1300.0, 'Pit Near Avalanche Location': 'crown', 'WL_Depth': 450.0, 'WL_Thickness': 20.0}, {'Slope Angle': '35', 'HS': None, 'Profile Depth': 1320.0, 'Pit Near Avalanche Location': 'crown', 'WL_Depth': 1200.0, 'WL_Thickness': 20.0}, {'Slope Angle': '41', 'HS': 2450.0, 'Profile Depth': 1420.0, 'Pit Near Avalanche Location': 'crown', 'WL_Depth': 780.0, 'WL_Thickness': 20.0}, {'Slope Angle': '38', 'HS': 900.0, 'Profile Depth': 900.0, 'Pit Near Avalanche Location': 'flank', 'WL_Depth': 530.0, 'WL_Thickness': 70.0}, {'Slope Angle': '25', 'HS': None, 'Profile Depth': 800.0, 'Pit Near Avalanche Location': 'crown', 'WL_Depth': 400.0, 'WL_Thickness': 100.0}, {'Slope Angle': '35', 'HS': 1100.0, 'Profile Depth': 1100.0, 'Pit Near Avalanche Location': None, 'WL_Depth': 800.0, 'WL_Thickness': 20.0}, {'Slope Angle': '35', 'HS': 1680.0, 'Profile Depth': 1250.0, 'Pit Near Avalanche Location': 'flank', 'WL_Depth': 510.0, 'WL_Thickness': 50.0}, {'Slope Angle': '33', 'HS': 2000.0, 'Profile Depth': 2000.0, 'Pit Near Avalanche Location': 'flank', 'WL_Depth': 200.0, 'WL_Thickness': 250.0}, {'Slope Angle': '22', 'HS': None, 'Profile Depth': 650.0, 'Pit Near Avalanche Location': 'flank', 'WL_Depth': 270.0, 'WL_Thickness': 10.0}, {'Slope Angle': '30', 'HS': 1640.0, 'Profile Depth': 1000.0, 'Pit Near Avalanche Location': 'crown', 'WL_Depth': 480.0, 'WL_Thickness': 5.0}, {'Slope Angle': '40', 'HS': 1450.0, 'Profile Depth': 1450.0, 'Pit Near Avalanche Location': 'crown', 'WL_Depth': 500.0, 'WL_Thickness': 400.0}, {'Slope Angle': '32', 'HS': 1040.0, 'Profile Depth': 1040.0, 'Pit Near Avalanche Location': 'crown', 'WL_Depth': 760.0, 'WL_Thickness': 20.0}, {'Slope Angle': 0.0, 'HS': 1300.0, 'Profile Depth': 1300.0, 'Pit Near Avalanche Location': 'other', 'WL_Depth': 950.0, 'WL_Thickness': 230.0}, {'Slope Angle': '46', 'HS': 3550.0, 'Profile Depth': 2000.0, 'Pit Near Avalanche Location': 'crown', 'WL_Depth': 1190.0, 'WL_Thickness': 240.0}, {'Slope Angle': '22', 'HS': 1700.0, 'Profile Depth': 1200.0, 'Pit Near Avalanche Location': 'flank', 'WL_Depth': 90.0, 'WL_Thickness': 10.0}, {'Slope Angle': '27', 'HS': 2370.0, 'Profile Depth': 2370.0, 'Pit Near Avalanche Location': 'flank', 'WL_Depth': 2120.0, 'WL_Thickness': 250.0}, {'Slope Angle': '38', 'HS': 1170.0, 'Profile Depth': 1170.0, 'Pit Near Avalanche Location': 'flank', 'WL_Depth': 540.0, 'WL_Thickness': 30.0}, {'Slope Angle': '35', 'HS': 1300.0, 'Profile Depth': 1300.0, 'Pit Near Avalanche Location': 'crown', 'WL_Depth': 450.0, 'WL_Thickness': 50.0}, {'Slope Angle': '38', 'HS': 3380.0, 'Profile Depth': 3380.0, 'Pit Near Avalanche Location': 'crown', 'WL_Depth': 930.0, 'WL_Thickness': 10.0}, {'Slope Angle': '34', 'HS': 700.0, 'Profile Depth': 700.0, 'Pit Near Avalanche Location': 'other', 'WL_Depth': 220.0, 'WL_Thickness': 100.0}, {'Slope Angle': '30', 'HS': 490.0, 'Profile Depth': 490.0, 'Pit Near Avalanche Location': 'other', 'WL_Depth': 0.0, 'WL_Thickness': 30.0}, {'Slope Angle': '40', 'HS': 750.0, 'Profile Depth': 750.0, 'Pit Near Avalanche Location': 'crown', 'WL_Depth': 600.0, 'WL_Thickness': 10.0}, {'Slope Angle': 0.0, 'HS': 920.0, 'Profile Depth': 920.0, 'Pit Near Avalanche Location': 'flank', 'WL_Depth': 440.0, 'WL_Thickness': 30.0}, {'Slope Angle': '28', 'HS': 2600.0, 'Profile Depth': 2000.0, 'Pit Near Avalanche Location': 'crown', 'WL_Depth': 870.0, 'WL_Thickness': 1110.0}, {'Slope Angle': '35', 'HS': None, 'Profile Depth': 3500.0, 'Pit Near Avalanche Location': 'crown', 'WL_Depth': 200.0, 'WL_Thickness': 60.0}, {'Slope Angle': '37', 'HS': 800.0, 'Profile Depth': 800.0, 'Pit Near Avalanche Location': 'crown', 'WL_Depth': 580.0, 'WL_Thickness': 40.0}, {'Slope Angle': '39', 'HS': 1010.0, 'Profile Depth': 1010.0, 'Pit Near Avalanche Location': 'crown', 'WL_Depth': 570.0, 'WL_Thickness': 120.0}, {'Slope Angle': '26', 'HS': 1400.0, 'Profile Depth': 1400.0, 'Pit Near Avalanche Location': 'crown', 'WL_Depth': 840.0, 'WL_Thickness': 80.0}, {'Slope Angle': '37', 'HS': 960.0, 'Profile Depth': 960.0, 'Pit Near Avalanche Location': 'other', 'WL_Depth': 810.0, 'WL_Thickness': 150.0}, {'Slope Angle': '30', 'HS': 1300.0, 'Profile Depth': 1300.0, 'Pit Near Avalanche Location': 'flank', 'WL_Depth': 920.0, 'WL_Thickness': 100.0}, {'Slope Angle': '30', 'HS': 660.0, 'Profile Depth': 660.0, 'Pit Near Avalanche Location': 'flank', 'WL_Depth': 160.0, 'WL_Thickness': 210.0}, {'Slope Angle': '35', 'HS': 1100.0, 'Profile Depth': 1100.0, 'Pit Near Avalanche Location': 'flank', 'WL_Depth': 880.0, 'WL_Thickness': 120.0}, {'Slope Angle': '38', 'HS': 1700.0, 'Profile Depth': 1700.0, 'Pit Near Avalanche Location': 'crown', 'WL_Depth': 730.0, 'WL_Thickness': 140.0}, {'Slope Angle': '34', 'HS': 1310.0, 'Profile Depth': 1310.0, 'Pit Near Avalanche Location': 'other', 'WL_Depth': 570.0, 'WL_Thickness': 10.0}, {'Slope Angle': '23', 'HS': 1900.0, 'Profile Depth': 1900.0, 'Pit Near Avalanche Location': 'crown', 'WL_Depth': 800.0, 'WL_Thickness': 300.0}, {'Slope Angle': '20', 'HS': 1650.0, 'Profile Depth': 1000.0, 'Pit Near Avalanche Location': 'crown', 'WL_Depth': 410.0, 'WL_Thickness': 60.0}, {'Slope Angle': '42', 'HS': 1240.0, 'Profile Depth': 1240.0, 'Pit Near Avalanche Location': 'crown', 'WL_Depth': 1030.0, 'WL_Thickness': 60.0}, {'Slope Angle': '38', 'HS': 1800.0, 'Profile Depth': 1800.0, 'Pit Near Avalanche Location': 'flank', 'WL_Depth': 150.0, 'WL_Thickness': 20.0}, {'Slope Angle': '30', 'HS': 3000.0, 'Profile Depth': 1200.0, 'Pit Near Avalanche Location': None, 'WL_Depth': 250.0, 'WL_Thickness': 10.0}, {'Slope Angle': 0.0, 'HS': 1400.0, 'Profile Depth': 1400.0, 'Pit Near Avalanche Location': 'crown', 'WL_Depth': 700.0, 'WL_Thickness': 30.0}, {'Slope Angle': '38', 'HS': 1350.0, 'Profile Depth': 1350.0, 'Pit Near Avalanche Location': 'crown', 'WL_Depth': 650.0, 'WL_Thickness': 100.0}, {'Slope Angle': '31', 'HS': 1420.0, 'Profile Depth': 1420.0, 'Pit Near Avalanche Location': 'other', 'WL_Depth': 440.0, 'WL_Thickness': 500.0}, {'Slope Angle': '38', 'HS': 3800.0, 'Profile Depth': 3800.0, 'Pit Near Avalanche Location': 'crown', 'WL_Depth': 1050.0, 'WL_Thickness': 50.0}, {'Slope Angle': '34', 'HS': None, 'Profile Depth': 780.0, 'Pit Near Avalanche Location': 'crown', 'WL_Depth': 440.0, 'WL_Thickness': 90.0}, {'Slope Angle': '35', 'HS': 1980.0, 'Profile Depth': 1980.0, 'Pit Near Avalanche Location': 'crown', 'WL_Depth': 760.0, 'WL_Thickness': 30.0}, {'Slope Angle': '42', 'HS': 2200.0, 'Profile Depth': 2200.0, 'Pit Near Avalanche Location': 'crown', 'WL_Depth': 1050.0, 'WL_Thickness': 10.0}, {'Slope Angle': '40', 'HS': 1450.0, 'Profile Depth': 1450.0, 'Pit Near Avalanche Location': 'crown', 'WL_Depth': 540.0, 'WL_Thickness': 10.0}, {'Slope Angle': '30', 'HS': 460.0, 'Profile Depth': 460.0, 'Pit Near Avalanche Location': 'crown', 'WL_Depth': 280.0, 'WL_Thickness': 160.0}, {'Slope Angle': '20', 'HS': 1120.0, 'Profile Depth': 1120.0, 'Pit Near Avalanche Location': 'crown', 'WL_Depth': 440.0, 'WL_Thickness': 10.0}, {'Slope Angle': '33', 'HS': 2700.0, 'Profile Depth': 2700.0, 'Pit Near Avalanche Location': 'crown', 'WL_Depth': 590.0, 'WL_Thickness': 370.0}, {'Slope Angle': '37', 'HS': 2350.0, 'Profile Depth': 2350.0, 'Pit Near Avalanche Location': 'flank', 'WL_Depth': 880.0, 'WL_Thickness': 50.0}, {'Slope Angle': '26', 'HS': 1850.0, 'Profile Depth': 1850.0, 'Pit Near Avalanche Location': 'flank', 'WL_Depth': 1260.0, 'WL_Thickness': 70.0}, {'Slope Angle': '37', 'HS': 1370.0, 'Profile Depth': 1370.0, 'Pit Near Avalanche Location': 'crown', 'WL_Depth': 320.0, 'WL_Thickness': 10.0}, {'Slope Angle': '30', 'HS': 400.0, 'Profile Depth': 400.0, 'Pit Near Avalanche Location': 'crown', 'WL_Depth': 230.0, 'WL_Thickness': 170.0}, {'Slope Angle': '35', 'HS': 2350.0, 'Profile Depth': 1000.0, 'Pit Near Avalanche Location': 'crown', 'WL_Depth': 700.0, 'WL_Thickness': 30.0}, {'Slope Angle': '31', 'HS': 1520.0, 'Profile Depth': 1520.0, 'Pit Near Avalanche Location': 'other', 'WL_Depth': 910.0, 'WL_Thickness': 150.0}, {'Slope Angle': '30', 'HS': 2400.0, 'Profile Depth': 2400.0, 'Pit Near Avalanche Location': 'flank', 'WL_Depth': 50.0, 'WL_Thickness': 150.0}, {'Slope Angle': '40', 'HS': 1020.0, 'Profile Depth': 1020.0, 'Pit Near Avalanche Location': 'crown', 'WL_Depth': 450.0, 'WL_Thickness': 20.0}, {'Slope Angle': '34', 'HS': 1800.0, 'Profile Depth': 1800.0, 'Pit Near Avalanche Location': 'flank', 'WL_Depth': 250.0, 'WL_Thickness': 20.0}, {'Slope Angle': '32', 'HS': 900.0, 'Profile Depth': 900.0, 'Pit Near Avalanche Location': 'crown', 'WL_Depth': 600.0, 'WL_Thickness': 10.0}, {'Slope Angle': '28', 'HS': 2620.0, 'Profile Depth': 2600.0, 'Pit Near Avalanche Location': 'crown', 'WL_Depth': 890.0, 'WL_Thickness': 100.0}, {'Slope Angle': '34', 'HS': 1510.0, 'Profile Depth': 1510.0, 'Pit Near Avalanche Location': 'other', 'WL_Depth': 560.0, 'WL_Thickness': 80.0}, {'Slope Angle': '35', 'HS': 1700.0, 'Profile Depth': 1700.0, 'Pit Near Avalanche Location': 'flank', 'WL_Depth': 1120.0, 'WL_Thickness': 92.0}, {'Slope Angle': '39', 'HS': 1230.0, 'Profile Depth': 1230.0, 'Pit Near Avalanche Location': 'flank', 'WL_Depth': 540.0, 'WL_Thickness': 20.0}, {'Slope Angle': '31', 'HS': 890.0, 'Profile Depth': 890.0, 'Pit Near Avalanche Location': 'crown', 'WL_Depth': 390.0, 'WL_Thickness': 20.0}, {'Slope Angle': '38', 'HS': 1190.0, 'Profile Depth': 1190.0, 'Pit Near Avalanche Location': 'crown', 'WL_Depth': 540.0, 'WL_Thickness': 30.0}, {'Slope Angle': '35', 'HS': 1570.0, 'Profile Depth': 1570.0, 'Pit Near Avalanche Location': 'crown', 'WL_Depth': 275.0, 'WL_Thickness': 5.0}, {'Slope Angle': '30', 'HS': 4500.0, 'Profile Depth': 1242.0, 'Pit Near Avalanche Location': None, 'WL_Depth': 698.0, 'WL_Thickness': 24.0}, {'Slope Angle': '38', 'HS': 2200.0, 'Profile Depth': 800.0, 'Pit Near Avalanche Location': 'crown', 'WL_Depth': 280.0, 'WL_Thickness': 20.0}, {'Slope Angle': '39', 'HS': 1070.0, 'Profile Depth': 1070.0, 'Pit Near Avalanche Location': 'crown', 'WL_Depth': 420.0, 'WL_Thickness': 30.0}, {'Slope Angle': '22', 'HS': 1250.0, 'Profile Depth': 1250.0, 'Pit Near Avalanche Location': 'flank', 'WL_Depth': 650.0, 'WL_Thickness': 200.0}, {'Slope Angle': '40', 'HS': 1600.0, 'Profile Depth': 1600.0, 'Pit Near Avalanche Location': 'crown', 'WL_Depth': 440.0, 'WL_Thickness': 20.0}, {'Slope Angle': '15', 'HS': 850.0, 'Profile Depth': 850.0, 'Pit Near Avalanche Location': 'other', 'WL_Depth': 450.0, 'WL_Thickness': 230.0}, {'Slope Angle': '20', 'HS': 1200.0, 'Profile Depth': 1200.0, 'Pit Near Avalanche Location': 'crown', 'WL_Depth': 150.0, 'WL_Thickness': 190.0}, {'Slope Angle': '45', 'HS': 1350.0, 'Profile Depth': 1350.0, 'Pit Near Avalanche Location': 'other', 'WL_Depth': 450.0, 'WL_Thickness': 10.0}, {'Slope Angle': '38', 'HS': 1230.0, 'Profile Depth': 1230.0, 'Pit Near Avalanche Location': 'crown', 'WL_Depth': 610.0, 'WL_Thickness': 20.0}, {'Slope Angle': '28', 'HS': 1930.0, 'Profile Depth': 1930.0, 'Pit Near Avalanche Location': None, 'WL_Depth': 1050.0, 'WL_Thickness': 230.0}, {'Slope Angle': '45', 'HS': 1450.0, 'Profile Depth': 1450.0, 'Pit Near Avalanche Location': 'crown', 'WL_Depth': 870.0, 'WL_Thickness': 10.0}, {'Slope Angle': '21', 'HS': 1780.0, 'Profile Depth': 1080.0, 'Pit Near Avalanche Location': 'crown', 'WL_Depth': 1050.0, 'WL_Thickness': 30.0}, {'Slope Angle': '30', 'HS': 750.0, 'Profile Depth': 750.0, 'Pit Near Avalanche Location': 'flank', 'WL_Depth': 410.0, 'WL_Thickness': 20.0}, {'Slope Angle': '30', 'HS': 800.0, 'Profile Depth': 800.0, 'Pit Near Avalanche Location': 'flank', 'WL_Depth': 440.0, 'WL_Thickness': 10.0}, {'Slope Angle': 0.0, 'HS': 2450.0, 'Profile Depth': 2450.0, 'Pit Near Avalanche Location': 'crown', 'WL_Depth': 1300.0, 'WL_Thickness': 20.0}, {'Slope Angle': '39', 'HS': 1710.0, 'Profile Depth': 1710.0, 'Pit Near Avalanche Location': 'crown', 'WL_Depth': 1140.0, 'WL_Thickness': 20.0}, {'Slope Angle': '32', 'HS': 4000.0, 'Profile Depth': 1100.0, 'Pit Near Avalanche Location': 'other', 'WL_Depth': 200.0, 'WL_Thickness': 50.0}, {'Slope Angle': '38', 'HS': 1300.0, 'Profile Depth': 1300.0, 'Pit Near Avalanche Location': 'crown', 'WL_Depth': 470.0, 'WL_Thickness': 10.0}, {'Slope Angle': '29', 'HS': 1250.0, 'Profile Depth': 1250.0, 'Pit Near Avalanche Location': 'other', 'WL_Depth': 900.0, 'WL_Thickness': 70.0}, {'Slope Angle': '35', 'HS': 1150.0, 'Profile Depth': 1150.0, 'Pit Near Avalanche Location': 'crown', 'WL_Depth': 650.0, 'WL_Thickness': 150.0}, {'Slope Angle': '40', 'HS': 4350.0, 'Profile Depth': 1400.0, 'Pit Near Avalanche Location': 'crown', 'WL_Depth': 600.0, 'WL_Thickness': 30.0}, {'Slope Angle': '31', 'HS': 1600.0, 'Profile Depth': 1600.0, 'Pit Near Avalanche Location': 'flank', 'WL_Depth': 320.0, 'WL_Thickness': 20.0}, {'Slope Angle': '34', 'HS': 920.0, 'Profile Depth': 920.0, 'Pit Near Avalanche Location': 'crown', 'WL_Depth': 500.0, 'WL_Thickness': 20.0}, {'Slope Angle': '38', 'HS': 1800.0, 'Profile Depth': 1800.0, 'Pit Near Avalanche Location': 'flank', 'WL_Depth': 1570.0, 'WL_Thickness': 230.0}, {'Slope Angle': '35', 'HS': 3250.0, 'Profile Depth': 3250.0, 'Pit Near Avalanche Location': 'crown', 'WL_Depth': 2650.0, 'WL_Thickness': 20.0}, {'Slope Angle': '24', 'HS': 1750.0, 'Profile Depth': 1750.0, 'Pit Near Avalanche Location': 'other', 'WL_Depth': 880.0, 'WL_Thickness': 70.0}, {'Slope Angle': '40', 'HS': 1700.0, 'Profile Depth': 550.0, 'Pit Near Avalanche Location': 'flank', 'WL_Depth': 450.0, 'WL_Thickness': 50.0}, {'Slope Angle': '30', 'HS': None, 'Profile Depth': 1600.0, 'Pit Near Avalanche Location': 'crown', 'WL_Depth': 400.0, 'WL_Thickness': 50.0}, {'Slope Angle': '33', 'HS': 1510.0, 'Profile Depth': 1510.0, 'Pit Near Avalanche Location': 'crown', 'WL_Depth': 1070.0, 'WL_Thickness': 290.0}, {'Slope Angle': '30', 'HS': 1540.0, 'Profile Depth': 1540.0, 'Pit Near Avalanche Location': 'flank', 'WL_Depth': 640.0, 'WL_Thickness': 400.0}, {'Slope Angle': '35', 'HS': 2180.0, 'Profile Depth': 2180.0, 'Pit Near Avalanche Location': 'flank', 'WL_Depth': 930.0, 'WL_Thickness': 10.0}, {'Slope Angle': '35', 'HS': 3200.0, 'Profile Depth': 1250.0, 'Pit Near Avalanche Location': 'crown', 'WL_Depth': 800.0, 'WL_Thickness': 10.0}, {'Slope Angle': '25', 'HS': 3500.0, 'Profile Depth': 900.0, 'Pit Near Avalanche Location': 'crown', 'WL_Depth': 380.0, 'WL_Thickness': 140.0}, {'Slope Angle': '18', 'HS': 700.0, 'Profile Depth': 700.0, 'Pit Near Avalanche Location': 'crown', 'WL_Depth': 450.0, 'WL_Thickness': 40.0}, {'Slope Angle': '45', 'HS': 2100.0, 'Profile Depth': 2100.0, 'Pit Near Avalanche Location': 'crown', 'WL_Depth': 690.0, 'WL_Thickness': 100.0}, {'Slope Angle': '44', 'HS': 1040.0, 'Profile Depth': 1040.0, 'Pit Near Avalanche Location': 'crown', 'WL_Depth': 410.0, 'WL_Thickness': 200.0}, {'Slope Angle': '34', 'HS': 750.0, 'Profile Depth': 750.0, 'Pit Near Avalanche Location': 'flank', 'WL_Depth': 510.0, 'WL_Thickness': 240.0}, {'Slope Angle': '32', 'HS': 2680.0, 'Profile Depth': 1550.0, 'Pit Near Avalanche Location': 'other', 'WL_Depth': 250.0, 'WL_Thickness': 220.0}, {'Slope Angle': '36', 'HS': 710.0, 'Profile Depth': 710.0, 'Pit Near Avalanche Location': 'crown', 'WL_Depth': 520.0, 'WL_Thickness': 190.0}, {'Slope Angle': '30', 'HS': 750.0, 'Profile Depth': 750.0, 'Pit Near Avalanche Location': 'crown', 'WL_Depth': 460.0, 'WL_Thickness': 40.0}, {'Slope Angle': '25', 'HS': 1200.0, 'Profile Depth': 1200.0, 'Pit Near Avalanche Location': 'flank', 'WL_Depth': 800.0, 'WL_Thickness': 100.0}, {'Slope Angle': '33', 'HS': 1570.0, 'Profile Depth': 1570.0, 'Pit Near Avalanche Location': 'crown', 'WL_Depth': 470.0, 'WL_Thickness': 20.0}, {'Slope Angle': '20', 'HS': 1250.0, 'Profile Depth': 1250.0, 'Pit Near Avalanche Location': 'other', 'WL_Depth': 530.0, 'WL_Thickness': 10.0}, {'Slope Angle': '26', 'HS': 830.0, 'Profile Depth': 830.0, 'Pit Near Avalanche Location': 'flank', 'WL_Depth': 30.0, 'WL_Thickness': 40.0}, {'Slope Angle': '35', 'HS': 960.0, 'Profile Depth': 960.0, 'Pit Near Avalanche Location': 'crown', 'WL_Depth': 480.0, 'WL_Thickness': 90.0}, {'Slope Angle': '34', 'HS': 700.0, 'Profile Depth': 700.0, 'Pit Near Avalanche Location': 'other', 'WL_Depth': 300.0, 'WL_Thickness': 150.0}, {'Slope Angle': '40', 'HS': 1500.0, 'Profile Depth': 1200.0, 'Pit Near Avalanche Location': 'crown', 'WL_Depth': 900.0, 'WL_Thickness': 20.0}, {'Slope Angle': '20', 'HS': 1300.0, 'Profile Depth': 1266.0, 'Pit Near Avalanche Location': None, 'WL_Depth': 698.0, 'WL_Thickness': 106.0}, {'Slope Angle': '38', 'HS': 1160.0, 'Profile Depth': 1160.0, 'Pit Near Avalanche Location': 'crown', 'WL_Depth': 490.0, 'WL_Thickness': 10.0}, {'Slope Angle': '37', 'HS': 1750.0, 'Profile Depth': 1750.0, 'Pit Near Avalanche Location': 'crown', 'WL_Depth': 520.0, 'WL_Thickness': 20.0}, {'Slope Angle': '35', 'HS': 3000.0, 'Profile Depth': 1210.0, 'Pit Near Avalanche Location': 'flank', 'WL_Depth': 242.0, 'WL_Thickness': 30.0}, {'Slope Angle': '25', 'HS': 930.0, 'Profile Depth': 930.0, 'Pit Near Avalanche Location': 'flank', 'WL_Depth': 500.0, 'WL_Thickness': 60.0}, {'Slope Angle': '42', 'HS': 1350.0, 'Profile Depth': 1350.0, 'Pit Near Avalanche Location': 'crown', 'WL_Depth': 650.0, 'WL_Thickness': 10.0}, {'Slope Angle': '40', 'HS': 1540.0, 'Profile Depth': 1540.0, 'Pit Near Avalanche Location': 'crown', 'WL_Depth': 1060.0, 'WL_Thickness': 40.0}, {'Slope Angle': '32', 'HS': 300.0, 'Profile Depth': 300.0, 'Pit Near Avalanche Location': 'flank', 'WL_Depth': 100.0, 'WL_Thickness': 50.0}, {'Slope Angle': '15', 'HS': None, 'Profile Depth': 600.0, 'Pit Near Avalanche Location': 'other', 'WL_Depth': 20.0, 'WL_Thickness': 430.0}, {'Slope Angle': '17', 'HS': 600.0, 'Profile Depth': 600.0, 'Pit Near Avalanche Location': 'flank', 'WL_Depth': 440.0, 'WL_Thickness': 160.0}, {'Slope Angle': '38', 'HS': 1670.0, 'Profile Depth': 1670.0, 'Pit Near Avalanche Location': 'crown', 'WL_Depth': 740.0, 'WL_Thickness': 10.0}, {'Slope Angle': '32', 'HS': 1270.0, 'Profile Depth': 1270.0, 'Pit Near Avalanche Location': 'crown', 'WL_Depth': 660.0, 'WL_Thickness': 10.0}, {'Slope Angle': '33', 'HS': 1790.0, 'Profile Depth': 1790.0, 'Pit Near Avalanche Location': 'crown', 'WL_Depth': 930.0, 'WL_Thickness': 10.0}, {'Slope Angle': '25', 'HS': 1300.0, 'Profile Depth': 1300.0, 'Pit Near Avalanche Location': 'crown', 'WL_Depth': 990.0, 'WL_Thickness': 310.0}, {'Slope Angle': '36', 'HS': 1250.0, 'Profile Depth': 1250.0, 'Pit Near Avalanche Location': 'crown', 'WL_Depth': 790.0, 'WL_Thickness': 30.0}, {'Slope Angle': '31', 'HS': 1450.0, 'Profile Depth': 1450.0, 'Pit Near Avalanche Location': 'crown', 'WL_Depth': 380.0, 'WL_Thickness': 10.0}, {'Slope Angle': '30', 'HS': 2500.0, 'Profile Depth': 2500.0, 'Pit Near Avalanche Location': 'flank', 'WL_Depth': 180.0, 'WL_Thickness': 170.0}, {'Slope Angle': '30', 'HS': 2400.0, 'Profile Depth': 2400.0, 'Pit Near Avalanche Location': 'crown', 'WL_Depth': 700.0, 'WL_Thickness': 10.0}, {'Slope Angle': '35', 'HS': 2270.0, 'Profile Depth': 2270.0, 'Pit Near Avalanche Location': 'flank', 'WL_Depth': 1220.0, 'WL_Thickness': 40.0}, {'Slope Angle': '29', 'HS': 1450.0, 'Profile Depth': 1450.0, 'Pit Near Avalanche Location': 'crown', 'WL_Depth': 710.0, 'WL_Thickness': 30.0}, {'Slope Angle': '32', 'HS': 1400.0, 'Profile Depth': 1400.0, 'Pit Near Avalanche Location': 'crown', 'WL_Depth': 790.0, 'WL_Thickness': 20.0}, {'Slope Angle': '30', 'HS': 1970.0, 'Profile Depth': 1970.0, 'Pit Near Avalanche Location': 'crown', 'WL_Depth': 360.0, 'WL_Thickness': 50.0}, {'Slope Angle': '38', 'HS': 2300.0, 'Profile Depth': 2300.0, 'Pit Near Avalanche Location': 'crown', 'WL_Depth': 730.0, 'WL_Thickness': 10.0}, {'Slope Angle': '38', 'HS': 870.0, 'Profile Depth': 870.0, 'Pit Near Avalanche Location': 'crown', 'WL_Depth': 300.0, 'WL_Thickness': 20.0}, {'Slope Angle': '28', 'HS': 1930.0, 'Profile Depth': 1930.0, 'Pit Near Avalanche Location': 'flank', 'WL_Depth': 1280.0, 'WL_Thickness': 50.0}, {'Slope Angle': '20', 'HS': 2350.0, 'Profile Depth': 2350.0, 'Pit Near Avalanche Location': 'other', 'WL_Depth': 100.0, 'WL_Thickness': 10.0}, {'Slope Angle': '17', 'HS': 1950.0, 'Profile Depth': 1950.0, 'Pit Near Avalanche Location': 'flank', 'WL_Depth': 1150.0, 'WL_Thickness': 800.0}, {'Slope Angle': '37', 'HS': 1110.0, 'Profile Depth': 1110.0, 'Pit Near Avalanche Location': 'crown', 'WL_Depth': 680.0, 'WL_Thickness': 40.0}, {'Slope Angle': '28', 'HS': 1210.0, 'Profile Depth': 1210.0, 'Pit Near Avalanche Location': 'other', 'WL_Depth': 530.0, 'WL_Thickness': 80.0}, {'Slope Angle': '35', 'HS': 900.0, 'Profile Depth': 900.0, 'Pit Near Avalanche Location': 'crown', 'WL_Depth': 720.0, 'WL_Thickness': 180.0}, {'Slope Angle': '35', 'HS': 1360.0, 'Profile Depth': 1360.0, 'Pit Near Avalanche Location': 'flank', 'WL_Depth': 940.0, 'WL_Thickness': 20.0}, {'Slope Angle': '37', 'HS': 1180.0, 'Profile Depth': 1180.0, 'Pit Near Avalanche Location': 'crown', 'WL_Depth': 510.0, 'WL_Thickness': 70.0}, {'Slope Angle': '41', 'HS': None, 'Profile Depth': 2000.0, 'Pit Near Avalanche Location': 'crown', 'WL_Depth': 850.0, 'WL_Thickness': 50.0}, {'Slope Angle': '34', 'HS': 2800.0, 'Profile Depth': 300.0, 'Pit Near Avalanche Location': 'crown', 'WL_Depth': 105.0, 'WL_Thickness': 15.0}, {'Slope Angle': '31', 'HS': 1710.0, 'Profile Depth': 1100.0, 'Pit Near Avalanche Location': 'flank', 'WL_Depth': 300.0, 'WL_Thickness': 110.0}, {'Slope Angle': 0.0, 'HS': 1810.0, 'Profile Depth': 1810.0, 'Pit Near Avalanche Location': 'crown', 'WL_Depth': 690.0, 'WL_Thickness': 20.0}, {'Slope Angle': '30', 'HS': 2300.0, 'Profile Depth': 2300.0, 'Pit Near Avalanche Location': 'flank', 'WL_Depth': 740.0, 'WL_Thickness': 110.0}, {'Slope Angle': '32', 'HS': 2100.0, 'Profile Depth': 734.0, 'Pit Near Avalanche Location': None, 'WL_Depth': 590.0, 'WL_Thickness': 102.0}, {'Slope Angle': '34', 'HS': 2150.0, 'Profile Depth': 2150.0, 'Pit Near Avalanche Location': 'flank', 'WL_Depth': 1200.0, 'WL_Thickness': 80.0}, {'Slope Angle': '5', 'HS': 1100.0, 'Profile Depth': 1100.0, 'Pit Near Avalanche Location': None, 'WL_Depth': 300.0, 'WL_Thickness': 60.0}, {'Slope Angle': '25', 'HS': None, 'Profile Depth': 1000.0, 'Pit Near Avalanche Location': 'crown', 'WL_Depth': 500.0, 'WL_Thickness': 200.0}, {'Slope Angle': '25', 'HS': 3100.0, 'Profile Depth': 1000.0, 'Pit Near Avalanche Location': 'other', 'WL_Depth': 550.0, 'WL_Thickness': 100.0}, {'Slope Angle': '33', 'HS': 800.0, 'Profile Depth': 800.0, 'Pit Near Avalanche Location': 'flank', 'WL_Depth': 370.0, 'WL_Thickness': 100.0}, {'Slope Angle': '39', 'HS': 800.0, 'Profile Depth': 800.0, 'Pit Near Avalanche Location': 'flank', 'WL_Depth': 500.0, 'WL_Thickness': 200.0}, {'Slope Angle': '25', 'HS': 2620.0, 'Profile Depth': 700.0, 'Pit Near Avalanche Location': 'crown', 'WL_Depth': 500.0, 'WL_Thickness': 20.0}, {'Slope Angle': '41', 'HS': 1530.0, 'Profile Depth': 1530.0, 'Pit Near Avalanche Location': 'crown', 'WL_Depth': 360.0, 'WL_Thickness': 30.0}, {'Slope Angle': '40', 'HS': 1800.0, 'Profile Depth': 1800.0, 'Pit Near Avalanche Location': 'flank', 'WL_Depth': 950.0, 'WL_Thickness': 40.0}, {'Slope Angle': '40', 'HS': 1400.0, 'Profile Depth': 1400.0, 'Pit Near Avalanche Location': 'crown', 'WL_Depth': 600.0, 'WL_Thickness': 10.0}, {'Slope Angle': '39', 'HS': 1490.0, 'Profile Depth': 1490.0, 'Pit Near Avalanche Location': 'crown', 'WL_Depth': 760.0, 'WL_Thickness': 130.0}, {'Slope Angle': '25', 'HS': 760.0, 'Profile Depth': 760.0, 'Pit Near Avalanche Location': 'flank', 'WL_Depth': 290.0, 'WL_Thickness': 10.0}, {'Slope Angle': '40', 'HS': 1470.0, 'Profile Depth': 1470.0, 'Pit Near Avalanche Location': 'flank', 'WL_Depth': 380.0, 'WL_Thickness': 140.0}, {'Slope Angle': '32', 'HS': 2200.0, 'Profile Depth': 700.0, 'Pit Near Avalanche Location': 'crown', 'WL_Depth': 510.0, 'WL_Thickness': 30.0}, {'Slope Angle': '38', 'HS': 1320.0, 'Profile Depth': 1320.0, 'Pit Near Avalanche Location': 'crown', 'WL_Depth': 600.0, 'WL_Thickness': 40.0}, {'Slope Angle': '40', 'HS': 4460.0, 'Profile Depth': 2000.0, 'Pit Near Avalanche Location': 'crown', 'WL_Depth': 1670.0, 'WL_Thickness': 20.0}, {'Slope Angle': '15', 'HS': 4150.0, 'Profile Depth': 1600.0, 'Pit Near Avalanche Location': 'flank', 'WL_Depth': 1050.0, 'WL_Thickness': 10.0}, {'Slope Angle': '32', 'HS': 865.0, 'Profile Depth': 865.0, 'Pit Near Avalanche Location': 'flank', 'WL_Depth': 365.0, 'WL_Thickness': 100.0}, {'Slope Angle': '40', 'HS': None, 'Profile Depth': 950.0, 'Pit Near Avalanche Location': 'flank', 'WL_Depth': 160.0, 'WL_Thickness': 340.0}, {'Slope Angle': 0.0, 'HS': 4500.0, 'Profile Depth': 1400.0, 'Pit Near Avalanche Location': 'flank', 'WL_Depth': 750.0, 'WL_Thickness': 30.0}, {'Slope Angle': 0.0, 'HS': 1700.0, 'Profile Depth': 1700.0, 'Pit Near Avalanche Location': 'crown', 'WL_Depth': 1030.0, 'WL_Thickness': 30.0}, {'Slope Angle': '35', 'HS': 1950.0, 'Profile Depth': 1250.0, 'Pit Near Avalanche Location': 'crown', 'WL_Depth': 850.0, 'WL_Thickness': 100.0}, {'Slope Angle': '20', 'HS': 1600.0, 'Profile Depth': 1100.0, 'Pit Near Avalanche Location': 'crown', 'WL_Depth': 750.0, 'WL_Thickness': 10.0}, {'Slope Angle': '30', 'HS': 1210.0, 'Profile Depth': 1210.0, 'Pit Near Avalanche Location': 'crown', 'WL_Depth': 470.0, 'WL_Thickness': 160.0}, {'Slope Angle': '37', 'HS': 1100.0, 'Profile Depth': 1100.0, 'Pit Near Avalanche Location': 'crown', 'WL_Depth': 670.0, 'WL_Thickness': 30.0}, {'Slope Angle': '42', 'HS': 3650.0, 'Profile Depth': 1480.0, 'Pit Near Avalanche Location': 'crown', 'WL_Depth': 940.0, 'WL_Thickness': 20.0}, {'Slope Angle': '20', 'HS': 2800.0, 'Profile Depth': 1450.0, 'Pit Near Avalanche Location': 'crown', 'WL_Depth': 560.0, 'WL_Thickness': 60.0}, {'Slope Angle': 0.0, 'HS': 2400.0, 'Profile Depth': 490.0, 'Pit Near Avalanche Location': 'other', 'WL_Depth': 320.0, 'WL_Thickness': 10.0}, {'Slope Angle': '34', 'HS': 560.0, 'Profile Depth': 560.0, 'Pit Near Avalanche Location': 'flank', 'WL_Depth': 310.0, 'WL_Thickness': 100.0}, {'Slope Angle': '44', 'HS': 2000.0, 'Profile Depth': 2000.0, 'Pit Near Avalanche Location': 'crown', 'WL_Depth': 1300.0, 'WL_Thickness': 30.0}, {'Slope Angle': '34', 'HS': 1600.0, 'Profile Depth': 1600.0, 'Pit Near Avalanche Location': 'crown', 'WL_Depth': 800.0, 'WL_Thickness': 100.0}, {'Slope Angle': '47', 'HS': 2580.0, 'Profile Depth': 800.0, 'Pit Near Avalanche Location': 'crown', 'WL_Depth': 600.0, 'WL_Thickness': 100.0}, {'Slope Angle': 0.0, 'HS': 1200.0, 'Profile Depth': 1200.0, 'Pit Near Avalanche Location': 'other', 'WL_Depth': 600.0, 'WL_Thickness': 10.0}, {'Slope Angle': 0.0, 'HS': 3250.0, 'Profile Depth': 1600.0, 'Pit Near Avalanche Location': 'flank', 'WL_Depth': 900.0, 'WL_Thickness': 700.0}, {'Slope Angle': '28', 'HS': 600.0, 'Profile Depth': 600.0, 'Pit Near Avalanche Location': 'crown', 'WL_Depth': 460.0, 'WL_Thickness': 140.0}, {'Slope Angle': '35', 'HS': 2350.0, 'Profile Depth': 590.0, 'Pit Near Avalanche Location': 'crown', 'WL_Depth': 230.0, 'WL_Thickness': 20.0}, {'Slope Angle': '20', 'HS': 2250.0, 'Profile Depth': 1300.0, 'Pit Near Avalanche Location': 'other', 'WL_Depth': 560.0, 'WL_Thickness': 40.0}, {'Slope Angle': '31', 'HS': 2850.0, 'Profile Depth': 2850.0, 'Pit Near Avalanche Location': 'crown', 'WL_Depth': 1110.0, 'WL_Thickness': 10.0}, {'Slope Angle': '25', 'HS': 1250.0, 'Profile Depth': 1250.0, 'Pit Near Avalanche Location': 'other', 'WL_Depth': 600.0, 'WL_Thickness': 50.0}, {'Slope Angle': '40', 'HS': 1850.0, 'Profile Depth': 1850.0, 'Pit Near Avalanche Location': None, 'WL_Depth': 650.0, 'WL_Thickness': 100.0}, {'Slope Angle': '30', 'HS': 1890.0, 'Profile Depth': 1890.0, 'Pit Near Avalanche Location': 'flank', 'WL_Depth': 620.0, 'WL_Thickness': 20.0}, {'Slope Angle': '20', 'HS': 690.0, 'Profile Depth': 690.0, 'Pit Near Avalanche Location': 'flank', 'WL_Depth': 470.0, 'WL_Thickness': 10.0}, {'Slope Angle': '33', 'HS': 1040.0, 'Profile Depth': 1040.0, 'Pit Near Avalanche Location': 'crown', 'WL_Depth': 300.0, 'WL_Thickness': 40.0}, {'Slope Angle': '35', 'HS': 1500.0, 'Profile Depth': 1500.0, 'Pit Near Avalanche Location': 'crown', 'WL_Depth': 400.0, 'WL_Thickness': 10.0}, {'Slope Angle': '38', 'HS': 2200.0, 'Profile Depth': 800.0, 'Pit Near Avalanche Location': 'crown', 'WL_Depth': 280.0, 'WL_Thickness': 20.0}, {'Slope Angle': '35', 'HS': 3000.0, 'Profile Depth': 3000.0, 'Pit Near Avalanche Location': 'flank', 'WL_Depth': 900.0, 'WL_Thickness': 500.0}, {'Slope Angle': '38', 'HS': 600.0, 'Profile Depth': 600.0, 'Pit Near Avalanche Location': 'crown', 'WL_Depth': 240.0, 'WL_Thickness': 10.0}, {'Slope Angle': '30', 'HS': 1200.0, 'Profile Depth': 1200.0, 'Pit Near Avalanche Location': 'flank', 'WL_Depth': 750.0, 'WL_Thickness': 230.0}, {'Slope Angle': '28', 'HS': 1000.0, 'Profile Depth': 1000.0, 'Pit Near Avalanche Location': 'crown', 'WL_Depth': 230.0, 'WL_Thickness': 120.0}, {'Slope Angle': '25', 'HS': 900.0, 'Profile Depth': 900.0, 'Pit Near Avalanche Location': 'crown', 'WL_Depth': 370.0, 'WL_Thickness': 20.0}, {'Slope Angle': '28', 'HS': 910.0, 'Profile Depth': 910.0, 'Pit Near Avalanche Location': 'other', 'WL_Depth': 340.0, 'WL_Thickness': 30.0}, {'Slope Angle': '35', 'HS': 1350.0, 'Profile Depth': 1350.0, 'Pit Near Avalanche Location': 'flank', 'WL_Depth': 700.0, 'WL_Thickness': 80.0}, {'Slope Angle': '15', 'HS': 580.0, 'Profile Depth': 580.0, 'Pit Near Avalanche Location': None, 'WL_Depth': 380.0, 'WL_Thickness': 5.0}, {'Slope Angle': '30', 'HS': 4600.0, 'Profile Depth': 1600.0, 'Pit Near Avalanche Location': 'other', 'WL_Depth': 310.0, 'WL_Thickness': 120.0}, {'Slope Angle': '42', 'HS': 1500.0, 'Profile Depth': 1500.0, 'Pit Near Avalanche Location': 'crown', 'WL_Depth': 1050.0, 'WL_Thickness': 250.0}, {'Slope Angle': '28', 'HS': 1850.0, 'Profile Depth': 1850.0, 'Pit Near Avalanche Location': 'crown', 'WL_Depth': 830.0, 'WL_Thickness': 40.0}, {'Slope Angle': '20', 'HS': 1200.0, 'Profile Depth': 1200.0, 'Pit Near Avalanche Location': 'crown', 'WL_Depth': 150.0, 'WL_Thickness': 190.0}, {'Slope Angle': '33', 'HS': 1420.0, 'Profile Depth': 1420.0, 'Pit Near Avalanche Location': 'crown', 'WL_Depth': 610.0, 'WL_Thickness': 10.0}, {'Slope Angle': '36', 'HS': 470.0, 'Profile Depth': 470.0, 'Pit Near Avalanche Location': 'crown', 'WL_Depth': 200.0, 'WL_Thickness': 40.0}, {'Slope Angle': '28', 'HS': 3030.0, 'Profile Depth': 3030.0, 'Pit Near Avalanche Location': 'flank', 'WL_Depth': 720.0, 'WL_Thickness': 10.0}, {'Slope Angle': '30', 'HS': 3500.0, 'Profile Depth': 1400.0, 'Pit Near Avalanche Location': 'crown', 'WL_Depth': 1060.0, 'WL_Thickness': 10.0}, {'Slope Angle': '37', 'HS': 950.0, 'Profile Depth': 950.0, 'Pit Near Avalanche Location': 'flank', 'WL_Depth': 800.0, 'WL_Thickness': 150.0}, {'Slope Angle': 0.0, 'HS': 1520.0, 'Profile Depth': 1520.0, 'Pit Near Avalanche Location': 'other', 'WL_Depth': 1070.0, 'WL_Thickness': 450.0}, {'Slope Angle': '33', 'HS': 2800.0, 'Profile Depth': 2800.0, 'Pit Near Avalanche Location': 'flank', 'WL_Depth': 250.0, 'WL_Thickness': 400.0}, {'Slope Angle': '23', 'HS': 1200.0, 'Profile Depth': 1200.0, 'Pit Near Avalanche Location': 'flank', 'WL_Depth': 950.0, 'WL_Thickness': 90.0}, {'Slope Angle': 0.0, 'HS': 1050.0, 'Profile Depth': 1050.0, 'Pit Near Avalanche Location': 'crown', 'WL_Depth': 150.0, 'WL_Thickness': 50.0}, {'Slope Angle': '30', 'HS': 1900.0, 'Profile Depth': 1900.0, 'Pit Near Avalanche Location': 'flank', 'WL_Depth': 460.0, 'WL_Thickness': 80.0}, {'Slope Angle': '25', 'HS': 1120.0, 'Profile Depth': 1120.0, 'Pit Near Avalanche Location': 'other', 'WL_Depth': 480.0, 'WL_Thickness': 10.0}, {'Slope Angle': '45', 'HS': 790.0, 'Profile Depth': 790.0, 'Pit Near Avalanche Location': 'crown', 'WL_Depth': 350.0, 'WL_Thickness': 20.0}, {'Slope Angle': '37', 'HS': 950.0, 'Profile Depth': 950.0, 'Pit Near Avalanche Location': 'crown', 'WL_Depth': 490.0, 'WL_Thickness': 10.0}, {'Slope Angle': '20', 'HS': 900.0, 'Profile Depth': 900.0, 'Pit Near Avalanche Location': 'other', 'WL_Depth': 650.0, 'WL_Thickness': 70.0}, {'Slope Angle': '33', 'HS': 1870.0, 'Profile Depth': 1870.0, 'Pit Near Avalanche Location': 'crown', 'WL_Depth': 1220.0, 'WL_Thickness': 30.0}, {'Slope Angle': '35', 'HS': 1130.0, 'Profile Depth': 1130.0, 'Pit Near Avalanche Location': 'crown', 'WL_Depth': 610.0, 'WL_Thickness': 60.0}, {'Slope Angle': '28', 'HS': 1350.0, 'Profile Depth': 1350.0, 'Pit Near Avalanche Location': 'other', 'WL_Depth': 1200.0, 'WL_Thickness': 150.0}, {'Slope Angle': '38', 'HS': 1200.0, 'Profile Depth': 1200.0, 'Pit Near Avalanche Location': None, 'WL_Depth': 928.0, 'WL_Thickness': 74.0}, {'Slope Angle': '24', 'HS': 670.0, 'Profile Depth': 670.0, 'Pit Near Avalanche Location': 'other', 'WL_Depth': 570.0, 'WL_Thickness': 100.0}, {'Slope Angle': 0.0, 'HS': 1150.0, 'Profile Depth': 1150.0, 'Pit Near Avalanche Location': 'crown', 'WL_Depth': 1050.0, 'WL_Thickness': 100.0}, {'Slope Angle': '31', 'HS': 1120.0, 'Profile Depth': 1120.0, 'Pit Near Avalanche Location': 'crown', 'WL_Depth': 530.0, 'WL_Thickness': 30.0}, {'Slope Angle': 0.0, 'HS': 2470.0, 'Profile Depth': 2470.0, 'Pit Near Avalanche Location': 'crown', 'WL_Depth': 800.0, 'WL_Thickness': 10.0}, {'Slope Angle': '30', 'HS': 970.0, 'Profile Depth': 970.0, 'Pit Near Avalanche Location': 'flank', 'WL_Depth': 50.0, 'WL_Thickness': 220.0}, {'Slope Angle': '29', 'HS': 2780.0, 'Profile Depth': 2780.0, 'Pit Near Avalanche Location': 'flank', 'WL_Depth': 470.0, 'WL_Thickness': 10.0}, {'Slope Angle': '23', 'HS': 1450.0, 'Profile Depth': 1450.0, 'Pit Near Avalanche Location': 'crown', 'WL_Depth': 970.0, 'WL_Thickness': 480.0}, {'Slope Angle': '25', 'HS': 900.0, 'Profile Depth': 900.0, 'Pit Near Avalanche Location': 'crown', 'WL_Depth': 390.0, 'WL_Thickness': 220.0}, {'Slope Angle': '35', 'HS': None, 'Profile Depth': 1000.0, 'Pit Near Avalanche Location': 'crown', 'WL_Depth': 700.0, 'WL_Thickness': 50.0}, {'Slope Angle': '36', 'HS': 640.0, 'Profile Depth': 640.0, 'Pit Near Avalanche Location': 'flank', 'WL_Depth': 410.0, 'WL_Thickness': 40.0}, {'Slope Angle': '33', 'HS': 650.0, 'Profile Depth': 650.0, 'Pit Near Avalanche Location': 'other', 'WL_Depth': 260.0, 'WL_Thickness': 90.0}, {'Slope Angle': '34', 'HS': 1080.0, 'Profile Depth': 1080.0, 'Pit Near Avalanche Location': None, 'WL_Depth': 600.0, 'WL_Thickness': 100.0}, {'Slope Angle': '43', 'HS': 3550.0, 'Profile Depth': 470.0, 'Pit Near Avalanche Location': 'crown', 'WL_Depth': 410.0, 'WL_Thickness': 60.0}, {'Slope Angle': '38', 'HS': 1500.0, 'Profile Depth': 600.0, 'Pit Near Avalanche Location': 'crown', 'WL_Depth': 400.0, 'WL_Thickness': 140.0}, {'Slope Angle': '36', 'HS': 1600.0, 'Profile Depth': 1600.0, 'Pit Near Avalanche Location': 'flank', 'WL_Depth': 1150.0, 'WL_Thickness': 50.0}, {'Slope Angle': '33', 'HS': 1350.0, 'Profile Depth': 1350.0, 'Pit Near Avalanche Location': 'flank', 'WL_Depth': 60.0, 'WL_Thickness': 20.0}, {'Slope Angle': '30', 'HS': 910.0, 'Profile Depth': 910.0, 'Pit Near Avalanche Location': None, 'WL_Depth': 760.0, 'WL_Thickness': 150.0}, {'Slope Angle': '38', 'HS': 1400.0, 'Profile Depth': 1400.0, 'Pit Near Avalanche Location': 'crown', 'WL_Depth': 950.0, 'WL_Thickness': 450.0}, {'Slope Angle': '25', 'HS': 700.0, 'Profile Depth': 700.0, 'Pit Near Avalanche Location': 'flank', 'WL_Depth': 300.0, 'WL_Thickness': 50.0}, {'Slope Angle': '35', 'HS': 1400.0, 'Profile Depth': 1400.0, 'Pit Near Avalanche Location': 'flank', 'WL_Depth': 850.0, 'WL_Thickness': 20.0}, {'Slope Angle': '25', 'HS': 650.0, 'Profile Depth': 650.0, 'Pit Near Avalanche Location': 'crown', 'WL_Depth': 450.0, 'WL_Thickness': 200.0}, {'Slope Angle': '32', 'HS': 3170.0, 'Profile Depth': 1450.0, 'Pit Near Avalanche Location': 'crown', 'WL_Depth': 1060.0, 'WL_Thickness': 30.0}, {'Slope Angle': '32', 'HS': 1320.0, 'Profile Depth': 1320.0, 'Pit Near Avalanche Location': 'crown', 'WL_Depth': 430.0, 'WL_Thickness': 30.0}, {'Slope Angle': '35', 'HS': 1700.0, 'Profile Depth': 1700.0, 'Pit Near Avalanche Location': 'crown', 'WL_Depth': 900.0, 'WL_Thickness': 5.0}, {'Slope Angle': '30', 'HS': 1500.0, 'Profile Depth': 1500.0, 'Pit Near Avalanche Location': 'crown', 'WL_Depth': 700.0, 'WL_Thickness': 40.0}, {'Slope Angle': '42', 'HS': 1250.0, 'Profile Depth': 1250.0, 'Pit Near Avalanche Location': 'crown', 'WL_Depth': 510.0, 'WL_Thickness': 40.0}, {'Slope Angle': '30', 'HS': 2400.0, 'Profile Depth': 1000.0, 'Pit Near Avalanche Location': 'crown', 'WL_Depth': 300.0, 'WL_Thickness': 50.0}, {'Slope Angle': '34', 'HS': 2600.0, 'Profile Depth': 2600.0, 'Pit Near Avalanche Location': 'flank', 'WL_Depth': 580.0, 'WL_Thickness': 20.0}, {'Slope Angle': '33', 'HS': 1630.0, 'Profile Depth': 1630.0, 'Pit Near Avalanche Location': 'crown', 'WL_Depth': 1230.0, 'WL_Thickness': 400.0}, {'Slope Angle': '39', 'HS': 1250.0, 'Profile Depth': 1250.0, 'Pit Near Avalanche Location': 'crown', 'WL_Depth': 120.0, 'WL_Thickness': 290.0}, {'Slope Angle': '35', 'HS': 1820.0, 'Profile Depth': 1820.0, 'Pit Near Avalanche Location': 'flank', 'WL_Depth': 840.0, 'WL_Thickness': 150.0}, {'Slope Angle': '40', 'HS': 5000.0, 'Profile Depth': 1600.0, 'Pit Near Avalanche Location': 'crown', 'WL_Depth': 1400.0, 'WL_Thickness': 50.0}, {'Slope Angle': '35', 'HS': 1550.0, 'Profile Depth': 1550.0, 'Pit Near Avalanche Location': 'crown', 'WL_Depth': 440.0, 'WL_Thickness': 130.0}, {'Slope Angle': '30', 'HS': 1690.0, 'Profile Depth': 1690.0, 'Pit Near Avalanche Location': 'flank', 'WL_Depth': 500.0, 'WL_Thickness': 40.0}, {'Slope Angle': '39', 'HS': 1130.0, 'Profile Depth': 1130.0, 'Pit Near Avalanche Location': 'other', 'WL_Depth': 800.0, 'WL_Thickness': 330.0}, {'Slope Angle': '36', 'HS': 1280.0, 'Profile Depth': 1280.0, 'Pit Near Avalanche Location': 'crown', 'WL_Depth': 630.0, 'WL_Thickness': 50.0}, {'Slope Angle': '37', 'HS': None, 'Profile Depth': 1000.0, 'Pit Near Avalanche Location': 'flank', 'WL_Depth': 230.0, 'WL_Thickness': 20.0}, {'Slope Angle': '29', 'HS': 2050.0, 'Profile Depth': 2050.0, 'Pit Near Avalanche Location': 'flank', 'WL_Depth': 500.0, 'WL_Thickness': 150.0}, {'Slope Angle': '38', 'HS': 1000.0, 'Profile Depth': 400.0, 'Pit Near Avalanche Location': 'flank', 'WL_Depth': 130.0, 'WL_Thickness': 70.0}, {'Slope Angle': '27', 'HS': 1050.0, 'Profile Depth': 1050.0, 'Pit Near Avalanche Location': 'other', 'WL_Depth': 200.0, 'WL_Thickness': 600.0}, {'Slope Angle': '38', 'HS': 2150.0, 'Profile Depth': 1600.0, 'Pit Near Avalanche Location': 'crown', 'WL_Depth': 800.0, 'WL_Thickness': 30.0}, {'Slope Angle': '32', 'HS': 880.0, 'Profile Depth': 880.0, 'Pit Near Avalanche Location': 'flank', 'WL_Depth': 610.0, 'WL_Thickness': 30.0}, {'Slope Angle': 0.0, 'HS': 2370.0, 'Profile Depth': 2370.0, 'Pit Near Avalanche Location': 'crown', 'WL_Depth': 830.0, 'WL_Thickness': 120.0}, {'Slope Angle': '33', 'HS': 3100.0, 'Profile Depth': 3100.0, 'Pit Near Avalanche Location': 'flank', 'WL_Depth': 770.0, 'WL_Thickness': 40.0}, {'Slope Angle': '34', 'HS': 1200.0, 'Profile Depth': 1200.0, 'Pit Near Avalanche Location': 'crown', 'WL_Depth': 680.0, 'WL_Thickness': 10.0}, {'Slope Angle': '24', 'HS': 2470.0, 'Profile Depth': 2470.0, 'Pit Near Avalanche Location': 'other', 'WL_Depth': 730.0, 'WL_Thickness': 340.0}, {'Slope Angle': '32', 'HS': 1580.0, 'Profile Depth': 1580.0, 'Pit Near Avalanche Location': 'crown', 'WL_Depth': 1250.0, 'WL_Thickness': 60.0}, {'Slope Angle': '35', 'HS': 1500.0, 'Profile Depth': 550.0, 'Pit Near Avalanche Location': 'crown', 'WL_Depth': 330.0, 'WL_Thickness': 30.0}, {'Slope Angle': '35', 'HS': 970.0, 'Profile Depth': 970.0, 'Pit Near Avalanche Location': 'crown', 'WL_Depth': 690.0, 'WL_Thickness': 150.0}, {'Slope Angle': '30', 'HS': 1700.0, 'Profile Depth': 1700.0, 'Pit Near Avalanche Location': 'crown', 'WL_Depth': 750.0, 'WL_Thickness': 150.0}, {'Slope Angle': 0.0, 'HS': 2500.0, 'Profile Depth': 2500.0, 'Pit Near Avalanche Location': None, 'WL_Depth': 2100.0, 'WL_Thickness': 400.0}, {'Slope Angle': '40', 'HS': 1820.0, 'Profile Depth': 1820.0, 'Pit Near Avalanche Location': 'crown', 'WL_Depth': 690.0, 'WL_Thickness': 170.0}, {'Slope Angle': '30', 'HS': 700.0, 'Profile Depth': 700.0, 'Pit Near Avalanche Location': None, 'WL_Depth': 580.0, 'WL_Thickness': 120.0}, {'Slope Angle': '32', 'HS': 1310.0, 'Profile Depth': 1310.0, 'Pit Near Avalanche Location': 'crown', 'WL_Depth': 930.0, 'WL_Thickness': 280.0}, {'Slope Angle': '26', 'HS': 1100.0, 'Profile Depth': 650.0, 'Pit Near Avalanche Location': 'other', 'WL_Depth': 500.0, 'WL_Thickness': 20.0}, {'Slope Angle': '41', 'HS': 2400.0, 'Profile Depth': 1140.0, 'Pit Near Avalanche Location': 'flank', 'WL_Depth': 200.0, 'WL_Thickness': 20.0}, {'Slope Angle': '37', 'HS': 1900.0, 'Profile Depth': 1900.0, 'Pit Near Avalanche Location': 'flank', 'WL_Depth': 250.0, 'WL_Thickness': 50.0}, {'Slope Angle': '38', 'HS': 1350.0, 'Profile Depth': 1350.0, 'Pit Near Avalanche Location': 'crown', 'WL_Depth': 800.0, 'WL_Thickness': 250.0}, {'Slope Angle': '36', 'HS': 1650.0, 'Profile Depth': 1650.0, 'Pit Near Avalanche Location': 'flank', 'WL_Depth': 1300.0, 'WL_Thickness': 350.0}, {'Slope Angle': '20', 'HS': 2600.0, 'Profile Depth': 2600.0, 'Pit Near Avalanche Location': 'crown', 'WL_Depth': 1050.0, 'WL_Thickness': 10.0}, {'Slope Angle': '25', 'HS': 6000.0, 'Profile Depth': 1350.0, 'Pit Near Avalanche Location': 'flank', 'WL_Depth': 150.0, 'WL_Thickness': 100.0}, {'Slope Angle': '35', 'HS': 3000.0, 'Profile Depth': 3000.0, 'Pit Near Avalanche Location': 'other', 'WL_Depth': 300.0, 'WL_Thickness': 10.0}, {'Slope Angle': '26', 'HS': None, 'Profile Depth': 1050.0, 'Pit Near Avalanche Location': None, 'WL_Depth': 730.0, 'WL_Thickness': 50.0}, {'Slope Angle': '39', 'HS': 1500.0, 'Profile Depth': 1500.0, 'Pit Near Avalanche Location': 'crown', 'WL_Depth': 430.0, 'WL_Thickness': 180.0}, {'Slope Angle': '35', 'HS': 3200.0, 'Profile Depth': 1000.0, 'Pit Near Avalanche Location': 'flank', 'WL_Depth': 600.0, 'WL_Thickness': 20.0}, {'Slope Angle': '42', 'HS': 1350.0, 'Profile Depth': 1350.0, 'Pit Near Avalanche Location': 'crown', 'WL_Depth': 320.0, 'WL_Thickness': 230.0}, {'Slope Angle': '35', 'HS': 3800.0, 'Profile Depth': 1400.0, 'Pit Near Avalanche Location': 'flank', 'WL_Depth': 570.0, 'WL_Thickness': 30.0}, {'Slope Angle': '36', 'HS': 990.0, 'Profile Depth': 990.0, 'Pit Near Avalanche Location': 'crown', 'WL_Depth': 320.0, 'WL_Thickness': 20.0}, {'Slope Angle': '20', 'HS': None, 'Profile Depth': 400.0, 'Pit Near Avalanche Location': 'other', 'WL_Depth': 130.0, 'WL_Thickness': 5.0}, {'Slope Angle': '34', 'HS': 1090.0, 'Profile Depth': 1090.0, 'Pit Near Avalanche Location': 'crown', 'WL_Depth': 630.0, 'WL_Thickness': 20.0}, {'Slope Angle': 0.0, 'HS': 700.0, 'Profile Depth': 700.0, 'Pit Near Avalanche Location': 'crown', 'WL_Depth': 450.0, 'WL_Thickness': 250.0}, {'Slope Angle': '35', 'HS': 3700.0, 'Profile Depth': 1000.0, 'Pit Near Avalanche Location': 'crown', 'WL_Depth': 690.0, 'WL_Thickness': 10.0}, {'Slope Angle': '41', 'HS': 1200.0, 'Profile Depth': 1200.0, 'Pit Near Avalanche Location': 'crown', 'WL_Depth': 500.0, 'WL_Thickness': 130.0}, {'Slope Angle': '30', 'HS': 480.0, 'Profile Depth': 480.0, 'Pit Near Avalanche Location': None, 'WL_Depth': 370.0, 'WL_Thickness': 110.0}, {'Slope Angle': '20', 'HS': 3250.0, 'Profile Depth': 1000.0, 'Pit Near Avalanche Location': 'flank', 'WL_Depth': 480.0, 'WL_Thickness': 70.0}, {'Slope Angle': '26', 'HS': 1380.0, 'Profile Depth': 1380.0, 'Pit Near Avalanche Location': 'flank', 'WL_Depth': 970.0, 'WL_Thickness': 410.0}, {'Slope Angle': '24', 'HS': 1000.0, 'Profile Depth': 800.0, 'Pit Near Avalanche Location': 'flank', 'WL_Depth': 340.0, 'WL_Thickness': 190.0}, {'Slope Angle': '22', 'HS': 1500.0, 'Profile Depth': 1500.0, 'Pit Near Avalanche Location': 'other', 'WL_Depth': 360.0, 'WL_Thickness': 10.0}, {'Slope Angle': '33', 'HS': 2750.0, 'Profile Depth': 2750.0, 'Pit Near Avalanche Location': 'crown', 'WL_Depth': 750.0, 'WL_Thickness': 10.0}, {'Slope Angle': '30', 'HS': 1670.0, 'Profile Depth': 1670.0, 'Pit Near Avalanche Location': 'other', 'WL_Depth': 390.0, 'WL_Thickness': 80.0}, {'Slope Angle': '32', 'HS': 950.0, 'Profile Depth': 950.0, 'Pit Near Avalanche Location': None, 'WL_Depth': 440.0, 'WL_Thickness': 10.0}, {'Slope Angle': '28', 'HS': 7000.0, 'Profile Depth': 1100.0, 'Pit Near Avalanche Location': None, 'WL_Depth': 770.0, 'WL_Thickness': 50.0}, {'Slope Angle': '30', 'HS': 3000.0, 'Profile Depth': 700.0, 'Pit Near Avalanche Location': 'crown', 'WL_Depth': 430.0, 'WL_Thickness': 10.0}, {'Slope Angle': '35', 'HS': 670.0, 'Profile Depth': 670.0, 'Pit Near Avalanche Location': 'flank', 'WL_Depth': 490.0, 'WL_Thickness': 2.0}, {'Slope Angle': '34', 'HS': 3200.0, 'Profile Depth': 3200.0, 'Pit Near Avalanche Location': 'flank', 'WL_Depth': 670.0, 'WL_Thickness': 30.0}, {'Slope Angle': '35', 'HS': 3000.0, 'Profile Depth': 3000.0, 'Pit Near Avalanche Location': 'flank', 'WL_Depth': 322.0, 'WL_Thickness': 36.0}, {'Slope Angle': '36', 'HS': 3070.0, 'Profile Depth': 3070.0, 'Pit Near Avalanche Location': 'crown', 'WL_Depth': 400.0, 'WL_Thickness': 180.0}, {'Slope Angle': '34', 'HS': 800.0, 'Profile Depth': 800.0, 'Pit Near Avalanche Location': None, 'WL_Depth': 600.0, 'WL_Thickness': 20.0}, {'Slope Angle': '39', 'HS': 1600.0, 'Profile Depth': 1600.0, 'Pit Near Avalanche Location': 'crown', 'WL_Depth': 550.0, 'WL_Thickness': 150.0}, {'Slope Angle': '28', 'HS': 630.0, 'Profile Depth': 630.0, 'Pit Near Avalanche Location': 'crown', 'WL_Depth': 290.0, 'WL_Thickness': 20.0}, {'Slope Angle': '33', 'HS': 1150.0, 'Profile Depth': 1150.0, 'Pit Near Avalanche Location': 'other', 'WL_Depth': 950.0, 'WL_Thickness': 200.0}, {'Slope Angle': '43', 'HS': 1400.0, 'Profile Depth': 1400.0, 'Pit Near Avalanche Location': 'crown', 'WL_Depth': 1010.0, 'WL_Thickness': 20.0}, {'Slope Angle': '47', 'HS': 4500.0, 'Profile Depth': 1020.0, 'Pit Near Avalanche Location': 'crown', 'WL_Depth': 850.0, 'WL_Thickness': 20.0}, {'Slope Angle': '27', 'HS': 1250.0, 'Profile Depth': 1250.0, 'Pit Near Avalanche Location': 'flank', 'WL_Depth': 700.0, 'WL_Thickness': 50.0}, {'Slope Angle': '30', 'HS': 1670.0, 'Profile Depth': 1670.0, 'Pit Near Avalanche Location': 'other', 'WL_Depth': 390.0, 'WL_Thickness': 80.0}, {'Slope Angle': '42', 'HS': 2400.0, 'Profile Depth': 2400.0, 'Pit Near Avalanche Location': 'crown', 'WL_Depth': 1900.0, 'WL_Thickness': 50.0}, {'Slope Angle': '38', 'HS': 120.0, 'Profile Depth': 120.0, 'Pit Near Avalanche Location': 'other', 'WL_Depth': 50.0, 'WL_Thickness': 20.0}, {'Slope Angle': '30', 'HS': 710.0, 'Profile Depth': 710.0, 'Pit Near Avalanche Location': 'flank', 'WL_Depth': 400.0, 'WL_Thickness': 310.0}, {'Slope Angle': '32', 'HS': 2500.0, 'Profile Depth': 2500.0, 'Pit Near Avalanche Location': 'flank', 'WL_Depth': 1070.0, 'WL_Thickness': 30.0}, {'Slope Angle': '20', 'HS': 1500.0, 'Profile Depth': 1500.0, 'Pit Near Avalanche Location': 'crown', 'WL_Depth': 300.0, 'WL_Thickness': 50.0}, {'Slope Angle': '38', 'HS': 1650.0, 'Profile Depth': 1650.0, 'Pit Near Avalanche Location': 'crown', 'WL_Depth': 1120.0, 'WL_Thickness': 80.0}, {'Slope Angle': '30', 'HS': 2450.0, 'Profile Depth': 2450.0, 'Pit Near Avalanche Location': 'crown', 'WL_Depth': 0.0, 'WL_Thickness': 32.0}, {'Slope Angle': '40', 'HS': 1700.0, 'Profile Depth': 1700.0, 'Pit Near Avalanche Location': 'crown', 'WL_Depth': 623.0, 'WL_Thickness': 127.0}, {'Slope Angle': '34', 'HS': 2150.0, 'Profile Depth': 2150.0, 'Pit Near Avalanche Location': 'flank', 'WL_Depth': 50.0, 'WL_Thickness': 200.0}, {'Slope Angle': '38', 'HS': 1980.0, 'Profile Depth': 1980.0, 'Pit Near Avalanche Location': 'crown', 'WL_Depth': 810.0, 'WL_Thickness': 50.0}, {'Slope Angle': '34', 'HS': 1300.0, 'Profile Depth': 1300.0, 'Pit Near Avalanche Location': 'flank', 'WL_Depth': 500.0, 'WL_Thickness': 300.0}, {'Slope Angle': '40', 'HS': 1000.0, 'Profile Depth': 1000.0, 'Pit Near Avalanche Location': 'crown', 'WL_Depth': 410.0, 'WL_Thickness': 60.0}, {'Slope Angle': 0.0, 'HS': 2020.0, 'Profile Depth': 2020.0, 'Pit Near Avalanche Location': 'crown', 'WL_Depth': 850.0, 'WL_Thickness': 120.0}, {'Slope Angle': '40', 'HS': 1750.0, 'Profile Depth': 1750.0, 'Pit Near Avalanche Location': 'crown', 'WL_Depth': 850.0, 'WL_Thickness': 10.0}, {'Slope Angle': '40', 'HS': 2800.0, 'Profile Depth': 2800.0, 'Pit Near Avalanche Location': 'crown', 'WL_Depth': 950.0, 'WL_Thickness': 150.0}, {'Slope Angle': '43', 'HS': 1260.0, 'Profile Depth': 1260.0, 'Pit Near Avalanche Location': 'crown', 'WL_Depth': 195.0, 'WL_Thickness': 365.0}, {'Slope Angle': '43', 'HS': 1440.0, 'Profile Depth': 1440.0, 'Pit Near Avalanche Location': 'crown', 'WL_Depth': 1190.0, 'WL_Thickness': 250.0}, {'Slope Angle': '42', 'HS': 4500.0, 'Profile Depth': 950.0, 'Pit Near Avalanche Location': 'crown', 'WL_Depth': 570.0, 'WL_Thickness': 150.0}, {'Slope Angle': '32', 'HS': 1210.0, 'Profile Depth': 1210.0, 'Pit Near Avalanche Location': 'flank', 'WL_Depth': 730.0, 'WL_Thickness': 180.0}, {'Slope Angle': '40', 'HS': 910.0, 'Profile Depth': 910.0, 'Pit Near Avalanche Location': 'crown', 'WL_Depth': 440.0, 'WL_Thickness': 140.0}, {'Slope Angle': '41', 'HS': 1260.0, 'Profile Depth': 1260.0, 'Pit Near Avalanche Location': None, 'WL_Depth': 1060.0, 'WL_Thickness': 200.0}, {'Slope Angle': '38', 'HS': 1050.0, 'Profile Depth': 1050.0, 'Pit Near Avalanche Location': 'crown', 'WL_Depth': 320.0, 'WL_Thickness': 20.0}, {'Slope Angle': '40', 'HS': 670.0, 'Profile Depth': 670.0, 'Pit Near Avalanche Location': 'crown', 'WL_Depth': 610.0, 'WL_Thickness': 50.0}, {'Slope Angle': '36', 'HS': 1100.0, 'Profile Depth': 1100.0, 'Pit Near Avalanche Location': 'crown', 'WL_Depth': 260.0, 'WL_Thickness': 20.0}, {'Slope Angle': '33', 'HS': 690.0, 'Profile Depth': 690.0, 'Pit Near Avalanche Location': 'crown', 'WL_Depth': 535.0, 'WL_Thickness': 155.0}, {'Slope Angle': '33', 'HS': 1500.0, 'Profile Depth': 1500.0, 'Pit Near Avalanche Location': 'crown', 'WL_Depth': 450.0, 'WL_Thickness': 750.0}, {'Slope Angle': '12', 'HS': 900.0, 'Profile Depth': 900.0, 'Pit Near Avalanche Location': 'flank', 'WL_Depth': 630.0, 'WL_Thickness': 270.0}, {'Slope Angle': 0.0, 'HS': 1470.0, 'Profile Depth': 1470.0, 'Pit Near Avalanche Location': 'flank', 'WL_Depth': 590.0, 'WL_Thickness': 180.0}, {'Slope Angle': 0.0, 'HS': None, 'Profile Depth': 500.0, 'Pit Near Avalanche Location': None, 'WL_Depth': 370.0, 'WL_Thickness': 30.0}, {'Slope Angle': '40', 'HS': 1200.0, 'Profile Depth': 1200.0, 'Pit Near Avalanche Location': 'flank', 'WL_Depth': 510.0, 'WL_Thickness': 20.0}, {'Slope Angle': '39', 'HS': None, 'Profile Depth': 500.0, 'Pit Near Avalanche Location': 'crown', 'WL_Depth': 250.0, 'WL_Thickness': 5.0}, {'Slope Angle': '35', 'HS': 1930.0, 'Profile Depth': 1930.0, 'Pit Near Avalanche Location': 'flank', 'WL_Depth': 1170.0, 'WL_Thickness': 80.0}, {'Slope Angle': '26', 'HS': None, 'Profile Depth': 1050.0, 'Pit Near Avalanche Location': 'crown', 'WL_Depth': 730.0, 'WL_Thickness': 50.0}, {'Slope Angle': 0.0, 'HS': 1600.0, 'Profile Depth': 1600.0, 'Pit Near Avalanche Location': 'flank', 'WL_Depth': 600.0, 'WL_Thickness': 10.0}, {'Slope Angle': '27', 'HS': 3400.0, 'Profile Depth': 1030.0, 'Pit Near Avalanche Location': 'flank', 'WL_Depth': 60.0, 'WL_Thickness': 180.0}, {'Slope Angle': '35', 'HS': 1130.0, 'Profile Depth': 1130.0, 'Pit Near Avalanche Location': 'crown', 'WL_Depth': 240.0, 'WL_Thickness': 10.0}, {'Slope Angle': '44', 'HS': 2250.0, 'Profile Depth': 2250.0, 'Pit Near Avalanche Location': 'crown', 'WL_Depth': 1250.0, 'WL_Thickness': 150.0}, {'Slope Angle': '35', 'HS': 1300.0, 'Profile Depth': 1300.0, 'Pit Near Avalanche Location': 'flank', 'WL_Depth': 1000.0, 'WL_Thickness': 300.0}, {'Slope Angle': '33', 'HS': 2750.0, 'Profile Depth': 1130.0, 'Pit Near Avalanche Location': 'crown', 'WL_Depth': 910.0, 'WL_Thickness': 20.0}, {'Slope Angle': '15', 'HS': 2400.0, 'Profile Depth': 1000.0, 'Pit Near Avalanche Location': None, 'WL_Depth': 690.0, 'WL_Thickness': 80.0}, {'Slope Angle': '41', 'HS': 2200.0, 'Profile Depth': 2200.0, 'Pit Near Avalanche Location': 'crown', 'WL_Depth': 1100.0, 'WL_Thickness': 100.0}, {'Slope Angle': '30', 'HS': 1080.0, 'Profile Depth': 1080.0, 'Pit Near Avalanche Location': 'crown', 'WL_Depth': 960.0, 'WL_Thickness': 120.0}, {'Slope Angle': '33', 'HS': 990.0, 'Profile Depth': 990.0, 'Pit Near Avalanche Location': 'crown', 'WL_Depth': 720.0, 'WL_Thickness': 20.0}, {'Slope Angle': '33', 'HS': 940.0, 'Profile Depth': 940.0, 'Pit Near Avalanche Location': 'flank', 'WL_Depth': 670.0, 'WL_Thickness': 270.0}, {'Slope Angle': '36', 'HS': 550.0, 'Profile Depth': 550.0, 'Pit Near Avalanche Location': 'crown', 'WL_Depth': 340.0, 'WL_Thickness': 60.0}, {'Slope Angle': '31', 'HS': 680.0, 'Profile Depth': 680.0, 'Pit Near Avalanche Location': 'other', 'WL_Depth': 430.0, 'WL_Thickness': 70.0}, {'Slope Angle': '42', 'HS': 1200.0, 'Profile Depth': 990.0, 'Pit Near Avalanche Location': 'crown', 'WL_Depth': 400.0, 'WL_Thickness': 30.0}, {'Slope Angle': '15', 'HS': 1950.0, 'Profile Depth': 1400.0, 'Pit Near Avalanche Location': 'flank', 'WL_Depth': 1000.0, 'WL_Thickness': 20.0}, {'Slope Angle': '34', 'HS': 1850.0, 'Profile Depth': 1850.0, 'Pit Near Avalanche Location': 'flank', 'WL_Depth': 350.0, 'WL_Thickness': 100.0}, {'Slope Angle': '25', 'HS': 1850.0, 'Profile Depth': 1850.0, 'Pit Near Avalanche Location': 'flank', 'WL_Depth': 400.0, 'WL_Thickness': 100.0}, {'Slope Angle': '39', 'HS': 1650.0, 'Profile Depth': 1650.0, 'Pit Near Avalanche Location': None, 'WL_Depth': 940.0, 'WL_Thickness': 330.0}, {'Slope Angle': '42', 'HS': 1100.0, 'Profile Depth': 1100.0, 'Pit Near Avalanche Location': 'other', 'WL_Depth': 750.0, 'WL_Thickness': 150.0}, {'Slope Angle': '22', 'HS': 6000.0, 'Profile Depth': 1350.0, 'Pit Near Avalanche Location': None, 'WL_Depth': 150.0, 'WL_Thickness': 100.0}, {'Slope Angle': '36', 'HS': 950.0, 'Profile Depth': 950.0, 'Pit Near Avalanche Location': 'crown', 'WL_Depth': 630.0, 'WL_Thickness': 320.0}, {'Slope Angle': '30', 'HS': 800.0, 'Profile Depth': 800.0, 'Pit Near Avalanche Location': 'other', 'WL_Depth': 200.0, 'WL_Thickness': 150.0}, {'Slope Angle': '38', 'HS': 2450.0, 'Profile Depth': 2450.0, 'Pit Near Avalanche Location': 'crown', 'WL_Depth': 1150.0, 'WL_Thickness': 150.0}, {'Slope Angle': '34', 'HS': 1200.0, 'Profile Depth': 1200.0, 'Pit Near Avalanche Location': None, 'WL_Depth': 0.0, 'WL_Thickness': 100.0}, {'Slope Angle': '30', 'HS': 710.0, 'Profile Depth': 710.0, 'Pit Near Avalanche Location': 'flank', 'WL_Depth': 360.0, 'WL_Thickness': 350.0}, {'Slope Angle': '38', 'HS': 480.0, 'Profile Depth': 480.0, 'Pit Near Avalanche Location': 'crown', 'WL_Depth': 270.0, 'WL_Thickness': 20.0}, {'Slope Angle': '32', 'HS': 1440.0, 'Profile Depth': 1440.0, 'Pit Near Avalanche Location': 'crown', 'WL_Depth': 960.0, 'WL_Thickness': 230.0}, {'Slope Angle': '31', 'HS': 4500.0, 'Profile Depth': 1500.0, 'Pit Near Avalanche Location': 'crown', 'WL_Depth': 920.0, 'WL_Thickness': 10.0}, {'Slope Angle': '40', 'HS': 1950.0, 'Profile Depth': 1950.0, 'Pit Near Avalanche Location': 'crown', 'WL_Depth': 1000.0, 'WL_Thickness': 100.0}, {'Slope Angle': '29', 'HS': 1100.0, 'Profile Depth': 1100.0, 'Pit Near Avalanche Location': 'flank', 'WL_Depth': 330.0, 'WL_Thickness': 70.0}, {'Slope Angle': '23', 'HS': 1030.0, 'Profile Depth': 1030.0, 'Pit Near Avalanche Location': 'flank', 'WL_Depth': 280.0, 'WL_Thickness': 50.0}, {'Slope Angle': '42', 'HS': 1700.0, 'Profile Depth': 1700.0, 'Pit Near Avalanche Location': 'crown', 'WL_Depth': 470.0, 'WL_Thickness': 230.0}, {'Slope Angle': '38', 'HS': 1330.0, 'Profile Depth': 1330.0, 'Pit Near Avalanche Location': 'crown', 'WL_Depth': 610.0, 'WL_Thickness': 50.0}, {'Slope Angle': '36', 'HS': None, 'Profile Depth': 1600.0, 'Pit Near Avalanche Location': 'other', 'WL_Depth': 0.0, 'WL_Thickness': 300.0}, {'Slope Angle': '38', 'HS': 900.0, 'Profile Depth': 900.0, 'Pit Near Avalanche Location': 'crown', 'WL_Depth': 240.0, 'WL_Thickness': 20.0}, {'Slope Angle': '17', 'HS': 2350.0, 'Profile Depth': 700.0, 'Pit Near Avalanche Location': 'flank', 'WL_Depth': 200.0, 'WL_Thickness': 40.0}, {'Slope Angle': '40', 'HS': 2800.0, 'Profile Depth': 2800.0, 'Pit Near Avalanche Location': 'crown', 'WL_Depth': 200.0, 'WL_Thickness': 30.0}, {'Slope Angle': '33', 'HS': 1500.0, 'Profile Depth': 1000.0, 'Pit Near Avalanche Location': 'other', 'WL_Depth': 0.0, 'WL_Thickness': 200.0}, {'Slope Angle': '36', 'HS': 1300.0, 'Profile Depth': 1300.0, 'Pit Near Avalanche Location': 'other', 'WL_Depth': 230.0, 'WL_Thickness': 130.0}, {'Slope Angle': '38', 'HS': 900.0, 'Profile Depth': 900.0, 'Pit Near Avalanche Location': 'crown', 'WL_Depth': 670.0, 'WL_Thickness': 230.0}, {'Slope Angle': '35', 'HS': 4200.0, 'Profile Depth': 4200.0, 'Pit Near Avalanche Location': 'crown', 'WL_Depth': 350.0, 'WL_Thickness': 100.0}]\n"
     ]
    }
   ],
   "source": [
    "pit_info_list = []\n",
    "for pit in avalanche_pits_with_layer_of_concern:\n",
    "    depth_top = pit.snowpit.snow_profile.layer_of_concern.depth_top\n",
    "    if depth_top:\n",
    "        depth_top_mm = depth_top[0] * convert_to_mm[depth_top[1]]\n",
    "    else:\n",
    "        depth_top_mm = None\n",
    "    thickness = pit.snowpit.snow_profile.layer_of_concern.thickness\n",
    "    if thickness:\n",
    "        thickness_mm = thickness[0] * convert_to_mm[thickness[1]]\n",
    "    else:\n",
    "        thickness_mm = None\n",
    "    slope_angle = pit.snowpit.core_info.location.slope_angle\n",
    "    if slope_angle:\n",
    "        slope_angle_deg = slope_angle[0] * convert_to_deg[slope_angle[1]]\n",
    "    else:\n",
    "        slope_angle_deg = 0.0\n",
    "    hs = pit.snowpit.snow_profile.hs\n",
    "    if hs:\n",
    "        hs_mm = hs[0] * convert_to_mm[hs[1]]\n",
    "    else:\n",
    "        hs_mm = None\n",
    "    profile_depth = pit.snowpit.snow_profile.profile_depth\n",
    "    if profile_depth:\n",
    "        profile_depth_mm = profile_depth[0] * convert_to_mm[profile_depth[1]]\n",
    "    else:\n",
    "        profile_depth_mm = None\n",
    "    pit_near_avalanche_location = pit.snowpit.core_info.location.pit_near_avalanche_location\n",
    "    pit_info_dict = {\n",
    "        \"Slope Angle\": slope_angle_deg,\n",
    "        \"HS\": hs_mm,\n",
    "        \"Profile Depth\": profile_depth_mm,\n",
    "        \"Pit Near Avalanche Location\": pit_near_avalanche_location,\n",
    "        \"WL_Depth\": depth_top_mm,\n",
    "        \"WL_Thickness\": thickness_mm,\n",
    "    }\n",
    "    pit_info_list.append(pit_info_dict)\n",
    "\n",
    "print(pit_info_list)"
   ]
  },
  {
   "cell_type": "code",
   "execution_count": 5,
   "id": "4fe65692",
   "metadata": {},
   "outputs": [],
   "source": [
    "# Setup standard values\n",
    "wl_spacing = 50 # mm\n",
    "phi = 0.0\n",
    "standard_scenario_config = ScenarioConfig(system_type=\"skier\", phi=phi)\n",
    "standard_weak_layer = WeakLayer(rho=125, h=20, E=1.0, sigma_c=6.16, tau_c=5.09)\n",
    "standard_segments = [\n",
    "    Segment(length=10000, has_foundation=True, m=0.0),\n",
    "    Segment(\n",
    "        length=10000,\n",
    "        has_foundation=True,\n",
    "        m=0.0,\n",
    "    ),\n",
    "]\n",
    "standard_criteria_config = CriteriaConfig()\n",
    "standard_criteria_evaluator = CriteriaEvaluator(standard_criteria_config)"
   ]
  },
  {
   "cell_type": "code",
   "execution_count": 6,
   "id": "fceb2cc6",
   "metadata": {},
   "outputs": [],
   "source": [
    "def eval_avalanche_pit(parser: SnowPilotParser, pit_info_dict: dict, scenario_config: ScenarioConfig, segments: list[Segment], weaklayer: WeakLayer):\n",
    "    # Extract layers\n",
    "    layers, density_method = parser.extract_layers()\n",
    "    heights = np.cumsum([layer.h for layer in layers])\n",
    "    \n",
    "    wl_depth = pit_info_dict[\"WL_Depth\"]\n",
    "    mask = heights <= wl_depth\n",
    "    new_layers = [layer for layer, keep in zip(layers, mask) if keep]\n",
    "    # Add truncated layer if needed\n",
    "    depth = np.sum([layer.h for layer in new_layers]) if new_layers else 0.0\n",
    "    if depth < wl_depth:\n",
    "        additional_layer = copy.deepcopy(layers[len(new_layers) if new_layers else 0])\n",
    "        additional_layer.h = wl_depth - depth\n",
    "        new_layers.append(additional_layer)\n",
    "    \n",
    "    try:\n",
    "        model_input = ModelInput(\n",
    "            weak_layer=weaklayer,\n",
    "            layers=new_layers,\n",
    "            scenario_config=scenario_config,\n",
    "            segments=segments,\n",
    "        )\n",
    "        system = SystemModel(model_input=model_input)\n",
    "        \n",
    "        cc_result: CoupledCriterionResult = standard_criteria_evaluator.evaluate_coupled_criterion(system, print_call_stats=False)\n",
    "        sserr_result: SSERRResult = standard_criteria_evaluator.evaluate_SSERR(system, vertical=False, print_call_stats=False)\n",
    "\n",
    "        pit_info_dict[\"impact_criterion\"] = cc_result.initial_critical_skier_weight\n",
    "        pit_info_dict[\"coupled_criterion\"] = cc_result.critical_skier_weight\n",
    "        pit_info_dict[\"sserr_result\"] = sserr_result.SSERR\n",
    "        pit_info_dict[\"touchdown_distance\"] = sserr_result.touchdown_distance\n",
    "    except Exception as e:\n",
    "        print(f\"Error processing pit {parser.snowpit.core_info.pit_id}: {e}\")\n",
    "        \n",
    "    return pit_info_dict, layers, weaklayer"
   ]
  },
  {
   "cell_type": "code",
   "execution_count": null,
   "id": "d9fa774a",
   "metadata": {},
   "outputs": [
    {
     "data": {
      "application/vnd.jupyter.widget-view+json": {
       "model_id": "deab457cc670431e82bdd5b0a366ed3b",
       "version_major": 2,
       "version_minor": 0
      },
      "text/plain": [
       "Processing avalanche pits:   0%|          | 0/848 [00:00<?, ?it/s]"
      ]
     },
     "metadata": {},
     "output_type": "display_data"
    },
    {
     "name": "stdout",
     "output_type": "stream",
     "text": [
      "Error processing pit 21585: 1 validation error for ModelInput\n",
      "  Value error, At least one layer is required [type=value_error, input_value={'weak_layer': WeakLayer(...oundation=True, m=0.0)]}, input_type=dict]\n",
      "    For further information visit https://errors.pydantic.dev/2.11/v/value_error\n",
      "Error processing pit 21142: Layer is missing density information; density profile, hand hardness and grain type are all missing. Excluding SnowPit from calculations.\n",
      "Error processing pit 17994: 1 validation error for ModelInput\n",
      "  Value error, At least one layer is required [type=value_error, input_value={'weak_layer': WeakLayer(...oundation=True, m=0.0)]}, input_type=dict]\n",
      "    For further information visit https://errors.pydantic.dev/2.11/v/value_error\n",
      "Error processing pit 24190: Layer is missing density information; density profile, hand hardness and grain type are all missing. Excluding SnowPit from calculations.\n",
      "Error processing pit 27244: 1 validation error for ModelInput\n",
      "  Value error, At least one layer is required [type=value_error, input_value={'weak_layer': WeakLayer(...oundation=True, m=0.0)]}, input_type=dict]\n",
      "    For further information visit https://errors.pydantic.dev/2.11/v/value_error\n",
      "Error processing pit 26059: Layer is missing density information; density profile, hand hardness and grain type are all missing. Excluding SnowPit from calculations.\n",
      "Error processing pit 27493: Layer is missing density information; density profile, hand hardness and grain type are all missing. Excluding SnowPit from calculations.\n",
      "Error processing pit 30310: Layer is missing density information; density profile, hand hardness and grain type are all missing. Excluding SnowPit from calculations.\n",
      "Error processing pit 33377: 1 validation error for ModelInput\n",
      "  Value error, At least one layer is required [type=value_error, input_value={'weak_layer': WeakLayer(...oundation=True, m=0.0)]}, input_type=dict]\n",
      "    For further information visit https://errors.pydantic.dev/2.11/v/value_error\n",
      "Error processing pit 47564: 1 validation error for ModelInput\n",
      "  Value error, At least one layer is required [type=value_error, input_value={'weak_layer': WeakLayer(...oundation=True, m=0.0)]}, input_type=dict]\n",
      "    For further information visit https://errors.pydantic.dev/2.11/v/value_error\n",
      "Error processing pit 47022: 1 validation error for ModelInput\n",
      "  Value error, At least one layer is required [type=value_error, input_value={'weak_layer': WeakLayer(...oundation=True, m=0.0)]}, input_type=dict]\n",
      "    For further information visit https://errors.pydantic.dev/2.11/v/value_error\n",
      "Error processing pit 47915: 1 validation error for ModelInput\n",
      "  Value error, At least one layer is required [type=value_error, input_value={'weak_layer': WeakLayer(...oundation=True, m=0.0)]}, input_type=dict]\n",
      "    For further information visit https://errors.pydantic.dev/2.11/v/value_error\n",
      "Error processing pit 44589: 1 validation error for ModelInput\n",
      "  Value error, At least one layer is required [type=value_error, input_value={'weak_layer': WeakLayer(...oundation=True, m=0.0)]}, input_type=dict]\n",
      "    For further information visit https://errors.pydantic.dev/2.11/v/value_error\n",
      "Error processing pit 47720: Layer is missing density information; density profile, hand hardness and grain type are all missing. Excluding SnowPit from calculations.\n",
      "Error processing pit 53623: Layer is missing density information; density profile, hand hardness and grain type are all missing. Excluding SnowPit from calculations.\n",
      "Error processing pit 48183: Layer is missing density information; density profile, hand hardness and grain type are all missing. Excluding SnowPit from calculations.\n",
      "Error processing pit 55781: Layer is missing density information; density profile, hand hardness and grain type are all missing. Excluding SnowPit from calculations.\n",
      "Error processing pit 62966: Layer is missing density information; density profile, hand hardness and grain type are all missing. Excluding SnowPit from calculations.\n",
      "Error processing pit 58347: Layer is missing density information; density profile, hand hardness and grain type are all missing. Excluding SnowPit from calculations.\n",
      "Error processing pit 41957: Layer is missing density information; density profile, hand hardness and grain type are all missing. Excluding SnowPit from calculations.\n",
      "Error processing pit 43901: 1 validation error for ModelInput\n",
      "  Value error, At least one layer is required [type=value_error, input_value={'weak_layer': WeakLayer(...oundation=True, m=0.0)]}, input_type=dict]\n",
      "    For further information visit https://errors.pydantic.dev/2.11/v/value_error\n",
      "Error processing pit 37892: 1 validation error for ModelInput\n",
      "  Value error, At least one layer is required [type=value_error, input_value={'weak_layer': WeakLayer(...oundation=True, m=0.0)]}, input_type=dict]\n",
      "    For further information visit https://errors.pydantic.dev/2.11/v/value_error\n",
      "Error processing pit 41824: Layer is missing density information; density profile, hand hardness and grain type are all missing. Excluding SnowPit from calculations.\n",
      "Error processing pit 41393: 1 validation error for ModelInput\n",
      "  Value error, At least one layer is required [type=value_error, input_value={'weak_layer': WeakLayer(...oundation=True, m=0.0)]}, input_type=dict]\n",
      "    For further information visit https://errors.pydantic.dev/2.11/v/value_error\n",
      "Error processing pit 41001: Layer is missing density information; density profile, hand hardness and grain type are all missing. Excluding SnowPit from calculations.\n",
      "Error processing pit 39450: 1 validation error for ModelInput\n",
      "  Value error, At least one layer is required [type=value_error, input_value={'weak_layer': WeakLayer(...oundation=True, m=0.0)]}, input_type=dict]\n",
      "    For further information visit https://errors.pydantic.dev/2.11/v/value_error\n",
      "Number of pits with errors: 14\n",
      "Number of pits processed: 834\n",
      "Number of pits total: 848\n",
      "  Slope Angle      HS  Profile Depth Pit Near Avalanche Location  WL_Depth  \\\n",
      "0          23     NaN         1000.0                       crown     800.0   \n",
      "1          42   930.0          930.0                       crown     390.0   \n",
      "2          28  1350.0         1350.0                       crown     300.0   \n",
      "3          24   740.0          740.0                       flank     480.0   \n",
      "4          28  2000.0         1250.0                       flank      90.0   \n",
      "\n",
      "   WL_Thickness  impact_criterion  coupled_criterion  sserr_result  \\\n",
      "0          10.0        353.002505         447.320793      9.431070   \n",
      "1          10.0         69.711635          92.460885      5.140661   \n",
      "2          10.0         36.841291          48.695365      3.200059   \n",
      "3         260.0        171.462219         205.513388      4.028760   \n",
      "4         290.0         52.094080          56.197983      0.531996   \n",
      "\n",
      "   touchdown_distance  \n",
      "0         3111.492955  \n",
      "1          967.894680  \n",
      "2          710.374535  \n",
      "3         1549.352902  \n",
      "4          652.190176  \n"
     ]
    }
   ],
   "source": [
    "data_rows = []\n",
    "error_pits = []\n",
    "for pit, pit_info_dict in tqdm(zip(avalanche_pits_with_layer_of_concern, pit_info_list), total=len(avalanche_pits_with_layer_of_concern), desc=\"Processing avalanche pits\"):\n",
    "    scenario_config = ScenarioConfig(\n",
    "        phi=pit_info_dict[\"Slope Angle\"],\n",
    "        system_type=\"skier\",\n",
    "    )\n",
    "    try:\n",
    "        pit_info_dict, layers, weaklayer = eval_avalanche_pit(\n",
    "            pit, \n",
    "            pit_info_dict, \n",
    "            scenario_config, \n",
    "            standard_segments, \n",
    "            standard_weak_layer)\n",
    "        data_rows.append(pit_info_dict)\n",
    "    except Exception as e:\n",
    "        error_pits.append(pit)\n",
    "        print(f\"Error processing pit {pit.snowpit.core_info.pit_id}: {e}\")\n",
    "        continue\n",
    "\n",
    "print(f\"Number of pits with errors: {len(error_pits)}\")\n",
    "print(f\"Number of pits processed: {len(data_rows)}\")\n",
    "print(f\"Number of pits total: {len(avalanche_pits_with_layer_of_concern)}\")\n",
    "\n",
    "df = pd.DataFrame(data_rows)\n",
    "print(df.head())"
   ]
  },
  {
   "cell_type": "code",
   "execution_count": 12,
   "id": "0e684f05",
   "metadata": {},
   "outputs": [],
   "source": [
    "df.to_csv(\"data/crown_flank_dataset.csv\", index=False)\n"
   ]
  },
  {
   "cell_type": "code",
   "execution_count": 11,
   "id": "55259938",
   "metadata": {},
   "outputs": [
    {
     "name": "stdout",
     "output_type": "stream",
     "text": [
      "SSERR Median: 4.915874695541406\n",
      "SSERR Mean: 5.553898422948149\n",
      "SSERR Std: 3.3576420463450023\n",
      "CC Median: 213.85094701750222\n",
      "CC Mean: 215.83307179093745\n",
      "CC Std: 103.73382335856874\n"
     ]
    }
   ],
   "source": [
    "sserr_median = df[\"sserr_result\"].median()\n",
    "sserr_mean = df[\"sserr_result\"].mean()\n",
    "sserr_std = df[\"sserr_result\"].std()\n",
    "\n",
    "print(f\"SSERR Median: {sserr_median}\")\n",
    "print(f\"SSERR Mean: {sserr_mean}\")\n",
    "print(f\"SSERR Std: {sserr_std}\")\n",
    "\n",
    "cc_median = df[\"coupled_criterion\"].median()\n",
    "cc_mean = df[\"coupled_criterion\"].mean()\n",
    "cc_std = df[\"coupled_criterion\"].std()\n",
    "\n",
    "print(f\"CC Median: {cc_median}\")\n",
    "print(f\"CC Mean: {cc_mean}\")\n",
    "print(f\"CC Std: {cc_std}\")"
   ]
  },
  {
   "cell_type": "code",
   "execution_count": 8,
   "id": "3b937b0a",
   "metadata": {},
   "outputs": [
    {
     "data": {
      "application/vnd.plotly.v1+json": {
       "config": {
        "plotlyServerURL": "https://plot.ly"
       },
       "data": [
        {
         "marker": {
          "color": "red"
         },
         "mode": "markers",
         "name": "Impact Criterion",
         "type": "scatter",
         "x": {
          "bdata": "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",
          "dtype": "f8"
         },
         "y": {
          "bdata": "5CbFQgoQdkB1c11si21RQJMV8mqva0JAWip7gMpuZUAz9eTNCgxKQDORaFz+fG5AmKiCE9qNUEA6x/2iAINqQOKrpxJHQ2BAe8ssuN8gaEBRGLlJ9Y1xQJQhfkxwwEJA3rwFHNDhY0Cav0bZD+dfQDvuPO6H2W1AbAtHwxhwaUCwmWP0edlnQEXbsNILZnFAcv3BHkVHXUAnPBxR43dyQF4KYfR/q3JA41KfyGt3a0BOWer7GbpXQMgAK2jRTWhAOasNFIGNTkBOk37z+KhaQIKOy8YfZnBANwvlMpC9bkCt6HkYoyBtQC49cdndxHJA3PIGZ5MxVUB/exG+K1BgQCE99o9wZ2hADbIpYKoYX0Br/1kyjj1WQEBjCBsyU2dAa0StDWUlXUDhfTF4e4R0QO8Jpe5vykRAad0X0bwBZECJlGpIeMpCQO/vHIW4hVNA2a0l59HsbUCCnUOQSrhoQLZsRlo5+1dAsxT4u1azYkBq+QZ55k1wQLazPmqZXU5A3T4qzyWjYEAvrXopeMdqQLR9ky0rs2hA5WdLrwkwakBa1Ay5ihh1QEro/U1XA3FAz/uvXAoqX0ABBl/NApdcQJXUhkwW7GJAjrKhcj1mcUBj5+LdVKdkQDfmvc3UNmVAAAAAAAAA+H+5RqjPNshkQOkQVGOkyWRAXe68euXcZEAuPY/V3ZRzQDI1egvECXJAHmLxdIKNWkDspVkSEWR3QIqogqwuHWlA2/fsC3pbYEDlgcKs1+9hQIDh1xjqBXFAAuKLHQDHZ0DSyKa9EM9JQM7+yZ86BVxAPxMbZam1QECraeaqwOZiQKECmzwu3kpALnuSWm/TaEAxpTnLXH9iQFahYuDQ4lJA13kvFHEnVUCriXfdFzNnQAkSaYJAeWxAvFsTJc74R0Bp0HlDanxXQHUfpooI7WZAdsT+/iT8ckDgsb0PmKJlQPvuFKF7IWNAX/l2TE+vbUCMpDYxMAhEQJKmuNybr2ZALnC1Zv6FakAAAAAAAAD4f8tap8ihxlxAZ9gJw7VJc0Bx8FuqWExIQMZGBKMcjWFAxgK6hy4OZkCp3YJTlaBNQLa+IJVJ6mFAatZ3FDuUdEBhgANGIvdsQA6YjBGKu2lAg7EnWeEVZ0BpZP9KkrZjQLwL8hHrAmRANaTzHdHAa0D6LO29CUpgQOjHoAhO/WJAMWA4qP9BZkA0l33I9GhlQPGl0p5/PUhAA1CL6vfecUCNaXfGNNBlQIGbsbBsHW5AWl0actc9UkClIltCCPVmQFs9Sw3uGnFAfUO+DSBlb0DbWvuDiAdmQNAvS/wQsWVAQVEgm1uFZkB5aeWzogZcQEEc4AdnXlVAyMHLEM22Z0AAAAAAAAD4f3g7yFL7DWxAxThGpngcYEC9oJ7bHvxTQDaT2e+SFVNABfnEthXDZUDb5wDQj8JQQNtoS9k6CmZAjAoe32pPYkClIltCCPVmQOy56QXZoXNAx3YCTIB0ZkClIltCCPVmQMhmFfd4OU5Adp5x+iiQYUD/QBReAMpSQK4SBc2F5lJAurAJxXjQa0B9Q74NIGVvQKUiW0II9WZAbmk5DBsDYEDKos1USdJoQLTQVXu57G9AKoIwAUkRcUCsTK+77kxsQKUiW0II9WZAPzHW5G/abUCZhsCRBRRxQKUiW0II9WZAigDdwh+cakArSRLqEWhwQFQn77CEeXFAM8TmyT55W0Cq8A9yxLtoQAf3MzAKbGNABg6An8nDQkA7zf6QRfpIQH1Dvg0gZW9ApSJbQgj1ZkAjakHiY39tQMOkdYJ7unNAdEYBKtjkH0AjndSB7gdnQOwbHeJh/HNA/owj7brRRUCu6dIKdw1lQKUiW0II9WZAQFwQwqf4Y0AzXTioCdNyQEumSmLgrHVAra/jfLU5ZkDyXJVcx95UQFtJjGkRaVpAuraEZdp3ZEDva/25CbxwQDfHZtWzqGBAyE0ktFeiZECgXc745L91QLTv19eXKGJA6Ga8mQEEVUDeTyZ/dNNsQDP/7l890WBAMh1rkCExaUClIltCCPVmQHLeEwzD72dAHlslp+FqaECnjfW0Ww1rQC3Dkq4YmnRA8Z/7BOtaU0CCLlfjz71QQGDPu3NMNV9AqoVX+NWuTkDFCxLElZ5nQJgYlHncQnRAdILzspeocEA0gLLa70BRQC8+U2Q1UWJADnGxzCoob0BLOE0+RpBMQD91L6vyvVdA0qOCQhyvd0AbvxEicrxnQKIAhNxTyGNAMX4bwHAQa0CRDkZoALpVQBse74MeSWpAJNqkK92ZTkDMGPaVCFgfQIpG3zE/XHJA5d2vjOTiZECXBIUUsI9IQHiqrrxO/2hARr+6NvlIb0AlMIny/1R0QK+NF2CfVmZArTyglogKaUC8fG8CtDttQJDq/Fii5nZAKIbF5j4JcECSbIf0qPNhQKUiW0II9WZASPiBTCu8P0AE2b4aeaR3QOj7o9SwynFAju42tt7/ZkCPZ2ObCtRDQKUiW0II9WZAGV+EBrmbU0CjeLX+5EpTQKGZAayBvF1AZn8G9CKZaEC3dKc4Yy91QIDaIlMR625AcD/eQKUpckB8JoHEflBgQCRJCRRPh2lACsXTij/PUECjVtewbsRtQO/aq78DEVRAawsGQljlYkAar5Q73vRqQIMkiArNx0VApSJbQgj1ZkDVqYK2oxRrQAAAAAAAAPh/cIWvWF/8XEClIltCCPVmQM0Ste2IT2lAaYINo0FJZEClIltCCPVmQI1x4amajmZA89cEk4NDakA7wZeSDPRvQGDMCXIG3UhAX+PLp1KfZkBMLd0r+a1yQCXtiQ0EynBAMyvziIQ5ZkC5M7c3sEFcQHRGASrY5B9AmkyT5ebKV0DfHubnlitxQJmGwJEFFHFApSJbQgj1ZkAcdlJDkoNrQKcXb3nLhF1Ak6+xhFEfYUDIeFjkEcp3QFqJjLZWyHFAqh6g0rTqcUApqrtFn/ddQAatHfmHLHFARndb0DbFWkCMtErDhK5qQKUiW0II9WZASnRTJPtTckB5ySmSRFNcQHdaEGFxEllAfUO+DSBlb0BuzMJg84VqQOW5Wgdu23FARQr/Y1RaXkBCHbOiDNRnQPr9VASwMl5AJPIpJobCb0C/orumv3txQMWQJVeqqmVAz1bF6atzaUCaCL+87DB0QGia6l+umWdAbVMzemP8ZED9OR2UT7ZhQOUlZXKW011AbEIuLhq6WkAKG0KlSG48QFa/CRAEWlVAFw3QzuSNYkABqyYdBYViQNGFMCTOtVNAdbD0GUDoZEB0Z9O/ZU5DQHTDHc4RyV5Aalotw1saVUB9Q74NIGVvQK5aRjMu+XBALIb9doVAV0DejbqKOs5lQGVAkSHphmtAOtEhCsGlYkDwCyxqEHBgQJmxkAOlm2JApVE3UIxEbEBtShuD0a1xQM56hYFBXWFA5A6ohOWBakBOL6f7Rl9rQORBu1RGB2hAYF17EO+/cUBdrHnlZkVvQAdI8uE7tHJAuehBCe47YUAloI7BM/lOQCLAfl/tTGVAFZtQoxBDbkB15AbKa/FhQNQ9O6hnl2xAw5HNQxg5WUBDEpSKTxxNQNXdoBdoC3lAAfZeWf4LakBPZsyLyuBiQMZRe6SQ7mlAaX/s7zMmb0Cpj7B2huxuQGtH25t+VlJA9itXlC7yX0CI8VXTuFFdQHCcN3DGfFFAiUF3V+ExVECLwqARlCZgQMK1F4sx6GZAXMF8e9NLfkDRE4EpO1huQAI/NkMdt3RAFy/K6zbTcUBCHllhI+1uQIBLn5LqaHFAuqhzSp2tW0CX2jEVLfNhQIKGsLqOJGZAqVO+HLSXbUDog+5Drr9aQCw3nYqCxnFANGvbajpXcEA/CO6wybpVQCRkJ+lMGWlAnMcSuU7lY0B0m9MQbMVlQGLGMm6HjlxA+TUwwW1nU0DixnyCs1xrQNrsmbjn83JA6DVgB2lodEAAAAAAAAD4f01U/+PQQXRAT7THg0z/aEAUd9lXlbhiQFploQzWW2hAALLaKp84ZkCsFuYjB+luQArDnrIfU15AOWcWsq/Tb0AAAAAAAAD4fyBqkBpR3GpAlRZ6261ucEBfDlSLnmRuQKl8Gy5vXm1AfOITN0tdX0Ctg8ShLLxpQLk7myCXY2dAuZN8N2o2aUDwh7ELxt5mQB8beZOHkFxA3ik83yWvXkAQA6WF0h1VQFJcXzrrv1dAPYIjH/fnVEDxrQrANOdiQEGyvuKLtG5AjV2udBDhJkC+G1YAETBkQEAx68wOElpA/JEMMsn2Z0A8ytGOfeRbQMgTzL0EjWRAumVU218FcEAPMhFLD45rQHBxvGFyql5AhX3OWfs6WUDTbht7ub52QKpgw6p0GnFAe0W4eEpiZUAA0C4NI85PQFZ1FoiMDmdAAAAAAAAA+H/R/nTA7aVsQD6tN2zF5ktAatcMBcPgZ0D8N25SrkBSQMo6p7BtSFlAp0Cpa1eWWUDKS/9x5MJSQLRlLGm2Fm1AX5OuUu9Qb0B31dLyivxwQF0TeGmhcVpAy5aEiPrVYEBem7wrGhBRQCeOxj3LgUlAuc4V5IbFbkCFiJtXpRFsQNCmu9+sYXVAJ+nCJAxmYUDSEiT8oUo/QOrqz/WMzFRACSKq26ILdEA60SEKwaViQF/rX3ZROmZA9X0hHAlOZ0AXyIoIVpJnQIVrO1QPJ2lAmIbYwQU4ZkAcWbBcbH5fQO0t2DIWO2dANpikndUyWEBf5UJgjURwQMaO5AdjiXFAxWWZmxr5ckCqOgFnuY9UQETvqidYPlNAc0SCnfXFXEBw6DCeRk1sQF/rX3ZROmZA3ob3PTRCckCtFNvDO8tRQOXU5oIaHWNAsBK7wxL/UUALwqAQ8+UxQKkX32X4sFBASMHIHVRqO0CSRgroRk1RQGHnO6ic03BAzskT/yJKY0D76+XxAtRsQK+PawLbgFlAfdkbu3MwU0AV9glPyttdQBXCyCh2VmNAKVjvPTMidkCQ48HqIdlhQAAAAAAAAPh/fsHVa6VyZEDv9+wJTOFiQFWN6PMAcGhAU2WPnNYHZ0Ap4xaNa3ByQGxDXIl9nHhABK+WmLW1akDCeBJ7WuouQJWXMsB3kGVAuTplIgLbZkDKe7qmXgJqQIi45yhFQ2RAZ/KgHNFDdEBzp9tHAbBbQI43LD8m80VA+CwesqRCY0D6s0cIP0dcQBnz/spT8EVAgnhYdLOLaUBQwmvpFupgQHT9wfA9i3JAkZoipHcdd0BkJOlx5y9pQFBrz+HgSFBAgu6fwJJXUEDi4WkYCHZTQHahRpyZfnFAJtu95ZvcaUDi75hf8ZpnQEWTuJgfcVxAQFJRwnnoXEBKvjzJbylmQKH82kX2UC5AL4UW14dyZECqyP2mjmRAQP4HbcakimFAEEZXcss2aEDOGnPfEC10QMAWG5/ev2NAoT92EpVPUUAKSaivVi5pQECxafL9CmRAtnQcUFJFUUAnSC3/xqhMQHCVkCKP62ZAhhyYwKO8d0DJXo2rrrBkQOmu095roGtAQXCcD1f5Y0Br9CdgBDFgQNeE8QgIzWhA5qNGsjG4ZEBXEKqOL49uQLd08i/y4nJAPtCtr1xSW0BxvkQfRZ1WQAjJXS0VemZA3WvLi9t3b0At1eJumMZbQLgsI6mRullA5ttWrUL4aUCLD+pFN8RXQPXKjmB1NGBAdSGP7dXDRUB+Qx0BdnJTQOtCXjv+nHRAAAAAAAAAAAArNQF7mq5oQNitx34XYWRA2Jvkn8svcUDA9drQLSpzQCQXWQJV1W1AfC7Hj6aBdkBnJX/E5XZqQPS/wt01oGFAvjJzmIM5YEDjw+VI3nNmQORyERfOxGVAFYUbc0wANEBTLwtDwVNhQI5Hb5DvsmVAQU39eFTtYECJPO8GaltTQPmvjY1JQ19ADT3zhkN0TEAo8JqZX+dHQMeb5Z98/mBA3z+IG9K0ckBH/4ZtORFnQMqkdk+1Xl1A0w0CJ0siY0DISB/KCgcxQHkkI35NnllAMX0Q7C9qdUCdKyCKay1zQAYWWND9IDVAMlipb6rUPUAKy2+7LsxmQHTjyPQVYGZAozwoRu6RY0ATilI1BW5qQA5iqbPA+3FApfiWfuvWVkA9slbjsoNhQCq4cf06cERAJSxPqnKOY0DXnDEH0B5xQHg0mMWbBGRAdf3wxaEpcEBIrfGhhexyQF9nidSuEl1AMd+ejymHS0CKMnBkUuxnQIAJvbhTXCZAG6duQTzmcUBMxk6woUhxQGazqls3P2xAt7Za539NY0AeyCqAVk5tQIU1JCv4dGhA+2vPWGjAdUCKdBVoi7thQAe7G1RNxVtAuO+TT8RxZEAT94nxpsxoQLlo1Q3CX19AQFoEq7Wud0BWip/afJRRQHiqnTgEbGNAfFvtAHKcYEDnDTLhj0RxQEwt5C8yGmpAO/p+zNwaYUDiA0C1qRFRQE83aNH+PHRAFz7W6rwtaUAVYSCRAeJlQBt1uEld1VtA/3Rf4vG8XECJvolSKcxvQG6KvBBjoXVAEcuMcSYNbEDk6fKyHdJjQNVtsluxkVxA06ek1aWGTUCTHi42DDVXQMdFcWPEUW9A2VUU4DuVb0D4/kPs/m9pQOrj8Pez8GdA2JPg6lBIdEBJQEbz72RyQJdXOnnkNXRACGZKeULzX0C/q1ZFaahYQPqSQ8jl1HdAS+Mo6vepZUBJmxZsf9ReQJWNwXfykFJA6KNaARlWY0CRLLJrT9ZlQJ0emRBMsmlAdvJRJAcWUkBizCes7t9nQCZ8hu7H8FpAtspTDwQmckAmz2QRaZZSQNq/uPmxJmBA5anXYqe3W0AP+UfpF+JFQEaf8pYFg1xA6Gi1xvV4ckDWEvA4fRNlQMkQUpESC3JAnbGlOdJvY0C7WOHvysBOQIhoL0B3YlRASUkKoTdlbEBn7tjv3+VdQKJ87twYyWNADxsQElQ6eEDhUAlFlNheQEFwnA9X+WNAueKiwP8La0AyvixoauxAQH0xGqUOSmZAjzdwHLb7a0DmTUAVzzVYQOwT8kQgp2lA2+sPnugINUCAQOGbFqhlQKiMIYrFaGFASLY0ThPEWECamygi7z9YQEF5A4QtJ3dAieKTfvQJZEB8WBRIJJZRQPfF61wyr3BAPXmr5dkQYkBMUJzAkflrQM8m7YdgknVARNtUAosnZEC4UIQFfC1oQOrzZ/xBPllAy1UzvC86YEClAm06uF0sQPTMQNbKP2BAdYMK0r5vYEBn5IBNoYVwQH1/uAH6hmVAWUk0AQ7/YUAaP23txxxnQGO53RUzBGBALbUpxj2LcEC0jFBsA5x0QA1lrO/mX0BAciBaz+NvcEBgeyI6Tm9XQHX7qo0tL15A4Tk7uwzkZkCdIfzpQGtgQH38Xc55U29AyLYoTujCZUBYKC32Q+JjQAbKBhZBi3FAwUof8KfRZ0BrTrFi+ABYQLRhLBAzT3VAfmZHUTHbb0CMBA5yJChJQLo4rJ8K8GtAXSy0ThF+dkA21YL22EBgQEOmadojBGVAyieJ9SnTc0CwmOQreo5vQPlmoksVyU9A0GLPZKQoX0CUhk8obe1cQODPJlGZJVRAIAxI83wbaEAU6Cpjhl9bQMQ5KNVjjGZAHmYhXKNmZ0DvHrdpRWRaQCIdyy5D2GNAjEVOzBb5cEDoHFxoz/pvQFTu4avalVtA1FQkgvtgV0DqQrLyQy5QQCjnUqd6SWlAQ8tWDqFxb0CdN+7qF81sQPbLVATEz3BAE9pmyfFjT0CYiEb71lBxQIGF+fVWM2hADY2/iwdyaECo+/vPAYZmQFAHLtq67GZAE289sdUTTUAQNCKoSHBkQFjWrmKAH1dAa28LVKZLakC/HF/YmpxQQCwhPPGJWlxAYoPhy5GWbUCR4D1aZjwzQOiud/H0lGZAT1hGHPuBTUAJCaKyiW1bQPl9GlouWWlAidqYE1RCaUDLtzNAqhhlQGLwEaMzf2RAkNv8AknUYkDlP30sP5xjQFkY7UZiPV9AM9eEf/I7ZUDPuRAi1sJwQNhxlrlTXGVApKMHFQ5/akCiAoCvjlRuQCWV8KuoHz1A/QPcT4WDbUCty9KjUvJIQDscyNzBNXFATXz58g/yU0DgYOjBnJV0QOZ6bTbcf3RAtyX6sguAc0DV4Y9m8fZrQPd4RQvUe3BAb/kl75h7c0AZAXd7GbAuQGx/XMjSx3NAtSpqqPzlaECdoKnpvppOQOb7JfcGjHBAAAAAAAAA+H84JwjxfktoQJ4cea3hSllAdh29lvURaEBqd3Jn071nQE0fMEJBimZA+UB5cukYcED2m50nSyR0QO3BtNjajWVAJ2k56KUFT0A0G+z/uLdtQL69d/jqvHBAepNNnp5scECWcXoKTf1PQKPCm1+52WxAAxMAQNCNWkBEt6+tcPhwQJrf82dgc1tAzVUFikgvYUBURn4CU15wQJfhwl+c50ZA076RHgL5Z0B2qmjX16BcQEkUqnW4J09AMFM+kqurQ0Bzyn3JHjNyQPCSmLPjO2RAREJgLuuTVUCEL+U+SxZUQCnzS5/A62lA4/Eya+HceECWvYOsHL9wQB+K0RO8UGtAIW3rgoJ+a0BOCaO0JhJ2QLcXMV73y3BALyDciwGxYUBMWEP8oxhnQK4wSNUrWV5AxakG3ZEVV0ABE90HVGRJQG0wsH83Q2JALly5ujVeckD29GroQ8NVQLkKo5u5OnRA5FFQRc9ubED6U9EGd2RmQC24vlfWs21AweuOBfaQakCXxToqJbJ2QAAAAAAAAPh/SK3xoYXsckC8BBsUFJ9KQEWRBaZh3G9A9ljeXMmLaUA2D3pteW1xQGPCYWGJomxACuJMY6NpZUCDAoBPsC1vQAAAAAAAAPh/R1Pt/I93a0AQrZYAZddaQAAAAAAAAPh/nDVP9CdlREC95tcu0QNfQNe4MJeFTFNA",
          "dtype": "f8"
         }
        }
       ],
       "layout": {
        "template": {
         "data": {
          "bar": [
           {
            "error_x": {
             "color": "#2a3f5f"
            },
            "error_y": {
             "color": "#2a3f5f"
            },
            "marker": {
             "line": {
              "color": "#E5ECF6",
              "width": 0.5
             },
             "pattern": {
              "fillmode": "overlay",
              "size": 10,
              "solidity": 0.2
             }
            },
            "type": "bar"
           }
          ],
          "barpolar": [
           {
            "marker": {
             "line": {
              "color": "#E5ECF6",
              "width": 0.5
             },
             "pattern": {
              "fillmode": "overlay",
              "size": 10,
              "solidity": 0.2
             }
            },
            "type": "barpolar"
           }
          ],
          "carpet": [
           {
            "aaxis": {
             "endlinecolor": "#2a3f5f",
             "gridcolor": "white",
             "linecolor": "white",
             "minorgridcolor": "white",
             "startlinecolor": "#2a3f5f"
            },
            "baxis": {
             "endlinecolor": "#2a3f5f",
             "gridcolor": "white",
             "linecolor": "white",
             "minorgridcolor": "white",
             "startlinecolor": "#2a3f5f"
            },
            "type": "carpet"
           }
          ],
          "choropleth": [
           {
            "colorbar": {
             "outlinewidth": 0,
             "ticks": ""
            },
            "type": "choropleth"
           }
          ],
          "contour": [
           {
            "colorbar": {
             "outlinewidth": 0,
             "ticks": ""
            },
            "colorscale": [
             [
              0,
              "#0d0887"
             ],
             [
              0.1111111111111111,
              "#46039f"
             ],
             [
              0.2222222222222222,
              "#7201a8"
             ],
             [
              0.3333333333333333,
              "#9c179e"
             ],
             [
              0.4444444444444444,
              "#bd3786"
             ],
             [
              0.5555555555555556,
              "#d8576b"
             ],
             [
              0.6666666666666666,
              "#ed7953"
             ],
             [
              0.7777777777777778,
              "#fb9f3a"
             ],
             [
              0.8888888888888888,
              "#fdca26"
             ],
             [
              1,
              "#f0f921"
             ]
            ],
            "type": "contour"
           }
          ],
          "contourcarpet": [
           {
            "colorbar": {
             "outlinewidth": 0,
             "ticks": ""
            },
            "type": "contourcarpet"
           }
          ],
          "heatmap": [
           {
            "colorbar": {
             "outlinewidth": 0,
             "ticks": ""
            },
            "colorscale": [
             [
              0,
              "#0d0887"
             ],
             [
              0.1111111111111111,
              "#46039f"
             ],
             [
              0.2222222222222222,
              "#7201a8"
             ],
             [
              0.3333333333333333,
              "#9c179e"
             ],
             [
              0.4444444444444444,
              "#bd3786"
             ],
             [
              0.5555555555555556,
              "#d8576b"
             ],
             [
              0.6666666666666666,
              "#ed7953"
             ],
             [
              0.7777777777777778,
              "#fb9f3a"
             ],
             [
              0.8888888888888888,
              "#fdca26"
             ],
             [
              1,
              "#f0f921"
             ]
            ],
            "type": "heatmap"
           }
          ],
          "histogram": [
           {
            "marker": {
             "pattern": {
              "fillmode": "overlay",
              "size": 10,
              "solidity": 0.2
             }
            },
            "type": "histogram"
           }
          ],
          "histogram2d": [
           {
            "colorbar": {
             "outlinewidth": 0,
             "ticks": ""
            },
            "colorscale": [
             [
              0,
              "#0d0887"
             ],
             [
              0.1111111111111111,
              "#46039f"
             ],
             [
              0.2222222222222222,
              "#7201a8"
             ],
             [
              0.3333333333333333,
              "#9c179e"
             ],
             [
              0.4444444444444444,
              "#bd3786"
             ],
             [
              0.5555555555555556,
              "#d8576b"
             ],
             [
              0.6666666666666666,
              "#ed7953"
             ],
             [
              0.7777777777777778,
              "#fb9f3a"
             ],
             [
              0.8888888888888888,
              "#fdca26"
             ],
             [
              1,
              "#f0f921"
             ]
            ],
            "type": "histogram2d"
           }
          ],
          "histogram2dcontour": [
           {
            "colorbar": {
             "outlinewidth": 0,
             "ticks": ""
            },
            "colorscale": [
             [
              0,
              "#0d0887"
             ],
             [
              0.1111111111111111,
              "#46039f"
             ],
             [
              0.2222222222222222,
              "#7201a8"
             ],
             [
              0.3333333333333333,
              "#9c179e"
             ],
             [
              0.4444444444444444,
              "#bd3786"
             ],
             [
              0.5555555555555556,
              "#d8576b"
             ],
             [
              0.6666666666666666,
              "#ed7953"
             ],
             [
              0.7777777777777778,
              "#fb9f3a"
             ],
             [
              0.8888888888888888,
              "#fdca26"
             ],
             [
              1,
              "#f0f921"
             ]
            ],
            "type": "histogram2dcontour"
           }
          ],
          "mesh3d": [
           {
            "colorbar": {
             "outlinewidth": 0,
             "ticks": ""
            },
            "type": "mesh3d"
           }
          ],
          "parcoords": [
           {
            "line": {
             "colorbar": {
              "outlinewidth": 0,
              "ticks": ""
             }
            },
            "type": "parcoords"
           }
          ],
          "pie": [
           {
            "automargin": true,
            "type": "pie"
           }
          ],
          "scatter": [
           {
            "fillpattern": {
             "fillmode": "overlay",
             "size": 10,
             "solidity": 0.2
            },
            "type": "scatter"
           }
          ],
          "scatter3d": [
           {
            "line": {
             "colorbar": {
              "outlinewidth": 0,
              "ticks": ""
             }
            },
            "marker": {
             "colorbar": {
              "outlinewidth": 0,
              "ticks": ""
             }
            },
            "type": "scatter3d"
           }
          ],
          "scattercarpet": [
           {
            "marker": {
             "colorbar": {
              "outlinewidth": 0,
              "ticks": ""
             }
            },
            "type": "scattercarpet"
           }
          ],
          "scattergeo": [
           {
            "marker": {
             "colorbar": {
              "outlinewidth": 0,
              "ticks": ""
             }
            },
            "type": "scattergeo"
           }
          ],
          "scattergl": [
           {
            "marker": {
             "colorbar": {
              "outlinewidth": 0,
              "ticks": ""
             }
            },
            "type": "scattergl"
           }
          ],
          "scattermap": [
           {
            "marker": {
             "colorbar": {
              "outlinewidth": 0,
              "ticks": ""
             }
            },
            "type": "scattermap"
           }
          ],
          "scattermapbox": [
           {
            "marker": {
             "colorbar": {
              "outlinewidth": 0,
              "ticks": ""
             }
            },
            "type": "scattermapbox"
           }
          ],
          "scatterpolar": [
           {
            "marker": {
             "colorbar": {
              "outlinewidth": 0,
              "ticks": ""
             }
            },
            "type": "scatterpolar"
           }
          ],
          "scatterpolargl": [
           {
            "marker": {
             "colorbar": {
              "outlinewidth": 0,
              "ticks": ""
             }
            },
            "type": "scatterpolargl"
           }
          ],
          "scatterternary": [
           {
            "marker": {
             "colorbar": {
              "outlinewidth": 0,
              "ticks": ""
             }
            },
            "type": "scatterternary"
           }
          ],
          "surface": [
           {
            "colorbar": {
             "outlinewidth": 0,
             "ticks": ""
            },
            "colorscale": [
             [
              0,
              "#0d0887"
             ],
             [
              0.1111111111111111,
              "#46039f"
             ],
             [
              0.2222222222222222,
              "#7201a8"
             ],
             [
              0.3333333333333333,
              "#9c179e"
             ],
             [
              0.4444444444444444,
              "#bd3786"
             ],
             [
              0.5555555555555556,
              "#d8576b"
             ],
             [
              0.6666666666666666,
              "#ed7953"
             ],
             [
              0.7777777777777778,
              "#fb9f3a"
             ],
             [
              0.8888888888888888,
              "#fdca26"
             ],
             [
              1,
              "#f0f921"
             ]
            ],
            "type": "surface"
           }
          ],
          "table": [
           {
            "cells": {
             "fill": {
              "color": "#EBF0F8"
             },
             "line": {
              "color": "white"
             }
            },
            "header": {
             "fill": {
              "color": "#C8D4E3"
             },
             "line": {
              "color": "white"
             }
            },
            "type": "table"
           }
          ]
         },
         "layout": {
          "annotationdefaults": {
           "arrowcolor": "#2a3f5f",
           "arrowhead": 0,
           "arrowwidth": 1
          },
          "autotypenumbers": "strict",
          "coloraxis": {
           "colorbar": {
            "outlinewidth": 0,
            "ticks": ""
           }
          },
          "colorscale": {
           "diverging": [
            [
             0,
             "#8e0152"
            ],
            [
             0.1,
             "#c51b7d"
            ],
            [
             0.2,
             "#de77ae"
            ],
            [
             0.3,
             "#f1b6da"
            ],
            [
             0.4,
             "#fde0ef"
            ],
            [
             0.5,
             "#f7f7f7"
            ],
            [
             0.6,
             "#e6f5d0"
            ],
            [
             0.7,
             "#b8e186"
            ],
            [
             0.8,
             "#7fbc41"
            ],
            [
             0.9,
             "#4d9221"
            ],
            [
             1,
             "#276419"
            ]
           ],
           "sequential": [
            [
             0,
             "#0d0887"
            ],
            [
             0.1111111111111111,
             "#46039f"
            ],
            [
             0.2222222222222222,
             "#7201a8"
            ],
            [
             0.3333333333333333,
             "#9c179e"
            ],
            [
             0.4444444444444444,
             "#bd3786"
            ],
            [
             0.5555555555555556,
             "#d8576b"
            ],
            [
             0.6666666666666666,
             "#ed7953"
            ],
            [
             0.7777777777777778,
             "#fb9f3a"
            ],
            [
             0.8888888888888888,
             "#fdca26"
            ],
            [
             1,
             "#f0f921"
            ]
           ],
           "sequentialminus": [
            [
             0,
             "#0d0887"
            ],
            [
             0.1111111111111111,
             "#46039f"
            ],
            [
             0.2222222222222222,
             "#7201a8"
            ],
            [
             0.3333333333333333,
             "#9c179e"
            ],
            [
             0.4444444444444444,
             "#bd3786"
            ],
            [
             0.5555555555555556,
             "#d8576b"
            ],
            [
             0.6666666666666666,
             "#ed7953"
            ],
            [
             0.7777777777777778,
             "#fb9f3a"
            ],
            [
             0.8888888888888888,
             "#fdca26"
            ],
            [
             1,
             "#f0f921"
            ]
           ]
          },
          "colorway": [
           "#636efa",
           "#EF553B",
           "#00cc96",
           "#ab63fa",
           "#FFA15A",
           "#19d3f3",
           "#FF6692",
           "#B6E880",
           "#FF97FF",
           "#FECB52"
          ],
          "font": {
           "color": "#2a3f5f"
          },
          "geo": {
           "bgcolor": "white",
           "lakecolor": "white",
           "landcolor": "#E5ECF6",
           "showlakes": true,
           "showland": true,
           "subunitcolor": "white"
          },
          "hoverlabel": {
           "align": "left"
          },
          "hovermode": "closest",
          "mapbox": {
           "style": "light"
          },
          "paper_bgcolor": "white",
          "plot_bgcolor": "#E5ECF6",
          "polar": {
           "angularaxis": {
            "gridcolor": "white",
            "linecolor": "white",
            "ticks": ""
           },
           "bgcolor": "#E5ECF6",
           "radialaxis": {
            "gridcolor": "white",
            "linecolor": "white",
            "ticks": ""
           }
          },
          "scene": {
           "xaxis": {
            "backgroundcolor": "#E5ECF6",
            "gridcolor": "white",
            "gridwidth": 2,
            "linecolor": "white",
            "showbackground": true,
            "ticks": "",
            "zerolinecolor": "white"
           },
           "yaxis": {
            "backgroundcolor": "#E5ECF6",
            "gridcolor": "white",
            "gridwidth": 2,
            "linecolor": "white",
            "showbackground": true,
            "ticks": "",
            "zerolinecolor": "white"
           },
           "zaxis": {
            "backgroundcolor": "#E5ECF6",
            "gridcolor": "white",
            "gridwidth": 2,
            "linecolor": "white",
            "showbackground": true,
            "ticks": "",
            "zerolinecolor": "white"
           }
          },
          "shapedefaults": {
           "line": {
            "color": "#2a3f5f"
           }
          },
          "ternary": {
           "aaxis": {
            "gridcolor": "white",
            "linecolor": "white",
            "ticks": ""
           },
           "baxis": {
            "gridcolor": "white",
            "linecolor": "white",
            "ticks": ""
           },
           "bgcolor": "#E5ECF6",
           "caxis": {
            "gridcolor": "white",
            "linecolor": "white",
            "ticks": ""
           }
          },
          "title": {
           "x": 0.05
          },
          "xaxis": {
           "automargin": true,
           "gridcolor": "white",
           "linecolor": "white",
           "ticks": "",
           "title": {
            "standoff": 15
           },
           "zerolinecolor": "white",
           "zerolinewidth": 2
          },
          "yaxis": {
           "automargin": true,
           "gridcolor": "white",
           "linecolor": "white",
           "ticks": "",
           "title": {
            "standoff": 15
           },
           "zerolinecolor": "white",
           "zerolinewidth": 2
          }
         }
        },
        "xaxis": {
         "title": {
          "text": "WL Depth (mm)"
         }
        },
        "yaxis": {
         "title": {
          "text": "Impact Criterion"
         }
        }
       }
      }
     },
     "metadata": {},
     "output_type": "display_data"
    },
    {
     "data": {
      "application/vnd.plotly.v1+json": {
       "config": {
        "plotlyServerURL": "https://plot.ly"
       },
       "data": [
        {
         "marker": {
          "color": "blue"
         },
         "mode": "markers",
         "name": "Coupled Criterion",
         "type": "scatter",
         "x": {
          "bdata": "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",
          "dtype": "f8"
         },
         "y": {
          "bdata": "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",
          "dtype": "f8"
         }
        }
       ],
       "layout": {
        "template": {
         "data": {
          "bar": [
           {
            "error_x": {
             "color": "#2a3f5f"
            },
            "error_y": {
             "color": "#2a3f5f"
            },
            "marker": {
             "line": {
              "color": "#E5ECF6",
              "width": 0.5
             },
             "pattern": {
              "fillmode": "overlay",
              "size": 10,
              "solidity": 0.2
             }
            },
            "type": "bar"
           }
          ],
          "barpolar": [
           {
            "marker": {
             "line": {
              "color": "#E5ECF6",
              "width": 0.5
             },
             "pattern": {
              "fillmode": "overlay",
              "size": 10,
              "solidity": 0.2
             }
            },
            "type": "barpolar"
           }
          ],
          "carpet": [
           {
            "aaxis": {
             "endlinecolor": "#2a3f5f",
             "gridcolor": "white",
             "linecolor": "white",
             "minorgridcolor": "white",
             "startlinecolor": "#2a3f5f"
            },
            "baxis": {
             "endlinecolor": "#2a3f5f",
             "gridcolor": "white",
             "linecolor": "white",
             "minorgridcolor": "white",
             "startlinecolor": "#2a3f5f"
            },
            "type": "carpet"
           }
          ],
          "choropleth": [
           {
            "colorbar": {
             "outlinewidth": 0,
             "ticks": ""
            },
            "type": "choropleth"
           }
          ],
          "contour": [
           {
            "colorbar": {
             "outlinewidth": 0,
             "ticks": ""
            },
            "colorscale": [
             [
              0,
              "#0d0887"
             ],
             [
              0.1111111111111111,
              "#46039f"
             ],
             [
              0.2222222222222222,
              "#7201a8"
             ],
             [
              0.3333333333333333,
              "#9c179e"
             ],
             [
              0.4444444444444444,
              "#bd3786"
             ],
             [
              0.5555555555555556,
              "#d8576b"
             ],
             [
              0.6666666666666666,
              "#ed7953"
             ],
             [
              0.7777777777777778,
              "#fb9f3a"
             ],
             [
              0.8888888888888888,
              "#fdca26"
             ],
             [
              1,
              "#f0f921"
             ]
            ],
            "type": "contour"
           }
          ],
          "contourcarpet": [
           {
            "colorbar": {
             "outlinewidth": 0,
             "ticks": ""
            },
            "type": "contourcarpet"
           }
          ],
          "heatmap": [
           {
            "colorbar": {
             "outlinewidth": 0,
             "ticks": ""
            },
            "colorscale": [
             [
              0,
              "#0d0887"
             ],
             [
              0.1111111111111111,
              "#46039f"
             ],
             [
              0.2222222222222222,
              "#7201a8"
             ],
             [
              0.3333333333333333,
              "#9c179e"
             ],
             [
              0.4444444444444444,
              "#bd3786"
             ],
             [
              0.5555555555555556,
              "#d8576b"
             ],
             [
              0.6666666666666666,
              "#ed7953"
             ],
             [
              0.7777777777777778,
              "#fb9f3a"
             ],
             [
              0.8888888888888888,
              "#fdca26"
             ],
             [
              1,
              "#f0f921"
             ]
            ],
            "type": "heatmap"
           }
          ],
          "histogram": [
           {
            "marker": {
             "pattern": {
              "fillmode": "overlay",
              "size": 10,
              "solidity": 0.2
             }
            },
            "type": "histogram"
           }
          ],
          "histogram2d": [
           {
            "colorbar": {
             "outlinewidth": 0,
             "ticks": ""
            },
            "colorscale": [
             [
              0,
              "#0d0887"
             ],
             [
              0.1111111111111111,
              "#46039f"
             ],
             [
              0.2222222222222222,
              "#7201a8"
             ],
             [
              0.3333333333333333,
              "#9c179e"
             ],
             [
              0.4444444444444444,
              "#bd3786"
             ],
             [
              0.5555555555555556,
              "#d8576b"
             ],
             [
              0.6666666666666666,
              "#ed7953"
             ],
             [
              0.7777777777777778,
              "#fb9f3a"
             ],
             [
              0.8888888888888888,
              "#fdca26"
             ],
             [
              1,
              "#f0f921"
             ]
            ],
            "type": "histogram2d"
           }
          ],
          "histogram2dcontour": [
           {
            "colorbar": {
             "outlinewidth": 0,
             "ticks": ""
            },
            "colorscale": [
             [
              0,
              "#0d0887"
             ],
             [
              0.1111111111111111,
              "#46039f"
             ],
             [
              0.2222222222222222,
              "#7201a8"
             ],
             [
              0.3333333333333333,
              "#9c179e"
             ],
             [
              0.4444444444444444,
              "#bd3786"
             ],
             [
              0.5555555555555556,
              "#d8576b"
             ],
             [
              0.6666666666666666,
              "#ed7953"
             ],
             [
              0.7777777777777778,
              "#fb9f3a"
             ],
             [
              0.8888888888888888,
              "#fdca26"
             ],
             [
              1,
              "#f0f921"
             ]
            ],
            "type": "histogram2dcontour"
           }
          ],
          "mesh3d": [
           {
            "colorbar": {
             "outlinewidth": 0,
             "ticks": ""
            },
            "type": "mesh3d"
           }
          ],
          "parcoords": [
           {
            "line": {
             "colorbar": {
              "outlinewidth": 0,
              "ticks": ""
             }
            },
            "type": "parcoords"
           }
          ],
          "pie": [
           {
            "automargin": true,
            "type": "pie"
           }
          ],
          "scatter": [
           {
            "fillpattern": {
             "fillmode": "overlay",
             "size": 10,
             "solidity": 0.2
            },
            "type": "scatter"
           }
          ],
          "scatter3d": [
           {
            "line": {
             "colorbar": {
              "outlinewidth": 0,
              "ticks": ""
             }
            },
            "marker": {
             "colorbar": {
              "outlinewidth": 0,
              "ticks": ""
             }
            },
            "type": "scatter3d"
           }
          ],
          "scattercarpet": [
           {
            "marker": {
             "colorbar": {
              "outlinewidth": 0,
              "ticks": ""
             }
            },
            "type": "scattercarpet"
           }
          ],
          "scattergeo": [
           {
            "marker": {
             "colorbar": {
              "outlinewidth": 0,
              "ticks": ""
             }
            },
            "type": "scattergeo"
           }
          ],
          "scattergl": [
           {
            "marker": {
             "colorbar": {
              "outlinewidth": 0,
              "ticks": ""
             }
            },
            "type": "scattergl"
           }
          ],
          "scattermap": [
           {
            "marker": {
             "colorbar": {
              "outlinewidth": 0,
              "ticks": ""
             }
            },
            "type": "scattermap"
           }
          ],
          "scattermapbox": [
           {
            "marker": {
             "colorbar": {
              "outlinewidth": 0,
              "ticks": ""
             }
            },
            "type": "scattermapbox"
           }
          ],
          "scatterpolar": [
           {
            "marker": {
             "colorbar": {
              "outlinewidth": 0,
              "ticks": ""
             }
            },
            "type": "scatterpolar"
           }
          ],
          "scatterpolargl": [
           {
            "marker": {
             "colorbar": {
              "outlinewidth": 0,
              "ticks": ""
             }
            },
            "type": "scatterpolargl"
           }
          ],
          "scatterternary": [
           {
            "marker": {
             "colorbar": {
              "outlinewidth": 0,
              "ticks": ""
             }
            },
            "type": "scatterternary"
           }
          ],
          "surface": [
           {
            "colorbar": {
             "outlinewidth": 0,
             "ticks": ""
            },
            "colorscale": [
             [
              0,
              "#0d0887"
             ],
             [
              0.1111111111111111,
              "#46039f"
             ],
             [
              0.2222222222222222,
              "#7201a8"
             ],
             [
              0.3333333333333333,
              "#9c179e"
             ],
             [
              0.4444444444444444,
              "#bd3786"
             ],
             [
              0.5555555555555556,
              "#d8576b"
             ],
             [
              0.6666666666666666,
              "#ed7953"
             ],
             [
              0.7777777777777778,
              "#fb9f3a"
             ],
             [
              0.8888888888888888,
              "#fdca26"
             ],
             [
              1,
              "#f0f921"
             ]
            ],
            "type": "surface"
           }
          ],
          "table": [
           {
            "cells": {
             "fill": {
              "color": "#EBF0F8"
             },
             "line": {
              "color": "white"
             }
            },
            "header": {
             "fill": {
              "color": "#C8D4E3"
             },
             "line": {
              "color": "white"
             }
            },
            "type": "table"
           }
          ]
         },
         "layout": {
          "annotationdefaults": {
           "arrowcolor": "#2a3f5f",
           "arrowhead": 0,
           "arrowwidth": 1
          },
          "autotypenumbers": "strict",
          "coloraxis": {
           "colorbar": {
            "outlinewidth": 0,
            "ticks": ""
           }
          },
          "colorscale": {
           "diverging": [
            [
             0,
             "#8e0152"
            ],
            [
             0.1,
             "#c51b7d"
            ],
            [
             0.2,
             "#de77ae"
            ],
            [
             0.3,
             "#f1b6da"
            ],
            [
             0.4,
             "#fde0ef"
            ],
            [
             0.5,
             "#f7f7f7"
            ],
            [
             0.6,
             "#e6f5d0"
            ],
            [
             0.7,
             "#b8e186"
            ],
            [
             0.8,
             "#7fbc41"
            ],
            [
             0.9,
             "#4d9221"
            ],
            [
             1,
             "#276419"
            ]
           ],
           "sequential": [
            [
             0,
             "#0d0887"
            ],
            [
             0.1111111111111111,
             "#46039f"
            ],
            [
             0.2222222222222222,
             "#7201a8"
            ],
            [
             0.3333333333333333,
             "#9c179e"
            ],
            [
             0.4444444444444444,
             "#bd3786"
            ],
            [
             0.5555555555555556,
             "#d8576b"
            ],
            [
             0.6666666666666666,
             "#ed7953"
            ],
            [
             0.7777777777777778,
             "#fb9f3a"
            ],
            [
             0.8888888888888888,
             "#fdca26"
            ],
            [
             1,
             "#f0f921"
            ]
           ],
           "sequentialminus": [
            [
             0,
             "#0d0887"
            ],
            [
             0.1111111111111111,
             "#46039f"
            ],
            [
             0.2222222222222222,
             "#7201a8"
            ],
            [
             0.3333333333333333,
             "#9c179e"
            ],
            [
             0.4444444444444444,
             "#bd3786"
            ],
            [
             0.5555555555555556,
             "#d8576b"
            ],
            [
             0.6666666666666666,
             "#ed7953"
            ],
            [
             0.7777777777777778,
             "#fb9f3a"
            ],
            [
             0.8888888888888888,
             "#fdca26"
            ],
            [
             1,
             "#f0f921"
            ]
           ]
          },
          "colorway": [
           "#636efa",
           "#EF553B",
           "#00cc96",
           "#ab63fa",
           "#FFA15A",
           "#19d3f3",
           "#FF6692",
           "#B6E880",
           "#FF97FF",
           "#FECB52"
          ],
          "font": {
           "color": "#2a3f5f"
          },
          "geo": {
           "bgcolor": "white",
           "lakecolor": "white",
           "landcolor": "#E5ECF6",
           "showlakes": true,
           "showland": true,
           "subunitcolor": "white"
          },
          "hoverlabel": {
           "align": "left"
          },
          "hovermode": "closest",
          "mapbox": {
           "style": "light"
          },
          "paper_bgcolor": "white",
          "plot_bgcolor": "#E5ECF6",
          "polar": {
           "angularaxis": {
            "gridcolor": "white",
            "linecolor": "white",
            "ticks": ""
           },
           "bgcolor": "#E5ECF6",
           "radialaxis": {
            "gridcolor": "white",
            "linecolor": "white",
            "ticks": ""
           }
          },
          "scene": {
           "xaxis": {
            "backgroundcolor": "#E5ECF6",
            "gridcolor": "white",
            "gridwidth": 2,
            "linecolor": "white",
            "showbackground": true,
            "ticks": "",
            "zerolinecolor": "white"
           },
           "yaxis": {
            "backgroundcolor": "#E5ECF6",
            "gridcolor": "white",
            "gridwidth": 2,
            "linecolor": "white",
            "showbackground": true,
            "ticks": "",
            "zerolinecolor": "white"
           },
           "zaxis": {
            "backgroundcolor": "#E5ECF6",
            "gridcolor": "white",
            "gridwidth": 2,
            "linecolor": "white",
            "showbackground": true,
            "ticks": "",
            "zerolinecolor": "white"
           }
          },
          "shapedefaults": {
           "line": {
            "color": "#2a3f5f"
           }
          },
          "ternary": {
           "aaxis": {
            "gridcolor": "white",
            "linecolor": "white",
            "ticks": ""
           },
           "baxis": {
            "gridcolor": "white",
            "linecolor": "white",
            "ticks": ""
           },
           "bgcolor": "#E5ECF6",
           "caxis": {
            "gridcolor": "white",
            "linecolor": "white",
            "ticks": ""
           }
          },
          "title": {
           "x": 0.05
          },
          "xaxis": {
           "automargin": true,
           "gridcolor": "white",
           "linecolor": "white",
           "ticks": "",
           "title": {
            "standoff": 15
           },
           "zerolinecolor": "white",
           "zerolinewidth": 2
          },
          "yaxis": {
           "automargin": true,
           "gridcolor": "white",
           "linecolor": "white",
           "ticks": "",
           "title": {
            "standoff": 15
           },
           "zerolinecolor": "white",
           "zerolinewidth": 2
          }
         }
        },
        "xaxis": {
         "title": {
          "text": "WL Depth (mm)"
         }
        },
        "yaxis": {
         "title": {
          "text": "Coupled Criterion"
         }
        }
       }
      }
     },
     "metadata": {},
     "output_type": "display_data"
    },
    {
     "data": {
      "application/vnd.plotly.v1+json": {
       "config": {
        "plotlyServerURL": "https://plot.ly"
       },
       "data": [
        {
         "marker": {
          "color": "green"
         },
         "mode": "markers",
         "name": "SSERR",
         "type": "scatter",
         "x": {
          "bdata": "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",
          "dtype": "f8"
         },
         "y": {
          "bdata": "YNnqNrXcIkAz8/ByCZAUQH19P8S4mQlAnrM1RXMdEEDHYpUYHQbhP2CNS6JQXSVAJ6gQLtxLEECkcMnK1xQZQPR1AayNPxBACFt0Z0YRM0CsyUHMDu4sQNAqWUGqiMg/IIMpand0AEBBS6NzvGwVQE67DpJGJyBA+CyPpEwSFkBPeH8C2EkAQBiqkpmvwhhA7KcfSvDhAUBzUcgXEx4hQLoHI1UEBBVAlOp0XQrkGUAbGVwF3FAKQBxYgMFJaxRATvpPF6HYFEAemCcJOQsiQORQ+1+wOxtAdjuavaI9J0BII8Dev+kgQH6QEyebqCBAsExteKnTCEBwfyFealgOQDyh3zi1UB9AH0q5cK/aFkAIEu+GUlAJQAoJNueEVx9AwhzI22IaEkB3HvzTH4sMQFhrDfAjCBRAKjj0zGwyBEBIqqRTYDb0P9oAsyMx8AxATPVcROObIUCEFRqnxa4OQL34D1m6oANAxh0KCWv7D0CvWR+9/MwXQNgMUCQARwJA4GXG1+ZLHUAQr/KW2xgXQITGAMjc+BFALT16RLFIGUCeLe+emyciQAZD3a4bkylA2dnmqowXFUDRiqWFR5z9P2SivxxBjgxAWpCdlAUeI0AYRBtOVXAKQBHVoK7FbyJAAAAAAAAA+H9zx5KXdOMSQOBopVzZlhtAiovvDR9XM0CUgfleiikdQHe9NpWDey9AYCZrvBpKEEAvWjpguUcdQJ7+zn2VzhhAN19abtdAEkDULS/erOgVQEAbK6obWhVA33aXt3nCHUDsSAhtoY70P/LI3ieQphFABE/rk/QeBED+iDJJf1oZQCuNOWRUGc0/LOOJa6kQFEAgz1KwLd4QQNzS4ngpvARArgUKK+KbEUBdydQY1pEXQDgsnvwruARAaMOle7SzBkCPHIEHx9wHQDrqAYEwVCBAiU01KLz5HkBxUM2fUv4JQMAtc3chrBJAnNx0g9TwGkDYqZSDhrABQEAo1iiv9xdA5Oyblo13HEAAAAAAAAD4fx05PNi48vM/klziKf+xEEAOOvOidTThP2YRk5xCHRBABJiegBhqI0AgvOAoI6jePyOrqguOszNA4z7jduZDF0AyUdRGcYUgQIJ2KwvFFSNAPr2N49+QHUBZdi/JaQUTQFbvRIqsO/0/pGDg+/buJkDtwqBCMS3/PyosOcUOWRdAeiD/vM3iE0AgwFXKi6gXQNN+C0dd0RNAHjThK/AYGUAMpEcnF+wHQMJy1NFEfB5AOo5Ksqng/T+yXAabFdsKQHU7M5DcgCFAc+z0X1CjE0BfmVjYxqoSQOeFROr9aQlAEqjsADOeFUBZn13HBq0fQMwcZ8Dr3wdAnKKkrFUJG0AAAAAAAAD4f0p2aERFnBBADSFnVgViEUDq88DQNV/9P4JvLX4LQABA1RF+bznQA0C3iguz5mHxP1k3/PsmAhlA0HTvpmjU8z+yXAabFdsKQKLHGnsjFCJAaNnQ8jT3D0CyXAabFdsKQLhEQGFAjxJAQF1SEvvuD0DqWfyaIZYOQFdyZWiZhP0/gE19fvIoF0Bz7PRfUKMTQLJcBpsV2wpA8GLNxZenCEBE3Nlcer4cQKUtlJ7aYBFAXcbccMM4IECnkAvuNXkRQLJcBpsV2wpATuu2M3J3IECKKWzQAh8eQLJcBpsV2wpAGOnQN4j5EUAWnwiTYnwNQK5vi6bsPyhAPMfXJp8mDUCJIsWI3X4cQKq3XLDoRwlAMN91+FQJ/z+MjRpG/jP9P3Ps9F9QoxNAslwGmxXbCkDGsTrO3XgIQHVip1b+NiZALFboRjNvyD+c2yrMnFsUQK9PKymTmidAsqZ8Qgy4BkBQ9oNWq0cFQLJcBpsV2wpA1lQ6bienEUCSfVCie8QfQKTe0MVuKBdAwpLWYB6pCkCF/0irUwkLQOLJcXREKAlAN//HiUJKE0Bcbq/nViMgQApqWPBpuwpA9oKCSOI4EUBWM+5T5M0kQCJ+GsenHwFATUjBHci2FUAVXrIi5BUnQP+m/QDkXg5APO7M/ONPDkCyXAabFdsKQJipfTA7hhNAIG/DfcupF0BH1lRgFxoXQKonA1neJSJAEOPB9BhHFEBm3ovxEw3+P6q9W7K+jQdAfATnVeNnCkCk3M/FWyYcQMYhk6JLGxZAp9BdLZ9JLEDaWQD75zYcQJc6sL+0ogFA9VRklAj8EEDaEnoziq3SP/xjKiEGpBBAYkBZVHunKEARp3laz6YYQA8f/EyaDRBAn4outIQGFUBENiEMw0f8Py6k3t26fRFAkXC/gZNH/j86BBpg0mbkP6t9oLrD8CBAD6AJFJDn+D9UR05+CEYMQJ5jO5mUqhZAdPrLtIdaGUDogfrnaicFQEKUE2ZLNyFAZuyV8TEAFkAQ43XcDF0OQLIYAVi9KyFAkfS8Mq0gHUCgOAGgOyoHQLJcBpsV2wpAVks/du6p+T9FCgx+eRwgQJp0pmExiBxAVA/v394IHUAe6Io8qNwpQLJcBpsV2wpAlABp5G06EECoiABgujQNQFTSJmpyYhJATDNlVKdhDEACmo+Afm0jQA0vmU6KxypAXo9XGtGZJ0BVCXhybQAeQAmMW/uLpAdAEDrDZzHt/T/O8dT7vY8dQMAttrgvzQNA3DRpE6VY8z+tDq16DiggQDO3egCbMQVAslwGmxXbCkAH8M5ew80fQAAAAAAAAPh/uOBXzeUfCkCyXAabFdsKQEcEDwwdtB1AGEbvi9j0E0CyXAabFdsKQGPw4MEXrApA/teJhpCKFUBqTvrfgEISQG6xAoeNAvM/rdhscQ6qFEC++PHBbN0nQABfifu5zhpAUq2KjV3xGEBFb0kUQ6wMQCxW6EYzb8g/epHE5yl6FECq0emJElYiQIopbNACHx5AslwGmxXbCkCQy+OgP9AbQJpB+sDdwQdAAbyrYQdx8j862U5WBuMZQNQb+pz5cCJALcAHGZa8MEAQHQcT4s8OQDiw3rd0oCJAzjZ1p3R4IUBGpZDDBD4lQLJcBpsV2wpANh2aRsDoIEBChggc1fgLQJFepWg0wxlAc+z0X1CjE0C4Cq4fae0EQEqtHFAvFx9AKpW7lkI89z9L0tB/riABQGo+EEPKYxJALObc1UDzGUCIlE53OdkQQO6hxwv8QxFAEru4ZPvVJEDij89hODkZQOFW9ExpHQxACxzc3j6uHEDGmKC5FCcRQFo053lbJAxAHxCoUXaiCED0QoLMrCYJQPtnYQN6HAtAI1GH3BSnDEBQt4q4Um4XQIlEhfRWhRVAsxmVX/YLIEBUG5AiUhQSQBbXBa/MBA9A3w5Kdwba/D9z7PRfUKMTQHhItGZuExdAdy7NbI0bAEBcm69PdboFQOxA9mjsRhlAdjF6y3Q+I0DEljj+l2QQQPTelZ+gIhBAyEsJrTMsGEDa6j5Zn18nQLdYfYbzLRVAssJrn1V/M0B0F/K3s1QCQIiBQieAYAZAdXdjRkM+JUCKyorBWC4nQKaEB1oj0iNAq4nsyOkoCEDCucIDHsMVQBpOQmS8IhJAP+h7kl1AGEDYLzjH+HgrQCi33IHV3xlAECxws86D/T9k9GXRgor8P0IatgZimRlATnnzmmMnDkA+5gsuQ8cYQFSHlLi0uyJArrDRdmG8IUBqkyMjDA4UQOnDm+f5Xfc/Y7MIStcoEEDwQkQwlOMNQBN4xBNf3gVAEgbwTv0iCEB+7EfIpv4YQMxMEsvjnhZApiDcT8uHIEBpCj7ArLARQCg9WhgAESZAJ6o4EO31H0Dj9O3Rct4VQAagjBbtHxdAFZ9E9t1ZFEACa/lNMEkkQLzh4ooeEhhAfW9z2esVCEARddqDSR0PQEDk+QyOxCFAQPpB5b/nHkDQaONHCmQQQMu1/Ys0mRJA13TZDfaMFUCw+LurIuA0QGSRWbD40hBA7RyGxJUxEEBgosZwnAARQH7usVwyuylAZYVN58y2IkAAAAAAAAD4fzlFFp6hRBpAlt/VU5ZpFkClD6FHHZj+P255C8FnixhAQy5q0ixLDECiyvMi/VAlQFLJhztIPhRAjBQMlu44FEAAAAAAAAD4f3Iuy7w1VyBA9pULHVFhDkBZWtRWBKQgQPnY1Hfg9RRAqndIThnh9T/GFgW20a4gQDgEz0OIqhVAxyE/h8zpD0B3Jhtz3fAQQIIoWYhtqxBAsqLsqd4g/z90ceiOnrfhP/zyA8Mw9whA1Sehp/p83T8EeXhYO8UIQG6/oilnARFAIL8wyvJ4uz/CE65X3rcQQNzLT/bRrRVA1pvK5wRZD0AO4wPfVI78P2sO39nUBA1AZCJWNv7dEkDW0RCkegowQADq6TcCKxBAp9GrAUFeFkAKTsyN+5UqQN5lk6/60hZAh3p8o0K1HUCc9N3vwsQHQGk1xy/R1BRAAAAAAAAA+H80WhwtUGgTQE9hXne9yRVAzQxuYGoEIkCwhZPcymcFQMz/PT2Ntg5AK1LZrL5J/j/mt86kLdgEQBepmfEGoDJA1Ih+yDGxFUCPd9vxN0wIQAQnr7zJT/I/Yg8/SezuFECqzXMdSKYSQJEwvU2hM+E/J0cLHb+ZGEBqCYZaQ68QQHS+YQK1Xw1AmUxQ7xF6DUDx5BhQF14GQClJlj6SAPA/6kxrln/AJEB2MXrLdD4jQGN7tKxDEh1APQblcTO+EEB6V5QRImslQGBL8vtg6xZAC7PqqlM6AkDMVp2Mo1IdQPtrqIdO6SFAqwGODcQZCkDGMwjI3Z8aQIAC+JfkbxFAacfDh1liKEBDgAz4cLr/P2LQZWGOzwxAlgjfEkhfCUAJuy/QIIEmQGN7tKxDEh1AGN8LFwCoFEA55qydx8AJQPYJkI2mhB1AS+dqQqBQFkCKo96VIXQMQK26XGWUxv8/gpKf2IrOIEA1rdwm4+8bQABWiauSSBtAoYjT1QaxG0AU9/U/i6ElQACwYOYM9O0/FOz/gdBFNkDUSJO9+84UQM7VLrVLHRBAg4lhU1sxI0C2YnCtU+n7PwAAAAAAAPh/c7X+Ya0rF0DqacJHDrcIQGBaL0Sr8BNAe5M52MwdE0AkLR3nsm4gQOCKihtFhCFAlrVeO/FiIECMqvs84ZoDQCueZEOnWx9AhGZSFSr3GkBGpVw/1Y4ZQF/hJt71rQ1ABv2teTRiIkBgMXMsv7D1P6pKZXKGxARA9Nf6SrTwFEDSiB4TKA0aQHr+Ss6a8hZA5P257QmlIkCcROWLRe4KQNYSzPZUxRtAVlr/3jYgI0CrmjppOf0TQPYwj/DhAgRAvr7wv8qyC0CzT4EODcYWQBo90ITz2h5A/pBYAGgCJUCf2lkqFMMEQKarThs7X/o/HfX8TP5qG0D7ZHwVbfYeQGclc+nLY+A/KrWVurYCDkC8otZJUD4JQLWv58Qh8xFALz3LE845EUDJW+fV3hkkQAjMx2NdcRBAxIxFyFxTD0Ca7mZdL1gUQB16RQb21AJADiCcuCeyG0Cik4TRGKwKQOGN0XFqlw5ARnaz1kYrHUCCVrxV3hwQQODUfCWCARFALKBCQV5o+z9V6JVFiq0TQIBa/LeZfhZA7NTC2qdWIUDUfOlxQ1YhQFFUYZjRfyVAKpCLuxAsB0A6QrfSt5wPQBnAcK0q1yRArcBd+DAWJUDQo/ja3Nr2P6HfHUUP/hJAIAN2dLB0G0ArCJCUpw4dQP8zlTETXBpANP7XVipUDkBvgOqBWoUTQMj/O6VLgylAVnINXYP3PUBRA7I9/jUQQNg4ATej7wdAPesVrb3ZIUAM2+LN5mAaQNCrBkvI+x9Aia3A1r7pIEDwkouDQaAOQIjBDR8ZMgxA0crx4kPFHkCjxhprqOoPQKggxH8v6Q5AZJl5HMWqEUAMqrFWaVgPQEgj1n9aRBBAcOrbU+XFG0BK7j7bkAETQHZz585UWBBADnEBrjCR1D9XOStzj+0YQDVZzBi21gJADoiaY4zbIEDWGTTPLngVQEztV1UbgxJAw23gwa5uDEBSp4zjk4oVQFOobmz6cQlAUytqIr9sGUCd6hX6GHUiQIJnMcyVJvM/DDK65KpYxD8Hky6TcN0IQA40TSRt2hpAMrLMDPmnFkDcz4n+D8IgQPuhy/C8EyJATfZUPwJoIkAYLRA6jNYKQEw7mv0R2vc/w/ZBPVzLFkCiNGkJxeskQGbUF1SW0RdAY7TV9NL6GUBi46icZ8AQQNiYd4CG/xpAntvqtWrjDEAH9k50q1EkQPrhESpi4u0/xCj/g6ezJkBwEuOaRKkZQGJ72KNaFRJA7O4+P5BjF0BfYvn2FB0gQDAeMiwhjhJA0duzTgpSIED+5Y697S/xP2siBTeZYgVA+w6JWZ/0FEA27I/pyMQXQCZJ0a+lKg9A8E75j1ALKUCPuscJGCH8P97U2zx3hBFASbTnpJJaEEDsMQoIYZcOQFHiMmpDbhFABjLTiL4YEEBGDYYVIj4SQEdJGAaryyBAbxzGy+ecFEBYBEqfyYUeQAVzmkeoXQNAojmAU268C0CZQq2NfuISQMruXknKUBdAipbcK/ruLkCUHfSJnTogQHT+FnDy8QdAOy+k+i4z/D+atqBnC0YRQOGjnbun7CJARomum27IHED6p6hAMZ4WQNopXz+AWRFAfPHCRHbMGkDAFUPF5E8fQBcaVutyMxtAkG3gYv0tBkAnm+KXFmEGQJCKkaq4hihA+W9U4la9HkCzvrGnXRscQOOF0JWI1wxAksF5C7oYGUAGwwX1Ov0LQC5qTvosWwFAOMRfOixqEUDza7ByMmAhQJN25/gaSBRAiYYncp01GUCuWI/sV/4WQLJ5OPaptA1AP42IpI4aBUCOycKRNKYXQIp2v4OihgVAJEc0PBsKIEDeu4ybtv0BQNh+JJHOMxtAQidVexlY/T8IyoSwHEEIQEctc4ZmuAZAoL91PXN/GUDUyHXzcBcHQMcyrS1yawRAUsefK/5lJUDgw5CX1SIXQCygQkFeaPs/uLWJlOBlFECSE/yrLlAEQGQH4xb42BhATNR48YulIUAKH6sy1cojQIBFr0F3fyBACVzxbQceEUD5lC6cWOAfQKa0NtvBRfo/B9ccRFzrD0BGgRCbxgMQQIKeY+clMw1ACMY2bx5zEEA2ZnXBWTAUQFAXdMPaaydAfbG+1ChiFkBsaC4MjuMjQIQfT4Z3QSBAV3rWJYVyEkCABzU5fhUgQLUfjIexgBBA6kQ4zDKxE0BEm/RA56fgP2JS0eQPNx5A8m0SyHt1CEARY16BVjoXQFy1mtZYbQtADXiOeJl5/j89SNJu9uQUQCkAsjqq9hBAHDu/759vDkDmWZWR3jYkQHX+l24n3d0/qNP/MDMBHEDUON0Nm2goQPeqQwMsjgFACiuDqg/1H0Du3RVBCOgKQG298W/GWyBA21L7xXOZD0DVJG8VvgQhQKpuwM24UBxA2pHyr9VqE0AHJCFTluoEQBAzuUZfBRhA3BqNCiunJUCABbgeRI/0P6MMlIWteR5A0EIa43OOKUCC0cSLJNwQQJk0fdkUnhBAXwDRKYkDHkC6Xt26eKkYQOrwfbF8GARAwBdiwngNCUDXiXxayIjzP7zoZOBPC/g/JaIiMtcUG0CgYteLdrgWQDTccCJaMBpAcCyB73C3F0Cptk529m0YQBIqF/I65xdA4iZVB2A2JkA4c1n4x5gKQJdV09N/0BhArRriyZNFG0BPPadcnOc3QJ7D0DoZJhlAyUwd3V4+F0D0JIlF+JshQNRK2qPz7RJAbnsf0fmfAkCo03WLCzAGQLw3IPlu/hVADisxtu5wJkBUC/vov2QgQIoZclwKffw/olKCsN6yBkCMRny32SIYQD9JAkMpchBABRjEXmRfFUC9VMwAk0gQQHjWUSePHRVAgqmGUjfCB0At7D+e1vPxP4jeX637EBdAoyPRohF7BEBDNn7vE60ZQEoAn28U/hJApKT9MV4SCkDSGVUuaSINQBpA5hyPNh1AEnw4mPMCCEA7TOdRF0gHQL/0SjXcXQxAT4CAHCQMC0BglaUj3TcbQJ42wqfQ7ghARY2D1ys0DkBbikQBwX4TQLDA5AtLWxVA2FUdXQ+hD0C/XaH+cGIgQKIKOf9fiBNA7Fe1G/SpAkBwV9qN9BkhQFG91HmBqSFASkbx1egLIUBTsPda5IAZQJILNCH9bA9AdmTMBI04L0CYP1c4+LTkPwFj1iuOoBJA0Msf7eLsIUAEI1ua2eQCQGo/VCd3giNAAAAAAAAA+H+IEaeq5XMWQJEwdLmm8+E/Umk6fR4IGkBKXT9p1WAPQEHTQ0vyZwhA2v63AAUiIUBmkItS2jYeQEcFtdW+BiRArcWSIa7z9z9L06hLIeAmQO9g1mBBpBRAcMSm3qZtG0BaE+kpBGwWQA7jrtTjgiJA5SHq5iF5A0B8nH4swsAVQIwxRtqpiwBAylEdnioWEkCswNYUGWgRQH1lIyaO6w1AUMQu1yumE0CIdZobJm8HQKxVc71DexlAdUYvGyYdDEB+QmmgyzEjQAvoXFPiHxhA8ygX4EBJDkA4ronqOOfiPyJsNqmsiwJAdNeWQPPwJ0ALegZH8yIiQBpHXAuACSFApUqsnSoeFED6/dED4QklQHLVoANiDCNApjiYoT4HGUAUtXPmRREVQFgSbzq2iQFA1vYtt3hYD0AVvN62iMUbQLzgED8oohxAcsaDeoxsDUAHmgmc6vYJQGrBLeJ8gR9AOHfJ4DBOGUCEc4fkt9v8P/aKqNZoKBZA/B6h3Z2RAECw774aH34kQAAAAAAAAPh/YuOonGfAEEAIUXAmDhUJQMqMd479kyBA3EaEVMSZH0D25XmP/EEgQNz57plxugRAlpEHah0QA0CCO7t26LAVQAAAAAAAAPh/F+LSzHUeA0BgvDRMF4L8PwAAAAAAAPh/LI3LOIQyCEAczZy4V2MWQJhk1UVgsQtA",
          "dtype": "f8"
         }
        }
       ],
       "layout": {
        "template": {
         "data": {
          "bar": [
           {
            "error_x": {
             "color": "#2a3f5f"
            },
            "error_y": {
             "color": "#2a3f5f"
            },
            "marker": {
             "line": {
              "color": "#E5ECF6",
              "width": 0.5
             },
             "pattern": {
              "fillmode": "overlay",
              "size": 10,
              "solidity": 0.2
             }
            },
            "type": "bar"
           }
          ],
          "barpolar": [
           {
            "marker": {
             "line": {
              "color": "#E5ECF6",
              "width": 0.5
             },
             "pattern": {
              "fillmode": "overlay",
              "size": 10,
              "solidity": 0.2
             }
            },
            "type": "barpolar"
           }
          ],
          "carpet": [
           {
            "aaxis": {
             "endlinecolor": "#2a3f5f",
             "gridcolor": "white",
             "linecolor": "white",
             "minorgridcolor": "white",
             "startlinecolor": "#2a3f5f"
            },
            "baxis": {
             "endlinecolor": "#2a3f5f",
             "gridcolor": "white",
             "linecolor": "white",
             "minorgridcolor": "white",
             "startlinecolor": "#2a3f5f"
            },
            "type": "carpet"
           }
          ],
          "choropleth": [
           {
            "colorbar": {
             "outlinewidth": 0,
             "ticks": ""
            },
            "type": "choropleth"
           }
          ],
          "contour": [
           {
            "colorbar": {
             "outlinewidth": 0,
             "ticks": ""
            },
            "colorscale": [
             [
              0,
              "#0d0887"
             ],
             [
              0.1111111111111111,
              "#46039f"
             ],
             [
              0.2222222222222222,
              "#7201a8"
             ],
             [
              0.3333333333333333,
              "#9c179e"
             ],
             [
              0.4444444444444444,
              "#bd3786"
             ],
             [
              0.5555555555555556,
              "#d8576b"
             ],
             [
              0.6666666666666666,
              "#ed7953"
             ],
             [
              0.7777777777777778,
              "#fb9f3a"
             ],
             [
              0.8888888888888888,
              "#fdca26"
             ],
             [
              1,
              "#f0f921"
             ]
            ],
            "type": "contour"
           }
          ],
          "contourcarpet": [
           {
            "colorbar": {
             "outlinewidth": 0,
             "ticks": ""
            },
            "type": "contourcarpet"
           }
          ],
          "heatmap": [
           {
            "colorbar": {
             "outlinewidth": 0,
             "ticks": ""
            },
            "colorscale": [
             [
              0,
              "#0d0887"
             ],
             [
              0.1111111111111111,
              "#46039f"
             ],
             [
              0.2222222222222222,
              "#7201a8"
             ],
             [
              0.3333333333333333,
              "#9c179e"
             ],
             [
              0.4444444444444444,
              "#bd3786"
             ],
             [
              0.5555555555555556,
              "#d8576b"
             ],
             [
              0.6666666666666666,
              "#ed7953"
             ],
             [
              0.7777777777777778,
              "#fb9f3a"
             ],
             [
              0.8888888888888888,
              "#fdca26"
             ],
             [
              1,
              "#f0f921"
             ]
            ],
            "type": "heatmap"
           }
          ],
          "histogram": [
           {
            "marker": {
             "pattern": {
              "fillmode": "overlay",
              "size": 10,
              "solidity": 0.2
             }
            },
            "type": "histogram"
           }
          ],
          "histogram2d": [
           {
            "colorbar": {
             "outlinewidth": 0,
             "ticks": ""
            },
            "colorscale": [
             [
              0,
              "#0d0887"
             ],
             [
              0.1111111111111111,
              "#46039f"
             ],
             [
              0.2222222222222222,
              "#7201a8"
             ],
             [
              0.3333333333333333,
              "#9c179e"
             ],
             [
              0.4444444444444444,
              "#bd3786"
             ],
             [
              0.5555555555555556,
              "#d8576b"
             ],
             [
              0.6666666666666666,
              "#ed7953"
             ],
             [
              0.7777777777777778,
              "#fb9f3a"
             ],
             [
              0.8888888888888888,
              "#fdca26"
             ],
             [
              1,
              "#f0f921"
             ]
            ],
            "type": "histogram2d"
           }
          ],
          "histogram2dcontour": [
           {
            "colorbar": {
             "outlinewidth": 0,
             "ticks": ""
            },
            "colorscale": [
             [
              0,
              "#0d0887"
             ],
             [
              0.1111111111111111,
              "#46039f"
             ],
             [
              0.2222222222222222,
              "#7201a8"
             ],
             [
              0.3333333333333333,
              "#9c179e"
             ],
             [
              0.4444444444444444,
              "#bd3786"
             ],
             [
              0.5555555555555556,
              "#d8576b"
             ],
             [
              0.6666666666666666,
              "#ed7953"
             ],
             [
              0.7777777777777778,
              "#fb9f3a"
             ],
             [
              0.8888888888888888,
              "#fdca26"
             ],
             [
              1,
              "#f0f921"
             ]
            ],
            "type": "histogram2dcontour"
           }
          ],
          "mesh3d": [
           {
            "colorbar": {
             "outlinewidth": 0,
             "ticks": ""
            },
            "type": "mesh3d"
           }
          ],
          "parcoords": [
           {
            "line": {
             "colorbar": {
              "outlinewidth": 0,
              "ticks": ""
             }
            },
            "type": "parcoords"
           }
          ],
          "pie": [
           {
            "automargin": true,
            "type": "pie"
           }
          ],
          "scatter": [
           {
            "fillpattern": {
             "fillmode": "overlay",
             "size": 10,
             "solidity": 0.2
            },
            "type": "scatter"
           }
          ],
          "scatter3d": [
           {
            "line": {
             "colorbar": {
              "outlinewidth": 0,
              "ticks": ""
             }
            },
            "marker": {
             "colorbar": {
              "outlinewidth": 0,
              "ticks": ""
             }
            },
            "type": "scatter3d"
           }
          ],
          "scattercarpet": [
           {
            "marker": {
             "colorbar": {
              "outlinewidth": 0,
              "ticks": ""
             }
            },
            "type": "scattercarpet"
           }
          ],
          "scattergeo": [
           {
            "marker": {
             "colorbar": {
              "outlinewidth": 0,
              "ticks": ""
             }
            },
            "type": "scattergeo"
           }
          ],
          "scattergl": [
           {
            "marker": {
             "colorbar": {
              "outlinewidth": 0,
              "ticks": ""
             }
            },
            "type": "scattergl"
           }
          ],
          "scattermap": [
           {
            "marker": {
             "colorbar": {
              "outlinewidth": 0,
              "ticks": ""
             }
            },
            "type": "scattermap"
           }
          ],
          "scattermapbox": [
           {
            "marker": {
             "colorbar": {
              "outlinewidth": 0,
              "ticks": ""
             }
            },
            "type": "scattermapbox"
           }
          ],
          "scatterpolar": [
           {
            "marker": {
             "colorbar": {
              "outlinewidth": 0,
              "ticks": ""
             }
            },
            "type": "scatterpolar"
           }
          ],
          "scatterpolargl": [
           {
            "marker": {
             "colorbar": {
              "outlinewidth": 0,
              "ticks": ""
             }
            },
            "type": "scatterpolargl"
           }
          ],
          "scatterternary": [
           {
            "marker": {
             "colorbar": {
              "outlinewidth": 0,
              "ticks": ""
             }
            },
            "type": "scatterternary"
           }
          ],
          "surface": [
           {
            "colorbar": {
             "outlinewidth": 0,
             "ticks": ""
            },
            "colorscale": [
             [
              0,
              "#0d0887"
             ],
             [
              0.1111111111111111,
              "#46039f"
             ],
             [
              0.2222222222222222,
              "#7201a8"
             ],
             [
              0.3333333333333333,
              "#9c179e"
             ],
             [
              0.4444444444444444,
              "#bd3786"
             ],
             [
              0.5555555555555556,
              "#d8576b"
             ],
             [
              0.6666666666666666,
              "#ed7953"
             ],
             [
              0.7777777777777778,
              "#fb9f3a"
             ],
             [
              0.8888888888888888,
              "#fdca26"
             ],
             [
              1,
              "#f0f921"
             ]
            ],
            "type": "surface"
           }
          ],
          "table": [
           {
            "cells": {
             "fill": {
              "color": "#EBF0F8"
             },
             "line": {
              "color": "white"
             }
            },
            "header": {
             "fill": {
              "color": "#C8D4E3"
             },
             "line": {
              "color": "white"
             }
            },
            "type": "table"
           }
          ]
         },
         "layout": {
          "annotationdefaults": {
           "arrowcolor": "#2a3f5f",
           "arrowhead": 0,
           "arrowwidth": 1
          },
          "autotypenumbers": "strict",
          "coloraxis": {
           "colorbar": {
            "outlinewidth": 0,
            "ticks": ""
           }
          },
          "colorscale": {
           "diverging": [
            [
             0,
             "#8e0152"
            ],
            [
             0.1,
             "#c51b7d"
            ],
            [
             0.2,
             "#de77ae"
            ],
            [
             0.3,
             "#f1b6da"
            ],
            [
             0.4,
             "#fde0ef"
            ],
            [
             0.5,
             "#f7f7f7"
            ],
            [
             0.6,
             "#e6f5d0"
            ],
            [
             0.7,
             "#b8e186"
            ],
            [
             0.8,
             "#7fbc41"
            ],
            [
             0.9,
             "#4d9221"
            ],
            [
             1,
             "#276419"
            ]
           ],
           "sequential": [
            [
             0,
             "#0d0887"
            ],
            [
             0.1111111111111111,
             "#46039f"
            ],
            [
             0.2222222222222222,
             "#7201a8"
            ],
            [
             0.3333333333333333,
             "#9c179e"
            ],
            [
             0.4444444444444444,
             "#bd3786"
            ],
            [
             0.5555555555555556,
             "#d8576b"
            ],
            [
             0.6666666666666666,
             "#ed7953"
            ],
            [
             0.7777777777777778,
             "#fb9f3a"
            ],
            [
             0.8888888888888888,
             "#fdca26"
            ],
            [
             1,
             "#f0f921"
            ]
           ],
           "sequentialminus": [
            [
             0,
             "#0d0887"
            ],
            [
             0.1111111111111111,
             "#46039f"
            ],
            [
             0.2222222222222222,
             "#7201a8"
            ],
            [
             0.3333333333333333,
             "#9c179e"
            ],
            [
             0.4444444444444444,
             "#bd3786"
            ],
            [
             0.5555555555555556,
             "#d8576b"
            ],
            [
             0.6666666666666666,
             "#ed7953"
            ],
            [
             0.7777777777777778,
             "#fb9f3a"
            ],
            [
             0.8888888888888888,
             "#fdca26"
            ],
            [
             1,
             "#f0f921"
            ]
           ]
          },
          "colorway": [
           "#636efa",
           "#EF553B",
           "#00cc96",
           "#ab63fa",
           "#FFA15A",
           "#19d3f3",
           "#FF6692",
           "#B6E880",
           "#FF97FF",
           "#FECB52"
          ],
          "font": {
           "color": "#2a3f5f"
          },
          "geo": {
           "bgcolor": "white",
           "lakecolor": "white",
           "landcolor": "#E5ECF6",
           "showlakes": true,
           "showland": true,
           "subunitcolor": "white"
          },
          "hoverlabel": {
           "align": "left"
          },
          "hovermode": "closest",
          "mapbox": {
           "style": "light"
          },
          "paper_bgcolor": "white",
          "plot_bgcolor": "#E5ECF6",
          "polar": {
           "angularaxis": {
            "gridcolor": "white",
            "linecolor": "white",
            "ticks": ""
           },
           "bgcolor": "#E5ECF6",
           "radialaxis": {
            "gridcolor": "white",
            "linecolor": "white",
            "ticks": ""
           }
          },
          "scene": {
           "xaxis": {
            "backgroundcolor": "#E5ECF6",
            "gridcolor": "white",
            "gridwidth": 2,
            "linecolor": "white",
            "showbackground": true,
            "ticks": "",
            "zerolinecolor": "white"
           },
           "yaxis": {
            "backgroundcolor": "#E5ECF6",
            "gridcolor": "white",
            "gridwidth": 2,
            "linecolor": "white",
            "showbackground": true,
            "ticks": "",
            "zerolinecolor": "white"
           },
           "zaxis": {
            "backgroundcolor": "#E5ECF6",
            "gridcolor": "white",
            "gridwidth": 2,
            "linecolor": "white",
            "showbackground": true,
            "ticks": "",
            "zerolinecolor": "white"
           }
          },
          "shapedefaults": {
           "line": {
            "color": "#2a3f5f"
           }
          },
          "ternary": {
           "aaxis": {
            "gridcolor": "white",
            "linecolor": "white",
            "ticks": ""
           },
           "baxis": {
            "gridcolor": "white",
            "linecolor": "white",
            "ticks": ""
           },
           "bgcolor": "#E5ECF6",
           "caxis": {
            "gridcolor": "white",
            "linecolor": "white",
            "ticks": ""
           }
          },
          "title": {
           "x": 0.05
          },
          "xaxis": {
           "automargin": true,
           "gridcolor": "white",
           "linecolor": "white",
           "ticks": "",
           "title": {
            "standoff": 15
           },
           "zerolinecolor": "white",
           "zerolinewidth": 2
          },
          "yaxis": {
           "automargin": true,
           "gridcolor": "white",
           "linecolor": "white",
           "ticks": "",
           "title": {
            "standoff": 15
           },
           "zerolinecolor": "white",
           "zerolinewidth": 2
          }
         }
        },
        "xaxis": {
         "title": {
          "text": "WL Depth (mm)"
         }
        },
        "yaxis": {
         "title": {
          "text": "SSERR"
         }
        }
       }
      }
     },
     "metadata": {},
     "output_type": "display_data"
    },
    {
     "data": {
      "application/vnd.plotly.v1+json": {
       "config": {
        "plotlyServerURL": "https://plot.ly"
       },
       "data": [
        {
         "marker": {
          "color": "yellow"
         },
         "mode": "markers",
         "name": "Touchdown Distance",
         "type": "scatter",
         "x": {
          "bdata": "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",
          "dtype": "f8"
         },
         "y": {
          "bdata": "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",
          "dtype": "f8"
         }
        }
       ],
       "layout": {
        "template": {
         "data": {
          "bar": [
           {
            "error_x": {
             "color": "#2a3f5f"
            },
            "error_y": {
             "color": "#2a3f5f"
            },
            "marker": {
             "line": {
              "color": "#E5ECF6",
              "width": 0.5
             },
             "pattern": {
              "fillmode": "overlay",
              "size": 10,
              "solidity": 0.2
             }
            },
            "type": "bar"
           }
          ],
          "barpolar": [
           {
            "marker": {
             "line": {
              "color": "#E5ECF6",
              "width": 0.5
             },
             "pattern": {
              "fillmode": "overlay",
              "size": 10,
              "solidity": 0.2
             }
            },
            "type": "barpolar"
           }
          ],
          "carpet": [
           {
            "aaxis": {
             "endlinecolor": "#2a3f5f",
             "gridcolor": "white",
             "linecolor": "white",
             "minorgridcolor": "white",
             "startlinecolor": "#2a3f5f"
            },
            "baxis": {
             "endlinecolor": "#2a3f5f",
             "gridcolor": "white",
             "linecolor": "white",
             "minorgridcolor": "white",
             "startlinecolor": "#2a3f5f"
            },
            "type": "carpet"
           }
          ],
          "choropleth": [
           {
            "colorbar": {
             "outlinewidth": 0,
             "ticks": ""
            },
            "type": "choropleth"
           }
          ],
          "contour": [
           {
            "colorbar": {
             "outlinewidth": 0,
             "ticks": ""
            },
            "colorscale": [
             [
              0,
              "#0d0887"
             ],
             [
              0.1111111111111111,
              "#46039f"
             ],
             [
              0.2222222222222222,
              "#7201a8"
             ],
             [
              0.3333333333333333,
              "#9c179e"
             ],
             [
              0.4444444444444444,
              "#bd3786"
             ],
             [
              0.5555555555555556,
              "#d8576b"
             ],
             [
              0.6666666666666666,
              "#ed7953"
             ],
             [
              0.7777777777777778,
              "#fb9f3a"
             ],
             [
              0.8888888888888888,
              "#fdca26"
             ],
             [
              1,
              "#f0f921"
             ]
            ],
            "type": "contour"
           }
          ],
          "contourcarpet": [
           {
            "colorbar": {
             "outlinewidth": 0,
             "ticks": ""
            },
            "type": "contourcarpet"
           }
          ],
          "heatmap": [
           {
            "colorbar": {
             "outlinewidth": 0,
             "ticks": ""
            },
            "colorscale": [
             [
              0,
              "#0d0887"
             ],
             [
              0.1111111111111111,
              "#46039f"
             ],
             [
              0.2222222222222222,
              "#7201a8"
             ],
             [
              0.3333333333333333,
              "#9c179e"
             ],
             [
              0.4444444444444444,
              "#bd3786"
             ],
             [
              0.5555555555555556,
              "#d8576b"
             ],
             [
              0.6666666666666666,
              "#ed7953"
             ],
             [
              0.7777777777777778,
              "#fb9f3a"
             ],
             [
              0.8888888888888888,
              "#fdca26"
             ],
             [
              1,
              "#f0f921"
             ]
            ],
            "type": "heatmap"
           }
          ],
          "histogram": [
           {
            "marker": {
             "pattern": {
              "fillmode": "overlay",
              "size": 10,
              "solidity": 0.2
             }
            },
            "type": "histogram"
           }
          ],
          "histogram2d": [
           {
            "colorbar": {
             "outlinewidth": 0,
             "ticks": ""
            },
            "colorscale": [
             [
              0,
              "#0d0887"
             ],
             [
              0.1111111111111111,
              "#46039f"
             ],
             [
              0.2222222222222222,
              "#7201a8"
             ],
             [
              0.3333333333333333,
              "#9c179e"
             ],
             [
              0.4444444444444444,
              "#bd3786"
             ],
             [
              0.5555555555555556,
              "#d8576b"
             ],
             [
              0.6666666666666666,
              "#ed7953"
             ],
             [
              0.7777777777777778,
              "#fb9f3a"
             ],
             [
              0.8888888888888888,
              "#fdca26"
             ],
             [
              1,
              "#f0f921"
             ]
            ],
            "type": "histogram2d"
           }
          ],
          "histogram2dcontour": [
           {
            "colorbar": {
             "outlinewidth": 0,
             "ticks": ""
            },
            "colorscale": [
             [
              0,
              "#0d0887"
             ],
             [
              0.1111111111111111,
              "#46039f"
             ],
             [
              0.2222222222222222,
              "#7201a8"
             ],
             [
              0.3333333333333333,
              "#9c179e"
             ],
             [
              0.4444444444444444,
              "#bd3786"
             ],
             [
              0.5555555555555556,
              "#d8576b"
             ],
             [
              0.6666666666666666,
              "#ed7953"
             ],
             [
              0.7777777777777778,
              "#fb9f3a"
             ],
             [
              0.8888888888888888,
              "#fdca26"
             ],
             [
              1,
              "#f0f921"
             ]
            ],
            "type": "histogram2dcontour"
           }
          ],
          "mesh3d": [
           {
            "colorbar": {
             "outlinewidth": 0,
             "ticks": ""
            },
            "type": "mesh3d"
           }
          ],
          "parcoords": [
           {
            "line": {
             "colorbar": {
              "outlinewidth": 0,
              "ticks": ""
             }
            },
            "type": "parcoords"
           }
          ],
          "pie": [
           {
            "automargin": true,
            "type": "pie"
           }
          ],
          "scatter": [
           {
            "fillpattern": {
             "fillmode": "overlay",
             "size": 10,
             "solidity": 0.2
            },
            "type": "scatter"
           }
          ],
          "scatter3d": [
           {
            "line": {
             "colorbar": {
              "outlinewidth": 0,
              "ticks": ""
             }
            },
            "marker": {
             "colorbar": {
              "outlinewidth": 0,
              "ticks": ""
             }
            },
            "type": "scatter3d"
           }
          ],
          "scattercarpet": [
           {
            "marker": {
             "colorbar": {
              "outlinewidth": 0,
              "ticks": ""
             }
            },
            "type": "scattercarpet"
           }
          ],
          "scattergeo": [
           {
            "marker": {
             "colorbar": {
              "outlinewidth": 0,
              "ticks": ""
             }
            },
            "type": "scattergeo"
           }
          ],
          "scattergl": [
           {
            "marker": {
             "colorbar": {
              "outlinewidth": 0,
              "ticks": ""
             }
            },
            "type": "scattergl"
           }
          ],
          "scattermap": [
           {
            "marker": {
             "colorbar": {
              "outlinewidth": 0,
              "ticks": ""
             }
            },
            "type": "scattermap"
           }
          ],
          "scattermapbox": [
           {
            "marker": {
             "colorbar": {
              "outlinewidth": 0,
              "ticks": ""
             }
            },
            "type": "scattermapbox"
           }
          ],
          "scatterpolar": [
           {
            "marker": {
             "colorbar": {
              "outlinewidth": 0,
              "ticks": ""
             }
            },
            "type": "scatterpolar"
           }
          ],
          "scatterpolargl": [
           {
            "marker": {
             "colorbar": {
              "outlinewidth": 0,
              "ticks": ""
             }
            },
            "type": "scatterpolargl"
           }
          ],
          "scatterternary": [
           {
            "marker": {
             "colorbar": {
              "outlinewidth": 0,
              "ticks": ""
             }
            },
            "type": "scatterternary"
           }
          ],
          "surface": [
           {
            "colorbar": {
             "outlinewidth": 0,
             "ticks": ""
            },
            "colorscale": [
             [
              0,
              "#0d0887"
             ],
             [
              0.1111111111111111,
              "#46039f"
             ],
             [
              0.2222222222222222,
              "#7201a8"
             ],
             [
              0.3333333333333333,
              "#9c179e"
             ],
             [
              0.4444444444444444,
              "#bd3786"
             ],
             [
              0.5555555555555556,
              "#d8576b"
             ],
             [
              0.6666666666666666,
              "#ed7953"
             ],
             [
              0.7777777777777778,
              "#fb9f3a"
             ],
             [
              0.8888888888888888,
              "#fdca26"
             ],
             [
              1,
              "#f0f921"
             ]
            ],
            "type": "surface"
           }
          ],
          "table": [
           {
            "cells": {
             "fill": {
              "color": "#EBF0F8"
             },
             "line": {
              "color": "white"
             }
            },
            "header": {
             "fill": {
              "color": "#C8D4E3"
             },
             "line": {
              "color": "white"
             }
            },
            "type": "table"
           }
          ]
         },
         "layout": {
          "annotationdefaults": {
           "arrowcolor": "#2a3f5f",
           "arrowhead": 0,
           "arrowwidth": 1
          },
          "autotypenumbers": "strict",
          "coloraxis": {
           "colorbar": {
            "outlinewidth": 0,
            "ticks": ""
           }
          },
          "colorscale": {
           "diverging": [
            [
             0,
             "#8e0152"
            ],
            [
             0.1,
             "#c51b7d"
            ],
            [
             0.2,
             "#de77ae"
            ],
            [
             0.3,
             "#f1b6da"
            ],
            [
             0.4,
             "#fde0ef"
            ],
            [
             0.5,
             "#f7f7f7"
            ],
            [
             0.6,
             "#e6f5d0"
            ],
            [
             0.7,
             "#b8e186"
            ],
            [
             0.8,
             "#7fbc41"
            ],
            [
             0.9,
             "#4d9221"
            ],
            [
             1,
             "#276419"
            ]
           ],
           "sequential": [
            [
             0,
             "#0d0887"
            ],
            [
             0.1111111111111111,
             "#46039f"
            ],
            [
             0.2222222222222222,
             "#7201a8"
            ],
            [
             0.3333333333333333,
             "#9c179e"
            ],
            [
             0.4444444444444444,
             "#bd3786"
            ],
            [
             0.5555555555555556,
             "#d8576b"
            ],
            [
             0.6666666666666666,
             "#ed7953"
            ],
            [
             0.7777777777777778,
             "#fb9f3a"
            ],
            [
             0.8888888888888888,
             "#fdca26"
            ],
            [
             1,
             "#f0f921"
            ]
           ],
           "sequentialminus": [
            [
             0,
             "#0d0887"
            ],
            [
             0.1111111111111111,
             "#46039f"
            ],
            [
             0.2222222222222222,
             "#7201a8"
            ],
            [
             0.3333333333333333,
             "#9c179e"
            ],
            [
             0.4444444444444444,
             "#bd3786"
            ],
            [
             0.5555555555555556,
             "#d8576b"
            ],
            [
             0.6666666666666666,
             "#ed7953"
            ],
            [
             0.7777777777777778,
             "#fb9f3a"
            ],
            [
             0.8888888888888888,
             "#fdca26"
            ],
            [
             1,
             "#f0f921"
            ]
           ]
          },
          "colorway": [
           "#636efa",
           "#EF553B",
           "#00cc96",
           "#ab63fa",
           "#FFA15A",
           "#19d3f3",
           "#FF6692",
           "#B6E880",
           "#FF97FF",
           "#FECB52"
          ],
          "font": {
           "color": "#2a3f5f"
          },
          "geo": {
           "bgcolor": "white",
           "lakecolor": "white",
           "landcolor": "#E5ECF6",
           "showlakes": true,
           "showland": true,
           "subunitcolor": "white"
          },
          "hoverlabel": {
           "align": "left"
          },
          "hovermode": "closest",
          "mapbox": {
           "style": "light"
          },
          "paper_bgcolor": "white",
          "plot_bgcolor": "#E5ECF6",
          "polar": {
           "angularaxis": {
            "gridcolor": "white",
            "linecolor": "white",
            "ticks": ""
           },
           "bgcolor": "#E5ECF6",
           "radialaxis": {
            "gridcolor": "white",
            "linecolor": "white",
            "ticks": ""
           }
          },
          "scene": {
           "xaxis": {
            "backgroundcolor": "#E5ECF6",
            "gridcolor": "white",
            "gridwidth": 2,
            "linecolor": "white",
            "showbackground": true,
            "ticks": "",
            "zerolinecolor": "white"
           },
           "yaxis": {
            "backgroundcolor": "#E5ECF6",
            "gridcolor": "white",
            "gridwidth": 2,
            "linecolor": "white",
            "showbackground": true,
            "ticks": "",
            "zerolinecolor": "white"
           },
           "zaxis": {
            "backgroundcolor": "#E5ECF6",
            "gridcolor": "white",
            "gridwidth": 2,
            "linecolor": "white",
            "showbackground": true,
            "ticks": "",
            "zerolinecolor": "white"
           }
          },
          "shapedefaults": {
           "line": {
            "color": "#2a3f5f"
           }
          },
          "ternary": {
           "aaxis": {
            "gridcolor": "white",
            "linecolor": "white",
            "ticks": ""
           },
           "baxis": {
            "gridcolor": "white",
            "linecolor": "white",
            "ticks": ""
           },
           "bgcolor": "#E5ECF6",
           "caxis": {
            "gridcolor": "white",
            "linecolor": "white",
            "ticks": ""
           }
          },
          "title": {
           "x": 0.05
          },
          "xaxis": {
           "automargin": true,
           "gridcolor": "white",
           "linecolor": "white",
           "ticks": "",
           "title": {
            "standoff": 15
           },
           "zerolinecolor": "white",
           "zerolinewidth": 2
          },
          "yaxis": {
           "automargin": true,
           "gridcolor": "white",
           "linecolor": "white",
           "ticks": "",
           "title": {
            "standoff": 15
           },
           "zerolinecolor": "white",
           "zerolinewidth": 2
          }
         }
        },
        "xaxis": {
         "title": {
          "text": "WL Depth (mm)"
         }
        },
        "yaxis": {
         "title": {
          "text": "Touchdown Distance"
         }
        }
       }
      }
     },
     "metadata": {},
     "output_type": "display_data"
    }
   ],
   "source": [
    "import plotly.graph_objects as go\n",
    "\n",
    "fig = go.Figure()\n",
    "fig.add_trace(go.Scatter(x=df[\"WL_Depth\"], y=df[\"impact_criterion\"], mode=\"markers\", name=\"Impact Criterion\", marker=dict(color=\"red\")))\n",
    "fig.update_layout(xaxis_title=\"WL Depth (mm)\", yaxis_title=\"Impact Criterion\")\n",
    "fig.show()\n",
    "\n",
    "fig = go.Figure()\n",
    "fig.add_trace(go.Scatter(x=df[\"WL_Depth\"], y=df[\"coupled_criterion\"], mode=\"markers\", name=\"Coupled Criterion\", marker=dict(color=\"blue\")))\n",
    "fig.update_layout(xaxis_title=\"WL Depth (mm)\", yaxis_title=\"Coupled Criterion\")\n",
    "fig.show()\n",
    "\n",
    "fig = go.Figure()\n",
    "fig.add_trace(go.Scatter(x=df[\"WL_Depth\"], y=df[\"sserr_result\"], mode=\"markers\", name=\"SSERR\", marker=dict(color=\"green\")))\n",
    "fig.update_layout(xaxis_title=\"WL Depth (mm)\", yaxis_title=\"SSERR\")\n",
    "fig.show()\n",
    "\n",
    "fig = go.Figure()\n",
    "fig.add_trace(go.Scatter(x=df[\"WL_Depth\"], y=df[\"touchdown_distance\"], mode=\"markers\", name=\"Touchdown Distance\", marker=dict(color=\"yellow\")))\n",
    "fig.update_layout(xaxis_title=\"WL Depth (mm)\", yaxis_title=\"Touchdown Distance\")\n",
    "fig.show()\n"
   ]
  },
  {
   "cell_type": "code",
   "execution_count": 9,
   "id": "6d3d2ca8",
   "metadata": {},
   "outputs": [
    {
     "data": {
      "image/png": "[encoded data removed]",
      "text/plain": [
       "<Figure size 640x480 with 1 Axes>"
      ]
     },
     "metadata": {},
     "output_type": "display_data"
    }
   ],
   "source": [
    "import matplotlib.pyplot as plt\n",
    "\n",
    "# Bin wl depths according to 10 mm intervals\n",
    "wl_depths = df[\"WL_Depth\"]\n",
    "max_wl_depth = max(wl_depths)\n",
    "min_wl_depth = min(wl_depths)\n",
    "\n",
    "# Create bins\n",
    "bin_width = 50\n",
    "bins = np.arange(min_wl_depth, max_wl_depth + bin_width, bin_width)\n",
    "\n",
    "# Use matplotlib's histogram which handles this automatically\n",
    "plt.hist(wl_depths, bins=bins, edgecolor='black', alpha=0.7)\n",
    "plt.xlabel(\"WL Depth (mm)\")\n",
    "plt.ylabel(\"Number of Pits\")\n",
    "plt.title(\"Number of Pits in Each WL Depth Bin\")\n",
    "plt.show()"
   ]
  }
 ],
 "metadata": {
  "kernelspec": {
   "display_name": "weac",
   "language": "python",
   "name": "python3"
  },
  "language_info": {
   "codemirror_mode": {
    "name": "ipython",
    "version": 3
   },
   "file_extension": ".py",
   "mimetype": "text/x-python",
   "name": "python",
   "nbconvert_exporter": "python",
   "pygments_lexer": "ipython3",
   "version": "3.10.18"
  }
 },
 "nbformat": 4,
 "nbformat_minor": 5
}
