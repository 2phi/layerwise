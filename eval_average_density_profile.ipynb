{
 "cells": [
  {
   "cell_type": "code",
   "execution_count": 6,
   "id": "76ed3801",
   "metadata": {},
   "outputs": [
    {
     "name": "stdout",
     "output_type": "stream",
     "text": [
      "The autoreload extension is already loaded. To reload it, use:\n",
      "  %reload_ext autoreload\n"
     ]
    }
   ],
   "source": [
    "# Auto reload modules\n",
    "%load_ext autoreload\n",
    "%autoreload all"
   ]
  },
  {
   "cell_type": "code",
   "execution_count": 7,
   "id": "6bc8a38c",
   "metadata": {},
   "outputs": [],
   "source": [
    "import os\n",
    "import sys\n",
    "from typing import List\n",
    "import numpy as np\n",
    "import pandas as pd\n",
    "import copy\n",
    "from tqdm.notebook import tqdm\n",
    "\n",
    "sys.path.append(\"/home/pillowbeast/Documents/weac\")\n",
    "\n",
    "from weac.analysis import CriteriaEvaluator, CoupledCriterionResult, SSERRResult\n",
    "from weac.core.system_model import SystemModel\n",
    "from weac.components import ModelInput, Segment, ScenarioConfig, WeakLayer, CriteriaConfig, Layer\n",
    "from weac.utils.snowpilot_parser import SnowPilotParser"
   ]
  },
  {
   "cell_type": "code",
   "execution_count": 8,
   "id": "2d3500f3",
   "metadata": {},
   "outputs": [],
   "source": [
    "data_dir = \"data/raw/snowpilot\""
   ]
  },
  {
   "cell_type": "code",
   "execution_count": 9,
   "id": "b7274bcc",
   "metadata": {},
   "outputs": [
    {
     "name": "stdout",
     "output_type": "stream",
     "text": [
      "\n",
      "Found 9665 files without avalanche\n"
     ]
    }
   ],
   "source": [
    "number_of_files = 10000\n",
    "\n",
    "# Process multiple files\n",
    "file_paths = []\n",
    "for directory in os.listdir(data_dir):\n",
    "    for file in os.listdir(f\"{data_dir}/{directory}\"):\n",
    "        if file.endswith(\".xml\"):\n",
    "            file_paths.append(f\"{data_dir}/{directory}/{file}\")\n",
    "\n",
    "paths: List[str] = []\n",
    "parsers: List[SnowPilotParser] = []\n",
    "\n",
    "for file_path in file_paths[:number_of_files]:\n",
    "    snowpilot_parser = SnowPilotParser(file_path)\n",
    "    if not snowpilot_parser.snowpit.core_info.location.pit_near_avalanche:\n",
    "        paths.append(file_path)\n",
    "        parsers.append(snowpilot_parser)\n",
    "\n",
    "print(f\"\\nFound {len(paths)} files without avalanche\")"
   ]
  },
  {
   "cell_type": "code",
   "execution_count": 10,
   "id": "60d55eaf",
   "metadata": {},
   "outputs": [
    {
     "name": "stdout",
     "output_type": "stream",
     "text": [
      "Error extracting layers for None: Layer is missing density information; density profile, hand hardness and grain type are all missing. Excluding SnowPit from calculations.\n",
      "Error extracting layers for None: Layer is missing density information; density profile, hand hardness and grain type are all missing. Excluding SnowPit from calculations.\n",
      "Error extracting layers for None: Layer is missing density information; density profile, hand hardness and grain type are all missing. Excluding SnowPit from calculations.\n",
      "Error extracting layers for None: Layer is missing density information; density profile, hand hardness and grain type are all missing. Excluding SnowPit from calculations.\n",
      "Error extracting layers for None: Layer is missing density information; density profile, hand hardness and grain type are all missing. Excluding SnowPit from calculations.\n",
      "Error extracting layers for None: Layer is missing density information; density profile, hand hardness and grain type are all missing. Excluding SnowPit from calculations.\n",
      "Error extracting layers for None: Layer is missing density information; density profile, hand hardness and grain type are all missing. Excluding SnowPit from calculations.\n",
      "Error extracting layers for None: Layer is missing density information; density profile, hand hardness and grain type are all missing. Excluding SnowPit from calculations.\n",
      "Error extracting layers for None: Layer is missing density information; density profile, hand hardness and grain type are all missing. Excluding SnowPit from calculations.\n",
      "Error extracting layers for None: Layer is missing density information; density profile, hand hardness and grain type are all missing. Excluding SnowPit from calculations.\n",
      "Error extracting layers for None: Layer is missing density information; density profile, hand hardness and grain type are all missing. Excluding SnowPit from calculations.\n",
      "Error extracting layers for None: Layer is missing density information; density profile, hand hardness and grain type are all missing. Excluding SnowPit from calculations.\n",
      "Error extracting layers for None: Layer is missing density information; density profile, hand hardness and grain type are all missing. Excluding SnowPit from calculations.\n",
      "Error extracting layers for None: Layer is missing density information; density profile, hand hardness and grain type are all missing. Excluding SnowPit from calculations.\n",
      "Error extracting layers for None: Layer is missing density information; density profile, hand hardness and grain type are all missing. Excluding SnowPit from calculations.\n",
      "Error extracting layers for None: Layer is missing density information; density profile, hand hardness and grain type are all missing. Excluding SnowPit from calculations.\n",
      "Error extracting layers for None: Layer is missing density information; density profile, hand hardness and grain type are all missing. Excluding SnowPit from calculations.\n",
      "Error extracting layers for None: Layer is missing density information; density profile, hand hardness and grain type are all missing. Excluding SnowPit from calculations.\n",
      "Error extracting layers for None: Layer is missing density information; density profile, hand hardness and grain type are all missing. Excluding SnowPit from calculations.\n",
      "Error extracting layers for None: Layer is missing density information; density profile, hand hardness and grain type are all missing. Excluding SnowPit from calculations.\n",
      "Error extracting layers for None: Layer is missing density information; density profile, hand hardness and grain type are all missing. Excluding SnowPit from calculations.\n",
      "Error extracting layers for None: Layer is missing density information; density profile, hand hardness and grain type are all missing. Excluding SnowPit from calculations.\n",
      "Error extracting layers for None: Layer is missing density information; density profile, hand hardness and grain type are all missing. Excluding SnowPit from calculations.\n",
      "Error extracting layers for None: Layer is missing density information; density profile, hand hardness and grain type are all missing. Excluding SnowPit from calculations.\n",
      "Error extracting layers for None: Layer is missing density information; density profile, hand hardness and grain type are all missing. Excluding SnowPit from calculations.\n",
      "Error extracting layers for None: Layer is missing density information; density profile, hand hardness and grain type are all missing. Excluding SnowPit from calculations.\n",
      "Error extracting layers for None: Layer is missing density information; density profile, hand hardness and grain type are all missing. Excluding SnowPit from calculations.\n",
      "Error extracting layers for None: Layer is missing density information; density profile, hand hardness and grain type are all missing. Excluding SnowPit from calculations.\n",
      "Error extracting layers for None: Layer is missing density information; density profile, hand hardness and grain type are all missing. Excluding SnowPit from calculations.\n",
      "Error extracting layers for None: Layer is missing density information; density profile, hand hardness and grain type are all missing. Excluding SnowPit from calculations.\n",
      "Error extracting layers for None: Layer is missing density information; density profile, hand hardness and grain type are all missing. Excluding SnowPit from calculations.\n",
      "Error extracting layers for None: Layer is missing density information; density profile, hand hardness and grain type are all missing. Excluding SnowPit from calculations.\n",
      "Error extracting layers for None: Layer is missing density information; density profile, hand hardness and grain type are all missing. Excluding SnowPit from calculations.\n",
      "Error extracting layers for None: Layer is missing density information; density profile, hand hardness and grain type are all missing. Excluding SnowPit from calculations.\n",
      "Error extracting layers for None: Layer is missing density information; density profile, hand hardness and grain type are all missing. Excluding SnowPit from calculations.\n",
      "Error extracting layers for None: Layer is missing density information; density profile, hand hardness and grain type are all missing. Excluding SnowPit from calculations.\n",
      "Error extracting layers for None: Layer is missing density information; density profile, hand hardness and grain type are all missing. Excluding SnowPit from calculations.\n",
      "Error extracting layers for None: Layer is missing density information; density profile, hand hardness and grain type are all missing. Excluding SnowPit from calculations.\n",
      "Error extracting layers for None: Layer is missing density information; density profile, hand hardness and grain type are all missing. Excluding SnowPit from calculations.\n",
      "Error extracting layers for None: Layer is missing density information; density profile, hand hardness and grain type are all missing. Excluding SnowPit from calculations.\n",
      "Error extracting layers for None: Layer is missing density information; density profile, hand hardness and grain type are all missing. Excluding SnowPit from calculations.\n",
      "Error extracting layers for None: Layer is missing density information; density profile, hand hardness and grain type are all missing. Excluding SnowPit from calculations.\n",
      "Error extracting layers for None: Layer is missing density information; density profile, hand hardness and grain type are all missing. Excluding SnowPit from calculations.\n",
      "Error extracting layers for None: Layer is missing density information; density profile, hand hardness and grain type are all missing. Excluding SnowPit from calculations.\n",
      "Error extracting layers for None: Layer is missing density information; density profile, hand hardness and grain type are all missing. Excluding SnowPit from calculations.\n",
      "Error extracting layers for None: Layer is missing density information; density profile, hand hardness and grain type are all missing. Excluding SnowPit from calculations.\n",
      "Error extracting layers for None: Layer is missing density information; density profile, hand hardness and grain type are all missing. Excluding SnowPit from calculations.\n",
      "Error extracting layers for None: Layer is missing density information; density profile, hand hardness and grain type are all missing. Excluding SnowPit from calculations.\n",
      "Error extracting layers for None: Layer is missing density information; density profile, hand hardness and grain type are all missing. Excluding SnowPit from calculations.\n",
      "Error extracting layers for None: Layer is missing density information; density profile, hand hardness and grain type are all missing. Excluding SnowPit from calculations.\n",
      "Error extracting layers for None: Layer is missing density information; density profile, hand hardness and grain type are all missing. Excluding SnowPit from calculations.\n",
      "Error extracting layers for None: 'MM'\n",
      "Error extracting layers for None: Layer is missing density information; density profile, hand hardness and grain type are all missing. Excluding SnowPit from calculations.\n",
      "Error extracting layers for None: Layer is missing density information; density profile, hand hardness and grain type are all missing. Excluding SnowPit from calculations.\n",
      "Error extracting layers for None: Layer is missing density information; density profile, hand hardness and grain type are all missing. Excluding SnowPit from calculations.\n",
      "Error extracting layers for None: No layers found for snowpit. Excluding SnowPit from calculations.\n",
      "Error extracting layers for None: Layer is missing density information; density profile, hand hardness and grain type are all missing. Excluding SnowPit from calculations.\n",
      "Error extracting layers for None: Layer is missing density information; density profile, hand hardness and grain type are all missing. Excluding SnowPit from calculations.\n",
      "Error extracting layers for None: Layer is missing density information; density profile, hand hardness and grain type are all missing. Excluding SnowPit from calculations.\n",
      "Error extracting layers for None: Layer is missing density information; density profile, hand hardness and grain type are all missing. Excluding SnowPit from calculations.\n",
      "Error extracting layers for None: Layer is missing density information; density profile, hand hardness and grain type are all missing. Excluding SnowPit from calculations.\n",
      "Error extracting layers for None: Layer is missing density information; density profile, hand hardness and grain type are all missing. Excluding SnowPit from calculations.\n",
      "Error extracting layers for None: Layer is missing density information; density profile, hand hardness and grain type are all missing. Excluding SnowPit from calculations.\n",
      "Error extracting layers for None: Layer is missing density information; density profile, hand hardness and grain type are all missing. Excluding SnowPit from calculations.\n",
      "Error extracting layers for None: No layers found for snowpit. Excluding SnowPit from calculations.\n",
      "Error extracting layers for None: Layer is missing density information; density profile, hand hardness and grain type are all missing. Excluding SnowPit from calculations.\n",
      "Error extracting layers for None: Layer is missing density information; density profile, hand hardness and grain type are all missing. Excluding SnowPit from calculations.\n",
      "Error extracting layers for None: Layer is missing density information; density profile, hand hardness and grain type are all missing. Excluding SnowPit from calculations.\n",
      "Error extracting layers for None: Layer is missing density information; density profile, hand hardness and grain type are all missing. Excluding SnowPit from calculations.\n",
      "Error extracting layers for None: Layer is missing density information; density profile, hand hardness and grain type are all missing. Excluding SnowPit from calculations.\n",
      "Error extracting layers for None: Layer is missing density information; density profile, hand hardness and grain type are all missing. Excluding SnowPit from calculations.\n",
      "Error extracting layers for None: Layer is missing density information; density profile, hand hardness and grain type are all missing. Excluding SnowPit from calculations.\n",
      "Error extracting layers for None: Layer is missing density information; density profile, hand hardness and grain type are all missing. Excluding SnowPit from calculations.\n",
      "Error extracting layers for None: Layer is missing density information; density profile, hand hardness and grain type are all missing. Excluding SnowPit from calculations.\n",
      "Error extracting layers for None: Layer is missing density information; density profile, hand hardness and grain type are all missing. Excluding SnowPit from calculations.\n",
      "Error extracting layers for None: Layer is missing density information; density profile, hand hardness and grain type are all missing. Excluding SnowPit from calculations.\n",
      "Error extracting layers for None: Layer is missing density information; density profile, hand hardness and grain type are all missing. Excluding SnowPit from calculations.\n",
      "Error extracting layers for None: Layer is missing density information; density profile, hand hardness and grain type are all missing. Excluding SnowPit from calculations.\n",
      "Error extracting layers for None: Layer is missing density information; density profile, hand hardness and grain type are all missing. Excluding SnowPit from calculations.\n",
      "Error extracting layers for None: Layer is missing density information; density profile, hand hardness and grain type are all missing. Excluding SnowPit from calculations.\n",
      "Error extracting layers for None: Layer is missing density information; density profile, hand hardness and grain type are all missing. Excluding SnowPit from calculations.\n",
      "Error extracting layers for None: Layer is missing density information; density profile, hand hardness and grain type are all missing. Excluding SnowPit from calculations.\n",
      "Error extracting layers for None: Layer is missing density information; density profile, hand hardness and grain type are all missing. Excluding SnowPit from calculations.\n",
      "Error extracting layers for None: Layer is missing density information; density profile, hand hardness and grain type are all missing. Excluding SnowPit from calculations.\n",
      "Error extracting layers for None: Layer is missing density information; density profile, hand hardness and grain type are all missing. Excluding SnowPit from calculations.\n",
      "Error extracting layers for None: Layer is missing density information; density profile, hand hardness and grain type are all missing. Excluding SnowPit from calculations.\n",
      "Error extracting layers for None: Layer is missing density information; density profile, hand hardness and grain type are all missing. Excluding SnowPit from calculations.\n",
      "Error extracting layers for None: Layer is missing density information; density profile, hand hardness and grain type are all missing. Excluding SnowPit from calculations.\n",
      "Error extracting layers for None: Layer is missing density information; density profile, hand hardness and grain type are all missing. Excluding SnowPit from calculations.\n",
      "Error extracting layers for None: Layer is missing density information; density profile, hand hardness and grain type are all missing. Excluding SnowPit from calculations.\n",
      "Error extracting layers for None: Layer is missing density information; density profile, hand hardness and grain type are all missing. Excluding SnowPit from calculations.\n",
      "Error extracting layers for None: Layer is missing density information; density profile, hand hardness and grain type are all missing. Excluding SnowPit from calculations.\n",
      "Error extracting layers for None: Layer is missing density information; density profile, hand hardness and grain type are all missing. Excluding SnowPit from calculations.\n",
      "Error extracting layers for None: Layer is missing density information; density profile, hand hardness and grain type are all missing. Excluding SnowPit from calculations.\n",
      "Error extracting layers for None: Layer is missing density information; density profile, hand hardness and grain type are all missing. Excluding SnowPit from calculations.\n",
      "Error extracting layers for None: Layer is missing density information; density profile, hand hardness and grain type are all missing. Excluding SnowPit from calculations.\n",
      "Error extracting layers for None: Layer is missing density information; density profile, hand hardness and grain type are all missing. Excluding SnowPit from calculations.\n",
      "Error extracting layers for None: Layer is missing density information; density profile, hand hardness and grain type are all missing. Excluding SnowPit from calculations.\n",
      "Error extracting layers for None: Layer is missing density information; density profile, hand hardness and grain type are all missing. Excluding SnowPit from calculations.\n",
      "Error extracting layers for None: Layer is missing density information; density profile, hand hardness and grain type are all missing. Excluding SnowPit from calculations.\n",
      "Error extracting layers for None: Layer is missing density information; density profile, hand hardness and grain type are all missing. Excluding SnowPit from calculations.\n",
      "Error extracting layers for None: Layer is missing density information; density profile, hand hardness and grain type are all missing. Excluding SnowPit from calculations.\n",
      "Error extracting layers for None: Layer is missing density information; density profile, hand hardness and grain type are all missing. Excluding SnowPit from calculations.\n",
      "Error extracting layers for None: Layer is missing density information; density profile, hand hardness and grain type are all missing. Excluding SnowPit from calculations.\n",
      "Error extracting layers for None: Layer is missing density information; density profile, hand hardness and grain type are all missing. Excluding SnowPit from calculations.\n",
      "Error extracting layers for None: Layer is missing density information; density profile, hand hardness and grain type are all missing. Excluding SnowPit from calculations.\n",
      "Error extracting layers for None: Layer is missing density information; density profile, hand hardness and grain type are all missing. Excluding SnowPit from calculations.\n",
      "Error extracting layers for None: Layer is missing density information; density profile, hand hardness and grain type are all missing. Excluding SnowPit from calculations.\n",
      "Error extracting layers for None: Layer is missing density information; density profile, hand hardness and grain type are all missing. Excluding SnowPit from calculations.\n",
      "Error extracting layers for None: Layer is missing density information; density profile, hand hardness and grain type are all missing. Excluding SnowPit from calculations.\n",
      "Error extracting layers for None: Layer is missing density information; density profile, hand hardness and grain type are all missing. Excluding SnowPit from calculations.\n",
      "Error extracting layers for None: Layer is missing density information; density profile, hand hardness and grain type are all missing. Excluding SnowPit from calculations.\n",
      "Error extracting layers for None: Layer is missing density information; density profile, hand hardness and grain type are all missing. Excluding SnowPit from calculations.\n",
      "Error extracting layers for None: Layer is missing density information; density profile, hand hardness and grain type are all missing. Excluding SnowPit from calculations.\n",
      "Error extracting layers for None: Layer is missing density information; density profile, hand hardness and grain type are all missing. Excluding SnowPit from calculations.\n",
      "Error extracting layers for None: No layers found for snowpit. Excluding SnowPit from calculations.\n",
      "Error extracting layers for None: Layer is missing density information; density profile, hand hardness and grain type are all missing. Excluding SnowPit from calculations.\n",
      "Error extracting layers for None: Layer is missing density information; density profile, hand hardness and grain type are all missing. Excluding SnowPit from calculations.\n",
      "Error extracting layers for None: Layer is missing density information; density profile, hand hardness and grain type are all missing. Excluding SnowPit from calculations.\n",
      "Error extracting layers for None: Layer is missing density information; density profile, hand hardness and grain type are all missing. Excluding SnowPit from calculations.\n",
      "Error extracting layers for None: Layer is missing density information; density profile, hand hardness and grain type are all missing. Excluding SnowPit from calculations.\n",
      "Error extracting layers for None: No layers found for snowpit. Excluding SnowPit from calculations.\n",
      "Error extracting layers for None: Layer is missing density information; density profile, hand hardness and grain type are all missing. Excluding SnowPit from calculations.\n",
      "Error extracting layers for None: Layer is missing density information; density profile, hand hardness and grain type are all missing. Excluding SnowPit from calculations.\n",
      "Error extracting layers for None: Layer is missing density information; density profile, hand hardness and grain type are all missing. Excluding SnowPit from calculations.\n",
      "Error extracting layers for None: Layer is missing density information; density profile, hand hardness and grain type are all missing. Excluding SnowPit from calculations.\n",
      "Error extracting layers for None: Layer is missing density information; density profile, hand hardness and grain type are all missing. Excluding SnowPit from calculations.\n",
      "Error extracting layers for None: Layer is missing density information; density profile, hand hardness and grain type are all missing. Excluding SnowPit from calculations.\n",
      "Error extracting layers for None: Layer is missing density information; density profile, hand hardness and grain type are all missing. Excluding SnowPit from calculations.\n",
      "Error extracting layers for None: Layer is missing density information; density profile, hand hardness and grain type are all missing. Excluding SnowPit from calculations.\n",
      "Error extracting layers for None: Layer is missing density information; density profile, hand hardness and grain type are all missing. Excluding SnowPit from calculations.\n",
      "Error extracting layers for None: Layer is missing density information; density profile, hand hardness and grain type are all missing. Excluding SnowPit from calculations.\n",
      "Error extracting layers for None: Layer is missing density information; density profile, hand hardness and grain type are all missing. Excluding SnowPit from calculations.\n",
      "Error extracting layers for None: Layer is missing density information; density profile, hand hardness and grain type are all missing. Excluding SnowPit from calculations.\n",
      "Error extracting layers for None: Layer is missing density information; density profile, hand hardness and grain type are all missing. Excluding SnowPit from calculations.\n",
      "Error extracting layers for None: Layer is missing density information; density profile, hand hardness and grain type are all missing. Excluding SnowPit from calculations.\n",
      "Error extracting layers for None: Layer is missing density information; density profile, hand hardness and grain type are all missing. Excluding SnowPit from calculations.\n",
      "Error extracting layers for None: Layer is missing density information; density profile, hand hardness and grain type are all missing. Excluding SnowPit from calculations.\n",
      "Error extracting layers for None: Layer is missing density information; density profile, hand hardness and grain type are all missing. Excluding SnowPit from calculations.\n",
      "Error extracting layers for None: Layer is missing density information; density profile, hand hardness and grain type are all missing. Excluding SnowPit from calculations.\n",
      "Error extracting layers for None: No layers found for snowpit. Excluding SnowPit from calculations.\n",
      "Error extracting layers for None: Layer is missing density information; density profile, hand hardness and grain type are all missing. Excluding SnowPit from calculations.\n",
      "Error extracting layers for None: Layer is missing density information; density profile, hand hardness and grain type are all missing. Excluding SnowPit from calculations.\n",
      "Error extracting layers for None: Layer is missing density information; density profile, hand hardness and grain type are all missing. Excluding SnowPit from calculations.\n",
      "Error extracting layers for None: Layer is missing density information; density profile, hand hardness and grain type are all missing. Excluding SnowPit from calculations.\n",
      "Error extracting layers for None: Layer is missing density information; density profile, hand hardness and grain type are all missing. Excluding SnowPit from calculations.\n",
      "Error extracting layers for None: Layer is missing density information; density profile, hand hardness and grain type are all missing. Excluding SnowPit from calculations.\n",
      "Error extracting layers for None: Layer is missing density information; density profile, hand hardness and grain type are all missing. Excluding SnowPit from calculations.\n",
      "Error extracting layers for None: Layer is missing density information; density profile, hand hardness and grain type are all missing. Excluding SnowPit from calculations.\n",
      "Error extracting layers for None: Layer is missing density information; density profile, hand hardness and grain type are all missing. Excluding SnowPit from calculations.\n",
      "Error extracting layers for None: Layer is missing density information; density profile, hand hardness and grain type are all missing. Excluding SnowPit from calculations.\n",
      "Error extracting layers for None: Layer is missing density information; density profile, hand hardness and grain type are all missing. Excluding SnowPit from calculations.\n",
      "Error extracting layers for None: Layer is missing density information; density profile, hand hardness and grain type are all missing. Excluding SnowPit from calculations.\n",
      "Error extracting layers for None: Layer is missing density information; density profile, hand hardness and grain type are all missing. Excluding SnowPit from calculations.\n",
      "Error extracting layers for None: Layer is missing density information; density profile, hand hardness and grain type are all missing. Excluding SnowPit from calculations.\n",
      "Error extracting layers for None: Layer is missing density information; density profile, hand hardness and grain type are all missing. Excluding SnowPit from calculations.\n",
      "Error extracting layers for None: Layer is missing density information; density profile, hand hardness and grain type are all missing. Excluding SnowPit from calculations.\n",
      "Error extracting layers for None: Layer is missing density information; density profile, hand hardness and grain type are all missing. Excluding SnowPit from calculations.\n",
      "Error extracting layers for None: Layer is missing density information; density profile, hand hardness and grain type are all missing. Excluding SnowPit from calculations.\n",
      "Error extracting layers for None: Layer is missing density information; density profile, hand hardness and grain type are all missing. Excluding SnowPit from calculations.\n",
      "Error extracting layers for None: Layer is missing density information; density profile, hand hardness and grain type are all missing. Excluding SnowPit from calculations.\n",
      "Error extracting layers for None: Layer is missing density information; density profile, hand hardness and grain type are all missing. Excluding SnowPit from calculations.\n",
      "Error extracting layers for None: Layer is missing density information; density profile, hand hardness and grain type are all missing. Excluding SnowPit from calculations.\n",
      "Error extracting layers for None: Layer is missing density information; density profile, hand hardness and grain type are all missing. Excluding SnowPit from calculations.\n",
      "Error extracting layers for None: Layer is missing density information; density profile, hand hardness and grain type are all missing. Excluding SnowPit from calculations.\n",
      "Error extracting layers for None: No layers found for snowpit. Excluding SnowPit from calculations.\n",
      "Error extracting layers for None: Layer is missing density information; density profile, hand hardness and grain type are all missing. Excluding SnowPit from calculations.\n",
      "Error extracting layers for None: Layer is missing density information; density profile, hand hardness and grain type are all missing. Excluding SnowPit from calculations.\n",
      "Error extracting layers for None: Layer is missing density information; density profile, hand hardness and grain type are all missing. Excluding SnowPit from calculations.\n",
      "Error extracting layers for None: No layers found for snowpit. Excluding SnowPit from calculations.\n",
      "Error extracting layers for None: Layer is missing density information; density profile, hand hardness and grain type are all missing. Excluding SnowPit from calculations.\n",
      "Error extracting layers for None: Layer is missing density information; density profile, hand hardness and grain type are all missing. Excluding SnowPit from calculations.\n",
      "Error extracting layers for None: Layer is missing density information; density profile, hand hardness and grain type are all missing. Excluding SnowPit from calculations.\n",
      "Error extracting layers for None: Layer is missing density information; density profile, hand hardness and grain type are all missing. Excluding SnowPit from calculations.\n",
      "Error extracting layers for None: Layer is missing density information; density profile, hand hardness and grain type are all missing. Excluding SnowPit from calculations.\n",
      "Error extracting layers for None: Layer is missing density information; density profile, hand hardness and grain type are all missing. Excluding SnowPit from calculations.\n",
      "Error extracting layers for None: Layer is missing density information; density profile, hand hardness and grain type are all missing. Excluding SnowPit from calculations.\n",
      "Error count: 177\n"
     ]
    }
   ],
   "source": [
    "import numpy as np\n",
    "\n",
    "spacing = 10\n",
    "depth_profile = np.arange(0, 4000, spacing)\n",
    "densities = np.zeros((len(parsers), len(depth_profile)))\n",
    "\n",
    "error_count = 0\n",
    "for i, parser in enumerate(parsers):\n",
    "    try:\n",
    "        layers, _ = parser.extract_layers()\n",
    "    except Exception as e:\n",
    "        error_count += 1\n",
    "        densities[i, :] = np.nan\n",
    "        print(f\"Error extracting layers for {parser.snowpit.core_info.location.pit_near_avalanche_location}: {e}\")\n",
    "        continue\n",
    "    heights = np.cumsum([layer.h for layer in layers])\n",
    "    heights = np.concatenate([[0], heights])\n",
    "    heights_idx = np.round(heights/spacing).astype(int)\n",
    "    for j, height in enumerate(heights_idx):\n",
    "        if j > 0:\n",
    "            densities[i, int(heights_idx[j-1]):int(heights_idx[j])] = layers[j-1].rho\n",
    "\n",
    "print(f\"Error count: {error_count}\")"
   ]
  },
  {
   "cell_type": "code",
   "execution_count": 11,
   "id": "6ede241f",
   "metadata": {},
   "outputs": [
    {
     "name": "stdout",
     "output_type": "stream",
     "text": [
      "[137.06439094 136.66971308 136.57830987 137.44609859 138.15601684\n",
      " 140.72867205 141.43036535 142.4325297  144.46279799 145.66975004\n",
      " 150.76430275 151.9769512  154.70593219 156.67307646 158.40422919\n",
      " 163.90928949 165.2565934  167.15659484 169.27333552 170.63456235\n",
      " 176.25023037 177.29561765 178.93349723 180.85882402 182.01256574\n",
      " 185.91124411 187.10287662 188.49625177 189.96924118 191.38841371\n",
      " 196.52972956 197.32057174 197.94207446 199.65164811 200.97547909\n",
      " 204.36606591 205.11618762 205.67487414 206.94071207 207.79497812\n",
      " 210.75889087 211.16812425 211.97711477 212.87148478 213.8426599\n",
      " 215.79357754 216.38364188 216.9549473  217.7599194  218.25274945\n",
      " 220.6783367  220.96027852 221.76017622 222.11597563 223.00619129\n",
      " 224.97543904 225.59273743 226.05453106 227.14395661 227.55742361\n",
      " 229.10922746 229.46513011 230.17193687 230.77376283 230.88327701\n",
      " 232.34128049 232.52322612 232.9328204  232.95709883 233.26870489\n",
      " 234.18202629 234.15657456 234.61884737 234.70984051 234.74875072\n",
      " 236.42730541 236.68692721 236.64586013 237.26040341 237.35009634\n",
      " 238.23343757 238.27607805 238.65976267 238.98859565 239.02299256\n",
      " 240.22521676 240.37244661 240.89967209 241.2460674  241.05052101\n",
      " 242.21219174 242.37814794 242.39423971 242.49731049 242.5727329\n",
      " 243.21223715 243.2500871  243.43723426 243.86148327 243.9639665\n",
      " 243.25439376 243.56528132 243.53658964 243.61520709 243.75758322\n",
      " 244.86934817 245.34421299 245.58975355 245.66532653 245.80789908\n",
      " 246.20192427 246.58389373 246.65051156 246.71910548 246.96449387\n",
      " 247.36916927 247.7232624  247.74843467 247.37716293 247.49723548\n",
      " 247.82389663 247.68535824 247.9234455  248.00179238 248.12092955\n",
      " 249.27077305 249.12720108 249.46192471 249.74716092 249.9439695\n",
      " 250.17971904 250.11959396 250.11773624 250.02939401 249.74003682\n",
      " 249.80067322 249.99464719 249.81333112 250.51734117 251.05873503\n",
      " 251.30644471 251.0831126  251.43088757 251.62603977 251.79861918\n",
      " 252.5206329  252.61633945 251.22204367 252.01455423 251.57596844\n",
      " 252.29228777 252.99555629 252.83528983 252.45525782 253.22844853\n",
      " 253.59375726 253.8618777  253.99267213 255.17487521 255.27084548\n",
      " 254.91552434 255.00616845 255.33508605 255.8005615  255.12985321\n",
      " 256.25076133 256.8095896  256.60568616 257.32345204 257.29189565\n",
      " 259.72178587 260.16524106 259.7476403  260.29407068 260.47887999\n",
      " 261.65900769 261.676327   261.35336595 261.57468533 261.54933992\n",
      " 264.48220439 265.3334887  265.81270261 268.1861159  269.2685047\n",
      " 270.96349909 271.07575946 271.18305859 271.43518356 271.66303472\n",
      " 273.44889656 273.52684726 272.66959757 274.37644194 274.08150636\n",
      " 273.00102363 273.15692983 274.10652445 273.94835964 272.93383321\n",
      " 271.00656558 272.73073232 272.56256477 273.18342342 273.04056697\n",
      " 271.14563834 271.97149681 271.18127622 270.99550758 272.83694413\n",
      " 275.85488818 276.02902511 275.82316227 275.58028868 275.82679655\n",
      " 276.45954555 277.81973762 277.54531521 278.06474054 279.9060004\n",
      " 282.8726487  282.90233128 282.79408034 282.87964418 282.87964418\n",
      " 286.43290968 286.63825116 286.98160117 286.42513843 286.91599972\n",
      " 288.74814625 288.85983852 288.5466291  287.81235181 287.79985725\n",
      " 290.94024849 291.40561277 291.91752737 286.87705575 286.72479548\n",
      " 286.61497999 286.95659785 287.58746621 287.58746621 287.29719994\n",
      " 285.21545368 286.11135935 286.89985559 288.23811207 288.48305949\n",
      " 291.69590422 292.27604132 292.95416631 293.25732851 293.65690087\n",
      " 295.83906807 295.06000617 295.06000617 294.20686909 294.20686909\n",
      " 295.4225436  294.39845758 293.3769522  293.3769522  293.56691907\n",
      " 293.96890666 294.8744232  294.8744232  293.16414004 293.39497337\n",
      " 299.37930351 299.05996977 299.22941338 299.22941338 299.22941338\n",
      " 304.1492701  305.81568801 304.89046413 305.08198631 304.65063225\n",
      " 305.11671478 305.11671478 305.11671478 305.5482473  305.5482473\n",
      " 305.80983265 306.30879817 306.30879817 306.30879817 303.87006682\n",
      " 302.68716137 302.68716137 302.68716137 301.23270517 302.87826073\n",
      " 306.59306038 306.59306038 306.59306038 304.52751598 304.52751598\n",
      " 307.6905585  307.6905585  299.5169974  300.61648458 303.17316088\n",
      " 304.71286038 304.71286038 304.71286038 308.30143181 308.30143181\n",
      " 309.21094104 309.21094104 310.25000354 310.25000354 310.25000354\n",
      " 307.29806817 306.43733711 302.75067045 302.47896943 302.47896943\n",
      " 308.95917746 311.80599564 311.80599564 312.73723353 307.35009067\n",
      " 304.7175952  304.7175952  304.7175952  296.93617557 296.93617557\n",
      " 296.30755324 296.30755324 290.78807955 290.78807955 294.20544797\n",
      " 289.49463953 289.49463953 289.41314773 291.81726538 291.81726538\n",
      " 294.09373597 294.09373597 294.09373597 294.09373597 294.09373597\n",
      " 295.86090076 295.86090076 303.52239368 303.52239368 303.52239368\n",
      " 313.78759195 310.38762966 310.38762966 310.38762966 310.38762966\n",
      " 310.38762966 310.38762966 310.38762966 308.07462966 307.72958851\n",
      " 312.08703707 312.08703707 312.08703707 312.08703707 306.97828707\n",
      " 312.47828707 312.47828707 312.47828707 312.47828707 312.47828707\n",
      " 312.47828707 312.47828707 312.47828707 312.47828707 312.47828707\n",
      " 312.47828707 312.47828707 312.47828707 312.47828707 312.47828707\n",
      " 310.66875    321.47857143 321.47857143 318.72539944 318.72539944\n",
      " 320.47129935 320.47129935 320.47129935 320.47129935 320.47129935\n",
      " 328.99444903 328.99444903 328.99444903 328.99444903 328.99444903\n",
      " 328.99444903 328.99444903 328.99444903 328.99444903 328.99444903]\n"
     ]
    }
   ],
   "source": [
    "import numpy as np\n",
    "\n",
    "# Calculate the average density at each depth\n",
    "densities = np.where(densities == 0, np.nan, densities)\n",
    "# Calculate the average density at each depth\n",
    "average_density = np.nanmean(densities, axis=0)\n",
    "print(average_density)\n",
    "\n"
   ]
  },
  {
   "cell_type": "code",
   "execution_count": 12,
   "id": "95b1e1d2",
   "metadata": {},
   "outputs": [],
   "source": [
    "# Setup standard values\n",
    "phi = 0.0\n",
    "scenario_config = ScenarioConfig(system_type=\"skier\", phi=phi)\n",
    "weaklayer = WeakLayer(rho=125, h=20, E=1.0, sigma_c=6.16, tau_c=5.09)\n",
    "segments = [\n",
    "    Segment(length=10000, has_foundation=True, m=0.0),\n",
    "    Segment(\n",
    "        length=10000,\n",
    "        has_foundation=True,\n",
    "        m=0.0,\n",
    "    ),\n",
    "]\n",
    "criteria_config = CriteriaConfig()\n",
    "criteria_evaluator = CriteriaEvaluator(criteria_config)"
   ]
  },
  {
   "cell_type": "code",
   "execution_count": 13,
   "id": "884eaeb3",
   "metadata": {},
   "outputs": [],
   "source": [
    "def eval_weac_over_layers(layers: List[Layer], scenario_config: ScenarioConfig, segments: list[Segment], weaklayer: WeakLayer, spacing=100):\n",
    "    data_rows = []\n",
    "    heights = np.cumsum([layer.h for layer in layers])\n",
    "    # space evenly and append the last height\n",
    "    wl_depths = np.arange(spacing, heights[-1], spacing).tolist()\n",
    "    wl_depths.append(heights[-1])\n",
    "    \n",
    "    layers_copy = copy.deepcopy(layers)\n",
    "    for i, wl_depth in tqdm(enumerate(wl_depths), total=len(wl_depths), desc=\"Processing weak layers\", leave=False):\n",
    "        # only keep layers above the spacing\n",
    "        mask = heights <= wl_depth\n",
    "        new_layers = [layer for layer, keep in zip(layers_copy, mask) if keep]\n",
    "        # Add truncated layer if needed\n",
    "        depth = np.sum([layer.h for layer in new_layers]) if new_layers else 0.0\n",
    "        if depth < wl_depth:\n",
    "            additional_layer = copy.deepcopy(layers_copy[len(new_layers) if new_layers else 0])\n",
    "            additional_layer.h = wl_depth - depth\n",
    "            new_layers.append(additional_layer)\n",
    "        \n",
    "        model_input = ModelInput(\n",
    "            weak_layer=weaklayer,\n",
    "            layers=new_layers,\n",
    "            scenario_config=scenario_config,\n",
    "            segments=segments,\n",
    "        )\n",
    "        system = SystemModel(model_input=model_input)\n",
    "        \n",
    "        cc_result: CoupledCriterionResult = criteria_evaluator.evaluate_coupled_criterion(system, print_call_stats=False)\n",
    "        sserr_result: SSERRResult = criteria_evaluator.evaluate_SSERR(system, vertical=False, print_call_stats=False)\n",
    "\n",
    "        data_rows.append({\n",
    "            \"wl_depth\": wl_depth,\n",
    "            \"impact_criterion\": cc_result.initial_critical_skier_weight,\n",
    "            \"coupled_criterion\": cc_result.critical_skier_weight,\n",
    "            \"sserr_result\": sserr_result.SSERR,\n",
    "            \"touchdown_distance\": sserr_result.touchdown_distance,\n",
    "        })\n",
    "    return data_rows"
   ]
  },
  {
   "cell_type": "code",
   "execution_count": 14,
   "id": "f2310c60",
   "metadata": {},
   "outputs": [
    {
     "name": "stdout",
     "output_type": "stream",
     "text": [
      "400\n"
     ]
    }
   ],
   "source": [
    "layers = []\n",
    "for i, depth in enumerate(depth_profile):\n",
    "    layers.append(Layer(rho=average_density[i], h=spacing))\n",
    "\n",
    "print(len(layers))\n",
    "\n",
    "# data_rows = eval_weac_over_layers(layers, scenario_config, segments, weaklayer, spacing=spacing)\n",
    "# dataframe = pd.DataFrame(data_rows)\n",
    "# dataframe.to_csv(\"data/misc/average_density_profile.csv\", index=False)"
   ]
  },
  {
   "cell_type": "code",
   "execution_count": 15,
   "id": "1d4aeb92",
   "metadata": {},
   "outputs": [
    {
     "data": {
      "application/vnd.plotly.v1+json": {
       "config": {
        "plotlyServerURL": "https://plot.ly"
       },
       "data": [
        {
         "mode": "lines",
         "name": "Impact Criterion",
         "type": "scatter",
         "x": {
          "bdata": "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",
          "dtype": "f8"
         },
         "y": {
          "bdata": "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",
          "dtype": "f8"
         }
        },
        {
         "mode": "lines",
         "name": "Coupled Criterion",
         "type": "scatter",
         "x": {
          "bdata": "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",
          "dtype": "f8"
         },
         "y": {
          "bdata": "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",
          "dtype": "f8"
         }
        },
        {
         "mode": "lines",
         "name": "SSERR",
         "type": "scatter",
         "x": {
          "bdata": "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",
          "dtype": "f8"
         },
         "y": {
          "bdata": "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",
          "dtype": "f8"
         }
        }
       ],
       "layout": {
        "template": {
         "data": {
          "bar": [
           {
            "error_x": {
             "color": "#2a3f5f"
            },
            "error_y": {
             "color": "#2a3f5f"
            },
            "marker": {
             "line": {
              "color": "#E5ECF6",
              "width": 0.5
             },
             "pattern": {
              "fillmode": "overlay",
              "size": 10,
              "solidity": 0.2
             }
            },
            "type": "bar"
           }
          ],
          "barpolar": [
           {
            "marker": {
             "line": {
              "color": "#E5ECF6",
              "width": 0.5
             },
             "pattern": {
              "fillmode": "overlay",
              "size": 10,
              "solidity": 0.2
             }
            },
            "type": "barpolar"
           }
          ],
          "carpet": [
           {
            "aaxis": {
             "endlinecolor": "#2a3f5f",
             "gridcolor": "white",
             "linecolor": "white",
             "minorgridcolor": "white",
             "startlinecolor": "#2a3f5f"
            },
            "baxis": {
             "endlinecolor": "#2a3f5f",
             "gridcolor": "white",
             "linecolor": "white",
             "minorgridcolor": "white",
             "startlinecolor": "#2a3f5f"
            },
            "type": "carpet"
           }
          ],
          "choropleth": [
           {
            "colorbar": {
             "outlinewidth": 0,
             "ticks": ""
            },
            "type": "choropleth"
           }
          ],
          "contour": [
           {
            "colorbar": {
             "outlinewidth": 0,
             "ticks": ""
            },
            "colorscale": [
             [
              0,
              "#0d0887"
             ],
             [
              0.1111111111111111,
              "#46039f"
             ],
             [
              0.2222222222222222,
              "#7201a8"
             ],
             [
              0.3333333333333333,
              "#9c179e"
             ],
             [
              0.4444444444444444,
              "#bd3786"
             ],
             [
              0.5555555555555556,
              "#d8576b"
             ],
             [
              0.6666666666666666,
              "#ed7953"
             ],
             [
              0.7777777777777778,
              "#fb9f3a"
             ],
             [
              0.8888888888888888,
              "#fdca26"
             ],
             [
              1,
              "#f0f921"
             ]
            ],
            "type": "contour"
           }
          ],
          "contourcarpet": [
           {
            "colorbar": {
             "outlinewidth": 0,
             "ticks": ""
            },
            "type": "contourcarpet"
           }
          ],
          "heatmap": [
           {
            "colorbar": {
             "outlinewidth": 0,
             "ticks": ""
            },
            "colorscale": [
             [
              0,
              "#0d0887"
             ],
             [
              0.1111111111111111,
              "#46039f"
             ],
             [
              0.2222222222222222,
              "#7201a8"
             ],
             [
              0.3333333333333333,
              "#9c179e"
             ],
             [
              0.4444444444444444,
              "#bd3786"
             ],
             [
              0.5555555555555556,
              "#d8576b"
             ],
             [
              0.6666666666666666,
              "#ed7953"
             ],
             [
              0.7777777777777778,
              "#fb9f3a"
             ],
             [
              0.8888888888888888,
              "#fdca26"
             ],
             [
              1,
              "#f0f921"
             ]
            ],
            "type": "heatmap"
           }
          ],
          "histogram": [
           {
            "marker": {
             "pattern": {
              "fillmode": "overlay",
              "size": 10,
              "solidity": 0.2
             }
            },
            "type": "histogram"
           }
          ],
          "histogram2d": [
           {
            "colorbar": {
             "outlinewidth": 0,
             "ticks": ""
            },
            "colorscale": [
             [
              0,
              "#0d0887"
             ],
             [
              0.1111111111111111,
              "#46039f"
             ],
             [
              0.2222222222222222,
              "#7201a8"
             ],
             [
              0.3333333333333333,
              "#9c179e"
             ],
             [
              0.4444444444444444,
              "#bd3786"
             ],
             [
              0.5555555555555556,
              "#d8576b"
             ],
             [
              0.6666666666666666,
              "#ed7953"
             ],
             [
              0.7777777777777778,
              "#fb9f3a"
             ],
             [
              0.8888888888888888,
              "#fdca26"
             ],
             [
              1,
              "#f0f921"
             ]
            ],
            "type": "histogram2d"
           }
          ],
          "histogram2dcontour": [
           {
            "colorbar": {
             "outlinewidth": 0,
             "ticks": ""
            },
            "colorscale": [
             [
              0,
              "#0d0887"
             ],
             [
              0.1111111111111111,
              "#46039f"
             ],
             [
              0.2222222222222222,
              "#7201a8"
             ],
             [
              0.3333333333333333,
              "#9c179e"
             ],
             [
              0.4444444444444444,
              "#bd3786"
             ],
             [
              0.5555555555555556,
              "#d8576b"
             ],
             [
              0.6666666666666666,
              "#ed7953"
             ],
             [
              0.7777777777777778,
              "#fb9f3a"
             ],
             [
              0.8888888888888888,
              "#fdca26"
             ],
             [
              1,
              "#f0f921"
             ]
            ],
            "type": "histogram2dcontour"
           }
          ],
          "mesh3d": [
           {
            "colorbar": {
             "outlinewidth": 0,
             "ticks": ""
            },
            "type": "mesh3d"
           }
          ],
          "parcoords": [
           {
            "line": {
             "colorbar": {
              "outlinewidth": 0,
              "ticks": ""
             }
            },
            "type": "parcoords"
           }
          ],
          "pie": [
           {
            "automargin": true,
            "type": "pie"
           }
          ],
          "scatter": [
           {
            "fillpattern": {
             "fillmode": "overlay",
             "size": 10,
             "solidity": 0.2
            },
            "type": "scatter"
           }
          ],
          "scatter3d": [
           {
            "line": {
             "colorbar": {
              "outlinewidth": 0,
              "ticks": ""
             }
            },
            "marker": {
             "colorbar": {
              "outlinewidth": 0,
              "ticks": ""
             }
            },
            "type": "scatter3d"
           }
          ],
          "scattercarpet": [
           {
            "marker": {
             "colorbar": {
              "outlinewidth": 0,
              "ticks": ""
             }
            },
            "type": "scattercarpet"
           }
          ],
          "scattergeo": [
           {
            "marker": {
             "colorbar": {
              "outlinewidth": 0,
              "ticks": ""
             }
            },
            "type": "scattergeo"
           }
          ],
          "scattergl": [
           {
            "marker": {
             "colorbar": {
              "outlinewidth": 0,
              "ticks": ""
             }
            },
            "type": "scattergl"
           }
          ],
          "scattermap": [
           {
            "marker": {
             "colorbar": {
              "outlinewidth": 0,
              "ticks": ""
             }
            },
            "type": "scattermap"
           }
          ],
          "scattermapbox": [
           {
            "marker": {
             "colorbar": {
              "outlinewidth": 0,
              "ticks": ""
             }
            },
            "type": "scattermapbox"
           }
          ],
          "scatterpolar": [
           {
            "marker": {
             "colorbar": {
              "outlinewidth": 0,
              "ticks": ""
             }
            },
            "type": "scatterpolar"
           }
          ],
          "scatterpolargl": [
           {
            "marker": {
             "colorbar": {
              "outlinewidth": 0,
              "ticks": ""
             }
            },
            "type": "scatterpolargl"
           }
          ],
          "scatterternary": [
           {
            "marker": {
             "colorbar": {
              "outlinewidth": 0,
              "ticks": ""
             }
            },
            "type": "scatterternary"
           }
          ],
          "surface": [
           {
            "colorbar": {
             "outlinewidth": 0,
             "ticks": ""
            },
            "colorscale": [
             [
              0,
              "#0d0887"
             ],
             [
              0.1111111111111111,
              "#46039f"
             ],
             [
              0.2222222222222222,
              "#7201a8"
             ],
             [
              0.3333333333333333,
              "#9c179e"
             ],
             [
              0.4444444444444444,
              "#bd3786"
             ],
             [
              0.5555555555555556,
              "#d8576b"
             ],
             [
              0.6666666666666666,
              "#ed7953"
             ],
             [
              0.7777777777777778,
              "#fb9f3a"
             ],
             [
              0.8888888888888888,
              "#fdca26"
             ],
             [
              1,
              "#f0f921"
             ]
            ],
            "type": "surface"
           }
          ],
          "table": [
           {
            "cells": {
             "fill": {
              "color": "#EBF0F8"
             },
             "line": {
              "color": "white"
             }
            },
            "header": {
             "fill": {
              "color": "#C8D4E3"
             },
             "line": {
              "color": "white"
             }
            },
            "type": "table"
           }
          ]
         },
         "layout": {
          "annotationdefaults": {
           "arrowcolor": "#2a3f5f",
           "arrowhead": 0,
           "arrowwidth": 1
          },
          "autotypenumbers": "strict",
          "coloraxis": {
           "colorbar": {
            "outlinewidth": 0,
            "ticks": ""
           }
          },
          "colorscale": {
           "diverging": [
            [
             0,
             "#8e0152"
            ],
            [
             0.1,
             "#c51b7d"
            ],
            [
             0.2,
             "#de77ae"
            ],
            [
             0.3,
             "#f1b6da"
            ],
            [
             0.4,
             "#fde0ef"
            ],
            [
             0.5,
             "#f7f7f7"
            ],
            [
             0.6,
             "#e6f5d0"
            ],
            [
             0.7,
             "#b8e186"
            ],
            [
             0.8,
             "#7fbc41"
            ],
            [
             0.9,
             "#4d9221"
            ],
            [
             1,
             "#276419"
            ]
           ],
           "sequential": [
            [
             0,
             "#0d0887"
            ],
            [
             0.1111111111111111,
             "#46039f"
            ],
            [
             0.2222222222222222,
             "#7201a8"
            ],
            [
             0.3333333333333333,
             "#9c179e"
            ],
            [
             0.4444444444444444,
             "#bd3786"
            ],
            [
             0.5555555555555556,
             "#d8576b"
            ],
            [
             0.6666666666666666,
             "#ed7953"
            ],
            [
             0.7777777777777778,
             "#fb9f3a"
            ],
            [
             0.8888888888888888,
             "#fdca26"
            ],
            [
             1,
             "#f0f921"
            ]
           ],
           "sequentialminus": [
            [
             0,
             "#0d0887"
            ],
            [
             0.1111111111111111,
             "#46039f"
            ],
            [
             0.2222222222222222,
             "#7201a8"
            ],
            [
             0.3333333333333333,
             "#9c179e"
            ],
            [
             0.4444444444444444,
             "#bd3786"
            ],
            [
             0.5555555555555556,
             "#d8576b"
            ],
            [
             0.6666666666666666,
             "#ed7953"
            ],
            [
             0.7777777777777778,
             "#fb9f3a"
            ],
            [
             0.8888888888888888,
             "#fdca26"
            ],
            [
             1,
             "#f0f921"
            ]
           ]
          },
          "colorway": [
           "#636efa",
           "#EF553B",
           "#00cc96",
           "#ab63fa",
           "#FFA15A",
           "#19d3f3",
           "#FF6692",
           "#B6E880",
           "#FF97FF",
           "#FECB52"
          ],
          "font": {
           "color": "#2a3f5f"
          },
          "geo": {
           "bgcolor": "white",
           "lakecolor": "white",
           "landcolor": "#E5ECF6",
           "showlakes": true,
           "showland": true,
           "subunitcolor": "white"
          },
          "hoverlabel": {
           "align": "left"
          },
          "hovermode": "closest",
          "mapbox": {
           "style": "light"
          },
          "paper_bgcolor": "white",
          "plot_bgcolor": "#E5ECF6",
          "polar": {
           "angularaxis": {
            "gridcolor": "white",
            "linecolor": "white",
            "ticks": ""
           },
           "bgcolor": "#E5ECF6",
           "radialaxis": {
            "gridcolor": "white",
            "linecolor": "white",
            "ticks": ""
           }
          },
          "scene": {
           "xaxis": {
            "backgroundcolor": "#E5ECF6",
            "gridcolor": "white",
            "gridwidth": 2,
            "linecolor": "white",
            "showbackground": true,
            "ticks": "",
            "zerolinecolor": "white"
           },
           "yaxis": {
            "backgroundcolor": "#E5ECF6",
            "gridcolor": "white",
            "gridwidth": 2,
            "linecolor": "white",
            "showbackground": true,
            "ticks": "",
            "zerolinecolor": "white"
           },
           "zaxis": {
            "backgroundcolor": "#E5ECF6",
            "gridcolor": "white",
            "gridwidth": 2,
            "linecolor": "white",
            "showbackground": true,
            "ticks": "",
            "zerolinecolor": "white"
           }
          },
          "shapedefaults": {
           "line": {
            "color": "#2a3f5f"
           }
          },
          "ternary": {
           "aaxis": {
            "gridcolor": "white",
            "linecolor": "white",
            "ticks": ""
           },
           "baxis": {
            "gridcolor": "white",
            "linecolor": "white",
            "ticks": ""
           },
           "bgcolor": "#E5ECF6",
           "caxis": {
            "gridcolor": "white",
            "linecolor": "white",
            "ticks": ""
           }
          },
          "title": {
           "x": 0.05
          },
          "xaxis": {
           "automargin": true,
           "gridcolor": "white",
           "linecolor": "white",
           "ticks": "",
           "title": {
            "standoff": 15
           },
           "zerolinecolor": "white",
           "zerolinewidth": 2
          },
          "yaxis": {
           "automargin": true,
           "gridcolor": "white",
           "linecolor": "white",
           "ticks": "",
           "title": {
            "standoff": 15
           },
           "zerolinecolor": "white",
           "zerolinewidth": 2
          }
         }
        }
       }
      }
     },
     "metadata": {},
     "output_type": "display_data"
    },
    {
     "data": {
      "application/vnd.plotly.v1+json": {
       "config": {
        "plotlyServerURL": "https://plot.ly"
       },
       "data": [
        {
         "mode": "lines",
         "name": "Density",
         "type": "scatter",
         "x": [
          137.06439094238814,
          136.66971308156042,
          136.57830987092993,
          137.44609858548063,
          138.15601683721817,
          140.72867205300216,
          141.43036535318817,
          142.43252969543033,
          144.46279799340957,
          145.66975004410017,
          150.76430275276525,
          151.9769512011494,
          154.7059321938312,
          156.6730764622009,
          158.40422919140858,
          163.90928948506524,
          165.25659340270246,
          167.1565948350475,
          169.27333552054523,
          170.63456235415717,
          176.2502303660858,
          177.29561765484368,
          178.93349722846003,
          180.85882401625426,
          182.0125657444593,
          185.9112441106706,
          187.10287662234654,
          188.49625177174482,
          189.96924117615788,
          191.38841370998605,
          196.52972955987457,
          197.32057173934115,
          197.94207445947325,
          199.65164811012943,
          200.97547908788408,
          204.36606591066143,
          205.11618762346407,
          205.67487414225187,
          206.94071207141855,
          207.79497811791333,
          210.7588908682732,
          211.16812424623325,
          211.97711477025194,
          212.87148478114798,
          213.8426598997257,
          215.79357754452647,
          216.3836418764965,
          216.9549472956117,
          217.75991940348504,
          218.2527494504926,
          220.67833669672402,
          220.9602785168426,
          221.76017621982078,
          222.11597563440134,
          223.0061912906403,
          224.97543904470348,
          225.59273742911373,
          226.0545310553724,
          227.14395660918606,
          227.55742361120627,
          229.10922745798104,
          229.46513011465018,
          230.17193686854867,
          230.77376282890054,
          230.88327700995828,
          232.3412804908307,
          232.52322611738438,
          232.93282039642116,
          232.95709882547004,
          233.26870488732266,
          234.18202628696733,
          234.15657456342754,
          234.61884737048175,
          234.70984051333053,
          234.7487507204172,
          236.42730540763645,
          236.68692720696367,
          236.64586013475292,
          237.26040341419943,
          237.35009633913626,
          238.23343757209284,
          238.2760780497479,
          238.65976266733406,
          238.98859564639682,
          239.02299256277146,
          240.2252167556617,
          240.37244660932583,
          240.8996720884001,
          241.24606739914273,
          241.05052101337338,
          242.21219173930626,
          242.37814793595086,
          242.39423971206102,
          242.49731049177367,
          242.57273289865557,
          243.2122371505112,
          243.2500870993803,
          243.43723426278294,
          243.8614832716655,
          243.96396650364204,
          243.25439376399672,
          243.56528132332127,
          243.53658963543987,
          243.61520708970357,
          243.75758321556185,
          244.86934816530325,
          245.34421299242118,
          245.58975354578405,
          245.66532652795436,
          245.80789907843874,
          246.20192427005753,
          246.58389373030477,
          246.65051156226622,
          246.71910548258452,
          246.96449386776047,
          247.36916926616965,
          247.72326239639267,
          247.74843467221194,
          247.37716292922946,
          247.49723547823754,
          247.82389662837275,
          247.68535823736846,
          247.92344549978856,
          248.00179238134024,
          248.12092955471616,
          249.2707730451968,
          249.1272010792297,
          249.4619247072853,
          249.7471609204063,
          249.9439695015308,
          250.1797190436157,
          250.11959396296982,
          250.117736238596,
          250.02939400578532,
          249.74003682002981,
          249.80067322222527,
          249.9946471939358,
          249.81333111956482,
          250.51734117214087,
          251.05873502812625,
          251.30644471325496,
          251.08311260132956,
          251.43088757062742,
          251.62603976811045,
          251.79861918129464,
          252.52063289639463,
          252.61633945250557,
          251.2220436683107,
          252.01455423325461,
          251.57596843975728,
          252.29228777476786,
          252.99555629363178,
          252.83528982523734,
          252.45525782307095,
          253.2284485262924,
          253.5937572592022,
          253.86187769848792,
          253.99267213011626,
          255.17487521368938,
          255.2708454787822,
          254.91552434450426,
          255.00616845404178,
          255.33508605453562,
          255.80056150086193,
          255.1298532122176,
          256.2507613304296,
          256.80958959658915,
          256.6056861589246,
          257.3234520443762,
          257.2918956519371,
          259.72178586827107,
          260.165241056921,
          259.7476402964504,
          260.2940706796389,
          260.47887999087027,
          261.659007693357,
          261.67632699708065,
          261.35336594875315,
          261.57468533182697,
          261.5493399238919,
          264.482204391731,
          265.33348869505755,
          265.81270260809345,
          268.186115904162,
          269.2685046952769,
          270.96349909192236,
          271.0757594587879,
          271.18305858772686,
          271.4351835605666,
          271.6630347232057,
          273.44889656203,
          273.52684725929123,
          272.66959756897006,
          274.3764419448506,
          274.0815063558037,
          273.00102362971194,
          273.1569298295661,
          274.106524445337,
          273.9483596393033,
          272.93383321238684,
          271.0065655752983,
          272.73073232227625,
          272.5625647733051,
          273.18342342122816,
          273.0405669686778,
          271.1456383418933,
          271.9714968124116,
          271.18127622243344,
          270.9955075810354,
          272.83694413157326,
          275.8548881811381,
          276.0290251113534,
          275.82316226966424,
          275.58028867722896,
          275.8267965482802,
          276.45954554750335,
          277.819737620928,
          277.54531521250664,
          278.0647405389372,
          279.9060004023522,
          282.8726487008783,
          282.90233128282824,
          282.79408034339264,
          282.87964418384405,
          282.87964418384405,
          286.43290967546267,
          286.63825116131056,
          286.98160116931484,
          286.42513842994873,
          286.91599971843726,
          288.7481462493337,
          288.85983851661734,
          288.54662909692007,
          287.81235181306295,
          287.79985724899416,
          290.94024848758477,
          291.4056127673971,
          291.9175273658641,
          286.8770557505355,
          286.7247954823569,
          286.6149799914981,
          286.9565978489658,
          287.5874662126131,
          287.5874662126131,
          287.2971999375826,
          285.2154536825755,
          286.11135934936175,
          286.8998555899633,
          288.2381120717054,
          288.4830594921001,
          291.6959042176506,
          292.2760413229752,
          292.9541663138506,
          293.2573285130814,
          293.65690086847144,
          295.83906806558,
          295.0600061653854,
          295.0600061653854,
          294.2068690918183,
          294.2068690918183,
          295.42254359865154,
          294.3984575771462,
          293.37695220080207,
          293.37695220080207,
          293.5669190725499,
          293.9689066555243,
          294.87442320441284,
          294.87442320441284,
          293.1641400364965,
          293.3949733698298,
          299.3793035075427,
          299.05996977115814,
          299.2294133759126,
          299.2294133759126,
          299.2294133759126,
          304.149270095508,
          305.81568800595585,
          304.8904641253588,
          305.0819863090764,
          304.65063225229295,
          305.1167147848276,
          305.1167147848276,
          305.1167147848276,
          305.5482472966854,
          305.5482472966854,
          305.80983265377967,
          306.308798171021,
          306.308798171021,
          306.308798171021,
          303.870066815525,
          302.687161369099,
          302.687161369099,
          302.687161369099,
          301.23270517027396,
          302.87826072582953,
          306.5930603763685,
          306.5930603763685,
          306.5930603763685,
          304.52751598141106,
          304.52751598141106,
          307.69055849935984,
          307.69055849935984,
          299.51699739676286,
          300.61648457625006,
          303.17316087789504,
          304.7128603817146,
          304.7128603817146,
          304.7128603817146,
          308.30143181028603,
          308.30143181028603,
          309.2109410425004,
          309.2109410425004,
          310.2500035425004,
          310.2500035425004,
          310.2500035425004,
          307.2980681729037,
          306.43733711200053,
          302.7506704453338,
          302.4789694262074,
          302.4789694262074,
          308.9591774568467,
          311.80599563866485,
          311.80599563866485,
          312.7372335262204,
          307.35009066907753,
          304.7175952025314,
          304.7175952025314,
          304.7175952025314,
          296.9361755735738,
          296.9361755735738,
          296.30755323534083,
          296.30755323534083,
          290.7880795511303,
          290.7880795511303,
          294.2054479721829,
          289.49463952619305,
          289.49463952619305,
          289.4131477336162,
          291.817265380675,
          291.817265380675,
          294.0937359689103,
          294.0937359689103,
          294.0937359689103,
          294.0937359689103,
          294.0937359689103,
          295.8609007647652,
          295.8609007647652,
          303.5223936765341,
          303.5223936765341,
          303.5223936765341,
          313.7875919519524,
          310.38762965852163,
          310.38762965852163,
          310.38762965852163,
          310.38762965852163,
          310.38762965852163,
          310.38762965852163,
          310.38762965852163,
          308.07462965852164,
          307.72958850946844,
          312.08703707315203,
          312.08703707315203,
          312.08703707315203,
          312.08703707315203,
          306.97828707315205,
          312.47828707315205,
          312.47828707315205,
          312.47828707315205,
          312.47828707315205,
          312.47828707315205,
          312.47828707315205,
          312.47828707315205,
          312.47828707315205,
          312.47828707315205,
          312.47828707315205,
          312.47828707315205,
          312.47828707315205,
          312.47828707315205,
          312.47828707315205,
          312.47828707315205,
          310.66875,
          321.4785714285714,
          321.4785714285714,
          318.7253994436647,
          318.7253994436647,
          320.47129935094216,
          320.47129935094216,
          320.47129935094216,
          320.47129935094216,
          320.47129935094216,
          328.99444902641324,
          328.99444902641324,
          328.99444902641324,
          328.99444902641324,
          328.99444902641324,
          328.99444902641324,
          328.99444902641324,
          328.99444902641324,
          328.99444902641324,
          328.99444902641324
         ],
         "y": {
          "bdata": "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",
          "dtype": "f8"
         }
        }
       ],
       "layout": {
        "template": {
         "data": {
          "bar": [
           {
            "error_x": {
             "color": "#2a3f5f"
            },
            "error_y": {
             "color": "#2a3f5f"
            },
            "marker": {
             "line": {
              "color": "#E5ECF6",
              "width": 0.5
             },
             "pattern": {
              "fillmode": "overlay",
              "size": 10,
              "solidity": 0.2
             }
            },
            "type": "bar"
           }
          ],
          "barpolar": [
           {
            "marker": {
             "line": {
              "color": "#E5ECF6",
              "width": 0.5
             },
             "pattern": {
              "fillmode": "overlay",
              "size": 10,
              "solidity": 0.2
             }
            },
            "type": "barpolar"
           }
          ],
          "carpet": [
           {
            "aaxis": {
             "endlinecolor": "#2a3f5f",
             "gridcolor": "white",
             "linecolor": "white",
             "minorgridcolor": "white",
             "startlinecolor": "#2a3f5f"
            },
            "baxis": {
             "endlinecolor": "#2a3f5f",
             "gridcolor": "white",
             "linecolor": "white",
             "minorgridcolor": "white",
             "startlinecolor": "#2a3f5f"
            },
            "type": "carpet"
           }
          ],
          "choropleth": [
           {
            "colorbar": {
             "outlinewidth": 0,
             "ticks": ""
            },
            "type": "choropleth"
           }
          ],
          "contour": [
           {
            "colorbar": {
             "outlinewidth": 0,
             "ticks": ""
            },
            "colorscale": [
             [
              0,
              "#0d0887"
             ],
             [
              0.1111111111111111,
              "#46039f"
             ],
             [
              0.2222222222222222,
              "#7201a8"
             ],
             [
              0.3333333333333333,
              "#9c179e"
             ],
             [
              0.4444444444444444,
              "#bd3786"
             ],
             [
              0.5555555555555556,
              "#d8576b"
             ],
             [
              0.6666666666666666,
              "#ed7953"
             ],
             [
              0.7777777777777778,
              "#fb9f3a"
             ],
             [
              0.8888888888888888,
              "#fdca26"
             ],
             [
              1,
              "#f0f921"
             ]
            ],
            "type": "contour"
           }
          ],
          "contourcarpet": [
           {
            "colorbar": {
             "outlinewidth": 0,
             "ticks": ""
            },
            "type": "contourcarpet"
           }
          ],
          "heatmap": [
           {
            "colorbar": {
             "outlinewidth": 0,
             "ticks": ""
            },
            "colorscale": [
             [
              0,
              "#0d0887"
             ],
             [
              0.1111111111111111,
              "#46039f"
             ],
             [
              0.2222222222222222,
              "#7201a8"
             ],
             [
              0.3333333333333333,
              "#9c179e"
             ],
             [
              0.4444444444444444,
              "#bd3786"
             ],
             [
              0.5555555555555556,
              "#d8576b"
             ],
             [
              0.6666666666666666,
              "#ed7953"
             ],
             [
              0.7777777777777778,
              "#fb9f3a"
             ],
             [
              0.8888888888888888,
              "#fdca26"
             ],
             [
              1,
              "#f0f921"
             ]
            ],
            "type": "heatmap"
           }
          ],
          "histogram": [
           {
            "marker": {
             "pattern": {
              "fillmode": "overlay",
              "size": 10,
              "solidity": 0.2
             }
            },
            "type": "histogram"
           }
          ],
          "histogram2d": [
           {
            "colorbar": {
             "outlinewidth": 0,
             "ticks": ""
            },
            "colorscale": [
             [
              0,
              "#0d0887"
             ],
             [
              0.1111111111111111,
              "#46039f"
             ],
             [
              0.2222222222222222,
              "#7201a8"
             ],
             [
              0.3333333333333333,
              "#9c179e"
             ],
             [
              0.4444444444444444,
              "#bd3786"
             ],
             [
              0.5555555555555556,
              "#d8576b"
             ],
             [
              0.6666666666666666,
              "#ed7953"
             ],
             [
              0.7777777777777778,
              "#fb9f3a"
             ],
             [
              0.8888888888888888,
              "#fdca26"
             ],
             [
              1,
              "#f0f921"
             ]
            ],
            "type": "histogram2d"
           }
          ],
          "histogram2dcontour": [
           {
            "colorbar": {
             "outlinewidth": 0,
             "ticks": ""
            },
            "colorscale": [
             [
              0,
              "#0d0887"
             ],
             [
              0.1111111111111111,
              "#46039f"
             ],
             [
              0.2222222222222222,
              "#7201a8"
             ],
             [
              0.3333333333333333,
              "#9c179e"
             ],
             [
              0.4444444444444444,
              "#bd3786"
             ],
             [
              0.5555555555555556,
              "#d8576b"
             ],
             [
              0.6666666666666666,
              "#ed7953"
             ],
             [
              0.7777777777777778,
              "#fb9f3a"
             ],
             [
              0.8888888888888888,
              "#fdca26"
             ],
             [
              1,
              "#f0f921"
             ]
            ],
            "type": "histogram2dcontour"
           }
          ],
          "mesh3d": [
           {
            "colorbar": {
             "outlinewidth": 0,
             "ticks": ""
            },
            "type": "mesh3d"
           }
          ],
          "parcoords": [
           {
            "line": {
             "colorbar": {
              "outlinewidth": 0,
              "ticks": ""
             }
            },
            "type": "parcoords"
           }
          ],
          "pie": [
           {
            "automargin": true,
            "type": "pie"
           }
          ],
          "scatter": [
           {
            "fillpattern": {
             "fillmode": "overlay",
             "size": 10,
             "solidity": 0.2
            },
            "type": "scatter"
           }
          ],
          "scatter3d": [
           {
            "line": {
             "colorbar": {
              "outlinewidth": 0,
              "ticks": ""
             }
            },
            "marker": {
             "colorbar": {
              "outlinewidth": 0,
              "ticks": ""
             }
            },
            "type": "scatter3d"
           }
          ],
          "scattercarpet": [
           {
            "marker": {
             "colorbar": {
              "outlinewidth": 0,
              "ticks": ""
             }
            },
            "type": "scattercarpet"
           }
          ],
          "scattergeo": [
           {
            "marker": {
             "colorbar": {
              "outlinewidth": 0,
              "ticks": ""
             }
            },
            "type": "scattergeo"
           }
          ],
          "scattergl": [
           {
            "marker": {
             "colorbar": {
              "outlinewidth": 0,
              "ticks": ""
             }
            },
            "type": "scattergl"
           }
          ],
          "scattermap": [
           {
            "marker": {
             "colorbar": {
              "outlinewidth": 0,
              "ticks": ""
             }
            },
            "type": "scattermap"
           }
          ],
          "scattermapbox": [
           {
            "marker": {
             "colorbar": {
              "outlinewidth": 0,
              "ticks": ""
             }
            },
            "type": "scattermapbox"
           }
          ],
          "scatterpolar": [
           {
            "marker": {
             "colorbar": {
              "outlinewidth": 0,
              "ticks": ""
             }
            },
            "type": "scatterpolar"
           }
          ],
          "scatterpolargl": [
           {
            "marker": {
             "colorbar": {
              "outlinewidth": 0,
              "ticks": ""
             }
            },
            "type": "scatterpolargl"
           }
          ],
          "scatterternary": [
           {
            "marker": {
             "colorbar": {
              "outlinewidth": 0,
              "ticks": ""
             }
            },
            "type": "scatterternary"
           }
          ],
          "surface": [
           {
            "colorbar": {
             "outlinewidth": 0,
             "ticks": ""
            },
            "colorscale": [
             [
              0,
              "#0d0887"
             ],
             [
              0.1111111111111111,
              "#46039f"
             ],
             [
              0.2222222222222222,
              "#7201a8"
             ],
             [
              0.3333333333333333,
              "#9c179e"
             ],
             [
              0.4444444444444444,
              "#bd3786"
             ],
             [
              0.5555555555555556,
              "#d8576b"
             ],
             [
              0.6666666666666666,
              "#ed7953"
             ],
             [
              0.7777777777777778,
              "#fb9f3a"
             ],
             [
              0.8888888888888888,
              "#fdca26"
             ],
             [
              1,
              "#f0f921"
             ]
            ],
            "type": "surface"
           }
          ],
          "table": [
           {
            "cells": {
             "fill": {
              "color": "#EBF0F8"
             },
             "line": {
              "color": "white"
             }
            },
            "header": {
             "fill": {
              "color": "#C8D4E3"
             },
             "line": {
              "color": "white"
             }
            },
            "type": "table"
           }
          ]
         },
         "layout": {
          "annotationdefaults": {
           "arrowcolor": "#2a3f5f",
           "arrowhead": 0,
           "arrowwidth": 1
          },
          "autotypenumbers": "strict",
          "coloraxis": {
           "colorbar": {
            "outlinewidth": 0,
            "ticks": ""
           }
          },
          "colorscale": {
           "diverging": [
            [
             0,
             "#8e0152"
            ],
            [
             0.1,
             "#c51b7d"
            ],
            [
             0.2,
             "#de77ae"
            ],
            [
             0.3,
             "#f1b6da"
            ],
            [
             0.4,
             "#fde0ef"
            ],
            [
             0.5,
             "#f7f7f7"
            ],
            [
             0.6,
             "#e6f5d0"
            ],
            [
             0.7,
             "#b8e186"
            ],
            [
             0.8,
             "#7fbc41"
            ],
            [
             0.9,
             "#4d9221"
            ],
            [
             1,
             "#276419"
            ]
           ],
           "sequential": [
            [
             0,
             "#0d0887"
            ],
            [
             0.1111111111111111,
             "#46039f"
            ],
            [
             0.2222222222222222,
             "#7201a8"
            ],
            [
             0.3333333333333333,
             "#9c179e"
            ],
            [
             0.4444444444444444,
             "#bd3786"
            ],
            [
             0.5555555555555556,
             "#d8576b"
            ],
            [
             0.6666666666666666,
             "#ed7953"
            ],
            [
             0.7777777777777778,
             "#fb9f3a"
            ],
            [
             0.8888888888888888,
             "#fdca26"
            ],
            [
             1,
             "#f0f921"
            ]
           ],
           "sequentialminus": [
            [
             0,
             "#0d0887"
            ],
            [
             0.1111111111111111,
             "#46039f"
            ],
            [
             0.2222222222222222,
             "#7201a8"
            ],
            [
             0.3333333333333333,
             "#9c179e"
            ],
            [
             0.4444444444444444,
             "#bd3786"
            ],
            [
             0.5555555555555556,
             "#d8576b"
            ],
            [
             0.6666666666666666,
             "#ed7953"
            ],
            [
             0.7777777777777778,
             "#fb9f3a"
            ],
            [
             0.8888888888888888,
             "#fdca26"
            ],
            [
             1,
             "#f0f921"
            ]
           ]
          },
          "colorway": [
           "#636efa",
           "#EF553B",
           "#00cc96",
           "#ab63fa",
           "#FFA15A",
           "#19d3f3",
           "#FF6692",
           "#B6E880",
           "#FF97FF",
           "#FECB52"
          ],
          "font": {
           "color": "#2a3f5f"
          },
          "geo": {
           "bgcolor": "white",
           "lakecolor": "white",
           "landcolor": "#E5ECF6",
           "showlakes": true,
           "showland": true,
           "subunitcolor": "white"
          },
          "hoverlabel": {
           "align": "left"
          },
          "hovermode": "closest",
          "mapbox": {
           "style": "light"
          },
          "paper_bgcolor": "white",
          "plot_bgcolor": "#E5ECF6",
          "polar": {
           "angularaxis": {
            "gridcolor": "white",
            "linecolor": "white",
            "ticks": ""
           },
           "bgcolor": "#E5ECF6",
           "radialaxis": {
            "gridcolor": "white",
            "linecolor": "white",
            "ticks": ""
           }
          },
          "scene": {
           "xaxis": {
            "backgroundcolor": "#E5ECF6",
            "gridcolor": "white",
            "gridwidth": 2,
            "linecolor": "white",
            "showbackground": true,
            "ticks": "",
            "zerolinecolor": "white"
           },
           "yaxis": {
            "backgroundcolor": "#E5ECF6",
            "gridcolor": "white",
            "gridwidth": 2,
            "linecolor": "white",
            "showbackground": true,
            "ticks": "",
            "zerolinecolor": "white"
           },
           "zaxis": {
            "backgroundcolor": "#E5ECF6",
            "gridcolor": "white",
            "gridwidth": 2,
            "linecolor": "white",
            "showbackground": true,
            "ticks": "",
            "zerolinecolor": "white"
           }
          },
          "shapedefaults": {
           "line": {
            "color": "#2a3f5f"
           }
          },
          "ternary": {
           "aaxis": {
            "gridcolor": "white",
            "linecolor": "white",
            "ticks": ""
           },
           "baxis": {
            "gridcolor": "white",
            "linecolor": "white",
            "ticks": ""
           },
           "bgcolor": "#E5ECF6",
           "caxis": {
            "gridcolor": "white",
            "linecolor": "white",
            "ticks": ""
           }
          },
          "title": {
           "x": 0.05
          },
          "xaxis": {
           "automargin": true,
           "gridcolor": "white",
           "linecolor": "white",
           "ticks": "",
           "title": {
            "standoff": 15
           },
           "zerolinecolor": "white",
           "zerolinewidth": 2
          },
          "yaxis": {
           "automargin": true,
           "gridcolor": "white",
           "linecolor": "white",
           "ticks": "",
           "title": {
            "standoff": 15
           },
           "zerolinecolor": "white",
           "zerolinewidth": 2
          }
         }
        }
       }
      }
     },
     "metadata": {},
     "output_type": "display_data"
    }
   ],
   "source": [
    "import pandas as pd\n",
    "import plotly.graph_objects as go\n",
    "\n",
    "dataframe = pd.read_csv(\"data/misc/average_density_profile.csv\")\n",
    "depths = dataframe[\"wl_depth\"]\n",
    "impact_criterion = dataframe[\"impact_criterion\"]\n",
    "coupled_criterion = dataframe[\"coupled_criterion\"]\n",
    "sserr_result = dataframe[\"sserr_result\"]\n",
    "touchdown_distance = dataframe[\"touchdown_distance\"]\n",
    "\n",
    "densities = [layer.rho for layer in layers]\n",
    "\n",
    "fig = go.Figure()\n",
    "fig.add_trace(go.Scatter(x=depths, y=impact_criterion, mode='lines', name='Impact Criterion'))\n",
    "fig.add_trace(go.Scatter(x=depths, y=coupled_criterion, mode='lines', name='Coupled Criterion'))\n",
    "fig.add_trace(go.Scatter(x=depths, y=sserr_result, mode='lines', name='SSERR'))\n",
    "fig.show()\n",
    "\n",
    "fig = go.Figure()\n",
    "fig.add_trace(go.Scatter(x=densities, y=depths, mode='lines', name='Density'))\n",
    "fig.show()"
   ]
  },
  {
   "cell_type": "code",
   "execution_count": null,
   "id": "fbf8842f",
   "metadata": {},
   "outputs": [],
   "source": []
  },
  {
   "cell_type": "code",
   "execution_count": null,
   "id": "1f8ab420",
   "metadata": {},
   "outputs": [],
   "source": []
  }
 ],
 "metadata": {
  "kernelspec": {
   "display_name": "layerwise",
   "language": "python",
   "name": "python3"
  },
  "language_info": {
   "codemirror_mode": {
    "name": "ipython",
    "version": 3
   },
   "file_extension": ".py",
   "mimetype": "text/x-python",
   "name": "python",
   "nbconvert_exporter": "python",
   "pygments_lexer": "ipython3",
   "version": "3.12.11"
  }
 },
 "nbformat": 4,
 "nbformat_minor": 5
}
